{
  "metadata": {
    "language_info": {
      "file_extension": ".sqlite3-console",
      "mimetype": "text/x-sqlite3-console",
      "name": "sqlite3",
      "version": "0.4.0"
    },
    "kernelspec": {
      "name": "SQLite",
      "display_name": "SQLite",
      "language": "sql"
    }
  },
  "nbformat_minor": 4,
  "nbformat": 4,
  "cells": [
    {
      "cell_type": "markdown",
      "source": "Aggregating Data",
      "metadata": {}
    },
    {
      "cell_type": "code",
      "source": "-- Latihan 1\n-- Sum the demand_loss_mw column\nSELECT \n  SUM(demand_loss_mw) AS MRO_demand_loss\nFROM \n  grid \nWHERE\n  -- demand_loss_mw should not contain NULL values\n  demand_loss_mw is NOT NULL \n  -- and nerc_region should be 'MRO';\n  AND nerc_region = 'MRO';",
      "metadata": {},
      "execution_count": null,
      "outputs": []
    },
    {
      "cell_type": "code",
      "source": "-- Latihan 2\n-- Obtain a count of 'grid_id'\nSELECT \n  COUNT (grid_id) AS grid_total \nFROM \n  grid;",
      "metadata": {},
      "execution_count": null,
      "outputs": []
    },
    {
      "cell_type": "code",
      "source": "-- Obtain a count of 'grid_id'\nSELECT \n  COUNT(grid_id) AS RFC_count\nFROM \n  grid\n-- Restrict to rows where the nerc_region is 'RFC'\nWHERE\n  nerc_region = 'RFC';",
      "metadata": {},
      "execution_count": null,
      "outputs": []
    },
    {
      "cell_type": "code",
      "source": "-- Latihan 3\n-- Find the minimum number of affected customers\nSELECT \n  MIN (affected_customers) AS min_affected_customers\nFROM \n  grid\n-- Only retrieve rows where demand_loss_mw has a value\nWHERE\n  demand_loss_mw is NOT NULL;",
      "metadata": {},
      "execution_count": null,
      "outputs": []
    },
    {
      "cell_type": "code",
      "source": "-- Find the maximum number of affected customers\nSELECT \n  MAX (affected_customers) AS max_affected_customers \nFROM \n  grid\n-- Only retrieve rows where demand_loss_mw has a value\nWHERE \n  demand_loss_mw IS NOT NULL;",
      "metadata": {},
      "execution_count": null,
      "outputs": []
    },
    {
      "cell_type": "code",
      "source": "-- Find the average number of affected customers\nSELECT \n  AVG (affected_customers) AS avg_affected_customers \nFROM \n  grid\n-- Only retrieve rows where demand_loss_mw has a value\nWHERE \n  demand_loss_mw IS NOT NULL;",
      "metadata": {},
      "execution_count": null,
      "outputs": []
    },
    {
      "cell_type": "markdown",
      "source": "Strings",
      "metadata": {}
    },
    {
      "cell_type": "code",
      "source": "-- Latihan 1\n-- Calculate the length of the description column\nSELECT \n  LEN (description) AS description_length \nFROM \n  grid;",
      "metadata": {},
      "execution_count": null,
      "outputs": []
    },
    {
      "cell_type": "code",
      "source": "-- Latihan 2\n-- Select the first 25 characters from the left of the description column\nSELECT \n  LEFT (description, 25) AS first_25_left\nFROM \n  grid;",
      "metadata": {},
      "execution_count": null,
      "outputs": []
    },
    {
      "cell_type": "code",
      "source": "-- Amend the query to select 25 characters from the  right of the description column\nSELECT \n  RIGHT (description, 25) AS last_25_right\nFROM \n  grid;",
      "metadata": {},
      "execution_count": null,
      "outputs": []
    },
    {
      "cell_type": "code",
      "source": "-- Latihan 3\n-- Complete the query to find `Weather` within the description column\nSELECT \n  description, \n  CHARINDEX ('Weather', description) \nFROM \n  grid\nWHERE description LIKE '%Weather%';",
      "metadata": {},
      "execution_count": null,
      "outputs": []
    },
    {
      "cell_type": "code",
      "source": "-- Complete the query to find the length of `Weather'\nSELECT \n  description, \n  CHARINDEX('Weather', description) AS start_of_string,\n  LEN ('Weather') AS length_of_string \nFROM \n  grid\nWHERE description LIKE '%Weather%'; ",
      "metadata": {},
      "execution_count": null,
      "outputs": []
    },
    {
      "cell_type": "code",
      "source": "-- Complete the substring function to begin extracting from the correct character in the description column\nSELECT TOP (10)\n  description, \n  CHARINDEX('Weather', description) AS start_of_string, \n  LEN ('Weather') AS length_of_string, \n  SUBSTRING(\n    description, \n    15, \n    LEN(description)\n  ) AS additional_description \nFROM \n  grid\nWHERE description LIKE '%Weather%';",
      "metadata": {},
      "execution_count": null,
      "outputs": []
    },
    {
      "cell_type": "markdown",
      "source": "Grouping and Having",
      "metadata": {}
    },
    {
      "cell_type": "code",
      "source": "-- Latihan 1\n-- Select the region column\nSELECT \n  nerc_region,\n  -- Sum the demand_loss_mw column\n  SUM(demand_loss_mw) AS demand_loss\nFROM \n  grid\n  -- Exclude NULL values of demand_loss\nWHERE \n  demand_loss_mw is NOT NULL\n  -- Group the results by nerc_region\nGROUP BY \n  nerc_region\n  -- Order the results in descending order of demand_loss\nORDER BY \n  demand_loss DESC;",
      "metadata": {},
      "execution_count": null,
      "outputs": []
    },
    {
      "cell_type": "code",
      "source": "-- Retrieve all columns\nSELECT \n  * \nFROM \n  grid \n  -- Return rows where demand_loss_mw is not missing or unknown   \nWHERE \n  demand_loss_mw IS NOT NULL;",
      "metadata": {},
      "execution_count": null,
      "outputs": []
    },
    {
      "cell_type": "markdown",
      "source": "WHERE the wild things are",
      "metadata": {}
    },
    {
      "cell_type": "code",
      "source": "-- Latihan 1\n-- Retrieve the song, artist and release_year columns\nSELECT\n  song, \n  artist, \n  release_year\nFROM\n  songlist",
      "metadata": {},
      "execution_count": null,
      "outputs": []
    },
    {
      "cell_type": "code",
      "source": "-- Latihan 2\nSELECT \n  nerc_region, \n  SUM (demand_loss_mw) AS demand_loss \nFROM \n  grid \n  -- Remove the WHERE clause\n\nGROUP BY \n  nerc_region \n  -- Enter a new HAVING clause so that the sum of demand_loss_mw is greater than 10000\nHAVING\n  SUM(demand_loss_mw) > 10000\nORDER BY \n  demand_loss DESC;",
      "metadata": {},
      "execution_count": null,
      "outputs": []
    },
    {
      "cell_type": "code",
      "source": "-- Latihan 3\n-- Retrieve the minimum and maximum place, and point values\nSELECT \n  -- the lower the value the higher the place, so MIN = the highest placing\n  MIN(place) AS hi_place, \n  MAX(place) AS lo_place, \n  -- Retrieve the minimum and maximum points values. This time MIN = the lowest points value\n  MIN(points) AS min_points, \n  MAX(points) AS max_points \nFROM \n  eurovision;",
      "metadata": {},
      "execution_count": null,
      "outputs": []
    },
    {
      "cell_type": "code",
      "source": "-- Retrieve the minimum and maximum place, and point values\nSELECT \n  -- the lower the value the higher the place, so MIN = the highest placing\n  MIN(place) AS hi_place, \n  MAX(place) AS lo_place,  \n  -- Retrieve the minimum and maximum points values. This time MIN = the lowest points value\n  MIN(points) AS min_points, \n  MAX(points) AS max_points \nFROM \n  eurovision\n  -- Group by country\nGROUP BY\n  country;",
      "metadata": {},
      "execution_count": null,
      "outputs": []
    },
    {
      "cell_type": "code",
      "source": "-- Obtain a count for each country\nSELECT \n  COUNT (country) AS country_count, \n  -- Retrieve the country column\n  country, \n  -- Return the average of the Place column \n  AVG(place) AS average_place, \n  AVG(points) AS avg_points, \n  MIN(points) AS min_points, \n  MAX(points) AS max_points \nFROM \n  eurovision \nGROUP BY \n  country;",
      "metadata": {},
      "execution_count": null,
      "outputs": []
    },
    {
      "cell_type": "code",
      "source": "SELECT \n  country, \n  COUNT (country) AS country_count, \n  AVG (place) AS avg_place, \n  AVG (points) AS avg_points, \n  MIN (points) AS min_points, \n  MAX (points) AS max_points \nFROM \n  eurovision \nGROUP BY \n  country \n  -- The country column should only contain those with a count greater than 5\nHAVING \n  count (country) > 5 \n  -- Arrange columns in the correct order\nORDER BY \n  avg_place,\n  avg_points DESC;\n",
      "metadata": {},
      "execution_count": null,
      "outputs": []
    }
  ]
}