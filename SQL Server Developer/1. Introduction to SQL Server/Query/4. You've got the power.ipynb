{
  "cells": [
    {
      "cell_type": "markdown",
      "metadata": {},
      "source": [
        "Creator"
      ]
    },
    {
      "cell_type": "code",
      "execution_count": null,
      "metadata": {},
      "outputs": [],
      "source": [
        "-- Latihan 1\n",
        "\n",
        "CREATE TABLE results (\n",
        "\ttrack varchar(200),\n",
        "\tartist varchar(120),\n",
        "\talbum varchar(160),\n",
        ");"
      ]
    },
    {
      "cell_type": "code",
      "execution_count": null,
      "metadata": {},
      "outputs": [],
      "source": [
        "-- Create the table\n",
        "CREATE TABLE results (\n",
        "\t-- Create track column\n",
        "\ttrack VARCHAR(200),\n",
        "    -- Create artist column\n",
        "\tartist VARCHAR(120),\n",
        "    -- Create album column\n",
        "\talbum VARCHAR(160),\n",
        "\t-- Create track_length_mins\n",
        "\ttrack_length_mins INT,\n",
        "\t);"
      ]
    },
    {
      "cell_type": "code",
      "execution_count": null,
      "metadata": {},
      "outputs": [],
      "source": [
        "-- Create the table\n",
        "CREATE TABLE results (\n",
        "\t-- Create track column\n",
        "\ttrack VARCHAR(200),\n",
        "    -- Create artist column\n",
        "\tartist VARCHAR(120),\n",
        "    -- Create album column\n",
        "\talbum VARCHAR(160),\n",
        "\t-- Create track_length_mins\n",
        "\ttrack_length_mins INT,\n",
        "\t);\n",
        "\n",
        "-- Select all columns from the table\n",
        "SELECT \n",
        "  track,\n",
        "  artist,\n",
        "  album,\n",
        "  track_length_mins\n",
        "FROM\n",
        "  results;"
      ]
    },
    {
      "cell_type": "markdown",
      "metadata": {},
      "source": [
        "Insert, Update, Delete"
      ]
    },
    {
      "cell_type": "code",
      "execution_count": null,
      "metadata": {},
      "outputs": [],
      "source": [
        "-- Latihan 1\n",
        "-- Create the table\n",
        "CREATE TABLE tracks(\n",
        "\t-- Create track column\n",
        "\ttrack varchar(200),\n",
        "    -- Create album column\n",
        "  \talbum varchar(160),\n",
        "\t-- Create track_length_mins column\n",
        "\ttrack_length_mins INT\n",
        ");\n",
        "-- Select all columns from the new table\n",
        "SELECT\n",
        "  *\n",
        "FROM\n",
        "  tracks;"
      ]
    },
    {
      "cell_type": "code",
      "execution_count": null,
      "metadata": {},
      "outputs": [],
      "source": [
        "-- Create the table\n",
        "CREATE TABLE tracks(\n",
        "  -- Create track column\n",
        "  track VARCHAR(200),\n",
        "  -- Create album column\n",
        "  album VARCHAR(160),\n",
        "  -- Create track_length_mins column\n",
        "  track_length_mins INT\n",
        ");\n",
        "-- Complete the statement to enter the data to the table         \n",
        "INSERT INTO tracks\n",
        "-- Specify the destination columns\n",
        "(track,album,track_length_mins)\n",
        "-- Insert the appropriate values for track, album and track length\n",
        "VALUES\n",
        "  ('Basket Case', 'Dookie', 3);\n",
        "-- Select all columns from the new table\n",
        "SELECT\n",
        "  *\n",
        "FROM\n",
        "  tracks;"
      ]
    },
    {
      "cell_type": "code",
      "execution_count": null,
      "metadata": {},
      "outputs": [],
      "source": [
        "-- Latihan 2\n",
        "-- Select the album\n",
        "SELECT\n",
        "  title\n",
        "FROM\n",
        "  album\n",
        "WHERE\n",
        "  album_id = 213;"
      ]
    },
    {
      "cell_type": "code",
      "execution_count": null,
      "metadata": {},
      "outputs": [],
      "source": [
        "-- Run the query\n",
        "SELECT \n",
        "  title \n",
        "FROM \n",
        "  album \n",
        "WHERE \n",
        "  album_id = 213;\n",
        "-- UPDATE the album table\n",
        "UPDATE\n",
        "  album\n",
        "-- SET the new title    \n",
        "SET\n",
        "  title = 'Pure Cult: The Best Of The Cult'\n",
        "WHERE album_id = 213;\n"
      ]
    },
    {
      "cell_type": "code",
      "execution_count": null,
      "metadata": {},
      "outputs": [],
      "source": [
        "-- Select the album\n",
        "SELECT \n",
        "  title \n",
        "FROM \n",
        "  album \n",
        "WHERE \n",
        "  album_id = 213;\n",
        "-- UPDATE the title of the album\n",
        "UPDATE \n",
        "  album \n",
        "SET \n",
        "  title = 'Pure Cult: The Best Of The Cult' \n",
        "WHERE \n",
        "  album_id = 213;\n",
        "-- Run the query again\n",
        "SELECT \n",
        "  title \n",
        "FROM \n",
        "  album\n",
        "WHERE \n",
        "  album_id = 213;"
      ]
    },
    {
      "cell_type": "code",
      "execution_count": null,
      "metadata": {},
      "outputs": [],
      "source": [
        "-- Latihan 3\n",
        "-- Run the query\n",
        "SELECT \n",
        "  * \n",
        "FROM \n",
        "  album"
      ]
    },
    {
      "cell_type": "code",
      "execution_count": null,
      "metadata": {},
      "outputs": [],
      "source": [
        "-- Run the query\n",
        "SELECT\n",
        "  *\n",
        "FROM\n",
        "  album\n",
        "  -- DELETE the record\n",
        "DELETE FROM\n",
        "  album\n",
        "WHERE\n",
        "  album_id = 1;\n",
        "  -- Run the query again\n",
        "SELECT\n",
        "  *\n",
        "FROM\n",
        "  album;"
      ]
    },
    {
      "cell_type": "markdown",
      "metadata": {},
      "source": [
        "Declare yourself"
      ]
    },
    {
      "cell_type": "code",
      "execution_count": null,
      "metadata": {},
      "outputs": [],
      "source": [
        "-- Latihan 1\n",
        "-- Declare the variable @region, and specify the data type of the variable\n",
        "DECLARE @region VARCHAR(10)"
      ]
    },
    {
      "cell_type": "code",
      "execution_count": null,
      "metadata": {},
      "outputs": [],
      "source": [
        "-- Declare the variable @region\n",
        "DECLARE @region VARCHAR(10)\n",
        "\n",
        "-- Update the variable value\n",
        "SET @region='RFC'"
      ]
    },
    {
      "cell_type": "code",
      "execution_count": null,
      "metadata": {},
      "outputs": [],
      "source": [
        "-- Declare the variable @region\n",
        "DECLARE @region VARCHAR(10)\n",
        "\n",
        "-- Update the variable value\n",
        "SET @region = 'RFC'\n",
        "\n",
        "SELECT description,\n",
        "       nerc_region,\n",
        "       demand_loss_mw,\n",
        "       affected_customers\n",
        "FROM grid\n",
        "WHERE nerc_region = @region;"
      ]
    },
    {
      "cell_type": "code",
      "execution_count": null,
      "metadata": {},
      "outputs": [],
      "source": [
        "-- Latihan 2\n",
        "-- Declare @start\n",
        "DECLARE @start DATE\n",
        "\n",
        "-- SET @start to '2014-01-24'\n",
        "SET @start='2014-01-24'"
      ]
    },
    {
      "cell_type": "code",
      "execution_count": null,
      "metadata": {},
      "outputs": [],
      "source": [
        "-- Declare @start\n",
        "DECLARE @start DATE\n",
        "\n",
        "-- Declare @stop\n",
        "DECLARE @stop DATE\n",
        "\n",
        "-- SET @start to '2014-01-24'\n",
        "SET @start = '2014-01-24'\n",
        "\n",
        "-- SET @stop to '2014-07-02'\n",
        "SET @stop = '2014-07-02'"
      ]
    },
    {
      "cell_type": "code",
      "execution_count": null,
      "metadata": {},
      "outputs": [],
      "source": [
        "-- Declare @start\n",
        "DECLARE @start DATE\n",
        "\n",
        "-- Declare @stop\n",
        "DECLARE @stop DATE\n",
        "\n",
        "-- Declare @affected\n",
        "DECLARE @affected INT\n",
        "\n",
        "-- SET @start to '2014-01-24'\n",
        "SET @start = '2014-01-24'\n",
        "\n",
        "-- SET @stop to '2014-07-02'\n",
        "SET @stop  = '2014-07-02'\n",
        "\n",
        "-- Set @affected to 5000\n",
        "SET @affected =5000"
      ]
    },
    {
      "cell_type": "code",
      "execution_count": null,
      "metadata": {},
      "outputs": [],
      "source": [
        "-- Declare your variables\n",
        "DECLARE @start DATE\n",
        "DECLARE @stop DATE\n",
        "DECLARE @affected INT;\n",
        "-- SET the relevant values for each variable\n",
        "SET @start = '2014-01-24'\n",
        "SET @stop  = '2014-07-02'\n",
        "SET @affected =  5000 ;\n",
        "\n",
        "SELECT \n",
        "  description,\n",
        "  nerc_region,\n",
        "  demand_loss_mw,\n",
        "  affected_customers\n",
        "FROM \n",
        "  grid\n",
        "-- Specify the date range of the event_date and the value for @affected\n",
        "WHERE event_date BETWEEN @start AND @stop\n",
        "AND affected_customers >= @affected;"
      ]
    },
    {
      "cell_type": "code",
      "execution_count": null,
      "metadata": {},
      "outputs": [],
      "source": [
        "-- Latihan 3\n",
        "SELECT  \n",
        "  album.title AS album_title,\n",
        "  artist.name as artist,\n",
        "  MAX(track.milliseconds / (1000 * 60) % 60 ) AS max_track_length_mins\n",
        "-- Name the temp table #maxtracks\n",
        "INTO #maxtracks\n",
        "FROM album\n",
        "-- Join album to artist using artist_id\n",
        "INNER JOIN artist ON album.artist_id = artist.artist_id\n",
        "-- Join track to album using album_id\n",
        "INNER JOIN track ON track.album_id=album.album_id\n",
        "GROUP BY artist.artist_id, album.title, artist.name,album.album_id\n",
        "-- Run the final SELECT query to retrieve the results from the temporary table\n",
        "SELECT album_title, artist, max_track_length_mins\n",
        "FROM  #maxtracks\n",
        "ORDER BY max_track_length_mins DESC, artist;"
      ]
    }
  ],
  "metadata": {
    "kernelspec": {
      "display_name": "SQLite",
      "language": "sql",
      "name": "SQLite"
    },
    "language_info": {
      "file_extension": ".sqlite3-console",
      "mimetype": "text/x-sqlite3-console",
      "name": "sqlite3",
      "version": "0.4.0"
    }
  },
  "nbformat": 4,
  "nbformat_minor": 4
}
