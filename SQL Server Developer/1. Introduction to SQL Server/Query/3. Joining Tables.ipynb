{
  "cells": [
    {
      "cell_type": "markdown",
      "metadata": {},
      "source": [
        "Joining tables"
      ]
    },
    {
      "cell_type": "code",
      "execution_count": null,
      "metadata": {},
      "outputs": [],
      "source": [
        "-- Latihan 1\n",
        "SELECT \n",
        "  track_id,\n",
        "  name AS track_name,\n",
        "  title AS album_title\n",
        "FROM track\n",
        "  -- Complete the join type and the common joining column\n",
        "INNER JOIN album on track.album_id = album.album_id;"
      ]
    },
    {
      "cell_type": "code",
      "execution_count": null,
      "metadata": {},
      "outputs": [],
      "source": [
        "-- Latihan 2\n",
        "-- Select album_id and title from album, and name from artist\n",
        "SELECT \n",
        "  album_id,\n",
        "  title,\n",
        "  name AS artist\n",
        "  -- Enter the main source table name\n",
        "FROM album\n",
        "  -- Perform the inner join\n",
        "INNER JOIN artist on artist.artist_id = album.artist_id;"
      ]
    },
    {
      "cell_type": "code",
      "execution_count": null,
      "metadata": {},
      "outputs": [],
      "source": [
        "-- Latihan 3\n",
        "SELECT track_id,\n",
        "-- Enter the correct table name prefix when retrieving the name column from the track table\n",
        "  track.name AS track_name,\n",
        "  title as album_title,\n",
        "  -- Enter the correct table name prefix when retrieving the name column from the artist table\n",
        "  artist.name AS artist_name\n",
        "FROM track\n",
        "  -- Complete the matching columns to join album with track, and artist with album\n",
        "INNER JOIN album on track.album_id = album.album_id \n",
        "INNER JOIN artist on album.artist_id = artist.artist_id;"
      ]
    },
    {
      "cell_type": "markdown",
      "metadata": {},
      "source": [
        "LEFT & RIGHT JOIN"
      ]
    },
    {
      "cell_type": "code",
      "execution_count": null,
      "metadata": {},
      "outputs": [],
      "source": [
        "-- Latihan 1\n",
        "SELECT \n",
        "  invoiceline_id,\n",
        "  unit_price, \n",
        "  quantity,\n",
        "  billing_state\n",
        "  -- Specify the source table\n",
        "FROM invoiceline\n",
        "  -- Complete the join to the invoice table\n",
        "LEFT JOIN invoice\n",
        "ON invoiceline.invoice_id = invoice.invoice_id;"
      ]
    },
    {
      "cell_type": "code",
      "execution_count": null,
      "metadata": {},
      "outputs": [],
      "source": [
        "-- Latihan 2\n",
        "-- SELECT the fully qualified album_id column from the album table\n",
        "SELECT \n",
        "  album_id,\n",
        "  title,\n",
        "  album.artist_id,\n",
        "  -- SELECT the fully qualified name column from the artist table\n",
        "  name as artist\n",
        "FROM album\n",
        "-- Perform a join to return only rows that match from both tables\n",
        "INNER JOIN artist ON album.artist_id = artist.artist_id\n",
        "WHERE album.album_id IN (213,214)"
      ]
    },
    {
      "cell_type": "code",
      "execution_count": null,
      "metadata": {},
      "outputs": [],
      "source": [
        "SELECT \n",
        "  album.album_id,\n",
        "  title,\n",
        "  album.artist_id,\n",
        "  artist.name as artist\n",
        "FROM album\n",
        "INNER JOIN artist ON album.artist_id = artist.artist_id\n",
        "-- Perform the correct join type to return matches or NULLS from the track table\n",
        "RIGHT JOIN track on album.album_id = track.album_id\n",
        "WHERE album.album_id IN (213,214)"
      ]
    },
    {
      "cell_type": "markdown",
      "metadata": {},
      "source": [
        "UNION & UNION ALL"
      ]
    },
    {
      "cell_type": "code",
      "execution_count": null,
      "metadata": {},
      "outputs": [],
      "source": [
        "-- Latihan 1\n",
        "SELECT \n",
        "  album_id AS ID,\n",
        "  title AS description,\n",
        "  'Album' AS Source\n",
        "  -- Complete the FROM statement\n",
        "FROM\n",
        "  album\n",
        " -- Combine the result set using the relevant keyword\n",
        "UNION\n",
        "SELECT \n",
        "  artist_id AS ID,\n",
        "  name AS description,\n",
        "  'Artist'  AS Source\n",
        "  -- Complete the FROM statement\n",
        "FROM artist;"
      ]
    }
  ],
  "metadata": {
    "kernelspec": {
      "display_name": "SQLite",
      "language": "sql",
      "name": "SQLite"
    },
    "language_info": {
      "file_extension": ".sqlite3-console",
      "mimetype": "text/x-sqlite3-console",
      "name": "sqlite3",
      "version": "0.4.0"
    }
  },
  "nbformat": 4,
  "nbformat_minor": 4
}
