{
  "cells": [
    {
      "cell_type": "markdown",
      "metadata": {},
      "source": [
        "Welcome"
      ]
    },
    {
      "cell_type": "code",
      "execution_count": null,
      "metadata": {
        "vscode": {
          "languageId": "sql"
        }
      },
      "outputs": [],
      "source": [
        "-- Latihan 1\n",
        "-- SELECT the country column FROM the eurovision table\n",
        "SELECT country\n",
        "FROM eurovision"
      ]
    },
    {
      "cell_type": "code",
      "execution_count": null,
      "metadata": {
        "vscode": {
          "languageId": "sql"
        }
      },
      "outputs": [],
      "source": [
        "-- Select the points column\n",
        "SELECT \n",
        "  points\n",
        "FROM \n",
        "  eurovision;"
      ]
    },
    {
      "cell_type": "code",
      "execution_count": null,
      "metadata": {},
      "outputs": [],
      "source": [
        "-- Limit the number of rows returned\n",
        "SELECT \n",
        "  TOP (50) points \n",
        "FROM \n",
        "  eurovision;"
      ]
    },
    {
      "cell_type": "code",
      "execution_count": null,
      "metadata": {},
      "outputs": [],
      "source": [
        "-- Return unique countries and use an alias\n",
        "SELECT \n",
        "  DISTINCT country AS unique_country \n",
        "FROM \n",
        "  eurovision;"
      ]
    },
    {
      "cell_type": "code",
      "execution_count": null,
      "metadata": {},
      "outputs": [],
      "source": [
        "-- Latihan 2\n",
        "-- Select country and event_year from eurovision\n",
        "SELECT\n",
        "  country, \n",
        "  event_year\n",
        "FROM\n",
        "  eurovision;"
      ]
    },
    {
      "cell_type": "code",
      "execution_count": null,
      "metadata": {},
      "outputs": [],
      "source": [
        "-- Amend the code to select all columns\n",
        "SELECT * \n",
        "FROM \n",
        "  eurovision;"
      ]
    },
    {
      "cell_type": "code",
      "execution_count": null,
      "metadata": {},
      "outputs": [],
      "source": [
        "-- Return all columns, restricting the percent of rows returned\n",
        "SELECT \n",
        "  TOP (50) PERCENT * \n",
        "FROM \n",
        "  eurovision;"
      ]
    },
    {
      "cell_type": "markdown",
      "metadata": {},
      "source": [
        "Ordering and filtering"
      ]
    },
    {
      "cell_type": "code",
      "execution_count": null,
      "metadata": {},
      "outputs": [],
      "source": [
        "-- Latihan 1\n",
        "-- Select the first 5 rows from the specified columns\n",
        "SELECT \n",
        "  TOP (5) description, \n",
        "  event_date \n",
        "FROM \n",
        "  grid \n",
        "  -- Order your results by the event_date column\n",
        "ORDER BY \n",
        "  event_date;"
      ]
    },
    {
      "cell_type": "code",
      "execution_count": null,
      "metadata": {},
      "outputs": [],
      "source": [
        "-- Select the top 20 rows from description, nerc_region and event_date\n",
        "SELECT \n",
        "  TOP (20) description,\n",
        "  nerc_region,\n",
        "  event_date\n",
        "FROM \n",
        "  grid \n",
        "  -- Order by nerc_region, affected_customers & event_date\n",
        "  -- Event_date should be in descending order\n",
        "ORDER BY\n",
        "  nerc_region,\n",
        "  affected_customers,\n",
        "  event_date DESC;"
      ]
    },
    {
      "cell_type": "code",
      "execution_count": null,
      "metadata": {},
      "outputs": [],
      "source": [
        "-- Latihan 2\n",
        "-- Select description and event_year\n",
        "SELECT \n",
        "  description, \n",
        "  event_year \n",
        "FROM \n",
        "  grid \n",
        "  -- Filter the results\n",
        "WHERE \n",
        "  description = 'Vandalism';"
      ]
    },
    {
      "cell_type": "code",
      "execution_count": null,
      "metadata": {},
      "outputs": [],
      "source": [
        "-- Latihan 3\n",
        "-- Select nerc_region and demand_loss_mw\n",
        "SELECT \n",
        "  nerc_region, \n",
        "  demand_loss_mw\n",
        "FROM \n",
        "  grid \n",
        "-- Retrieve rows where affected_customers is >= 500000  (500,000)\n",
        "WHERE\n",
        "  affected_customers >= 500000;"
      ]
    },
    {
      "cell_type": "code",
      "execution_count": null,
      "metadata": {},
      "outputs": [],
      "source": [
        "-- Select description and affected customers\n",
        "SELECT\n",
        "  description,\n",
        "  affected_customers\n",
        "FROM \n",
        "  grid \n",
        "  -- Retrieve rows where the event_date was the 22nd December, 2013    \n",
        "WHERE \n",
        "  event_date = '2013-12-22';"
      ]
    },
    {
      "cell_type": "code",
      "execution_count": null,
      "metadata": {},
      "outputs": [],
      "source": [
        "-- Select description, affected_customers and event date\n",
        "SELECT \n",
        "  description, \n",
        "  affected_customers,\n",
        "  event_date\n",
        "FROM \n",
        "  grid \n",
        "  -- The affected_customers column should be >= 50000 and <=150000   \n",
        "WHERE \n",
        "  affected_customers BETWEEN 50000\n",
        "  AND 150000\n",
        "   -- Define the order   \n",
        "ORDER BY \n",
        "  event_date DESC;\n"
      ]
    },
    {
      "cell_type": "code",
      "execution_count": null,
      "metadata": {},
      "outputs": [],
      "source": [
        "-- Latihan 4\n",
        "-- Retrieve all columns\n",
        "SELECT \n",
        "  *\n",
        "FROM \n",
        "  grid \n",
        "  -- Return only rows where demand_loss_mw is missing or unknown  \n",
        "WHERE \n",
        "  demand_loss_mw is NULL;"
      ]
    },
    {
      "cell_type": "code",
      "execution_count": null,
      "metadata": {},
      "outputs": [],
      "source": [
        "-- Retrieve all columns\n",
        "SELECT \n",
        "  * \n",
        "FROM \n",
        "  grid \n",
        "  -- Return rows where demand_loss_mw is not missing or unknown   \n",
        "WHERE \n",
        "  demand_loss_mw IS NOT NULL;"
      ]
    },
    {
      "cell_type": "markdown",
      "metadata": {},
      "source": [
        "WHERE the wild things are"
      ]
    },
    {
      "cell_type": "code",
      "execution_count": null,
      "metadata": {},
      "outputs": [],
      "source": [
        "-- Latihan 1\n",
        "-- Retrieve the song, artist and release_year columns\n",
        "SELECT\n",
        "  song, \n",
        "  artist, \n",
        "  release_year\n",
        "FROM\n",
        "  songlist"
      ]
    },
    {
      "cell_type": "code",
      "execution_count": null,
      "metadata": {},
      "outputs": [],
      "source": [
        "-- Retrieve the song, artist and release_year columns\n",
        "SELECT \n",
        "  song, \n",
        "  artist, \n",
        "  release_year \n",
        "FROM \n",
        "  songlist \n",
        "  -- Ensure there are no missing or unknown values in the release_year column\n",
        "WHERE\n",
        "  release_year is NOT NULL "
      ]
    },
    {
      "cell_type": "code",
      "execution_count": null,
      "metadata": {},
      "outputs": [],
      "source": [
        "-- Retrieve the song,artist and release_year columns\n",
        "SELECT \n",
        "  song, \n",
        "  artist, \n",
        "  release_year \n",
        "FROM \n",
        "  songlist \n",
        "  -- Ensure there are no missing or unknown values in the release_year column\n",
        "WHERE \n",
        "  release_year IS NOT NULL \n",
        "  -- Arrange the results by the artist and release_year columns\n",
        "ORDER BY \n",
        "  artist, \n",
        "  release_year;"
      ]
    },
    {
      "cell_type": "code",
      "execution_count": null,
      "metadata": {},
      "outputs": [],
      "source": [
        "-- Latihan 2\n",
        "SELECT \n",
        "  song, \n",
        "  artist, \n",
        "  release_year\n",
        "FROM \n",
        "  songlist \n",
        "WHERE \n",
        "  -- Retrieve records greater than and including 1980\n",
        "  release_year >= 1980 \n",
        "  -- Also retrieve records up to and including 1990\n",
        "  AND release_year <= 1990 \n",
        "ORDER BY \n",
        "  artist, \n",
        "  release_year;"
      ]
    },
    {
      "cell_type": "code",
      "execution_count": null,
      "metadata": {},
      "outputs": [],
      "source": [
        "SELECT \n",
        "  song, \n",
        "  artist, \n",
        "  release_year\n",
        "FROM \n",
        "  songlist \n",
        "WHERE \n",
        "  -- Retrieve records greater than and including 1980\n",
        "  release_year >= 1980 \n",
        "  -- Replace AND with OR\n",
        "  OR release_year <= 1990 \n",
        "ORDER BY \n",
        "  artist, \n",
        "  release_year;"
      ]
    },
    {
      "cell_type": "code",
      "execution_count": null,
      "metadata": {},
      "outputs": [],
      "source": [
        "-- Latihan 3\n",
        "SELECT \n",
        "  artist, \n",
        "  release_year, \n",
        "  song \n",
        "FROM \n",
        "  songlist \n",
        "  -- Choose the correct artist and specify the release year\n",
        "WHERE \n",
        "  (\n",
        "    artist LIKE 'B%' \n",
        "    AND release_year = 1986\n",
        "  ) \n",
        "  -- Or return all songs released after 1990\n",
        "  OR release_year > 1990\n",
        "  -- Order the results\n",
        "ORDER BY \n",
        "  release_year, \n",
        "  artist, \n",
        "  song;"
      ]
    }
  ],
  "metadata": {
    "kernelspec": {
      "display_name": "SQLite",
      "language": "sql",
      "name": "SQLite"
    },
    "language_info": {
      "file_extension": ".sqlite3-console",
      "mimetype": "text/x-sqlite3-console",
      "name": "sqlite3",
      "version": "0.4.0"
    }
  },
  "nbformat": 4,
  "nbformat_minor": 4
}
