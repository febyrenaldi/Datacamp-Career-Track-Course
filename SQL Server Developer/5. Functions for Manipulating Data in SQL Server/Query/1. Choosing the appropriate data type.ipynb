{
 "cells": [
  {
   "cell_type": "markdown",
   "metadata": {},
   "source": [
    "Welcome to this course!"
   ]
  },
  {
   "cell_type": "code",
   "execution_count": null,
   "metadata": {
    "vscode": {
     "languageId": "sql"
    }
   },
   "outputs": [],
   "source": [
    "-- Latihan 1\n",
    "SELECT \n",
    "\tcompany, \n",
    "\tcompany_location, \n",
    "\tbean_origin, \n",
    "\tcocoa_percent, \n",
    "\trating\n",
    "FROM ratings\n",
    "-- Location should be Belgium and the rating should exceed 3.5\n",
    "WHERE company_location = 'Belgium'\n",
    "\tAND rating > 3.5;"
   ]
  },
  {
   "cell_type": "code",
   "execution_count": null,
   "metadata": {
    "vscode": {
     "languageId": "sql"
    }
   },
   "outputs": [],
   "source": [
    "SELECT \n",
    "\tfirst_name,\n",
    "\tlast_name,\n",
    "\tbirthdate,\n",
    "\tgender,\n",
    "\temail,\n",
    "\tcountry,\n",
    "\ttotal_votes\n",
    "FROM voters\n",
    "-- Birthdate > 1990-01-01, total_votes > 100 but < 200\n",
    "WHERE birthdate > '1990-01-01'\n",
    "  AND total_votes > 100\n",
    "  AND total_votes < 200;"
   ]
  },
  {
   "cell_type": "code",
   "execution_count": null,
   "metadata": {
    "vscode": {
     "languageId": "sql"
    }
   },
   "outputs": [],
   "source": [
    "-- Latihan 2\n",
    "ALTER TABLE voters\n",
    "ADD last_vote_date date;"
   ]
  },
  {
   "cell_type": "code",
   "execution_count": null,
   "metadata": {
    "vscode": {
     "languageId": "sql"
    }
   },
   "outputs": [],
   "source": [
    "ALTER TABLE voters\n",
    "ADD last_vote_time time;"
   ]
  },
  {
   "cell_type": "code",
   "execution_count": null,
   "metadata": {
    "vscode": {
     "languageId": "sql"
    }
   },
   "outputs": [],
   "source": [
    "ALTER TABLE voters\n",
    "ADD last_login datetime2;"
   ]
  },
  {
   "cell_type": "markdown",
   "metadata": {},
   "source": [
    "Implicit conversion"
   ]
  },
  {
   "cell_type": "code",
   "execution_count": null,
   "metadata": {
    "vscode": {
     "languageId": "sql"
    }
   },
   "outputs": [],
   "source": [
    "-- Latihan 1\n",
    "SELECT \n",
    "\tfirst_name,\n",
    "\tlast_name,     \n",
    "\ttotal_votes\n",
    "FROM voters\n",
    "WHERE total_votes>120"
   ]
  },
  {
   "cell_type": "code",
   "execution_count": null,
   "metadata": {
    "vscode": {
     "languageId": "sql"
    }
   },
   "outputs": [],
   "source": [
    "-- Latihan 2\n",
    "SELECT \n",
    "\tbean_type,\n",
    "\trating\n",
    "FROM ratings\n",
    "WHERE rating > 3;"
   ]
  },
  {
   "cell_type": "markdown",
   "metadata": {},
   "source": [
    "Explicit conversion"
   ]
  },
  {
   "cell_type": "code",
   "execution_count": null,
   "metadata": {
    "vscode": {
     "languageId": "sql"
    }
   },
   "outputs": [],
   "source": [
    "-- Latihan 1\n",
    "SELECT \n",
    "\t-- Transform the year part from the birthdate to a string\n",
    "\tfirst_name + ' ' + last_name + ' was born in ' + CAST(YEAR(birthdate) AS nvarchar) + '.' \n",
    "FROM voters;"
   ]
  },
  {
   "cell_type": "code",
   "execution_count": null,
   "metadata": {
    "vscode": {
     "languageId": "sql"
    }
   },
   "outputs": [],
   "source": [
    "SELECT \n",
    "\t-- Transform to int the division of total_votes to 5.5\n",
    "\tCAST(total_votes/5.5 AS int) AS DividedVotes\n",
    "FROM voters;"
   ]
  },
  {
   "cell_type": "code",
   "execution_count": null,
   "metadata": {
    "vscode": {
     "languageId": "sql"
    }
   },
   "outputs": [],
   "source": [
    "SELECT \n",
    "\tfirst_name,\n",
    "\tlast_name,\n",
    "\ttotal_votes\n",
    "FROM voters\n",
    "-- Transform the total_votes to char of length 10\n",
    "WHERE CAST(total_votes AS char(10)) LIKE '5%';"
   ]
  },
  {
   "cell_type": "code",
   "execution_count": null,
   "metadata": {
    "vscode": {
     "languageId": "sql"
    }
   },
   "outputs": [],
   "source": [
    "-- Latihan 2\n",
    "SELECT \n",
    "\temail,\n",
    "    -- Convert birthdate to varchar show it as follows: \"Mon dd,yyyy\" \n",
    "    CONVERT(varchar, birthdate, 107) AS birthdate\n",
    "FROM voters;"
   ]
  },
  {
   "cell_type": "code",
   "execution_count": null,
   "metadata": {
    "vscode": {
     "languageId": "sql"
    }
   },
   "outputs": [],
   "source": [
    "SELECT \n",
    "\tcompany,\n",
    "    bean_origin,\n",
    "    -- Convert the rating column to an integer\n",
    "    CONVERT(int, rating) AS rating\n",
    "FROM ratings;"
   ]
  },
  {
   "cell_type": "code",
   "execution_count": null,
   "metadata": {
    "vscode": {
     "languageId": "sql"
    }
   },
   "outputs": [],
   "source": [
    "SELECT \n",
    "\tcompany,\n",
    "    bean_origin,\n",
    "    rating\n",
    "FROM ratings\n",
    "-- Convert the rating to an integer before comparison\n",
    "WHERE CONVERT(int, rating) = 3;"
   ]
  },
  {
   "cell_type": "code",
   "execution_count": null,
   "metadata": {
    "vscode": {
     "languageId": "sql"
    }
   },
   "outputs": [],
   "source": [
    "-- Latihan 3\n",
    "SELECT \n",
    "\tfirst_name,\n",
    "\tlast_name,\n",
    "\tgender,\n",
    "\tcountry\n",
    "FROM voters\n",
    "WHERE country = 'Belgium'\n",
    "\t-- Select only the female voters\n",
    "\tAND gender='F'\n",
    "    -- Select only people who voted more than 20 times   \n",
    "    AND total_votes>20;"
   ]
  },
  {
   "cell_type": "code",
   "execution_count": null,
   "metadata": {
    "vscode": {
     "languageId": "sql"
    }
   },
   "outputs": [],
   "source": [
    "SELECT \n",
    "\tfirst_name,\n",
    "    last_name,\n",
    "\t-- Convert birthdate to varchar(10) and show it as yy/mm/dd. This format corresponds to value 11 of the \"style\" parameter.\n",
    "\tCONVERT(varchar(10), birthdate, 11) AS birthdate,\n",
    "    gender,\n",
    "    country\n",
    "FROM voters\n",
    "WHERE country = 'Belgium' \n",
    "    -- Select only the female voters\n",
    "\tAND gender = 'F'\n",
    "    -- Select only people who voted more than 20 times  \n",
    "    AND total_votes > 20;"
   ]
  },
  {
   "cell_type": "code",
   "execution_count": null,
   "metadata": {
    "vscode": {
     "languageId": "sql"
    }
   },
   "outputs": [],
   "source": [
    "SELECT\n",
    "\tfirst_name,\n",
    "    last_name,\n",
    "\t-- Convert birthdate to varchar(10) to show it as yy/mm/dd\n",
    "\tCONVERT(varchar(10), birthdate, 11) AS birthdate,\n",
    "    gender,\n",
    "    country,\n",
    "    -- Convert the total_votes number to nvarchar\n",
    "    'Voted ' + CAST(total_votes AS nvarchar) + ' times.' AS comments\n",
    "FROM voters\n",
    "WHERE country = 'Belgium'\n",
    "    -- Select only the female voters\n",
    "\tAND gender = 'F'\n",
    "    -- Select only people who voted more than 20 times\n",
    "    AND total_votes > 20;"
   ]
  }
 ],
 "metadata": {
  "kernelspec": {
   "display_name": "Python 3.10.4 64-bit",
   "language": "python",
   "name": "python3"
  },
  "language_info": {
   "name": "python",
   "version": "3.10.4"
  },
  "orig_nbformat": 4,
  "vscode": {
   "interpreter": {
    "hash": "d3e10ef16274dd72e574b8fa73b58450b957d8421a2901baded3cca26fcf5dda"
   }
  }
 },
 "nbformat": 4,
 "nbformat_minor": 2
}
