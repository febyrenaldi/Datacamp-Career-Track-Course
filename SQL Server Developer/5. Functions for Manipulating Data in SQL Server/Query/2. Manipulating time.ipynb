{
 "cells": [
  {
   "cell_type": "markdown",
   "metadata": {},
   "source": [
    "Functions that return system date and time"
   ]
  },
  {
   "cell_type": "code",
   "execution_count": null,
   "metadata": {
    "vscode": {
     "languageId": "sql"
    }
   },
   "outputs": [],
   "source": [
    "-- Latihan 1\n",
    "SELECT \n",
    "\tGETDATE() AS CurrentDate;"
   ]
  },
  {
   "cell_type": "code",
   "execution_count": null,
   "metadata": {
    "vscode": {
     "languageId": "sql"
    }
   },
   "outputs": [],
   "source": [
    "SELECT \n",
    "\tSYSUTCDATETIME() AS UTC_HighPrecision,\n",
    "\tGETUTCDATE() AS UTC_LowPrecision;"
   ]
  },
  {
   "cell_type": "code",
   "execution_count": null,
   "metadata": {
    "vscode": {
     "languageId": "sql"
    }
   },
   "outputs": [],
   "source": [
    "SELECT \n",
    "\tGETUTCDATE() AS Timezone;"
   ]
  },
  {
   "cell_type": "code",
   "execution_count": null,
   "metadata": {
    "vscode": {
     "languageId": "sql"
    }
   },
   "outputs": [],
   "source": [
    "-- Latihan 2\n",
    "SELECT \n",
    "\tCONVERT(VARCHAR(24), SYSDATETIME(), 107) AS HighPrecision,\n",
    "\tCONVERT(VARCHAR(24), GETDATE(), 102) AS LowPrecision;"
   ]
  },
  {
   "cell_type": "code",
   "execution_count": null,
   "metadata": {
    "vscode": {
     "languageId": "sql"
    }
   },
   "outputs": [],
   "source": [
    "SELECT \n",
    "\tCAST(SYSUTCDATETIME() AS time) AS HighPrecision,\n",
    "\tCAST(GETUTCDATE() AS time) AS LowPrecision;"
   ]
  },
  {
   "cell_type": "markdown",
   "metadata": {},
   "source": [
    "Functions returning date and time parts"
   ]
  },
  {
   "cell_type": "code",
   "execution_count": null,
   "metadata": {
    "vscode": {
     "languageId": "sql"
    }
   },
   "outputs": [],
   "source": [
    "-- Latihan 1\n",
    "SELECT \n",
    "\tfirst_name,\n",
    "\tlast_name,\n",
    "   \t-- Extract the year of the first vote\n",
    "\tYEAR(first_vote_date)  AS first_vote_year,\n",
    "    -- Extract the month of the first vote\n",
    "\tMONTH(first_vote_date) AS first_vote_month,\n",
    "    -- Extract the day of the first vote\n",
    "\tDAY(first_vote_date)   AS first_vote_day\n",
    "FROM voters;\n",
    "\n",
    "SELECT\n",
    "\tfirst_name,\n",
    "\tlast_name,\n",
    "\t\tYEAR(first_vote_date) AS first_vote_year,\n",
    "\t\tMONTH(first_vote_date) AS first_vote_month,\n",
    "\t\tDAY(first_vote_date) AS first_vote_day\n",
    "FROM voters;"
   ]
  },
  {
   "cell_type": "code",
   "execution_count": null,
   "metadata": {
    "vscode": {
     "languageId": "sql"
    }
   },
   "outputs": [],
   "source": [
    "SELECT \n",
    "\tfirst_name,\n",
    "\tlast_name,\n",
    "   \t-- Extract the year of the first vote\n",
    "\tYEAR(first_vote_date)  AS first_vote_year,\n",
    "    -- Extract the month of the first vote\n",
    "\tMONTH(first_vote_date) AS first_vote_month,\n",
    "    -- Extract the day of the first vote\n",
    "\tDAY(first_vote_date)   AS first_vote_day\n",
    "FROM voters\n",
    "-- The year of the first vote should be greater than 2015\n",
    "WHERE YEAR(first_vote_date) > 2015;\n"
   ]
  },
  {
   "cell_type": "code",
   "execution_count": null,
   "metadata": {
    "vscode": {
     "languageId": "sql"
    }
   },
   "outputs": [],
   "source": [
    "SELECT \n",
    "\tfirst_name,\n",
    "\tlast_name,\n",
    "   \t-- Extract the year of the first vote\n",
    "\tYEAR(first_vote_date)  AS first_vote_year,\n",
    "    -- Extract the month of the first vote\n",
    "\tMONTH(first_vote_date) AS first_vote_month,\n",
    "    -- Extract the day of the first vote\n",
    "\tDAY(first_vote_date)   AS first_vote_day\n",
    "FROM voters\n",
    "-- The year of the first vote should be greater than 2015\n",
    "WHERE YEAR(first_vote_date) > 2015\n",
    "-- The day should not be the first day of the month\n",
    "  AND DAY(first_vote_date) > 1;"
   ]
  },
  {
   "cell_type": "code",
   "execution_count": null,
   "metadata": {
    "vscode": {
     "languageId": "sql"
    }
   },
   "outputs": [],
   "source": [
    "-- Latihan 2\n",
    "SELECT \n",
    "\tfirst_name,\n",
    "\tlast_name,\n",
    "\tfirst_vote_date,\n",
    "    -- Select the name of the month of the first vote\n",
    "\tDATENAME(MONTH, first_vote_date) AS first_vote_month\n",
    "FROM voters;"
   ]
  },
  {
   "cell_type": "code",
   "execution_count": null,
   "metadata": {
    "vscode": {
     "languageId": "sql"
    }
   },
   "outputs": [],
   "source": [
    "SELECT \n",
    "\tfirst_name,\n",
    "\tlast_name,\n",
    "\tfirst_vote_date,\n",
    "    -- Select the number of the day within the year\n",
    "\tDATENAME(DAYOFYEAR, first_vote_date) AS first_vote_dayofyear\n",
    "FROM voters;"
   ]
  },
  {
   "cell_type": "code",
   "execution_count": null,
   "metadata": {
    "vscode": {
     "languageId": "sql"
    }
   },
   "outputs": [],
   "source": [
    "SELECT \n",
    "\tfirst_name,\n",
    "\tlast_name,\n",
    "\tfirst_vote_date,\n",
    "    -- Select day of the week from the first vote date\n",
    "\tDATENAME(weekday, first_vote_date) AS first_vote_dayofweek\n",
    "FROM voters;"
   ]
  },
  {
   "cell_type": "code",
   "execution_count": null,
   "metadata": {
    "vscode": {
     "languageId": "sql"
    }
   },
   "outputs": [],
   "source": [
    "-- Latihan 3\n",
    "SELECT \n",
    "\tfirst_name,\n",
    "\tlast_name,\n",
    "   \t-- Extract the month number of the first vote\n",
    "\tDATEPART(MONTH, first_vote_date) AS first_vote_month1,\n",
    "\t-- Extract the month name of the first vote\n",
    "    DATENAME(MONTH, first_vote_date) AS first_vote_month2,\n",
    "\t-- Extract the weekday number of the first vote\n",
    "\tDATEPART(WEEKDAY, first_vote_date) AS first_vote_weekday1,\n",
    "    -- Extract the weekday name of the first vote\n",
    "\tDATENAME(WEEKDAY, first_vote_date) AS first_vote_weekday2\n",
    "FROM voters;"
   ]
  },
  {
   "cell_type": "code",
   "execution_count": null,
   "metadata": {
    "vscode": {
     "languageId": "sql"
    }
   },
   "outputs": [],
   "source": [
    "SELECT \n",
    "\tfirst_name,\n",
    "\tlast_name,\n",
    "    -- Select the year of the first vote\n",
    "   \tYEAR(first_vote_date) AS first_vote_year, \n",
    "    -- Select the month of the first vote\n",
    "\tMONTH(first_vote_date) AS first_vote_month,\n",
    "    -- Create a date as the start of the month of the first vote\n",
    "\tDATEFROMPARTS(YEAR(first_vote_date), MONTH(first_vote_date), 1) AS first_vote_starting_month\n",
    "FROM voters;"
   ]
  },
  {
   "cell_type": "markdown",
   "metadata": {},
   "source": [
    "Performing arithmetic operations on dates"
   ]
  },
  {
   "cell_type": "code",
   "execution_count": null,
   "metadata": {
    "vscode": {
     "languageId": "sql"
    }
   },
   "outputs": [],
   "source": [
    "-- Latihan 1\n",
    "SELECT \n",
    "\tfirst_name,\n",
    "\tbirthdate,\n",
    "    -- Add 18 years to the birthdate\n",
    "\tDATEADD(YEAR, 18, birthdate) AS eighteenth_birthday\n",
    "FROM voters;"
   ]
  },
  {
   "cell_type": "code",
   "execution_count": null,
   "metadata": {
    "vscode": {
     "languageId": "sql"
    }
   },
   "outputs": [],
   "source": [
    "SELECT \n",
    "\tfirst_name,\n",
    "\tfirst_vote_date,\n",
    "    -- Add 5 days to the first voting date\n",
    "\tDATEADD(DAY, 5, first_vote_date) AS processing_vote_date\n",
    "FROM voters;"
   ]
  },
  {
   "cell_type": "code",
   "execution_count": null,
   "metadata": {
    "vscode": {
     "languageId": "sql"
    }
   },
   "outputs": [],
   "source": [
    "SELECT\n",
    "\t-- Subtract 476 days from the current date\n",
    "\tDATEADD(DAY, -476, GETDATE()) AS date_476days_ago;"
   ]
  },
  {
   "cell_type": "code",
   "execution_count": null,
   "metadata": {
    "vscode": {
     "languageId": "sql"
    }
   },
   "outputs": [],
   "source": [
    "-- Latihan 2\n",
    "SELECT\n",
    "\tfirst_name,\n",
    "\tbirthdate,\n",
    "\tfirst_vote_date,\n",
    "    -- Select the diff between the 18th birthday and first vote\n",
    "\tDATEDIFF(YEAR, DATEADD(YEAR, 18, birthdate), first_vote_date) AS adult_years_until_vote\n",
    "FROM voters;"
   ]
  },
  {
   "cell_type": "code",
   "execution_count": null,
   "metadata": {
    "vscode": {
     "languageId": "sql"
    }
   },
   "outputs": [],
   "source": [
    "SELECT \n",
    "\t-- Get the difference in weeks from 2019-01-01 until now\n",
    "\tDATEDIFF(WEEK, '2019-01-01', GETDATE()) AS weeks_passed;"
   ]
  },
  {
   "cell_type": "markdown",
   "metadata": {},
   "source": [
    "Validating if an expression is a date"
   ]
  },
  {
   "cell_type": "code",
   "execution_count": null,
   "metadata": {
    "vscode": {
     "languageId": "sql"
    }
   },
   "outputs": [],
   "source": [
    "-- Latihan 1\n",
    "DECLARE @date1 NVARCHAR(20) = '2018-30-12';\n",
    "\n",
    "-- Set the date format and check if the variable is a date\n",
    "SET DATEFORMAT ydm;\n",
    "SELECT ISDATE(@date1) AS result;"
   ]
  },
  {
   "cell_type": "code",
   "execution_count": null,
   "metadata": {
    "vscode": {
     "languageId": "sql"
    }
   },
   "outputs": [],
   "source": [
    "DECLARE @date1 NVARCHAR(20) = '15/2019/4';\n",
    "\n",
    "-- Set the date format and check if the variable is a date\n",
    "SET DATEFORMAT dym;\n",
    "SELECT ISDATE(@date1) AS result;"
   ]
  },
  {
   "cell_type": "code",
   "execution_count": null,
   "metadata": {
    "vscode": {
     "languageId": "sql"
    }
   },
   "outputs": [],
   "source": [
    "DECLARE @date1 NVARCHAR(20) = '10.13.2019';\n",
    "\n",
    "-- Set the date format and check if the variable is a date\n",
    "SET DATEFORMAT mdy;\n",
    "SELECT ISDATE(@date1) AS result;"
   ]
  },
  {
   "cell_type": "code",
   "execution_count": null,
   "metadata": {
    "vscode": {
     "languageId": "sql"
    }
   },
   "outputs": [],
   "source": [
    "DECLARE @date1 NVARCHAR(20) = '18.4.2019';\n",
    "\n",
    "-- Set the date format and check if the variable is a date\n",
    "SET DATEFORMAT dmy;\n",
    "SELECT ISDATE(@date1) AS result;"
   ]
  },
  {
   "cell_type": "code",
   "execution_count": null,
   "metadata": {
    "vscode": {
     "languageId": "sql"
    }
   },
   "outputs": [],
   "source": [
    "-- Latihan 2\n",
    "DECLARE @date1 NVARCHAR(20) = '30.03.2019';\n",
    "\n",
    "-- Set the correct language\n",
    "SET LANGUAGE Dutch;\n",
    "SELECT\n",
    "\t@date1 AS initial_date,\n",
    "    -- Check that the date is valid\n",
    "\tISDATE(@date1) AS is_valid,\n",
    "    -- Select the name of the month\n",
    "\tDATENAME(MONTH, @date1) AS month_name;"
   ]
  },
  {
   "cell_type": "code",
   "execution_count": null,
   "metadata": {
    "vscode": {
     "languageId": "sql"
    }
   },
   "outputs": [],
   "source": [
    "DECLARE @date1 NVARCHAR(20) = '32/12/13';\n",
    "\n",
    "-- Set the correct language\n",
    "SET LANGUAGE Croatian;\n",
    "SELECT\n",
    "\t@date1 AS initial_date,\n",
    "    -- Check that the date is valid\n",
    "\tISDATE(@date1) AS is_valid,\n",
    "    -- Select the name of the month\n",
    "\tDATENAME(MONTH, @date1) AS month_name,\n",
    "\t-- Extract the year from the date\n",
    "\tYEAR(@date1) AS year_name;"
   ]
  },
  {
   "cell_type": "code",
   "execution_count": null,
   "metadata": {
    "vscode": {
     "languageId": "sql"
    }
   },
   "outputs": [],
   "source": [
    "DECLARE @date1 NVARCHAR(20) = '12/18/55';\n",
    "\n",
    "-- Set the correct language\n",
    "SET LANGUAGE english;\n",
    "SELECT\n",
    "\t@date1 AS initial_date,\n",
    "    -- Check that the date is valid\n",
    "\tISDATE(@date1) AS is_valid,\n",
    "    -- Select the week day name\n",
    "\tDATENAME(WEEKDAY, @date1) AS week_day,\n",
    "\t-- Extract the year from the date\n",
    "\tYEAR(@date1) AS year_name;"
   ]
  },
  {
   "cell_type": "code",
   "execution_count": null,
   "metadata": {
    "vscode": {
     "languageId": "sql"
    }
   },
   "outputs": [],
   "source": [
    "-- Latihan 3\n",
    "SELECT\n",
    "\tfirst_name,\n",
    "    last_name,\n",
    "    birthdate,\n",
    "\tfirst_vote_date,\n",
    "\t-- Find out on which day of the week each participant voted \n",
    "\tDATENAME(weekday, first_vote_date) AS first_vote_weekday\n",
    "FROM voters;"
   ]
  },
  {
   "cell_type": "code",
   "execution_count": null,
   "metadata": {
    "vscode": {
     "languageId": "sql"
    }
   },
   "outputs": [],
   "source": [
    "SELECT\n",
    "\tfirst_name,\n",
    "    last_name,\n",
    "    birthdate,\n",
    "\tfirst_vote_date,\n",
    "\t-- Find out on which day of the week each participant voted \n",
    "\tDATENAME(weekday, first_vote_date) AS first_vote_weekday,\n",
    "\t-- Find out the year of the first vote\n",
    "\tYEAR(first_vote_date) AS first_vote_year\t\n",
    "FROM voters;"
   ]
  },
  {
   "cell_type": "code",
   "execution_count": null,
   "metadata": {
    "vscode": {
     "languageId": "sql"
    }
   },
   "outputs": [],
   "source": [
    "SELECT\n",
    "\tfirst_name,\n",
    "    last_name,\n",
    "    birthdate,\n",
    "\tfirst_vote_date,\n",
    "\t-- Find out on which day of the week each participant voted \n",
    "\tDATENAME(weekday, first_vote_date) AS first_vote_weekday,\n",
    "\t-- Find out the year of the first vote\n",
    "\tYEAR(first_vote_date) AS first_vote_year,\n",
    "\t-- Find out the age of each participant when they joined the contest\n",
    "\tDATEDIFF(YEAR, birthdate, first_vote_date) AS age_at_first_vote\t\n",
    "FROM voters;"
   ]
  },
  {
   "cell_type": "code",
   "execution_count": null,
   "metadata": {
    "vscode": {
     "languageId": "sql"
    }
   },
   "outputs": [],
   "source": [
    "SELECT\n",
    "\tfirst_name,\n",
    "    last_name,\n",
    "    birthdate,\n",
    "\tfirst_vote_date,\n",
    "\t-- Find out on which day of the week each participant voted \n",
    "\tDATENAME(weekday, first_vote_date) AS first_vote_weekday,\n",
    "\t-- Find out the year of the first vote\n",
    "\tYEAR(first_vote_date) AS first_vote_year,\n",
    "\t-- Discover the participants' age when they joined the contest\n",
    "\tDATEDIFF(YEAR, birthdate, first_vote_date) AS age_at_first_vote,\t\n",
    "\t-- Calculate the current age of each voter\n",
    "\tDATEDIFF(YEAR, birthdate, GETDATE()) AS current_age\n",
    "FROM voters;"
   ]
  }
 ],
 "metadata": {
  "kernelspec": {
   "display_name": "Python 3.10.4 64-bit",
   "language": "python",
   "name": "python3"
  },
  "language_info": {
   "name": "python",
   "version": "3.10.4"
  },
  "orig_nbformat": 4,
  "vscode": {
   "interpreter": {
    "hash": "d3e10ef16274dd72e574b8fa73b58450b957d8421a2901baded3cca26fcf5dda"
   }
  }
 },
 "nbformat": 4,
 "nbformat_minor": 2
}
