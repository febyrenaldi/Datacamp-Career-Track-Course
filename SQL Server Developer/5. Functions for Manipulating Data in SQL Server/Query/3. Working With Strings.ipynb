{
 "cells": [
  {
   "cell_type": "markdown",
   "metadata": {},
   "source": [
    "Functions for positions"
   ]
  },
  {
   "cell_type": "code",
   "execution_count": null,
   "metadata": {
    "vscode": {
     "languageId": "sql"
    }
   },
   "outputs": [],
   "source": [
    "-- Latihan 1\n",
    "SELECT TOP 10 \n",
    "\tcompany, \n",
    "\tbroad_bean_origin,\n",
    "\t-- Calculate the length of the broad_bean_origin column\n",
    "\tLEN(broad_bean_origin) AS length\n",
    "FROM ratings\n",
    "--Order the results based on the new column, descending\n",
    "ORDER BY Length DESC;"
   ]
  },
  {
   "cell_type": "code",
   "execution_count": null,
   "metadata": {
    "vscode": {
     "languageId": "sql"
    }
   },
   "outputs": [],
   "source": [
    "-- Latihan 2\n",
    "SELECT \n",
    "\tfirst_name,\n",
    "\tlast_name,\n",
    "\temail \n",
    "FROM voters\n",
    "-- Look for the \"dan\" expression in the first_name\n",
    "WHERE CHARINDEX('dan', first_name) > 0;"
   ]
  },
  {
   "cell_type": "code",
   "execution_count": null,
   "metadata": {
    "vscode": {
     "languageId": "sql"
    }
   },
   "outputs": [],
   "source": [
    "SELECT \n",
    "\tfirst_name,\n",
    "\tlast_name,\n",
    "\temail \n",
    "FROM voters\n",
    "-- Look for the \"dan\" expression in the first_name\n",
    "WHERE CHARINDEX('dan', first_name) > 0 \n",
    "    -- Look for last_names that contain the letter \"z\"\n",
    "\tAND CHARINDEX('z', last_name) > 0;"
   ]
  },
  {
   "cell_type": "code",
   "execution_count": null,
   "metadata": {
    "vscode": {
     "languageId": "sql"
    }
   },
   "outputs": [],
   "source": [
    "SELECT \n",
    "\tfirst_name,\n",
    "\tlast_name,\n",
    "\temail \n",
    "FROM voters\n",
    "-- Look for the \"dan\" expression in the first_name\n",
    "WHERE CHARINDEX('dan', first_name) > 0 \n",
    "    -- Look for last_names that do not contain the letter \"z\"\n",
    "\tAND CHARINDEX('z', last_name) = 0;"
   ]
  },
  {
   "cell_type": "code",
   "execution_count": null,
   "metadata": {
    "vscode": {
     "languageId": "sql"
    }
   },
   "outputs": [],
   "source": [
    "-- Latihan 3\n",
    "SELECT \n",
    "\tfirst_name,\n",
    "\tlast_name,\n",
    "\temail \n",
    "FROM voters\n",
    "-- Look for first names that contain \"rr\" in the middle\n",
    "WHERE PATINDEX('%rr%', first_name) > 0;"
   ]
  },
  {
   "cell_type": "code",
   "execution_count": null,
   "metadata": {
    "vscode": {
     "languageId": "sql"
    }
   },
   "outputs": [],
   "source": [
    "SELECT \n",
    "\tfirst_name,\n",
    "\tlast_name,\n",
    "\temail \n",
    "FROM voters\n",
    "-- Look for first names that start with C and the 3rd letter is r\n",
    "WHERE PATINDEX('C_r%', first_name) > 0;"
   ]
  },
  {
   "cell_type": "code",
   "execution_count": null,
   "metadata": {
    "vscode": {
     "languageId": "sql"
    }
   },
   "outputs": [],
   "source": [
    "SELECT \n",
    "\tfirst_name,\n",
    "\tlast_name,\n",
    "\temail \n",
    "FROM voters\n",
    "-- Look for first names that have an \"a\" followed by 0 or more letters and then have a \"w\"\n",
    "WHERE PATINDEX('%a%w%', first_name) > 0;"
   ]
  },
  {
   "cell_type": "code",
   "execution_count": null,
   "metadata": {
    "vscode": {
     "languageId": "sql"
    }
   },
   "outputs": [],
   "source": [
    "SELECT \n",
    "\tfirst_name,\n",
    "\tlast_name,\n",
    "\temail \n",
    "FROM voters\n",
    "-- Look for first names that contain one of the letters: \"x\", \"w\", \"q\"\n",
    "WHERE PATINDEX('%[xwq]%', first_name) > 0;"
   ]
  },
  {
   "cell_type": "markdown",
   "metadata": {},
   "source": [
    "Functions for string transformation"
   ]
  },
  {
   "cell_type": "code",
   "execution_count": null,
   "metadata": {
    "vscode": {
     "languageId": "sql"
    }
   },
   "outputs": [],
   "source": [
    "-- Latihan 1\n",
    "SELECT \n",
    "\tcompany,\n",
    "\tbean_type,\n",
    "\tbroad_bean_origin,\n",
    "\t'The company ' +  company + ' uses beans of type \"' + bean_type + '\", originating from ' + broad_bean_origin + '.'\n",
    "FROM ratings\n",
    "WHERE \n",
    "    -- The 'broad_bean_origin' should not be unknown\n",
    "\tLOWER(broad_bean_origin) NOT LIKE '%unknown%';"
   ]
  },
  {
   "cell_type": "code",
   "execution_count": null,
   "metadata": {
    "vscode": {
     "languageId": "sql"
    }
   },
   "outputs": [],
   "source": [
    "SELECT \n",
    "\tcompany,\n",
    "\tbean_type,\n",
    "\tbroad_bean_origin,\n",
    "\t'The company ' +  company + ' uses beans of type \"' + bean_type + '\", originating from ' + broad_bean_origin + '.'\n",
    "FROM ratings\n",
    "WHERE \n",
    "    -- The 'broad_bean_origin' should not be unknown\n",
    "\tLOWER(broad_bean_origin) NOT LIKE '%unknown%'\n",
    "     -- The 'bean_type' should not be unknown\n",
    "    AND LOWER(bean_type) NOT LIKE '%unknown%';"
   ]
  },
  {
   "cell_type": "code",
   "execution_count": null,
   "metadata": {
    "vscode": {
     "languageId": "sql"
    }
   },
   "outputs": [],
   "source": [
    "SELECT \n",
    "\tcompany,\n",
    "\tbean_type,\n",
    "\tbroad_bean_origin,\n",
    "    -- 'company' and 'broad_bean_origin' should be in uppercase\n",
    "\t'The company ' +  UPPER(company) + ' uses beans of type \"' + bean_type + '\", originating from ' + UPPER(broad_bean_origin) + '.'\n",
    "FROM ratings\n",
    "WHERE \n",
    "    -- The 'broad_bean_origin' should not be unknown\n",
    "\tLOWER(broad_bean_origin) NOT LIKE '%unknown%'\n",
    "     -- The 'bean_type' should not be unknown\n",
    "    AND LOWER(bean_type) NOT LIKE '%unknown%';"
   ]
  },
  {
   "cell_type": "code",
   "execution_count": null,
   "metadata": {
    "vscode": {
     "languageId": "sql"
    }
   },
   "outputs": [],
   "source": [
    "-- Latihan 2\n",
    "SELECT \n",
    "\tfirst_name,\n",
    "\tlast_name,\n",
    "\tcountry,\n",
    "    -- Select only the first 3 characters from the first name\n",
    "\tLEFT(first_name, 3) AS part1\n",
    "FROM voters;"
   ]
  },
  {
   "cell_type": "code",
   "execution_count": null,
   "metadata": {
    "vscode": {
     "languageId": "sql"
    }
   },
   "outputs": [],
   "source": [
    "SELECT \n",
    "\tfirst_name,\n",
    "\tlast_name,\n",
    "\tcountry,\n",
    "    -- Select only the first 3 characters from the first name\n",
    "\tLEFT(first_name, 3) AS part1,\n",
    "    -- Select only the last 3 characters from the last name\n",
    "    RIGHT(last_name, 3) AS part2\n",
    "FROM voters;"
   ]
  },
  {
   "cell_type": "code",
   "execution_count": null,
   "metadata": {
    "vscode": {
     "languageId": "sql"
    }
   },
   "outputs": [],
   "source": [
    "SELECT \n",
    "\tfirst_name,\n",
    "\tlast_name,\n",
    "\tcountry,\n",
    "    -- Select only the first 3 characters from the first name\n",
    "\tLEFT(first_name, 3) AS part1,\n",
    "    -- Select only the last 3 characters from the last name\n",
    "    RIGHT(last_name, 3) AS part2,\n",
    "    -- Select only the last 2 digits from the birth date\n",
    "    RIGHT(birthdate, 2) AS part3\n",
    "FROM voters;"
   ]
  },
  {
   "cell_type": "code",
   "execution_count": null,
   "metadata": {
    "vscode": {
     "languageId": "sql"
    }
   },
   "outputs": [],
   "source": [
    "SELECT \n",
    "\tfirst_name,\n",
    "\tlast_name,\n",
    "\tcountry,\n",
    "    -- Select only the first 3 characters from the first name\n",
    "\tLEFT(first_name, 3) AS part1,\n",
    "    -- Select only the last 3 characters from the last name\n",
    "    RIGHT(last_name, 3) AS part2,\n",
    "    -- Select only the last 2 digits from the birth date\n",
    "    RIGHT(birthdate, 2) AS part3,\n",
    "    -- Create the alias for each voter\n",
    "    LEFT(first_name, 3) + RIGHT(last_name, 3) + '_' +  RIGHT(birthdate, 2) AS initialID\n",
    "FROM voters;"
   ]
  },
  {
   "cell_type": "code",
   "execution_count": null,
   "metadata": {
    "vscode": {
     "languageId": "sql"
    }
   },
   "outputs": [],
   "source": [
    "-- Latihan 3\n",
    "SELECT \n",
    "\temail,\n",
    "    -- Extract 5 characters from email, starting at position 3\n",
    "\tSUBSTRING(email, 3, 5) AS some_letters\n",
    "FROM voters;"
   ]
  },
  {
   "cell_type": "code",
   "execution_count": null,
   "metadata": {
    "vscode": {
     "languageId": "sql"
    }
   },
   "outputs": [],
   "source": [
    "DECLARE @sentence NVARCHAR(200) = 'Apples are neither oranges nor potatoes.'\n",
    "SELECT\n",
    "\t-- Extract the word \"Apples\" \n",
    "\tSUBSTRING(@sentence, 1, 6) AS fruit1,\n",
    "    -- Extract the word \"oranges\"\n",
    "\tSUBSTRING(@sentence, 20, 7) AS fruit2;"
   ]
  },
  {
   "cell_type": "code",
   "execution_count": null,
   "metadata": {
    "vscode": {
     "languageId": "sql"
    }
   },
   "outputs": [],
   "source": [
    "-- Latihan 4\n",
    "SELECT \n",
    "\tfirst_name,\n",
    "\tlast_name,\n",
    "\temail,\n",
    "\t-- Replace \"yahoo.com\" with \"live.com\"\n",
    "\tREPLACE(email, 'yahoo.com', 'live.com') AS new_email\n",
    "FROM voters;"
   ]
  },
  {
   "cell_type": "code",
   "execution_count": null,
   "metadata": {
    "vscode": {
     "languageId": "sql"
    }
   },
   "outputs": [],
   "source": [
    "SELECT \n",
    "\tcompany AS initial_name,\n",
    "    -- Replace '&' with 'and'\n",
    "\tREPLACE(company, '&', 'and') AS new_name \n",
    "FROM ratings\n",
    "WHERE CHARINDEX('&', company) > 0;"
   ]
  },
  {
   "cell_type": "code",
   "execution_count": null,
   "metadata": {
    "vscode": {
     "languageId": "sql"
    }
   },
   "outputs": [],
   "source": [
    "SELECT \n",
    "\tcompany AS old_company,\n",
    "    -- Remove the text '(Valrhona)' from the name\n",
    "\tREPLACE(company, '(Valrhona)', '') AS new_company,\n",
    "\tbean_type,\n",
    "\tbroad_bean_origin\n",
    "FROM ratings\n",
    "WHERE company = 'La Maison du Chocolat (Valrhona)';"
   ]
  },
  {
   "cell_type": "markdown",
   "metadata": {},
   "source": [
    "Functions manipulating groups of string"
   ]
  },
  {
   "cell_type": "code",
   "execution_count": null,
   "metadata": {
    "vscode": {
     "languageId": "sql"
    }
   },
   "outputs": [],
   "source": [
    "-- Latihan 1\n",
    "DECLARE @string1 NVARCHAR(100) = 'Chocolate with beans from';\n",
    "DECLARE @string2 NVARCHAR(100) = 'has a cocoa percentage of';\n",
    "\n",
    "SELECT \n",
    "\tbean_type,\n",
    "\tbean_origin,\n",
    "\tcocoa_percent,\n",
    "\t-- Create a message by concatenating values with \"+\"\n",
    "\t@string1 + ' ' + bean_origin + ' ' + @string2 + ' ' + CAST(cocoa_percent AS nvarchar) AS message1\n",
    "FROM ratings\n",
    "WHERE \n",
    "\tcompany = 'Ambrosia' \n",
    "\tAND bean_type <> 'Unknown';"
   ]
  },
  {
   "cell_type": "code",
   "execution_count": null,
   "metadata": {
    "vscode": {
     "languageId": "sql"
    }
   },
   "outputs": [],
   "source": [
    "DECLARE @string1 NVARCHAR(100) = 'Chocolate with beans from';\n",
    "DECLARE @string2 NVARCHAR(100) = 'has a cocoa percentage of';\n",
    "\n",
    "SELECT \n",
    "\tbean_type,\n",
    "\tbean_origin,\n",
    "\tcocoa_percent,\n",
    "\t-- Create a message by concatenating values with \"+\"\n",
    "\t@string1 + ' ' + bean_origin + ' ' + @string2 + ' ' + CAST(cocoa_percent AS nvarchar) AS message1,\n",
    "\t-- Create a message by concatenating values with \"CONCAT()\"\n",
    "\tCONCAT(@string1, ' ', bean_origin, ' ', @string2, ' ', cocoa_percent) AS message2\n",
    "FROM ratings\n",
    "WHERE \n",
    "\tcompany = 'Ambrosia' \n",
    "\tAND bean_type <> 'Unknown';"
   ]
  },
  {
   "cell_type": "code",
   "execution_count": null,
   "metadata": {
    "vscode": {
     "languageId": "sql"
    }
   },
   "outputs": [],
   "source": [
    "DECLARE @string1 NVARCHAR(100) = 'Chocolate with beans from';\n",
    "DECLARE @string2 NVARCHAR(100) = 'has a cocoa percentage of';\n",
    "\n",
    "SELECT \n",
    "\tbean_type,\n",
    "\tbean_origin,\n",
    "\tcocoa_percent,\n",
    "\t-- Create a message by concatenating values with \"+\"\n",
    "\t@string1 + ' ' + bean_origin + ' ' + @string2 + ' ' + CAST(cocoa_percent AS nvarchar) AS message1,\n",
    "\t-- Create a message by concatenating values with \"CONCAT()\"\n",
    "\tCONCAT(@string1, ' ', bean_origin, ' ', @string2, ' ', cocoa_percent) AS message2,\n",
    "\t-- Create a message by concatenating values with \"CONCAT_WS()\"\n",
    "\tCONCAT_WS(' ', @string1, bean_origin, @string2, cocoa_percent) AS message3\n",
    "FROM ratings\n",
    "WHERE \n",
    "\tcompany = 'Ambrosia' \n",
    "\tAND bean_type <> 'Unknown';"
   ]
  },
  {
   "cell_type": "code",
   "execution_count": null,
   "metadata": {
    "vscode": {
     "languageId": "sql"
    }
   },
   "outputs": [],
   "source": [
    "-- Latihan 2\n",
    "SELECT\n",
    "\t-- Create a list with all bean origins, delimited by comma\n",
    "\tSTRING_AGG(bean_origin, ',') AS bean_origins\n",
    "FROM ratings\n",
    "WHERE company IN ('Bar Au Chocolat', 'Chocolate Con Amor', 'East Van Roasters');"
   ]
  },
  {
   "cell_type": "code",
   "execution_count": null,
   "metadata": {
    "vscode": {
     "languageId": "sql"
    }
   },
   "outputs": [],
   "source": [
    "SELECT \n",
    "\tcompany,\n",
    "    -- Create a list with all bean origins\n",
    "\tSTRING_AGG(bean_origin, ',') AS bean_origins\n",
    "FROM ratings\n",
    "WHERE company IN ('Bar Au Chocolat', 'Chocolate Con Amor', 'East Van Roasters')\n",
    "-- Specify the columns used for grouping your data\n",
    "GROUP BY company;"
   ]
  },
  {
   "cell_type": "code",
   "execution_count": null,
   "metadata": {
    "vscode": {
     "languageId": "sql"
    }
   },
   "outputs": [],
   "source": [
    "SELECT \n",
    "\tcompany,\n",
    "    -- Create a list with all bean origins ordered alplabetically\n",
    "\tSTRING_AGG(bean_origin, ',') WITHIN GROUP (ORDER BY bean_origin) AS bean_origins\n",
    "FROM ratings\n",
    "WHERE company IN ('Bar Au Chocolat', 'Chocolate Con Amor', 'East Van Roasters')\n",
    "-- Specify the columns used for grouping your data\n",
    "GROUP BY company;"
   ]
  },
  {
   "cell_type": "code",
   "execution_count": null,
   "metadata": {
    "vscode": {
     "languageId": "sql"
    }
   },
   "outputs": [],
   "source": [
    "-- Latihan 3\n",
    "DECLARE @phrase NVARCHAR(MAX) = 'In the morning I brush my teeth. In the afternoon I take a nap. In the evening I watch TV.'\n",
    "\n",
    "SELECT value\n",
    "FROM STRING_SPLIT(@phrase, '.');"
   ]
  },
  {
   "cell_type": "code",
   "execution_count": null,
   "metadata": {
    "vscode": {
     "languageId": "sql"
    }
   },
   "outputs": [],
   "source": [
    "DECLARE @phrase NVARCHAR(MAX) = 'In the morning I brush my teeth. In the afternoon I take a nap. In the evening I watch TV.'\n",
    "\n",
    "SELECT value\n",
    "FROM STRING_SPLIT(@phrase, ' ');"
   ]
  },
  {
   "cell_type": "code",
   "execution_count": null,
   "metadata": {
    "vscode": {
     "languageId": "sql"
    }
   },
   "outputs": [],
   "source": [
    "-- Latihan 4\n",
    "SELECT\n",
    "\tfirst_name,\n",
    "    last_name,\n",
    "\tbirthdate,\n",
    "\temail,\n",
    "\tcountry\n",
    "FROM voters\n",
    "   -- Select only voters with a first name less than 5 characters\n",
    "WHERE LEN(first_name) < 5\n",
    "   -- Look for the desired pattern in the email address\n",
    "\tAND PATINDEX('j_a%@yahoo.com', email) > 0;\n",
    "\t"
   ]
  },
  {
   "cell_type": "code",
   "execution_count": null,
   "metadata": {
    "vscode": {
     "languageId": "sql"
    }
   },
   "outputs": [],
   "source": [
    "SELECT\n",
    "    -- Concatenate the first and last name\n",
    "\tCONCAT('***' , first_name, ' ', UPPER(last_name), '***') AS name,\n",
    "    last_name,\n",
    "\tbirthdate,\n",
    "\temail,\n",
    "\tcountry\n",
    "FROM voters\n",
    "   -- Select only voters with a first name less than 5 characters\n",
    "WHERE LEN(first_name) < 5\n",
    "   -- Look for this pattern in the email address: \"j%[0-9]@yahoo.com\"\n",
    "\tAND PATINDEX('j_a%@yahoo.com', email) > 0;  "
   ]
  },
  {
   "cell_type": "code",
   "execution_count": null,
   "metadata": {
    "vscode": {
     "languageId": "sql"
    }
   },
   "outputs": [],
   "source": [
    "SELECT\n",
    "    -- Concatenate the first and last name\n",
    "\tCONCAT('***' , first_name, ' ', UPPER(last_name), '***') AS name,\n",
    "    -- Mask the last two digits of the year\n",
    "    REPLACE(birthdate, SUBSTRING(CAST(birthdate AS varchar), 3, 2), 'XX') AS birthdate,\n",
    "\temail,\n",
    "\tcountry\n",
    "FROM voters\n",
    "   -- Select only voters with a first name less than 5 characters\n",
    "WHERE LEN(first_name) < 5\n",
    "   -- Look for this pattern in the email address: \"j%[0-9]@yahoo.com\"\n",
    "\tAND PATINDEX('j_a%@yahoo.com', email) > 0;  "
   ]
  }
 ],
 "metadata": {
  "kernelspec": {
   "display_name": "Python 3.10.4 64-bit",
   "language": "python",
   "name": "python3"
  },
  "language_info": {
   "name": "python",
   "version": "3.10.4"
  },
  "orig_nbformat": 4,
  "vscode": {
   "interpreter": {
    "hash": "d3e10ef16274dd72e574b8fa73b58450b957d8421a2901baded3cca26fcf5dda"
   }
  }
 },
 "nbformat": 4,
 "nbformat_minor": 2
}
