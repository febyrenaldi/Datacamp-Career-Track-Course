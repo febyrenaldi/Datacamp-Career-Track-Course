{
 "cells": [
  {
   "cell_type": "markdown",
   "metadata": {},
   "source": [
    "Aggregate arithmetic functions"
   ]
  },
  {
   "cell_type": "code",
   "execution_count": null,
   "metadata": {
    "vscode": {
     "languageId": "sql"
    }
   },
   "outputs": [],
   "source": [
    "-- Latihan 1\n",
    "SELECT \n",
    "\tgender, \n",
    "\t-- Count the number of voters for each group\n",
    "\tCOUNT(*) AS voters,\n",
    "\t-- Calculate the total number of votes per group\n",
    "\tSUM(total_votes) AS total_votes\n",
    "FROM voters\n",
    "GROUP BY gender;"
   ]
  },
  {
   "cell_type": "code",
   "execution_count": null,
   "metadata": {
    "vscode": {
     "languageId": "sql"
    }
   },
   "outputs": [],
   "source": [
    "-- Latihan 2\n",
    "SELECT \n",
    "\tcompany,\n",
    "\t-- Calculate the average cocoa percent\n",
    "\tAVG(cocoa_percent) AS avg_cocoa\n",
    "FROM ratings\n",
    "GROUP BY company;"
   ]
  },
  {
   "cell_type": "code",
   "execution_count": null,
   "metadata": {
    "vscode": {
     "languageId": "sql"
    }
   },
   "outputs": [],
   "source": [
    "SELECT \n",
    "\tcompany,\n",
    "\t-- Calculate the average cocoa percent\n",
    "\tAVG(cocoa_percent) AS avg_cocoa,\n",
    "\t-- Calculate the minimum rating received by each company\n",
    "\tMIN(rating) AS min_rating\t\n",
    "FROM ratings\n",
    "GROUP BY company;"
   ]
  },
  {
   "cell_type": "code",
   "execution_count": null,
   "metadata": {
    "vscode": {
     "languageId": "sql"
    }
   },
   "outputs": [],
   "source": [
    "SELECT \n",
    "\tcompany,\n",
    "\t-- Calculate the average cocoa percent\n",
    "\tAVG(cocoa_percent) AS avg_cocoa,\n",
    "\t-- Calculate the minimum rating received by each company\n",
    "\tMIN(rating) AS min_rating,\n",
    "\t-- Calculate the maximum rating received by each company\n",
    "\tMAX(rating) AS max_rating\n",
    "FROM ratings\n",
    "GROUP BY company;"
   ]
  },
  {
   "cell_type": "code",
   "execution_count": null,
   "metadata": {
    "vscode": {
     "languageId": "sql"
    }
   },
   "outputs": [],
   "source": [
    "SELECT \n",
    "\tcompany,\n",
    "\t-- Calculate the average cocoa percent\n",
    "\tAVG(cocoa_percent) AS avg_cocoa,\n",
    "\t-- Calculate the minimum rating received by each company\n",
    "\tMIN(rating) AS min_rating,\n",
    "\t-- Calculate the maximum rating received by each company\n",
    "\tMAX(rating) AS max_rating\n",
    "FROM ratings\n",
    "GROUP BY company\n",
    "-- Order the values by the maximum rating\n",
    "ORDER BY MAX(rating) DESC;"
   ]
  },
  {
   "cell_type": "markdown",
   "metadata": {},
   "source": [
    "Analytic functions"
   ]
  },
  {
   "cell_type": "code",
   "execution_count": null,
   "metadata": {
    "vscode": {
     "languageId": "sql"
    }
   },
   "outputs": [],
   "source": [
    "-- Latihan 1\n",
    "SELECT \n",
    "\tfirst_name,\n",
    "\tlast_name,\n",
    "\ttotal_votes AS votes,\n",
    "    -- Select the number of votes of the next voter\n",
    "\tLEAD(total_votes) OVER (ORDER BY total_votes) AS votes_next_voter,\n",
    "    -- Calculate the difference between the number of votes\n",
    "\tLEAD(total_votes) OVER (ORDER BY total_votes) - total_votes AS votes_diff\n",
    "FROM voters\n",
    "WHERE country = 'France'\n",
    "ORDER BY total_votes;"
   ]
  },
  {
   "cell_type": "code",
   "execution_count": null,
   "metadata": {
    "vscode": {
     "languageId": "sql"
    }
   },
   "outputs": [],
   "source": [
    "-- Latihan 2\n",
    "SELECT \n",
    "\tbroad_bean_origin AS bean_origin,\n",
    "\trating,\n",
    "\tcocoa_percent,\n",
    "    -- Retrieve the cocoa % of the bar with the previous rating\n",
    "\tLAG(cocoa_percent) \n",
    "\t\tOVER(PARTITION BY broad_bean_origin ORDER BY rating ) AS percent_lower_rating\n",
    "FROM ratings\n",
    "WHERE company = 'Fruition'\n",
    "ORDER BY broad_bean_origin, rating ASC;"
   ]
  },
  {
   "cell_type": "code",
   "execution_count": null,
   "metadata": {
    "vscode": {
     "languageId": "sql"
    }
   },
   "outputs": [],
   "source": [
    "-- Latihan 3\n",
    "SELECT \n",
    "\tfirst_name + ' ' + last_name AS name,\n",
    "\tcountry,\n",
    "\tbirthdate,\n",
    "\t-- Retrieve the birthdate of the oldest voter per country\n",
    "\tFIRST_VALUE(birthdate) \n",
    "\tOVER (PARTITION BY country ORDER BY birthdate) AS oldest_voter,\n",
    "\t-- Retrieve the birthdate of the youngest voter per country\n",
    "\tLAST_VALUE(birthdate) \n",
    "\t\tOVER (PARTITION BY country ORDER BY birthdate ROWS BETWEEN UNBOUNDED PRECEDING AND UNBOUNDED FOLLOWING\n",
    "\t\t\t\t) AS youngest_voter\n",
    "FROM voters\n",
    "WHERE country IN ('Spain', 'USA');"
   ]
  }
 ],
 "metadata": {
  "kernelspec": {
   "display_name": "Python 3.10.4 64-bit",
   "language": "python",
   "name": "python3"
  },
  "language_info": {
   "name": "python",
   "version": "3.10.4"
  },
  "orig_nbformat": 4,
  "vscode": {
   "interpreter": {
    "hash": "d3e10ef16274dd72e574b8fa73b58450b957d8421a2901baded3cca26fcf5dda"
   }
  }
 },
 "nbformat": 4,
 "nbformat_minor": 2
}
