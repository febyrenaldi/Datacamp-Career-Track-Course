{
 "cells": [
  {
   "cell_type": "markdown",
   "metadata": {},
   "source": [
    "Data analysis with aggregations"
   ]
  },
  {
   "cell_type": "code",
   "execution_count": null,
   "metadata": {
    "vscode": {
     "languageId": "sql"
    }
   },
   "outputs": [],
   "source": [
    "-- Latihan 1\n",
    "-- Calculate the average, minimum and maximum\n",
    "SELECT AVG(DurationSeconds) AS Average, \n",
    "       MIN(DurationSeconds) AS Minimum, \n",
    "       MAX(DurationSeconds) AS Maximum\n",
    "FROM Incidents"
   ]
  },
  {
   "cell_type": "code",
   "execution_count": null,
   "metadata": {
    "vscode": {
     "languageId": "sql"
    }
   },
   "outputs": [],
   "source": [
    "-- Latihan 2\n",
    "-- Calculate the aggregations by Shape\n",
    "SELECT shape,\n",
    "       AVG(DurationSeconds) AS Average, \n",
    "       MIN(DurationSeconds) AS Minimum, \n",
    "       MAX(DurationSeconds) AS Maximum\n",
    "FROM Incidents\n",
    "GROUP BY shape;"
   ]
  },
  {
   "cell_type": "code",
   "execution_count": null,
   "metadata": {
    "vscode": {
     "languageId": "sql"
    }
   },
   "outputs": [],
   "source": [
    "-- Calculate the aggregations by Shape\n",
    "SELECT Shape,\n",
    "       AVG(DurationSeconds) AS Average, \n",
    "       MIN(DurationSeconds) AS Minimum, \n",
    "       MAX(DurationSeconds) AS Maximum\n",
    "FROM Incidents\n",
    "GROUP BY Shape\n",
    "-- Return records where minimum of DurationSeconds is greater than 1\n",
    "HAVING MIN(DurationSeconds) > 1"
   ]
  },
  {
   "cell_type": "markdown",
   "metadata": {},
   "source": [
    "Dealing with missing data"
   ]
  },
  {
   "cell_type": "code",
   "execution_count": null,
   "metadata": {
    "vscode": {
     "languageId": "sql"
    }
   },
   "outputs": [],
   "source": [
    "-- Latihan 1\n",
    "-- Return the specified columns\n",
    "SELECT \n",
    "    IncidentDateTime,\n",
    "    IncidentState\n",
    "FROM Incidents\n",
    "-- Exclude all the missing values from IncidentState  \n",
    "WHERE IncidentState is NOT NULL"
   ]
  },
  {
   "cell_type": "code",
   "execution_count": null,
   "metadata": {
    "vscode": {
     "languageId": "sql"
    }
   },
   "outputs": [],
   "source": [
    "-- Latihan 1\n",
    "-- Check the IncidentState column for missing values and replace them with the City column\n",
    "SELECT IncidentState, ISNULL(IncidentState,City) AS Location\n",
    "FROM Incidents\n",
    "-- Filter to only return missing values from IncidentState\n",
    "WHERE IncidentState IS NULL"
   ]
  },
  {
   "cell_type": "code",
   "execution_count": null,
   "metadata": {
    "vscode": {
     "languageId": "sql"
    }
   },
   "outputs": [],
   "source": [
    "-- Latihan 3\n",
    "-- Replace missing values\n",
    "SELECT Country, COALESCE(Country, IncidentState, City) AS Location\n",
    "FROM Incidents\n",
    "WHERE Country IS NULL\n",
    "\n",
    "SELECT Country, COALESCE(Country, IncidentState, City) AS Location\n",
    "FROM Incidents\n",
    "WHERE Country IS NULL"
   ]
  },
  {
   "cell_type": "markdown",
   "metadata": {},
   "source": [
    "Binning data with CASE"
   ]
  },
  {
   "cell_type": "code",
   "execution_count": null,
   "metadata": {
    "vscode": {
     "languageId": "sql"
    }
   },
   "outputs": [],
   "source": [
    "-- Latihan 1\n",
    "SELECT Country, \n",
    "       CASE WHEN Country = 'us'  THEN 'USA'\n",
    "       ELSE 'International'\n",
    "       END AS SourceCountry\n",
    "FROM Incidents\n"
   ]
  },
  {
   "cell_type": "code",
   "execution_count": null,
   "metadata": {
    "vscode": {
     "languageId": "sql"
    }
   },
   "outputs": [],
   "source": [
    "-- Latihan 2\n",
    "-- Complete the syntax for cutting the duration into different cases\n",
    "SELECT DurationSeconds,\n",
    "-- Start with the 2 TSQL keywords, and after the condition a TSQL word and a value\n",
    "       CASE WHEN (DurationSeconds <= 120) THEN 1\n",
    "-- The pattern repeats with the same keyword and after the condition the same word and next value    \n",
    "\t   WHEN (DurationSeconds > 120 AND DurationSeconds <= 600) THEN 2\n",
    "-- Use the same syntax here  \n",
    "\t   WHEN (DurationSeconds > 601 AND DurationSeconds <= 1200) THEN 3\n",
    "-- Use the same syntax here\n",
    "\t   WHEN (DurationSeconds > 1201 AND DurationSeconds <= 5000) THEN 4\n",
    "-- Specify a value\n",
    "       ELSE 5\n",
    "\t   END AS SecondGroup\n",
    "FROM Incidents"
   ]
  }
 ],
 "metadata": {
  "language_info": {
   "name": "python"
  },
  "orig_nbformat": 4
 },
 "nbformat": 4,
 "nbformat_minor": 2
}
