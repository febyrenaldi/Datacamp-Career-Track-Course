{
 "cells": [
  {
   "cell_type": "markdown",
   "metadata": {},
   "source": [
    "WHILE loops"
   ]
  },
  {
   "cell_type": "code",
   "execution_count": null,
   "metadata": {
    "vscode": {
     "languageId": "sql"
    }
   },
   "outputs": [],
   "source": [
    "-- Latihan 1\n",
    "-- Declare the variable (a SQL Command, the var name, the datatype)\n",
    "DECLARE @counter INT\n",
    "\n",
    "-- Set the counter to 20\n",
    "SET @counter = 20\n",
    "\n",
    "-- Select the counter\n",
    "SELECT @counter"
   ]
  },
  {
   "cell_type": "code",
   "execution_count": null,
   "metadata": {
    "vscode": {
     "languageId": "sql"
    }
   },
   "outputs": [],
   "source": [
    "-- Declare the variable (a SQL Command, the var name, the datatype)\n",
    "DECLARE @counter INT\n",
    "\n",
    "-- Set the counter to 20\n",
    "SET @counter = 20\n",
    "\n",
    "-- Select and increment the counter by one\n",
    "SET @counter=@counter+1\n",
    "\n",
    "-- Print the variable\n",
    "SELECT @counter"
   ]
  },
  {
   "cell_type": "code",
   "execution_count": null,
   "metadata": {
    "vscode": {
     "languageId": "sql"
    }
   },
   "outputs": [],
   "source": [
    "-- Latihan 2\n",
    "DECLARE @counter INT\n",
    "SET @counter = 20\n",
    "\n",
    "-- Create a loop\n",
    "WHILE @counter<30\n",
    "\n",
    "-- Loop code starting point\n",
    "BEGIN\n",
    "\tSELECT @counter = @counter + 1\n",
    "-- Loop finish\n",
    "END\n",
    "\n",
    "-- Check the value of the variable\n",
    "SELECT @counter"
   ]
  },
  {
   "cell_type": "markdown",
   "metadata": {},
   "source": [
    "Derived tables"
   ]
  },
  {
   "cell_type": "code",
   "execution_count": null,
   "metadata": {
    "vscode": {
     "languageId": "sql"
    }
   },
   "outputs": [],
   "source": [
    "-- Latihan 1\n",
    "SELECT a.RecordId, a.Age, a.BloodGlucoseRandom,\n",
    "-- Select maximum glucose value (use colname from derived table)    \n",
    "       b.MaxGlucose\n",
    "FROM Kidney a\n",
    "-- Join to derived table\n",
    "JOIN (SELECT Age, MAX(BloodGlucoseRandom) AS MaxGlucose FROM Kidney GROUP BY Age) b\n",
    "-- Join on Age\n",
    "ON a.Age=b.Age"
   ]
  },
  {
   "cell_type": "code",
   "execution_count": null,
   "metadata": {
    "vscode": {
     "languageId": "sql"
    }
   },
   "outputs": [],
   "source": [
    "SELECT *\n",
    "FROM Kidney a\n",
    "-- JOIN and create the derived table\n",
    "JOIN (SELECT Age, MAX(BloodPressure) AS MaxBloodPressure FROM Kidney GROUP BY Age) b\n",
    "-- JOIN on BloodPressure equal to MaxBloodPressure\n",
    "ON a.BloodPressure = b.MaxBloodPressure\n",
    "-- Join on Age\n",
    "AND a.Age = b.Age"
   ]
  },
  {
   "cell_type": "markdown",
   "metadata": {},
   "source": [
    "Common Table Expressions"
   ]
  },
  {
   "cell_type": "code",
   "execution_count": null,
   "metadata": {
    "vscode": {
     "languageId": "sql"
    }
   },
   "outputs": [],
   "source": [
    "-- Latihan 1\n",
    "-- Specify the keyowrds to create the CTE\n",
    "WITH BloodGlucoseRandom (MaxGlucose)\n",
    "AS (SELECT MAX(BloodGlucoseRandom) AS MaxGlucose FROM Kidney)\n",
    "\n",
    "SELECT a.Age, b.MaxGlucose\n",
    "FROM Kidney a\n",
    "-- Join the CTE on blood glucose equal to max blood glucose\n",
    "JOIN BloodGlucoseRandom b\n",
    "ON a.BloodGlucoseRandom = b.MaxGlucose"
   ]
  },
  {
   "cell_type": "code",
   "execution_count": null,
   "metadata": {
    "vscode": {
     "languageId": "sql"
    }
   },
   "outputs": [],
   "source": [
    "-- Latihan 2\n",
    "-- Create the CTE\n",
    "WITH BloodPressure (MaxBloodPressure)\n",
    "AS (SELECT MAX(BloodPressure) AS MaxBloodPressure FROM Kidney)\n",
    "\n",
    "SELECT *\n",
    "FROM Kidney a\n",
    "-- Join the CTE  \n",
    "JOIN BloodPressure b\n",
    "ON a.BloodPressure = b.MaxBloodPressure"
   ]
  }
 ],
 "metadata": {
  "language_info": {
   "name": "python"
  },
  "orig_nbformat": 4
 },
 "nbformat": 4,
 "nbformat_minor": 2
}
