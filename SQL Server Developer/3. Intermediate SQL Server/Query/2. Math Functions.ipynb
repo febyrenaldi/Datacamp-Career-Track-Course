{
 "cells": [
  {
   "cell_type": "markdown",
   "metadata": {},
   "source": [
    "Counting and totals"
   ]
  },
  {
   "cell_type": "code",
   "execution_count": null,
   "metadata": {
    "vscode": {
     "languageId": "sql"
    }
   },
   "outputs": [],
   "source": [
    "-- Latihan 1\n",
    "-- Write a query that returns an aggregation\n",
    "SELECT MixDesc, SUM(Quantity) as Total\n",
    "FROM Shipments\n",
    "-- Group by the relevant column\n",
    "Group by MixDesc"
   ]
  },
  {
   "cell_type": "code",
   "execution_count": null,
   "metadata": {
    "vscode": {
     "languageId": "sql"
    }
   },
   "outputs": [],
   "source": [
    "-- Latihan 2\n",
    "-- Count the number of rows by MixDesc\n",
    "SELECT MixDesc, Count(*)\n",
    "FROM Shipments\n",
    "GROUP BY MixDesc"
   ]
  },
  {
   "cell_type": "markdown",
   "metadata": {},
   "source": [
    "Dates"
   ]
  },
  {
   "cell_type": "code",
   "execution_count": null,
   "metadata": {
    "vscode": {
     "languageId": "sql"
    }
   },
   "outputs": [],
   "source": [
    "-- Latihan 1\n",
    "-- Return the difference in OrderDate and ShipDate\n",
    "SELECT OrderDate, ShipDate,\n",
    "       DATEDIFF(DD, OrderDate, ShipDate) AS Duration\n",
    "FROM Shipments"
   ]
  },
  {
   "cell_type": "code",
   "execution_count": null,
   "metadata": {
    "vscode": {
     "languageId": "sql"
    }
   },
   "outputs": [],
   "source": [
    "-- Latihan 2\n",
    "-- Return the DeliveryDate as 5 days after the ShipDate\n",
    "SELECT OrderDate,\n",
    "       DATEADD(DD,05,ShipDate) AS DeliveryDate\n",
    "FROM Shipments"
   ]
  },
  {
   "cell_type": "markdown",
   "metadata": {},
   "source": [
    "Rounding and truncating"
   ]
  },
  {
   "cell_type": "code",
   "execution_count": null,
   "metadata": {
    "vscode": {
     "languageId": "sql"
    }
   },
   "outputs": [],
   "source": [
    "-- Latihan 1\n",
    "-- Round Cost to the nearest dollar\n",
    "SELECT Cost,\n",
    "       ROUND(Cost,0) AS RoundedCost\n",
    "FROM Shipments"
   ]
  },
  {
   "cell_type": "code",
   "execution_count": null,
   "metadata": {
    "vscode": {
     "languageId": "sql"
    }
   },
   "outputs": [],
   "source": [
    "-- Latihan 2\n",
    "-- Truncate cost to whole number\n",
    "SELECT Cost,\n",
    "       ROUND(Cost,0,1) AS TruncateCost\n",
    "FROM Shipments"
   ]
  },
  {
   "cell_type": "markdown",
   "metadata": {},
   "source": [
    "More math functions"
   ]
  },
  {
   "cell_type": "code",
   "execution_count": null,
   "metadata": {
    "vscode": {
     "languageId": "sql"
    }
   },
   "outputs": [],
   "source": [
    "-- Latihan 1\n",
    "-- Return the absolute value of DeliveryWeight\n",
    "SELECT DeliveryWeight,\n",
    "       ABS(DeliveryWeight) AS AbsoluteValue\n",
    "FROM Shipments"
   ]
  },
  {
   "cell_type": "code",
   "execution_count": null,
   "metadata": {
    "vscode": {
     "languageId": "sql"
    }
   },
   "outputs": [],
   "source": [
    "-- Latihan 2\n",
    "-- Return the square and square root of WeightValue\n",
    "SELECT WeightValue,\n",
    "       SQUARE(WeightValue) AS WeightSquare,\n",
    "       SQRT(WeightValue) AS WeightSqrt\n",
    "FROM Shipments"
   ]
  }
 ],
 "metadata": {
  "language_info": {
   "name": "python"
  },
  "orig_nbformat": 4
 },
 "nbformat": 4,
 "nbformat_minor": 2
}
