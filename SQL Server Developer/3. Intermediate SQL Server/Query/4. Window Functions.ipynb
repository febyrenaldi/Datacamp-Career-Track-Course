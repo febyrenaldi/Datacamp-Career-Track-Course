{
 "cells": [
  {
   "cell_type": "markdown",
   "metadata": {},
   "source": [
    "Window functions in T-SQL"
   ]
  },
  {
   "cell_type": "code",
   "execution_count": null,
   "metadata": {
    "vscode": {
     "languageId": "sql"
    }
   },
   "outputs": [],
   "source": [
    "-- Latihan 1\n",
    "SELECT OrderID, TerritoryName,\n",
    "       -- Total price using the partition\n",
    "       SUM(OrderPrice)\n",
    "       -- Create the window and partitions\n",
    "       OVER(PARTITION BY TerritoryName) AS TotalPrice\n",
    "FROM Orders\n"
   ]
  },
  {
   "cell_type": "code",
   "execution_count": null,
   "metadata": {
    "vscode": {
     "languageId": "sql"
    }
   },
   "outputs": [],
   "source": [
    "-- Latihan 2\n",
    "SELECT OrderID, TerritoryName,\n",
    "       -- Number of rows per partition\n",
    "       COUNT(*)\n",
    "       -- Create the window and partitions\n",
    "       OVER(PARTITION BY TerritoryName) AS TotalOrders\n",
    "FROM Orders"
   ]
  },
  {
   "cell_type": "markdown",
   "metadata": {},
   "source": [
    "Common window functions"
   ]
  },
  {
   "cell_type": "code",
   "execution_count": null,
   "metadata": {
    "vscode": {
     "languageId": "sql"
    }
   },
   "outputs": [],
   "source": [
    "-- Latihan 1\n",
    "SELECT TerritoryName, OrderDate,\n",
    "       -- Select the first value in each partition\n",
    "       FIRST_VALUE(OrderDate)\n",
    "       -- Create the partitions and arrange the rows\n",
    "       OVER(PARTITION BY TerritoryName ORDER BY OrderDate) AS FirstOrder\n",
    "FROM Orders"
   ]
  },
  {
   "cell_type": "code",
   "execution_count": null,
   "metadata": {
    "vscode": {
     "languageId": "sql"
    }
   },
   "outputs": [],
   "source": [
    "-- Latihan 2\n",
    "SELECT TerritoryName, OrderDate,\n",
    "       -- Specify the previous OrderDate in the window\n",
    "       LAG(OrderDate)\n",
    "       -- Over the window, partition by territory & order by order date\n",
    "       OVER(PARTITION BY TerritoryName ORDER BY OrderDate) AS PreviousOrder,\n",
    "       -- Specify the next OrderDate in the window\n",
    "       LEAD(OrderDate)\n",
    "       -- Create the partitions and arrange the rows\n",
    "       OVER(PARTITION BY TerritoryName ORDER BY OrderDate) AS NextOrder\n",
    "FROM Orders"
   ]
  },
  {
   "cell_type": "markdown",
   "metadata": {},
   "source": [
    "Increasing window complexity"
   ]
  },
  {
   "cell_type": "code",
   "execution_count": null,
   "metadata": {
    "vscode": {
     "languageId": "sql"
    }
   },
   "outputs": [],
   "source": [
    "-- Latihan 1\n",
    "SELECT TerritoryName, OrderDate,\n",
    "       -- Create a running total\n",
    "       SUM(OrderPrice)\n",
    "       -- Create the partitions and arrange the rows\n",
    "       OVER(PARTITION BY TerritoryName ORDER BY OrderDate) AS TerritoryTotal\t  \n",
    "FROM Orders"
   ]
  },
  {
   "cell_type": "code",
   "execution_count": null,
   "metadata": {
    "vscode": {
     "languageId": "sql"
    }
   },
   "outputs": [],
   "source": [
    "-- Latihan 2\n",
    "SELECT TerritoryName, OrderDate,\n",
    "       -- Assign a row number\n",
    "       ROW_NUMBER()\n",
    "       -- Create the partitions and arrange the rows\n",
    "       OVER(PARTITION BY TerritoryName ORDER BY OrderDate) AS OrderCount\n",
    "FROM Orders"
   ]
  },
  {
   "cell_type": "markdown",
   "metadata": {},
   "source": [
    "Using windows for statistical functions"
   ]
  },
  {
   "cell_type": "code",
   "execution_count": null,
   "metadata": {
    "vscode": {
     "languageId": "sql"
    }
   },
   "outputs": [],
   "source": [
    "-- Latihan 1\n",
    "SELECT OrderDate, TerritoryName,\n",
    "       -- Calculate the standard deviation\n",
    "\t   STDEV(OrderPrice)\n",
    "       OVER(PARTITION BY TerritoryName ORDER BY OrderDate) AS StdDevPrice\t  \n",
    "FROM Orders"
   ]
  },
  {
   "cell_type": "code",
   "execution_count": null,
   "metadata": {
    "vscode": {
     "languageId": "sql"
    }
   },
   "outputs": [],
   "source": [
    "-- Latihan 2\n",
    "-- Create a CTE Called ModePrice which contains two columns\n",
    "WITH ModePrice (OrderPrice, UnitPriceFrequency)\n",
    "AS\n",
    "(\n",
    "\tSELECT OrderPrice,\n",
    "\tROW_NUMBER()\n",
    "\tOVER(PARTITION BY OrderPrice ORDER BY OrderPrice) AS UnitPriceFrequency\n",
    "\tFROM Orders\n",
    ")\n",
    "\n",
    "-- Select everything from the CTE\n",
    "SELECT *\n",
    "FROM ModePrice"
   ]
  },
  {
   "cell_type": "code",
   "execution_count": null,
   "metadata": {
    "vscode": {
     "languageId": "sql"
    }
   },
   "outputs": [],
   "source": [
    "-- Latihan 3\n",
    "-- CTE from the previous exercise\n",
    "WITH ModePrice (OrderPrice, UnitPriceFrequency)\n",
    "AS\n",
    "(\n",
    "\tSELECT OrderPrice,\n",
    "\tROW_NUMBER()\n",
    "    OVER (PARTITION BY OrderPrice ORDER BY OrderPrice) AS UnitPriceFrequency\n",
    "\tFROM Orders\n",
    ")\n",
    "\n",
    "-- Select the order price from the CTE\n",
    "SELECT OrderPrice AS ModeOrderPrice\n",
    "FROM ModePrice\n",
    "-- Select the maximum UnitPriceFrequency from the CTE\n",
    "WHERE UnitPriceFrequency IN (SELECT MAX(UnitPriceFrequency) From ModePrice)"
   ]
  },
  {
   "cell_type": "code",
   "execution_count": null,
   "metadata": {
    "vscode": {
     "languageId": "sql"
    }
   },
   "outputs": [],
   "source": [
    "-- Latihan 1\n",
    "\n",
    "-- Latihan 2\n",
    "\n",
    "-- Latihan 3\n",
    "\n",
    "-- Latihan 4\n",
    "\n",
    "-- Latihan 5"
   ]
  }
 ],
 "metadata": {
  "language_info": {
   "name": "python"
  },
  "orig_nbformat": 4
 },
 "nbformat": 4,
 "nbformat_minor": 2
}
