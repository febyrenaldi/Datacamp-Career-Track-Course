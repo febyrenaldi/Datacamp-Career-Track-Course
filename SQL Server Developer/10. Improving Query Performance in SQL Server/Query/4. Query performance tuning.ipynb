{
 "cells": [
  {
   "cell_type": "markdown",
   "metadata": {},
   "source": [
    "Time statistics"
   ]
  },
  {
   "cell_type": "code",
   "execution_count": null,
   "metadata": {
    "vscode": {
     "languageId": "sql"
    }
   },
   "outputs": [],
   "source": [
    "-- Latihan 1\n",
    "SET STATISTICS TIME ON -- Turn the time command on"
   ]
  },
  {
   "cell_type": "code",
   "execution_count": null,
   "metadata": {
    "vscode": {
     "languageId": "sql"
    }
   },
   "outputs": [],
   "source": [
    "-- Query 1\n",
    "SELECT * \n",
    "FROM Teams\n",
    "-- Sub-query 1\n",
    "WHERE City IN -- Sub-query filter operator\n",
    "      (SELECT CityName \n",
    "       FROM Cities) -- Table from Earthquakes database\n",
    "-- Sub-query 2\n",
    "   AND City IN -- Sub-query filter operator\n",
    "\t   (SELECT CityName \n",
    "\t    FROM Cities\n",
    "\t\tWHERE CountryCode IN ('US','CA'))\n",
    "-- Sub-query 3\n",
    "    AND City IN -- Sub-query filter operator\n",
    "        (SELECT CityName \n",
    "         FROM Cities\n",
    "\t     WHERE Pop2017 >2000000);"
   ]
  },
  {
   "cell_type": "code",
   "execution_count": null,
   "metadata": {
    "vscode": {
     "languageId": "sql"
    }
   },
   "outputs": [],
   "source": [
    "-- Query 2\n",
    "SELECT * \n",
    "FROM Teams AS t\n",
    "WHERE EXISTS -- Sub-query filter operator\n",
    "\t(SELECT 1 \n",
    "     FROM Cities AS c\n",
    "     WHERE t.City = c.CityName -- Columns being compared\n",
    "        AND c.CountryCode IN ('US','CA')\n",
    "          AND c.Pop2017 > 2000000);"
   ]
  },
  {
   "cell_type": "code",
   "execution_count": null,
   "metadata": {
    "vscode": {
     "languageId": "sql"
    }
   },
   "outputs": [],
   "source": [
    "SET STATISTICS TIME OFF -- Turn the time command off"
   ]
  },
  {
   "cell_type": "markdown",
   "metadata": {},
   "source": [
    "Page read statistics"
   ]
  },
  {
   "cell_type": "code",
   "execution_count": null,
   "metadata": {
    "vscode": {
     "languageId": "sql"
    }
   },
   "outputs": [],
   "source": [
    "-- Latihan 1\n",
    "SET STATISTICS IO ON -- Turn the IO command on"
   ]
  },
  {
   "cell_type": "code",
   "execution_count": null,
   "metadata": {
    "vscode": {
     "languageId": "sql"
    }
   },
   "outputs": [],
   "source": [
    "-- Example 1\n",
    "SELECT CustomerID,\n",
    "       CompanyName,\n",
    "       (SELECT COUNT(*) \n",
    "\t    FROM Orders AS o -- Add table\n",
    "\t\tWHERE c.CustomerID = o.CustomerID) CountOrders\n",
    "FROM Customers AS c\n",
    "WHERE CustomerID IN -- Add filter operator\n",
    "       (SELECT CustomerID \n",
    "\t    FROM Orders \n",
    "\t\tWHERE ShipCity IN\n",
    "            ('Berlin','Bern','Bruxelles','Helsinki',\n",
    "\t\t\t'Lisboa','Madrid','Paris','London'));"
   ]
  },
  {
   "cell_type": "code",
   "execution_count": null,
   "metadata": {
    "vscode": {
     "languageId": "sql"
    }
   },
   "outputs": [],
   "source": [
    "-- Latihan 2\n",
    "-- Example 2\n",
    "SELECT c.CustomerID,\n",
    "       c.CompanyName,\n",
    "       COUNT(o.CustomerID)\n",
    "FROM Customers AS c\n",
    "INNER JOIN Orders AS o -- Join operator\n",
    "    ON c.CustomerID = o.CustomerID\n",
    "WHERE o.ShipCity IN -- Shipping destination column\n",
    "     ('Berlin','Bern','Bruxelles','Helsinki',\n",
    "\t 'Lisboa','Madrid','Paris','London')\n",
    "GROUP BY c.CustomerID,\n",
    "         c.CompanyName;"
   ]
  },
  {
   "cell_type": "code",
   "execution_count": null,
   "metadata": {
    "vscode": {
     "languageId": "sql"
    }
   },
   "outputs": [],
   "source": [
    "SET STATISTICS IO OFF -- Turn the IO command off"
   ]
  },
  {
   "cell_type": "markdown",
   "metadata": {},
   "source": [
    "Indexes"
   ]
  },
  {
   "cell_type": "code",
   "execution_count": null,
   "metadata": {
    "vscode": {
     "languageId": "sql"
    }
   },
   "outputs": [],
   "source": [
    "-- Latihan 1\n",
    "-- Query 1\n",
    "SELECT *\n",
    "FROM Cities\n",
    "WHERE CountryCode = 'RU'  -- Country code\n",
    "\t\tOR CountryCode = 'CN'  -- Country code"
   ]
  },
  {
   "cell_type": "code",
   "execution_count": null,
   "metadata": {
    "vscode": {
     "languageId": "sql"
    }
   },
   "outputs": [],
   "source": [
    "-- Query 2\n",
    "SELECT *\n",
    "FROM Cities\n",
    "WHERE CountryCode IN ('JM','NZ')  -- Country codes"
   ]
  },
  {
   "cell_type": "markdown",
   "metadata": {},
   "source": [
    "Execution plans"
   ]
  },
  {
   "cell_type": "code",
   "execution_count": null,
   "metadata": {
    "vscode": {
     "languageId": "sql"
    }
   },
   "outputs": [],
   "source": [
    "-- Latihan 1\n",
    "SELECT CityName AS NearCityName,\n",
    "\t   CountryCode\n",
    "FROM Cities\n",
    "\n",
    "UNION -- Append queries\n",
    "\n",
    "SELECT Capital AS NearCityName,\n",
    "       Code2 AS CountryCode\n",
    "FROM Nations;"
   ]
  }
 ],
 "metadata": {
  "kernelspec": {
   "display_name": "Python 3.10.4 64-bit",
   "language": "python",
   "name": "python3"
  },
  "language_info": {
   "name": "python",
   "version": "3.10.4"
  },
  "orig_nbformat": 4,
  "vscode": {
   "interpreter": {
    "hash": "d3e10ef16274dd72e574b8fa73b58450b957d8421a2901baded3cca26fcf5dda"
   }
  }
 },
 "nbformat": 4,
 "nbformat_minor": 2
}
