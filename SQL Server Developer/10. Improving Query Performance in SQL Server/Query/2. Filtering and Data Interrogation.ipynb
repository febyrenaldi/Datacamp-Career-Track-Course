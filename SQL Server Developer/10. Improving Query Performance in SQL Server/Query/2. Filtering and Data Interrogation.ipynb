{
 "cells": [
  {
   "cell_type": "markdown",
   "metadata": {},
   "source": [
    "Filtering with WHERE"
   ]
  },
  {
   "cell_type": "code",
   "execution_count": null,
   "metadata": {
    "vscode": {
     "languageId": "sql"
    }
   },
   "outputs": [],
   "source": [
    "-- Latihan 1\n",
    "-- First query\n",
    "/*\n",
    "SELECT PlayerName, \n",
    "    Team, \n",
    "    Position,\n",
    "    (DRebound+ORebound)/CAST(GamesPlayed AS numeric) AS AvgRebounds\n",
    "FROM PlayerStats\n",
    "WHERE AvgRebounds >= 12;\n",
    "*/"
   ]
  },
  {
   "cell_type": "code",
   "execution_count": null,
   "metadata": {
    "vscode": {
     "languageId": "sql"
    }
   },
   "outputs": [],
   "source": [
    "-- Second query\n",
    "-- Add the new column to the select statement\n",
    "SELECT PlayerName, \n",
    "       Team, \n",
    "       Position, \n",
    "       AvgRebounds -- Add the new column\n",
    "FROM\n",
    "     -- Sub-query starts here                             \n",
    "\t(SELECT \n",
    "      PlayerName, \n",
    "      Team, \n",
    "      Position,\n",
    "      -- Calculate average total rebounds\n",
    "     (ORebound+DRebound)/CAST(GamesPlayed AS numeric) AS AvgRebounds\n",
    "\t FROM PlayerStats) tr\n",
    "WHERE AvgRebounds >= 12; -- Filter rows"
   ]
  },
  {
   "cell_type": "code",
   "execution_count": null,
   "metadata": {
    "vscode": {
     "languageId": "sql"
    }
   },
   "outputs": [],
   "source": [
    "-- Latihan 2\n",
    "SELECT PlayerName, \n",
    "      Country, \n",
    "      College, \n",
    "      DraftYear, \n",
    "      DraftNumber \n",
    "FROM Players\n",
    "-- WHERE UPPER(LEFT(College,5)) LIKE 'LOU%'\n",
    "WHERE College LIKE 'Louisiana%'; -- Add the wildcard filter"
   ]
  },
  {
   "cell_type": "markdown",
   "metadata": {},
   "source": [
    "Filtering with HAVING"
   ]
  },
  {
   "cell_type": "code",
   "execution_count": null,
   "metadata": {
    "vscode": {
     "languageId": "sql"
    }
   },
   "outputs": [],
   "source": [
    "-- Latihan 1\n",
    "SELECT Country, COUNT(*) CountOfPlayers\n",
    "FROM Players\n",
    "-- Add the filter condition\n",
    "WHERE Country\n",
    "-- Fill in the missing countries\n",
    "\tIN ('Argentina','Brazil','Dominican Republic'\n",
    "        ,'Puerto Rico')\n",
    "GROUP BY Country;"
   ]
  },
  {
   "cell_type": "code",
   "execution_count": null,
   "metadata": {
    "vscode": {
     "languageId": "sql"
    }
   },
   "outputs": [],
   "source": [
    "-- Latihan 2\n",
    "SELECT Team, \n",
    "\tSUM(TotalPoints) AS TotalPFPoints\n",
    "FROM PlayerStats\n",
    "-- Filter for only rows with power forwards\n",
    "WHERE Position = 'PF'\n",
    "GROUP BY Team\n",
    "-- Filter for total points greater than 3000\n",
    "HAVING SUM(TotalPoints) > 3000;"
   ]
  },
  {
   "cell_type": "markdown",
   "metadata": {},
   "source": [
    "Interrogation after SELECT"
   ]
  },
  {
   "cell_type": "code",
   "execution_count": null,
   "metadata": {
    "vscode": {
     "languageId": "sql"
    }
   },
   "outputs": [],
   "source": [
    "-- Latihan 1\n",
    "SELECT * -- Select all rows and columns\n",
    "FROM Earthquakes;"
   ]
  },
  {
   "cell_type": "code",
   "execution_count": null,
   "metadata": {
    "vscode": {
     "languageId": "sql"
    }
   },
   "outputs": [],
   "source": [
    "SELECT Latitude, -- Y location coordinate column\n",
    "       Longitude, -- X location coordinate column\n",
    "\t   Magnitude, -- Earthquake strength column\n",
    "\t   Depth, -- Earthquake depth column\n",
    "\t   NearestPop -- Nearest city column\n",
    "FROM Earthquakes\n",
    "WHERE Country = 'PG' -- Papua New Guinea country code\n",
    "\tOR Country = 'ID'; -- Indonesia country code"
   ]
  },
  {
   "cell_type": "code",
   "execution_count": null,
   "metadata": {
    "vscode": {
     "languageId": "sql"
    }
   },
   "outputs": [],
   "source": [
    "-- Latihan 2\n",
    "SELECT TOP 10 -- Limit the number of rows to ten\n",
    "      Latitude,\n",
    "      Longitude,\n",
    "\t  Magnitude,\n",
    "\t  Depth,\n",
    "\t  NearestPop\n",
    "FROM Earthquakes\n",
    "WHERE Country = 'PG'\n",
    "\tOR Country = 'ID'\n",
    "ORDER BY Depth; -- Order results from shallowest to deepest"
   ]
  },
  {
   "cell_type": "code",
   "execution_count": null,
   "metadata": {
    "vscode": {
     "languageId": "sql"
    }
   },
   "outputs": [],
   "source": [
    "SELECT TOP 25 PERCENT -- Limit rows to the upper quartile\n",
    "       Latitude,\n",
    "       Longitude,\n",
    "\t   Magnitude,\n",
    "\t   Depth,\n",
    "\t   NearestPop\n",
    "FROM Earthquakes\n",
    "WHERE Country = 'PG'\n",
    "\tOR Country = 'ID'\n",
    "ORDER BY Magnitude DESC; -- Order the results"
   ]
  },
  {
   "cell_type": "markdown",
   "metadata": {},
   "source": [
    "Managing duplicates"
   ]
  },
  {
   "cell_type": "code",
   "execution_count": null,
   "metadata": {
    "vscode": {
     "languageId": "sql"
    }
   },
   "outputs": [],
   "source": [
    "-- Latihan 1\n",
    "SELECT NearestPop, -- Add the closest city\n",
    "        Country \n",
    "FROM Earthquakes\n",
    "WHERE Magnitude >= 8\n",
    "\tAND NearestPop IS NOT NULL\n",
    "ORDER BY NearestPop;"
   ]
  },
  {
   "cell_type": "code",
   "execution_count": null,
   "metadata": {
    "vscode": {
     "languageId": "sql"
    }
   },
   "outputs": [],
   "source": [
    "-- Latihan 2\n",
    "SELECT DISTINCT(NearestPop),-- Remove duplicate city\n",
    "\t\tCountry\n",
    "FROM Earthquakes\n",
    "WHERE Magnitude >= 8 -- Add filter condition\n",
    "\tAND NearestPop IS NOT NULL\n",
    "ORDER BY NearestPop;  "
   ]
  },
  {
   "cell_type": "code",
   "execution_count": null,
   "metadata": {
    "vscode": {
     "languageId": "sql"
    }
   },
   "outputs": [],
   "source": [
    "-- Latihan 3\n",
    "SELECT NearestPop, \n",
    "       Country, \n",
    "       COUNT(NearestPop) NumEarthquakes -- Number of cities\n",
    "FROM Earthquakes\n",
    "WHERE Magnitude >= 8\n",
    "\tAND Country IS NOT NULL\n",
    "GROUP BY NearestPop, Country -- Group columns\n",
    "ORDER BY NumEarthquakes DESC;"
   ]
  },
  {
   "cell_type": "code",
   "execution_count": null,
   "metadata": {
    "vscode": {
     "languageId": "sql"
    }
   },
   "outputs": [],
   "source": [
    "-- Latihan 3\n",
    "SELECT CityName AS NearCityName, -- City name column\n",
    "\t   CountryCode\n",
    "FROM Cities\n",
    "\n",
    "UNION -- Append queries\n",
    "\n",
    "SELECT Capital AS NearCityName, -- Nation capital column\n",
    "       Code2 AS CountryCode\n",
    "FROM Nations;"
   ]
  },
  {
   "cell_type": "code",
   "execution_count": null,
   "metadata": {
    "vscode": {
     "languageId": "sql"
    }
   },
   "outputs": [],
   "source": [
    "SELECT CityName AS NearCityName,\n",
    "\t   CountryCode\n",
    "FROM Cities\n",
    "\n",
    "UNION ALL -- Append queries\n",
    "\n",
    "SELECT Capital AS NearCityName,\n",
    "       Code2 AS CountryCode  -- Country code column\n",
    "FROM Nations;"
   ]
  }
 ],
 "metadata": {
  "kernelspec": {
   "display_name": "Python 3.10.4 64-bit",
   "language": "python",
   "name": "python3"
  },
  "language_info": {
   "name": "python",
   "version": "3.10.4"
  },
  "orig_nbformat": 4,
  "vscode": {
   "interpreter": {
    "hash": "d3e10ef16274dd72e574b8fa73b58450b957d8421a2901baded3cca26fcf5dda"
   }
  }
 },
 "nbformat": 4,
 "nbformat_minor": 2
}
