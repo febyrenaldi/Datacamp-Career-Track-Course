{
 "cells": [
  {
   "cell_type": "markdown",
   "metadata": {},
   "source": [
    "Introduction"
   ]
  },
  {
   "cell_type": "code",
   "execution_count": null,
   "metadata": {
    "vscode": {
     "languageId": "sql"
    }
   },
   "outputs": [],
   "source": [
    "-- Latihan 1\n",
    "select PlayerName, Country,\n",
    "round(Weight_kg/SQUARE(Height_cm/100),2) BMI\n",
    "from Players Where Country = 'USA'\n",
    "Or Country = 'Canada'\n",
    "order by BMI;"
   ]
  },
  {
   "cell_type": "code",
   "execution_count": null,
   "metadata": {
    "vscode": {
     "languageId": "sql"
    }
   },
   "outputs": [],
   "source": [
    "-- Latihan 2\n",
    "SELECT PlayerName, Country,\n",
    "    ROUND(Weight_kg/SQUARE(Height_cm/100),2) BMI \n",
    "FROM Players\n",
    "WHERE Country = 'USA'\n",
    "    OR Country = 'Canada'\n",
    "ORDER BY BMI;"
   ]
  },
  {
   "cell_type": "code",
   "execution_count": null,
   "metadata": {
    "vscode": {
     "languageId": "sql"
    }
   },
   "outputs": [],
   "source": [
    "-- Latihan 3\n",
    "-- Your friend's query\n",
    "-- First attempt, contains errors and inconsistent formatting\n",
    "/*\n",
    "select PlayerName, p.Country,sum(ps.TotalPoints) \n",
    "AS TotalPoints  \n",
    "FROM PlayerStats ps inner join Players On ps.PlayerName = p.PlayerName\n",
    "WHERE p.Country = 'New Zeeland'\n",
    "Group \n",
    "by PlayerName, Country\n",
    "order by Country;\n",
    "*/\n",
    "\n",
    "-- Your query\n",
    "-- Second attempt - errors corrected and formatting fixed\n",
    "\n",
    "SELECT p.PlayerName, p.Country,\n",
    "\t   SUM(ps.TotalPoints) AS TotalPoints  \n",
    "FROM PlayerStats ps \n",
    "INNER JOIN Players p\n",
    "\tON ps.PlayerName = p.PlayerName\n",
    "WHERE p.Country = 'New Zealand'\n",
    "GROUP BY p.PlayerName, p.Country;\n"
   ]
  },
  {
   "cell_type": "markdown",
   "metadata": {},
   "source": [
    "Aliasing"
   ]
  },
  {
   "cell_type": "code",
   "execution_count": null,
   "metadata": {
    "vscode": {
     "languageId": "sql"
    }
   },
   "outputs": [],
   "source": [
    "-- Latihan 1\n",
    "SELECT Team, \n",
    "   ROUND(AVG(BMI),2) AS AvgTeamBMI -- Alias the new column\n",
    "FROM PlayerStats AS ps -- Alias PlayerStats table\n",
    "INNER JOIN\n",
    "\t\t(SELECT PlayerName, Country,\n",
    "\t\t\tWeight_kg/SQUARE(Height_cm/100) BMI\n",
    "\t\t FROM Players) AS p -- Alias the sub-query    \n",
    "    -- Alias the joining columns\n",
    "\tON p.PlayerName = ps.PlayerName \n",
    "GROUP BY Team\n",
    "HAVING AVG(BMI) >= 25;"
   ]
  },
  {
   "cell_type": "markdown",
   "metadata": {},
   "source": [
    "Query order"
   ]
  },
  {
   "cell_type": "code",
   "execution_count": null,
   "metadata": {
    "vscode": {
     "languageId": "sql"
    }
   },
   "outputs": [],
   "source": [
    "-- Latihan 1\n",
    "/*\n",
    "Returns earthquakes in New Zealand with a magnitude of 7.5 or more\n",
    "*/\n",
    "\n",
    "SELECT Date, Place, NearestPop, Magnitude\n",
    "FROM Earthquakes\n",
    "WHERE Country = 'NZ'\n",
    "\tAND Magnitude >= 7.5\n",
    "ORDER BY Magnitude DESC;"
   ]
  },
  {
   "cell_type": "code",
   "execution_count": null,
   "metadata": {
    "vscode": {
     "languageId": "sql"
    }
   },
   "outputs": [],
   "source": [
    "-- Latihan 2\n",
    "-- Your query\n",
    "SELECT Date, \n",
    "       Place,\n",
    "       NearestPop, \n",
    "       Magnitude\n",
    "FROM Earthquakes\n",
    "WHERE Country = 'JP' \n",
    "\tAND Magnitude >= 8\n",
    "ORDER BY Magnitude DESC;"
   ]
  },
  {
   "cell_type": "code",
   "execution_count": null,
   "metadata": {
    "vscode": {
     "languageId": "sql"
    }
   },
   "outputs": [],
   "source": [
    "-- Latihan 3\n",
    "/*\n",
    "Returns the location of the epicenter of earthquakes with a 9+ magnitude\n",
    "*/\n",
    "\n",
    "-- Replace Countries with the correct table name\n",
    "SELECT n.CountryName AS Country\n",
    "\t,e.NearestPop AS ClosestCity\n",
    "    ,e.Date\n",
    "    ,e.Magnitude\n",
    "FROM Nations AS n\n",
    "INNER JOIN Earthquakes AS e\n",
    "\tON n.Code2 = e.Country\n",
    "WHERE e.Magnitude >= 9\n",
    "ORDER BY e.Magnitude DESC;\n"
   ]
  },
  {
   "cell_type": "code",
   "execution_count": null,
   "metadata": {
    "vscode": {
     "languageId": "sql"
    }
   },
   "outputs": [],
   "source": [
    "/*\n",
    "Returns the location of the epicenter of earthquakes with a 9+ magnitude\n",
    "*/\n",
    "\n",
    "-- Replace Magnatud with the correct column name\n",
    "SELECT n.CountryName AS Country\n",
    "\t,e.NearestPop AS ClosestCity\n",
    "    ,e.Date\n",
    "    ,e.Magnitude\n",
    "FROM Nations AS n\n",
    "INNER JOIN Earthquakes AS e\n",
    "\tON n.Code2 = e.Country\n",
    "WHERE e.Magnitude >= 9\n",
    "ORDER BY e.Magnitude DESC;"
   ]
  },
  {
   "cell_type": "code",
   "execution_count": null,
   "metadata": {
    "vscode": {
     "languageId": "sql"
    }
   },
   "outputs": [],
   "source": [
    "/*\n",
    "Location of the epicenter of earthquakes with a 9+ magnitude\n",
    "*/\n",
    "\n",
    "-- Replace City with the correct column name\n",
    "SELECT n.CountryName AS Country\n",
    "\t,e.NearestPop AS ClosestCity\n",
    "    ,e.Date\n",
    "    ,e.Magnitude\n",
    "FROM Nations AS n\n",
    "INNER JOIN Earthquakes AS e\n",
    "\tON n.Code2 = e.Country\n",
    "WHERE e.Magnitude >= 9\n",
    "ORDER BY e.Magnitude DESC;"
   ]
  }
 ],
 "metadata": {
  "kernelspec": {
   "display_name": "Python 3.10.4 64-bit",
   "language": "python",
   "name": "python3"
  },
  "language_info": {
   "name": "python",
   "version": "3.10.4"
  },
  "orig_nbformat": 4,
  "vscode": {
   "interpreter": {
    "hash": "d3e10ef16274dd72e574b8fa73b58450b957d8421a2901baded3cca26fcf5dda"
   }
  }
 },
 "nbformat": 4,
 "nbformat_minor": 2
}
