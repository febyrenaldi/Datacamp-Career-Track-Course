{
 "cells": [
  {
   "cell_type": "markdown",
   "metadata": {},
   "source": [
    "Sub-queries"
   ]
  },
  {
   "cell_type": "code",
   "execution_count": null,
   "metadata": {
    "vscode": {
     "languageId": "sql"
    }
   },
   "outputs": [],
   "source": [
    "-- Latihan 1\n",
    "SELECT UNStatisticalRegion,\n",
    "       CountryName \n",
    "FROM Nations\n",
    "WHERE Code2 -- Country code for outer query\n",
    "         IN (SELECT Country -- Country code for sub-query\n",
    "             FROM Earthquakes\n",
    "             WHERE Depth >= 400) -- Depth filter\n",
    "ORDER BY UNStatisticalRegion;"
   ]
  },
  {
   "cell_type": "code",
   "execution_count": null,
   "metadata": {
    "vscode": {
     "languageId": "sql"
    }
   },
   "outputs": [],
   "source": [
    "-- Latihan 2\n",
    "SELECT UNContinentRegion,\n",
    "       CountryName, \n",
    "        (SELECT AVG(Magnitude) -- Add average magnitude\n",
    "        FROM Earthquakes e \n",
    "         \t  -- Add country code reference\n",
    "        WHERE n.Code2 = e.Country) AS AverageMagnitude \n",
    "FROM Nations n\n",
    "ORDER BY UNContinentRegion DESC, \n",
    "         AverageMagnitude DESC;"
   ]
  },
  {
   "cell_type": "code",
   "execution_count": null,
   "metadata": {
    "vscode": {
     "languageId": "sql"
    }
   },
   "outputs": [],
   "source": [
    "-- Latihan 3\n",
    "SELECT\n",
    "\tn.CountryName,\n",
    "\t (SELECT MAX(c.Pop2017) -- Add 2017 population column\n",
    "\t FROM Cities AS c \n",
    "                       -- Outer query country code column\n",
    "\t WHERE c.CountryCode = n.Code2) AS BiggestCity\n",
    "FROM Nations AS n; -- Outer query table"
   ]
  },
  {
   "cell_type": "code",
   "execution_count": null,
   "metadata": {
    "vscode": {
     "languageId": "sql"
    }
   },
   "outputs": [],
   "source": [
    "SELECT n.CountryName, \n",
    "       c.BiggestCity \n",
    "FROM Nations AS n\n",
    "INNER JOIN -- Join the Nations table and sub-query\n",
    "    (SELECT CountryCode, \n",
    "     MAX(Pop2017) AS BiggestCity \n",
    "     FROM Cities\n",
    "     GROUP BY CountryCode) AS c\n",
    "ON n.Code2 = c.CountryCode; -- Add the joining columns"
   ]
  },
  {
   "cell_type": "markdown",
   "metadata": {},
   "source": [
    "Presence and absence"
   ]
  },
  {
   "cell_type": "code",
   "execution_count": null,
   "metadata": {
    "vscode": {
     "languageId": "sql"
    }
   },
   "outputs": [],
   "source": [
    "-- Latihan 1\n",
    "SELECT Capital\n",
    "FROM Nations -- Table with capital cities\n",
    "\n",
    "INTERSECT -- Add the operator to compare the two queries\n",
    "\n",
    "SELECT NearestPop -- Add the city name column\n",
    "FROM Earthquakes;"
   ]
  },
  {
   "cell_type": "code",
   "execution_count": null,
   "metadata": {
    "vscode": {
     "languageId": "sql"
    }
   },
   "outputs": [],
   "source": [
    "-- Latihan 2\n",
    "SELECT Code2 -- Add the country code column\n",
    "FROM Nations\n",
    "\n",
    "EXCEPT -- Add the operator to compare the two queries\n",
    "\n",
    "SELECT Country \n",
    "FROM Earthquakes; -- Table with capital cities"
   ]
  },
  {
   "cell_type": "code",
   "execution_count": null,
   "metadata": {
    "vscode": {
     "languageId": "sql"
    }
   },
   "outputs": [],
   "source": [
    "-- Latihan 3\n",
    "SELECT CountryName \n",
    "FROM Nations -- Table from Earthquakes database\n",
    "\n",
    "INTERSECT -- Operator for the intersect between tables\n",
    "\n",
    "SELECT Country\n",
    "FROM Players; -- Table from NBA Season 2017-2018 database"
   ]
  },
  {
   "cell_type": "markdown",
   "metadata": {},
   "source": [
    "Alternative methods 1"
   ]
  },
  {
   "cell_type": "code",
   "execution_count": null,
   "metadata": {
    "vscode": {
     "languageId": "sql"
    }
   },
   "outputs": [],
   "source": [
    "-- Latihan 1\n",
    "-- First attempt\n",
    "SELECT CountryName,\n",
    "\t   Pop2017, -- 2017 country population\n",
    "\t   Capital, -- Capital city\n",
    "\t   WorldBankRegion\n",
    "FROM Nations\n",
    "WHERE Capital IN -- Add the operator to compare queries\n",
    "       (SELECT NearestPop \n",
    "\t    FROM Earthquakes);"
   ]
  },
  {
   "cell_type": "code",
   "execution_count": null,
   "metadata": {
    "vscode": {
     "languageId": "sql"
    }
   },
   "outputs": [],
   "source": [
    "-- Latihan 2\n",
    "-- Second attempt\n",
    "SELECT CountryName,   \n",
    "\t   Capital,\n",
    "       Pop2016, -- 2016 country population\n",
    "       WorldBankRegion\n",
    "FROM Nations AS n\n",
    "WHERE EXISTS -- Add the operator to compare queries\n",
    "\t  (SELECT 1\n",
    "\t   FROM Earthquakes AS e\n",
    "\t   WHERE n.Capital = e.NearestPop); -- Columns being compared"
   ]
  },
  {
   "cell_type": "code",
   "execution_count": null,
   "metadata": {
    "vscode": {
     "languageId": "sql"
    }
   },
   "outputs": [],
   "source": [
    "-- Latihan 3\n",
    "SELECT WorldBankRegion,\n",
    "       CountryName\n",
    "FROM Nations\n",
    "WHERE Code2 NOT IN -- Add the operator to compare queries\n",
    "\t(SELECT CountryCode -- Country code column\n",
    "\t FROM Cities);"
   ]
  },
  {
   "cell_type": "code",
   "execution_count": null,
   "metadata": {
    "vscode": {
     "languageId": "sql"
    }
   },
   "outputs": [],
   "source": [
    "SELECT WorldBankRegion,\n",
    "       CountryName,\n",
    "\t   Code2,\n",
    "       Capital, -- Country capital column\n",
    "\t   Pop2017\n",
    "FROM Nations AS n\n",
    "WHERE NOT EXISTS -- Add the operator to compare queries\n",
    "\t(SELECT 1\n",
    "\t FROM Cities AS c\n",
    "\t WHERE n.Code2 = c.CountryCode); -- Columns being compared"
   ]
  },
  {
   "cell_type": "code",
   "execution_count": null,
   "metadata": {
    "vscode": {
     "languageId": "sql"
    }
   },
   "outputs": [],
   "source": [
    "-- Latihan 4\n",
    "SELECT WorldBankRegion,\n",
    "       CountryName,\n",
    "       Capital -- Capital city name column\n",
    "FROM Nations\n",
    "WHERE Capital NOT IN\n",
    "\t(SELECT NearestPop -- City name column\n",
    "\t FROM Earthquakes);"
   ]
  },
  {
   "cell_type": "code",
   "execution_count": null,
   "metadata": {
    "vscode": {
     "languageId": "sql"
    }
   },
   "outputs": [],
   "source": [
    "SELECT WorldBankRegion,\n",
    "       CountryName,\n",
    "       Capital\n",
    "FROM Nations\n",
    "WHERE Capital NOT IN\n",
    "\t(SELECT NearestPop\n",
    "     FROM Earthquakes\n",
    "     WHERE NearestPop IS NOT NULL); -- filter condition"
   ]
  },
  {
   "cell_type": "markdown",
   "metadata": {},
   "source": [
    "Alternative methods 2"
   ]
  },
  {
   "cell_type": "code",
   "execution_count": null,
   "metadata": {
    "vscode": {
     "languageId": "sql"
    }
   },
   "outputs": [],
   "source": [
    "-- Latihan 1\n",
    "-- Initial query\n",
    "SELECT TeamName,\n",
    "       TeamCode,\n",
    "\t   City\n",
    "FROM Teams AS t -- Add table\n",
    "WHERE EXISTS -- Operator to compare queries\n",
    "      (SELECT 1 \n",
    "\t  FROM Earthquakes AS e -- Add table\n",
    "\t  WHERE t.City = e.NearestPop);"
   ]
  },
  {
   "cell_type": "code",
   "execution_count": null,
   "metadata": {
    "vscode": {
     "languageId": "sql"
    }
   },
   "outputs": [],
   "source": [
    "-- Second query\n",
    "SELECT t.TeamName,\n",
    "       t.TeamCode,\n",
    "\t   t.City,\n",
    "\t   e.Date,\n",
    "\t   e.Place, -- Place description\n",
    "\t   e.Country -- Country code\n",
    "FROM Teams AS t\n",
    "INNER JOIN Earthquakes AS e -- Operator to compare tables\n",
    "\t  ON t.City = e.NearestPop"
   ]
  },
  {
   "cell_type": "code",
   "execution_count": null,
   "metadata": {
    "vscode": {
     "languageId": "sql"
    }
   },
   "outputs": [],
   "source": [
    "-- Latihan 2\n",
    "-- First attempt\n",
    "SELECT c.CustomerID,\n",
    "       c.CompanyName,\n",
    "\t   c.ContactName,\n",
    "\t   c.ContactTitle,\n",
    "\t   c.Phone \n",
    "FROM Customers c\n",
    "LEFT OUTER JOIN Orders o -- Joining operator\n",
    "\tON c.CustomerID = o.CustomerID -- Joining columns\n",
    "WHERE c.Country = 'France';"
   ]
  },
  {
   "cell_type": "code",
   "execution_count": null,
   "metadata": {
    "vscode": {
     "languageId": "sql"
    }
   },
   "outputs": [],
   "source": [
    "-- Second attempt\n",
    "SELECT c.CustomerID,\n",
    "       c.CompanyName,\n",
    "\t   c.ContactName,\n",
    "\t   c.ContactTitle,\n",
    "\t   c.Phone \n",
    "FROM Customers c\n",
    "LEFT OUTER JOIN Orders o\n",
    "\tON c.CustomerID = o.CustomerID\n",
    "WHERE c.Country = 'France'\n",
    "\tAND o.CustomerID IS NULL; -- Filter condition"
   ]
  }
 ],
 "metadata": {
  "kernelspec": {
   "display_name": "Python 3.10.4 64-bit",
   "language": "python",
   "name": "python3"
  },
  "language_info": {
   "name": "python",
   "version": "3.10.4"
  },
  "orig_nbformat": 4,
  "vscode": {
   "interpreter": {
    "hash": "d3e10ef16274dd72e574b8fa73b58450b957d8421a2901baded3cca26fcf5dda"
   }
  }
 },
 "nbformat": 4,
 "nbformat_minor": 2
}
