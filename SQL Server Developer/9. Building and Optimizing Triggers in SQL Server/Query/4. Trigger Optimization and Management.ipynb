{
 "cells": [
  {
   "cell_type": "markdown",
   "metadata": {},
   "source": [
    "Deleting and altering triggers"
   ]
  },
  {
   "cell_type": "code",
   "execution_count": null,
   "metadata": {
    "vscode": {
     "languageId": "sql"
    }
   },
   "outputs": [],
   "source": [
    "-- Latihan 1\n",
    "-- Remove the trigger\n",
    "DROP TRIGGER PreventNewDiscounts;"
   ]
  },
  {
   "cell_type": "code",
   "execution_count": null,
   "metadata": {
    "vscode": {
     "languageId": "sql"
    }
   },
   "outputs": [],
   "source": [
    "-- Remove the database trigger\n",
    "DROP TRIGGER PreventTableDeletion\n",
    "ON DATABASE;"
   ]
  },
  {
   "cell_type": "code",
   "execution_count": null,
   "metadata": {
    "vscode": {
     "languageId": "sql"
    }
   },
   "outputs": [],
   "source": [
    "-- Remove the server trigger\n",
    "DROP TRIGGER DisallowLinkedServers\n",
    "ON ALL SERVER;"
   ]
  },
  {
   "cell_type": "code",
   "execution_count": null,
   "metadata": {
    "vscode": {
     "languageId": "sql"
    }
   },
   "outputs": [],
   "source": [
    "-- Latihan 2\n",
    "-- Fix the typo in the trigger message\n",
    "ALTER TRIGGER PreventDiscountsDelete\n",
    "ON Discounts\n",
    "INSTEAD OF DELETE\n",
    "AS\n",
    "\tPRINT 'You are not allowed to remove data from the Discounts table.';"
   ]
  },
  {
   "cell_type": "code",
   "execution_count": null,
   "metadata": {
    "vscode": {
     "languageId": "sql"
    }
   },
   "outputs": [],
   "source": [
    "-- Latihan 3\n",
    "-- Pause the trigger execution\n",
    "DISABLE TRIGGER PreventOrdersUpdate\n",
    "ON Orders;"
   ]
  },
  {
   "cell_type": "code",
   "execution_count": null,
   "metadata": {
    "vscode": {
     "languageId": "sql"
    }
   },
   "outputs": [],
   "source": [
    "-- Latihan 4\n",
    "-- Resume the trigger execution\n",
    "ENABLE TRIGGER PreventOrdersUpdate\n",
    "ON Orders;"
   ]
  },
  {
   "cell_type": "markdown",
   "metadata": {},
   "source": [
    "Trigger management"
   ]
  },
  {
   "cell_type": "code",
   "execution_count": null,
   "metadata": {
    "vscode": {
     "languageId": "sql"
    }
   },
   "outputs": [],
   "source": [
    "-- Latihan 1\n",
    "-- Get the disabled triggers\n",
    "SELECT name,\n",
    "\t   object_id,\n",
    "\t   parent_class_desc\n",
    "FROM sys.triggers\n",
    "WHERE is_disabled = 1;"
   ]
  },
  {
   "cell_type": "code",
   "execution_count": null,
   "metadata": {
    "vscode": {
     "languageId": "sql"
    }
   },
   "outputs": [],
   "source": [
    "-- Check for unchanged server triggers\n",
    "SELECT *\n",
    "FROM sys.server_triggers\n",
    "WHERE create_date = modify_date;"
   ]
  },
  {
   "cell_type": "code",
   "execution_count": null,
   "metadata": {
    "vscode": {
     "languageId": "sql"
    }
   },
   "outputs": [],
   "source": [
    "-- Get the database triggers\n",
    "SELECT *\n",
    "FROM sys.triggers\n",
    "WHERE parent_class_desc = 'DATABASE';"
   ]
  },
  {
   "cell_type": "markdown",
   "metadata": {},
   "source": [
    "Troubleshooting triggers"
   ]
  },
  {
   "cell_type": "code",
   "execution_count": null,
   "metadata": {
    "vscode": {
     "languageId": "sql"
    }
   },
   "outputs": [],
   "source": [
    "-- Latihan 1\n",
    "-- Modify the trigger to add new functionality\n",
    "ALTER TRIGGER PreventOrdersUpdate\n",
    "ON Orders\n",
    "-- Prevent any row changes\n",
    "INSTEAD OF UPDATE\n",
    "AS\n",
    "\t-- Keep history of trigger executions\n",
    "\tINSERT INTO TriggerAudit (TriggerName, ExecutionDate)\n",
    "\tSELECT 'PreventOrdersUpdate', \n",
    "           GETDATE();\n",
    "\n",
    "\tRAISERROR ('Updates on \"Orders\" table are not permitted.\n",
    "                Place a new order to add new products.', 16, 1);"
   ]
  },
  {
   "cell_type": "code",
   "execution_count": null,
   "metadata": {
    "vscode": {
     "languageId": "sql"
    }
   },
   "outputs": [],
   "source": [
    "-- Latihan 2\n",
    "-- Get the table ID\n",
    "SELECT object_id AS TableID\n",
    "FROM sys.objects\n",
    "WHERE name = 'Orders';"
   ]
  },
  {
   "cell_type": "code",
   "execution_count": null,
   "metadata": {
    "vscode": {
     "languageId": "sql"
    }
   },
   "outputs": [],
   "source": [
    "-- Get the trigger name\n",
    "SELECT t.name AS TriggerName\n",
    "FROM sys.objects AS o\n",
    "-- Join with the triggers table\n",
    "INNER JOIN sys.triggers AS t ON t.parent_id = o.object_id\n",
    "WHERE o.name = 'Orders';"
   ]
  },
  {
   "cell_type": "code",
   "execution_count": null,
   "metadata": {
    "vscode": {
     "languageId": "sql"
    }
   },
   "outputs": [],
   "source": [
    "SELECT t.name AS TriggerName\n",
    "FROM sys.objects AS o\n",
    "INNER JOIN sys.triggers AS t ON t.parent_id = o.object_id\n",
    "-- Get the trigger events\n",
    "INNER JOIN sys.trigger_events AS te ON te.object_id = t.object_id\n",
    "WHERE o.name = 'Orders'\n",
    "-- Filter for triggers reacting to new rows\n",
    "AND te.type_desc = 'UPDATE';"
   ]
  },
  {
   "cell_type": "code",
   "execution_count": null,
   "metadata": {
    "vscode": {
     "languageId": "sql"
    }
   },
   "outputs": [],
   "source": [
    "SELECT t.name AS TriggerName,\n",
    "\t   OBJECT_DEFINITION(t.object_id) AS TriggerDefinition\n",
    "FROM sys.objects AS o\n",
    "INNER JOIN sys.triggers AS t ON t.parent_id = o.object_id\n",
    "INNER JOIN sys.trigger_events AS te ON te.object_id = t.object_id\n",
    "WHERE o.name = 'Orders'\n",
    "AND te.type_desc = 'UPDATE';"
   ]
  }
 ],
 "metadata": {
  "kernelspec": {
   "display_name": "Python 3.10.4 64-bit",
   "language": "python",
   "name": "python3"
  },
  "language_info": {
   "name": "python",
   "version": "3.10.4"
  },
  "orig_nbformat": 4,
  "vscode": {
   "interpreter": {
    "hash": "d3e10ef16274dd72e574b8fa73b58450b957d8421a2901baded3cca26fcf5dda"
   }
  }
 },
 "nbformat": 4,
 "nbformat_minor": 2
}
