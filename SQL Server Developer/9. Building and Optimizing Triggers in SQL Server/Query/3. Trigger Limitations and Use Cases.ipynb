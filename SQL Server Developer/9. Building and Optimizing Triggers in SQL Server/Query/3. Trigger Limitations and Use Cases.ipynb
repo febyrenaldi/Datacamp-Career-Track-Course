{
 "cells": [
  {
   "cell_type": "markdown",
   "metadata": {},
   "source": [
    "Known limitations of triggers"
   ]
  },
  {
   "cell_type": "code",
   "execution_count": null,
   "metadata": {
    "vscode": {
     "languageId": "sql"
    }
   },
   "outputs": [],
   "source": [
    "-- Latihan 1\n",
    "-- Get the column that contains the trigger name\n",
    "SELECT name AS TriggerName,\n",
    "\t   parent_class_desc AS TriggerType,\n",
    "\t   create_date AS CreateDate,\n",
    "\t   modify_date AS LastModifiedDate,\n",
    "\t   is_disabled AS Disabled,\n",
    "       -- Get the column that tells if it's an INSTEAD OF trigger\n",
    "\t   is_instead_of_trigger AS InsteadOfTrigger\n",
    "FROM sys.triggers;"
   ]
  },
  {
   "cell_type": "code",
   "execution_count": null,
   "metadata": {
    "vscode": {
     "languageId": "sql"
    }
   },
   "outputs": [],
   "source": [
    "-- Gather information about database triggers\n",
    "SELECT name AS TriggerName,\n",
    "\t   parent_class_desc AS TriggerType,\n",
    "\t   create_date AS CreateDate,\n",
    "\t   modify_date AS LastModifiedDate,\n",
    "\t   is_disabled AS Disabled,\n",
    "\t   is_instead_of_trigger AS InsteadOfTrigger\n",
    "FROM sys.triggers\n",
    "UNION ALL\n",
    "SELECT name AS TriggerName,\n",
    "\t   -- Get the column that contains the trigger type\n",
    "\t   parent_class_desc AS TriggerType,\n",
    "\t   create_date AS CreateDate,\n",
    "\t   modify_date AS LastModifiedDate,\n",
    "\t   is_disabled AS Disabled,\n",
    "\t   0 AS InsteadOfTrigger\n",
    "-- Gather information about server triggers\n",
    "FROM sys.server_triggers\n",
    "-- Order the results by the trigger name\n",
    "ORDER BY TriggerName;"
   ]
  },
  {
   "cell_type": "code",
   "execution_count": null,
   "metadata": {
    "vscode": {
     "languageId": "sql"
    }
   },
   "outputs": [],
   "source": [
    "-- Gather information about database triggers\n",
    "SELECT name AS TriggerName,\n",
    "\t   parent_class_desc AS TriggerType,\n",
    "\t   create_date AS CreateDate,\n",
    "\t   modify_date AS LastModifiedDate,\n",
    "\t   is_disabled AS Disabled,\n",
    "\t   is_instead_of_trigger AS InsteadOfTrigger,\n",
    "       -- Get the trigger definition by using a function\n",
    "\t   OBJECT_DEFINITION (object_id)\n",
    "FROM sys.triggers\n",
    "UNION ALL\n",
    "-- Gather information about server triggers\n",
    "SELECT name AS TriggerName,\n",
    "\t   parent_class_desc AS TriggerType,\n",
    "\t   create_date AS CreateDate,\n",
    "\t   modify_date AS LastModifiedDate,\n",
    "\t   is_disabled AS Disabled,\n",
    "\t   0 AS InsteadOfTrigger,\n",
    "       -- Get the trigger definition by using a function\n",
    "\t   OBJECT_DEFINITION (object_id)\n",
    "FROM sys.server_triggers\n",
    "ORDER BY TriggerName;"
   ]
  },
  {
   "cell_type": "markdown",
   "metadata": {},
   "source": [
    "Use cases for AFTER triggers (DML)"
   ]
  },
  {
   "cell_type": "code",
   "execution_count": null,
   "metadata": {
    "vscode": {
     "languageId": "sql"
    }
   },
   "outputs": [],
   "source": [
    "-- Latihan 1\n",
    "-- Create a trigger to keep row history\n",
    "CREATE TRIGGER CopyCustomersToHistory\n",
    "ON Customers\n",
    "-- Fire the trigger for new and updated rows\n",
    "AFTER INSERT, UPDATE\n",
    "AS\n",
    "\tINSERT INTO CustomersHistory (CustomerID, Customer, ContractID, ContractDate, Address, PhoneNo, Email, ChangeDate)\n",
    "\tSELECT CustomerID, Customer, ContractID, ContractDate, Address, PhoneNo, Email, GETDATE()\n",
    "    -- Get info from the special table that keeps new rows\n",
    "    FROM inserted;"
   ]
  },
  {
   "cell_type": "code",
   "execution_count": null,
   "metadata": {
    "vscode": {
     "languageId": "sql"
    }
   },
   "outputs": [],
   "source": [
    "-- Latihan 2\n",
    "-- Add a trigger that tracks table changes\n",
    "CREATE TRIGGER OrdersAudit\n",
    "ON Orders\n",
    "AFTER INSERT, UPDATE, DELETE\n",
    "AS\n",
    "\tDECLARE @Insert BIT = 0;\n",
    "\tDECLARE @Delete BIT = 0;\t\n",
    "\tIF EXISTS (SELECT * FROM inserted) SET @Insert = 1;\n",
    "\tIF EXISTS (SELECT * FROM deleted) SET @Delete = 1;\n",
    "\tINSERT INTO TablesAudit (TableName, EventType, UserAccount, EventDate)\n",
    "\tSELECT 'Orders' AS TableName\n",
    "\t       ,CASE WHEN @Insert = 1 AND @Delete = 0 THEN 'INSERT'\n",
    "\t\t\t\t WHEN @Insert = 1 AND @Delete = 1 THEN 'UPDATE'\n",
    "\t\t\t\t WHEN @Insert = 0 AND @Delete = 1 THEN 'DELETE'\n",
    "\t\t\t\t END AS Event\n",
    "\t\t   ,ORIGINAL_LOGIN() AS UserAccount\n",
    "\t\t   ,GETDATE() AS EventDate;"
   ]
  },
  {
   "cell_type": "markdown",
   "metadata": {},
   "source": [
    "Use cases for INSTEAD OF triggers (DML)"
   ]
  },
  {
   "cell_type": "code",
   "execution_count": null,
   "metadata": {
    "vscode": {
     "languageId": "sql"
    }
   },
   "outputs": [],
   "source": [
    "-- Latihan 1\n",
    "-- Prevent any product changes\n",
    "CREATE TRIGGER PreventProductChanges\n",
    "ON Products\n",
    "INSTEAD OF UPDATE\n",
    "AS\n",
    "\tRAISERROR ('Updates of products are not permitted. Contact the database administrator if a change is needed.', 16, 1);"
   ]
  },
  {
   "cell_type": "code",
   "execution_count": null,
   "metadata": {
    "vscode": {
     "languageId": "sql"
    }
   },
   "outputs": [],
   "source": [
    "-- Latihan 2\n",
    "-- Create a new trigger to confirm stock before ordering\n",
    "CREATE TRIGGER ConfirmStock\n",
    "ON Orders\n",
    "INSTEAD OF INSERT\n",
    "AS\n",
    "\tIF EXISTS (SELECT *\n",
    "\t\t\t   FROM Products AS p\n",
    "\t\t\t   INNER JOIN inserted AS i ON i.Product = p.Product\n",
    "\t\t\t   WHERE p.Quantity < i.Quantity)\n",
    "\tBEGIN\n",
    "\t\tRAISERROR ('You cannot place orders when there is no stock for the product.', 16, 1);\n",
    "\tEND\n",
    "\tELSE\n",
    "\tBEGIN\n",
    "\t\tINSERT INTO Orders (OrderID, Customer, Product, Price, Currency, Quantity, WithDiscount, Discount, OrderDate, TotalAmount, Dispatched)\n",
    "\t\tSELECT OrderID, Customer, Product, Price, Currency, Quantity, WithDiscount, Discount, OrderDate, TotalAmount, Dispatched FROM inserted;\n",
    "\tEND;"
   ]
  },
  {
   "cell_type": "markdown",
   "metadata": {},
   "source": [
    "Use cases for DDL triggers"
   ]
  },
  {
   "cell_type": "code",
   "execution_count": null,
   "metadata": {
    "vscode": {
     "languageId": "sql"
    }
   },
   "outputs": [],
   "source": [
    "-- Latihan 1\n",
    "-- Create a new trigger\n",
    "CREATE TRIGGER DatabaseAudit\n",
    "-- Attach the trigger at the database level\n",
    "ON DATABASE\n",
    "-- Fire the trigger for all tables/ views events\n",
    "FOR DDL_TABLE_VIEW_EVENTS\n",
    "AS\n",
    "\t-- Add details to the specified table\n",
    "\tINSERT INTO DatabaseAudit (EventType, DatabaseName, SchemaName, Object, ObjectType, UserAccount, Query, EventTime)\n",
    "\tSELECT EVENTDATA().value('(/EVENT_INSTANCE/EventType)[1]', 'NVARCHAR(50)') AS EventType\n",
    "\t\t  ,EVENTDATA().value('(/EVENT_INSTANCE/DatabaseName)[1]', 'NVARCHAR(50)') AS DatabaseName\n",
    "\t\t  ,EVENTDATA().value('(/EVENT_INSTANCE/SchemaName)[1]', 'NVARCHAR(50)') AS SchemaName\n",
    "\t\t  ,EVENTDATA().value('(/EVENT_INSTANCE/ObjectName)[1]', 'NVARCHAR(100)') AS Object\n",
    "\t\t  ,EVENTDATA().value('(/EVENT_INSTANCE/ObjectType)[1]', 'NVARCHAR(50)') AS ObjectType\n",
    "\t\t  ,EVENTDATA().value('(/EVENT_INSTANCE/LoginName)[1]', 'NVARCHAR(100)') AS UserAccount\n",
    "\t\t  ,EVENTDATA().value('(/EVENT_INSTANCE/TSQLCommand/CommandText)[1]', 'NVARCHAR(MAX)') AS Query\n",
    "\t\t  ,EVENTDATA().value('(/EVENT_INSTANCE/PostTime)[1]', 'DATETIME') AS EventTime;"
   ]
  },
  {
   "cell_type": "code",
   "execution_count": null,
   "metadata": {
    "vscode": {
     "languageId": "sql"
    }
   },
   "outputs": [],
   "source": [
    "-- Latihan 2\n",
    "-- Create a trigger to prevent database deletion\n",
    "CREATE TRIGGER PreventDatabaseDelete\n",
    "-- Attach the trigger at the server level\n",
    "ON ALL SERVER\n",
    "FOR DROP_DATABASE\n",
    "AS\n",
    "   PRINT 'You are not allowed to remove existing databases.';\n",
    "   ROLLBACK;"
   ]
  }
 ],
 "metadata": {
  "kernelspec": {
   "display_name": "Python 3.10.4 64-bit",
   "language": "python",
   "name": "python3"
  },
  "language_info": {
   "name": "python",
   "version": "3.10.4"
  },
  "orig_nbformat": 4,
  "vscode": {
   "interpreter": {
    "hash": "d3e10ef16274dd72e574b8fa73b58450b957d8421a2901baded3cca26fcf5dda"
   }
  }
 },
 "nbformat": 4,
 "nbformat_minor": 2
}
