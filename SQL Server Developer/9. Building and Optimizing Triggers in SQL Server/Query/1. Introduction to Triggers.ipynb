{
 "cells": [
  {
   "cell_type": "markdown",
   "metadata": {},
   "source": [
    "Introduction"
   ]
  },
  {
   "cell_type": "code",
   "execution_count": null,
   "metadata": {
    "vscode": {
     "languageId": "sql"
    }
   },
   "outputs": [],
   "source": [
    "-- Latihan 1\n",
    "-- Create a new trigger that fires when deleting data\n",
    "CREATE TRIGGER PreventDiscountsDelete\n",
    "ON Discounts\n",
    "-- The trigger should fire instead of DELETE\n",
    "INSTEAD OF DELETE\n",
    "AS\n",
    "\tPRINT 'You are not allowed to delete data from the Discounts table.';"
   ]
  },
  {
   "cell_type": "code",
   "execution_count": null,
   "metadata": {
    "vscode": {
     "languageId": "sql"
    }
   },
   "outputs": [],
   "source": [
    "-- Latihan 2\n",
    "-- Set up a new trigger\n",
    "CREATE TRIGGER OrdersUpdatedRows\n",
    "ON Orders\n",
    "-- The trigger should fire after UPDATE statements\n",
    "AFTER UPDATE\n",
    "-- Add the AS keyword before the trigger body\n",
    "AS\n",
    "\t-- Insert details about the changes to a dedicated table\n",
    "\tINSERT INTO OrdersUpdate(OrderID, OrderDate, ModifyDate)\n",
    "\tSELECT OrderID, OrderDate, GETDATE()\n",
    "\tFROM inserted;"
   ]
  },
  {
   "cell_type": "markdown",
   "metadata": {},
   "source": [
    "How DML triggers are used"
   ]
  },
  {
   "cell_type": "code",
   "execution_count": null,
   "metadata": {
    "vscode": {
     "languageId": "sql"
    }
   },
   "outputs": [],
   "source": [
    "-- Latihan 1\n",
    "-- Create a new trigger\n",
    "CREATE TRIGGER ProductsNewItems\n",
    "ON Products\n",
    "AFTER INSERT\n",
    "AS\n",
    "\t-- Add details to the history table\n",
    "\tINSERT INTO ProductsHistory(Product, Price, Currency, FirstAdded)\n",
    "\tSELECT Product, Price, Currency, GETDATE()\n",
    "\tFROM inserted;"
   ]
  },
  {
   "cell_type": "markdown",
   "metadata": {},
   "source": [
    "Trigger alternatives"
   ]
  },
  {
   "cell_type": "code",
   "execution_count": null,
   "metadata": {
    "vscode": {
     "languageId": "sql"
    }
   },
   "outputs": [],
   "source": [
    "-- Latihan 1\n",
    "-- Run an update for some of the discounts\n",
    "UPDATE Discounts\n",
    "SET Discount = Discount + 1\n",
    "WHERE Discount <= 5;\n",
    "\n",
    "-- Verify the trigger ran successfully\n",
    "SELECT * FROM DiscountsHistory;"
   ]
  },
  {
   "cell_type": "code",
   "execution_count": null,
   "metadata": {
    "vscode": {
     "languageId": "sql"
    }
   },
   "outputs": [],
   "source": [
    "-- Latihan 2\n",
    "-- Add the following rows to the table\n",
    "INSERT INTO SalesWithPrice (Customer, Product, Price, Currency, Quantity)\n",
    "VALUES ('Fruit Mag', 'Pomelo', 1.12, 'USD', 200),\n",
    "\t   ('VitaFruit', 'Avocado', 2.67, 'USD', 400),\n",
    "\t   ('Tasty Fruits', 'Blackcurrant', 2.32, 'USD', 1100),\n",
    "\t   ('Health Mag', 'Kiwi', 1.42, 'USD', 100),\n",
    "\t   ('eShop', 'Plum', 1.1, 'USD', 500);\n",
    "\n",
    "-- Verify the results after adding the new rows\n",
    "SELECT * FROM SalesWithPrice;"
   ]
  },
  {
   "cell_type": "code",
   "execution_count": null,
   "metadata": {
    "vscode": {
     "languageId": "sql"
    }
   },
   "outputs": [],
   "source": [
    "-- Add the following rows to the table\n",
    "INSERT INTO SalesWithoutPrice (Customer, Product, Currency, Quantity)\n",
    "VALUES ('Fruit Mag', 'Pomelo', 'USD', 200),\n",
    "\t   ('VitaFruit', 'Avocado', 'USD', 400),\n",
    "\t   ('Tasty Fruits', 'Blackcurrant', 'USD', 1100),\n",
    "\t   ('Health Mag', 'Kiwi', 'USD', 100),\n",
    "\t   ('eShop', 'Plum', 'USD', 500);\n",
    "\n",
    "-- Verify the results after the INSERT\n",
    "SELECT * FROM SalesWithoutPrice;"
   ]
  }
 ],
 "metadata": {
  "kernelspec": {
   "display_name": "Python 3.10.4 64-bit",
   "language": "python",
   "name": "python3"
  },
  "language_info": {
   "name": "python",
   "version": "3.10.4"
  },
  "orig_nbformat": 4,
  "vscode": {
   "interpreter": {
    "hash": "d3e10ef16274dd72e574b8fa73b58450b957d8421a2901baded3cca26fcf5dda"
   }
  }
 },
 "nbformat": 4,
 "nbformat_minor": 2
}
