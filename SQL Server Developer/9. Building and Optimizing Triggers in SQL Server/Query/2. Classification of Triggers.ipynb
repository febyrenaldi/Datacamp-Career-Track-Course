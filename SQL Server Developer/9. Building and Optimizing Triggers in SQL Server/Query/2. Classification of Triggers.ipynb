{
 "cells": [
  {
   "cell_type": "markdown",
   "metadata": {},
   "source": [
    "AFTER triggers (DML)"
   ]
  },
  {
   "cell_type": "code",
   "execution_count": null,
   "metadata": {
    "vscode": {
     "languageId": "sql"
    }
   },
   "outputs": [],
   "source": [
    "-- Latihan 1\n",
    "-- Create the trigger\n",
    "CREATE TRIGGER TrackRetiredProducts\n",
    "ON Products\n",
    "AFTER DELETE\n",
    "AS\n",
    "\tINSERT INTO RetiredProducts (Product, Measure)\n",
    "\tSELECT Product, Measure\n",
    "\tFROM deleted;"
   ]
  },
  {
   "cell_type": "code",
   "execution_count": null,
   "metadata": {
    "vscode": {
     "languageId": "sql"
    }
   },
   "outputs": [],
   "source": [
    "-- Latihan 2\n",
    "-- Remove the products that will be retired\n",
    "DELETE FROM Products\n",
    "WHERE Product IN ('Cloudberry', 'Guava', 'Nance', 'Yuzu');\n",
    "\n",
    "-- Verify the output of the history table\n",
    "SELECT * FROM RetiredProducts;"
   ]
  },
  {
   "cell_type": "code",
   "execution_count": null,
   "metadata": {
    "vscode": {
     "languageId": "sql"
    }
   },
   "outputs": [],
   "source": [
    "-- Latihan 3\n",
    "-- Create a new trigger for canceled orders\n",
    "CREATE TRIGGER KeepCanceledOrders\n",
    "ON Orders\n",
    "AFTER DELETE\n",
    "AS \n",
    "\tINSERT INTO CanceledOrders\n",
    "\tSELECT * FROM deleted;"
   ]
  },
  {
   "cell_type": "code",
   "execution_count": null,
   "metadata": {
    "vscode": {
     "languageId": "sql"
    }
   },
   "outputs": [],
   "source": [
    "-- Create a new trigger to keep track of discounts\n",
    "CREATE TRIGGER CustomerDiscountHistory\n",
    "ON Discounts\n",
    "AFTER UPDATE\n",
    "AS\n",
    "\t-- Store old and new values into the `DiscountsHistory` table\n",
    "\tINSERT INTO DiscountsHistory (Customer, OldDiscount, NewDiscount, ChangeDate)\n",
    "\tSELECT i.Customer, d.Discount, i.Discount, GETDATE()\n",
    "\tFROM inserted AS i\n",
    "\tINNER JOIN deleted AS d ON i.Customer = d.Customer;"
   ]
  },
  {
   "cell_type": "code",
   "execution_count": null,
   "metadata": {
    "vscode": {
     "languageId": "sql"
    }
   },
   "outputs": [],
   "source": [
    "-- Notify the Sales team of new orders\n",
    "CREATE TRIGGER NewOrderAlert\n",
    "ON Orders\n",
    "AFTER INSERT\n",
    "AS\n",
    "\tEXECUTE SendEmailtoSales;"
   ]
  },
  {
   "cell_type": "markdown",
   "metadata": {},
   "source": [
    "INSTEAD OF triggers (DML)"
   ]
  },
  {
   "cell_type": "code",
   "execution_count": null,
   "metadata": {
    "vscode": {
     "languageId": "sql"
    }
   },
   "outputs": [],
   "source": [
    "-- Latihan 1\n",
    "-- Create the trigger\n",
    "CREATE TRIGGER PreventOrdersUpdate\n",
    "ON Orders\n",
    "INSTEAD OF UPDATE\n",
    "AS\n",
    "\tRAISERROR ('Updates on \"Orders\" table are not permitted.\n",
    "                Place a new order to add new products.', 16, 1);"
   ]
  },
  {
   "cell_type": "code",
   "execution_count": null,
   "metadata": {
    "vscode": {
     "languageId": "sql"
    }
   },
   "outputs": [],
   "source": [
    "-- Latihan 2\n",
    "-- Create a new trigger\n",
    "CREATE TRIGGER PreventNewDiscounts\n",
    "ON Discounts\n",
    "INSTEAD OF INSERT\n",
    "AS\n",
    "\tRAISERROR ('You are not allowed to add discounts for existing customers.\n",
    "                Contact the Sales Manager for more details.', 16, 1);"
   ]
  },
  {
   "cell_type": "markdown",
   "metadata": {},
   "source": [
    "DDL triggers"
   ]
  },
  {
   "cell_type": "code",
   "execution_count": null,
   "metadata": {
    "vscode": {
     "languageId": "sql"
    }
   },
   "outputs": [],
   "source": [
    "-- Latihan 1\n",
    "-- Create the trigger to log table info\n",
    "CREATE TRIGGER TrackTableChanges\n",
    "ON DATABASE\n",
    "FOR CREATE_TABLE,\n",
    "\tALTER_TABLE,\n",
    "\tDROP_TABLE\n",
    "AS\n",
    "\tINSERT INTO TablesChangeLog (EventData, ChangedBy)\n",
    "    VALUES (EVENTDATA(), USER);"
   ]
  },
  {
   "cell_type": "code",
   "execution_count": null,
   "metadata": {
    "vscode": {
     "languageId": "sql"
    }
   },
   "outputs": [],
   "source": [
    "-- Latihan 2\n",
    "-- Add a trigger to disable the removal of tables\n",
    "CREATE TRIGGER PreventTableDeletion\n",
    "ON DATABASE\n",
    "FOR DROP_TABLE\n",
    "AS\n",
    "\tRAISERROR ('You are not allowed to remove tables from this database.', 16, 1);\n",
    "    ROLLBACK;"
   ]
  },
  {
   "cell_type": "markdown",
   "metadata": {},
   "source": [
    "Logon triggers"
   ]
  },
  {
   "cell_type": "code",
   "execution_count": null,
   "metadata": {
    "vscode": {
     "languageId": "sql"
    }
   },
   "outputs": [],
   "source": [
    "-- Latihan 1\n",
    "-- Save user details in the audit table\n",
    "INSERT INTO ServerLogonLog (LoginName, LoginDate, SessionID, SourceIPAddress)\n",
    "SELECT ORIGINAL_LOGIN(), GETDATE(), @@SPID, client_net_address\n",
    "-- The user details can be found in SYS.DM_EXEC_CONNECTIONS\n",
    "FROM SYS.DM_EXEC_CONNECTIONS WHERE session_id = @@SPID;"
   ]
  },
  {
   "cell_type": "code",
   "execution_count": null,
   "metadata": {
    "vscode": {
     "languageId": "sql"
    }
   },
   "outputs": [],
   "source": [
    "-- Create a trigger firing when users log on to the server\n",
    "CREATE TRIGGER LogonAudit\n",
    "-- Use ALL SERVER to create a server-level trigger\n",
    "ON ALL SERVER WITH EXECUTE AS 'sa'\n",
    "-- The trigger should fire after a logon\n",
    "AFTER LOGON\n",
    "AS\n",
    "\t-- Save user details in the audit table\n",
    "\tINSERT INTO ServerLogonLog (LoginName, LoginDate, SessionID, SourceIPAddress)\n",
    "\tSELECT ORIGINAL_LOGIN(), GETDATE(), @@SPID, client_net_address\n",
    "\tFROM SYS.DM_EXEC_CONNECTIONS WHERE session_id = @@SPID;"
   ]
  }
 ],
 "metadata": {
  "kernelspec": {
   "display_name": "Python 3.10.4 64-bit",
   "language": "python",
   "name": "python3"
  },
  "language_info": {
   "name": "python",
   "version": "3.10.4"
  },
  "orig_nbformat": 4,
  "vscode": {
   "interpreter": {
    "hash": "d3e10ef16274dd72e574b8fa73b58450b957d8421a2901baded3cca26fcf5dda"
   }
  }
 },
 "nbformat": 4,
 "nbformat_minor": 2
}
