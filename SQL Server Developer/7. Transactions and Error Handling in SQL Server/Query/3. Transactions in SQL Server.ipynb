{
 "cells": [
  {
   "cell_type": "markdown",
   "metadata": {},
   "source": [
    "Transactions"
   ]
  },
  {
   "cell_type": "code",
   "execution_count": null,
   "metadata": {
    "vscode": {
     "languageId": "sql"
    }
   },
   "outputs": [],
   "source": [
    "-- Latihan 1\n",
    "BEGIN TRY  \n",
    "\tBEGIN TRAN;\n",
    "\t\tUPDATE accounts SET current_balance = current_balance - 100 WHERE account_id = 1;\n",
    "\t\tINSERT INTO transactions VALUES (1, -100, GETDATE());\n",
    "        \n",
    "\t\tUPDATE accounts SET current_balance = current_balance + 100 WHERE account_id = 5;\n",
    "\t\tINSERT INTO transactions VALUES (5, 100, GETDATE());\n",
    "\tCOMMIT TRAN;\n",
    "END TRY\n",
    "BEGIN CATCH  \n",
    "\tROLLBACK TRAN;\n",
    "END CATCH"
   ]
  },
  {
   "cell_type": "code",
   "execution_count": null,
   "metadata": {
    "vscode": {
     "languageId": "sql"
    }
   },
   "outputs": [],
   "source": [
    "-- Latihan 2\n",
    "BEGIN TRY  \n",
    "\t-- Begin the transaction\n",
    "\tBEGIN TRAN;\n",
    "\t\tUPDATE accounts SET current_balance = current_balance - 100 WHERE account_id = 1;\n",
    "\t\tINSERT INTO transactions VALUES (1, -100, GETDATE());\n",
    "        \n",
    "\t\tUPDATE accounts SET current_balance = current_balance + 100 WHERE account_id = 5;\n",
    "        -- Correct it\n",
    "\t\tINSERT INTO transactions VALUES (500, 100, GETDATE());\n",
    "    -- Commit the transaction\n",
    "\tCOMMIT TRAN;    \n",
    "END TRY\n",
    "BEGIN CATCH  \n",
    "\tSELECT 'Rolling back the transaction';\n",
    "    -- Rollback the transaction\n",
    "\tROLLBACK TRAN;\n",
    "END CATCH"
   ]
  },
  {
   "cell_type": "code",
   "execution_count": null,
   "metadata": {
    "vscode": {
     "languageId": "sql"
    }
   },
   "outputs": [],
   "source": [
    "-- Latihan 3\n",
    "-- Begin the transaction\n",
    "BEGIN TRAN; \n",
    "\tUPDATE accounts set current_balance = current_balance + 100\n",
    "\t\tWHERE current_balance < 5000;\n",
    "\t-- Check number of affected rows\n",
    "\tIF @@ROWCOUNT <= 200 \n",
    "\t\tBEGIN \n",
    "        \t-- Rollback the transaction\n",
    "\t\t\tROLLBACK TRAN; \n",
    "\t\t\tSELECT 'More accounts than expected. Rolling back'; \n",
    "\t\tEND\n",
    "\tELSE\n",
    "\t\tBEGIN \n",
    "        \t-- Commit the transaction\n",
    "\t\t\tCOMMIT TRAN; \n",
    "\t\t\tSELECT 'Updates commited'; \n",
    "\t\tEND"
   ]
  },
  {
   "cell_type": "markdown",
   "metadata": {},
   "source": [
    "@@TRANCOUNT and savepoints"
   ]
  },
  {
   "cell_type": "code",
   "execution_count": null,
   "metadata": {
    "vscode": {
     "languageId": "sql"
    }
   },
   "outputs": [],
   "source": [
    "-- Latihan 1\n",
    "BEGIN TRY\n",
    "\t-- Begin the transaction\n",
    "\tBEGIN TRAN;\n",
    "    \t-- Correct the mistake\n",
    "\t\tUPDATE accounts SET current_balance = current_balance + 200\n",
    "\t\t\tWHERE account_id = 10;\n",
    "    \t-- Check if there is a transaction\n",
    "\t\tIF @@TRANCOUNT > 0     \n",
    "    \t\t-- Commit the transaction\n",
    "\t\t\tCOMMIT TRAN;\n",
    "     \n",
    "\tSELECT * FROM accounts\n",
    "    \tWHERE account_id = 10;      \n",
    "END TRY\n",
    "BEGIN CATCH  \n",
    "    SELECT 'Rolling back the transaction'; \n",
    "    -- Check if there is a transaction\n",
    "    IF @@TRANCOUNT > 0   \t\n",
    "    \t-- Rollback the transaction\n",
    "        ROLLBACK TRAN;\n",
    "END CATCH"
   ]
  },
  {
   "cell_type": "code",
   "execution_count": null,
   "metadata": {
    "vscode": {
     "languageId": "sql"
    }
   },
   "outputs": [],
   "source": [
    "-- Latihan 2\n",
    "BEGIN TRAN;\n",
    "\t-- Mark savepoint1\n",
    "\tSAVE TRAN savepoint1;\n",
    "\tINSERT INTO customers VALUES ('Mark', 'Davis', 'markdavis@mail.com', '555909090');\n",
    "\n",
    "\t-- Mark savepoint2\n",
    "    SAVE TRAN savepoint2;\n",
    "\tINSERT INTO customers VALUES ('Zack', 'Roberts', 'zackroberts@mail.com', '555919191');\n",
    "\n",
    "\t-- Rollback savepoint2\n",
    "\tROLLBACK TRAN savepoint2;\n",
    "    -- Rollback savepoint1\n",
    "\tROLLBACK TRAN savepoint1;\n",
    "\n",
    "\t-- Mark savepoint3\n",
    "\tSAVE TRAN savepoint3;\n",
    "\tINSERT INTO customers VALUES ('Jeremy', 'Johnsson', 'jeremyjohnsson@mail.com', '555929292');\n",
    "-- Commit the transaction\n",
    "COMMIT TRAN;"
   ]
  },
  {
   "cell_type": "markdown",
   "metadata": {},
   "source": [
    "XACT_ABORT & XACT_STATE"
   ]
  },
  {
   "cell_type": "code",
   "execution_count": null,
   "metadata": {
    "vscode": {
     "languageId": "sql"
    }
   },
   "outputs": [],
   "source": [
    "-- Latihan 1\n",
    "-- Use the appropriate setting\n",
    "SET XACT_ABORT ON;\n",
    "-- Begin the transaction\n",
    "BEGIN TRAN; \n",
    "\tUPDATE accounts set current_balance = current_balance - current_balance * 0.01 / 100\n",
    "\t\tWHERE current_balance > 5000000;\n",
    "\tIF @@ROWCOUNT <= 10\t\n",
    "    \t-- Throw the error\n",
    "\t\tTHROW 55000, 'Not enough wealthy customers!', 1;\n",
    "\tELSE\t\t\n",
    "    \t-- Commit the transaction\n",
    "\t\tCOMMIT TRAN; "
   ]
  },
  {
   "cell_type": "code",
   "execution_count": null,
   "metadata": {
    "vscode": {
     "languageId": "sql"
    }
   },
   "outputs": [],
   "source": [
    "-- Latihan 2\n",
    "-- Use the appropriate setting\n",
    "SET XACT_ABORT ON;\n",
    "BEGIN TRY\n",
    "\tBEGIN TRAN;\n",
    "\t\tINSERT INTO customers VALUES ('Mark', 'Davis', 'markdavis@mail.com', '555909090');\n",
    "\t\tINSERT INTO customers VALUES ('Dylan', 'Smith', 'dylansmith@mail.com', '555888999');\n",
    "\tCOMMIT TRAN;\n",
    "END TRY\n",
    "BEGIN CATCH\n",
    "\t-- Check if there is an open transaction\n",
    "\tIF XACT_STATE() <> 0\n",
    "    \t-- Rollback the transaction\n",
    "\t\tROLLBACK TRAN;\n",
    "    -- Select the message of the error\n",
    "    SELECT ERROR_MESSAGE() AS Error_message;\n",
    "END CATCH"
   ]
  }
 ],
 "metadata": {
  "kernelspec": {
   "display_name": "Python 3.10.4 64-bit",
   "language": "python",
   "name": "python3"
  },
  "language_info": {
   "name": "python",
   "version": "3.10.4"
  },
  "orig_nbformat": 4,
  "vscode": {
   "interpreter": {
    "hash": "d3e10ef16274dd72e574b8fa73b58450b957d8421a2901baded3cca26fcf5dda"
   }
  }
 },
 "nbformat": 4,
 "nbformat_minor": 2
}
