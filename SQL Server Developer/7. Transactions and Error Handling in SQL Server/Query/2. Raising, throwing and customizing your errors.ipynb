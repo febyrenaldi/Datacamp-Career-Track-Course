{
 "cells": [
  {
   "cell_type": "markdown",
   "metadata": {},
   "source": [
    "RAISERROR"
   ]
  },
  {
   "cell_type": "code",
   "execution_count": null,
   "metadata": {
    "vscode": {
     "languageId": "sql"
    }
   },
   "outputs": [],
   "source": [
    "-- Latihan 1\n",
    "-- Set @product_id to 5\n",
    "DECLARE @product_id INT = 5;\n",
    "\n",
    "IF NOT EXISTS (SELECT * FROM products WHERE product_id = @product_id)\n",
    "\t-- Invoke RAISERROR with parameters\n",
    "\tRAISERROR('No product with id %d.', 11, 1, @product_id);\n",
    "ELSE \n",
    "\tSELECT * FROM products WHERE product_id = @product_id;"
   ]
  },
  {
   "cell_type": "code",
   "execution_count": null,
   "metadata": {
    "vscode": {
     "languageId": "sql"
    }
   },
   "outputs": [],
   "source": [
    "-- Change the value\n",
    "-- Set @product_id to 50\n",
    "DECLARE @product_id INT = 5;\n",
    "\n",
    "IF NOT EXISTS (SELECT * FROM products WHERE product_id = @product_id)\n",
    "\t-- Invoke RAISERROR with parameters\n",
    "\tRAISERROR('No product with id %d.', 11, 1, @product_id);\n",
    "ELSE \n",
    "\tSELECT * FROM products WHERE product_id = @product_id;\n"
   ]
  },
  {
   "cell_type": "code",
   "execution_count": null,
   "metadata": {
    "vscode": {
     "languageId": "sql"
    }
   },
   "outputs": [],
   "source": [
    "BEGIN TRY\n",
    "    DECLARE @product_id INT = 5;\n",
    "    IF NOT EXISTS (SELECT * FROM products WHERE product_id = @product_id)\n",
    "        RAISERROR('No product with id %d.', 11, 1, @product_id);\n",
    "    ELSE \n",
    "        SELECT * FROM products WHERE product_id = @product_id;\n",
    "END TRY\n",
    "-- Catch the error\n",
    "BEGIN CATCH\n",
    "\t-- Select the error message\n",
    "\tSELECT ERROR_MESSAGE();\n",
    "END CATCH    "
   ]
  },
  {
   "cell_type": "code",
   "execution_count": null,
   "metadata": {
    "vscode": {
     "languageId": "sql"
    }
   },
   "outputs": [],
   "source": [
    "BEGIN TRY\n",
    "\t-- Change the value\n",
    "    DECLARE @product_id INT = 5;\t\n",
    "    IF NOT EXISTS (SELECT * FROM products WHERE product_id = @product_id)\n",
    "        RAISERROR('No product with id %d.', 11, 1, @product_id);\n",
    "    ELSE \n",
    "        SELECT * FROM products WHERE product_id = @product_id;\n",
    "END TRY\n",
    "BEGIN CATCH\n",
    "\tSELECT ERROR_MESSAGE();\n",
    "END CATCH"
   ]
  },
  {
   "cell_type": "markdown",
   "metadata": {},
   "source": [
    "THROW"
   ]
  },
  {
   "cell_type": "code",
   "execution_count": null,
   "metadata": {
    "vscode": {
     "languageId": "sql"
    }
   },
   "outputs": [],
   "source": [
    "-- Latihan 1\n",
    "CREATE PROCEDURE insert_product\n",
    "  @product_name VARCHAR(50),\n",
    "  @stock INT,\n",
    "  @price DECIMAL\n",
    "\n",
    "AS\n",
    "\n",
    "BEGIN TRY\n",
    "\tINSERT INTO products (product_name, stock, price)\n",
    "\t\tVALUES (@product_name, @stock, @price);\n",
    "END TRY\n",
    "-- Set up the CATCH block\n",
    "BEGIN CATCH\t\n",
    "\t-- Insert the error and end the statement with a semicolon\n",
    "    INSERT INTO errors VALUES ('Error inserting a product');  \n",
    "    -- Re-throw the error\n",
    "\tTHROW; \n",
    "END CATCH"
   ]
  },
  {
   "cell_type": "code",
   "execution_count": null,
   "metadata": {
    "vscode": {
     "languageId": "sql"
    }
   },
   "outputs": [],
   "source": [
    "-- Latihan 2\n",
    "BEGIN TRY\n",
    "\t-- Execute the stored procedure\n",
    "\tEXEC insert_product \n",
    "    \t-- Set the values for the parameters\n",
    "    \t@product_name = 'Super bike',\n",
    "        @stock = 3,\n",
    "        @price = 499.99;\n",
    "END TRY\n",
    "-- Set up the CATCH block\n",
    "BEGIN CATCH\n",
    "\t-- Select the error message\n",
    "\tSELECT ERROR_MESSAGE();\n",
    "END CATCH"
   ]
  },
  {
   "cell_type": "code",
   "execution_count": null,
   "metadata": {
    "vscode": {
     "languageId": "sql"
    }
   },
   "outputs": [],
   "source": [
    "-- Latihan 3\n",
    "-- Set @staff_id to 4\n",
    "DECLARE @staff_id INT = 4;\n",
    "\n",
    "IF NOT EXISTS (SELECT * FROM staff WHERE staff_id = @staff_id)\n",
    "   \t-- Invoke the THROW statement with parameters\n",
    "\tTHROW 50001, 'No staff member with such id', 1;\n",
    "ELSE\n",
    "   \tSELECT * FROM staff WHERE staff_id = @staff_id"
   ]
  },
  {
   "cell_type": "markdown",
   "metadata": {},
   "source": [
    "Customizing error messages in the THROW statement"
   ]
  },
  {
   "cell_type": "code",
   "execution_count": null,
   "metadata": {
    "vscode": {
     "languageId": "sql"
    }
   },
   "outputs": [],
   "source": [
    "-- Latihan 1\n",
    "-- Set @first_name to 'Pedro'\n",
    "DECLARE @first_name NVARCHAR(20) = 'Pedro';\n",
    "-- Concat the message\n",
    "DECLARE @my_message NVARCHAR(500) =\n",
    "\tCONCAT('There is no staff member with ', @first_name, ' as the first name.');\n",
    "\n",
    "IF NOT EXISTS (SELECT * FROM staff WHERE first_name = @first_name)\n",
    "\t-- Throw the error\n",
    "\tTHROW 50000, @my_message, 1;"
   ]
  },
  {
   "cell_type": "code",
   "execution_count": null,
   "metadata": {
    "vscode": {
     "languageId": "sql"
    }
   },
   "outputs": [],
   "source": [
    "-- Latihan 2\n",
    "DECLARE @product_name AS NVARCHAR(50) = 'Trek CrossRip+ - 2018';\n",
    "\n",
    "-- Set the number of sold bikes\n",
    "DECLARE @sold_bikes AS INT = 10;\n",
    "DECLARE @current_stock INT;\n",
    "\n",
    "SELECT @current_stock = stock FROM products WHERE product_name = @product_name;\n",
    "\n",
    "DECLARE @my_message NVARCHAR(500) =\n",
    "\t-- Customize the error message\n",
    "\tFORMATMESSAGE('There are not enough %s bikes. You have %d in stock.', @product_name, @current_stock);\n",
    "\n",
    "IF (@current_stock - @sold_bikes < 0)\n",
    "\t-- Throw the error\n",
    "\tTHROW 50000, @my_message, 1;"
   ]
  },
  {
   "cell_type": "code",
   "execution_count": null,
   "metadata": {
    "vscode": {
     "languageId": "sql"
    }
   },
   "outputs": [],
   "source": [
    "-- Latihan 3\n",
    "-- Pass the variables to the stored procedure\n",
    "EXEC sp_addmessage @msgnum = 50002, @severity = 16, @msgtext = 'There are not enough %s bikes. You only have %d in stock.', @lang = N'us_english';"
   ]
  },
  {
   "cell_type": "code",
   "execution_count": null,
   "metadata": {
    "vscode": {
     "languageId": "sql"
    }
   },
   "outputs": [],
   "source": [
    "EXEC sp_addmessage @msgnum = 50002, @severity = 16, @msgtext = 'There are not enough %s bikes. You only have %d in stock.', @lang = N'us_english';\n",
    "\n",
    "DECLARE @product_name AS NVARCHAR(50) = 'Trek CrossRip+ - 2018';\n",
    "DECLARE @sold_bikes AS INT = 10;\n",
    "DECLARE @current_stock INT;\n",
    "\n",
    "SELECT @current_stock = stock FROM products WHERE product_name = @product_name;\n",
    "\n",
    "DECLARE @my_message NVARCHAR(500) =\n",
    "\t-- Prepare the error message\n",
    "\tFORMATMESSAGE(50002, @product_name, @current_stock);\n",
    "\n",
    "IF (@current_stock - @sold_bikes < 0)\n",
    "\t-- Throw the error\n",
    "\tTHROW 50000, @my_message, 1;"
   ]
  },
  {
   "cell_type": "code",
   "execution_count": null,
   "metadata": {
    "vscode": {
     "languageId": "sql"
    }
   },
   "outputs": [],
   "source": [
    "EXEC sp_addmessage @msgnum = 50002, @severity = 16, @msgtext = 'There are not enough %s bikes. You only have %d in stock.', @lang = N'us_english';\n",
    "\n",
    "DECLARE @product_name AS NVARCHAR(50) = 'Trek CrossRip+ - 2018';\n",
    "--Change the value\n",
    "DECLARE @sold_bikes AS INT = 10;\n",
    "DECLARE @current_stock INT;\n",
    "\n",
    "SELECT @current_stock = stock FROM products WHERE product_name = @product_name;\n",
    "\n",
    "DECLARE @my_message NVARCHAR(500) =\n",
    "\tFORMATMESSAGE(50002, @product_name, @current_stock);\n",
    "\n",
    "IF (@current_stock - @sold_bikes < 0)\n",
    "\tTHROW 50000, @my_message, 1;"
   ]
  }
 ],
 "metadata": {
  "kernelspec": {
   "display_name": "Python 3.10.4 64-bit",
   "language": "python",
   "name": "python3"
  },
  "language_info": {
   "name": "python",
   "version": "3.10.4"
  },
  "orig_nbformat": 4,
  "vscode": {
   "interpreter": {
    "hash": "d3e10ef16274dd72e574b8fa73b58450b957d8421a2901baded3cca26fcf5dda"
   }
  }
 },
 "nbformat": 4,
 "nbformat_minor": 2
}
