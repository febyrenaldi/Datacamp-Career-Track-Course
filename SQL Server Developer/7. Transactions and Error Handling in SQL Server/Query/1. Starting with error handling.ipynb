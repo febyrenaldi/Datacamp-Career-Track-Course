{
 "cells": [
  {
   "cell_type": "markdown",
   "metadata": {},
   "source": [
    "Welcome!"
   ]
  },
  {
   "cell_type": "code",
   "execution_count": null,
   "metadata": {
    "vscode": {
     "languageId": "sql"
    }
   },
   "outputs": [],
   "source": [
    "-- Latihan 1\n",
    "-- Set up the TRY block\n",
    "BEGIN TRY\n",
    "\t-- Add the constraint\n",
    "\tALTER TABLE products\n",
    "\t\tADD CONSTRAINT CHK_Stock CHECK (stock >= 0);\n",
    "END TRY\n",
    "-- Set up the CATCH block\n",
    "BEGIN CATCH\n",
    "\tSELECT 'An error occurred!';\n",
    "END CATCH"
   ]
  },
  {
   "cell_type": "code",
   "execution_count": null,
   "metadata": {
    "vscode": {
     "languageId": "sql"
    }
   },
   "outputs": [],
   "source": [
    "-- Latihan 2\n",
    "-- Set up the first TRY block\n",
    "BEGIN TRY\n",
    "\tINSERT INTO buyers (first_name, last_name, email, phone)\n",
    "\t\tVALUES ('Peter', 'Thompson', 'peterthomson@mail.com', '555000100');\n",
    "END TRY\n",
    "-- Set up the first CATCH block\n",
    "BEGIN CATCH\n",
    "\tSELECT 'An error occurred inserting the buyer! You are in the first CATCH block';\n",
    "    -- Set up the nested TRY block\n",
    "    BEGIN TRY\n",
    "    \tINSERT INTO errors \n",
    "        \tVALUES ('Error inserting a buyer');\n",
    "        SELECT 'Error inserted correctly!';\n",
    "\tEND TRY\n",
    "    -- Set up the nested CATCH block\n",
    "    BEGIN CATCH\n",
    "    \tSELECT 'An error occurred inserting the error! You are in the nested CATCH block';\n",
    "    END CATCH \n",
    "END CATCH"
   ]
  },
  {
   "cell_type": "markdown",
   "metadata": {},
   "source": [
    "Error anatomy and uncatchable errors"
   ]
  },
  {
   "cell_type": "code",
   "execution_count": null,
   "metadata": {
    "vscode": {
     "languageId": "sql"
    }
   },
   "outputs": [],
   "source": [
    "-- Latihan 1\n",
    "BEGIN TRY\n",
    "\tINSERT INTO products (product_name, stock, price)\n",
    "\t\tVALUES ('Sun Bicycles ElectroLite - 2017', 10, 1559.99);\n",
    "END TRY\n",
    "BEGIN CATCH\n",
    "\tSELECT 'An error occurred inserting the product!';\n",
    "    BEGIN TRY\n",
    "    \tINSERT INTO errors \n",
    "        \tVALUES ('Error inserting a product');\n",
    "    END TRY    \n",
    "    BEGIN CATCH\n",
    "    \tSELECT 'An error occurred inserting the error!';\n",
    "    END CATCH    \n",
    "END CATCH"
   ]
  },
  {
   "cell_type": "markdown",
   "metadata": {},
   "source": [
    "Giving information about errors"
   ]
  },
  {
   "cell_type": "code",
   "execution_count": null,
   "metadata": {
    "vscode": {
     "languageId": "sql"
    }
   },
   "outputs": [],
   "source": [
    "-- Latihan 1\n",
    "-- Set up the TRY block\n",
    "BEGIN TRY\t\n",
    "\tSELECT 'Total: ' + SUM(price * quantity) AS total\n",
    "  \tFROM orders \n",
    "END TRY\n",
    "-- Set up the CATCH block\n",
    "BEGIN CATCH\n",
    "\t-- Show error information.\n",
    "\tSELECT  ERROR_NUMBER() AS number,  \n",
    "        \tERROR_SEVERITY() AS severity_level,  \n",
    "        \tERROR_STATE() AS state,\n",
    "        \tERROR_LINE() AS line,  \n",
    "        \tERROR_MESSAGE() AS message; \t    \n",
    "END CATCH "
   ]
  },
  {
   "cell_type": "code",
   "execution_count": null,
   "metadata": {
    "vscode": {
     "languageId": "sql"
    }
   },
   "outputs": [],
   "source": [
    "-- Latihan 2\n",
    "BEGIN TRY\n",
    "    INSERT INTO products (product_name, stock, price) \n",
    "    VALUES\t('Trek Powerfly 5 - 2018', 2, 3499.99),   \t\t\n",
    "    \t\t('New Power K- 2018', 3, 1999.99)\t\t\n",
    "END TRY\n",
    "-- Set up the outer CATCH block\n",
    "BEGIN CATCH\n",
    "\tSELECT 'An error occurred inserting the product!';\n",
    "    -- Set up the inner TRY block\n",
    "    BEGIN TRY\n",
    "    \t-- Insert the error\n",
    "    \tINSERT INTO errors \n",
    "        \tVALUES ('Error inserting a product');\n",
    "    END TRY    \n",
    "    -- Set up the inner CATCH block\n",
    "    BEGIN CATCH\n",
    "    \t-- Show number and message error\n",
    "    \tSELECT \n",
    "        \tERROR_LINE() AS line,\t   \n",
    "\t\t\tERROR_MESSAGE() AS message; \n",
    "    END CATCH    \n",
    "END CATCH"
   ]
  }
 ],
 "metadata": {
  "kernelspec": {
   "display_name": "Python 3.10.4 64-bit",
   "language": "python",
   "name": "python3"
  },
  "language_info": {
   "name": "python",
   "version": "3.10.4"
  },
  "orig_nbformat": 4,
  "vscode": {
   "interpreter": {
    "hash": "d3e10ef16274dd72e574b8fa73b58450b957d8421a2901baded3cca26fcf5dda"
   }
  }
 },
 "nbformat": 4,
 "nbformat_minor": 2
}
