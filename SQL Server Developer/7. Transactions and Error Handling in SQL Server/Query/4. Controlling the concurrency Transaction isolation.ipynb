{
 "cells": [
  {
   "cell_type": "markdown",
   "metadata": {},
   "source": [
    "Transaction isolation levels"
   ]
  },
  {
   "cell_type": "code",
   "execution_count": null,
   "metadata": {
    "vscode": {
     "languageId": "sql"
    }
   },
   "outputs": [],
   "source": [
    "-- Latihan 1\n",
    "-- Set the appropriate isolation level\n",
    "SET TRANSACTION ISOLATION LEVEL READ UNCOMMITTED\n",
    "\n",
    "\t-- Select first_name, last_name, email and phone\n",
    "\tSELECT\n",
    "    \tfirst_name, \n",
    "        last_name, \n",
    "        email, \n",
    "        phone\n",
    "    FROM customers;"
   ]
  },
  {
   "cell_type": "markdown",
   "metadata": {},
   "source": [
    "READ COMMITTED & REPEATABLE READ"
   ]
  },
  {
   "cell_type": "code",
   "execution_count": null,
   "metadata": {
    "vscode": {
     "languageId": "sql"
    }
   },
   "outputs": [],
   "source": [
    "-- Latihan 1\n",
    "-- Set the appropriate isolation level\n",
    "SET TRANSACTION ISOLATION LEVEL READ COMMITTED\n",
    "\n",
    "-- Count the accounts\n",
    "SELECT COUNT(*) AS number_of_accounts\n",
    "FROM accounts\n",
    "WHERE current_balance >= 50000;"
   ]
  },
  {
   "cell_type": "code",
   "execution_count": null,
   "metadata": {
    "vscode": {
     "languageId": "sql"
    }
   },
   "outputs": [],
   "source": [
    "-- Latihan 2\n",
    "-- Set the appropriate isolation level\n",
    "SET TRANSACTION ISOLATION LEVEL REPEATABLE READ\n",
    "\n",
    "-- Begin a transaction\n",
    "BEGIN TRAN\n",
    "\n",
    "SELECT * FROM customers;\n",
    "\n",
    "-- some mathematical operations, don't care about them...\n",
    "\n",
    "SELECT * FROM customers;\n",
    "\n",
    "-- Commit the transaction\n",
    "COMMIT TRAN"
   ]
  },
  {
   "cell_type": "markdown",
   "metadata": {},
   "source": [
    "SERIALIZABLE isolation level"
   ]
  },
  {
   "cell_type": "code",
   "execution_count": null,
   "metadata": {
    "vscode": {
     "languageId": "sql"
    }
   },
   "outputs": [],
   "source": [
    "-- Latihan 1\n",
    "-- Set the appropriate isolation level\n",
    "SET TRANSACTION ISOLATION LEVEL SERIALIZABLE\n",
    "\n",
    "-- Begin a transaction\n",
    "BEGIN TRAN\n",
    "\n",
    "SELECT * FROM customers;\n",
    "\n",
    "-- After some mathematical operations, we selected information from the customers table.\n",
    "SELECT * FROM customers;\n",
    "\n",
    "-- Commit the transaction\n",
    "COMMIT TRAN"
   ]
  },
  {
   "cell_type": "code",
   "execution_count": null,
   "metadata": {
    "vscode": {
     "languageId": "sql"
    }
   },
   "outputs": [],
   "source": [
    "-- Latihan 2\n",
    "-- Set the appropriate isolation level\n",
    "SET TRANSACTION ISOLATION LEVEL SERIALIZABLE\n",
    "\n",
    "-- Begin a transaction\n",
    "BEGIN TRAN\n",
    "\n",
    "-- Select customer_id between 1 and 10\n",
    "SELECT * \n",
    "FROM customers\n",
    "WHERE customer_id BETWEEN 1 AND 10;\n",
    "\n",
    "-- After completing some mathematical operation, select customer_id between 1 and 10\n",
    "SELECT * \n",
    "FROM customers\n",
    "WHERE customer_id BETWEEN 1 AND 10;\n",
    "\n",
    "-- Commit the transaction\n",
    "COMMIT TRAN"
   ]
  },
  {
   "cell_type": "markdown",
   "metadata": {},
   "source": [
    "SNAPSHOT"
   ]
  },
  {
   "cell_type": "code",
   "execution_count": null,
   "metadata": {
    "vscode": {
     "languageId": "sql"
    }
   },
   "outputs": [],
   "source": [
    "-- Latihan 1\n",
    "SELECT *\n",
    "\t-- Avoid being blocked\n",
    "\tFROM transactions WITH (NOLOCK)\n",
    "WHERE account_id = 1"
   ]
  }
 ],
 "metadata": {
  "kernelspec": {
   "display_name": "Python 3.10.4 64-bit",
   "language": "python",
   "name": "python3"
  },
  "language_info": {
   "name": "python",
   "version": "3.10.4"
  },
  "orig_nbformat": 4,
  "vscode": {
   "interpreter": {
    "hash": "d3e10ef16274dd72e574b8fa73b58450b957d8421a2901baded3cca26fcf5dda"
   }
  }
 },
 "nbformat": 4,
 "nbformat_minor": 2
}
