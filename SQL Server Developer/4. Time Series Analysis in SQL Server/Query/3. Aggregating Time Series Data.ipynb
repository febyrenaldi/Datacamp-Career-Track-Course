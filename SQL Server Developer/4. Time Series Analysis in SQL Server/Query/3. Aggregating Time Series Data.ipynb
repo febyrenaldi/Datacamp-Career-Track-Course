{
 "cells": [
  {
   "cell_type": "markdown",
   "metadata": {},
   "source": [
    "Basic aggregate functions"
   ]
  },
  {
   "cell_type": "code",
   "execution_count": null,
   "metadata": {
    "vscode": {
     "languageId": "sql"
    }
   },
   "outputs": [],
   "source": [
    "-- Latihan 1\n",
    "-- Fill in the appropriate aggregate functions\n",
    "SELECT\n",
    "\tit.IncidentType,\n",
    "\tCOUNT(1) AS NumberOfRows,\n",
    "\tSUM(ir.NumberOfIncidents) AS TotalNumberOfIncidents,\n",
    "\tMIN(ir.NumberOfIncidents) AS MinNumberOfIncidents,\n",
    "\tMAX(ir.NumberOfIncidents) AS MaxNumberOfIncidents,\n",
    "\tMIN(ir.IncidentDate) As MinIncidentDate,\n",
    "\tMAX(ir.IncidentDate) AS MaxIncidentDate\n",
    "FROM dbo.IncidentRollup ir\n",
    "\tINNER JOIN dbo.IncidentType it\n",
    "\t\tON ir.IncidentTypeID = it.IncidentTypeID\n",
    "WHERE\n",
    "\tir.IncidentDate BETWEEN '2019-08-01' AND '2019-10-31'\n",
    "GROUP BY\n",
    "\tit.IncidentType;"
   ]
  },
  {
   "cell_type": "code",
   "execution_count": null,
   "metadata": {
    "vscode": {
     "languageId": "sql"
    }
   },
   "outputs": [],
   "source": [
    "-- Latihan 2\n",
    "-- Fill in the functions and columns\n",
    "SELECT\n",
    "\tCOUNT(DISTINCT ir.IncidentTypeID) AS NumberOfIncidentTypes,\n",
    "\tCOUNT(DISTINCT ir.IncidentDate) AS NumberOfDaysWithIncidents\n",
    "FROM dbo.IncidentRollup ir\n",
    "WHERE\n",
    "ir.IncidentDate BETWEEN '2019-08-01' AND '2019-10-31';"
   ]
  },
  {
   "cell_type": "code",
   "execution_count": null,
   "metadata": {
    "vscode": {
     "languageId": "sql"
    }
   },
   "outputs": [],
   "source": [
    "-- Latihan 3\n",
    "SELECT\n",
    "\tit.IncidentType,\n",
    "    -- Fill in the appropriate expression\n",
    "\tSUM(CASE WHEN ir.NumberOfIncidents > 5 THEN 1 ELSE 0 END) AS NumberOfBigIncidentDays,\n",
    "    -- Number of incidents will always be at least 1, so\n",
    "    -- no need to check the minimum value, just that it's\n",
    "    -- less than or equal to 5\n",
    "    SUM(CASE WHEN ir.NumberOfIncidents <= 5 THEN 1 ELSE 0 END) AS NumberOfSmallIncidentDays\n",
    "FROM dbo.IncidentRollup ir\n",
    "\tINNER JOIN dbo.IncidentType it\n",
    "\t\tON ir.IncidentTypeID = it.IncidentTypeID\n",
    "WHERE\n",
    "\tir.IncidentDate BETWEEN '2019-08-01' AND '2019-10-31'\n",
    "GROUP BY\n",
    "it.IncidentType;"
   ]
  },
  {
   "cell_type": "markdown",
   "metadata": {},
   "source": [
    "Statistical aggregate functions"
   ]
  },
  {
   "cell_type": "code",
   "execution_count": null,
   "metadata": {
    "vscode": {
     "languageId": "sql"
    }
   },
   "outputs": [],
   "source": [
    "-- Latihan 1\n",
    "-- Fill in the missing function names\n",
    "SELECT\n",
    "\tit.IncidentType,\n",
    "\tAVG(ir.NumberOfIncidents) AS MeanNumberOfIncidents,\n",
    "\tAVG(CAST(ir.NumberOfIncidents AS DECIMAL(4,2))) AS MeanNumberOfIncidents,\n",
    "\tSTDEV(ir.NumberOfIncidents) AS NumberOfIncidentsStandardDeviation,\n",
    "\tVAR(ir.NumberOfIncidents) AS NumberOfIncidentsVariance,\n",
    "\tCOUNT(1) AS NumberOfRows\n",
    "FROM dbo.IncidentRollup ir\n",
    "\tINNER JOIN dbo.IncidentType it\n",
    "\t\tON ir.IncidentTypeID = it.IncidentTypeID\n",
    "\tINNER JOIN dbo.Calendar c\n",
    "\t\tON ir.IncidentDate = c.Date\n",
    "WHERE\n",
    "\tc.CalendarQuarter = 2\n",
    "\tAND c.CalendarYear = 2020\n",
    "GROUP BY\n",
    "it.IncidentType;\n"
   ]
  },
  {
   "cell_type": "code",
   "execution_count": null,
   "metadata": {
    "vscode": {
     "languageId": "sql"
    }
   },
   "outputs": [],
   "source": [
    "-- Latihan 2\n",
    "SELECT DISTINCT\n",
    "\tit.IncidentType,\n",
    "\tAVG(CAST(ir.NumberOfIncidents AS DECIMAL(4,2)))\n",
    "\t    OVER(PARTITION BY it.IncidentType) AS MeanNumberOfIncidents,\n",
    "    --- Fill in the missing value\n",
    "\tPERCENTILE_CONT(0.5)\n",
    "    \t-- Inside our group, order by number of incidents DESC\n",
    "    \tWITHIN GROUP (ORDER BY ir.NumberOfIncidents DESC)\n",
    "        -- Do this for each IncidentType value\n",
    "        OVER (PARTITION BY it.IncidentType) AS MedianNumberOfIncidents,\n",
    "\tCOUNT(1) OVER (PARTITION BY it.IncidentType) AS NumberOfRows\n",
    "FROM dbo.IncidentRollup ir\n",
    "\tINNER JOIN dbo.IncidentType it\n",
    "\t\tON ir.IncidentTypeID = it.IncidentTypeID\n",
    "\tINNER JOIN dbo.Calendar c\n",
    "\t\tON ir.IncidentDate = c.Date\n",
    "WHERE\n",
    "\tc.CalendarQuarter = 2\n",
    "\tAND c.CalendarYear = 2020;"
   ]
  },
  {
   "cell_type": "markdown",
   "metadata": {},
   "source": [
    "Downsampling and upsampling data"
   ]
  },
  {
   "cell_type": "code",
   "execution_count": null,
   "metadata": {
    "vscode": {
     "languageId": "sql"
    }
   },
   "outputs": [],
   "source": [
    "-- Latihan 1\n",
    "SELECT\n",
    "\t-- Downsample to a daily grain\n",
    "    -- Cast CustomerVisitStart as a date\n",
    "\tCAST(dsv.CustomerVisitStart AS DATE) AS Day,\n",
    "\tSUM(dsv.AmenityUseInMinutes) AS AmenityUseInMinutes,\n",
    "\tCOUNT(1) AS NumberOfAttendees\n",
    "FROM dbo.DaySpaVisit dsv\n",
    "WHERE\n",
    "\tdsv.CustomerVisitStart >= '2020-06-11'\n",
    "\tAND dsv.CustomerVisitStart < '2020-06-23'\n",
    "GROUP BY\n",
    "\t-- When we use aggregation functions like SUM or COUNT,\n",
    "    -- we need to GROUP BY the non-aggregated columns\n",
    "\tCast(dsv.CustomerVisitStart AS DATE)\n",
    "ORDER BY\n",
    "\tDay;"
   ]
  },
  {
   "cell_type": "code",
   "execution_count": null,
   "metadata": {
    "vscode": {
     "languageId": "sql"
    }
   },
   "outputs": [],
   "source": [
    "-- Latihan 2\n",
    "SELECT\n",
    "\t-- Downsample to a weekly grain\n",
    "\tDATEPART(WEEK, dsv.CustomerVisitStart) AS Week,\n",
    "\tSUM(dsv.AmenityUseInMinutes) AS AmenityUseInMinutes,\n",
    "\t-- Find the customer with the largest customer ID for that week\n",
    "\tMAX(dsv.CustomerID) AS HighestCustomerID,\n",
    "\tCOUNT(1) AS NumberOfAttendees\n",
    "FROM dbo.DaySpaVisit dsv\n",
    "WHERE\n",
    "\tdsv.CustomerVisitStart >= '2020-01-01'\n",
    "\tAND dsv.CustomerVisitStart < '2021-01-01'\n",
    "GROUP BY\n",
    "\t-- When we use aggregation functions like SUM or COUNT,\n",
    "    -- we need to GROUP BY the non-aggregated columns\n",
    "\tDATEPART(WEEK, dsv.CustomerVisitStart)\n",
    "ORDER BY\n",
    "\tWeek;"
   ]
  },
  {
   "cell_type": "code",
   "execution_count": null,
   "metadata": {
    "vscode": {
     "languageId": "sql"
    }
   },
   "outputs": [],
   "source": [
    "-- Latihan 3\n",
    "SELECT\n",
    "\t-- Determine the week of the calendar year\n",
    "\tc.CalendarWeekOfYear,\n",
    "\t-- Determine the earliest DATE in this group\n",
    "    -- This is NOT the DayOfWeek column\n",
    "\tMIN(c.Date) AS FirstDateOfWeek,\n",
    "\tISNULL(SUM(dsv.AmenityUseInMinutes), 0) AS AmenityUseInMinutes,\n",
    "\tISNULL(MAX(dsv.CustomerID), 0) AS HighestCustomerID,\n",
    "\tCOUNT(dsv.CustomerID) AS NumberOfAttendees\n",
    "FROM dbo.Calendar c\n",
    "\tLEFT OUTER JOIN dbo.DaySpaVisit dsv\n",
    "\t\t-- Connect dbo.Calendar with dbo.DaySpaVisit\n",
    "\t\t-- To join on CustomerVisitStart, we need to turn \n",
    "        -- it into a DATE type\n",
    "\t\tON c.Date = CAST(dsv.CustomerVisitStart AS DATE)\n",
    "WHERE\n",
    "\tc.CalendarYear = 2020\n",
    "GROUP BY\n",
    "\t-- When we use aggregation functions like SUM or COUNT,\n",
    "    -- we need to GROUP BY the non-aggregated columns\n",
    "\tc.CalendarWeekOfYear\n",
    "ORDER BY\n",
    "\tc.CalendarWeekOfYear;"
   ]
  },
  {
   "cell_type": "markdown",
   "metadata": {},
   "source": [
    "Grouping by ROLLUP, CUBE, and GROUPING SETS"
   ]
  },
  {
   "cell_type": "markdown",
   "metadata": {},
   "source": [
    "Common Table Expressions"
   ]
  },
  {
   "cell_type": "code",
   "execution_count": null,
   "metadata": {
    "vscode": {
     "languageId": "sql"
    }
   },
   "outputs": [],
   "source": [
    "-- Latihan 1\n",
    "SELECT\n",
    "\tc.CalendarYear,\n",
    "\tc.CalendarQuarterName,\n",
    "\tc.CalendarMonth,\n",
    "    -- Include the sum of incidents by day over each range\n",
    "\tSUM(ir.NumberOfIncidents) AS NumberOfIncidents\n",
    "FROM dbo.IncidentRollup ir\n",
    "\tINNER JOIN dbo.Calendar c\n",
    "\t\tON ir.IncidentDate = c.Date\n",
    "WHERE\n",
    "\tir.IncidentTypeID = 2\n",
    "GROUP BY\n",
    "\t-- GROUP BY needs to include all non-aggregated columns\n",
    "\tc.CalendarYear,\n",
    "\tc.CalendarQuarterName,\n",
    "\tc.CalendarMonth\n",
    "-- Fill in your grouping operator\n",
    "WITH ROLLUP\n",
    "ORDER BY\n",
    "\tc.CalendarYear,\n",
    "\tc.CalendarQuarterName,\n",
    "\tc.CalendarMonth;"
   ]
  },
  {
   "cell_type": "code",
   "execution_count": null,
   "metadata": {
    "vscode": {
     "languageId": "sql"
    }
   },
   "outputs": [],
   "source": [
    "-- Latihan 2\n",
    "SELECT\n",
    "\t-- Use the ORDER BY clause as a guide for these columns\n",
    "    -- Don't forget that comma after the third column if you\n",
    "    -- copy from the ORDER BY clause!\n",
    "\tir.IncidentTypeID,\n",
    "\tc.CalendarQuarterName,\n",
    "\tc.WeekOfMonth,\n",
    "\tSUM(ir.NumberOfIncidents) AS NumberOfIncidents\n",
    "FROM dbo.IncidentRollup ir\n",
    "\tINNER JOIN dbo.Calendar c\n",
    "\t\tON ir.IncidentDate = c.Date\n",
    "WHERE\n",
    "\tir.IncidentTypeID IN (3, 4)\n",
    "GROUP BY\n",
    "\t-- GROUP BY should include all non-aggregated columns\n",
    "\tir.IncidentTypeID,\n",
    "\tc.CalendarQuarterName,\n",
    "\tc.WeekOfMonth\n",
    "-- Fill in your grouping operator\n",
    "WITH CUBE\n",
    "ORDER BY\n",
    "\tir.IncidentTypeID,\n",
    "\tc.CalendarQuarterName,\n",
    "\tc.WeekOfMonth;"
   ]
  },
  {
   "cell_type": "code",
   "execution_count": null,
   "metadata": {
    "vscode": {
     "languageId": "sql"
    }
   },
   "outputs": [],
   "source": [
    "-- Latihan 3\n",
    "SELECT\n",
    "\tc.CalendarYear,\n",
    "\tc.CalendarQuarterName,\n",
    "\tc.CalendarMonth,\n",
    "\tSUM(ir.NumberOfIncidents) AS NumberOfIncidents\n",
    "FROM dbo.IncidentRollup ir\n",
    "\tINNER JOIN dbo.Calendar c\n",
    "\t\tON ir.IncidentDate = c.Date\n",
    "WHERE\n",
    "\tir.IncidentTypeID = 2\n",
    "-- Fill in your grouping operator here\n",
    "GROUP BY GROUPING SETS\n",
    "(\n",
    "  \t-- Group in hierarchical order:  calendar year,\n",
    "    -- calendar quarter name, calendar month\n",
    "\t(c.CalendarYear, c.CalendarQuarterName, c.CalendarMonth),\n",
    "  \t-- Group by calendar year\n",
    "\t(c.CalendarYear),\n",
    "    -- This remains blank; it gives us the grand total\n",
    "\t()\n",
    ")\n",
    "ORDER BY\n",
    "\tc.CalendarYear,\n",
    "\tc.CalendarQuarterName,\n",
    "\tc.CalendarMonth;"
   ]
  },
  {
   "cell_type": "code",
   "execution_count": null,
   "metadata": {
    "vscode": {
     "languageId": "sql"
    }
   },
   "outputs": [],
   "source": [
    "-- Latihan 4\n",
    "SELECT\n",
    "\tc.CalendarYear,\n",
    "\tc.CalendarMonth,\n",
    "\tc.DayOfWeek,\n",
    "\tc.IsWeekend,\n",
    "\tSUM(ir.NumberOfIncidents) AS NumberOfIncidents\n",
    "FROM dbo.IncidentRollup ir\n",
    "\tINNER JOIN dbo.Calendar c\n",
    "\t\tON ir.IncidentDate = c.Date\n",
    "GROUP BY GROUPING SETS\n",
    "(\n",
    "    -- Each non-aggregated column from above should appear once\n",
    "  \t-- Calendar year and month\n",
    "\t(c.CalendarYear, c.CalendarMonth),\n",
    "  \t-- Day of week\n",
    "\t(c.DayOfWeek),\n",
    "  \t-- Is weekend or not\n",
    "\t(c.IsWeekend),\n",
    "    -- This remains empty; it gives us the grand total\n",
    "\t()\n",
    ")\n",
    "ORDER BY\n",
    "\tc.CalendarYear,\n",
    "\tc.CalendarMonth,\n",
    "\tc.DayOfWeek,\n",
    "\tc.IsWeekend;"
   ]
  }
 ],
 "metadata": {
  "language_info": {
   "name": "python"
  },
  "orig_nbformat": 4
 },
 "nbformat": 4,
 "nbformat_minor": 2
}
