{
 "cells": [
  {
   "cell_type": "markdown",
   "metadata": {},
   "source": [
    "Using aggregation functions over windows"
   ]
  },
  {
   "cell_type": "code",
   "execution_count": null,
   "metadata": {
    "vscode": {
     "languageId": "sql"
    }
   },
   "outputs": [],
   "source": [
    "-- Latihan 1\n",
    "SELECT\n",
    "\tir.IncidentDate,\n",
    "\tir.NumberOfIncidents,\n",
    "    -- Fill in each window function and ordering\n",
    "\t-- Note that all of these are in descending order!\n",
    "\tROW_NUMBER() OVER (ORDER BY ir.NumberOfIncidents DESC) AS rownum,\n",
    "\tRANK() OVER (ORDER BY ir.NumberOfIncidents DESC) AS rk,\n",
    "\tDENSE_RANK() OVER (ORDER BY ir.NumberOfIncidents DESC) AS dr\n",
    "FROM dbo.IncidentRollup ir\n",
    "WHERE\n",
    "\tir.IncidentTypeID = 3\n",
    "\tAND ir.NumberOfIncidents >= 8\n",
    "ORDER BY\n",
    "\tir.NumberOfIncidents DESC;"
   ]
  },
  {
   "cell_type": "code",
   "execution_count": null,
   "metadata": {
    "vscode": {
     "languageId": "sql"
    }
   },
   "outputs": [],
   "source": [
    "-- Latihan 2\n",
    "SELECT\n",
    "\tir.IncidentDate,\n",
    "\tir.NumberOfIncidents,\n",
    "    -- Fill in the correct aggregate functions\n",
    "    -- You do not need to fill in the OVER clause\n",
    "\tSUM(ir.NumberOfIncidents) OVER () AS SumOfIncidents,\n",
    "\tMIN(ir.NumberOfIncidents) OVER () AS LowestNumberOfIncidents,\n",
    "\tMAX(ir.NumberOfIncidents) OVER () AS HighestNumberOfIncidents,\n",
    "\tCOUNT(ir.NumberOfIncidents) OVER () AS CountOfIncidents\n",
    "FROM dbo.IncidentRollup ir\n",
    "WHERE\n",
    "\tir.IncidentDate BETWEEN '2019-07-01' AND '2019-07-31'\n",
    "AND ir.IncidentTypeID = 3;"
   ]
  },
  {
   "cell_type": "markdown",
   "metadata": {},
   "source": [
    "Calculating running totals and moving averages"
   ]
  },
  {
   "cell_type": "code",
   "execution_count": null,
   "metadata": {
    "vscode": {
     "languageId": "sql"
    }
   },
   "outputs": [],
   "source": [
    "-- Latihan 1\n",
    "SELECT\n",
    "\tir.IncidentDate,\n",
    "\tir.IncidentTypeID,\n",
    "\tir.NumberOfIncidents,\n",
    "    -- Get the total number of incidents\n",
    "\tSUM(ir.NumberOfIncidents) OVER (\n",
    "      \t-- Do this for each incident type ID\n",
    "\t\tPARTITION BY ir.IncidentTypeID\n",
    "      \t-- Sort by the incident date\n",
    "\t\tORDER BY ir.IncidentDate\n",
    "\t) AS NumberOfIncidents\n",
    "FROM dbo.IncidentRollup ir\n",
    "\tINNER JOIN dbo.Calendar c\n",
    "\t\tON ir.IncidentDate = c.Date\n",
    "WHERE\n",
    "\tc.CalendarYear = 2019\n",
    "\tAND c.CalendarMonth = 7\n",
    "\tAND ir.IncidentTypeID IN (1, 2)\n",
    "ORDER BY\n",
    "\tir.IncidentTypeID,\n",
    "\tir.IncidentDate;\t"
   ]
  },
  {
   "cell_type": "code",
   "execution_count": null,
   "metadata": {
    "vscode": {
     "languageId": "sql"
    }
   },
   "outputs": [],
   "source": [
    "-- Latihan 2\n",
    "SELECT\n",
    "\tir.IncidentDate,\n",
    "\tir.IncidentTypeID,\n",
    "\tir.NumberOfIncidents,\n",
    "    -- Fill in the correct window function\n",
    "\tAVG(ir.NumberOfIncidents) OVER (\n",
    "\t\tPARTITION BY ir.IncidentTypeID\n",
    "\t\tORDER BY ir.IncidentDate\n",
    "      \t-- Fill in the three parts of the window frame\n",
    "\t\tROWS BETWEEN 6 PRECEDING AND CURRENT ROW\n",
    "\t) AS MeanNumberOfIncidents\n",
    "FROM dbo.IncidentRollup ir\n",
    "\tINNER JOIN dbo.Calendar c\n",
    "\t\tON ir.IncidentDate = c.Date\n",
    "WHERE\n",
    "\tc.CalendarYear = 2019\n",
    "\tAND c.CalendarMonth IN (7, 8)\n",
    "\tAND ir.IncidentTypeID = 1\n",
    "ORDER BY\n",
    "\tir.IncidentTypeID,\n",
    "\tir.IncidentDate;"
   ]
  },
  {
   "cell_type": "markdown",
   "metadata": {},
   "source": [
    "Working with LAG() and LEAD()"
   ]
  },
  {
   "cell_type": "code",
   "execution_count": null,
   "metadata": {
    "vscode": {
     "languageId": "sql"
    }
   },
   "outputs": [],
   "source": [
    "-- Latihan 1\n",
    "SELECT\n",
    "\tir.IncidentDate,\n",
    "\tir.IncidentTypeID,\n",
    "    -- Get the prior day's number of incidents\n",
    "\tLAG(ir.NumberOfIncidents, 1) OVER (\n",
    "      \t-- Partition by incident type ID\n",
    "\t\tPARTITION BY ir.IncidentTypeID\n",
    "      \t-- Order by incident date\n",
    "\t\tORDER BY ir.IncidentDate\n",
    "\t) AS PriorDayIncidents,\n",
    "\tir.NumberOfIncidents AS CurrentDayIncidents,\n",
    "    -- Get the next day's number of incidents\n",
    "\tLEAD(ir.NumberOfIncidents, 1) OVER (\n",
    "      \t-- Partition by incident type ID\n",
    "\t\tPARTITION BY ir.IncidentTypeID\n",
    "      \t-- Order by incident date\n",
    "\t\tORDER BY ir.IncidentDate\n",
    "\t) AS NextDayIncidents\n",
    "FROM dbo.IncidentRollup ir\n",
    "WHERE\n",
    "\tir.IncidentDate >= '2019-07-02'\n",
    "\tAND ir.IncidentDate <= '2019-07-31'\n",
    "\tAND ir.IncidentTypeID IN (1, 2)\n",
    "ORDER BY\n",
    "\tir.IncidentTypeID,\n",
    "\tir.IncidentDate;"
   ]
  },
  {
   "cell_type": "code",
   "execution_count": null,
   "metadata": {
    "vscode": {
     "languageId": "sql"
    }
   },
   "outputs": [],
   "source": [
    "-- Latihan 2\n",
    "SELECT\n",
    "\tir.IncidentDate,\n",
    "\tir.IncidentTypeID,\n",
    "    -- Fill in two periods ago\n",
    "\tLAG(ir.NumberOfIncidents, 2) OVER (\n",
    "\t\tPARTITION BY ir.IncidentTypeID\n",
    "\t\tORDER BY ir.IncidentDate\n",
    "\t) AS Trailing2Day,\n",
    "    -- Fill in one period ago\n",
    "\tLAG(ir.NumberOfIncidents, 1) OVER (\n",
    "\t\tPARTITION BY ir.IncidentTypeID\n",
    "\t\tORDER BY ir.IncidentDate\n",
    "\t) AS Trailing1Day,\n",
    "\tir.NumberOfIncidents AS CurrentDayIncidents,\n",
    "    -- Fill in next period\n",
    "\tLEAD(ir.NumberOfIncidents, 1) OVER (\n",
    "\t\tPARTITION BY ir.IncidentTypeID\n",
    "\t\tORDER BY ir.IncidentDate\n",
    "\t) AS NextDay\n",
    "FROM dbo.IncidentRollup ir\n",
    "WHERE\n",
    "\tir.IncidentDate >= '2019-07-01'\n",
    "\tAND ir.IncidentDate <= '2019-07-31'\n",
    "\tAND ir.IncidentTypeID IN (1, 2)\n",
    "ORDER BY\n",
    "\tir.IncidentTypeID,\n",
    "\tir.IncidentDate;"
   ]
  },
  {
   "cell_type": "code",
   "execution_count": null,
   "metadata": {
    "vscode": {
     "languageId": "sql"
    }
   },
   "outputs": [],
   "source": [
    "-- Latihan 3\n",
    "SELECT\n",
    "\tir.IncidentDate,\n",
    "\tir.IncidentTypeID,\n",
    "    -- Fill in the days since last incident\n",
    "\tDATEDIFF(DAY, LAG(ir.IncidentDate, 1) OVER (\n",
    "\t\tPARTITION BY ir.IncidentTypeID\n",
    "\t\tORDER BY ir.IncidentDate\n",
    "\t), ir.IncidentDate) AS DaysSinceLastIncident,\n",
    "    -- Fill in the days until next incident\n",
    "\tDATEDIFF(DAY, ir.IncidentDate, LEAD(ir.IncidentDate, 1) OVER (\n",
    "\t\tPARTITION BY ir.IncidentTypeID\n",
    "\t\tORDER BY ir.IncidentDate\n",
    "\t)) AS DaysUntilNextIncident\n",
    "FROM dbo.IncidentRollup ir\n",
    "WHERE\n",
    "\tir.IncidentDate >= '2019-07-02'\n",
    "\tAND ir.IncidentDate <= '2019-07-31'\n",
    "\tAND ir.IncidentTypeID IN (1, 2)\n",
    "ORDER BY\n",
    "\tir.IncidentTypeID,\n",
    "\tir.IncidentDate;"
   ]
  },
  {
   "cell_type": "markdown",
   "metadata": {},
   "source": [
    "Finding maximum levels of overla"
   ]
  },
  {
   "cell_type": "code",
   "execution_count": null,
   "metadata": {
    "vscode": {
     "languageId": "sql"
    }
   },
   "outputs": [],
   "source": [
    "-- Latihan 1\n",
    "-- This section focuses on entrances:  CustomerVisitStart\n",
    "SELECT\n",
    "\tdsv.CustomerID,\n",
    "\tdsv.CustomerVisitStart AS TimeUTC,\n",
    "\t1 AS EntryCount,\n",
    "    -- We want to know each customer's entrance stream\n",
    "    -- Get a unique, ascending row number\n",
    "\tROW_NUMBER() OVER (\n",
    "      -- Break this out by customer ID\n",
    "      PARTITION BY dsv.CustomerID\n",
    "      -- Ordered by the customer visit start date\n",
    "      ORDER BY dsv.CustomerVisitStart\n",
    "    ) AS StartOrdinal\n",
    "FROM dbo.DaySpaVisit dsv\n",
    "UNION ALL\n",
    "-- This section focuses on departures:  CustomerVisitEnd\n",
    "SELECT\n",
    "\tdsv.CustomerID,\n",
    "\tdsv.CustomerVisitEnd AS TimeUTC,\n",
    "\t-1 AS EntryCount,\n",
    "\tNULL AS StartOrdinal\n",
    "FROM dbo.DaySpaVisit dsv"
   ]
  },
  {
   "cell_type": "code",
   "execution_count": null,
   "metadata": {
    "vscode": {
     "languageId": "sql"
    }
   },
   "outputs": [],
   "source": [
    "-- Latihan 2\n",
    "SELECT s.*,\n",
    "    -- Build a stream of all check-in and check-out events\n",
    "\tROW_NUMBER() OVER (\n",
    "      -- Break this out by customer ID\n",
    "      PARTITION BY s.CustomerID\n",
    "      -- Order by event time and then the start ordinal\n",
    "      -- value (in case of exact time matches)\n",
    "      ORDER BY s.TimeUTC, s.StartOrdinal\n",
    "    ) AS StartOrEndOrdinal\n",
    "FROM #StartStopPoints s;"
   ]
  },
  {
   "cell_type": "code",
   "execution_count": null,
   "metadata": {
    "vscode": {
     "languageId": "sql"
    }
   },
   "outputs": [],
   "source": [
    "-- Latihan 3\n",
    "SELECT\n",
    "\ts.CustomerID,\n",
    "\tMAX(2 * s.StartOrdinal - s.StartOrEndOrdinal) AS MaxConcurrentCustomerVisits\n",
    "FROM #StartStopOrder s\n",
    "WHERE s.EntryCount = 1\n",
    "GROUP BY s.CustomerID\n",
    "-- The difference between 2 * start ordinal and the start/end\n",
    "-- ordinal represents the number of concurrent visits\n",
    "HAVING MAX(2 * s.StartOrdinal - s.StartOrEndOrdinal) > 2\n",
    "-- Sort by the largest number of max concurrent customer visits\n",
    "ORDER BY MaxConcurrentCustomerVisits DESC;"
   ]
  }
 ],
 "metadata": {
  "language_info": {
   "name": "python"
  },
  "orig_nbformat": 4
 },
 "nbformat": 4,
 "nbformat_minor": 2
}
