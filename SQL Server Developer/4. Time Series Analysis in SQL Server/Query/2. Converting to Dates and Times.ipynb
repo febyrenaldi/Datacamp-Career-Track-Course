{
 "cells": [
  {
   "cell_type": "markdown",
   "metadata": {},
   "source": [
    "Building dates from parts"
   ]
  },
  {
   "cell_type": "code",
   "execution_count": null,
   "metadata": {
    "vscode": {
     "languageId": "sql"
    }
   },
   "outputs": [],
   "source": [
    "-- Latihan 1\n",
    "-- Create dates from component parts on the calendar table\n",
    "SELECT TOP(10)\n",
    "\tDATEFROMPARTS(c.CalendarYear, c.CalendarMonth, c.Day) AS CalendarDate\n",
    "FROM dbo.Calendar c\n",
    "WHERE\n",
    "\tc.CalendarYear = 2017\n",
    "ORDER BY\n",
    "\tc.FiscalDayOfYear ASC;"
   ]
  },
  {
   "cell_type": "code",
   "execution_count": null,
   "metadata": {
    "vscode": {
     "languageId": "sql"
    }
   },
   "outputs": [],
   "source": [
    "-- Latihan 2\n",
    "SELECT TOP(10)\n",
    "\tc.CalendarQuarterName,\n",
    "\tc.MonthName,\n",
    "\tc.CalendarDayOfYear\n",
    "FROM dbo.Calendar c\n",
    "WHERE\n",
    "\t-- Create dates from component parts\n",
    "\tDATEFROMPARTS(c.CalendarYear, c.CalendarMonth, c.Day) >= '2018-06-01'\n",
    "\tAND c.DayName = 'Tuesday'\n",
    "ORDER BY\n",
    "\tc.FiscalYear,\n",
    "\tc.FiscalDayOfYear ASC;"
   ]
  },
  {
   "cell_type": "code",
   "execution_count": null,
   "metadata": {
    "vscode": {
     "languageId": "sql"
    }
   },
   "outputs": [],
   "source": [
    "-- Latihan 3\n",
    "SELECT\n",
    "\t-- Mark the date and time the lunar module touched down\n",
    "    -- Use 24-hour notation for hours, so e.g., 9 PM is 21\n",
    "\tDATETIME2FROMPARTS(1969, 07, 20, 20, 17, 00, 000, 0) AS TheEagleHasLanded,\n",
    "\t-- Mark the date and time the lunar module took back off\n",
    "    -- Use 24-hour notation for hours, so e.g., 9 PM is 21\n",
    "\tDATETIMEFROMPARTS(1969, 07, 21, 18, 54, 00, 000) AS MoonDeparture;\n"
   ]
  },
  {
   "cell_type": "code",
   "execution_count": null,
   "metadata": {
    "vscode": {
     "languageId": "sql"
    }
   },
   "outputs": [],
   "source": [
    "-- Latihan 4\n",
    "SELECT\n",
    "\t-- Fill in the millisecond PRIOR TO chaos\n",
    "\tDATETIMEOFFSETFROMPARTS(2038, 01, 19, 03, 14, 07, 999, 0, 0, 3) AS LastMoment,\n",
    "    -- Fill in the date and time when we will experience the Y2.038K problem\n",
    "    -- Then convert to the Eastern Standard Time time zone\n",
    "\tDATETIMEOFFSETFROMPARTS(2038, 01, 19, 03, 14, 08, 0, 0, 0, 3) AT TIME ZONE 'Eastern Standard Time' AS TimeForChaos;"
   ]
  },
  {
   "cell_type": "markdown",
   "metadata": {},
   "source": [
    "Translating date strings"
   ]
  },
  {
   "cell_type": "code",
   "execution_count": null,
   "metadata": {
    "vscode": {
     "languageId": "sql"
    }
   },
   "outputs": [],
   "source": [
    "-- Latihan 1\n",
    "SELECT\n",
    "\td.DateText AS String,\n",
    "\t-- Cast as DATE\n",
    "\tCAST(d.DateText AS DATE) AS StringAsDate,\n",
    "\t-- Cast as DATETIME2(7)\n",
    "\tCAST(d.DateText AS DATETIME2(7)) AS StringAsDateTime2\n",
    "FROM dbo.Dates d;"
   ]
  },
  {
   "cell_type": "code",
   "execution_count": null,
   "metadata": {
    "vscode": {
     "languageId": "sql"
    }
   },
   "outputs": [],
   "source": [
    "-- Latihan 1\n",
    "SET LANGUAGE 'GERMAN'\n",
    "\n",
    "SELECT\n",
    "\td.DateText AS String,\n",
    "\t-- Convert to DATE\n",
    "\tCONVERT(DATE, d.DateText) AS StringAsDate,\n",
    "\t-- Convert to DATETIME2(7)\n",
    "\tCONVERT(DATETIME2(7), d.DateText) AS StringAsDateTime2\n",
    "FROM dbo.Dates d;"
   ]
  },
  {
   "cell_type": "code",
   "execution_count": null,
   "metadata": {
    "vscode": {
     "languageId": "sql"
    }
   },
   "outputs": [],
   "source": [
    "-- Latihan 2\n",
    "SELECT\n",
    "\td.DateText AS String,\n",
    "\t-- Parse as DATE using German\n",
    "\tPARSE(d.DateText AS DATE USING 'de-de') AS StringAsDate,\n",
    "\t-- Parse as DATETIME2(7) using German\n",
    "\tPARSE(d.DateText AS DATETIME2(7) USING 'de-de') AS StringAsDateTime2\n",
    "FROM dbo.Dates d;"
   ]
  },
  {
   "cell_type": "markdown",
   "metadata": {},
   "source": [
    "Working with offsets"
   ]
  },
  {
   "cell_type": "code",
   "execution_count": null,
   "metadata": {
    "vscode": {
     "languageId": "sql"
    }
   },
   "outputs": [],
   "source": [
    "-- Latihan 1\n",
    "DECLARE\n",
    "\t@OlympicsUTC NVARCHAR(50) = N'2016-08-08 23:00:00';\n",
    "\n",
    "SELECT\n",
    "\t-- Fill in the time zone for Brasilia, Brazil\n",
    "\tSWITCHOFFSET(@OlympicsUTC, '-03:00') AS BrasiliaTime,\n",
    "\t-- Fill in the time zone for Chicago, Illinois\n",
    "\tSWITCHOFFSET(@OlympicsUTC, '-05:00') AS ChicagoTime,\n",
    "\t-- Fill in the time zone for New Delhi, India\n",
    "\tSWITCHOFFSET(@OlympicsUTC, '+05:30') AS NewDelhiTime;"
   ]
  },
  {
   "cell_type": "code",
   "execution_count": null,
   "metadata": {
    "vscode": {
     "languageId": "sql"
    }
   },
   "outputs": [],
   "source": [
    "-- Latihan 2\n",
    "DECLARE\n",
    "\t@OlympicsClosingUTC DATETIME2(0) = '2016-08-21 23:00:00';\n",
    "\n",
    "SELECT\n",
    "\t-- Fill in 7 hours back and a -07:00 offset\n",
    "\tTODATETIMEOFFSET(DATEADD(HOUR, -7, @OlympicsClosingUTC), '-07:00') AS PhoenixTime,\n",
    "\t-- Fill in 12 hours forward and a +12:00 offset.  \n",
    "\tTODATETIMEOFFSET(DATEADD(HOUR, 12, @OlympicsClosingUTC), '+12:00') AS TuvaluTime;"
   ]
  },
  {
   "cell_type": "markdown",
   "metadata": {},
   "source": [
    "Handling invalid dates"
   ]
  },
  {
   "cell_type": "code",
   "execution_count": null,
   "metadata": {
    "vscode": {
     "languageId": "sql"
    }
   },
   "outputs": [],
   "source": [
    "-- Latihan 1\n",
    "DECLARE\n",
    "\t@GoodDateINTL NVARCHAR(30) = '2019-03-01 18:23:27.920',\n",
    "\t@GoodDateDE NVARCHAR(30) = '13.4.2019',\n",
    "\t@GoodDateUS NVARCHAR(30) = '4/13/2019',\n",
    "\t@BadDate NVARCHAR(30) = N'SOME BAD DATE';\n",
    "\n",
    "SELECT\n",
    "\t-- Fill in the correct data type based on our input\n",
    "\tTRY_CONVERT(DATETIME2(3), @GoodDateINTL) AS GoodDateINTL,\n",
    "\t-- Fill in the correct function\n",
    "\tTRY_CONVERT(DATE, @GoodDateDE) AS GoodDateDE,\n",
    "\tTRY_CONVERT(DATE, @GoodDateUS) AS GoodDateUS,\n",
    "\t-- Fill in the correct input parameter for BadDate\n",
    "\tTRY_CONVERT(DATETIME2(3), @BadDate) AS BadDate;\n"
   ]
  },
  {
   "cell_type": "code",
   "execution_count": null,
   "metadata": {
    "vscode": {
     "languageId": "sql"
    }
   },
   "outputs": [],
   "source": [
    "DECLARE\n",
    "\t@GoodDateINTL NVARCHAR(30) = '2019-03-01 18:23:27.920',\n",
    "\t@GoodDateDE NVARCHAR(30) = '13.4.2019',\n",
    "\t@GoodDateUS NVARCHAR(30) = '4/13/2019',\n",
    "\t@BadDate NVARCHAR(30) = N'SOME BAD DATE';\n",
    "\n",
    "-- The prior solution using TRY_CONVERT\n",
    "SELECT\n",
    "\tTRY_CONVERT(DATETIME2(3), @GoodDateINTL) AS GoodDateINTL,\n",
    "\tTRY_CONVERT(DATE, @GoodDateDE) AS GoodDateDE,\n",
    "\tTRY_CONVERT(DATE, @GoodDateUS) AS GoodDateUS,\n",
    "\tTRY_CONVERT(DATETIME2(3), @BadDate) AS BadDate;\n",
    "\n",
    "SELECT\n",
    "\t-- Fill in the correct data type based on our input\n",
    "\tTRY_CAST(@GoodDateINTL AS DATETIME2(3)) AS GoodDateINTL,\n",
    "    -- Be sure to match these data types with the\n",
    "    -- TRY_CONVERT() examples above!\n",
    "\tTRY_CAST(@GoodDateDE AS DATE) AS GoodDateDE,\n",
    "\tTRY_CAST(@GoodDateUS AS DATE) AS GoodDateUS,\n",
    "\tTRY_CAST(@BadDate AS DATETIME2(3)) AS BadDate;"
   ]
  },
  {
   "cell_type": "code",
   "execution_count": null,
   "metadata": {
    "vscode": {
     "languageId": "sql"
    }
   },
   "outputs": [],
   "source": [
    "DECLARE\n",
    "\t@GoodDateINTL NVARCHAR(30) = '2019-03-01 18:23:27.920',\n",
    "\t@GoodDateDE NVARCHAR(30) = '13.4.2019',\n",
    "\t@GoodDateUS NVARCHAR(30) = '4/13/2019',\n",
    "\t@BadDate NVARCHAR(30) = N'SOME BAD DATE';\n",
    "\n",
    "-- The prior solution using TRY_CAST\n",
    "SELECT\n",
    "\tTRY_CAST(@GoodDateINTL AS DATETIME2(3)) AS GoodDateINTL,\n",
    "\tTRY_CAST(@GoodDateDE AS DATE) AS GoodDateDE,\n",
    "\tTRY_CAST(@GoodDateUS AS DATE) AS GoodDateUS,\n",
    "\tTRY_CAST(@BadDate AS DATETIME2(3)) AS BadDate;\n",
    "\n",
    "SELECT\n",
    "\tTRY_PARSE(@GoodDateINTL AS DATETIME2(3)) AS GoodDateINTL,\n",
    "    -- Fill in the correct region based on our input\n",
    "    -- Be sure to match these data types with the\n",
    "    -- TRY_CAST() examples above!\n",
    "\tTRY_PARSE(@GoodDateDE AS DATE USING 'de-de') AS GoodDateDE,\n",
    "\tTRY_PARSE(@GoodDateUS AS DATE USING 'en-us') AS GoodDateUS,\n",
    "    -- TRY_PARSE can't fix completely invalid dates\n",
    "\tTRY_PARSE(@BadDate AS DATETIME2(3) USING 'sk-sk') AS BadDate;"
   ]
  },
  {
   "cell_type": "code",
   "execution_count": null,
   "metadata": {
    "vscode": {
     "languageId": "sql"
    }
   },
   "outputs": [],
   "source": [
    "-- Latihan 2\n",
    "WITH EventDates AS\n",
    "(\n",
    "    SELECT\n",
    "        -- Fill in the missing try-conversion function\n",
    "        TRY_CONVERT(DATETIME2(3), it.EventDate) AT TIME ZONE it.TimeZone AS EventDateOffset,\n",
    "        it.TimeZone\n",
    "    FROM dbo.ImportedTime it\n",
    "        INNER JOIN sys.time_zone_info tzi\n",
    "\t\t\tON it.TimeZone = tzi.name\n",
    ")\n",
    "SELECT\n",
    "    -- Fill in the approppriate event date to convert\n",
    "\tCONVERT(NVARCHAR(50), ed.EventDateOffset) AS EventDateOffsetString,\n",
    "\tCONVERT(DATETIME2(0), ed.EventDateOffset) AS EventDateLocal,\n",
    "\ted.TimeZone,\n",
    "    -- Convert from a DATETIMEOFFSET to DATETIME at UTC\n",
    "\tCAST(ed.EventDateOffset AT TIME ZONE 'UTC' AS DATETIME2(0)) AS EventDateUTC,\n",
    "    -- Convert from a DATETIMEOFFSET to DATETIME with time zone\n",
    "\tCAST(ed.EventDateOffset AT TIME ZONE 'US Eastern Standard Time'  AS DATETIME2(0)) AS EventDateUSEast\n",
    "FROM EventDates ed;"
   ]
  },
  {
   "cell_type": "code",
   "execution_count": null,
   "metadata": {
    "vscode": {
     "languageId": "sql"
    }
   },
   "outputs": [],
   "source": [
    "-- Latihan 3\n",
    "-- Try out how fast the TRY_CAST() function is\n",
    "-- by try-casting each DateText value to DATE\n",
    "DECLARE @StartTimeCast DATETIME2(7) = SYSUTCDATETIME();\n",
    "SELECT TRY_CAST(DateText AS DATE) AS TestDate FROM #DateText;\n",
    "DECLARE @EndTimeCast DATETIME2(7) = SYSUTCDATETIME();\n",
    "\n",
    "-- Determine how much time the conversion took by\n",
    "-- calculating the date difference from @StartTimeCast to @EndTimeCast\n",
    "SELECT\n",
    "    DATEDIFF(MILLISECOND, @StartTimeCast, @EndTimeCast) AS ExecutionTimeCast;"
   ]
  },
  {
   "cell_type": "code",
   "execution_count": null,
   "metadata": {
    "vscode": {
     "languageId": "sql"
    }
   },
   "outputs": [],
   "source": [
    "-- Try out how fast the TRY_CONVERT() function is\n",
    "-- by try-converting each DateText value to DATE\n",
    "DECLARE @StartTimeConvert DATETIME2(7) = SYSUTCDATETIME();\n",
    "SELECT TRY_CONVERT(DATE,DateText) AS TestDate FROM #DateText;\n",
    "DECLARE @EndTimeConvert DATETIME2(7) = SYSUTCDATETIME();\n",
    "\n",
    "-- Determine how much time the conversion took by\n",
    "-- calculating the difference from start time to end time\n",
    "SELECT\n",
    "    DATEDIFF(MILLISECOND, @StartTimeConvert, @EndTimeConvert) AS ExecutionTimeConvert;"
   ]
  },
  {
   "cell_type": "code",
   "execution_count": null,
   "metadata": {
    "vscode": {
     "languageId": "sql"
    }
   },
   "outputs": [],
   "source": [
    "-- Try out how fast the TRY_PARSE() function is\n",
    "-- by try-parsing each DateText value to DATE\n",
    "DECLARE @StartTimeParse DATETIME2(7) = SYSUTCDATETIME();\n",
    "SELECT TRY_PARSE(DateText AS DATE) AS TestDate FROM #DateText;\n",
    "DECLARE @EndTimeParse DATETIME2(7) = SYSUTCDATETIME();\n",
    "\n",
    "-- Determine how much time the conversion took by\n",
    "-- calculating the difference from start time to end time\n",
    "SELECT\n",
    "    DATEDIFF(MILLISECOND, @StartTimeParse, @EndTimeParse) AS ExecutionTimeParse;"
   ]
  }
 ],
 "metadata": {
  "language_info": {
   "name": "python"
  },
  "orig_nbformat": 4
 },
 "nbformat": 4,
 "nbformat_minor": 2
}
