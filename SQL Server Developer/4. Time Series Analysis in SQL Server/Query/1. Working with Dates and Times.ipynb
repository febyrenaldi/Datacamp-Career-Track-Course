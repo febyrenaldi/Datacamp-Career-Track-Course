{
 "cells": [
  {
   "cell_type": "markdown",
   "metadata": {},
   "source": [
    "Building dates"
   ]
  },
  {
   "cell_type": "code",
   "execution_count": null,
   "metadata": {
    "vscode": {
     "languageId": "sql"
    }
   },
   "outputs": [],
   "source": [
    "DECLARE\n",
    "\t@SomeTime DATETIME2(7) = SYSUTCDATETIME();\n",
    "\n",
    "-- Retrieve the year, month, and day\n",
    "SELECT\n",
    "\tYEAR(@SomeTime) AS TheYear,\n",
    "\tMONTH(@SomeTime) AS TheMonth,\n",
    "\tDAY(@SomeTime) AS TheDay;"
   ]
  },
  {
   "cell_type": "code",
   "execution_count": null,
   "metadata": {
    "vscode": {
     "languageId": "sql"
    }
   },
   "outputs": [],
   "source": [
    "-- Latihan 2\n",
    "DECLARE\n",
    "\t@BerlinWallFalls DATETIME2(7) = '1989-11-09 23:49:36.2294852';\n",
    "\n",
    "-- Fill in each date part\n",
    "SELECT\n",
    "\tDATEPART(YEAR, @BerlinWallFalls) AS TheYear,\n",
    "\tDATEPART(MONTH, @BerlinWallFalls) AS TheMonth,\n",
    "\tDATEPART(DAY, @BerlinWallFalls) AS TheDay,\n",
    "\tDATEPART(DAYOFYEAR, @BerlinWallFalls) AS TheDayOfYear,\n",
    "    -- Day of week is WEEKDAY\n",
    "\tDATEPART(WEEKDAY, @BerlinWallFalls) AS TheDayOfWeek,\n",
    "\tDATEPART(WEEK, @BerlinWallFalls) AS TheWeek,\n",
    "\tDATEPART(SECOND, @BerlinWallFalls) AS TheSecond,\n",
    "\tDATEPART(NANOSECOND, @BerlinWallFalls) AS TheNanosecond;"
   ]
  },
  {
   "cell_type": "code",
   "execution_count": null,
   "metadata": {
    "vscode": {
     "languageId": "sql"
    }
   },
   "outputs": [],
   "source": [
    "DECLARE\n",
    "\t@BerlinWallFalls DATETIME2(7) = '1989-11-09 23:49:36.2294852';\n",
    "\n",
    "-- Fill in the function to show the name of each date part\n",
    "SELECT\n",
    "\tDATENAME(YEAR, @BerlinWallFalls) AS TheYear,\n",
    "\tDATENAME(MONTH, @BerlinWallFalls) AS TheMonth,\n",
    "\tDATENAME(DAY, @BerlinWallFalls) AS TheDay,\n",
    "\tDATENAME(DAYOFYEAR, @BerlinWallFalls) AS TheDayOfYear,\n",
    "    -- Day of week is WEEKDAY\n",
    "\tDATENAME(WEEKDAY, @BerlinWallFalls) AS TheDayOfWeek,\n",
    "\tDATENAME(WEEK, @BerlinWallFalls) AS TheWeek,\n",
    "\tDATENAME(SECOND, @BerlinWallFalls) AS TheSecond,\n",
    "\tDATENAME(NANOSECOND, @BerlinWallFalls) AS TheNanosecond;"
   ]
  },
  {
   "cell_type": "code",
   "execution_count": null,
   "metadata": {
    "vscode": {
     "languageId": "sql"
    }
   },
   "outputs": [],
   "source": [
    "-- Latihan 3\n",
    "DECLARE\n",
    "\t@LeapDay DATETIME2(7) = '2012-02-29 18:00:00';\n",
    "\n",
    "-- Fill in the date parts and intervals as needed\n",
    "SELECT\n",
    "\tDATEADD(DAY, -1, @LeapDay) AS PriorDay,\n",
    "\tDATEADD(DAY, 1, @LeapDay) AS NextDay,\n",
    "    -- For leap years, we need to move 4 years, not just 1\n",
    "\tDATEADD(YEAR, -4, @LeapDay) AS PriorLeapYear,\n",
    "\tDATEADD(YEAR, 4, @LeapDay) AS NextLeapYear,\n",
    "\tDATEADD(YEAR, -1, @LeapDay) AS PriorYear;"
   ]
  },
  {
   "cell_type": "code",
   "execution_count": null,
   "metadata": {
    "vscode": {
     "languageId": "sql"
    }
   },
   "outputs": [],
   "source": [
    "DECLARE\n",
    "\t@PostLeapDay DATETIME2(7) = '2012-03-01 18:00:00';\n",
    "\n",
    "-- Fill in the date parts and intervals as needed\n",
    "SELECT\n",
    "\tDATEADD(DAY, -1, @PostLeapDay) AS PriorDay,\n",
    "\tDATEADD(DAY, 1, @PostLeapDay) AS NextDay,\n",
    "\tDATEADD(YEAR, -4, @PostLeapDay) AS PriorLeapYear,\n",
    "\tDATEADD(YEAR, 4, @PostLeapDay) AS NextLeapYear,\n",
    "\tDATEADD(YEAR, -1, @PostLeapDay) AS PriorYear,\n",
    "    -- Move 4 years forward and one day back\n",
    "\tDATEADD(DAY, -1, DATEADD(YEAR, 4, @PostLeapDay)) AS NextLeapDay,\n",
    "    DATEADD(DAY, -2, @PostLeapDay) AS TwoDaysAgo;"
   ]
  },
  {
   "cell_type": "code",
   "execution_count": null,
   "metadata": {
    "vscode": {
     "languageId": "sql"
    }
   },
   "outputs": [],
   "source": [
    "DECLARE\n",
    "\t@PostLeapDay DATETIME2(7) = '2012-03-01 18:00:00',\n",
    "    @TwoDaysAgo DATETIME2(7);\n",
    "\n",
    "SELECT\n",
    "\t@TwoDaysAgo = DATEADD(DAY, -2, @PostLeapDay);\n",
    "\n",
    "SELECT\n",
    "\t@TwoDaysAgo AS TwoDaysAgo,\n",
    "\t@PostLeapDay AS SomeTime,\n",
    "    -- Fill in the appropriate function and date types\n",
    "\tDATEDIFF(DAY, @TwoDaysAgo, @PostLeapDay) AS DaysDifference,\n",
    "\tDATEDIFF(HOUR, @TwoDaysAgo, @PostLeapDay) AS HoursDifference,\n",
    "\tDATEDIFF(MINUTE, @TwoDaysAgo, @PostLeapDay) AS MinutesDifference;"
   ]
  },
  {
   "cell_type": "code",
   "execution_count": null,
   "metadata": {
    "vscode": {
     "languageId": "sql"
    }
   },
   "outputs": [],
   "source": [
    "-- Latihan 3\n",
    "DECLARE\n",
    "\t@SomeTime DATETIME2(7) = '2018-06-14 16:29:36.2248991';\n",
    "\n",
    "-- Fill in the appropriate functions and date parts\n",
    "SELECT\n",
    "\tDATEADD(DAY, DATEDIFF(DAY, 0, @SomeTime), 0) AS RoundedToDay,\n",
    "\tDATEADD(HOUR, DATEDIFF(HOUR, 0, @SomeTime), 0) AS RoundedToHour,\n",
    "\tDATEADD(MINUTE, DATEDIFF(MINUTE, 0, @SomeTime), 0) AS RoundedToMinute;"
   ]
  },
  {
   "cell_type": "markdown",
   "metadata": {},
   "source": [
    "Formatting dates for reporting"
   ]
  },
  {
   "cell_type": "code",
   "execution_count": null,
   "metadata": {
    "vscode": {
     "languageId": "sql"
    }
   },
   "outputs": [],
   "source": [
    "-- Latihan 1\n",
    "DECLARE\n",
    "\t@CubsWinWorldSeries DATETIME2(3) = '2016-11-03 00:30:29.245',\n",
    "\t@OlderDateType DATETIME = '2016-11-03 00:30:29.245';\n",
    "\n",
    "SELECT\n",
    "\t-- Fill in the missing function calls\n",
    "\tCAST(@CubsWinWorldSeries AS DATE) AS CubsWinDateForm,\n",
    "\tCAST(@CubsWinWorldSeries AS NVARCHAR(30)) AS CubsWinStringForm,\n",
    "\tCAST(@OlderDateType AS DATE) AS OlderDateForm,\n",
    "\tCAST(@OlderDateType AS NVARCHAR(30)) AS OlderStringForm;"
   ]
  },
  {
   "cell_type": "code",
   "execution_count": null,
   "metadata": {
    "vscode": {
     "languageId": "sql"
    }
   },
   "outputs": [],
   "source": [
    "DECLARE\n",
    "\t@CubsWinWorldSeries DATETIME2(3) = '2016-11-03 00:30:29.245';\n",
    "\n",
    "SELECT\n",
    "\tCAST(CAST(@CubsWinWorldSeries AS DATE) AS NVARCHAR(30)) AS DateStringForm;"
   ]
  },
  {
   "cell_type": "code",
   "execution_count": null,
   "metadata": {
    "vscode": {
     "languageId": "sql"
    }
   },
   "outputs": [],
   "source": [
    "DECLARE\n",
    "\t@CubsWinWorldSeries DATETIME2(3) = '2016-11-03 00:30:29.245';\n",
    "\n",
    "SELECT\n",
    "\tCONVERT(DATE, @CubsWinWorldSeries) AS CubsWinDateForm,\n",
    "\tCONVERT(NVARCHAR(30), @Cubs"
   ]
  },
  {
   "cell_type": "code",
   "execution_count": null,
   "metadata": {
    "vscode": {
     "languageId": "sql"
    }
   },
   "outputs": [],
   "source": [
    "DECLARE\n",
    "\t@CubsWinWorldSeries DATETIME2(3) = '2016-11-03 00:30:29.245';\n",
    "\n",
    "SELECT\n",
    "\tCONVERT(NVARCHAR(30), @CubsWinWorldSeries, 0) AS DefaultForm,\n",
    "\tCONVERT(NVARCHAR(30), @CubsWinWorldSeries, 3) AS UK_dmy,\n",
    "\tCONVERT(NVARCHAR(30), @CubsWinWorldSeries, 1) AS US_mdy,\n",
    "\tCONVERT(NVARCHAR(30), @CubsWinWorldSeries, 103) AS UK_dmyyyy,\n",
    "\tCONVERT(NVARCHAR(30), @CubsWinWorldSeries, 101) AS US_mdyyyy;"
   ]
  },
  {
   "cell_type": "code",
   "execution_count": null,
   "metadata": {
    "vscode": {
     "languageId": "sql"
    }
   },
   "outputs": [],
   "source": [
    "-- Latihan 2\n",
    "DECLARE\n",
    "\t@Python3ReleaseDate DATETIME2(3) = '2008-12-03 19:45:00.033';\n",
    "\n",
    "SELECT\n",
    "\t-- Fill in the function call and format parameter\n",
    "\tFORMAT(@Python3ReleaseDate, 'd', 'en-US') AS US_d,\n",
    "\tFORMAT(@Python3ReleaseDate, 'd', 'de-DE') AS DE_d,\n",
    "\t-- Fill in the locale for Japan\n",
    "\tFORMAT(@Python3ReleaseDate, 'd', 'jp-JP') AS JP_d,\n",
    "\tFORMAT(@Python3ReleaseDate, 'd', 'zh-cn') AS CN_d;"
   ]
  },
  {
   "cell_type": "code",
   "execution_count": null,
   "metadata": {
    "vscode": {
     "languageId": "sql"
    }
   },
   "outputs": [],
   "source": [
    "DECLARE\n",
    "\t@Python3ReleaseDate DATETIME2(3) = '2008-12-03 19:45:00.033';\n",
    "\n",
    "SELECT\n",
    "\t-- Fill in the format parameter\n",
    "\tFORMAT(@Python3ReleaseDate, 'D', 'en-US') AS US_D,\n",
    "\tFORMAT(@Python3ReleaseDate, 'D', 'de-DE') AS DE_D,\n",
    "\t-- Fill in the locale for Indonesia\n",
    "\tFORMAT(@Python3ReleaseDate, 'D', 'id-ID') AS ID_D,\n",
    "\tFORMAT(@Python3ReleaseDate, 'D', 'zh-cn') AS CN_D;"
   ]
  },
  {
   "cell_type": "code",
   "execution_count": null,
   "metadata": {
    "vscode": {
     "languageId": "sql"
    }
   },
   "outputs": [],
   "source": [
    "DECLARE\n",
    "\t@Python3ReleaseDate DATETIME2(3) = '2008-12-03 19:45:00.033';\n",
    "    \n",
    "SELECT\n",
    "\t-- 20081203\n",
    "\tFORMAT(@Python3ReleaseDate, 'yyyyMMdd') AS F1,\n",
    "\t-- 2008-12-03\n",
    "\tFORMAT(@Python3ReleaseDate, 'yyyy-MM-dd') AS F2,\n",
    "\t-- Dec 03+2008 (the + is just a \"+\" character)\n",
    "\tFORMAT(@Python3ReleaseDate, 'MMM dd+yyyy') AS F3,\n",
    "\t-- 12 08 03 (month, two-digit year, day)\n",
    "\tFORMAT(@Python3ReleaseDate, 'MM yy dd') AS F4,\n",
    "\t-- 03 Dec 07:45 2008.00\n",
    "    -- (day, hour, minute, year, \".\", second)\n",
    "\tFORMAT(@Python3ReleaseDate, 'dd hh:mm yyyy.ss') AS F5;"
   ]
  },
  {
   "cell_type": "markdown",
   "metadata": {},
   "source": [
    "Working with calendar tables"
   ]
  },
  {
   "cell_type": "code",
   "execution_count": null,
   "metadata": {
    "vscode": {
     "languageId": "sql"
    }
   },
   "outputs": [],
   "source": [
    "-- Latihan 1\n",
    "-- Find Tuesdays in December for calendar years 2008-2010\n",
    "SELECT\n",
    "\tc.Date\n",
    "FROM dbo.Calendar c\n",
    "WHERE\n",
    "\tc.MonthName = 'December'\n",
    "\tAND c.DayName = 'Tuesday'\n",
    "\tAND c.CalendarYear BETWEEN 2008 AND 2010\n",
    "ORDER BY\n",
    "\tc.Date;"
   ]
  },
  {
   "cell_type": "code",
   "execution_count": null,
   "metadata": {
    "vscode": {
     "languageId": "sql"
    }
   },
   "outputs": [],
   "source": [
    "-- Find fiscal week 29 of fiscal year 2019\n",
    "SELECT\n",
    "\tc.Date\n",
    "FROM dbo.Calendar c\n",
    "WHERE\n",
    "    -- Instead of month, use the fiscal week\n",
    "\tc.FiscalWeekOfYear = 29\n",
    "    -- Instead of calendar year, use fiscal year\n",
    "\tAND c.FiscalYear = 2019\n",
    "ORDER BY\n",
    "\tc.Date ASC;"
   ]
  },
  {
   "cell_type": "code",
   "execution_count": null,
   "metadata": {
    "vscode": {
     "languageId": "sql"
    }
   },
   "outputs": [],
   "source": [
    "-- Latihan 2\n",
    "SELECT\n",
    "\tir.IncidentDate,\n",
    "\tc.FiscalDayOfYear,\n",
    "\tc.FiscalWeekOfYear\n",
    "FROM dbo.IncidentRollup ir\n",
    "\tINNER JOIN dbo.Calendar c\n",
    "\t\tON ir.IncidentDate = c.Date\n",
    "WHERE\n",
    "    -- Incident type 3\n",
    "\tir.IncidentTypeID = 3\n",
    "    -- Fiscal year 2019\n",
    "\tAND c.FiscalYear = 2019\n",
    "    -- Fiscal quarter 3\n",
    "\tAND c.FiscalQuarter = 3;"
   ]
  },
  {
   "cell_type": "code",
   "execution_count": null,
   "metadata": {
    "vscode": {
     "languageId": "sql"
    }
   },
   "outputs": [],
   "source": [
    "SELECT\n",
    "\tir.IncidentDate,\n",
    "\tc.FiscalDayOfYear,\n",
    "\tc.FiscalWeekOfYear\n",
    "FROM dbo.IncidentRollup ir\n",
    "\tINNER JOIN dbo.Calendar c\n",
    "\t\tON ir.IncidentDate = c.Date\n",
    "WHERE\n",
    "    -- Incident type 4\n",
    "\tir.IncidentTypeID = 4\n",
    "    -- Fiscal year 2019\n",
    "\tAND c.FiscalYear = 2019\n",
    "    -- Beyond fiscal week of year 30\n",
    "\tAND c.FiscalWeekOfYear > 30\n",
    "    -- Only return weekends\n",
    "\tAND c.IsWeekend= 1;"
   ]
  }
 ],
 "metadata": {
  "language_info": {
   "name": "python"
  },
  "orig_nbformat": 4
 },
 "nbformat": 4,
 "nbformat_minor": 2
}
