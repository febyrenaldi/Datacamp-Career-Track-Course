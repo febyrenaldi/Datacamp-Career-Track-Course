{
  "cells": [
    {
      "cell_type": "markdown",
      "metadata": {},
      "source": [
        "Model 1:N relationships with foreign keys"
      ]
    },
    {
      "cell_type": "code",
      "execution_count": null,
      "metadata": {},
      "outputs": [],
      "source": [
        "-- Latihan 1\n",
        "-- Rename the university_shortname column\n",
        "ALTER TABLE professors\n",
        "RENAME COLUMN university_shortname TO university_id;"
      ]
    },
    {
      "cell_type": "code",
      "execution_count": null,
      "metadata": {},
      "outputs": [],
      "source": [
        "-- Rename the university_shortname column\n",
        "ALTER TABLE professors\n",
        "RENAME COLUMN university_shortname TO university_id;\n",
        "\n",
        "-- Add a foreign key on professors referencing universities\n",
        "ALTER TABLE professors\n",
        "ADD CONSTRAINT professors_fkey FOREIGN KEY (university_id) REFERENCES universities (id);"
      ]
    },
    {
      "cell_type": "code",
      "execution_count": null,
      "metadata": {},
      "outputs": [],
      "source": [
        "-- Latihan 2\n",
        "-- Try to insert a new professor\n",
        "INSERT INTO professors (firstname, lastname, university_id)\n",
        "VALUES ('Albert', 'Einstein', 'UZH');"
      ]
    },
    {
      "cell_type": "code",
      "execution_count": null,
      "metadata": {},
      "outputs": [],
      "source": [
        "-- Latihan 3\n",
        "-- Select all professors working for universities in the city of Zurich\n",
        "SELECT professors.lastname, universities.id, universities.university_city\n",
        "FROM professors\n",
        "JOIN universities\n",
        "ON professors.university_id = universities.id\n",
        "WHERE universities.university_city = 'Zurich';"
      ]
    },
    {
      "cell_type": "markdown",
      "metadata": {},
      "source": [
        "Model more complex relationships"
      ]
    },
    {
      "cell_type": "code",
      "execution_count": null,
      "metadata": {},
      "outputs": [],
      "source": [
        "-- Latihan 1\n",
        "-- Add a professor_id column\n",
        "ALTER TABLE affiliations\n",
        "ADD COLUMN professor_id integer REFERENCES professors (id);"
      ]
    },
    {
      "cell_type": "code",
      "execution_count": null,
      "metadata": {},
      "outputs": [],
      "source": [
        "-- Add a professor_id column\n",
        "ALTER TABLE affiliations\n",
        "ADD COLUMN professor_id integer REFERENCES professors (id);\n",
        "\n",
        "-- Rename the organization column to organization_id\n",
        "ALTER TABLE affiliations\n",
        "RENAME organization TO organization_id;"
      ]
    },
    {
      "cell_type": "code",
      "execution_count": null,
      "metadata": {},
      "outputs": [],
      "source": [
        "-- Add a professor_id column\n",
        "ALTER TABLE affiliations\n",
        "ADD COLUMN professor_id integer REFERENCES professors (id);\n",
        " \n",
        "-- Rename the organization column to organization_id\n",
        "ALTER TABLE affiliations\n",
        "RENAME organization TO organization_id;\n",
        "\n",
        "-- Add a foreign key on organization_id\n",
        "ALTER TABLE affiliations\n",
        "ADD CONSTRAINT affiliations_organization_fkey FOREIGN KEY (organization_id) REFERENCES organizations (id);"
      ]
    },
    {
      "cell_type": "code",
      "execution_count": null,
      "metadata": {},
      "outputs": [],
      "source": [
        "-- Latihan 2\n",
        "-- Have a look at the 10 first rows of affiliations\n",
        "SELECT *\n",
        "FROM affiliations\n",
        "LIMIT 10;"
      ]
    },
    {
      "cell_type": "code",
      "execution_count": null,
      "metadata": {},
      "outputs": [],
      "source": [
        "-- Update professor_id to professors.id where firstname, lastname correspond to rows in professors\n",
        "UPDATE affiliations\n",
        "SET professor_id = professors.id\n",
        "FROM professors\n",
        "WHERE affiliations.firstname = professors.firstname AND affiliations.lastname = professors.lastname;"
      ]
    },
    {
      "cell_type": "code",
      "execution_count": null,
      "metadata": {},
      "outputs": [],
      "source": [
        "-- Update professor_id to professors.id where firstname, lastname correspond to rows in professors\n",
        "UPDATE affiliations\n",
        "SET professor_id = professors.id\n",
        "FROM professors\n",
        "WHERE affiliations.firstname = professors.firstname AND affiliations.lastname = professors.lastname;\n",
        "-- Have a look at the 10 first rows of affiliations again\n",
        "SELECT *\n",
        "FROM affiliations\n",
        "LIMIT 10;"
      ]
    },
    {
      "cell_type": "code",
      "execution_count": null,
      "metadata": {},
      "outputs": [],
      "source": [
        "-- Latihan 3\n",
        "-- Drop the firstname column\n",
        "ALTER TABLE affiliations\n",
        "DROP COLUMN firstname;\n",
        " \n",
        "-- Drop the lastname column\n",
        "ALTER TABLE affiliations\n",
        "DROP COLUMN lastname;"
      ]
    },
    {
      "cell_type": "markdown",
      "metadata": {},
      "source": [
        "Referential integrity"
      ]
    },
    {
      "cell_type": "code",
      "execution_count": null,
      "metadata": {},
      "outputs": [],
      "source": [
        "-- LAtihan 1\n",
        "-- Identify the correct constraint name\n",
        "SELECT constraint_name, table_name, constraint_type\n",
        "FROM information_schema.table_constraints\n",
        "WHERE constraint_type = 'FOREIGN KEY';"
      ]
    },
    {
      "cell_type": "code",
      "execution_count": null,
      "metadata": {},
      "outputs": [],
      "source": [
        "-- Identify the correct constraint name\n",
        "SELECT constraint_name, table_name, constraint_type\n",
        "FROM information_schema.table_constraints\n",
        "WHERE constraint_type = 'FOREIGN KEY';\n",
        " \n",
        "-- Drop the right foreign key constraint\n",
        "ALTER TABLE affiliations\n",
        "DROP CONSTRAINT affiliations_organization_id_fkey;"
      ]
    },
    {
      "cell_type": "code",
      "execution_count": null,
      "metadata": {},
      "outputs": [],
      "source": [
        "-- Identify the correct constraint name\n",
        "SELECT constraint_name, table_name, constraint_type\n",
        "FROM information_schema.table_constraints\n",
        "WHERE constraint_type = 'FOREIGN KEY';\n",
        "\n",
        "-- Drop the right foreign key constraint\n",
        "ALTER TABLE affiliations\n",
        "DROP CONSTRAINT affiliations_organization_id_fkey;\n",
        "\n",
        "-- Add a new foreign key constraint from affiliations to organizations which cascades deletion\n",
        "ALTER TABLE affiliations\n",
        "ADD CONSTRAINT affiliations_organization_id_fkey FOREIGN KEY (organization_id) REFERENCES organizations (id) ON DELETE CASCADE;"
      ]
    },
    {
      "cell_type": "code",
      "execution_count": null,
      "metadata": {},
      "outputs": [],
      "source": [
        "-- Identify the correct constraint name\n",
        "SELECT constraint_name, table_name, constraint_type\n",
        "FROM information_schema.table_constraints\n",
        "WHERE constraint_type = 'FOREIGN KEY';\n",
        "\n",
        "-- Drop the right foreign key constraint\n",
        "ALTER TABLE affiliations\n",
        "DROP CONSTRAINT affiliations_organization_id_fkey;\n",
        "\n",
        "-- Add a new foreign key constraint from affiliations to organizations which cascades deletion\n",
        "ALTER TABLE affiliations\n",
        "ADD CONSTRAINT affiliations_organization_id_fkey FOREIGN KEY (organization_id) REFERENCES organizations (id) ON DELETE CASCADE;\n",
        "\n",
        "-- Delete an organization \n",
        "DELETE FROM organizations \n",
        "WHERE id = 'CUREM';\n",
        " \n",
        "-- Check that no more affiliations with this organization exist\n",
        "SELECT * FROM affiliations\n",
        "WHERE organization_id = 'CUREM';"
      ]
    },
    {
      "cell_type": "markdown",
      "metadata": {},
      "source": [
        "Roundup"
      ]
    },
    {
      "cell_type": "code",
      "execution_count": null,
      "metadata": {},
      "outputs": [],
      "source": [
        "-- Latihan 1\n",
        "-- Count the total number of affiliations per university\n",
        "SELECT COUNT(*), professors.university_id \n",
        "FROM affiliations\n",
        "JOIN professors\n",
        "ON affiliations.professor_id = professors.id\n",
        "-- Group by the university ids of professors\n",
        "GROUP BY professors.university_id \n",
        "ORDER BY count DESC;"
      ]
    },
    {
      "cell_type": "code",
      "execution_count": null,
      "metadata": {},
      "outputs": [],
      "source": [
        "-- Latihan 2\n",
        "-- Count the total number of affiliations per university\n",
        "SELECT COUNT(*), professors.university_id \n",
        "FROM affiliations\n",
        "JOIN professors\n",
        "ON affiliations.professor_id = professors.id\n",
        "-- Group by the university ids of professors\n",
        "GROUP BY professors.university_id \n",
        "ORDER BY count DESC;"
      ]
    },
    {
      "cell_type": "code",
      "execution_count": null,
      "metadata": {},
      "outputs": [],
      "source": [
        "-- Group the table by organization sector, professor ID and university city\n",
        "SELECT COUNT(*), organizations.organization_sector, \n",
        "professors.id, universities.university_city\n",
        "FROM affiliations\n",
        "JOIN professors\n",
        "ON affiliations.professor_id = professors.id\n",
        "JOIN organizations\n",
        "ON affiliations.organization_id = organizations.id\n",
        "JOIN universities\n",
        "ON professors.university_id = universities.id\n",
        "GROUP BY organizations.organization_sector, \n",
        "professors.id, universities.university_city;"
      ]
    },
    {
      "cell_type": "code",
      "execution_count": null,
      "metadata": {},
      "outputs": [],
      "source": [
        "SELECT COUNT(*), organizations.organization_sector, \n",
        "professors.id, universities.university_city\n",
        "FROM affiliations\n",
        "JOIN professors\n",
        "ON affiliations.professor_id = professors.id\n",
        "JOIN organizations\n",
        "ON affiliations.organization_id = organizations.id\n",
        "JOIN universities\n",
        "ON professors.university_id = universities.id\n",
        "WHERE organizations.organization_sector = 'Media & communication'\n",
        "GROUP BY organizations.organization_sector, \n",
        "professors.id, universities.university_city\n",
        "ORDER BY COUNT DESC;"
      ]
    }
  ],
  "metadata": {
    "kernelspec": {
      "display_name": "SQLite",
      "language": "sql",
      "name": "SQLite"
    },
    "language_info": {
      "file_extension": ".sqlite3-console",
      "mimetype": "text/x-sqlite3-console",
      "name": "sqlite3",
      "version": "0.4.0"
    }
  },
  "nbformat": 4,
  "nbformat_minor": 4
}
