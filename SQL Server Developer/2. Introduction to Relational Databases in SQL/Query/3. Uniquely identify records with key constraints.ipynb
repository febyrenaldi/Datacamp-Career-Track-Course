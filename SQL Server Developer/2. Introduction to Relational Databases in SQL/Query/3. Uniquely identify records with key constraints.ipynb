{
  "cells": [
    {
      "cell_type": "markdown",
      "metadata": {},
      "source": [
        "Keys and superkeys"
      ]
    },
    {
      "cell_type": "code",
      "execution_count": null,
      "metadata": {},
      "outputs": [],
      "source": [
        "-- Latihan 1\n",
        "-- Count the number of rows in universities\n",
        "SELECT COUNT(*) \n",
        "FROM universities;"
      ]
    },
    {
      "cell_type": "code",
      "execution_count": null,
      "metadata": {},
      "outputs": [],
      "source": [
        "-- Count the number of distinct values in the university_city column\n",
        "SELECT COUNT(DISTINCT(university_city)) \n",
        "FROM universities;"
      ]
    },
    {
      "cell_type": "code",
      "execution_count": null,
      "metadata": {},
      "outputs": [],
      "source": [
        "-- Latihan 2\n",
        "-- Try out different combinations\n",
        "SELECT COUNT(DISTINCT(firstname, lastname)) \n",
        "FROM professors;"
      ]
    },
    {
      "cell_type": "markdown",
      "metadata": {},
      "source": [
        "Primary keys"
      ]
    },
    {
      "cell_type": "code",
      "execution_count": null,
      "metadata": {},
      "outputs": [],
      "source": [
        "-- Latihan 1\n",
        "-- Rename the organization column to id\n",
        "ALTER TABLE organizations\n",
        "RENAME COLUMN organization TO id;\n",
        " \n",
        "-- Make id a primary key\n",
        "ALTER TABLE organizations\n",
        "ADD CONSTRAINT organization_pk PRIMARY KEY (id)"
      ]
    },
    {
      "cell_type": "code",
      "execution_count": null,
      "metadata": {},
      "outputs": [],
      "source": [
        "-- Rename the university_shortname column to id\n",
        "ALTER TABLE universities\n",
        "RENAME COLUMN university_shortname TO id;\n",
        " \n",
        "-- Make id a primary key\n",
        "ALTER TABLE universities\n",
        "ADD CONSTRAINT university_pk PRIMARY KEY (id);"
      ]
    },
    {
      "cell_type": "markdown",
      "metadata": {},
      "source": [
        "Surrogate keys"
      ]
    },
    {
      "cell_type": "code",
      "execution_count": null,
      "metadata": {},
      "outputs": [],
      "source": [
        "-- Latihan 1\n",
        "-- Add the new column to the table\n",
        "ALTER TABLE professors\n",
        "ADD COLUMN id serial PRIMARY KEY;"
      ]
    },
    {
      "cell_type": "code",
      "execution_count": null,
      "metadata": {},
      "outputs": [],
      "source": [
        "-- Add the new column to the table\n",
        "ALTER TABLE professors \n",
        "ADD COLUMN id serial;\n",
        "\n",
        "-- Make id a primary key\n",
        "ALTER TABLE professors \n",
        "ADD CONSTRAINT professors_pkey PRIMARY KEY (id);"
      ]
    },
    {
      "cell_type": "code",
      "execution_count": null,
      "metadata": {},
      "outputs": [],
      "source": [
        "-- Add the new column to the table\n",
        "ALTER TABLE professors \n",
        "ADD COLUMN id serial;\n",
        "\n",
        "-- Make id a primary key\n",
        "ALTER TABLE professors \n",
        "ADD CONSTRAINT professors_pkey PRIMARY KEY (id);\n",
        "\n",
        "-- Have a look at the first 10 rows of professors\n",
        "SELECT *\n",
        "FROM professors\n",
        "LIMIT 10;"
      ]
    },
    {
      "cell_type": "code",
      "execution_count": null,
      "metadata": {},
      "outputs": [],
      "source": [
        "-- Latihan 2\n",
        "-- Count the number of distinct rows with columns make, model\n",
        "SELECT COUNT(DISTINCT(make, model)) \n",
        "FROM cars;"
      ]
    },
    {
      "cell_type": "code",
      "execution_count": null,
      "metadata": {},
      "outputs": [],
      "source": [
        "-- Count the number of distinct rows with columns make, model\n",
        "SELECT COUNT(DISTINCT(make, model)) \n",
        "FROM cars;\n",
        "\n",
        "-- Add the id column\n",
        "ALTER TABLE cars\n",
        "ADD COLUMN id varchar(128);"
      ]
    },
    {
      "cell_type": "code",
      "execution_count": null,
      "metadata": {},
      "outputs": [],
      "source": [
        "-- Count the number of distinct rows with columns make, model\n",
        "SELECT COUNT(DISTINCT(make, model)) \n",
        "FROM cars;\n",
        "\n",
        "-- Add the id column\n",
        "ALTER TABLE cars\n",
        "ADD COLUMN id varchar(128);\n",
        "\n",
        "-- Update id with make + model\n",
        "UPDATE cars\n",
        "SET id = CONCAT(make, model);"
      ]
    },
    {
      "cell_type": "code",
      "execution_count": null,
      "metadata": {},
      "outputs": [],
      "source": [
        "-- Count the number of distinct rows with columns make, model\n",
        "SELECT COUNT(DISTINCT(make, model)) \n",
        "FROM cars;\n",
        "\n",
        "-- Add the id column\n",
        "ALTER TABLE cars\n",
        "ADD COLUMN id varchar(128);\n",
        "\n",
        "-- Update id with make + model\n",
        "UPDATE cars\n",
        "SET id = CONCAT(make, model);\n",
        "\n",
        "-- Make id a primary key\n",
        "ALTER TABLE cars\n",
        "ADD CONSTRAINT id_pk PRIMARY KEY(id);\n",
        " \n",
        "-- Have a look at the table\n",
        "SELECT * FROM cars;"
      ]
    },
    {
      "cell_type": "code",
      "execution_count": null,
      "metadata": {},
      "outputs": [],
      "source": [
        "-- Latihan 3\n",
        "-- Create the table\n",
        "CREATE TABLE students (\n",
        "  last_name varchar(128) NOT NULL,\n",
        "  ssn integer PRIMARY KEY,\n",
        "  phone_no char(12)\n",
        ");"
      ]
    }
  ],
  "metadata": {
    "kernelspec": {
      "display_name": "SQLite",
      "language": "sql",
      "name": "SQLite"
    },
    "language_info": {
      "file_extension": ".sqlite3-console",
      "mimetype": "text/x-sqlite3-console",
      "name": "sqlite3",
      "version": "0.4.0"
    }
  },
  "nbformat": 4,
  "nbformat_minor": 4
}
