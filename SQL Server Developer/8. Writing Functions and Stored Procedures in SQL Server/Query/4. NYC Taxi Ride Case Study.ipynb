{
 "cells": [
  {
   "cell_type": "markdown",
   "metadata": {},
   "source": [
    "Case study stored procedures"
   ]
  },
  {
   "cell_type": "code",
   "execution_count": null,
   "metadata": {
    "vscode": {
     "languageId": "sql"
    }
   },
   "outputs": [],
   "source": [
    "-- Latihan 1\n",
    "CREATE OR ALTER PROCEDURE dbo.cuspBoroughRideStats\n",
    "AS\n",
    "BEGIN\n",
    "SELECT\n",
    "    -- Calculate the pickup weekday\n",
    "\tDATENAME(weekday, PickupDate) AS 'Weekday',\n",
    "    -- Select the Borough\n",
    "\tZone.Borough AS 'PickupBorough',\n",
    "    -- Display AvgFarePerKM as German currency\n",
    "\tFORMAT(AVG(dbo.ConvertDollar(TotalAmount, .88)/dbo.ConvertMiletoKM(TripDistance)), 'c', 'de-de') AS 'AvgFarePerKM',\n",
    "    -- Display RideCount in the German format\n",
    "\tFORMAT(COUNT (ID), 'n', 'de-de') AS 'RideCount',\n",
    "    -- Display TotalRideMin in the German format\n",
    "\tFORMAT(SUM(DATEDIFF(SECOND, PickupDate, DropOffDate))/60, 'n', 'de-de') AS 'TotalRideMin'\n",
    "FROM YellowTripData\n",
    "INNER JOIN TaxiZoneLookup AS Zone \n",
    "ON PULocationID = Zone.LocationID\n",
    "-- Only include records where TripDistance is greater than 0\n",
    "WHERE TripDistance > 0\n",
    "-- Group by pickup weekday and Borough\n",
    "GROUP BY DATENAME(WEEKDAY, PickupDate), Zone.Borough\n",
    "ORDER BY CASE WHEN DATENAME(WEEKDAY, PickupDate) = 'Monday' THEN 1\n",
    "\t     \t  WHEN DATENAME(WEEKDAY, PickupDate) = 'Tuesday' THEN 2\n",
    "              WHEN DATENAME(WEEKDAY, PickupDate) = 'Wednesday' THEN 3\n",
    "              WHEN DATENAME(WEEKDAY, PickupDate) = 'Thursday' THEN 4\n",
    "              WHEN DATENAME(WEEKDAY, PickupDate) = 'Friday' THEN 5\n",
    "              WHEN DATENAME(WEEKDAY, PickupDate) = 'Saturday' THEN 6\n",
    "              WHEN DATENAME(WEEKDAY, PickupDate) = 'Sunday' THEN 7 END,  \n",
    "\t\t SUM(DATEDIFF(SECOND, PickupDate, DropOffDate))/60\n",
    "DESC\n",
    "END;"
   ]
  },
  {
   "cell_type": "code",
   "execution_count": null,
   "metadata": {
    "vscode": {
     "languageId": "sql"
    }
   },
   "outputs": [],
   "source": [
    "-- Latihan 2\n",
    "-- Create SPResults\n",
    "DECLARE @SPResults TABLE(\n",
    "  \t-- Create Weekday\n",
    "\tWeekday \t\tnvarchar(30),\n",
    "    -- Create Borough\n",
    "\tBorough \t\tnvarchar(30),\n",
    "    -- Create AvgFarePerKM\n",
    "\tAvgFarePerKM \tnvarchar(30),\n",
    "    -- Create RideCount\n",
    "\tRideCount\t\tnvarchar(30),\n",
    "    -- Create TotalRideMin\n",
    "\tTotalRideMin\tnvarchar(30))\n",
    "\n",
    "-- Insert the results into @SPResults\n",
    "INSERT INTO @SPResults\n",
    "-- Execute the SP\n",
    "EXEC dbo.cuspBoroughRideStats\n",
    "\n",
    "-- Select all the records from @SPresults \n",
    "SELECT * \n",
    "FROM @SPResults;"
   ]
  },
  {
   "cell_type": "code",
   "execution_count": null,
   "metadata": {
    "vscode": {
     "languageId": "sql"
    }
   },
   "outputs": [],
   "source": [
    "-- Latihan 3\n",
    "-- Create the stored procedure\n",
    "CREATE PROCEDURE dbo.cuspPickupZoneShiftStats\n",
    "\t-- Specify @Borough parameter\n",
    "\t@Borough nvarchar(30)\n",
    "AS\n",
    "BEGIN\n",
    "SELECT\n",
    "\tDATENAME(WEEKDAY, PickupDate) as 'Weekday',\n",
    "    -- Calculate the shift number\n",
    "\tdbo.GetShiftNumber(DATEPART(hour, PickupDate)) as 'Shift',\n",
    "\tZone.Zone as 'Zone',\n",
    "\tFORMAT(AVG(dbo.ConvertDollar(TotalAmount, .77)/dbo.ConvertMiletoKM(TripDistance)), 'c', 'de-de') AS 'AvgFarePerKM',\n",
    "\tFORMAT(COUNT (ID),'n', 'de-de') as 'RideCount',\n",
    "\tFORMAT(SUM(DATEDIFF(SECOND, PickupDate, DropOffDate))/60, 'n', 'de-de') as 'TotalRideMin'\n",
    "FROM YellowTripData\n",
    "INNER JOIN TaxiZoneLookup as Zone on PULocationID = Zone.LocationID \n",
    "WHERE\n",
    "\tdbo.ConvertMiletoKM(TripDistance) > 0 AND\n",
    "\tZone.Borough = @Borough\n",
    "GROUP BY\n",
    "\tDATENAME(WEEKDAY, PickupDate),\n",
    "    -- Group by shift\n",
    "\tdbo.GetShiftNumber(DATEPART(hour, PickupDate)),  \n",
    "\tZone.Zone\n",
    "ORDER BY CASE WHEN DATENAME(WEEKDAY, PickupDate) = 'Monday' THEN 1\n",
    "              WHEN DATENAME(WEEKDAY, PickupDate) = 'Tuesday' THEN 2\n",
    "              WHEN DATENAME(WEEKDAY, PickupDate) = 'Wednesday' THEN 3\n",
    "              WHEN DATENAME(WEEKDAY, PickupDate) = 'Thursday' THEN 4\n",
    "              WHEN DATENAME(WEEKDAY, PickupDate) = 'Friday' THEN 5\n",
    "              WHEN DATENAME(WEEKDAY, PickupDate) = 'Saturday' THEN 6\n",
    "              WHEN DATENAME(WEEKDAY, PickupDate) = 'Sunday' THEN 7 END,\n",
    "         -- Order by shift\n",
    "         dbo.GetShiftNumber(DATEPART(hour, PickupDate)),\n",
    "         SUM(DATEDIFF(SECOND, PickupDate, DropOffDate))/60 DESC\n",
    "END;"
   ]
  },
  {
   "cell_type": "code",
   "execution_count": null,
   "metadata": {
    "vscode": {
     "languageId": "sql"
    }
   },
   "outputs": [],
   "source": [
    "-- Latihan 4\n",
    "-- Create @Borough\n",
    "DECLARE @Borough as nvarchar(30) = 'Manhattan'\n",
    "-- Execute the SP\n",
    "EXEC dbo.cuspPickupZoneShiftStats\n",
    "    -- Pass @Borough\n",
    "\t@Borough = @Borough;"
   ]
  }
 ],
 "metadata": {
  "kernelspec": {
   "display_name": "Python 3.10.4 64-bit",
   "language": "python",
   "name": "python3"
  },
  "language_info": {
   "name": "python",
   "version": "3.10.4"
  },
  "orig_nbformat": 4,
  "vscode": {
   "interpreter": {
    "hash": "d3e10ef16274dd72e574b8fa73b58450b957d8421a2901baded3cca26fcf5dda"
   }
  }
 },
 "nbformat": 4,
 "nbformat_minor": 2
}
