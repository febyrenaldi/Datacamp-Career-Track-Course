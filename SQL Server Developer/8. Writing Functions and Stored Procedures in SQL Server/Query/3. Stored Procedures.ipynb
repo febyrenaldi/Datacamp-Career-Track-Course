{
 "cells": [
  {
   "cell_type": "markdown",
   "metadata": {},
   "source": [
    "Stored procedures"
   ]
  },
  {
   "cell_type": "code",
   "execution_count": null,
   "metadata": {
    "vscode": {
     "languageId": "sql"
    }
   },
   "outputs": [],
   "source": [
    "-- Latihan 1\n",
    "-- Create the stored procedure\n",
    "CREATE PROCEDURE dbo.cuspSumRideHrsSingleDay\n",
    "    -- Declare the input parameter\n",
    "\t@DateParm date,\n",
    "    -- Declare the output parameter\n",
    "\t@RideHrsOut numeric OUTPUT\n",
    "AS\n",
    "-- Don't send the row count \n",
    "SET NOCOUNT ON\n",
    "BEGIN\n",
    "-- Assign the query result to @RideHrsOut\n",
    "SELECT\n",
    "\t@RideHrsOut = SUM(DATEDIFF(second, StartDate, EndDate))/3600\n",
    "FROM CapitalBikeShare\n",
    "-- Cast StartDate as date and compare with @DateParm\n",
    "WHERE CAST(StartDate AS date) = @DateParm\n",
    "RETURN\n",
    "END"
   ]
  },
  {
   "cell_type": "markdown",
   "metadata": {},
   "source": [
    "Oh CRUD!"
   ]
  },
  {
   "cell_type": "code",
   "execution_count": null,
   "metadata": {
    "vscode": {
     "languageId": "sql"
    }
   },
   "outputs": [],
   "source": [
    "-- Latihan 1\n",
    "-- Create the stored procedure\n",
    "CREATE PROCEDURE dbo.cusp_RideSummaryCreate \n",
    "    (@DateParm date, @RideHrsParm numeric)\n",
    "AS\n",
    "BEGIN\n",
    "SET NOCOUNT ON\n",
    "-- Insert into the Date and RideHours columns\n",
    "INSERT INTO dbo.RideSummary(Date, RideHours)\n",
    "-- Use values of @DateParm and @RideHrsParm\n",
    "VALUES(@DateParm, @RideHrsParm) \n",
    "\n",
    "-- Select the record that was just inserted\n",
    "SELECT\n",
    "    -- Select Date column\n",
    "\tDate,\n",
    "    -- Select RideHours column\n",
    "    RideHours\n",
    "FROM dbo.RideSummary\n",
    "-- Check whether Date equals @DateParm\n",
    "WHERE Date = @DateParm\n",
    "END;"
   ]
  },
  {
   "cell_type": "code",
   "execution_count": null,
   "metadata": {
    "vscode": {
     "languageId": "sql"
    }
   },
   "outputs": [],
   "source": [
    "-- Latihan 2\n",
    "-- Create the stored procedure\n",
    "CREATE PROCEDURE dbo.cuspRideSummaryUpdate\n",
    "\t-- Specify @Date input parameter\n",
    "\t(@Date date,\n",
    "     -- Specify @RideHrs input parameter\n",
    "     @RideHrs numeric(18,0))\n",
    "AS\n",
    "BEGIN\n",
    "SET NOCOUNT ON\n",
    "-- Update RideSummary\n",
    "UPDATE RideSummary\n",
    "-- Set\n",
    "SET\n",
    "\tDate = @Date,\n",
    "    RideHours = @RideHrs\n",
    "-- Include records where Date equals @Date\n",
    "WHERE Date = @Date\n",
    "END;"
   ]
  },
  {
   "cell_type": "code",
   "execution_count": null,
   "metadata": {
    "vscode": {
     "languageId": "sql"
    }
   },
   "outputs": [],
   "source": [
    "-- Latihan 3\n",
    "-- Create the stored procedure\n",
    "CREATE PROCEDURE dbo.cuspRideSummaryDelete\n",
    "\t-- Specify @DateParm input parameter\n",
    "\t(@DateParm date,\n",
    "     -- Specify @RowCountOut output parameter\n",
    "     @RowCountOut int OUTPUT)\n",
    "AS\n",
    "BEGIN\n",
    "-- Delete record(s) where Date equals @DateParm\n",
    "DELETE FROM dbo.RideSummary\n",
    "WHERE Date = @DateParm\n",
    "-- Set @RowCountOut to @@ROWCOUNT\n",
    "SET @RowCountOut = @@ROWCOUNT\n",
    "END;"
   ]
  },
  {
   "cell_type": "markdown",
   "metadata": {},
   "source": [
    "Let's EXEC!"
   ]
  },
  {
   "cell_type": "code",
   "execution_count": null,
   "metadata": {
    "vscode": {
     "languageId": "sql"
    }
   },
   "outputs": [],
   "source": [
    "-- Latihan 1\n",
    "-- Create @RideHrs\n",
    "DECLARE @RideHrs AS numeric(18,0)\n",
    "-- Execute the stored procedure\n",
    "EXEC dbo.cuspSumRideHrsSingleDay\n",
    "    -- Pass the input parameter\n",
    "\t@DateParm = '3/1/2018',\n",
    "    -- Store the output in @RideHrs\n",
    "\t@RideHrsOut = @RideHrs OUTPUT\n",
    "-- Select @RideHrs\n",
    "SELECT @RideHrs AS RideHours"
   ]
  },
  {
   "cell_type": "code",
   "execution_count": null,
   "metadata": {
    "vscode": {
     "languageId": "sql"
    }
   },
   "outputs": [],
   "source": [
    "-- Latihan 2\n",
    "-- Create @ReturnStatus\n",
    "DECLARE @ReturnStatus AS int\n",
    "-- Execute the SP\n",
    "EXEC @ReturnStatus = dbo.cuspRideSummaryUpdate\n",
    "    -- Specify @DateParm\n",
    "\t@DateParm = '3/1/2018',\n",
    "    -- Specify @RideHrs\n",
    "\t@RideHrs = 300\n",
    "\n",
    "-- Select the columns of interest\n",
    "SELECT\n",
    "\t@ReturnStatus AS ReturnStatus,\n",
    "    Date,\n",
    "    RideHours\n",
    "FROM dbo.RideSummary \n",
    "WHERE Date = '3/1/2018';"
   ]
  },
  {
   "cell_type": "code",
   "execution_count": null,
   "metadata": {
    "vscode": {
     "languageId": "sql"
    }
   },
   "outputs": [],
   "source": [
    "-- Latihan 3\n",
    "-- Create @ReturnStatus\n",
    "DECLARE @ReturnStatus AS int\n",
    "-- Create @RowCount\n",
    "DECLARE @RowCount AS int\n",
    "\n",
    "-- Execute the SP, storing the result in @ReturnStatus\n",
    "EXEC @ReturnStatus = dbo.cuspRideSummaryDelete \n",
    "    -- Specify @DateParm\n",
    "\t@DateParm = '3/1/2018',\n",
    "    -- Specify RowCountOut\n",
    "\t@RowCountOut = @RowCount OUTPUT\n",
    "\n",
    "-- Select the columns of interest\n",
    "SELECT\n",
    "\t@ReturnStatus AS ReturnStatus,\n",
    "    @RowCount as 'RowCount';"
   ]
  },
  {
   "cell_type": "markdown",
   "metadata": {},
   "source": [
    "TRY & CATCH those errors!"
   ]
  },
  {
   "cell_type": "code",
   "execution_count": null,
   "metadata": {
    "vscode": {
     "languageId": "sql"
    }
   },
   "outputs": [],
   "source": [
    "-- Latihan 1\n",
    "-- Alter the stored procedure\n",
    "CREATE OR ALTER PROCEDURE dbo.cuspRideSummaryDelete\n",
    "\t-- Specify @DateParm\n",
    "\t@DateParm nvarchar(30),\n",
    "    -- Specify @Error\n",
    "\t@Error nvarchar(max) = NULL OUTPUT\n",
    "AS\n",
    "SET NOCOUNT ON\n",
    "BEGIN\n",
    "  -- Start of the TRY block\n",
    "  BEGIN TRY\n",
    "  \t  -- Delete\n",
    "      DELETE FROM RideSummary\n",
    "      WHERE Date = @DateParm\n",
    "  -- End of the TRY block\n",
    "  END TRY\n",
    "  -- Start of the CATCH block\n",
    "  BEGIN CATCH\n",
    "\t\tSET @Error = \n",
    "\t\t'Error_Number: '+ CAST(ERROR_NUMBER() AS VARCHAR) +\n",
    "\t\t'Error_Severity: '+ CAST(ERROR_SEVERITY() AS VARCHAR) +\n",
    "\t\t'Error_State: ' + CAST(ERROR_STATE() AS VARCHAR) + \n",
    "\t\t'Error_Message: ' + ERROR_MESSAGE() + \n",
    "\t\t'Error_Line: ' + CAST(ERROR_LINE() AS VARCHAR)\n",
    "  -- End of the CATCH block\n",
    "  END CATCH\n",
    "END;"
   ]
  },
  {
   "cell_type": "code",
   "execution_count": null,
   "metadata": {
    "vscode": {
     "languageId": "sql"
    }
   },
   "outputs": [],
   "source": [
    "-- Latihan 2\n",
    "-- Create @ReturnCode\n",
    "DECLARE @ReturnCode int\n",
    "-- Create @ErrorOut\n",
    "DECLARE @ErrorOut nvarchar(max)\n",
    "-- Execute the SP, storing the result in @ReturnCode\n",
    "EXECUTE @ReturnCode = dbo.cuspRideSummaryDelete\n",
    "    -- Specify @DateParm\n",
    "\t@DateParm = '1/32/2018',\n",
    "    -- Assign @ErrorOut to @Error\n",
    "\t@Error = @ErrorOut OUTPUT\n",
    "-- Select @ReturnCode and @ErrorOut\n",
    "SELECT\n",
    "\t@ReturnCode AS ReturnCode,\n",
    "    @ErrorOut AS ErrorMessage;"
   ]
  }
 ],
 "metadata": {
  "kernelspec": {
   "display_name": "Python 3.10.4 64-bit",
   "language": "python",
   "name": "python3"
  },
  "language_info": {
   "name": "python",
   "version": "3.10.4"
  },
  "orig_nbformat": 4,
  "vscode": {
   "interpreter": {
    "hash": "d3e10ef16274dd72e574b8fa73b58450b957d8421a2901baded3cca26fcf5dda"
   }
  }
 },
 "nbformat": 4,
 "nbformat_minor": 2
}
