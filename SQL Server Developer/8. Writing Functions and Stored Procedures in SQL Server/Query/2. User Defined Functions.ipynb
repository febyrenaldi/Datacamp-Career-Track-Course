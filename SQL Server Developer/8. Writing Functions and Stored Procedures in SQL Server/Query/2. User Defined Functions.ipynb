{
 "cells": [
  {
   "cell_type": "markdown",
   "metadata": {},
   "source": [
    "Scalar user defined functions"
   ]
  },
  {
   "cell_type": "code",
   "execution_count": null,
   "metadata": {
    "vscode": {
     "languageId": "sql"
    }
   },
   "outputs": [],
   "source": [
    "-- Latihan 1\n",
    "-- Create GetYesterday()\n",
    "CREATE FUNCTION GetYesterday()\n",
    "-- Specify return data type\n",
    "RETURNS date\n",
    "AS\n",
    "BEGIN\n",
    "-- Calculate yesterday's date value\n",
    "RETURN(SELECT DATEADD(day, -1, GETDATE()))\n",
    "END"
   ]
  },
  {
   "cell_type": "code",
   "execution_count": null,
   "metadata": {
    "vscode": {
     "languageId": "sql"
    }
   },
   "outputs": [],
   "source": [
    "-- Latihan 2\n",
    "-- Create SumRideHrsSingleDay\n",
    "CREATE FUNCTION SumRideHrsSingleDay (@DateParm date)\n",
    "-- Specify return data type\n",
    "RETURNS numeric\n",
    "AS\n",
    "-- Begin\n",
    "BEGIN\n",
    "RETURN\n",
    "-- Add the difference between StartDate and EndDate\n",
    "(SELECT SUM(DATEDIFF(second, StartDate, EndDate))/3600\n",
    "FROM CapitalBikeShare\n",
    " -- Only include transactions where StartDate = @DateParm\n",
    "WHERE CAST(StartDate AS date) = @DateParm)\n",
    "-- End\n",
    "END"
   ]
  },
  {
   "cell_type": "code",
   "execution_count": null,
   "metadata": {
    "vscode": {
     "languageId": "sql"
    }
   },
   "outputs": [],
   "source": [
    "-- Latihan 3\n",
    "-- Create the function\n",
    "CREATE FUNCTION SumRideHrsDateRange (@StartDateParm datetime, @EndDateParm datetime)\n",
    "-- Specify return data type\n",
    "RETURNS numeric\n",
    "AS\n",
    "BEGIN\n",
    "RETURN\n",
    "-- Sum the difference between StartDate and EndDate\n",
    "(SELECT SUM(DATEDIFF(second, StartDate, EndDate))/3600\n",
    "FROM CapitalBikeShare\n",
    "-- Include only the relevant transactions\n",
    "WHERE StartDate > @StartDateParm and StartDate < @EndDateParm)\n",
    "END"
   ]
  },
  {
   "cell_type": "markdown",
   "metadata": {},
   "source": [
    "Table valued UDFs"
   ]
  },
  {
   "cell_type": "code",
   "execution_count": null,
   "metadata": {
    "vscode": {
     "languageId": "sql"
    }
   },
   "outputs": [],
   "source": [
    "-- Latihan 1\n",
    "-- Create the function\n",
    "CREATE FUNCTION SumStationStats(@StartDate AS datetime)\n",
    "-- Specify return data type\n",
    "RETURNS TABLE\n",
    "AS\n",
    "RETURN\n",
    "SELECT\n",
    "\tStartStation,\n",
    "    -- Use COUNT() to select RideCount\n",
    "\tCOUNT(ID) as RideCount,\n",
    "    -- Use SUM() to calculate TotalDuration\n",
    "    SUM(DURATION) as TotalDuration\n",
    "FROM CapitalBikeShare\n",
    "WHERE CAST(StartDate as Date) = @StartDate\n",
    "-- Group by StartStation\n",
    "GROUP BY StartStation;"
   ]
  },
  {
   "cell_type": "code",
   "execution_count": null,
   "metadata": {
    "vscode": {
     "languageId": "sql"
    }
   },
   "outputs": [],
   "source": [
    "-- Latihan 2\n",
    "-- Create the function\n",
    "CREATE FUNCTION CountTripAvgDuration (@month CHAR(2), @Year CHAR(4))\n",
    "-- Specify return variable\n",
    "RETURNS @DailyTripStats TABLE(\n",
    "\tTripDate\tdate,\n",
    "\tTripCount\tint,\n",
    "\tAvgDuration\tnumeric)\n",
    "AS\n",
    "BEGIN\n",
    "-- Insert query results into @DailyTripStats\n",
    "INSERT @DailyTripStats\n",
    "SELECT\n",
    "    -- Cast StartDate as a date\n",
    "\tCAST(StartDate AS date),\n",
    "    COUNT(ID),\n",
    "    AVG(Duration)\n",
    "FROM CapitalBikeShare\n",
    "WHERE\n",
    "\tDATEPART(month, StartDate) = @Month AND\n",
    "    DATEPART(year, StartDate) = @Year\n",
    "-- Group by StartDate as a date\n",
    "GROUP BY CAST(StartDate AS date)\n",
    "-- Return\n",
    "RETURN\n",
    "END"
   ]
  },
  {
   "cell_type": "markdown",
   "metadata": {},
   "source": [
    "UDFs in action"
   ]
  },
  {
   "cell_type": "code",
   "execution_count": null,
   "metadata": {
    "vscode": {
     "languageId": "sql"
    }
   },
   "outputs": [],
   "source": [
    "-- Latihan 1\n",
    "-- Create @BeginDate\n",
    "DECLARE @BeginDate AS date = '3/1/2018'\n",
    "-- Create @EndDate\n",
    "DECLARE @EndDate AS date = '3/10/2018' \n",
    "SELECT\n",
    "  -- Select @BeginDate\n",
    "  @BeginDate AS BeginDate,\n",
    "  -- Select @EndDate\n",
    "  @EndDate AS EndDate,\n",
    "  -- Execute SumRideHrsDateRange()\n",
    "  dbo.SumRideHrsDateRange(@BeginDate, @EndDate) AS TotalRideHrs"
   ]
  },
  {
   "cell_type": "code",
   "execution_count": null,
   "metadata": {
    "vscode": {
     "languageId": "sql"
    }
   },
   "outputs": [],
   "source": [
    "-- Latihan 2\n",
    "-- Create @RideHrs\n",
    "DECLARE @RideHrs AS numeric\n",
    "-- Execute SumRideHrsSingleDay function and store the result in @RideHrs\n",
    "EXEC @RideHrs = dbo.SumRideHrsSingleDay @DateParm = '3/5/2018' \n",
    "SELECT \n",
    "  'Total Ride Hours for 3/5/2018:', \n",
    "  @RideHrs"
   ]
  },
  {
   "cell_type": "code",
   "execution_count": null,
   "metadata": {
    "vscode": {
     "languageId": "sql"
    }
   },
   "outputs": [],
   "source": [
    "-- Latihan 3\n",
    "-- Create @StationStats\n",
    "DECLARE @StationStats TABLE(\n",
    "\tStartStation nvarchar(100), \n",
    "\tRideCount int, \n",
    "\tTotalDuration numeric)\n",
    "-- Populate @StationStats with the results of the function\n",
    "INSERT INTO @StationStats\n",
    "SELECT TOP 10 *\n",
    "-- Execute SumStationStats with 3/15/2018\n",
    "FROM dbo.SumStationStats ('3/15/2018') \n",
    "ORDER BY RideCount DESC\n",
    "-- Select all the records from @StationStats\n",
    "SELECT * \n",
    "FROM @StationStats"
   ]
  },
  {
   "cell_type": "markdown",
   "metadata": {},
   "source": [
    "Maintaining user defined functions"
   ]
  },
  {
   "cell_type": "code",
   "execution_count": null,
   "metadata": {
    "vscode": {
     "languageId": "sql"
    }
   },
   "outputs": [],
   "source": [
    "-- Latihan 1\n",
    "-- Update SumStationStats\n",
    "CREATE OR ALTER FUNCTION dbo.SumStationStats(@EndDate AS date)\n",
    "-- Enable SCHEMABINDING\n",
    "RETURNS TABLE WITH SCHEMABINDING\n",
    "AS\n",
    "RETURN\n",
    "SELECT\n",
    "\tStartStation,\n",
    "    COUNT(ID) AS RideCount,\n",
    "    SUM(DURATION) AS TotalDuration\n",
    "FROM dbo.CapitalBikeShare\n",
    "-- Cast EndDate as date and compare to @EndDate\n",
    "WHERE CAST(EndDate AS Date) = @EndDate\n",
    "GROUP BY StartStation;"
   ]
  }
 ],
 "metadata": {
  "kernelspec": {
   "display_name": "Python 3.10.4 64-bit",
   "language": "python",
   "name": "python3"
  },
  "language_info": {
   "name": "python",
   "version": "3.10.4"
  },
  "orig_nbformat": 4,
  "vscode": {
   "interpreter": {
    "hash": "d3e10ef16274dd72e574b8fa73b58450b957d8421a2901baded3cca26fcf5dda"
   }
  }
 },
 "nbformat": 4,
 "nbformat_minor": 2
}
