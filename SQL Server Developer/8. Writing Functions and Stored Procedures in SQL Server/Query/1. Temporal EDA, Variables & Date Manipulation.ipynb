{
 "cells": [
  {
   "cell_type": "markdown",
   "metadata": {},
   "source": [
    "Introduction to the course"
   ]
  },
  {
   "cell_type": "code",
   "execution_count": null,
   "metadata": {
    "vscode": {
     "languageId": "sql"
    }
   },
   "outputs": [],
   "source": [
    "-- Latihan 1\n",
    "SELECT\n",
    "  -- Select the date portion of StartDate\n",
    "  CONVERT(DATE, StartDate) as StartDate,\n",
    "  -- Measure how many records exist for each StartDate\n",
    "  COUNT(ID) as CountOfRows \n",
    "FROM CapitalBikeShare \n",
    "-- Group by the date portion of StartDate\n",
    "GROUP BY CONVERT(DATE, StartDate)\n",
    "-- Sort the results by the date portion of StartDate\n",
    "ORDER BY CONVERT(DATE, StartDate);"
   ]
  },
  {
   "cell_type": "code",
   "execution_count": null,
   "metadata": {
    "vscode": {
     "languageId": "sql"
    }
   },
   "outputs": [],
   "source": [
    "-- Latihan 2\n",
    "SELECT\n",
    "\t-- Count the number of IDs\n",
    "\tCOUNT(ID) AS Count,\n",
    "    -- Use DATEPART() to evaluate the SECOND part of StartDate\n",
    "    \"StartDate\" = CASE WHEN DATEPART(SECOND, StartDate) = 0 THEN 'SECONDS = 0'\n",
    "\t\t\t\t\t   WHEN DATEPART(SECOND, StartDate) > 0 THEN 'SECONDS > 0' END\n",
    "FROM CapitalBikeShare\n",
    "GROUP BY\n",
    "    -- Complete the CASE statement\n",
    "\tCASE WHEN DATEPART(SECOND, StartDate) = 0 THEN 'SECONDS = 0'\n",
    "\t\t WHEN DATEPART(SECOND, StartDate) > 0 THEN 'SECONDS > 0' END"
   ]
  },
  {
   "cell_type": "code",
   "execution_count": null,
   "metadata": {
    "vscode": {
     "languageId": "sql"
    }
   },
   "outputs": [],
   "source": [
    "-- Latihan 3\n",
    "SELECT\n",
    "    -- Select the day of week value for StartDate\n",
    "\tDATENAME(weekday, StartDate) as DayOfWeek,\n",
    "    -- Calculate TotalTripHours\n",
    "\tSUM(DATEDIFF(second, StartDate, EndDate))/ 3600 as TotalTripHours \n",
    "FROM CapitalBikeShare \n",
    "-- Group by the day of week\n",
    "GROUP BY DATENAME(weekday, StartDate)\n",
    "-- Order TotalTripHours in descending order\n",
    "ORDER BY TotalTripHours DESC"
   ]
  },
  {
   "cell_type": "code",
   "execution_count": null,
   "metadata": {
    "vscode": {
     "languageId": "sql"
    }
   },
   "outputs": [],
   "source": [
    "-- Latihan 4\n",
    "SELECT\n",
    "\t-- Calculate TotalRideHours using SUM() and DATEDIFF()\n",
    "  \tSUM(DATEDIFF(SECOND, StartDate, EndDate))/ 3600 AS TotalRideHours,\n",
    "    -- Select the DATE portion of StartDate\n",
    "  \tCONVERT(DATE, StartDate) AS DateOnly,\n",
    "    -- Select the WEEKDAY\n",
    "  \tDATENAME(WEEKDAY, CONVERT(DATE, StartDate)) AS DayOfWeek \n",
    "FROM CapitalBikeShare\n",
    "-- Only include Saturday\n",
    "WHERE DATENAME(WEEKDAY, StartDate) = 'Saturday' \n",
    "GROUP BY CONVERT(DATE, StartDate);"
   ]
  },
  {
   "cell_type": "markdown",
   "metadata": {},
   "source": [
    "Variables for datetime data"
   ]
  },
  {
   "cell_type": "code",
   "execution_count": null,
   "metadata": {
    "vscode": {
     "languageId": "sql"
    }
   },
   "outputs": [],
   "source": [
    "-- Latihan 1\n",
    "-- Create @ShiftStartTime\n",
    "DECLARE @ShiftStartTime AS time = '08:00 AM'\n",
    "\n",
    "-- Create @StartDate\n",
    "DECLARE @StartDate AS date\n",
    "\n",
    "-- Set StartDate to the first StartDate from CapitalBikeShare\n",
    "SET \n",
    "\t@StartDate = (\n",
    "    \tSELECT TOP 1 StartDate \n",
    "    \tFROM CapitalBikeShare \n",
    "    \tORDER BY StartDate ASC\n",
    "\t\t)\n",
    "\n",
    "-- Create ShiftStartDateTime\n",
    "DECLARE @ShiftStartDateTime AS datetime\n",
    "\n",
    "-- Cast StartDate and ShiftStartTime to datetime data types\n",
    "SET @ShiftStartDateTime = CAST(@StartDate AS datetime) + CAST(@ShiftStartTime AS datetime) \n",
    "\n",
    "SELECT @ShiftStartDateTime"
   ]
  },
  {
   "cell_type": "code",
   "execution_count": null,
   "metadata": {
    "vscode": {
     "languageId": "sql"
    }
   },
   "outputs": [],
   "source": [
    "-- Latihan 2\n",
    "-- Declare @Shifts as a TABLE\n",
    "DECLARE @Shifts TABLE(\n",
    "    -- Create StartDateTime column\n",
    "\tStartDateTime datetime,\n",
    "    -- Create EndDateTime column\n",
    "\tEndDateTime datetime)\n",
    "-- Populate @Shifts\n",
    "INSERT INTO @Shifts (StartDateTime, EndDateTime)\n",
    "\tSELECT '3/1/2018 8:00 AM', '3/1/2018 4:00 PM' \n",
    "SELECT * \n",
    "FROM @Shifts"
   ]
  },
  {
   "cell_type": "code",
   "execution_count": null,
   "metadata": {
    "vscode": {
     "languageId": "sql"
    }
   },
   "outputs": [],
   "source": [
    "-- Latihan 3\n",
    "-- Declare @RideDates\n",
    "DECLARE @RideDates TABLE(\n",
    "    -- Create RideStart\n",
    "\tRideStart date,\n",
    "    -- Create RideEnd\n",
    "\tRideEnd date)\n",
    "-- Populate @RideDates\n",
    "INSERT INTO @RideDates(RideStart, RideEnd)\n",
    "-- Select the unique date values of StartDate and EndDate\n",
    "SELECT DISTINCT\n",
    "    -- Cast StartDate as date\n",
    "\tCAST(StartDate as date),\n",
    "    -- Cast EndDate as date\n",
    "\tCAST(EndDate as date) \n",
    "FROM CapitalBikeShare \n",
    "SELECT * \n",
    "FROM @RideDates"
   ]
  },
  {
   "cell_type": "markdown",
   "metadata": {},
   "source": [
    "Date manipulation"
   ]
  },
  {
   "cell_type": "code",
   "execution_count": null,
   "metadata": {
    "vscode": {
     "languageId": "sql"
    }
   },
   "outputs": [],
   "source": [
    "-- Latihan 1\n",
    "-- Find the first day of the current month\n",
    "SELECT DATEADD(month, DATEDIFF(month, 0, GETDATE()), 0)"
   ]
  }
 ],
 "metadata": {
  "kernelspec": {
   "display_name": "Python 3.10.4 64-bit",
   "language": "python",
   "name": "python3"
  },
  "language_info": {
   "name": "python",
   "version": "3.10.4"
  },
  "orig_nbformat": 4,
  "vscode": {
   "interpreter": {
    "hash": "d3e10ef16274dd72e574b8fa73b58450b957d8421a2901baded3cca26fcf5dda"
   }
  }
 },
 "nbformat": 4,
 "nbformat_minor": 2
}
