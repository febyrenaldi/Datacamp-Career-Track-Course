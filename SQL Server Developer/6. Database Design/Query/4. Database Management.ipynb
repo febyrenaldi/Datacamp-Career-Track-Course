{
 "cells": [
  {
   "cell_type": "markdown",
   "metadata": {},
   "source": [
    "Database roles and access control"
   ]
  },
  {
   "cell_type": "code",
   "execution_count": null,
   "metadata": {
    "vscode": {
     "languageId": "sql"
    }
   },
   "outputs": [],
   "source": [
    "-- Latihan 1\n",
    "-- Create a data scientist role\n",
    "CREATE ROLE data_scientist;"
   ]
  },
  {
   "cell_type": "code",
   "execution_count": null,
   "metadata": {
    "vscode": {
     "languageId": "sql"
    }
   },
   "outputs": [],
   "source": [
    "-- Create a role for Marta\n",
    "CREATE ROLE marta LOGIN;"
   ]
  },
  {
   "cell_type": "code",
   "execution_count": null,
   "metadata": {
    "vscode": {
     "languageId": "sql"
    }
   },
   "outputs": [],
   "source": [
    "-- Create an admin role\n",
    "CREATE ROLE admin WITH CREATEDB CREATEROLE;"
   ]
  },
  {
   "cell_type": "code",
   "execution_count": null,
   "metadata": {
    "vscode": {
     "languageId": "sql"
    }
   },
   "outputs": [],
   "source": [
    "-- Latihan 2\n",
    "-- Grant data_scientist update and insert privileges\n",
    "GRANT UPDATE, INSERT ON long_reviews TO data_scientist;\n",
    "\n",
    "\n",
    "-- Give Marta's role a password\n",
    "ALTER ROLE marta WITH PASSWORD 's3cur3p@ssw0rd';"
   ]
  },
  {
   "cell_type": "code",
   "execution_count": null,
   "metadata": {
    "vscode": {
     "languageId": "sql"
    }
   },
   "outputs": [],
   "source": [
    "-- Latihan 3\n",
    "-- Add Marta to the data scientist group\n",
    "GRANT data_scientist TO marta;\n",
    "\n",
    "-- Celebrate! You hired data scientists.\n",
    "\n",
    "-- Remove Marta from the data scientist group\n",
    "REVOKE data_scientist FROM marta;\n"
   ]
  },
  {
   "cell_type": "markdown",
   "metadata": {},
   "source": [
    "Table partitioning"
   ]
  },
  {
   "cell_type": "code",
   "execution_count": null,
   "metadata": {
    "vscode": {
     "languageId": "sql"
    }
   },
   "outputs": [],
   "source": [
    "-- Latihan 1\n",
    "-- Create a new table called film_descriptions\n",
    "CREATE TABLE film_descriptions (\n",
    "    film_id INT,\n",
    "    long_description TEXT\n",
    ");\n",
    "\n",
    "-- Copy the descriptions from the film table\n",
    "INSERT INTO film_descriptions\n",
    "SELECT film_id, long_description FROM film;"
   ]
  },
  {
   "cell_type": "code",
   "execution_count": null,
   "metadata": {
    "vscode": {
     "languageId": "sql"
    }
   },
   "outputs": [],
   "source": [
    "-- Create a new table called film_descriptions\n",
    "CREATE TABLE film_descriptions (\n",
    "    film_id INT,\n",
    "    long_description TEXT\n",
    ");\n",
    "\n",
    "-- Copy the descriptions from the film table\n",
    "INSERT INTO film_descriptions\n",
    "SELECT film_id, long_description FROM film;\n",
    "    \n",
    "-- Drop the column in the original table\n",
    "ALTER TABLE film DROP COLUMN long_description;\n",
    "\n",
    "-- Join to create the original table\n",
    "SELECT * FROM film \n",
    "JOIN film_descriptions USING(film_id);"
   ]
  },
  {
   "cell_type": "code",
   "execution_count": null,
   "metadata": {
    "vscode": {
     "languageId": "sql"
    }
   },
   "outputs": [],
   "source": [
    "-- Latihan 2\n",
    "-- Create a new table called film_partitioned\n",
    "CREATE TABLE film_partitioned (\n",
    "  film_id INT,\n",
    "  title TEXT NOT NULL,\n",
    "  release_year TEXT\n",
    ")\n",
    "PARTITION BY LIST (release_year);"
   ]
  },
  {
   "cell_type": "code",
   "execution_count": null,
   "metadata": {
    "vscode": {
     "languageId": "sql"
    }
   },
   "outputs": [],
   "source": [
    "-- Create a new table called film_partitioned\n",
    "CREATE TABLE film_partitioned (\n",
    "  film_id INT,\n",
    "  title TEXT NOT NULL,\n",
    "  release_year TEXT\n",
    ")\n",
    "PARTITION BY LIST (release_year);\n",
    "\n",
    "-- Create the partitions for 2019, 2018, and 2017\n",
    "CREATE TABLE film_2019\n",
    "\tPARTITION OF film_partitioned FOR VALUES IN ('2019');\n",
    "\n",
    "CREATE TABLE film_2018\n",
    "\tPARTITION OF film_partitioned FOR VALUES IN ('2018');\n",
    "\n",
    "CREATE TABLE film_2017\n",
    "\tPARTITION OF film_partitioned FOR VALUES IN ('2017');"
   ]
  },
  {
   "cell_type": "code",
   "execution_count": null,
   "metadata": {
    "vscode": {
     "languageId": "sql"
    }
   },
   "outputs": [],
   "source": [
    "-- Create a new table called film_partitioned\n",
    "CREATE TABLE film_partitioned (\n",
    "  film_id INT,\n",
    "  title TEXT NOT NULL,\n",
    "  release_year TEXT\n",
    ")\n",
    "PARTITION BY LIST (release_year);\n",
    "\n",
    "-- Create the partitions for 2019, 2018, and 2017\n",
    "CREATE TABLE film_2019\n",
    "\tPARTITION OF film_partitioned FOR VALUES IN ('2019');\n",
    "\n",
    "CREATE TABLE film_2018\n",
    "\tPARTITION OF film_partitioned FOR VALUES IN ('2018');\n",
    "\n",
    "CREATE TABLE film_2017\n",
    "\tPARTITION OF film_partitioned FOR VALUES IN ('2017');\n",
    "\n",
    "-- Insert the data into film_partitioned\n",
    "INSERT INTO film_partitioned\n",
    "SELECT film_id, title, release_year FROM film;\n",
    "\n",
    "-- View film_partitioned\n",
    "SELECT * FROM film_partitioned;"
   ]
  }
 ],
 "metadata": {
  "kernelspec": {
   "display_name": "Python 3.10.4 64-bit",
   "language": "python",
   "name": "python3"
  },
  "language_info": {
   "name": "python",
   "version": "3.10.4"
  },
  "orig_nbformat": 4,
  "vscode": {
   "interpreter": {
    "hash": "d3e10ef16274dd72e574b8fa73b58450b957d8421a2901baded3cca26fcf5dda"
   }
  }
 },
 "nbformat": 4,
 "nbformat_minor": 2
}
