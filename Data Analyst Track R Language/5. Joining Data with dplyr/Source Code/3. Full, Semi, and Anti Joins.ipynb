{
  "cells": [
    {
      "cell_type": "markdown",
      "id": "2fe36705",
      "metadata": {},
      "source": [
        "The full_join verb"
      ]
    },
    {
      "cell_type": "code",
      "execution_count": null,
      "id": "4df2d729",
      "metadata": {},
      "outputs": [],
      "source": [
        "# Latihan 1\n",
        "# Start with inventory_parts_joined table\n",
        "inventory_parts_joined %>%\n",
        "  # Combine with the sets table \n",
        "  inner_join(sets, by = \"set_num\") %>%\n",
        "  # Combine with the themes table\n",
        "  inner_join(themes, by = c(\"theme_id\" = \"id\"), suffix = c(\"_set\", \"_theme\"))"
      ]
    },
    {
      "cell_type": "code",
      "execution_count": null,
      "id": "a549d541",
      "metadata": {},
      "outputs": [],
      "source": [
        "# Latihan 2\n",
        "# Count the part number and color id, weight by quantity\n",
        "batman %>%\n",
        "  count(part_num, color_id, wt = quantity)\n",
        "\n",
        "star_wars %>%\n",
        "  count(part_num, color_id, wt = quantity)"
      ]
    },
    {
      "cell_type": "code",
      "execution_count": null,
      "id": "88bd80c4",
      "metadata": {},
      "outputs": [],
      "source": [
        "# Latihan 3\n",
        "batman_parts %>%\n",
        "  # Combine the star_wars_parts table \n",
        "  full_join(star_wars_parts, by = c(\"part_num\", \"color_id\"), suffix = c(\"_batman\", \"_star_wars\")) %>%\n",
        "  # Replace NAs with 0s in the n_batman and n_star_wars columns \n",
        "  replace_na(list(n_batman = 0, n_star_wars = 0))"
      ]
    },
    {
      "cell_type": "code",
      "execution_count": null,
      "id": "8b0449fa",
      "metadata": {},
      "outputs": [],
      "source": [
        "# Latihan 4\n",
        "parts_joined %>%\n",
        "  # Sort the number of star wars pieces in descending order \n",
        "  arrange(desc(n_star_wars)) %>%\n",
        "  # Join the colors table to the parts_joined table\n",
        "  inner_join(colors, by = c(\"color_id\" = \"id\")) %>%\n",
        "  # Join the parts table to the previous join \n",
        "  inner_join(parts, by = \"part_num\", suffix = c(\"_color\", \"_part\"))"
      ]
    },
    {
      "cell_type": "markdown",
      "id": "e9039223",
      "metadata": {},
      "source": [
        "The semi_join and anti_join verbs"
      ]
    },
    {
      "cell_type": "code",
      "execution_count": null,
      "id": "6a474f33",
      "metadata": {},
      "outputs": [],
      "source": [
        "# Latihan 1\n",
        "# Filter the batwing set for parts that are also in the batmobile set\n",
        "batwing %>%\n",
        "  semi_join(batmobile, by = c(\"part_num\"))\n",
        "\n",
        "# Filter the batwing set for parts that aren't in the batmobile set\n",
        "batwing %>%\n",
        "  anti_join(batmobile, by = c(\"part_num\"))"
      ]
    },
    {
      "cell_type": "code",
      "execution_count": null,
      "id": "a6f5fd97",
      "metadata": {},
      "outputs": [],
      "source": [
        "# Latihan 2\n",
        "# Use inventory_parts to find colors included in at least one set\n",
        "colors %>%\n",
        "  semi_join(inventory_parts, by = c(\"id\" = \"color_id\")) "
      ]
    },
    {
      "cell_type": "code",
      "execution_count": null,
      "id": "db223471",
      "metadata": {},
      "outputs": [],
      "source": [
        "# Latihan 3\n",
        "# Use filter() to extract version 1 \n",
        "version_1_inventories <- inventories %>%\n",
        "  filter(version == 1)\n",
        "\n",
        "# Use anti_join() to find which set is missing a version 1\n",
        "sets %>%\n",
        "  anti_join(version_1_inventories, by = \"set_num\")"
      ]
    },
    {
      "cell_type": "markdown",
      "id": "a84569d4",
      "metadata": {},
      "source": [
        "Visualizing set differences"
      ]
    },
    {
      "cell_type": "code",
      "execution_count": null,
      "id": "9624a378",
      "metadata": {},
      "outputs": [],
      "source": [
        "# Latihan 1\n",
        "batman_colors <- inventory_parts_themes %>%\n",
        "  # Filter the inventory_parts_themes table for the Batman theme\n",
        "  filter(name_theme == \"Batman\") %>%\n",
        "  group_by(color_id) %>%\n",
        "  summarize(total = sum(quantity)) %>%\n",
        "  # Add a fraction column of the total divided by the sum of the total \n",
        "  mutate(fraction = total / sum(total))\n",
        "\n",
        "# Filter and aggregate the Star Wars set data; add a fraction column\n",
        "star_wars_colors <- inventory_parts_themes %>%\n",
        "  filter(name_theme == \"Star Wars\") %>%\n",
        "  group_by(color_id) %>%\n",
        "  summarize(total = sum(quantity)) %>%\n",
        "  mutate(fraction = total / sum(total))\n"
      ]
    },
    {
      "cell_type": "code",
      "execution_count": null,
      "id": "17c820fd",
      "metadata": {},
      "outputs": [],
      "source": [
        "# Latihan 2\n",
        "batman_colors %>%\n",
        "  # Join the Batman and Star Wars colors\n",
        "  full_join(star_wars_colors, by = \"color_id\", suffix = c(\"_batman\", \"_star_wars\")) %>%\n",
        "  # Replace NAs in the total_batman and total_star_wars columns\n",
        "  replace_na(list(total_batman = 0, total_star_wars = 0)) %>%\n",
        "  inner_join(colors, by = c(\"color_id\" = \"id\"))"
      ]
    },
    {
      "cell_type": "code",
      "execution_count": null,
      "id": "c02c5490",
      "metadata": {},
      "outputs": [],
      "source": [
        "batman_colors %>%\n",
        "  full_join(star_wars_colors, by = \"color_id\", suffix = c(\"_batman\", \"_star_wars\")) %>%\n",
        "  replace_na(list(total_batman = 0, total_star_wars = 0)) %>%\n",
        "  inner_join(colors, by = c(\"color_id\" = \"id\")) %>%\n",
        "  # Create the difference and total columns\n",
        "  mutate(difference = fraction_batman - fraction_star_wars,\n",
        "         total = total_batman + total_star_wars) %>%\n",
        "  # Filter for totals greater than 200\n",
        "  filter(total >= 200)"
      ]
    },
    {
      "cell_type": "code",
      "execution_count": null,
      "id": "a91744df",
      "metadata": {},
      "outputs": [],
      "source": [
        "# Latihan 3\n",
        "# Create a bar plot using colors_joined and the name and difference columns\n",
        "color_palette <- setNames(colors_joined$rgb, colors_joined$name)\n",
        "\n",
        "ggplot(colors_joined, aes(name, difference, fill = name)) +\n",
        "  geom_col() +\n",
        "  coord_flip() +\n",
        "  scale_fill_manual(values = color_palette, guide = FALSE) +\n",
        "  labs(y = \"Difference: Batman - Star Wars\")"
      ]
    }
  ],
  "metadata": {
    "kernelspec": {
      "display_name": "Pyolite",
      "language": "python",
      "name": "python"
    },
    "language_info": {
      "codemirror_mode": {
        "name": "python",
        "version": 3
      },
      "file_extension": ".py",
      "mimetype": "text/x-python",
      "name": "python",
      "nbconvert_exporter": "python",
      "pygments_lexer": "ipython3",
      "version": "3.8"
    }
  },
  "nbformat": 4,
  "nbformat_minor": 5
}
