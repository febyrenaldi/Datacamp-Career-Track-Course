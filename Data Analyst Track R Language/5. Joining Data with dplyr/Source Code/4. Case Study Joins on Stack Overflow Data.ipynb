{
  "cells": [
    {
      "cell_type": "markdown",
      "id": "b83442bb",
      "metadata": {},
      "source": [
        "Stack Overflow questions"
      ]
    },
    {
      "cell_type": "code",
      "execution_count": null,
      "id": "8409441e",
      "metadata": {},
      "outputs": [],
      "source": [
        "# Latihan 1\n",
        "# Join the questions and question_tags tables\n",
        "questions %>%\n",
        "    left_join(question_tags, by = c(\"id\" = \"question_id\"))"
      ]
    },
    {
      "cell_type": "code",
      "execution_count": null,
      "id": "99ed8a47",
      "metadata": {},
      "outputs": [],
      "source": [
        "# Join in the tags table\n",
        "questions %>%\n",
        "    left_join(question_tags, by = c(\"id\" = \"question_id\")) %>%\n",
        "    left_join(tags, by = c(\"tag_id\" = \"id\"))"
      ]
    },
    {
      "cell_type": "code",
      "execution_count": null,
      "id": "680155ff",
      "metadata": {},
      "outputs": [],
      "source": [
        "# Replace the NAs in the tag_name column\n",
        "questions %>%\n",
        "  left_join(question_tags, by = c(\"id\" = \"question_id\")) %>%\n",
        "  left_join(tags, by = c(\"tag_id\" = \"id\")) %>%\n",
        "  replace_na(list(tag_name=\"only-r\"))"
      ]
    },
    {
      "cell_type": "code",
      "execution_count": null,
      "id": "3812bf5a",
      "metadata": {},
      "outputs": [],
      "source": [
        "# Latihan 2\n",
        "questions_with_tags %>%\n",
        "    # Group by tag_name\n",
        "    group_by(tag_name) %>%\n",
        "    # Get mean score and num_questions\n",
        "    summarize(score = mean(score),\n",
        "              num_questions = n()) %>%\n",
        "    # Sort num_questions in descending order\n",
        "    arrange(desc(num_questions))"
      ]
    },
    {
      "cell_type": "code",
      "execution_count": null,
      "id": "89bd47af",
      "metadata": {},
      "outputs": [],
      "source": [
        "# Latihan 3\n",
        "# Using a join, filter for tags that are never on an R question\n",
        "tags %>%\n",
        "  anti_join(question_tags, by = c(\"id\" = \"tag_id\"))"
      ]
    },
    {
      "cell_type": "markdown",
      "id": "242ec406",
      "metadata": {},
      "source": [
        "Joining questions and answers"
      ]
    },
    {
      "cell_type": "code",
      "execution_count": null,
      "id": "999e6b4f",
      "metadata": {},
      "outputs": [],
      "source": [
        "# Latihan 1\n",
        "questions %>%\n",
        "    # Inner join questions and answers with proper suffixes\n",
        "    inner_join(answers, by = c(\"id\" = \"question_id\"), suffix = c(\"_question\", \"_answer\")) %>%\n",
        "    # Subtract creation_date_question from creation_date_answer to create gap\n",
        "    mutate(gap = as.integer(creation_date_answer - creation_date_question)) "
      ]
    },
    {
      "cell_type": "code",
      "execution_count": null,
      "id": "103a97f3",
      "metadata": {},
      "outputs": [],
      "source": [
        "# Latihan 2\n",
        "# Count and sort the question id column in the answers table\n",
        "answer_counts <- answers %>%\n",
        "    count(question_id, sort = TRUE)\n",
        "answer_counts\n",
        "\n",
        "# Combine the answer_counts and questions tables\n",
        "questions %>%\n",
        "    left_join(answer_counts, by = c(\"id\" = \"question_id\")) %>%\n",
        "    # Replace the NAs in the n column\n",
        "    replace_na(list(n = 0))"
      ]
    },
    {
      "cell_type": "code",
      "execution_count": null,
      "id": "72ccf52e",
      "metadata": {},
      "outputs": [],
      "source": [
        "# Latihan 3\n",
        "answer_counts <- answers %>%\n",
        "    count(question_id, sort = TRUE)\n",
        "\n",
        "question_answer_counts <- questions %>%\n",
        "    left_join(answer_counts, by = c(\"id\" = \"question_id\")) %>%\n",
        "    replace_na(list(n = 0))\n",
        "\n",
        "question_answer_counts %>%\n",
        "    # Join the question_tags tables\n",
        "    inner_join(question_tags, by = c(\"id\" = \"question_id\")) %>%\n",
        "    # Join the tags table\n",
        "    inner_join(tags, by = c(\"tag_id\" = \"id\"))"
      ]
    },
    {
      "cell_type": "code",
      "execution_count": null,
      "id": "4bbd77a8",
      "metadata": {},
      "outputs": [],
      "source": [
        "# Latihan 4\n",
        "tagged_answers <- question_answer_counts %>%\n",
        "    inner_join(question_tags, by = c(\"id\" = \"question_id\")) %>%\n",
        "    inner_join(tags, by = c(\"tag_id\" = \"id\"))\n",
        "\n",
        "tagged_answers %>%\n",
        "    # Aggregate by tag_name\n",
        "    group_by(tag_name) %>%\n",
        "    # Summarize questions and average_answers\n",
        "    summarize(questions = n(),\n",
        "              average_answers = mean(n)) %>%\n",
        "    # Sort the questions in descending order\n",
        "    arrange(desc(questions))"
      ]
    },
    {
      "cell_type": "markdown",
      "id": "cefa2adb",
      "metadata": {},
      "source": [
        "The bind_rows verb"
      ]
    },
    {
      "cell_type": "code",
      "execution_count": null,
      "id": "b0a33168",
      "metadata": {},
      "outputs": [],
      "source": [
        "# Latihan 1\n",
        "# Inner join the question_tags and tags tables with the questions table\n",
        "questions %>%\n",
        "  inner_join(question_tags, by = c(\"id\" = \"question_id\")) %>%\n",
        "  inner_join(tags, by = c(\"tag_id\" = \"id\"))\n",
        "\n",
        "# Inner join the question_tags and tags tables with the answers table\n",
        "answers %>%\n",
        "  inner_join(question_tags, by = \"question_id\") %>%\n",
        "  inner_join(tags, by = c(\"tag_id\" = \"id\"))"
      ]
    },
    {
      "cell_type": "code",
      "execution_count": null,
      "id": "e478143e",
      "metadata": {},
      "outputs": [],
      "source": [
        "# Latihan 2\n",
        "# Combine the two tables into posts_with_tags\n",
        "posts_with_tags <- bind_rows(questions_with_tags %>% mutate(type = \"question\"),\n",
        "                              answers_with_tags %>% mutate(type = \"answer\"))\n",
        "\n",
        "# Add a year column, then aggregate by type, year, and tag_name\n",
        "posts_with_tags %>%\n",
        "  mutate(year = year(creation_date)) %>%\n",
        "  count(type, year, tag_name)\n"
      ]
    },
    {
      "cell_type": "code",
      "execution_count": null,
      "id": "dcf6805e",
      "metadata": {},
      "outputs": [],
      "source": [
        "# Latihan 3\n",
        "# Filter for the dplyr and ggplot2 tag names \n",
        "by_type_year_tag_filtered <- by_type_year_tag %>%\n",
        "  filter(tag_name %in% c(\"dplyr\", \"ggplot2\"))\n",
        "\n",
        "# Create a line plot faceted by the tag name \n",
        "ggplot(by_type_year_tag_filtered, aes(year, n, color = type)) +\n",
        "  geom_line() +\n",
        "  facet_wrap(~ tag_name)"
      ]
    }
  ],
  "metadata": {
    "kernelspec": {
      "display_name": "Pyolite",
      "language": "python",
      "name": "python"
    },
    "language_info": {
      "codemirror_mode": {
        "name": "python",
        "version": 3
      },
      "file_extension": ".py",
      "mimetype": "text/x-python",
      "name": "python",
      "nbconvert_exporter": "python",
      "pygments_lexer": "ipython3",
      "version": "3.8"
    }
  },
  "nbformat": 4,
  "nbformat_minor": 5
}
