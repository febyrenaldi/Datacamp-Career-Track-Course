{
  "cells": [
    {
      "cell_type": "markdown",
      "id": "d2bd32a8",
      "metadata": {},
      "source": [
        "The left_join verb"
      ]
    },
    {
      "cell_type": "code",
      "execution_count": null,
      "id": "c8eafb10-bd1a-43ee-abbb-8db6758d8bb6",
      "metadata": {},
      "outputs": [],
      "source": [
        "# Latihan 1\n",
        "millennium_falcon <- inventory_parts_joined %>%\n",
        "  filter(set_num == \"7965-1\")\n",
        "\n",
        "star_destroyer <- inventory_parts_joined %>%\n",
        "  filter(set_num == \"75190-1\")\n",
        "\n",
        "# Combine the star_destroyer and millennium_falcon tables\n",
        "millennium_falcon %>%\n",
        "  left_join(star_destroyer, by = c(\"part_num\", \"color_id\"), suffix = c(\"_falcon\", \"_star_destroyer\"))"
      ]
    },
    {
      "cell_type": "code",
      "execution_count": null,
      "id": "b1f3eda0-cf50-421f-b34e-1acb08f52461",
      "metadata": {},
      "outputs": [],
      "source": [
        "# Latihan 2\n",
        "millennium_falcon <- inventory_parts_joined %>%\n",
        "  filter(set_num == \"7965-1\")\n",
        "\n",
        "star_destroyer <- inventory_parts_joined %>%\n",
        "  filter(set_num == \"75190-1\")\n",
        "\n",
        "# Aggregate Millennium Falcon for the total quantity in each part\n",
        "millennium_falcon_colors <- millennium_falcon %>%\n",
        "  group_by(color_id) %>%\n",
        "  summarize(total_quantity = sum(quantity))\n",
        "\n",
        "millennium_falcon_colors"
      ]
    },
    {
      "cell_type": "code",
      "execution_count": null,
      "id": "4a85814f",
      "metadata": {},
      "outputs": [],
      "source": [
        "# Aggregate Millennium Falcon for the total quantity in each part\n",
        "millennium_falcon_colors <- millennium_falcon %>%\n",
        "  group_by(color_id) %>%\n",
        "  summarize(total_quantity = sum(quantity))\n",
        "\n",
        "millennium_falcon_colors\n",
        "\n",
        "# Aggregate Star Destroyer for the total quantity in each part\n",
        "star_destroyer_colors <- star_destroyer %>%\n",
        "  group_by(color_id) %>%\n",
        "  summarize(total_quantity = sum(quantity))\n",
        "\n",
        "star_destroyer_colors"
      ]
    },
    {
      "cell_type": "code",
      "execution_count": null,
      "id": "9455d3b7",
      "metadata": {},
      "outputs": [],
      "source": [
        "# Aggregate Millennium Falcon for the total quantity in each part\n",
        "millennium_falcon_colors <- millennium_falcon %>%\n",
        "  group_by(color_id) %>%\n",
        "  summarize(total_quantity = sum(quantity))\n",
        "\n",
        "# Aggregate Star Destroyer for the total quantity in each part\n",
        "star_destroyer_colors <- star_destroyer %>%\n",
        "  group_by(color_id) %>%\n",
        "  summarize(total_quantity = sum(quantity))\n",
        "\n",
        "# Left join the Millennium Falcon colors to the Star Destroyer colors\n",
        "millennium_falcon_colors %>%\n",
        "  left_join(star_destroyer_colors, by = \"color_id\", suffix= c(\"_falcon\", \"_star_destroyer\"))"
      ]
    },
    {
      "cell_type": "code",
      "execution_count": null,
      "id": "b08895ff",
      "metadata": {},
      "outputs": [],
      "source": [
        "# Latihan 3\n",
        "inventory_version_1 <- inventories %>%\n",
        "    filter(version == 1)\n",
        "\n",
        "inventory_version_1\n",
        "\n",
        "# Join versions to sets\n",
        "sets %>%\n",
        "  left_join(inventory_version_1, by = \"set_num\") %>%\n",
        "  # Filter for where version is na\n",
        "  filter(is.na(version))"
      ]
    },
    {
      "cell_type": "markdown",
      "id": "b9789000",
      "metadata": {},
      "source": [
        "The right_join verb"
      ]
    },
    {
      "cell_type": "code",
      "execution_count": null,
      "id": "d6a2ddac",
      "metadata": {},
      "outputs": [],
      "source": [
        "# Latihan 1\n",
        "parts %>%\n",
        "    # Count the part_cat_id\n",
        "    count(part_cat_id) %>%\n",
        "    # Right join part_categories\n",
        "    right_join(part_categories, by = c(\"part_cat_id\" = \"id\"))"
      ]
    },
    {
      "cell_type": "code",
      "execution_count": null,
      "id": "13b75a8a",
      "metadata": {},
      "outputs": [],
      "source": [
        "parts %>%\n",
        "    count(part_cat_id) %>%\n",
        "    right_join(part_categories, by = c(\"part_cat_id\" = \"id\")) %>%\n",
        "    # Filter for NA\n",
        "    filter(is.na(n))"
      ]
    },
    {
      "cell_type": "code",
      "execution_count": null,
      "id": "3b9df475",
      "metadata": {},
      "outputs": [],
      "source": [
        "# Latihan 2\n",
        "parts %>%\n",
        "    count(part_cat_id) %>%\n",
        "    right_join(part_categories, by = c(\"part_cat_id\" = \"id\")) %>%\n",
        "    # Use replace_na to replace missing values in the n column\n",
        "    replace_na(list(n = 0))"
      ]
    },
    {
      "cell_type": "markdown",
      "id": "43e04f78",
      "metadata": {},
      "source": [
        "Joining tables to themselves"
      ]
    },
    {
      "cell_type": "code",
      "execution_count": null,
      "id": "336ee903",
      "metadata": {},
      "outputs": [],
      "source": [
        "# Latihan 1\n",
        "themes %>% \n",
        "    # Inner join the themes table\n",
        "    inner_join(themes, by = c(\"id\" = \"parent_id\"), suffix = c(\"_parent\", \"_child\")) %>% \n",
        "    # Filter for the \"Harry Potter\" parent name \n",
        "    filter(name_parent == \"Harry Potter\")"
      ]
    },
    {
      "cell_type": "code",
      "execution_count": null,
      "id": "60f5c6f4",
      "metadata": {},
      "outputs": [],
      "source": [
        "# Latihan 2\n",
        "# Join themes to itself again to find the grandchild relationships\n",
        "themes %>% \n",
        "  inner_join(themes, by = c(\"id\" = \"parent_id\"), suffix = c(\"_parent\", \"_child\")) %>%\n",
        "  inner_join(themes, by = c(\"id_child\" = \"parent_id\"), suffix = c(\"_parent\", \"_grandchild\"))"
      ]
    },
    {
      "cell_type": "code",
      "execution_count": null,
      "id": "d0b49fb3",
      "metadata": {},
      "outputs": [],
      "source": [
        "# Latihan 3\n",
        "themes %>% \n",
        "  # Left join the themes table to its own children\n",
        "  left_join(themes, by = c(\"id\" = \"parent_id\"), suffix = c(\"_parent\", \"_child\")) %>%\n",
        "  # Filter for themes that have no child themes\n",
        "  filter(is.na(name_child))"
      ]
    }
  ],
  "metadata": {
    "kernelspec": {
      "display_name": "Pyolite",
      "language": "python",
      "name": "python"
    },
    "language_info": {
      "codemirror_mode": {
        "name": "python",
        "version": 3
      },
      "file_extension": ".py",
      "mimetype": "text/x-python",
      "name": "python",
      "nbconvert_exporter": "python",
      "pygments_lexer": "ipython3",
      "version": "3.8"
    }
  },
  "nbformat": 4,
  "nbformat_minor": 5
}
