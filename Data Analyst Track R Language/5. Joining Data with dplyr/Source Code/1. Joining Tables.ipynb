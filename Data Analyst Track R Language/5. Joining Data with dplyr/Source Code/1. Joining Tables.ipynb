{
  "cells": [
    {
      "cell_type": "markdown",
      "id": "e9b74551",
      "metadata": {},
      "source": [
        "The inner_join verb"
      ]
    },
    {
      "cell_type": "code",
      "execution_count": null,
      "id": "c547489f-4703-4aad-9e33-fe9d09f335d2",
      "metadata": {},
      "outputs": [],
      "source": [
        "# Latihan 1\n",
        "# Add the correct verb, table, and joining column\n",
        "parts %>% \n",
        "    inner_join(part_categories, by = c(\"part_cat_id\" = \"id\"))"
      ]
    },
    {
      "cell_type": "code",
      "execution_count": null,
      "id": "0e519e3b",
      "metadata": {},
      "outputs": [],
      "source": [
        "# Use the suffix argument to replace .x and .y suffixes\n",
        "parts %>% \n",
        "  inner_join(part_categories, by = c(\"part_cat_id\" = \"id\"), suffix = c(\"_part\", \"_category\"))"
      ]
    },
    {
      "cell_type": "markdown",
      "id": "3201eb72",
      "metadata": {},
      "source": [
        "Joining with a one-to-many relationship"
      ]
    },
    {
      "cell_type": "code",
      "execution_count": null,
      "id": "be5fd10b-07b0-4fe1-98e0-f332d2e2d40c",
      "metadata": {
        "trusted": true
      },
      "outputs": [],
      "source": [
        "# Latihan 1\n",
        "# Combine the parts and inventory_parts tables\n",
        "parts %>%\n",
        "    inner_join(inventory_parts, by = \"part_num\")\n",
        "  "
      ]
    },
    {
      "cell_type": "code",
      "execution_count": null,
      "id": "13c358c6-f0ab-47e0-af0c-e71f6db305b4",
      "metadata": {},
      "outputs": [],
      "source": [
        "# Latihan 2\n",
        "# Combine the parts and inventory_parts tables\n",
        "inventory_parts %>%\n",
        "    inner_join(parts, by = \"part_num\")"
      ]
    },
    {
      "cell_type": "markdown",
      "id": "9c2f1b74",
      "metadata": {},
      "source": [
        "Joining three or more tables"
      ]
    },
    {
      "cell_type": "code",
      "execution_count": null,
      "id": "7951f972-7736-4079-a355-a4949f42cb2c",
      "metadata": {},
      "outputs": [],
      "source": [
        "# Latihan 1\n",
        "sets %>%\n",
        "    # Add inventories using an inner join \n",
        "    inner_join(inventories, by = \"set_num\") %>%\n",
        "    # Add inventory_parts using an inner join \n",
        "    inner_join(inventory_parts, by = c(\"id\" = \"inventory_id\"))"
      ]
    },
    {
      "cell_type": "code",
      "execution_count": null,
      "id": "0de0b3cb-3f2f-4023-9a57-70ff6f72c5f2",
      "metadata": {},
      "outputs": [],
      "source": [
        "# Latihan 2\n",
        "# Add an inner join for the colors table\n",
        "sets %>%\n",
        "    inner_join(inventories, by = \"set_num\") %>%\n",
        "    inner_join(inventory_parts, by = c(\"id\" = \"inventory_id\")) %>%\n",
        "    inner_join(colors, by = c(\"color_id\" = \"id\"), suffix=c(\"_set\", \"_color\"))"
      ]
    },
    {
      "cell_type": "code",
      "execution_count": null,
      "id": "4668cac7",
      "metadata": {},
      "outputs": [],
      "source": [
        "# Count the number of colors and sort\n",
        "sets %>%\n",
        "    inner_join(inventories, by = \"set_num\") %>%\n",
        "    inner_join(inventory_parts, by = c(\"id\" = \"inventory_id\")) %>%\n",
        "    inner_join(colors, by = c(\"color_id\" = \"id\"), suffix = c(\"_set\", \"_color\")) %>%\n",
        "    count(name_color, sort = TRUE)"
      ]
    }
  ],
  "metadata": {
    "kernelspec": {
      "display_name": "Pyolite",
      "language": "python",
      "name": "python"
    },
    "language_info": {
      "codemirror_mode": {
        "name": "python",
        "version": 3
      },
      "file_extension": ".py",
      "mimetype": "text/x-python",
      "name": "python",
      "nbconvert_exporter": "python",
      "pygments_lexer": "ipython3",
      "version": "3.8"
    }
  },
  "nbformat": 4,
  "nbformat_minor": 5
}
