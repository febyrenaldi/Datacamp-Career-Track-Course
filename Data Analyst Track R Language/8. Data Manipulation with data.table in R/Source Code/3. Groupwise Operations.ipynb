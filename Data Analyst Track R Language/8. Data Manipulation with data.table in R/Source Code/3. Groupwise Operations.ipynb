{
  "cells": [
    {
      "cell_type": "markdown",
      "id": "049ec941-7e28-414e-8e19-8d4ee0c71c17",
      "metadata": {},
      "source": [
        "Computations by groups"
      ]
    },
    {
      "cell_type": "code",
      "execution_count": null,
      "id": "a2ee2c87-b875-4d22-86ec-fd21334ed57c",
      "metadata": {},
      "outputs": [],
      "source": [
        "#Latihan 1\n",
        "# Compute the mean duration for every start_station\n",
        "mean_start_stn <- batrips[, .(mean_duration = mean(duration)), by = start_station]\n",
        "mean_start_stn"
      ]
    },
    {
      "cell_type": "code",
      "execution_count": null,
      "id": "b5387e7f-1533-41a1-a6aa-9d9cc2abd471",
      "metadata": {},
      "outputs": [],
      "source": [
        "#Latihan 2\n",
        "# Compute the mean duration for every start and end station\n",
        "mean_station <- batrips[, .(mean_duration = mean(duration)), by = .(start_station, end_station)]\n",
        "mean_station"
      ]
    },
    {
      "cell_type": "code",
      "execution_count": null,
      "id": "dfad9714",
      "metadata": {},
      "outputs": [],
      "source": [
        "# Compute the mean duration grouped by start_station and month\n",
        "mean_start_station <- batrips[, .(mean_duration = mean(duration)), by = .(start_station, month(start_date))]\n",
        "mean_start_station"
      ]
    },
    {
      "cell_type": "code",
      "execution_count": null,
      "id": "e964913a-b715-4e49-b9ef-070cd3be0542",
      "metadata": {},
      "outputs": [],
      "source": [
        "#Latihan 3\n",
        "# Compute mean of duration and total trips grouped by start and end stations\n",
        "aggregate_mean_trips <- batrips[, .(mean_duration = mean(duration), \n",
        "                                    total_trips = .N), \n",
        "                                by = .(start_station, end_station)]\n",
        "aggregate_mean_trips"
      ]
    },
    {
      "cell_type": "code",
      "execution_count": null,
      "id": "2858f498",
      "metadata": {},
      "outputs": [],
      "source": [
        "# Compute min and max duration grouped by start station, end station, and month\n",
        "aggregate_min_max <- batrips[, .(min_duration = min(duration), \n",
        "                                 max_duration = max(duration)), \n",
        "                             by = .(start_station, end_station, \n",
        "                                    month(start_date))]\n",
        "aggregate_min_max"
      ]
    },
    {
      "cell_type": "markdown",
      "id": "1bb8c5f3-9d73-435b-9f5c-5f7c904a064a",
      "metadata": {},
      "source": [
        "Chaining data.table expressions"
      ]
    },
    {
      "cell_type": "code",
      "execution_count": null,
      "id": "3cf04ba7-28af-48ec-9876-97c7387fc76c",
      "metadata": {},
      "outputs": [],
      "source": [
        "#Latihan 1\n",
        "# Compute the total trips grouped by start_station and end_station\n",
        "trips_dec <- batrips[, .N, by = .(start_station, \n",
        "                                  end_station)]\n",
        "trips_dec"
      ]
    },
    {
      "cell_type": "code",
      "execution_count": null,
      "id": "db09b411",
      "metadata": {},
      "outputs": [],
      "source": [
        "# Arrange the total trips grouped by start_station and end_station in decreasing order\n",
        "trips_dec <- batrips[, .N, by = .(start_station, \n",
        "                                  end_station)][order(-N)]\n",
        "trips_dec"
      ]
    },
    {
      "cell_type": "code",
      "execution_count": null,
      "id": "436c9291-ec41-4f18-bb17-da9f2c62a3ae",
      "metadata": {},
      "outputs": [],
      "source": [
        "#Latihan 2\n",
        "# Top five most popular destinations\n",
        "top_5 <- batrips[, .N, by = end_station][order(-N)][1:5]\n",
        "top_5"
      ]
    },
    {
      "cell_type": "code",
      "execution_count": null,
      "id": "18fa084c-5f23-425d-93b9-e153f91a709e",
      "metadata": {},
      "outputs": [],
      "source": [
        "#Latihan 3\n",
        "# Compute most popular end station for every start station\n",
        "popular_end_station <- trips_dec[, .(end_station = end_station[1]), \n",
        "                                 by = start_station]\n",
        "popular_end_station"
      ]
    },
    {
      "cell_type": "code",
      "execution_count": null,
      "id": "b918ed26-9a2b-480f-b16b-13c796b552d1",
      "metadata": {},
      "outputs": [],
      "source": [
        "#Latihan 4\n",
        "# Find the first and last ride for each start_station\n",
        "first_last <- batrips[order(start_date), \n",
        "                      .(start_date = start_date[c(1, .N)]), \n",
        "                      by = start_station]\n",
        "first_last"
      ]
    },
    {
      "cell_type": "markdown",
      "id": "b33a590a-3983-4d76-bab8-d67b689f6265",
      "metadata": {},
      "source": [
        "Computations in j using .SD"
      ]
    },
    {
      "cell_type": "code",
      "execution_count": null,
      "id": "4fd07a65-cca8-4702-8c59-95c341a3ebfb",
      "metadata": {},
      "outputs": [],
      "source": [
        "#Latihan 1\n",
        "relevant_cols <- c(\"start_station\", \"end_station\", \n",
        "                   \"start_date\", \"end_date\", \"duration\")\n",
        "\n",
        "# Find the row corresponding to the shortest trip per month\n",
        "shortest <- batrips[, .SD[which.min(duration)], \n",
        "                    by = month(start_date), \n",
        "                    .SDcols = relevant_cols]\n",
        "shortest"
      ]
    },
    {
      "cell_type": "code",
      "execution_count": null,
      "id": "92f135d8-9674-454e-8b0e-638e34035edc",
      "metadata": {},
      "outputs": [],
      "source": [
        "#Latihan 2\n",
        "# Find the total number of unique start stations and zip codes per month\n",
        "unique_station_month <- batrips[, lapply(.SD, uniqueN), \n",
        "                                by = month(start_date), \n",
        "                                .SDcols = c(\"start_station\", \"zip_code\")]\n",
        "unique_station_month"
      ]
    }
  ],
  "metadata": {
    "kernelspec": {
      "display_name": "Pyolite",
      "language": "python",
      "name": "python"
    },
    "language_info": {
      "codemirror_mode": {
        "name": "python",
        "version": 3
      },
      "file_extension": ".py",
      "mimetype": "text/x-python",
      "name": "python",
      "nbconvert_exporter": "python",
      "pygments_lexer": "ipython3",
      "version": "3.8"
    }
  },
  "nbformat": 4,
  "nbformat_minor": 5
}
