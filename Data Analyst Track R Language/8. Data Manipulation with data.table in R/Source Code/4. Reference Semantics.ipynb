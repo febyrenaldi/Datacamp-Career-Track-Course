{
  "cells": [
    {
      "cell_type": "markdown",
      "id": "874682a5-bde4-4e04-a7b5-ada7ebbe77ca",
      "metadata": {},
      "source": [
        "Adding and updating columns by reference"
      ]
    },
    {
      "cell_type": "code",
      "execution_count": null,
      "id": "d6dd30c9-8d54-4bd6-8a86-bd78d95e7a95",
      "metadata": {},
      "outputs": [],
      "source": [
        "#Latihan 1\n",
        "# Add a new column, duration_hour\n",
        "batrips[, duration_hour := duration / 3600]"
      ]
    },
    {
      "cell_type": "code",
      "execution_count": null,
      "id": "6cf1c807-a49b-4294-9d99-0a5988b0443e",
      "metadata": {},
      "outputs": [],
      "source": [
        "#Latihan 2\n",
        "# Print untidy\n",
        "head(untidy, 2)"
      ]
    },
    {
      "cell_type": "code",
      "execution_count": null,
      "id": "a350939e",
      "metadata": {},
      "outputs": [],
      "source": [
        "# Fix spelling in the second row of start_station using the LHS := RHS form\n",
        "untidy[2, start_station := \"San Francisco City Hall\"]"
      ]
    },
    {
      "cell_type": "code",
      "execution_count": null,
      "id": "850702ec-ba60-4741-b3c9-57040bf72ba9",
      "metadata": {},
      "outputs": [],
      "source": [
        "#Latihan 3\n",
        "# Replace negative duration values with NA\n",
        "untidy[duration < 0, duration := NA]"
      ]
    },
    {
      "cell_type": "markdown",
      "id": "a8e38a9c-7da1-4164-a019-47e0bfd9682f",
      "metadata": {},
      "source": [
        "Grouped aggregations"
      ]
    },
    {
      "cell_type": "code",
      "execution_count": null,
      "id": "36f9ac5b-4bfa-4513-869f-bcfd86cfe301",
      "metadata": {},
      "outputs": [],
      "source": [
        "#Latihan 1\n",
        "# Add a new column equal to total trips for every start station\n",
        "batrips[, trips_N := .N, by = start_station]"
      ]
    },
    {
      "cell_type": "code",
      "execution_count": null,
      "id": "231ada52-e34d-484a-81ca-ce0f3a8d2ec0",
      "metadata": {},
      "outputs": [],
      "source": [
        "# Add new column for every start_station and end_station\n",
        "batrips[, duration_mean := mean(duration), by = .(start_station, end_station)]"
      ]
    },
    {
      "cell_type": "code",
      "execution_count": null,
      "id": "1eaac3a3-f89a-4482-a609-d1d9628b442e",
      "metadata": {},
      "outputs": [],
      "source": [
        "#Latihan 2\n",
        "# Calculate the mean duration for each month\n",
        "batrips_new[, mean_dur := mean(duration, na.rm = TRUE), \n",
        "            by = month(start_date)]"
      ]
    },
    {
      "cell_type": "code",
      "execution_count": null,
      "id": "4fa5240a",
      "metadata": {},
      "outputs": [],
      "source": [
        "# Replace NA values in duration with the mean value of duration for that month\n",
        "batrips_new[, mean_dur := mean(duration, na.rm = TRUE), \n",
        "            by = month(start_date)][is.na(duration), \n",
        "                                    duration := mean_dur]"
      ]
    },
    {
      "cell_type": "code",
      "execution_count": null,
      "id": "2d973874",
      "metadata": {},
      "outputs": [],
      "source": [
        "# Delete the mean_dur column by reference\n",
        "batrips_new[, mean_dur := mean(duration, na.rm = TRUE), \n",
        "            by = month(start_date)][is.na(duration), \n",
        "                                    duration := mean_dur][, mean_dur := NULL]"
      ]
    },
    {
      "cell_type": "markdown",
      "id": "10a79099-2ad1-4421-b11a-06e5e79aba90",
      "metadata": {},
      "source": [
        "Advanced aggregations"
      ]
    },
    {
      "cell_type": "code",
      "execution_count": null,
      "id": "9a4f5a35-7f5f-4bc9-a44e-e29600594669",
      "metadata": {},
      "outputs": [],
      "source": [
        "#Latihan 1\n",
        "# Add columns using the LHS := RHS form\n",
        "batrips[, c(\"mean_duration\", \n",
        "            \"median_duration\") := .(mean(duration), median(duration)), \n",
        "        by = start_station]"
      ]
    },
    {
      "cell_type": "code",
      "execution_count": null,
      "id": "33ec016d-8cc9-4c17-90e0-d1eb8f277d71",
      "metadata": {},
      "outputs": [],
      "source": [
        "#Latihan 2\n",
        "# Add columns using the functional form\n",
        "batrips[, `:=`(mean_duration = mean(duration), \n",
        "               median_duration = median(duration)), \n",
        "        by = start_station]"
      ]
    },
    {
      "cell_type": "code",
      "execution_count": null,
      "id": "ef152a26-0f2d-497c-b72b-8adfbac93bda",
      "metadata": {},
      "outputs": [],
      "source": [
        "#Latihan 3\n",
        "# Add the mean_duration column\n",
        "batrips[duration > 600, mean_duration := mean(duration), \n",
        "        by = .(start_station, end_station)]"
      ]
    },
    {
      "cell_type": "markdown",
      "id": "09b31638-e96a-4b4d-95c8-968754f080ab",
      "metadata": {},
      "source": [
        "Fast data reading with fread()"
      ]
    },
    {
      "cell_type": "code",
      "execution_count": null,
      "id": "ad65e40d-dac3-4489-a789-e424506b931e",
      "metadata": {},
      "outputs": [],
      "source": [
        "#Latihan 1\n",
        "# Use read.csv() to import batrips\n",
        "system.time(read.csv(\"batrips.csv\"))"
      ]
    },
    {
      "cell_type": "code",
      "execution_count": null,
      "id": "9e9c2b0f",
      "metadata": {},
      "outputs": [],
      "source": [
        "# Use fread() to import batrips\n",
        "system.time(fread(\"batrips.csv\"))"
      ]
    },
    {
      "cell_type": "code",
      "execution_count": null,
      "id": "40dcbfcf-23d9-4a50-8dfe-7d907753504e",
      "metadata": {},
      "outputs": [],
      "source": [
        "#Latihan 2\n",
        "# Import using read.csv()\n",
        "csv_file <- read.csv(\"sample.csv\", fill = NA, quote = \"\", \n",
        "                     stringsAsFactors = FALSE, strip.white = TRUE, \n",
        "                     header = TRUE)\n",
        "csv_file"
      ]
    },
    {
      "cell_type": "code",
      "execution_count": null,
      "id": "aea5a4a6",
      "metadata": {},
      "outputs": [],
      "source": [
        "# Import using fread()\n",
        "csv_file <- fread(\"sample.csv\")\n",
        "csv_file"
      ]
    },
    {
      "cell_type": "code",
      "execution_count": null,
      "id": "24d9cacd-0b2b-47ee-bcb5-7a9691a7829e",
      "metadata": {},
      "outputs": [],
      "source": [
        "#Latihan 3\n",
        "# Select \"id\" and \"val\" columns\n",
        "select_columns <- fread(\"sample.csv\", select = c(\"id\", \"val\"))\n",
        "select_columns"
      ]
    },
    {
      "cell_type": "code",
      "execution_count": null,
      "id": "8dd96074",
      "metadata": {},
      "outputs": [],
      "source": [
        "# Drop the \"val\" column\n",
        "drop_column <- fread(url, drop = \"val\")\n",
        "drop_column"
      ]
    },
    {
      "cell_type": "code",
      "execution_count": null,
      "id": "b81b1fd3-330a-4fc5-a635-ff0a8a681556",
      "metadata": {},
      "outputs": [],
      "source": [
        "#Latihan 4\n",
        "# Import the file\n",
        "entire_file <- fread(\"sample.csv\")\n",
        "entire_file"
      ]
    },
    {
      "cell_type": "code",
      "execution_count": null,
      "id": "24f2412b",
      "metadata": {},
      "outputs": [],
      "source": [
        "# Import the file while avoiding the warning\n",
        "only_data <- fread(\"sample.csv\", nrows = 3)\n",
        "only_data"
      ]
    },
    {
      "cell_type": "code",
      "execution_count": null,
      "id": "0a9b2ce9",
      "metadata": {},
      "outputs": [],
      "source": [
        "# Import only the metadata\n",
        "only_metadata <- fread(\"sample.csv\", skip = 7)\n",
        "only_metadata"
      ]
    },
    {
      "cell_type": "markdown",
      "id": "9c86437c-179c-4f10-8a1c-6f62e02a72e4",
      "metadata": {},
      "source": [
        "Advanced file reading"
      ]
    },
    {
      "cell_type": "code",
      "execution_count": null,
      "id": "b5b377a5-3a5a-44d9-ad00-333bff26f611",
      "metadata": {},
      "outputs": [],
      "source": [
        "#Latihan 1\n",
        "# Import the file using fread \n",
        "fread_import <- fread(\"sample.csv\")\n",
        "\n",
        "# Import the file using read.csv \n",
        "base_import <- read.csv(\"sample.csv\")\n",
        "\n",
        "# Check the class of id column\n",
        "class(fread_import$id)\n",
        "class(base_import$id)"
      ]
    },
    {
      "cell_type": "code",
      "execution_count": null,
      "id": "73d3bcce-0a43-4e73-8179-a44bfda2e9d8",
      "metadata": {},
      "outputs": [],
      "source": [
        "#Latihan 2\n",
        "# Import using read.csv with defaults\n",
        "base_r_defaults <- read.csv(\"sample.csv\")\n",
        "str(base_r_defaults)"
      ]
    },
    {
      "cell_type": "code",
      "execution_count": null,
      "id": "df943ecc",
      "metadata": {},
      "outputs": [],
      "source": [
        "# Import using read.csv\n",
        "base_r <- read.csv(\"sample.csv\", \n",
        "                   colClasses = c(rep(\"factor\", 4), \n",
        "                                  \"character\", \"integer\", \n",
        "                                  rep(\"numeric\", 4)))\n",
        "str(base_r)"
      ]
    },
    {
      "cell_type": "code",
      "execution_count": null,
      "id": "3e24ff6e",
      "metadata": {},
      "outputs": [],
      "source": [
        "# Import using fread\n",
        "import_fread <- fread(\"sample.csv\", \n",
        "                      colClasses = list(factor = 1:4, numeric = 7:10))\n",
        "str(import_fread)"
      ]
    },
    {
      "cell_type": "code",
      "execution_count": null,
      "id": "fb0d4347-cbac-4d1d-ba1b-2159f8532f3f",
      "metadata": {},
      "outputs": [],
      "source": [
        "#Latihan 3\n",
        "# Import the file and note the warning message\n",
        "incorrect <- fread(\"sample.csv\")\n",
        "incorrect"
      ]
    },
    {
      "cell_type": "code",
      "execution_count": null,
      "id": "491d2bb6",
      "metadata": {},
      "outputs": [],
      "source": [
        "# Import the file correctly\n",
        "correct <- fread(\"sample.csv\", fill = TRUE)\n",
        "correct"
      ]
    },
    {
      "cell_type": "code",
      "execution_count": null,
      "id": "24db4207-11cd-47c8-b27d-46da14e4aba6",
      "metadata": {},
      "outputs": [],
      "source": [
        "#Latihan 4\n",
        "# Import the file using na.strings\n",
        "missing_values <- fread(\"sample.csv\", na.strings = \"##\")\n",
        "missing_values"
      ]
    },
    {
      "cell_type": "markdown",
      "id": "b6bcbaa8-156d-4fe0-b5b3-ca947f5e77b8",
      "metadata": {},
      "source": [
        "Fast data writing with fwrite()"
      ]
    },
    {
      "cell_type": "code",
      "execution_count": null,
      "id": "315537e9-e143-4f3b-a214-743440428900",
      "metadata": {},
      "outputs": [],
      "source": [
        "#Latihan 1\n",
        "# Write dt to fwrite.txt\n",
        "fwrite(dt, \"fwrite.txt\")\n",
        "\n",
        "# Import the file using readLines()\n",
        "readLines(\"fwrite.txt\")\n",
        "\n",
        "# Import the file using fread()\n",
        "fread(\"fwrite.txt\")"
      ]
    },
    {
      "cell_type": "code",
      "execution_count": null,
      "id": "05ec6ffb-f443-432f-8b77-64fac41159c8",
      "metadata": {},
      "outputs": [],
      "source": [
        "#Latihan 2\n",
        "# Write batrips_dates to file using \"ISO\" format\n",
        "fwrite(batrips_dates, \"iso.txt\", dateTimeAs = \"ISO\")\n",
        "\n",
        "# Import the file back\n",
        "iso <- fread(\"iso.txt\")\n",
        "iso"
      ]
    },
    {
      "cell_type": "code",
      "execution_count": null,
      "id": "25e32bb0",
      "metadata": {},
      "outputs": [],
      "source": [
        "# Write batrips_dates to file using \"squash\" format\n",
        "fwrite(batrips_dates, \"squash.txt\", dateTimeAs = \"squash\")\n",
        "\n",
        "# Import the file back\n",
        "squash <- fread(\"squash.txt\")\n",
        "squash"
      ]
    },
    {
      "cell_type": "code",
      "execution_count": null,
      "id": "2701246b",
      "metadata": {},
      "outputs": [],
      "source": [
        "# Write batrips_dates to file using \"epoch\" format\n",
        "fwrite(batrips_dates, \"epoch.txt\", dateTimeAs = \"epoch\")\n",
        "\n",
        "# Import the file back\n",
        "epoch <- fread(\"epoch.txt\")\n",
        "epoch"
      ]
    },
    {
      "cell_type": "code",
      "execution_count": null,
      "id": "3324a7b7-ac92-423f-87aa-4e6cb1d36737",
      "metadata": {},
      "outputs": [],
      "source": [
        "#Latihan 3\n",
        "# Use write.table() to write batrips\n",
        "system.time(write.table(batrips, \"base-r.txt\"))"
      ]
    },
    {
      "cell_type": "code",
      "execution_count": null,
      "id": "8bc8ab07-800c-47cd-bbfe-e572534c5c02",
      "metadata": {},
      "outputs": [],
      "source": [
        "# Use fwrite() to write batrips\n",
        "system.time(fwrite(batrips, \"data-table.txt\"))"
      ]
    }
  ],
  "metadata": {
    "kernelspec": {
      "display_name": "Pyolite",
      "language": "python",
      "name": "python"
    },
    "language_info": {
      "codemirror_mode": {
        "name": "python",
        "version": 3
      },
      "file_extension": ".py",
      "mimetype": "text/x-python",
      "name": "python",
      "nbconvert_exporter": "python",
      "pygments_lexer": "ipython3",
      "version": "3.8"
    }
  },
  "nbformat": 4,
  "nbformat_minor": 5
}
