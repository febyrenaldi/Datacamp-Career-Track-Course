{
  "cells": [
    {
      "cell_type": "markdown",
      "id": "21a0d3a0-3c08-4c9e-92d2-a038daf2ed29",
      "metadata": {},
      "source": [
        "Selecting columns from a data.table"
      ]
    },
    {
      "cell_type": "code",
      "execution_count": null,
      "id": "2fb98317-188c-491d-b9bc-01e01e827ae7",
      "metadata": {},
      "outputs": [],
      "source": [
        "#Latihan 1\n",
        "# Select bike_id and trip_id using a character vector\n",
        "df_way <- batrips[, c(\"bike_id\", \"trip_id\")]\n",
        "df_way"
      ]
    },
    {
      "cell_type": "code",
      "execution_count": null,
      "id": "2ead1037",
      "metadata": {},
      "outputs": [],
      "source": [
        "# Select start_station and end_station cols without a character vector\n",
        "dt_way <- batrips[, .(start_station, end_station)]\n",
        "dt_way"
      ]
    },
    {
      "cell_type": "code",
      "execution_count": null,
      "id": "773014fa-571b-402e-bebf-fde03785d32a",
      "metadata": {},
      "outputs": [],
      "source": [
        "#Latihan 2\n",
        "# Deselect start_terminal and end_terminal columns\n",
        "drop_terminal_cols <- batrips[, !c(\"start_terminal\", \"end_terminal\")]\n",
        "drop_terminal_cols"
      ]
    },
    {
      "cell_type": "markdown",
      "id": "c2704b9b-d645-407a-bd99-b7ce66c62a24",
      "metadata": {},
      "source": [
        "Computing on columns the data.table way"
      ]
    },
    {
      "cell_type": "code",
      "execution_count": null,
      "id": "307aed5e-cdeb-49b4-8d79-392831acb1e2",
      "metadata": {},
      "outputs": [],
      "source": [
        "#Latihan 1\n",
        "# Calculate median duration using the j argument\n",
        "median_duration <- batrips[, median(duration)]\n",
        "median_duration"
      ]
    },
    {
      "cell_type": "code",
      "execution_count": null,
      "id": "034f34ee",
      "metadata": {},
      "outputs": [],
      "source": [
        "# Get median duration after filtering\n",
        "median_duration_filter <- batrips[end_station == \"Market at 10th\" & subscription_type == \"Subscriber\", median(duration)]\n",
        "median_duration_filter"
      ]
    },
    {
      "cell_type": "code",
      "execution_count": null,
      "id": "a23089a3-15f0-49b1-9e07-b610015fc806",
      "metadata": {},
      "outputs": [],
      "source": [
        "#Latihan 2\n",
        "# Compute duration of all trips\n",
        "trip_duration <- batrips[, difftime(end_date, start_date, units = \"min\")]\n",
        "head(trip_duration)"
      ]
    },
    {
      "cell_type": "markdown",
      "id": "6044f098-a1ac-4840-9b77-8e71ebfbb1e1",
      "metadata": {},
      "source": [
        "Advanced computations in j"
      ]
    },
    {
      "cell_type": "code",
      "execution_count": null,
      "id": "8441bfb9-0b5d-4f9c-9222-9782634ce608",
      "metadata": {},
      "outputs": [],
      "source": [
        "#Latihan 1\n",
        "# Calculate the average duration as mean_durn\n",
        "mean_duration <- batrips[, .(mean_durn = mean(duration))]\n",
        "mean_duration"
      ]
    },
    {
      "cell_type": "code",
      "execution_count": null,
      "id": "d6ab2f36",
      "metadata": {},
      "outputs": [],
      "source": [
        "# Get the min and max duration values\n",
        "min_max_duration <- batrips[, .(min(duration), max(duration))]\n",
        "min_max_duration"
      ]
    },
    {
      "cell_type": "code",
      "execution_count": null,
      "id": "d00d0c8d",
      "metadata": {},
      "outputs": [],
      "source": [
        "# Calculate the average duration and the date of the last ride\n",
        "other_stats <- batrips[, .(mean_duration = mean(duration), \n",
        "                           last_ride = max(end_date))]\n",
        "other_stats"
      ]
    },
    {
      "cell_type": "code",
      "execution_count": null,
      "id": "6fb57170-147b-4135-ad3a-90b8a9c042d8",
      "metadata": {},
      "outputs": [],
      "source": [
        "#Latihan 2\n",
        "duration_stats <- batrips[start_station == \"Townsend at 7th\" & duration < 500, \n",
        "                          .(min_dur = min(duration), \n",
        "                            max_dur = max(duration))]\n",
        "duration_stats"
      ]
    },
    {
      "cell_type": "code",
      "execution_count": null,
      "id": "1054604a",
      "metadata": {},
      "outputs": [],
      "source": [
        "# Plot the histogram of duration based on conditions\n",
        "batrips[start_station == \"Townsend at 7th\" & duration < 500, hist(duration)]"
      ]
    }
  ],
  "metadata": {
    "kernelspec": {
      "display_name": "Pyolite",
      "language": "python",
      "name": "python"
    },
    "language_info": {
      "codemirror_mode": {
        "name": "python",
        "version": 3
      },
      "file_extension": ".py",
      "mimetype": "text/x-python",
      "name": "python",
      "nbconvert_exporter": "python",
      "pygments_lexer": "ipython3",
      "version": "3.8"
    }
  },
  "nbformat": 4,
  "nbformat_minor": 5
}
