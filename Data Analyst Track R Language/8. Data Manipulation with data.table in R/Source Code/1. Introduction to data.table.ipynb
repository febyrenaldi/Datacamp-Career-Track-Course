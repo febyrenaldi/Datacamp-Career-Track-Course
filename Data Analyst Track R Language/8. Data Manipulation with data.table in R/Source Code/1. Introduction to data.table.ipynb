{
  "cells": [
    {
      "cell_type": "markdown",
      "id": "9ab7c979-e22f-488f-8128-434366ed35cf",
      "metadata": {},
      "source": [
        "Welcome to the course!"
      ]
    },
    {
      "cell_type": "code",
      "execution_count": null,
      "id": "c5208f31-fc52-45fa-949d-c9a8a4474576",
      "metadata": {},
      "outputs": [],
      "source": [
        "#Latihan 1\n",
        "# Load data.table\n",
        "library(data.table)\n",
        "\n",
        "# Create the data.table X\n",
        "X <- data.table(id = c(\"a\", \"b\", \"c\"), value = c(0.5, 1.0, 1.5))\n",
        "\n",
        "# View X\n",
        "X"
      ]
    },
    {
      "cell_type": "code",
      "execution_count": null,
      "id": "ea34ec27-22c7-4aef-8f21-f10095287225",
      "metadata": {},
      "outputs": [],
      "source": [
        "#Latihan 2\n",
        "# Get number of columns in batrips\n",
        "col_number <- ncol(batrips)"
      ]
    },
    {
      "cell_type": "code",
      "execution_count": null,
      "id": "f8227c8d",
      "metadata": {},
      "outputs": [],
      "source": [
        "# Print the first 8 rows\n",
        "head(batrips, 8)"
      ]
    },
    {
      "cell_type": "code",
      "execution_count": null,
      "id": "9f87997f",
      "metadata": {},
      "outputs": [],
      "source": [
        "# Print the last 8 rows\n",
        "tail(batrips, 8)"
      ]
    },
    {
      "cell_type": "code",
      "execution_count": null,
      "id": "426872e6",
      "metadata": {},
      "outputs": [],
      "source": [
        "# Print the structure of batrips\n",
        "str(batrips)"
      ]
    },
    {
      "cell_type": "markdown",
      "id": "dd6d3e14-9011-4f9d-8564-9b75eb6b504c",
      "metadata": {},
      "source": [
        "Filtering rows in a data.table"
      ]
    },
    {
      "cell_type": "code",
      "execution_count": null,
      "id": "434ea318-7619-46c5-98c9-c677d13d576f",
      "metadata": {},
      "outputs": [],
      "source": [
        "#Latihan 1\n",
        "# Filter third row\n",
        "row_3 <- batrips[3]\n",
        "row_3"
      ]
    },
    {
      "cell_type": "code",
      "execution_count": null,
      "id": "3c37e4c4",
      "metadata": {},
      "outputs": [],
      "source": [
        "# Filter rows 10 through 20\n",
        "rows_10_20 <- batrips[10:20]\n",
        "rows_10_20"
      ]
    },
    {
      "cell_type": "code",
      "execution_count": null,
      "id": "4944ee31",
      "metadata": {},
      "outputs": [],
      "source": [
        "# Filter the 1st, 6th and 10th rows\n",
        "rows_1_6_10 <- batrips[c(1, 6, 10)]\n",
        "rows_1_6_10"
      ]
    },
    {
      "cell_type": "code",
      "execution_count": null,
      "id": "ff692b20-680f-42f1-9491-bb2e691cc5d4",
      "metadata": {},
      "outputs": [],
      "source": [
        "#Latihan 2\n",
        "# Select all rows except the first two\n",
        "not_first_two <- batrips[-(1:2)]\n",
        "not_first_two"
      ]
    },
    {
      "cell_type": "code",
      "execution_count": null,
      "id": "91cf0610",
      "metadata": {},
      "outputs": [],
      "source": [
        "# Select all rows except 1 through 5 and 10 through 15\n",
        "exclude_some <- batrips[-c(1:5, 10:15)]\n",
        "exclude_some"
      ]
    },
    {
      "cell_type": "code",
      "execution_count": null,
      "id": "5ce4e83b",
      "metadata": {},
      "outputs": [],
      "source": [
        "# Select all rows except the first and last\n",
        "not_first_last <- batrips[-c(1, .N)] # Or batrips[-c(1, nrow(batrips))]\n",
        "not_first_last"
      ]
    },
    {
      "cell_type": "code",
      "execution_count": null,
      "id": "87f7f658-26f1-4da7-97b7-edc7057ac11a",
      "metadata": {},
      "outputs": [],
      "source": [
        "#Latihan 3\n",
        "# Filter all rows where start_station is \"MLK Library\"\n",
        "trips_mlk <- batrips[start_station == \"MLK Library\"]\n",
        "trips_mlk"
      ]
    },
    {
      "cell_type": "code",
      "execution_count": null,
      "id": "7cca7171",
      "metadata": {},
      "outputs": [],
      "source": [
        "# Filter all rows where start_station is \"MLK Library\" AND duration > 1600\n",
        "trips_mlk_1600 <- batrips[start_station == \"MLK Library\" & duration > 1600]\n",
        "trips_mlk_1600"
      ]
    },
    {
      "cell_type": "code",
      "execution_count": null,
      "id": "dfa1825e",
      "metadata": {},
      "outputs": [],
      "source": [
        "# Filter all rows where `subscription_type` is not `\"Subscriber\"` \n",
        "customers <- batrips[subscription_type != \"Subscriber\"]\n",
        "customers"
      ]
    },
    {
      "cell_type": "code",
      "execution_count": null,
      "id": "48ee73a7",
      "metadata": {},
      "outputs": [],
      "source": [
        "# Filter all rows where start_station is \"Ryland Park\" AND subscription_type is not \"Customer\"\n",
        "ryland_park_subscribers <- batrips[start_station == \"Ryland Park\" & subscription_type != \"Customer\"]\n",
        "ryland_park_subscribers"
      ]
    },
    {
      "cell_type": "markdown",
      "id": "26b2515d-7c56-4999-925e-7c7af16eca47",
      "metadata": {},
      "source": [
        "Helpers for filtering"
      ]
    },
    {
      "cell_type": "code",
      "execution_count": null,
      "id": "4f477d26-f5cf-48b4-be2c-05dd4e3cbeec",
      "metadata": {},
      "outputs": [],
      "source": [
        "#Latihan 1\n",
        "# Filter all rows where end_station contains \"Market\"\n",
        "any_markets <- batrips[end_station %like% \"Market\"]\n",
        "any_markets"
      ]
    },
    {
      "cell_type": "code",
      "execution_count": null,
      "id": "852baf9a",
      "metadata": {},
      "outputs": [],
      "source": [
        "# Filter all rows where end_station ends with \"Market\"\n",
        "end_markets <- batrips[end_station %like% \"Market$\"]\n",
        "end_markets"
      ]
    },
    {
      "cell_type": "code",
      "execution_count": null,
      "id": "e4507039-8f09-4d0b-8d1e-cb21681574b6",
      "metadata": {},
      "outputs": [],
      "source": [
        "#Latihan 2\n",
        "# Filter all rows where trip_id is 588841, 139560, or 139562\n",
        "filter_trip_ids <- batrips[trip_id %in% c(588841, 139560, 139562)]\n",
        "filter_trip_ids"
      ]
    },
    {
      "cell_type": "code",
      "execution_count": null,
      "id": "62ed765a-ed17-4f76-b140-46d320b0945b",
      "metadata": {},
      "outputs": [],
      "source": [
        "#Latihan 3\n",
        "# Filter all rows where duration is between [5000, 6000]\n",
        "duration_5k_6k <- batrips[duration %between% c(5000, 6000)]\n",
        "duration_5k_6k"
      ]
    },
    {
      "cell_type": "code",
      "execution_count": null,
      "id": "aafe5f3b",
      "metadata": {},
      "outputs": [],
      "source": [
        "# Filter all rows with specific start stations\n",
        "two_stations <- batrips[start_station %chin% c(\"San Francisco City Hall\", \"Embarcadero at Sansome\")]\n",
        "two_stations"
      ]
    }
  ],
  "metadata": {
    "kernelspec": {
      "display_name": "Pyolite",
      "language": "python",
      "name": "python"
    },
    "language_info": {
      "codemirror_mode": {
        "name": "python",
        "version": 3
      },
      "file_extension": ".py",
      "mimetype": "text/x-python",
      "name": "python",
      "nbconvert_exporter": "python",
      "pygments_lexer": "ipython3",
      "version": "3.8"
    }
  },
  "nbformat": 4,
  "nbformat_minor": 5
}
