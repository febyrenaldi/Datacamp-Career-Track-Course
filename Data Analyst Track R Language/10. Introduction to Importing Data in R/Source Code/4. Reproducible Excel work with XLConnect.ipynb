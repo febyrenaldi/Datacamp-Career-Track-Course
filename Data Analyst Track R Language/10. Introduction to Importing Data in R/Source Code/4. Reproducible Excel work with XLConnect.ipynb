{
  "cells": [
    {
      "cell_type": "markdown",
      "id": "cbbde3f2-466b-4cc9-b402-4748f80748e0",
      "metadata": {},
      "source": [
        "Reading sheets"
      ]
    },
    {
      "cell_type": "code",
      "execution_count": null,
      "id": "5f80461e-4d57-49d7-8b0d-dedcb3aa4737",
      "metadata": {},
      "outputs": [],
      "source": [
        "#Latihan 1\n",
        "# urbanpop.xlsx is available in your working directory\n",
        "\n",
        "# Load the XLConnect package\n",
        "library(XLConnect)\n",
        "\n",
        "# Build connection to urbanpop.xlsx: my_book\n",
        "my_book <- loadWorkbook(\"urbanpop.xlsx\")\n",
        "\n",
        "# Show Data\n",
        "my_book\n",
        "\n",
        "# Print out the class of my_book\n",
        "class(my_book)"
      ]
    },
    {
      "cell_type": "code",
      "execution_count": null,
      "id": "c5df451b-4136-45a2-8471-44658bff6f56",
      "metadata": {},
      "outputs": [],
      "source": [
        "#Latihan 2\n",
        "# XLConnect is already available\n",
        "\n",
        "# Build connection to urbanpop.xlsx\n",
        "my_book <- loadWorkbook(\"urbanpop.xlsx\")\n",
        "\n",
        "# List the sheets in my_book\n",
        "getSheets(my_book)\n",
        "\n",
        "# Import the second sheet in my_book\n",
        "readWorksheet(my_book, sheet = 2)"
      ]
    },
    {
      "cell_type": "code",
      "execution_count": null,
      "id": "050be8aa-c5ff-4740-8516-906d31aff5d2",
      "metadata": {},
      "outputs": [],
      "source": [
        "#Latihan 3\n",
        "# XLConnect is already available\n",
        "\n",
        "# Build connection to urbanpop.xlsx\n",
        "my_book <- loadWorkbook(\"urbanpop.xlsx\")\n",
        "\n",
        "# Import columns 3, 4, and 5 from second sheet in my_book: urbanpop_sel\n",
        "urbanpop_sel <- readWorksheet(my_book, sheet = 2, startCol = 3, endCol = 5)\n",
        "\n",
        "# Import first column from second sheet in my_book: countries\n",
        "countries <- readWorksheet(my_book, sheet = 2, startCol = 1, endCol = 1)\n",
        "\n",
        "# cbind() urbanpop_sel and countries together: selection\n",
        "selection <- cbind(countries, urbanpop_sel)"
      ]
    },
    {
      "cell_type": "markdown",
      "id": "f167be10-91ea-406f-aef0-3c6bccde0f8c",
      "metadata": {},
      "source": [
        "Adapting sheets"
      ]
    },
    {
      "cell_type": "code",
      "execution_count": null,
      "id": "e2fd2829-a80d-47d2-ae94-31bbc022b0af",
      "metadata": {},
      "outputs": [],
      "source": [
        "#Latihan 1\n",
        "# XLConnect is already available\n",
        "\n",
        "# Build connection to urbanpop.xlsx\n",
        "my_book <- loadWorkbook(\"urbanpop.xlsx\")\n",
        "\n",
        "# Add a worksheet to my_book, named \"data_summary\"\n",
        "createSheet(my_book, \"data_summary\")\n",
        "\n",
        "# Use getSheets() on my_book\n",
        "getSheets(my_book)"
      ]
    },
    {
      "cell_type": "code",
      "execution_count": null,
      "id": "a78f5d61-4b20-4d19-a1c7-30d5d5424887",
      "metadata": {},
      "outputs": [],
      "source": [
        "#Latihan 2\n",
        "# XLConnect is already available\n",
        "\n",
        "# Build connection to urbanpop.xlsx\n",
        "my_book <- loadWorkbook(\"urbanpop.xlsx\")\n",
        "\n",
        "# Add a worksheet to my_book, named \"data_summary\"\n",
        "createSheet(my_book, \"data_summary\")\n",
        "\n",
        "# Create data frame: summ\n",
        "sheets <- getSheets(my_book)[1:3]\n",
        "dims <- sapply(sheets, function(x) dim(readWorksheet(my_book, sheet = x)), USE.NAMES = FALSE)\n",
        "summ <- data.frame(sheets = sheets,\n",
        "                   nrows = dims[1, ],\n",
        "                   ncols = dims[2, ])\n",
        "\n",
        "# Add data in summ to \"data_summary\" sheet\n",
        "writeWorksheet(my_book, summ, \"data_summary\")\n",
        "# Save workbook as summary.xlsx\n",
        "saveWorkbook(my_book, \"summary.xlsx\")"
      ]
    },
    {
      "cell_type": "code",
      "execution_count": null,
      "id": "ef66cd13-b6b1-4d5f-b231-786dd9e4da44",
      "metadata": {},
      "outputs": [],
      "source": [
        "#Latihan 3\n",
        "# my_book is available\n",
        "\n",
        "# Rename \"data_summary\" sheet to \"summary\"\n",
        "renameSheet(my_book, \"data_summary\", \"summary\")\n",
        "\n",
        "# Print out sheets of my_book\n",
        "getSheets(my_book)\n",
        "\n",
        "# Save workbook to \"renamed.xlsx\"\n",
        "saveWorkbook(my_book, file = \"renamed.xlsx\")"
      ]
    },
    {
      "cell_type": "code",
      "execution_count": null,
      "id": "744c49a5-9e47-4077-9bfb-b35dd8b4b4a2",
      "metadata": {},
      "outputs": [],
      "source": [
        "#Latihan 4\n",
        "# Load the XLConnect package\n",
        "library(XLConnect)\n",
        "\n",
        "# Build connection to renamed.xlsx: my_book\n",
        "my_book <- loadWorkbook(\"renamed.xlsx\")\n",
        "\n",
        "# Remove the fourth sheet\n",
        "removeSheet(my_book, 4)\n",
        "\n",
        "# Save workbook to \"clean.xlsx\"\n",
        "saveWorkbook(my_book, file = \"clean.xlsx\")"
      ]
    }
  ],
  "metadata": {
    "kernelspec": {
      "display_name": "Pyolite",
      "language": "python",
      "name": "python"
    },
    "language_info": {
      "codemirror_mode": {
        "name": "python",
        "version": 3
      },
      "file_extension": ".py",
      "mimetype": "text/x-python",
      "name": "python",
      "nbconvert_exporter": "python",
      "pygments_lexer": "ipython3",
      "version": "3.8"
    }
  },
  "nbformat": 4,
  "nbformat_minor": 5
}
