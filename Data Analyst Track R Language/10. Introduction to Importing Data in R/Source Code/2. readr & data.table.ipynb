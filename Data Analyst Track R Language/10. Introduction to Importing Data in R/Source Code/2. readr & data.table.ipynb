{
  "cells": [
    {
      "cell_type": "markdown",
      "id": "f796ca46-6250-4ccd-b751-8661f8a1d266",
      "metadata": {},
      "source": [
        "readr: read_csv & read_tsv"
      ]
    },
    {
      "cell_type": "code",
      "execution_count": null,
      "id": "412e01fa-8219-4fec-ae12-9124164bd7cd",
      "metadata": {},
      "outputs": [],
      "source": [
        "#Latihan 1\n",
        "# Load the readr package\n",
        "library(readr)\n",
        "\n",
        "# Import potatoes.csv with read_csv(): potatoes\n",
        "potatoes <- read_csv(\"potatoes.csv\")\n"
      ]
    },
    {
      "cell_type": "code",
      "execution_count": null,
      "id": "38f6d41c-82e0-4901-86d4-0d38432459f9",
      "metadata": {},
      "outputs": [],
      "source": [
        "#Latihan 2\n",
        "# readr is already loaded\n",
        "\n",
        "# Column names\n",
        "properties <- c(\"area\", \"temp\", \"size\", \"storage\", \"method\",\n",
        "                \"texture\", \"flavor\", \"moistness\")\n",
        "\n",
        "# Import potatoes.txt: potatoes\n",
        "potatoes <- read_tsv(\"potatoes.txt\", col_names = properties)\n",
        "\n",
        "# Call head() on potatoes\n",
        "head(potatoes)"
      ]
    },
    {
      "cell_type": "markdown",
      "id": "38a3b9f1-c747-4531-b4ea-18e54ea54d8d",
      "metadata": {},
      "source": [
        "readr: read_delim"
      ]
    },
    {
      "cell_type": "code",
      "execution_count": null,
      "id": "d1262bdc-d72c-4cb2-bc9c-fac792b6d1fc",
      "metadata": {},
      "outputs": [],
      "source": [
        "#Latihan 1\n",
        "# readr is already loaded\n",
        "\n",
        "# Column names\n",
        "properties <- c(\"area\", \"temp\", \"size\", \"storage\", \"method\",\n",
        "                \"texture\", \"flavor\", \"moistness\")\n",
        "\n",
        "# Import potatoes.txt using read_delim(): potatoes\n",
        "potatoes <- read_delim(\"potatoes.txt\", delim = \"\\t\", col_names = properties)\n",
        "\n",
        "# Print out potatoes\n",
        "potatoes"
      ]
    },
    {
      "cell_type": "code",
      "execution_count": null,
      "id": "f13b7c4c-d084-4f29-925f-d0e31a693e81",
      "metadata": {},
      "outputs": [],
      "source": [
        "#Latihan 2\n",
        "# readr is already loaded\n",
        "\n",
        "# Column names\n",
        "properties <- c(\"area\", \"temp\", \"size\", \"storage\", \"method\",\n",
        "                \"texture\", \"flavor\", \"moistness\")\n",
        "\n",
        "# Import 5 observations from potatoes.txt: potatoes_fragment\n",
        "potatoes_fragment <- read_tsv(\"potatoes.txt\", skip = 6, n_max = 5, col_names = properties)\n"
      ]
    },
    {
      "cell_type": "code",
      "execution_count": null,
      "id": "07b3fa9d-0cf6-4b7c-b0f5-bbceb00fc654",
      "metadata": {},
      "outputs": [],
      "source": [
        "#Latihan 3\n",
        "# readr is already loaded\n",
        "\n",
        "# Column names\n",
        "properties <- c(\"area\", \"temp\", \"size\", \"storage\", \"method\",\n",
        "                \"texture\", \"flavor\", \"moistness\")\n",
        "\n",
        "# Import all data, but force all columns to be character: potatoes_char\n",
        "potatoes_char <- read_tsv(\"potatoes.txt\", col_types = \"cccccccc\", col_names = properties)\n",
        "\n",
        "# Print out structure of potatoes_char\n",
        "str(potatoes_char)"
      ]
    },
    {
      "cell_type": "code",
      "execution_count": null,
      "id": "af836042-50a1-4224-a867-53b2969b6748",
      "metadata": {},
      "outputs": [],
      "source": [
        "#Latihan 4\n",
        "# readr is already loaded\n",
        "\n",
        "# Import without col_types\n",
        "hotdogs <- read_tsv(\"hotdogs.txt\", col_names = c(\"type\", \"calories\", \"sodium\"))\n",
        "\n",
        "# Display the summary of hotdogs\n",
        "summary(hotdogs)\n",
        "\n",
        "# The collectors you will need to import the data\n",
        "fac <- col_factor(levels = c(\"Beef\", \"Meat\", \"Poultry\"))\n",
        "int <- col_integer()\n",
        "\n",
        "# Edit the col_types argument to import the data correctly: hotdogs_factor\n",
        "hotdogs_factor <- read_tsv(\"hotdogs.txt\",\n",
        "                           col_names = c(\"type\", \"calories\", \"sodium\"),\n",
        "                           col_types = list(fac, int, int))\n",
        "\n",
        "# Display the summary of hotdogs_factor\n",
        "summary(hotdogs_factor)\n"
      ]
    },
    {
      "cell_type": "markdown",
      "id": "de354015-0a98-4242-9ffd-8590150b5b42",
      "metadata": {},
      "source": [
        "data.table: fread"
      ]
    },
    {
      "cell_type": "code",
      "execution_count": null,
      "id": "a7bd4f16-0208-44c9-ab10-f3262ba988a5",
      "metadata": {},
      "outputs": [],
      "source": [
        "#Latihan 1\n",
        "# load the data.table package\n",
        "library(data.table)\n",
        "\n",
        "# Import potatoes.csv with fread(): potatoes\n",
        "potatoes <- fread(\"potatoes.csv\")\n",
        "\n",
        "# Print out potatoes\n",
        "potatoes\n"
      ]
    },
    {
      "cell_type": "code",
      "execution_count": null,
      "id": "e43d247f-1049-47d1-b7ae-2d32b8c5071a",
      "metadata": {},
      "outputs": [],
      "source": [
        "#Latihan 2\n",
        "# fread is already loaded\n",
        "\n",
        "# Import columns 6 and 8 of potatoes.csv: potatoes\n",
        "potatoes <- fread(\"potatoes.csv\", select = c(6, 8))\n",
        "\n",
        "# Plot texture (x) and moistness (y) of potatoes\n",
        "plot(potatoes$texture, potatoes$moistness)"
      ]
    }
  ],
  "metadata": {
    "kernelspec": {
      "display_name": "Pyolite",
      "language": "python",
      "name": "python"
    },
    "language_info": {
      "codemirror_mode": {
        "name": "python",
        "version": 3
      },
      "file_extension": ".py",
      "mimetype": "text/x-python",
      "name": "python",
      "nbconvert_exporter": "python",
      "pygments_lexer": "ipython3",
      "version": "3.8"
    }
  },
  "nbformat": 4,
  "nbformat_minor": 5
}
