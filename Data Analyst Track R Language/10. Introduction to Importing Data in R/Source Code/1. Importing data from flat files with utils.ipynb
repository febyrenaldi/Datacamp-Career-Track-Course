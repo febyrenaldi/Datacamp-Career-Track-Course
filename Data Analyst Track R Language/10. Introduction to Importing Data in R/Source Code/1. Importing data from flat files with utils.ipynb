{
  "cells": [
    {
      "cell_type": "markdown",
      "id": "8b87d9be-262f-4902-86ea-a4931e5d32c8",
      "metadata": {},
      "source": [
        "Introduction & read.csv"
      ]
    },
    {
      "cell_type": "code",
      "execution_count": null,
      "id": "48319c0c-8230-4101-87e8-0b1ee7046b07",
      "metadata": {},
      "outputs": [],
      "source": [
        "#Latihan 1\n",
        "# Import swimming_pools.csv: pools\n",
        "pools <- read.csv(\"swimming_pools.csv\")\n",
        "\n",
        "# Show Data\n",
        "pools\n",
        "\n",
        "# Print the structure of pools\n",
        "str(pools)"
      ]
    },
    {
      "cell_type": "code",
      "execution_count": null,
      "id": "26723a80-8cbe-4011-a3af-ef3d225518a6",
      "metadata": {},
      "outputs": [],
      "source": [
        "#Latihan 2\n",
        "# Import swimming_pools.csv correctly: pools\n",
        "pools <- read.csv(\"swimming_pools.csv\", stringsAsFactors = FALSE)\n",
        "\n",
        "# Show Data\n",
        "pools\n",
        "\n",
        "# Check the structure of pools\n",
        "str(pools)\n"
      ]
    },
    {
      "cell_type": "markdown",
      "id": "0d2309ff-3e4f-4887-a4cf-9468b57dda63",
      "metadata": {},
      "source": [
        "read.delim & read.table"
      ]
    },
    {
      "cell_type": "code",
      "execution_count": null,
      "id": "813a31fe-6df2-433c-8f8c-04e576ab31dc",
      "metadata": {},
      "outputs": [],
      "source": [
        "#Latihan 1\n",
        "# Import hotdogs.txt: hotdogs\n",
        "hotdogs <- read.delim(\"hotdogs.txt\", header = FALSE)\n",
        "\n",
        "# Summarize hotdogs\n",
        "summary(hotdogs)"
      ]
    },
    {
      "cell_type": "code",
      "execution_count": null,
      "id": "f2dfbf05-713c-495f-8b0f-4f9bd539cd3b",
      "metadata": {},
      "outputs": [],
      "source": [
        "#Latihan 2\n",
        "# Path to the hotdogs.txt file: path\n",
        "path <- file.path(\"data\", \"hotdogs.txt\")\n",
        "\n",
        "# Import the hotdogs.txt file: hotdogs\n",
        "hotdogs <- read.table(path, \n",
        "                      sep = \"\\t\", \n",
        "                      col.names = c(\"type\", \"calories\", \"sodium\"))\n",
        "\n",
        "# Call head() on hotdogs\n",
        "head(hotdogs)"
      ]
    },
    {
      "cell_type": "code",
      "execution_count": null,
      "id": "a4efaf88-b36a-4a78-9741-d35d651908cc",
      "metadata": {},
      "outputs": [],
      "source": [
        "#Latihan 3\n",
        "# Finish the read.delim() call\n",
        "hotdogs <- read.delim(\"hotdogs.txt\", header = FALSE, col.names = c(\"type\", \"calories\", \"sodium\"))\n",
        "\n",
        "# Select the hot dog with the least calories: lily\n",
        "lily <- hotdogs[which.min(hotdogs$calories), ]\n",
        "\n",
        "# Select the observation with the most sodium: tom\n",
        "tom <- hotdogs[which.max(hotdogs$sodium), ]\n",
        "\n",
        "# Print lily and tom\n",
        "lily\n",
        "tom"
      ]
    },
    {
      "cell_type": "code",
      "execution_count": null,
      "id": "1ae5830c-b42b-43fb-844b-b615f47cf573",
      "metadata": {},
      "outputs": [],
      "source": [
        "#Latihan 4\n",
        "# Previous call to import hotdogs.txt\n",
        "hotdogs <- read.delim(\"hotdogs.txt\", header = FALSE, col.names = c(\"type\", \"calories\", \"sodium\"))\n",
        "\n",
        "# SHow the Data\n",
        "hotdogs\n",
        "\n",
        "# Display structure of hotdogs\n",
        "str(hotdogs)\n",
        "\n",
        "# Edit the colClasses argument to import the data correctly: hotdogs2\n",
        "hotdogs2 <- read.delim(\"hotdogs.txt\", header = FALSE, \n",
        "                       col.names = c(\"type\", \"calories\", \"sodium\"),\n",
        "                       colClasses = c(\"factor\", \"NULL\", \"numeric\"))\n",
        "\n",
        "# Show the Data\n",
        "hotdogs2\n",
        "\n",
        "# Display structure of hotdogs2\n",
        "str(hotdogs2)"
      ]
    }
  ],
  "metadata": {
    "kernelspec": {
      "display_name": "Pyolite",
      "language": "python",
      "name": "python"
    },
    "language_info": {
      "codemirror_mode": {
        "name": "python",
        "version": 3
      },
      "file_extension": ".py",
      "mimetype": "text/x-python",
      "name": "python",
      "nbconvert_exporter": "python",
      "pygments_lexer": "ipython3",
      "version": "3.8"
    }
  },
  "nbformat": 4,
  "nbformat_minor": 5
}
