{
  "cells": [
    {
      "cell_type": "markdown",
      "id": "b5de4c00-54c5-4dda-b588-7e3b4bdd4b94",
      "metadata": {},
      "source": [
        "readxl (1)"
      ]
    },
    {
      "cell_type": "code",
      "execution_count": null,
      "id": "2761f533-0c4e-409c-80a8-90b5d53dffb3",
      "metadata": {},
      "outputs": [],
      "source": [
        "#Latihan 1\n",
        "# Load the readxl package\n",
        "library(readxl)\n",
        "\n",
        "# Print out the names of both spreadsheets\n",
        "excel_sheets(\"urbanpop.xlsx\")"
      ]
    },
    {
      "cell_type": "code",
      "execution_count": null,
      "id": "3bca71b3-47e6-44be-abfc-82cac6dbf120",
      "metadata": {},
      "outputs": [],
      "source": [
        "#Latihan 2\n",
        "# The readxl package is already loaded\n",
        "\n",
        "# Read the sheets, one by one\n",
        "pop_1 <- read_excel(\"urbanpop.xlsx\", sheet = 1)\n",
        "pop_2 <- read_excel(\"urbanpop.xlsx\", sheet = 2)\n",
        "pop_3 <- read_excel(\"urbanpop.xlsx\", sheet = 3)\n",
        "\n",
        "# Put pop_1, pop_2 and pop_3 in a list: pop_list\n",
        "pop_list <- list(pop_1, pop_2, pop_3)\n",
        "\n",
        "# Display the structure of pop_list\n",
        "str(pop_list)"
      ]
    },
    {
      "cell_type": "code",
      "execution_count": null,
      "id": "28b41bdb-f066-4e98-aa90-1ea66b673e0e",
      "metadata": {},
      "outputs": [],
      "source": [
        "#Latihan 3\n",
        "# The readxl package is already loaded\n",
        "\n",
        "# Read all Excel sheets with lapply(): pop_list\n",
        "pop_list <- lapply(excel_sheets(\"urbanpop.xlsx\"), read_excel, path = \"urbanpop.xlsx\")\n",
        "\n",
        "# Show Excel Data\n",
        "pop_list\n",
        "\n",
        "# Display the structure of pop_list\n",
        "str(pop_list)"
      ]
    },
    {
      "cell_type": "markdown",
      "id": "cd120b0b-d322-452c-bd09-e88f0382d521",
      "metadata": {},
      "source": [
        "readxl (2)"
      ]
    },
    {
      "cell_type": "code",
      "execution_count": null,
      "id": "837b1ff9-4be9-41cb-bf74-a5dc7389f0d2",
      "metadata": {},
      "outputs": [],
      "source": [
        "#Latihan 1\n",
        "# The readxl package is already loaded\n",
        "\n",
        "# Import the the first Excel sheet of urbanpop_nonames.xlsx (R gives names): pop_a\n",
        "pop_a <- read_excel(\"urbanpop_nonames.xlsx\", col_names = FALSE)\n",
        "pop_a\n",
        "\n",
        "# Import the the first Excel sheet of urbanpop_nonames.xlsx (specify col_names): pop_b\n",
        "cols <- c(\"country\", paste0(\"year_\", 1960:1966))\n",
        "pop_b <- read_excel(\"urbanpop_nonames.xlsx\", col_names = cols)\n",
        "pop_b\n",
        "\n",
        "# Print the summary of pop_a\n",
        "summary(pop_a)\n",
        "\n",
        "# Print the summary of pop_b\n",
        "summary(pop_b)"
      ]
    },
    {
      "cell_type": "code",
      "execution_count": null,
      "id": "3becaba9-588a-46c2-878d-1b374469cde0",
      "metadata": {},
      "outputs": [],
      "source": [
        "#Latihan 2\n",
        "# The readxl package is already loaded\n",
        "\n",
        "# Import the second sheet of urbanpop.xlsx, skipping the first 21 rows: urbanpop_sel\n",
        "urbanpop_sel <- read_excel(\"urbanpop.xlsx\", sheet = 2, col_names = FALSE, skip = 21)\n",
        "\n",
        "# Print out the first observation from urbanpop_sel\n",
        "urbanpop_sel[1,]\n"
      ]
    },
    {
      "cell_type": "markdown",
      "id": "a71a0258-7c8b-4da8-bd6d-d5d7760eb663",
      "metadata": {},
      "source": [
        "gdata"
      ]
    },
    {
      "cell_type": "code",
      "execution_count": null,
      "id": "8b861c3a-5806-48a8-b61f-d7072bb91916",
      "metadata": {},
      "outputs": [],
      "source": [
        "#Latihan 1\n",
        "# Load the gdata package\n",
        "library(gdata)\n",
        "\n",
        "# Import the second sheet of urbanpop.xls: urban_pop\n",
        "urban_pop <- read.xls(\"urbanpop.xls\", sheet = \"1967-1974\")\n",
        "\n",
        "# Print the first 11 observations using head()\n",
        "head(urban_pop, n = 11)"
      ]
    },
    {
      "cell_type": "code",
      "execution_count": null,
      "id": "10a7e0be-a31d-46ea-9802-e72ec4e1ba5f",
      "metadata": {},
      "outputs": [],
      "source": [
        "#Latihan 2\n",
        "# The gdata package is alreaded loaded\n",
        "\n",
        "# Column names for urban_pop\n",
        "columns <- c(\"country\", paste0(\"year_\", 1967:1974))\n",
        "\n",
        "# Finish the read.xls call\n",
        "urban_pop <- read.xls(\"urbanpop.xls\", sheet = 2,\n",
        "                      skip = 50, header = FALSE, stringsAsFactors = FALSE,\n",
        "                      col.names = columns)\n",
        "\n",
        "# Print first 10 observation of urban_pop\n",
        "head(urban_pop, n = 10)"
      ]
    },
    {
      "cell_type": "code",
      "execution_count": null,
      "id": "e2dee448-c273-4459-ba07-3c8497cdf4f3",
      "metadata": {},
      "outputs": [],
      "source": [
        "#Latihan 3\n",
        "# Import all sheets from urbanpop.xls\n",
        "path <- \"urbanpop.xls\"\n",
        "urban_sheet1 <- read.xls(path, sheet = 1, stringsAsFactors = FALSE)\n",
        "urban_sheet2 <- read.xls(path, sheet = 2, stringsAsFactors = FALSE)\n",
        "urban_sheet3 <- read.xls(path, sheet = 3, stringsAsFactors = FALSE)\n",
        "\n",
        "# Extend the cbind() call to include urban_sheet3: urban_all\n",
        "urban <- cbind(urban_sheet1, urban_sheet2[-1], urban_sheet3[-1])\n",
        "\n",
        "# Remove all rows with NAs from urban: urban_clean\n",
        "urban_clean <- na.omit(urban)\n",
        "\n",
        "# Print out a summary of urban_clean\n",
        "summary(urban_clean)"
      ]
    }
  ],
  "metadata": {
    "kernelspec": {
      "display_name": "Pyolite",
      "language": "python",
      "name": "python"
    },
    "language_info": {
      "codemirror_mode": {
        "name": "python",
        "version": 3
      },
      "file_extension": ".py",
      "mimetype": "text/x-python",
      "name": "python",
      "nbconvert_exporter": "python",
      "pygments_lexer": "ipython3",
      "version": "3.8"
    }
  },
  "nbformat": 4,
  "nbformat_minor": 5
}
