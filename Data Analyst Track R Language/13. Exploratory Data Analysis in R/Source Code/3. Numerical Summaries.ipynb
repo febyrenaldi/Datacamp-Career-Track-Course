{
  "cells": [
    {
      "cell_type": "markdown",
      "metadata": {},
      "source": [
        "Measures of center"
      ]
    },
    {
      "cell_type": "code",
      "execution_count": null,
      "metadata": {},
      "outputs": [],
      "source": [
        "# Latihan 1\n",
        "# Create dataset of 2007 data\n",
        "gap2007 <- filter(gapminder, year == 2007)\n",
        "\n",
        "# Compute groupwise mean and median lifeExp\n",
        "gap2007 %>%\n",
        "  group_by(continent) %>%\n",
        "  summarize(mean(lifeExp),\n",
        "            median(lifeExp))\n",
        "\n",
        "# Generate box plots of lifeExp for each continent\n",
        "gap2007 %>%\n",
        "  ggplot(aes(x = continent, y = lifeExp)) +\n",
        "  geom_boxplot()"
      ]
    },
    {
      "cell_type": "markdown",
      "metadata": {},
      "source": [
        "Measures of variability"
      ]
    },
    {
      "cell_type": "code",
      "execution_count": null,
      "metadata": {},
      "outputs": [],
      "source": [
        "# Latihan 1\n",
        "# Compute groupwise measures of spread\n",
        "gap2007 %>%\n",
        "  group_by(continent) %>%\n",
        "  summarize(sd(lifeExp),\n",
        "            IQR(lifeExp),\n",
        "            n())\n",
        "\n",
        "# Generate overlaid density plots\n",
        "gap2007 %>%\n",
        "  ggplot(aes(x = lifeExp, fill = continent)) +\n",
        "  geom_density(alpha = 0.3)"
      ]
    },
    {
      "cell_type": "code",
      "execution_count": null,
      "metadata": {},
      "outputs": [],
      "source": [
        "# Latihan 2\n",
        "# Compute stats for lifeExp in Americas\n",
        "gap2007 %>%\n",
        "  filter(continent == \"Americas\") %>%\n",
        "  summarize(mean(lifeExp),\n",
        "            sd(lifeExp))\n",
        "\n",
        "# Compute stats for population\n",
        "gap2007 %>%\n",
        "  summarize(median(pop),\n",
        "            IQR(pop))"
      ]
    },
    {
      "cell_type": "markdown",
      "metadata": {},
      "source": [
        "Shape and transformations"
      ]
    },
    {
      "cell_type": "code",
      "execution_count": null,
      "metadata": {},
      "outputs": [],
      "source": [
        "# Latihan 1\n",
        "# Create density plot of old variable\n",
        "gap2007 %>%\n",
        "  ggplot(aes(x = pop)) +\n",
        "  geom_density()\n",
        "\n",
        "# Transform the skewed pop variable\n",
        "gap2007 <- gap2007 %>%\n",
        "  mutate(log_pop = log(pop))\n",
        "\n",
        "# Create density plot of new variable\n",
        "gap2007 %>%\n",
        "  ggplot(aes(x = log_pop)) +\n",
        "  geom_density()"
      ]
    },
    {
      "cell_type": "markdown",
      "metadata": {},
      "source": [
        "Outliers"
      ]
    },
    {
      "cell_type": "code",
      "execution_count": null,
      "metadata": {},
      "outputs": [],
      "source": [
        "# Latihan 1\n",
        "# Filter for Asia, add column indicating outliers\n",
        "gap_asia <- gap2007 %>%\n",
        "  filter(continent == \"Asia\") %>%\n",
        "  mutate(is_outlier = lifeExp < 50)\n",
        "\n",
        "# Remove outliers, create box plot of lifeExp\n",
        "gap_asia %>%\n",
        "  filter(!is_outlier) %>%\n",
        "  ggplot(aes(x = 1, y = lifeExp)) +\n",
        "  geom_boxplot()"
      ]
    }
  ],
  "metadata": {
    "kernelspec": {
      "display_name": "Python 3.10.4 64-bit",
      "language": "python",
      "name": "python3"
    },
    "language_info": {
      "codemirror_mode": {
        "name": "python",
        "version": 3
      },
      "file_extension": ".py",
      "mimetype": "text/x-python",
      "name": "python",
      "nbconvert_exporter": "python",
      "pygments_lexer": "ipython3",
      "version": "3.10.4"
    },
    "vscode": {
      "interpreter": {
        "hash": "d3e10ef16274dd72e574b8fa73b58450b957d8421a2901baded3cca26fcf5dda"
      }
    }
  },
  "nbformat": 4,
  "nbformat_minor": 4
}
