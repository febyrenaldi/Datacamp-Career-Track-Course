{
  "cells": [
    {
      "cell_type": "markdown",
      "metadata": {},
      "source": [
        "Exploring numerical data"
      ]
    },
    {
      "cell_type": "code",
      "execution_count": null,
      "metadata": {},
      "outputs": [],
      "source": [
        "# Latihan 1\n",
        "# Load package\n",
        "library(ggplot2)\n",
        "\n",
        "# Learn data structure\n",
        "str(cars)\n",
        "\n",
        "# Create faceted histogram\n",
        "ggplot(cars, aes(x = city_mpg)) +\n",
        "  geom_histogram() +\n",
        "  facet_wrap(~ suv)"
      ]
    },
    {
      "cell_type": "code",
      "execution_count": null,
      "metadata": {},
      "outputs": [],
      "source": [
        "# Latihan 2\n",
        "# Filter cars with 4, 6, 8 cylinders\n",
        "common_cyl <- filter(cars, ncyl %in% c(4,6,8))\n",
        "\n",
        "# Create box plots of city mpg by ncyl\n",
        "ggplot(common_cyl, aes(x = as.factor(ncyl), y = city_mpg)) +\n",
        "  geom_boxplot()\n",
        "\n",
        "\n",
        "# Create overlaid density plots for same data\n",
        "ggplot(common_cyl, aes(x = city_mpg, fill = as.factor(ncyl))) +\n",
        "  geom_density(alpha = .3)"
      ]
    },
    {
      "cell_type": "markdown",
      "metadata": {},
      "source": [
        "Distribution of one variable"
      ]
    },
    {
      "cell_type": "code",
      "execution_count": null,
      "metadata": {},
      "outputs": [],
      "source": [
        "# Latihan 1\n",
        "# Create hist of horsepwr\n",
        "cars %>%\n",
        "  ggplot(aes(horsepwr)) +\n",
        "  geom_histogram() +\n",
        "  ggtitle(\"Horsepower distribution\")\n",
        "\n",
        "# Create hist of horsepwr for affordable cars\n",
        "cars %>% \n",
        "  filter(msrp < 25000) %>%\n",
        "  ggplot(aes(horsepwr)) +\n",
        "  geom_histogram() +\n",
        "  xlim(c(90, 550)) +\n",
        "  ggtitle(\"Horsepower distribtion for msrp < 25000\")"
      ]
    },
    {
      "cell_type": "code",
      "execution_count": null,
      "metadata": {},
      "outputs": [],
      "source": [
        "# Latihan 2\n",
        "# Create hist of horsepwr with binwidth of 3\n",
        "cars %>%\n",
        "  ggplot(aes(horsepwr)) +\n",
        "  geom_histogram(binwidth = 3) +\n",
        "  ggtitle(\"binwidth = 3\")\n",
        "\n",
        "# Create hist of horsepwr with binwidth of 30\n",
        "cars %>%\n",
        "  ggplot(aes(horsepwr)) +\n",
        "  geom_histogram(binwidth = 30) +\n",
        "  ggtitle(\"binwidth = 30\")\n",
        "\n",
        "# Create hist of horsepwr with binwidth of 60\n",
        "cars %>%\n",
        "  ggplot(aes(horsepwr)) +\n",
        "  geom_histogram(binwidth = 60) +\n",
        "  ggtitle(\"binwidth = 60\")\n",
        "\n"
      ]
    },
    {
      "cell_type": "markdown",
      "metadata": {},
      "source": [
        "Box plots"
      ]
    },
    {
      "cell_type": "code",
      "execution_count": null,
      "metadata": {},
      "outputs": [],
      "source": [
        "# Latihan 1\n",
        "# Construct box plot of msrp\n",
        "cars %>%\n",
        "  ggplot(aes(x = 1, y = msrp)) +\n",
        "  geom_boxplot()\n",
        "\n",
        "# Exclude outliers from data\n",
        "cars_no_out <- cars %>%\n",
        "  filter(msrp < 100000)\n",
        "\n",
        "# Construct box plot of msrp using the reduced dataset\n",
        "cars_no_out %>%\n",
        "  ggplot(aes(x = 1, y = msrp)) +\n",
        "  geom_boxplot()"
      ]
    },
    {
      "cell_type": "code",
      "execution_count": null,
      "metadata": {},
      "outputs": [],
      "source": [
        "# Latihan 2\n",
        "# Create plot of city_mpg\n",
        "cars %>%\n",
        "  ggplot(aes(x = 1, y = city_mpg)) +\n",
        "  geom_boxplot()\n",
        "\n",
        "# Create plot of width\n",
        "cars %>% \n",
        "  ggplot(aes(x = width)) +\n",
        "  geom_density()"
      ]
    },
    {
      "cell_type": "markdown",
      "metadata": {},
      "source": [
        "Visualization in higher dimensions"
      ]
    },
    {
      "cell_type": "code",
      "execution_count": null,
      "metadata": {},
      "outputs": [],
      "source": [
        "# Latihan 1\n",
        "# Facet hists using hwy mileage and ncyl\n",
        "common_cyl %>%\n",
        "  ggplot(aes(x = hwy_mpg)) +\n",
        "  geom_histogram() +\n",
        "  facet_grid(ncyl ~ suv) +\n",
        "  ggtitle(\"hwy_mpg by ncyl and suv\")"
      ]
    }
  ],
  "metadata": {
    "kernelspec": {
      "display_name": "Python 3.10.4 64-bit",
      "language": "python",
      "name": "python3"
    },
    "language_info": {
      "codemirror_mode": {
        "name": "python",
        "version": 3
      },
      "file_extension": ".py",
      "mimetype": "text/x-python",
      "name": "python",
      "nbconvert_exporter": "python",
      "pygments_lexer": "ipython3",
      "version": "3.10.4"
    },
    "vscode": {
      "interpreter": {
        "hash": "d3e10ef16274dd72e574b8fa73b58450b957d8421a2901baded3cca26fcf5dda"
      }
    }
  },
  "nbformat": 4,
  "nbformat_minor": 4
}
