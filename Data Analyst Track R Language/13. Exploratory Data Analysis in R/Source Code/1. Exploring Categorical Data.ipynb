{
  "cells": [
    {
      "cell_type": "markdown",
      "metadata": {},
      "source": [
        "Exploring categorical data"
      ]
    },
    {
      "cell_type": "code",
      "execution_count": null,
      "metadata": {},
      "outputs": [],
      "source": [
        "# Latihan 1\n",
        "# Print the comics data\n",
        "head(comics)\n",
        "\n",
        "# Check levels of align\n",
        "levels(comics$align)\n",
        "\n",
        "# Check the levels of gender\n",
        "levels(comics$gender)\n",
        "\n",
        "# Create a 2-way contingency table\n",
        "table(comics$align, comics$gender)\n",
        "\n",
        "comics"
      ]
    },
    {
      "cell_type": "code",
      "execution_count": null,
      "metadata": {},
      "outputs": [],
      "source": [
        "# Latihan 2\n",
        "# Load dplyr\n",
        "library(dplyr)\n",
        "\n",
        "# Print tab\n",
        "tab <- table(comics$align, comics$gender)\n",
        "tab\n",
        "\n",
        "# Remove align level\n",
        "comics_filtered <- comics %>%\n",
        "  filter(align != \"Reformed Criminals\") %>%\n",
        "  droplevels()\n",
        "\n",
        "# See the result\n",
        "comics_filtered"
      ]
    },
    {
      "cell_type": "code",
      "execution_count": null,
      "metadata": {},
      "outputs": [],
      "source": [
        "# Latihan 3\n",
        "# Load ggplot2\n",
        "library(ggplot2)\n",
        "\n",
        "# Create side-by-side barchart of gender by alignment\n",
        "ggplot(comics, aes(x = align, fill = gender)) + \n",
        "  geom_bar(position = \"dodge\")\n",
        "\n",
        "# Create side-by-side barchart of alignment by gender\n",
        "ggplot(comics, aes(x = gender, fill = align)) + \n",
        "  geom_bar(position = \"dodge\") +\n",
        "  theme(axis.text.x = element_text(angle = 90))"
      ]
    },
    {
      "cell_type": "markdown",
      "metadata": {},
      "source": [
        "Counts vs. proportions"
      ]
    },
    {
      "cell_type": "code",
      "execution_count": null,
      "metadata": {},
      "outputs": [],
      "source": [
        "# Latihan 1\n",
        "# Plot of gender by align\n",
        "ggplot(comics, aes(x = align, fill = gender)) +\n",
        "  geom_bar()\n",
        "  \n",
        "# Plot proportion of gender, conditional on align\n",
        "ggplot(comics, aes(x = align, fill = gender)) + \n",
        "  geom_bar(position = \"fill\") +\n",
        "  ylab(\"proportion\")"
      ]
    },
    {
      "cell_type": "markdown",
      "metadata": {},
      "source": [
        "Distribution of one variable"
      ]
    },
    {
      "cell_type": "code",
      "execution_count": null,
      "metadata": {},
      "outputs": [],
      "source": [
        "# Latihan 1\n",
        "# Change the order of the levels in align\n",
        "comics$align <- factor(comics$align, \n",
        "                       levels = c(\"Bad\", \"Neutral\", \"Good\"))\n",
        "\n",
        "# Create plot of align\n",
        "ggplot(comics, aes(x = align)) + \n",
        "  geom_bar()"
      ]
    },
    {
      "cell_type": "code",
      "execution_count": null,
      "metadata": {},
      "outputs": [],
      "source": [
        "# Latihan 2\n",
        "# Plot of alignment broken down by gender\n",
        "ggplot(comics, aes(x = align)) + \n",
        "  geom_bar() +\n",
        "  facet_wrap(~ gender)"
      ]
    },
    {
      "cell_type": "code",
      "execution_count": null,
      "metadata": {},
      "outputs": [],
      "source": [
        "# Latihan 3\n",
        "# Put levels of flavor in descending order\n",
        "lev <- c(\"apple\", \"key lime\", \"boston creme\", \"blueberry\", \"cherry\", \"pumpkin\", \"strawberry\")\n",
        "pies$flavor <- factor(pies$flavor, levels = lev)\n",
        "\n",
        "# Create barchart of flavor\n",
        "ggplot(pies, aes(x = flavor)) + \n",
        "  geom_bar(fill = \"chartreuse\") + \n",
        "  theme(axis.text.x = element_text(angle = 90))"
      ]
    },
    {
      "cell_type": "markdown",
      "metadata": {},
      "source": [
        "Exploring numerical data"
      ]
    },
    {
      "cell_type": "code",
      "execution_count": null,
      "metadata": {},
      "outputs": [],
      "source": [
        "# Latihan 1\n",
        "# Load package\n",
        "library(ggplot2)\n",
        "\n",
        "# Learn data structure\n",
        "str(cars)\n",
        "\n",
        "# Create faceted histogram\n",
        "ggplot(cars, aes(x = city_mpg)) +\n",
        "  geom_histogram() +\n",
        "  facet_wrap(~ suv)"
      ]
    },
    {
      "cell_type": "code",
      "execution_count": null,
      "metadata": {},
      "outputs": [],
      "source": [
        "# Latihan 2\n",
        "# Filter cars with 4, 6, 8 cylinders\n",
        "common_cyl <- filter(cars, ncyl %in% c(4,6,8))\n",
        "\n",
        "# Create box plots of city mpg by ncyl\n",
        "ggplot(common_cyl, aes(x = as.factor(ncyl), y = city_mpg)) +\n",
        "  geom_boxplot()\n",
        "\n",
        "\n",
        "# Create overlaid density plots for same data\n",
        "ggplot(common_cyl, aes(x = city_mpg, fill = as.factor(ncyl))) +\n",
        "  geom_density(alpha = .3)"
      ]
    },
    {
      "cell_type": "markdown",
      "metadata": {},
      "source": [
        "Distribution of one variable"
      ]
    },
    {
      "cell_type": "code",
      "execution_count": null,
      "metadata": {},
      "outputs": [],
      "source": [
        "# Latihan 1\n",
        "# Create hist of horsepwr\n",
        "cars %>%\n",
        "  ggplot(aes(horsepwr)) +\n",
        "  geom_histogram() +\n",
        "  ggtitle(\"Horsepower distribution\")\n",
        "\n",
        "# Create hist of horsepwr for affordable cars\n",
        "cars %>% \n",
        "  filter(msrp < 25000) %>%\n",
        "  ggplot(aes(horsepwr)) +\n",
        "  geom_histogram() +\n",
        "  xlim(c(90, 550)) +\n",
        "  ggtitle(\"Horsepower distribtion for msrp < 25000\")"
      ]
    },
    {
      "cell_type": "code",
      "execution_count": null,
      "metadata": {},
      "outputs": [],
      "source": [
        "# Latihan 2\n",
        "# Create hist of horsepwr with binwidth of 3\n",
        "cars %>%\n",
        "  ggplot(aes(horsepwr)) +\n",
        "  geom_histogram(binwidth = 3) +\n",
        "  ggtitle(\"binwidth = 3\")\n",
        "\n",
        "# Create hist of horsepwr with binwidth of 30\n",
        "cars %>%\n",
        "  ggplot(aes(horsepwr)) +\n",
        "  geom_histogram(binwidth = 30) +\n",
        "  ggtitle(\"binwidth = 30\")\n",
        "\n",
        "# Create hist of horsepwr with binwidth of 60\n",
        "cars %>%\n",
        "  ggplot(aes(horsepwr)) +\n",
        "  geom_histogram(binwidth = 60) +\n",
        "  ggtitle(\"binwidth = 60\")\n",
        "\n"
      ]
    },
    {
      "cell_type": "markdown",
      "metadata": {},
      "source": [
        "Box plots"
      ]
    },
    {
      "cell_type": "code",
      "execution_count": null,
      "metadata": {},
      "outputs": [],
      "source": [
        "# Latihan 1\n",
        "# Construct box plot of msrp\n",
        "cars %>%\n",
        "  ggplot(aes(x = 1, y = msrp)) +\n",
        "  geom_boxplot()\n",
        "\n",
        "# Exclude outliers from data\n",
        "cars_no_out <- cars %>%\n",
        "  filter(msrp < 100000)\n",
        "\n",
        "# Construct box plot of msrp using the reduced dataset\n",
        "cars_no_out %>%\n",
        "  ggplot(aes(x = 1, y = msrp)) +\n",
        "  geom_boxplot()"
      ]
    },
    {
      "cell_type": "code",
      "execution_count": null,
      "metadata": {},
      "outputs": [],
      "source": [
        "# Latihan 2\n",
        "# Create plot of city_mpg\n",
        "cars %>%\n",
        "  ggplot(aes(x = 1, y = city_mpg)) +\n",
        "  geom_boxplot()\n",
        "\n",
        "# Create plot of width\n",
        "cars %>% \n",
        "  ggplot(aes(x = width)) +\n",
        "  geom_density()"
      ]
    },
    {
      "cell_type": "markdown",
      "metadata": {},
      "source": [
        "Visualization in higher dimensions"
      ]
    },
    {
      "cell_type": "code",
      "execution_count": null,
      "metadata": {},
      "outputs": [],
      "source": [
        "# Latihan 1\n",
        "# Facet hists using hwy mileage and ncyl\n",
        "common_cyl %>%\n",
        "  ggplot(aes(x = hwy_mpg)) +\n",
        "  geom_histogram() +\n",
        "  facet_grid(ncyl ~ suv) +\n",
        "  ggtitle(\"hwy_mpg by ncyl and suv\")"
      ]
    }
  ],
  "metadata": {
    "kernelspec": {
      "display_name": "Python 3.10.4 64-bit",
      "language": "python",
      "name": "python3"
    },
    "language_info": {
      "codemirror_mode": {
        "name": "python",
        "version": 3
      },
      "file_extension": ".py",
      "mimetype": "text/x-python",
      "name": "python",
      "nbconvert_exporter": "python",
      "pygments_lexer": "ipython3",
      "version": "3.10.4"
    },
    "vscode": {
      "interpreter": {
        "hash": "d3e10ef16274dd72e574b8fa73b58450b957d8421a2901baded3cca26fcf5dda"
      }
    }
  },
  "nbformat": 4,
  "nbformat_minor": 4
}
