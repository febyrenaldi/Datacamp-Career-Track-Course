{
  "cells": [
    {
      "cell_type": "markdown",
      "metadata": {},
      "source": [
        "Introducing the data"
      ]
    },
    {
      "cell_type": "code",
      "execution_count": null,
      "metadata": {},
      "outputs": [],
      "source": [
        "# Latihan 1\n",
        "# Load packages\n",
        "library(openintro)\n",
        "library(ggplot2)\n",
        "library(dplyr)\n",
        "\n",
        "# Compute summary statistics\n",
        "email %>%\n",
        "  group_by(spam) %>%\n",
        "  summarize(median(num_char),\n",
        "            IQR(num_char))\n",
        "\n",
        "# Create plot\n",
        "email %>%\n",
        "  mutate(log_num_char = log(num_char)) %>%\n",
        "  ggplot(aes(x = spam, y = log_num_char)) +\n",
        "  geom_boxplot()"
      ]
    },
    {
      "cell_type": "code",
      "execution_count": null,
      "metadata": {},
      "outputs": [],
      "source": [
        "# Latihan 2\n",
        "# Compute center and spread for exclaim_mess by spam\n",
        "email %>%\n",
        "  group_by(spam) %>%\n",
        "  summarize(\n",
        "    median(exclaim_mess),\n",
        "    IQR(exclaim_mess))  \n",
        "\n",
        "# Create plot for spam and exclaim_mess\n",
        "email %>%\n",
        "  mutate(log_exclaim_mess = log(exclaim_mess)) %>%\n",
        "  ggplot(aes(x = log_exclaim_mess)) + \n",
        "  geom_histogram() + \n",
        "  facet_wrap(~ spam)"
      ]
    },
    {
      "cell_type": "markdown",
      "metadata": {},
      "source": [
        "Check-in 1"
      ]
    },
    {
      "cell_type": "code",
      "execution_count": null,
      "metadata": {},
      "outputs": [],
      "source": [
        "# Latihan 1\n",
        "# Create plot of proportion of spam by image\n",
        "email %>%\n",
        "  mutate(has_image = image > 0) %>%\n",
        "  ggplot(aes(x = has_image, fill = spam)) +\n",
        "  geom_bar(position = \"fill\")"
      ]
    },
    {
      "cell_type": "code",
      "execution_count": null,
      "metadata": {},
      "outputs": [],
      "source": [
        "# Latihan 2\n",
        "# Test if images count as attachments\n",
        "sum(email$image > email$attach)"
      ]
    },
    {
      "cell_type": "code",
      "execution_count": null,
      "metadata": {},
      "outputs": [],
      "source": [
        "# Latihan 3\n",
        "# Question 1\n",
        "email %>%\n",
        "  filter(dollar > 0) %>%\n",
        "  group_by(spam) %>%\n",
        "  summarize(median(dollar))\n",
        "\n",
        "# Question 2\n",
        "email %>%\n",
        "  filter(dollar > 10) %>%\n",
        "  ggplot(aes(x = spam)) +\n",
        "  geom_bar()"
      ]
    },
    {
      "cell_type": "markdown",
      "metadata": {},
      "source": [
        "Check-in 2"
      ]
    },
    {
      "cell_type": "code",
      "execution_count": null,
      "metadata": {},
      "outputs": [],
      "source": [
        "# Latihan 1\n",
        "# Reorder levels\n",
        "email$number_reordered <- factor(email$number, levels = c(\"none\", \"small\", \"big\"))\n",
        "\n",
        "# Construct plot of number_reordered\n",
        "ggplot(email, aes(x = number_reordered)) +\n",
        "  geom_bar() +\n",
        "  facet_wrap(~ spam)"
      ]
    }
  ],
  "metadata": {
    "kernelspec": {
      "display_name": "Python 3.10.4 64-bit",
      "language": "python",
      "name": "python3"
    },
    "language_info": {
      "codemirror_mode": {
        "name": "python",
        "version": 3
      },
      "file_extension": ".py",
      "mimetype": "text/x-python",
      "name": "python",
      "nbconvert_exporter": "python",
      "pygments_lexer": "ipython3",
      "version": "3.10.4"
    },
    "vscode": {
      "interpreter": {
        "hash": "d3e10ef16274dd72e574b8fa73b58450b957d8421a2901baded3cca26fcf5dda"
      }
    }
  },
  "nbformat": 4,
  "nbformat_minor": 4
}
