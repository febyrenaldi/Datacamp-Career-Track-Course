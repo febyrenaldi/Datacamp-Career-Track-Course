{
  "cells": [
    {
      "cell_type": "markdown",
      "id": "4d0bcbdc",
      "metadata": {},
      "source": [
        "Matrices"
      ]
    },
    {
      "cell_type": "code",
      "execution_count": null,
      "id": "df8bd040-a68e-46a3-bdd6-4a51bf067e0d",
      "metadata": {},
      "outputs": [],
      "source": [
        "# Latihan 1\n",
        "# Construct a matrix with 3 rows that contain the numbers 1 up to 9\n",
        "matrix(1:9, byrow = TRUE, nrow = 3)"
      ]
    },
    {
      "cell_type": "code",
      "execution_count": null,
      "id": "51704bf8-3826-4223-875e-0e33efb542a6",
      "metadata": {},
      "outputs": [],
      "source": [
        "# Latihan 2\n",
        "# Box office Star Wars (in millions!)\n",
        "new_hope <- c(460.998, 314.4)\n",
        "empire_strikes <- c(290.475, 247.900)\n",
        "return_jedi <- c(309.306, 165.8)\n",
        "\n",
        "# Create box_office\n",
        "box_office <- c(new_hope, empire_strikes, return_jedi)\n",
        "\n",
        "# Construct star_wars_matrix\n",
        "star_wars_matrix <- matrix(box_office, nrow = 3, byrow = TRUE) "
      ]
    },
    {
      "cell_type": "code",
      "execution_count": null,
      "id": "8526f9df-2c37-47cf-8d17-776c8611ed41",
      "metadata": {},
      "outputs": [],
      "source": [
        "# Latihan 3\n",
        "# Box office Star Wars (in millions!)\n",
        "new_hope <- c(460.998, 314.4)\n",
        "empire_strikes <- c(290.475, 247.900)\n",
        "return_jedi <- c(309.306, 165.8)\n",
        "\n",
        "# Construct matrix\n",
        "star_wars_matrix <- matrix(c(new_hope, empire_strikes, return_jedi), nrow = 3, byrow = TRUE)\n",
        "\n",
        "# Vectors region and titles, used for naming\n",
        "region <- c(\"US\", \"non-US\")\n",
        "titles <- c(\"A New Hope\", \"The Empire Strikes Back\", \"Return of the Jedi\")\n",
        "\n",
        "# Name the columns with region\n",
        "colnames(star_wars_matrix) <- region\n",
        "\n",
        "# Name the rows with titles\n",
        "rownames(star_wars_matrix) <- titles\n",
        "\n",
        "# Print out star_wars_matrix\n",
        "star_wars_matrix"
      ]
    },
    {
      "cell_type": "code",
      "execution_count": null,
      "id": "3c3c9b49-5f3f-4c0b-8903-1aab910c1c41",
      "metadata": {},
      "outputs": [],
      "source": [
        "# Latihan 4\n",
        "# Construct star_wars_matrix\n",
        "box_office <- c(460.998, 314.4, 290.475, 247.900, 309.306, 165.8)\n",
        "region <- c(\"US\", \"non-US\")\n",
        "titles <- c(\"A New Hope\", \n",
        "            \"The Empire Strikes Back\", \n",
        "            \"Return of the Jedi\")\n",
        "               \n",
        "star_wars_matrix <- matrix(box_office, \n",
        "                      nrow = 3, byrow = TRUE,\n",
        "                      dimnames = list(titles, region))\n",
        "\n",
        "# Calculate worldwide box office figures\n",
        "worldwide_vector <- rowSums(star_wars_matrix)"
      ]
    },
    {
      "cell_type": "code",
      "execution_count": null,
      "id": "f11db4d3-97c0-480a-b2c8-ecaa3ff33980",
      "metadata": {},
      "outputs": [],
      "source": [
        "# Latihan 5\n",
        "# Construct star_wars_matrix\n",
        "box_office <- c(460.998, 314.4, 290.475, 247.900, 309.306, 165.8)\n",
        "region <- c(\"US\", \"non-US\")\n",
        "titles <- c(\"A New Hope\", \n",
        "            \"The Empire Strikes Back\", \n",
        "            \"Return of the Jedi\")\n",
        "               \n",
        "star_wars_matrix <- matrix(box_office, \n",
        "                      nrow = 3, byrow = TRUE,\n",
        "                      dimnames = list(titles, region))\n",
        "\n",
        "# The worldwide box office figures\n",
        "worldwide_vector <- rowSums(star_wars_matrix)\n",
        "\n",
        "# Bind the new variable worldwide_vector as a column to star_wars_matrix\n",
        "all_wars_matrix <- cbind(star_wars_matrix, worldwide_vector)"
      ]
    },
    {
      "cell_type": "code",
      "execution_count": null,
      "id": "7a268123-ebc6-442e-8e4d-8e8439070e48",
      "metadata": {},
      "outputs": [],
      "source": [
        "# Latihan 6\n",
        "# star_wars_matrix and star_wars_matrix2 are available in your workspace\n",
        "star_wars_matrix  \n",
        "star_wars_matrix2 \n",
        "\n",
        "# Combine both Star Wars trilogies in one matrix\n",
        "all_wars_matrix <- rbind(star_wars_matrix, star_wars_matrix2)"
      ]
    },
    {
      "cell_type": "code",
      "execution_count": null,
      "id": "d81e103f-c65c-402a-9ad5-67c5c302db52",
      "metadata": {},
      "outputs": [],
      "source": [
        "# Latihan 7\n",
        "# all_wars_matrix is available in your workspace\n",
        "all_wars_matrix\n",
        "\n",
        "# Total revenue for US and non-US\n",
        "total_revenue_vector <- colSums(all_wars_matrix)\n",
        "\n",
        "# Print out total_revenue_vector\n",
        "total_revenue_vector"
      ]
    },
    {
      "cell_type": "code",
      "execution_count": null,
      "id": "64ff9c98-058b-42f1-8e0f-06e4245f9211",
      "metadata": {},
      "outputs": [],
      "source": [
        "# Latihan 8\n",
        "# all_wars_matrix is available in your workspace\n",
        "all_wars_matrix\n",
        "\n",
        "# Select the non-US revenue for all movies\n",
        "non_us_all <- all_wars_matrix[,2]\n",
        "  \n",
        "# Average non-US revenue\n",
        "mean(non_us_all)\n",
        "  \n",
        "# Select the non-US revenue for first two movies\n",
        "non_us_some <- all_wars_matrix[1:2,2]\n",
        "  \n",
        "# Average non-US revenue for first two movies\n",
        "mean(non_us_some)"
      ]
    },
    {
      "cell_type": "code",
      "execution_count": null,
      "id": "57de6e56-cdbe-4ce4-9b5e-24befc168f82",
      "metadata": {},
      "outputs": [],
      "source": [
        "# Latihan 9\n",
        "# all_wars_matrix is available in your workspace\n",
        "all_wars_matrix\n",
        "\n",
        "# Estimate the visitors\n",
        "visitors <- all_wars_matrix / 5\n",
        "\n",
        "# Print the estimate to the console\n",
        "visitors"
      ]
    },
    {
      "cell_type": "code",
      "execution_count": null,
      "id": "597d5645-ad9a-46d1-99e9-78a3dc96c380",
      "metadata": {},
      "outputs": [],
      "source": [
        "# Latihan 10\n",
        "# all_wars_matrix and ticket_prices_matrix are available in your workspace\n",
        "all_wars_matrix\n",
        "ticket_prices_matrix\n",
        "\n",
        "# Estimated number of visitors\n",
        "visitors <- all_wars_matrix / ticket_prices_matrix\n",
        "\n",
        "# US visitors\n",
        "us_visitors <- visitors[ ,1]\n",
        "\n",
        "# Average number of US visitors\n",
        "mean(us_visitors)"
      ]
    }
  ],
  "metadata": {
    "kernelspec": {
      "display_name": "Pyolite",
      "language": "python",
      "name": "python"
    },
    "language_info": {
      "codemirror_mode": {
        "name": "python",
        "version": 3
      },
      "file_extension": ".py",
      "mimetype": "text/x-python",
      "name": "python",
      "nbconvert_exporter": "python",
      "pygments_lexer": "ipython3",
      "version": "3.8"
    }
  },
  "nbformat": 4,
  "nbformat_minor": 5
}
