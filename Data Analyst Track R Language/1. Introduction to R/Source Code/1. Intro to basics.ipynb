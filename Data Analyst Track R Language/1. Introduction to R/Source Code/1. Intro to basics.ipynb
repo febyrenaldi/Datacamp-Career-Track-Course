{
  "cells": [
    {
      "cell_type": "markdown",
      "id": "e9b74551",
      "metadata": {},
      "source": [
        "Intro to Basics"
      ]
    },
    {
      "cell_type": "code",
      "execution_count": null,
      "id": "c547489f-4703-4aad-9e33-fe9d09f335d2",
      "metadata": {},
      "outputs": [],
      "source": [
        "# Latihan 1\n",
        "# Calculate 3 + 4\n",
        "3 + 4\n",
        "\n",
        "# Calculate 6 + 12\n",
        "6+12"
      ]
    },
    {
      "cell_type": "code",
      "execution_count": null,
      "id": "be5fd10b-07b0-4fe1-98e0-f332d2e2d40c",
      "metadata": {
        "trusted": true
      },
      "outputs": [],
      "source": [
        "# Latihan 2\n",
        "# An addition\n",
        "5 + 5 \n",
        "\n",
        "# A subtraction\n",
        "5 - 5 \n",
        "\n",
        "# A multiplication\n",
        "3 * 5\n",
        "\n",
        " # A division\n",
        "(5 + 5) / 2 \n",
        "\n",
        "# Exponentiation\n",
        "2^5\n",
        "\n",
        "# Modulo\n",
        "28 %% 6"
      ]
    },
    {
      "cell_type": "code",
      "execution_count": null,
      "id": "13c358c6-f0ab-47e0-af0c-e71f6db305b4",
      "metadata": {},
      "outputs": [],
      "source": [
        "# Latihan 3\n",
        "# Assign the value 42 to x\n",
        "x <- 42\n",
        "\n",
        "# Print out the value of the variable x\n",
        "x"
      ]
    },
    {
      "cell_type": "code",
      "execution_count": null,
      "id": "7951f972-7736-4079-a355-a4949f42cb2c",
      "metadata": {},
      "outputs": [],
      "source": [
        "# Latihan 4\n",
        "# Assign the value 5 to the variable my_apples\n",
        "my_apples <- 5\n",
        "\n",
        "# Print out the value of the variable my_apples\n",
        "my_apples"
      ]
    },
    {
      "cell_type": "code",
      "execution_count": null,
      "id": "0de0b3cb-3f2f-4023-9a57-70ff6f72c5f2",
      "metadata": {},
      "outputs": [],
      "source": [
        "# Latihan 5\n",
        "# Assign a value to the variables called my_apples and my_oranges\n",
        "my_apples <- 5\n",
        "my_oranges <- 6\n",
        "\n",
        "# Add these two variables together and print the result\n",
        "my_fruit <- my_apples + my_oranges\n",
        "\n",
        "# Create the variable my_fruit\n",
        "my_fruit"
      ]
    },
    {
      "cell_type": "code",
      "execution_count": null,
      "id": "c8eafb10-bd1a-43ee-abbb-8db6758d8bb6",
      "metadata": {},
      "outputs": [],
      "source": [
        "# Latihan 6\n",
        "# Assign a value to the variable my_apples\n",
        "my_apples <- 5 \n",
        "\n",
        "# Fix the assignment of my_oranges\n",
        "my_oranges <- 6\n",
        "\n",
        "# Create the variable my_fruit and print it out\n",
        "my_fruit <- my_apples + my_oranges \n",
        "my_fruit"
      ]
    },
    {
      "cell_type": "code",
      "execution_count": null,
      "id": "b1f3eda0-cf50-421f-b34e-1acb08f52461",
      "metadata": {},
      "outputs": [],
      "source": [
        "# Latihan 7\n",
        "# Change my_numeric to be 42\n",
        "my_numeric <- 42\n",
        "\n",
        "# Change my_character to be \"universe\"\n",
        "my_character <- \"universe\"\n",
        "\n",
        "# Change my_logical to be FALSE\n",
        "my_logical <- FALSE"
      ]
    },
    {
      "cell_type": "code",
      "execution_count": null,
      "id": "49da9ac7-ace6-4621-9060-cd8cd547a3cb",
      "metadata": {},
      "outputs": [],
      "source": [
        "# Latihan 8\n",
        "# Declare variables of different types\n",
        "my_numeric <- 42\n",
        "my_character <- \"universe\"\n",
        "my_logical <- FALSE \n",
        "\n",
        "# Check class of my_numeric\n",
        "class(my_numeric)\n",
        "\n",
        "# Check class of my_character\n",
        "class(my_character)\n",
        "\n",
        "# Check class of my_logical\n",
        "class(my_logical)"
      ]
    }
  ],
  "metadata": {
    "kernelspec": {
      "display_name": "Pyolite",
      "language": "python",
      "name": "python"
    },
    "language_info": {
      "codemirror_mode": {
        "name": "python",
        "version": 3
      },
      "file_extension": ".py",
      "mimetype": "text/x-python",
      "name": "python",
      "nbconvert_exporter": "python",
      "pygments_lexer": "ipython3",
      "version": "3.8"
    }
  },
  "nbformat": 4,
  "nbformat_minor": 5
}
