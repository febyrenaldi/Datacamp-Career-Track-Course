{
  "cells": [
    {
      "cell_type": "markdown",
      "id": "c9b6ec93",
      "metadata": {},
      "source": [
        "Factors"
      ]
    },
    {
      "cell_type": "code",
      "execution_count": null,
      "id": "3d661fbf-c9c1-459c-a545-78281d14bd3a",
      "metadata": {},
      "outputs": [],
      "source": [
        "# Latihan 1\n",
        "# Assign to the variable theory what this chapter is about!\n",
        "theory <- \"factors\""
      ]
    },
    {
      "cell_type": "code",
      "execution_count": null,
      "id": "5aa042b6-d13f-4106-8832-bb656d109dc4",
      "metadata": {},
      "outputs": [],
      "source": [
        "# Latihan 2\n",
        "# Sex vector\n",
        "sex_vector <- c(\"Male\", \"Female\", \"Female\", \"Male\", \"Male\")\n",
        "\n",
        "# Convert sex_vector to a factor\n",
        "factor_sex_vector <- factor(sex_vector)\n",
        "\n",
        "# Print out factor_sex_vector\n",
        "factor_sex_vector"
      ]
    },
    {
      "cell_type": "code",
      "execution_count": null,
      "id": "53b23e01-ae53-45d9-b234-6c46bdf7db32",
      "metadata": {},
      "outputs": [],
      "source": [
        "# Latihan 3\n",
        "# Animals\n",
        "animals_vector <- c(\"Elephant\", \"Giraffe\", \"Donkey\", \"Horse\")\n",
        "factor_animals_vector <- factor(animals_vector)\n",
        "factor_animals_vector\n",
        "\n",
        "# Temperature\n",
        "temperature_vector <- c(\"High\", \"Low\", \"High\",\"Low\", \"Medium\")\n",
        "factor_temperature_vector <- factor(temperature_vector, order = TRUE, levels = c(\"Low\", \"Medium\", \"High\"))\n",
        "factor_temperature_vector"
      ]
    },
    {
      "cell_type": "code",
      "execution_count": null,
      "id": "35f7ca58-8d78-4e19-b710-5cf3fe9a0d41",
      "metadata": {},
      "outputs": [],
      "source": [
        "# Latihan 3\n",
        "# Code to build factor_survey_vector\n",
        "survey_vector <- c(\"M\", \"F\", \"F\", \"M\", \"M\")\n",
        "factor_survey_vector <- factor(survey_vector)\n",
        "\n",
        "# Specify the levels of factor_survey_vector\n",
        "levels(factor_survey_vector) <- c(\"Female\", \"Male\")\n",
        "\n",
        "factor_survey_vector"
      ]
    },
    {
      "cell_type": "code",
      "execution_count": null,
      "id": "2b645698-9978-4f9d-bab6-099b578b8ba3",
      "metadata": {},
      "outputs": [],
      "source": [
        "# Latihan 4\n",
        "# Build factor_survey_vector with clean levels\n",
        "survey_vector <- c(\"M\", \"F\", \"F\", \"M\", \"M\")\n",
        "factor_survey_vector <- factor(survey_vector)\n",
        "levels(factor_survey_vector) <- c(\"Female\", \"Male\")\n",
        "factor_survey_vector\n",
        "\n",
        "# Generate summary for survey_vector\n",
        "summary(survey_vector)\n",
        "\n",
        "# Generate summary for factor_survey_vector\n",
        "summary(factor_survey_vector)"
      ]
    },
    {
      "cell_type": "code",
      "execution_count": null,
      "id": "81ac7fc6-8068-440d-96b4-c7fd7312d521",
      "metadata": {},
      "outputs": [],
      "source": [
        "# Latihan 5\n",
        "# Build factor_survey_vector with clean levels\n",
        "survey_vector <- c(\"M\", \"F\", \"F\", \"M\", \"M\")\n",
        "factor_survey_vector <- factor(survey_vector)\n",
        "levels(factor_survey_vector) <- c(\"Female\", \"Male\")\n",
        "\n",
        "# Male\n",
        "male <- factor_survey_vector[1]\n",
        "\n",
        "# Female\n",
        "female <- factor_survey_vector[2]\n",
        "\n",
        "# Battle of the sexes: Male 'larger' than female?\n",
        "male > female"
      ]
    },
    {
      "cell_type": "code",
      "execution_count": null,
      "id": "f85f89f0-d554-4a5a-bd00-7300bf3373c3",
      "metadata": {},
      "outputs": [],
      "source": [
        "# Latihan 6\n",
        "# Create speed_vector\n",
        "speed_vector <- c(\"medium\", \"slow\", \"slow\", \"medium\", \"fast\")"
      ]
    },
    {
      "cell_type": "code",
      "execution_count": null,
      "id": "d4ea3294-ab7e-4dcf-bad4-4109ded62e30",
      "metadata": {},
      "outputs": [],
      "source": [
        "# Latihan 7\n",
        "# Create speed_vector\n",
        "speed_vector <- c(\"medium\", \"slow\", \"slow\", \"medium\", \"fast\")\n",
        "\n",
        "# Convert speed_vector to ordered factor vector\n",
        "factor_speed_vector <- factor(speed_vector, ordered = TRUE, levels = c(\"slow\", \"medium\", \"fast\"))\n",
        "\n",
        "# Print factor_speed_vector\n",
        "factor_speed_vector\n",
        "summary(factor_speed_vector)"
      ]
    },
    {
      "cell_type": "code",
      "execution_count": null,
      "id": "04f3c43b-581e-416d-b2b8-94af4522e8dc",
      "metadata": {},
      "outputs": [],
      "source": [
        "# Latihan 8\n",
        "# Create factor_speed_vector\n",
        "speed_vector <- c(\"medium\", \"slow\", \"slow\", \"medium\", \"fast\")\n",
        "factor_speed_vector <- factor(speed_vector, ordered = TRUE, levels = c(\"slow\", \"medium\", \"fast\"))\n",
        "\n",
        "# Factor value for second data analyst\n",
        "da2 <- factor_speed_vector[2]\n",
        "\n",
        "# Factor value for fifth data analyst\n",
        "da5 <- factor_speed_vector[5]\n",
        "\n",
        "# Is data analyst 2 faster data analyst 5?\n",
        "da2 > da5"
      ]
    }
  ],
  "metadata": {
    "kernelspec": {
      "display_name": "Pyolite",
      "language": "python",
      "name": "python"
    },
    "language_info": {
      "codemirror_mode": {
        "name": "python",
        "version": 3
      },
      "file_extension": ".py",
      "mimetype": "text/x-python",
      "name": "python",
      "nbconvert_exporter": "python",
      "pygments_lexer": "ipython3",
      "version": "3.8"
    }
  },
  "nbformat": 4,
  "nbformat_minor": 5
}
