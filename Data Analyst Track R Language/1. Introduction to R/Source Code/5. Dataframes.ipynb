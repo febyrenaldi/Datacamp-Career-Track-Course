{
  "cells": [
    {
      "cell_type": "markdown",
      "id": "af8935f7",
      "metadata": {},
      "source": [
        "Dataframes"
      ]
    },
    {
      "cell_type": "code",
      "execution_count": null,
      "id": "d4a94986-2417-4f69-a902-3fcb870dfba0",
      "metadata": {},
      "outputs": [],
      "source": [
        "# Latihan 1\n",
        "# Print out built-in R data frame\n",
        "mtcars "
      ]
    },
    {
      "cell_type": "code",
      "execution_count": null,
      "id": "3da574b1-3ebb-4459-8fdd-a472b3080062",
      "metadata": {},
      "outputs": [],
      "source": [
        "# Latihan 2\n",
        "# Call head() on mtcars\n",
        "head(mtcars)"
      ]
    },
    {
      "cell_type": "code",
      "execution_count": null,
      "id": "b6e8d3c7-e0a6-410d-8482-ee63716a43e8",
      "metadata": {},
      "outputs": [],
      "source": [
        "# Latihan 3\n",
        "# Investigate the structure of mtcars\n",
        "str(mtcars)"
      ]
    },
    {
      "cell_type": "code",
      "execution_count": null,
      "id": "af0e96f4-2ab5-45f7-b7bc-577d896e2d86",
      "metadata": {},
      "outputs": [],
      "source": [
        "# Latihan 4\n",
        "# Definition of vectors\n",
        "name <- c(\"Mercury\", \"Venus\", \"Earth\", \n",
        "          \"Mars\", \"Jupiter\", \"Saturn\", \n",
        "          \"Uranus\", \"Neptune\")\n",
        "type <- c(\"Terrestrial planet\", \n",
        "          \"Terrestrial planet\", \n",
        "          \"Terrestrial planet\", \n",
        "          \"Terrestrial planet\", \"Gas giant\", \n",
        "          \"Gas giant\", \"Gas giant\", \"Gas giant\")\n",
        "diameter <- c(0.382, 0.949, 1, 0.532, \n",
        "              11.209, 9.449, 4.007, 3.883)\n",
        "rotation <- c(58.64, -243.02, 1, 1.03,\n",
        "              0.41, 0.43, -0.72, 0.67)\n",
        "rings <- c(FALSE, FALSE, FALSE, FALSE, TRUE, TRUE, TRUE, TRUE)\n",
        "\n",
        "# Create a data frame from the vectors\n",
        "planets_df <- data.frame(name, type, diameter, rotation, rings)"
      ]
    },
    {
      "cell_type": "code",
      "execution_count": null,
      "id": "24491dfa-4784-4357-b3d0-9c0f840ea2b5",
      "metadata": {},
      "outputs": [],
      "source": [
        "# Latihan 5\n",
        "# Check the structure of planets_df\n",
        "str(planets_df)"
      ]
    },
    {
      "cell_type": "code",
      "execution_count": null,
      "id": "de83dcba-37ee-4389-be36-6f8cfccfc182",
      "metadata": {},
      "outputs": [],
      "source": [
        "# Latihan 6\n",
        "# The planets_df data frame from the previous exercise is pre-loaded\n",
        "\n",
        "# Print out diameter of Mercury (row 1, column 3)\n",
        "planets_df[1,3]\n",
        "\n",
        "# Print out data for Mars (entire fourth row)\n",
        "planets_df[4, ]"
      ]
    },
    {
      "cell_type": "code",
      "execution_count": null,
      "id": "e6c0bee2-1366-49b5-8d9d-f11c7b665bc0",
      "metadata": {},
      "outputs": [],
      "source": [
        "# Latihan 7\n",
        "# The planets_df data frame from the previous exercise is pre-loaded\n",
        "\n",
        "# Select first 5 values of diameter column\n",
        "planets_df[1:5, \"diameter\"]"
      ]
    },
    {
      "cell_type": "code",
      "execution_count": null,
      "id": "fd541658-97dd-4c80-b48b-56ad6a15003e",
      "metadata": {},
      "outputs": [],
      "source": [
        "# Latihan 8\n",
        "# planets_df is pre-loaded in your workspace\n",
        "\n",
        "# Select the rings variable from planets_df\n",
        "rings_vector <- planets_df$rings\n",
        "\n",
        "# Print out rings_vector\n",
        "rings_vector"
      ]
    },
    {
      "cell_type": "code",
      "execution_count": null,
      "id": "58c5f161-9095-4cc4-8540-af193c2f4627",
      "metadata": {},
      "outputs": [],
      "source": [
        "# Latihan 9\n",
        "# planets_df and rings_vector are pre-loaded in your workspace\n",
        "\n",
        "# Adapt the code to select all columns for planets with rings\n",
        "planets_df[rings_vector, ]"
      ]
    },
    {
      "cell_type": "code",
      "execution_count": null,
      "id": "44e1fcbd-6a6d-472d-b2c8-f9ba6b9ba4aa",
      "metadata": {},
      "outputs": [],
      "source": [
        "# Latihan 10\n",
        "# planets_df is pre-loaded in your workspace\n",
        "\n",
        "# Select planets with diameter < 1\n",
        "subset(planets_df, subset = diameter < 1)"
      ]
    },
    {
      "cell_type": "code",
      "execution_count": null,
      "id": "24eccc19-5cfd-4597-8cdf-7384402f31db",
      "metadata": {},
      "outputs": [],
      "source": [
        "# Latihan 11\n",
        "# Play around with the order function in the console"
      ]
    },
    {
      "cell_type": "code",
      "execution_count": null,
      "id": "4e401a7d-7dcf-4846-90e1-58028723a0ea",
      "metadata": {},
      "outputs": [],
      "source": [
        "# Latihan 12\n",
        "# planets_df is pre-loaded in your workspace\n",
        "\n",
        "# Use order() to create positions\n",
        "positions <- order(planets_df$diameter)\n",
        "\n",
        "# Use positions to sort planets_df\n",
        "planets_df[positions, ]"
      ]
    }
  ],
  "metadata": {
    "kernelspec": {
      "display_name": "Pyolite",
      "language": "python",
      "name": "python"
    },
    "language_info": {
      "codemirror_mode": {
        "name": "python",
        "version": 3
      },
      "file_extension": ".py",
      "mimetype": "text/x-python",
      "name": "python",
      "nbconvert_exporter": "python",
      "pygments_lexer": "ipython3",
      "version": "3.8"
    }
  },
  "nbformat": 4,
  "nbformat_minor": 5
}
