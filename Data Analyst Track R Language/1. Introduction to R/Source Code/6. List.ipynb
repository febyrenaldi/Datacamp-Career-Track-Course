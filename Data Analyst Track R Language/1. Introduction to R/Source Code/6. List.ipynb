{
  "cells": [
    {
      "cell_type": "markdown",
      "id": "402e0991",
      "metadata": {},
      "source": [
        "List"
      ]
    },
    {
      "cell_type": "code",
      "execution_count": null,
      "id": "c3284fe4-8f28-4bbe-952d-92d1fb28197d",
      "metadata": {},
      "outputs": [],
      "source": [
        "# Latihan 1\n",
        "# Just submit the answer."
      ]
    },
    {
      "cell_type": "code",
      "execution_count": null,
      "id": "54f6a29f-90b5-40d9-b5d1-14417495ba4f",
      "metadata": {},
      "outputs": [],
      "source": [
        "# Latihan 2\n",
        "# Just submit the answer to start the first exercise on lists."
      ]
    },
    {
      "cell_type": "code",
      "execution_count": null,
      "id": "15da5532-1cb8-456c-9d45-a0a158d4c5d5",
      "metadata": {},
      "outputs": [],
      "source": [
        "# Latihan 3\n",
        "# Vector with numerics from 1 up to 10\n",
        "my_vector <- 1:10 \n",
        "print(my_vector)\n",
        "\n",
        "# Matrix with numerics from 1 up to 9\n",
        "my_matrix <- matrix(1:9, ncol = 3)\n",
        "print(my_matrix)\n",
        "\n",
        "# First 10 elements of the built-in data frame mtcars\n",
        "my_df <- mtcars[1:10,]\n",
        "print(my_df)\n",
        "\n",
        "# Construct list with these different elements:\n",
        "my_list <- list(my_vector, my_matrix, my_df)\n",
        "print(my_list)"
      ]
    },
    {
      "cell_type": "code",
      "execution_count": null,
      "id": "2e4c1a96-ff9b-48c4-a347-084d2a315da9",
      "metadata": {},
      "outputs": [],
      "source": [
        "# Latihan 4\n",
        "# Vector with numerics from 1 up to 10\n",
        "my_vector <- 1:10 \n",
        "\n",
        "# Matrix with numerics from 1 up to 9\n",
        "my_matrix <- matrix(1:9, ncol = 3)\n",
        "\n",
        "# First 10 elements of the built-in data frame mtcars\n",
        "my_df <- mtcars[1:10,]\n",
        "\n",
        "# Adapt list() call to give the components names\n",
        "my_list <- list(vec = my_vector, mat = my_matrix, df = my_df)\n",
        "\n",
        "# Print out my_list\n",
        "my_list"
      ]
    },
    {
      "cell_type": "code",
      "execution_count": null,
      "id": "a7ac23c4-b791-43d3-a608-878bb6b27db7",
      "metadata": {},
      "outputs": [],
      "source": [
        "# Latihan 5\n",
        "# The variables mov, act and rev are available\n",
        "\n",
        "# Finish the code to build shining_list\n",
        "shining_list <- list(moviename = mov, actors = act, reviews = rev)"
      ]
    },
    {
      "cell_type": "code",
      "execution_count": null,
      "id": "a3a8de1c-4d2b-4faf-aeb3-caf47564153a",
      "metadata": {},
      "outputs": [],
      "source": [
        "# Latihan 6\n",
        "# shining_list is already pre-loaded in the workspace\n",
        "\n",
        "# Print out the vector representing the actors\n",
        "shining_list$actors\n",
        "\n",
        "# Print the second element of the vector representing the actors\n",
        "shining_list$actors[2]"
      ]
    },
    {
      "cell_type": "code",
      "execution_count": null,
      "id": "1ca14606-a780-412a-8244-d059c6742654",
      "metadata": {},
      "outputs": [],
      "source": [
        "# Latihan 7\n",
        "# Use the table from the exercise to define the comments and scores vectors\n",
        "scores <- c(4.6, 5, 4.8, 5, 4.2)\n",
        "comments <- c(\"I would watch it again\", \"Amazing!\", \"I liked it\", \"One of the best movies\", \"Fascinating plot\")\n",
        "\n",
        "# Save the average of the scores vector as avg_review\n",
        "avg_review <- mean(scores)\n",
        "\n",
        "# Combine scores and comments into the reviews_df data frame\n",
        "reviews_df <- data.frame(scores, comments)\n",
        "\n",
        "# Create and print out a list, called departed_list\n",
        "departed_list <- list(movie_title, movie_actors, reviews_df, avg_review)\n",
        "departed_list"
      ]
    }
  ],
  "metadata": {
    "kernelspec": {
      "display_name": "Pyolite",
      "language": "python",
      "name": "python"
    },
    "language_info": {
      "codemirror_mode": {
        "name": "python",
        "version": 3
      },
      "file_extension": ".py",
      "mimetype": "text/x-python",
      "name": "python",
      "nbconvert_exporter": "python",
      "pygments_lexer": "ipython3",
      "version": "3.8"
    }
  },
  "nbformat": 4,
  "nbformat_minor": 5
}
