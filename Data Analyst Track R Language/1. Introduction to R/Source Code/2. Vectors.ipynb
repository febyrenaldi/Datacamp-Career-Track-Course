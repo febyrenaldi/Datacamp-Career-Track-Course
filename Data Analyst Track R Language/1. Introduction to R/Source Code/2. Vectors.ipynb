{
  "cells": [
    {
      "cell_type": "markdown",
      "id": "dd066f45",
      "metadata": {},
      "source": [
        "Vectors"
      ]
    },
    {
      "cell_type": "code",
      "execution_count": null,
      "id": "e2eed5c6-dbcf-4fdc-9a84-76ce38c585ec",
      "metadata": {},
      "outputs": [],
      "source": [
        "# Latihan 1\n",
        "# Define the variable vegas\n",
        "vegas <- as.character(\"Go!\")\n",
        "vegas"
      ]
    },
    {
      "cell_type": "code",
      "execution_count": null,
      "id": "1b5e77b7-c806-4c2a-9d9a-3f5e3c957b21",
      "metadata": {},
      "outputs": [],
      "source": [
        "# Latihan 2\n",
        "numeric_vector <- c(1, 10, 49)\n",
        "character_vector <- c(\"a\", \"b\", \"c\")\n",
        "boolean_vector <- c(T,F,T)\n",
        "\n",
        "# Print the vectors\n",
        "numeric_vector\n",
        "character_vector\n",
        "boolean_vector"
      ]
    },
    {
      "cell_type": "code",
      "execution_count": null,
      "id": "ae7a6b49-c585-4433-ad6c-82f39b49ecab",
      "metadata": {},
      "outputs": [],
      "source": [
        "# Latihan 3\n",
        "# Poker winnings from Monday to Friday\n",
        "poker_vector <- c(140, -50, 20, -120, 240)\n",
        "poker_vector\n",
        "\n",
        "# Roulette winnings form Monday to Friday\n",
        "roulette_vector <- c(-24, -50, 100, -350, 10)\n",
        "roulette_vector"
      ]
    },
    {
      "cell_type": "code",
      "execution_count": null,
      "id": "78c82c96-9262-44ae-b59a-afb2192593ff",
      "metadata": {},
      "outputs": [],
      "source": [
        "# Latihan 4\n",
        "# Poker winnings from Monday to Friday\n",
        "poker_vector <- c(140, -50, 20, -120, 240)\n",
        "\n",
        "# Roulette winnings from Monday to Friday\n",
        "roulette_vector <- c(-24, -50, 100, -350, 10)\n",
        "\n",
        "# Assign days as names of poker_vector\n",
        "names(poker_vector) <- c(\"Monday\", \"Tuesday\", \"Wednesday\", \"Thursday\", \"Friday\")\n",
        "\n",
        "# Assign days as names of roulette_vector\n",
        "names(roulette_vector) <- c(\"Monday\", \"Tuesday\", \"Wednesday\", \"Thursday\", \"Friday\")"
      ]
    },
    {
      "cell_type": "code",
      "execution_count": null,
      "id": "296bb6d4-4dfe-414e-8c46-4b212d7e162e",
      "metadata": {},
      "outputs": [],
      "source": [
        "# Latihan 5\n",
        "# Poker winnings from Monday to Friday\n",
        "poker_vector <- c(140, -50, 20, -120, 240)\n",
        "\n",
        "# Roulette winnings from Monday to Friday\n",
        "roulette_vector <- c(-24, -50, 100, -350, 10)\n",
        "\n",
        "# The variable days_vector\n",
        "days_vector <- c(\"Monday\", \"Tuesday\", \"Wednesday\", \"Thursday\", \"Friday\")\n",
        "\n",
        "# Assign the names of the day to roulette_vector and poker_vector\n",
        "names(poker_vector) <- days_vector\n",
        "names(roulette_vector) <- days_vector"
      ]
    },
    {
      "cell_type": "code",
      "execution_count": null,
      "id": "ed7cf9ac-2c89-479c-bd6d-e4e4ff6ec83d",
      "metadata": {},
      "outputs": [],
      "source": [
        "# Latihan 6\n",
        "A_vector <- c(1, 2, 3)\n",
        "B_vector <- c(4, 5, 6)\n",
        "\n",
        "# Take the sum of A_vector and B_vector\n",
        "total_vector <- A_vector + B_vector\n",
        "\n",
        "# Print out total_vector\n",
        "total_vector"
      ]
    },
    {
      "cell_type": "code",
      "execution_count": null,
      "id": "e6c17066-8675-4bcf-925e-1ee7e0ce03b4",
      "metadata": {},
      "outputs": [],
      "source": [
        "# Latihan 7\n",
        "# Poker and roulette winnings from Monday to Friday:\n",
        "poker_vector <- c(140, -50, 20, -120, 240)\n",
        "roulette_vector <- c(-24, -50, 100, -350, 10)\n",
        "days_vector <- c(\"Monday\", \"Tuesday\", \"Wednesday\", \"Thursday\", \"Friday\")\n",
        "names(poker_vector) <- days_vector\n",
        "names(roulette_vector) <- days_vector\n",
        "\n",
        "# Assign to total_daily how much you won/lost on each day\n",
        "total_daily <- poker_vector + roulette_vector"
      ]
    },
    {
      "cell_type": "code",
      "execution_count": null,
      "id": "9aa2d3e0-47c5-42f4-a8ba-9f3828cb3bd2",
      "metadata": {},
      "outputs": [],
      "source": [
        "# Latihan 8\n",
        "# Poker and roulette winnings from Monday to Friday:\n",
        "poker_vector <- c(140, -50, 20, -120, 240)\n",
        "roulette_vector <- c(-24, -50, 100, -350, 10)\n",
        "days_vector <- c(\"Monday\", \"Tuesday\", \"Wednesday\", \"Thursday\", \"Friday\")\n",
        "names(poker_vector) <- days_vector\n",
        "names(roulette_vector) <- days_vector\n",
        "\n",
        "# Total winnings with poker\n",
        "total_poker <- sum(poker_vector)\n",
        "\n",
        "# Total winnings with roulette\n",
        "total_roulette <- sum(roulette_vector)\n",
        "\n",
        "# Total winnings overall\n",
        "total_week <- total_roulette + total_poker\n",
        "\n",
        "# Print out total_week\n",
        "total_week"
      ]
    },
    {
      "cell_type": "code",
      "execution_count": null,
      "id": "f2d6c4dc-e0c9-40b1-8629-c1d2288329a5",
      "metadata": {},
      "outputs": [],
      "source": [
        "# Latihan 9\n",
        "# Poker and roulette winnings from Monday to Friday:\n",
        "poker_vector <- c(140, -50, 20, -120, 240)\n",
        "roulette_vector <- c(-24, -50, 100, -350, 10)\n",
        "days_vector <- c(\"Monday\", \"Tuesday\", \"Wednesday\", \"Thursday\", \"Friday\")\n",
        "names(poker_vector) <- days_vector\n",
        "names(roulette_vector) <- days_vector\n",
        "\n",
        "# Calculate total gains for poker and roulette\n",
        "total_poker <- sum(poker_vector)\n",
        "total_roulette <- sum(roulette_vector)\n",
        "\n",
        "# Check if you realized higher total gains in poker than in roulette\n",
        "total_poker > total_roulette"
      ]
    },
    {
      "cell_type": "code",
      "execution_count": null,
      "id": "68ab247e-ebca-4fd5-8818-e7b5c4b4be72",
      "metadata": {},
      "outputs": [],
      "source": [
        "# Latihan 10\n",
        "# Poker and roulette winnings from Monday to Friday:\n",
        "poker_vector <- c(140, -50, 20, -120, 240)\n",
        "roulette_vector <- c(-24, -50, 100, -350, 10)\n",
        "days_vector <- c(\"Monday\", \"Tuesday\", \"Wednesday\", \"Thursday\", \"Friday\")\n",
        "names(poker_vector) <- days_vector\n",
        "names(roulette_vector) <- days_vector\n",
        "\n",
        "# Define a new variable based on a selection\n",
        "poker_wednesday <- poker_vector[3]"
      ]
    },
    {
      "cell_type": "code",
      "execution_count": null,
      "id": "001ac799-734a-4ccb-a1c7-0baa6cb3018c",
      "metadata": {},
      "outputs": [],
      "source": [
        "# Latihan 11\n",
        "# Poker and roulette winnings from Monday to Friday:\n",
        "poker_vector <- c(140, -50, 20, -120, 240)\n",
        "roulette_vector <- c(-24, -50, 100, -350, 10)\n",
        "days_vector <- c(\"Monday\", \"Tuesday\", \"Wednesday\", \"Thursday\", \"Friday\")\n",
        "names(poker_vector) <- days_vector\n",
        "names(roulette_vector) <- days_vector\n",
        "\n",
        "# Define a new variable based on a selection\n",
        "poker_midweek <- poker_vector[c(2, 3, 4)]"
      ]
    },
    {
      "cell_type": "code",
      "execution_count": null,
      "id": "6b7e7ae8-ccb1-4843-842e-a103b62b827e",
      "metadata": {},
      "outputs": [],
      "source": [
        "# Latihan 12\n",
        "# Poker and roulette winnings from Monday to Friday:\n",
        "poker_vector <- c(140, -50, 20, -120, 240)\n",
        "roulette_vector <- c(-24, -50, 100, -350, 10)\n",
        "days_vector <- c(\"Monday\", \"Tuesday\", \"Wednesday\", \"Thursday\", \"Friday\")\n",
        "names(poker_vector) <- days_vector\n",
        "names(roulette_vector) <- days_vector\n",
        "\n",
        "# Define a new variable based on a selection\n",
        "roulette_selection_vector <- roulette_vector[2:5]"
      ]
    },
    {
      "cell_type": "code",
      "execution_count": null,
      "id": "087492b9-3b0b-406d-b2b2-30d74c8ab3f3",
      "metadata": {},
      "outputs": [],
      "source": [
        "# Latihan 13\n",
        "# Poker and roulette winnings from Monday to Friday:\n",
        "poker_vector <- c(140, -50, 20, -120, 240)\n",
        "roulette_vector <- c(-24, -50, 100, -350, 10)\n",
        "days_vector <- c(\"Monday\", \"Tuesday\", \"Wednesday\", \"Thursday\", \"Friday\")\n",
        "names(poker_vector) <- days_vector\n",
        "names(roulette_vector) <- days_vector\n",
        "\n",
        "# Select poker results for Monday, Tuesday and Wednesday\n",
        "poker_start <- poker_vector[c(\"Monday\", \"Tuesday\", \"Wednesday\")]\n",
        "  \n",
        "# Calculate the average of the elements in poker_start\n",
        "mean(poker_start)"
      ]
    },
    {
      "cell_type": "code",
      "execution_count": null,
      "id": "3e9fb907-b97a-4f6b-a8e3-78511d314faf",
      "metadata": {},
      "outputs": [],
      "source": [
        "# Latihan 14\n",
        "# Poker and roulette winnings from Monday to Friday:\n",
        "poker_vector <- c(140, -50, 20, -120, 240)\n",
        "roulette_vector <- c(-24, -50, 100, -350, 10)\n",
        "days_vector <- c(\"Monday\", \"Tuesday\", \"Wednesday\", \"Thursday\", \"Friday\")\n",
        "names(poker_vector) <- days_vector\n",
        "names(roulette_vector) <- days_vector\n",
        "\n",
        "# Which days did you make money on poker?\n",
        "selection_vector <- poker_vector > 0\n",
        "  \n",
        "# Print out selection_vector\n",
        "selection_vector"
      ]
    },
    {
      "cell_type": "code",
      "execution_count": null,
      "id": "e14c7fde-a8df-426c-8032-c9d1fd33a9a2",
      "metadata": {},
      "outputs": [],
      "source": [
        "# Latihan 15\n",
        "# Poker and roulette winnings from Monday to Friday:\n",
        "poker_vector <- c(140, -50, 20, -120, 240)\n",
        "roulette_vector <- c(-24, -50, 100, -350, 10)\n",
        "days_vector <- c(\"Monday\", \"Tuesday\", \"Wednesday\", \"Thursday\", \"Friday\")\n",
        "names(poker_vector) <- days_vector\n",
        "names(roulette_vector) <- days_vector\n",
        "\n",
        "# Which days did you make money on poker?\n",
        "selection_vector <- poker_vector > 0\n",
        "\n",
        "# Select from poker_vector these days\n",
        "poker_winning_days <- poker_vector[selection_vector]"
      ]
    },
    {
      "cell_type": "code",
      "execution_count": null,
      "id": "d68c126e-6963-41f8-8e4b-4e27745621c3",
      "metadata": {},
      "outputs": [],
      "source": [
        "# Latihan 16\n",
        "# Poker and roulette winnings from Monday to Friday:\n",
        "poker_vector <- c(140, -50, 20, -120, 240)\n",
        "roulette_vector <- c(-24, -50, 100, -350, 10)\n",
        "days_vector <- c(\"Monday\", \"Tuesday\", \"Wednesday\", \"Thursday\", \"Friday\")\n",
        "names(poker_vector) <- days_vector\n",
        "names(roulette_vector) <- days_vector\n",
        "\n",
        "# Which days did you make money on roulette?\n",
        "selection_vector <- roulette_vector > 0\n",
        "\n",
        "# Select from roulette_vector these days\n",
        "roulette_winning_days <- roulette_vector[selection_vector]"
      ]
    }
  ],
  "metadata": {
    "kernelspec": {
      "display_name": "Pyolite",
      "language": "python",
      "name": "python"
    },
    "language_info": {
      "codemirror_mode": {
        "name": "python",
        "version": 3
      },
      "file_extension": ".py",
      "mimetype": "text/x-python",
      "name": "python",
      "nbconvert_exporter": "python",
      "pygments_lexer": "ipython3",
      "version": "3.8"
    }
  },
  "nbformat": 4,
  "nbformat_minor": 5
}
