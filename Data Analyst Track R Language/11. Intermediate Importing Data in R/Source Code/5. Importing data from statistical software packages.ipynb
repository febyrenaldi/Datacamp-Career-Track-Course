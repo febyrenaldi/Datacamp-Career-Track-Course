{
  "cells": [
    {
      "cell_type": "markdown",
      "metadata": {},
      "source": [
        "haven"
      ]
    },
    {
      "cell_type": "code",
      "execution_count": null,
      "metadata": {},
      "outputs": [],
      "source": [
        "# Latihan 1\n",
        "# Load the haven package\n",
        "library(haven)\n",
        "\n",
        "# Import sales.sas7bdat: sales\n",
        "sales <- read_sas(\"sales.sas7bdat\")\n",
        "\n",
        "# Display the structure of sales\n",
        "str(sales)"
      ]
    },
    {
      "cell_type": "code",
      "execution_count": null,
      "metadata": {},
      "outputs": [],
      "source": [
        "# Latihan 2\n",
        "# haven is already loaded\n",
        "\n",
        "# Import the data from the URL: sugar\n",
        "sugar <- read_dta(\"http://assets.datacamp.com/production/course_1478/datasets/trade.dta\")\n",
        "\n",
        "# Structure of sugar\n",
        "str(sugar)\n",
        "\n",
        "# Convert values in Date column to dates\n",
        "sugar$Date <- as.Date(as_factor(sugar$Date))\n",
        "\n",
        "# Structure of sugar again\n",
        "str(sugar)"
      ]
    },
    {
      "cell_type": "code",
      "execution_count": null,
      "metadata": {},
      "outputs": [],
      "source": [
        "# Latihan 3\n",
        "# haven is already loaded\n",
        "\n",
        "# Import person.sav: traits\n",
        "traits <- read_sav(\"person.sav\")\n",
        "\n",
        "# Summarize traits\n",
        "summary(traits)\n",
        "\n",
        "# Print out a subset\n",
        "subset(traits, Extroversion > 40 & Agreeableness > 40)"
      ]
    },
    {
      "cell_type": "code",
      "execution_count": null,
      "metadata": {},
      "outputs": [],
      "source": [
        "# Latihan 4\n",
        "# haven is already loaded\n",
        "\n",
        "# Import SPSS data from the URL: work\n",
        "work <- read_sav(\"http://s3.amazonaws.com/assets.datacamp.com/production/course_1478/datasets/employee.sav\")\n",
        "\n",
        "# Display summary of work$GENDER\n",
        "summary(work$GENDER)\n",
        "\n",
        "# Convert work$GENDER to a factor\n",
        "work$GENDER <- as_factor(work$GENDER)\n",
        "\n",
        "# Display summary of work$GENDER again\n",
        "summary(work$GENDER)"
      ]
    },
    {
      "cell_type": "markdown",
      "metadata": {},
      "source": [
        "foreign"
      ]
    },
    {
      "cell_type": "code",
      "execution_count": null,
      "metadata": {},
      "outputs": [],
      "source": [
        "# Latihan 1\n",
        "# Load the foreign package\n",
        "library(foreign)\n",
        "\n",
        "# Import florida.dta and name the resulting data frame florida\n",
        "florida <- read.dta(\"florida.dta\")\n",
        "\n",
        "# Check tail() of florida\n",
        "tail(florida)"
      ]
    },
    {
      "cell_type": "code",
      "execution_count": null,
      "metadata": {},
      "outputs": [],
      "source": [
        "# Latihan 2\n",
        "# foreign is already loaded\n",
        "\n",
        "# Specify the file path using file.path(): path\n",
        "path <- file.path(\"worldbank\", \"edequality.dta\")\n",
        "\n",
        "# Create and print structure of edu_equal_1\n",
        "edu_equal_1 <- read.dta(path)\n",
        "str(edu_equal_1)\n",
        "\n",
        "# Create and print structure of edu_equal_2\n",
        "edu_equal_2 <- read.dta(path, convert.factors = FALSE)\n",
        "str(edu_equal_2)\n",
        "\n",
        "# Create and print structure of edu_equal_3\n",
        "edu_equal_3 <- read.dta(path, convert.underscore = TRUE)\n",
        "str(edu_equal_3)"
      ]
    },
    {
      "cell_type": "code",
      "execution_count": null,
      "metadata": {},
      "outputs": [],
      "source": [
        "# Latihan 3\n",
        "# foreign is already loaded\n",
        "\n",
        "# Import international.sav as a data frame: demo\n",
        "demo <- read.spss(\"international.sav\", to.data.frame = TRUE)\n",
        "\n",
        "# Create boxplot of gdp variable of demo\n",
        "boxplot(demo$gdp)"
      ]
    },
    {
      "cell_type": "code",
      "execution_count": null,
      "metadata": {},
      "outputs": [],
      "source": [
        "# Latihan 4\n",
        "# foreign is already loaded\n",
        "\n",
        "# Import international.sav as demo_1\n",
        "demo_1 <- read.spss(\"international.sav\", to.data.frame = TRUE)\n",
        "\n",
        "# Print out the head of demo_1\n",
        "head(demo_1)\n",
        "\n",
        "# Import international.sav as demo_2\n",
        "demo_2 <- read.spss(\"international.sav\", to.data.frame = TRUE, use.value.labels = FALSE)\n",
        "\n",
        "# Print out the head of demo_2\n",
        "head(demo_2)"
      ]
    }
  ],
  "metadata": {
    "kernelspec": {
      "display_name": "Pyolite",
      "language": "python",
      "name": "python"
    },
    "language_info": {
      "codemirror_mode": {
        "name": "python",
        "version": 3
      },
      "file_extension": ".py",
      "mimetype": "text/x-python",
      "name": "python",
      "nbconvert_exporter": "python",
      "pygments_lexer": "ipython3",
      "version": "3.8"
    }
  },
  "nbformat": 4,
  "nbformat_minor": 4
}
