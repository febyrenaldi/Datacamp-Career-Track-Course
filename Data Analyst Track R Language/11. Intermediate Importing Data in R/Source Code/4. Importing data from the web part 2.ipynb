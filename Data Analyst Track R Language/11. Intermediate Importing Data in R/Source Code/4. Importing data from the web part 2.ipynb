{
  "cells": [
    {
      "cell_type": "markdown",
      "metadata": {},
      "source": [
        "APIs and JSON"
      ]
    },
    {
      "cell_type": "code",
      "execution_count": null,
      "metadata": {},
      "outputs": [],
      "source": [
        "# Latihan 1\n",
        "# Load the jsonlite package\n",
        "library(jsonlite)\n",
        "\n",
        "# wine_json is a JSON\n",
        "wine_json <- '{\"name\":\"Chateau Migraine\", \"year\":1997, \"alcohol_pct\":12.4, \"color\":\"red\", \"awarded\":false}'\n",
        "\n",
        "# Convert wine_json into a list: wine\n",
        "wine <- fromJSON(wine_json)\n",
        "\n",
        "# Print structure of wine\n",
        "str(wine)"
      ]
    },
    {
      "cell_type": "code",
      "execution_count": null,
      "metadata": {},
      "outputs": [],
      "source": [
        "# Latihan 2\n",
        "# jsonlite is preloaded\n",
        "\n",
        "# Definition of quandl_url\n",
        "quandl_url <- \"https://www.quandl.com/api/v3/datasets/WIKI/FB/data.json?auth_token=i83asDsiWUUyfoypkgMz\"\n",
        "\n",
        "# Import Quandl data: quandl_data\n",
        "quandl_data <- fromJSON(quandl_url)\n",
        "\n",
        "# Print structure of quandl_data\n",
        "str(quandl_data)"
      ]
    },
    {
      "cell_type": "code",
      "execution_count": null,
      "metadata": {},
      "outputs": [],
      "source": [
        "# Latihan 3\n",
        "# The package jsonlite is already loaded\n",
        "\n",
        "# Definition of the URLs\n",
        "url_sw4 <- \"http://www.omdbapi.com/?apikey=72bc447a&i=tt0076759&r=json\"\n",
        "url_sw3 <- \"http://www.omdbapi.com/?apikey=72bc447a&i=tt0121766&r=json\"\n",
        "\n",
        "# Import two URLs with fromJSON(): sw4 and sw3\n",
        "sw4 <- fromJSON(url_sw4)\n",
        "sw3 <- fromJSON(url_sw3)\n",
        "\n",
        "# Print out the Title element of both lists\n",
        "sw4$Title\n",
        "sw3$Title\n",
        "\n",
        "# Is the release year of sw4 later than sw3?\n",
        "sw4$Year > sw3$Year"
      ]
    },
    {
      "cell_type": "markdown",
      "metadata": {},
      "source": [
        "JSON and jsonlite"
      ]
    },
    {
      "cell_type": "code",
      "execution_count": null,
      "metadata": {},
      "outputs": [],
      "source": [
        "# Latihan 1\n",
        "# jsonlite is already loaded\n",
        "\n",
        "# Challenge 1\n",
        "json1 <- '[1, 2, 3, 4, 5, 6]'\n",
        "fromJSON(json1)\n",
        "\n",
        "# Challenge 2\n",
        "json2 <- '{\"a\": [1, 2, 3], \"b\": [4, 5, 6]}'\n",
        "fromJSON(json2)"
      ]
    },
    {
      "cell_type": "code",
      "execution_count": null,
      "metadata": {},
      "outputs": [],
      "source": [
        "# Latihan 2\n",
        "# jsonlite is already loaded\n",
        "\n",
        "# Challenge 1\n",
        "json1 <- '[[1, 2], [3, 4]]'\n",
        "fromJSON(json1)\n",
        "\n",
        "# Challenge 2\n",
        "json2 <- '[{\"a\": 1, \"b\": 2}, {\"a\": 3, \"b\": 4}, {\"a\": 5, \"b\": 6}]'\n",
        "fromJSON(json2)"
      ]
    },
    {
      "cell_type": "code",
      "execution_count": null,
      "metadata": {},
      "outputs": [],
      "source": [
        "# Latihan 3\n",
        "# jsonlite is already loaded\n",
        "\n",
        "# URL pointing to the .csv file\n",
        "url_csv <- \"http://s3.amazonaws.com/assets.datacamp.com/production/course_1478/datasets/water.csv\"\n",
        "\n",
        "# Import the .csv file located at url_csv\n",
        "water <- read.csv(url_csv, stringsAsFactors = FALSE)\n",
        "\n",
        "# Convert the data file according to the requirements\n",
        "water_json <- toJSON(water)\n",
        "\n",
        "# Print out water_json\n",
        "water_json"
      ]
    },
    {
      "cell_type": "code",
      "execution_count": null,
      "metadata": {},
      "outputs": [],
      "source": [
        "# Latihan 4\n",
        "# jsonlite is already loaded\n",
        "\n",
        "# Convert mtcars to a pretty JSON: pretty_json\n",
        "pretty_json <- toJSON(mtcars, pretty = TRUE)\n",
        "\n",
        "# Print pretty_json\n",
        "pretty_json\n",
        "\n",
        "# Minify pretty_json: mini_json\n",
        "mini_json <- minify(pretty_json)\n",
        "\n",
        "# Print mini_json\n",
        "mini_json"
      ]
    }
  ],
  "metadata": {
    "kernelspec": {
      "display_name": "Pyolite",
      "language": "python",
      "name": "python"
    },
    "language_info": {
      "codemirror_mode": {
        "name": "python",
        "version": 3
      },
      "file_extension": ".py",
      "mimetype": "text/x-python",
      "name": "python",
      "nbconvert_exporter": "python",
      "pygments_lexer": "ipython3",
      "version": "3.8"
    }
  },
  "nbformat": 4,
  "nbformat_minor": 4
}
