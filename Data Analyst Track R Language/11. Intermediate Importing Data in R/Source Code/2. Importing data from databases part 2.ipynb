{
  "cells": [
    {
      "cell_type": "markdown",
      "metadata": {},
      "source": [
        "SQL Queries from inside R"
      ]
    },
    {
      "cell_type": "code",
      "execution_count": null,
      "metadata": {},
      "outputs": [],
      "source": [
        "# Latihan 1\n",
        "# Connect to the database\n",
        "library(DBI)\n",
        "con <- dbConnect(RMySQL::MySQL(),\n",
        "                 dbname = \"tweater\",\n",
        "                 host = \"courses.csrrinzqubik.us-east-1.rds.amazonaws.com\",\n",
        "                 port = 3306,\n",
        "                 user = \"student\",\n",
        "                 password = \"datacamp\")\n",
        "\n",
        "# Import tweat_id column of comments where user_id is 1: elisabeth\n",
        "elisabeth <- dbGetQuery(con, \"SELECT tweat_id FROM comments WHERE user_id = 1\")\n",
        "\n",
        "# Print  elisabeth\n",
        "elisabeth"
      ]
    },
    {
      "cell_type": "code",
      "execution_count": null,
      "metadata": {},
      "outputs": [],
      "source": [
        "# Latihan 2\n",
        "# Connect to the database\n",
        "library(DBI)\n",
        "con <- dbConnect(RMySQL::MySQL(),\n",
        "                 dbname = \"tweater\",\n",
        "                 host = \"courses.csrrinzqubik.us-east-1.rds.amazonaws.com\",\n",
        "                 port = 3306,\n",
        "                 user = \"student\",\n",
        "                 password = \"datacamp\")\n",
        "\n",
        "# Import post column of tweats where date is higher than '2015-09-21': latest\n",
        "latest <- dbGetQuery(con, \"SELECT post FROM tweats WHERE date > '2015-09-21'\")\n",
        "\n",
        "# Print latest\n",
        "latest"
      ]
    },
    {
      "cell_type": "code",
      "execution_count": null,
      "metadata": {},
      "outputs": [],
      "source": [
        "# Latihan 3\n",
        "# Connect to the database\n",
        "library(DBI)\n",
        "con <- dbConnect(RMySQL::MySQL(),\n",
        "                 dbname = \"tweater\",\n",
        "                 host = \"courses.csrrinzqubik.us-east-1.rds.amazonaws.com\",\n",
        "                 port = 3306,\n",
        "                 user = \"student\",\n",
        "                 password = \"datacamp\")\n",
        "\n",
        "# Create data frame specific\n",
        "specific <- dbGetQuery(con, \"SELECT message FROM comments WHERE tweat_id = 77 AND user_id > 4\")\n",
        "\n",
        "# Print specific and short\n",
        "specific"
      ]
    },
    {
      "cell_type": "code",
      "execution_count": null,
      "metadata": {},
      "outputs": [],
      "source": [
        "# Latihan 4\n",
        "# Connect to the database\n",
        "library(DBI)\n",
        "con <- dbConnect(RMySQL::MySQL(),\n",
        "                 dbname = \"tweater\",\n",
        "                 host = \"courses.csrrinzqubik.us-east-1.rds.amazonaws.com\",\n",
        "                 port = 3306,\n",
        "                 user = \"student\",\n",
        "                 password = \"datacamp\")\n",
        "\n",
        "# Create data frame short\n",
        "short <- dbGetQuery(con, \"SELECT id, name FROM users WHERE CHAR_LENGTH(name) < 5\")\n",
        "\n",
        "# Print short\n",
        "short"
      ]
    },
    {
      "cell_type": "markdown",
      "metadata": {},
      "source": [
        "DBI internals"
      ]
    },
    {
      "cell_type": "code",
      "execution_count": null,
      "metadata": {},
      "outputs": [],
      "source": [
        "# Latihan 1\n",
        "# Connect to the database\n",
        "library(DBI)\n",
        "con <- dbConnect(RMySQL::MySQL(),\n",
        "                 dbname = \"tweater\",\n",
        "                 host = \"courses.csrrinzqubik.us-east-1.rds.amazonaws.com\",\n",
        "                 port = 3306,\n",
        "                 user = \"student\",\n",
        "                 password = \"datacamp\")\n",
        "\n",
        "# Send query to the database\n",
        "res <- dbSendQuery(con, \"SELECT * FROM comments WHERE user_id > 4\")\n",
        "\n",
        "# Use dbFetch() twice\n",
        "dbFetch(res, n = 2)\n",
        "dbFetch(res)\n",
        "\n",
        "# Clear res\n",
        "dbClearResult(res)"
      ]
    },
    {
      "cell_type": "code",
      "execution_count": null,
      "metadata": {},
      "outputs": [],
      "source": [
        "# Latihan 2\n",
        "# Connect to the database\n",
        "library(DBI)\n",
        "con <- dbConnect(RMySQL::MySQL(),\n",
        "                 dbname = \"tweater\",\n",
        "                 host = \"courses.csrrinzqubik.us-east-1.rds.amazonaws.com\",\n",
        "                 port = 3306,\n",
        "                 user = \"student\",\n",
        "                 password = \"datacamp\")\n",
        "\n",
        "# Create the data frame  long_tweats\n",
        "long_tweats <- dbGetQuery(con, \"SELECT post, date FROM tweats WHERE CHAR_LENGTH(post) > 40\")\n",
        "\n",
        "# Print long_tweats\n",
        "long_tweats\n",
        "\n",
        "# Disconnect from the database\n",
        "dbDisconnect(con)"
      ]
    }
  ],
  "metadata": {
    "kernelspec": {
      "display_name": "Pyolite",
      "language": "python",
      "name": "python"
    },
    "language_info": {
      "codemirror_mode": {
        "name": "python",
        "version": 3
      },
      "file_extension": ".py",
      "mimetype": "text/x-python",
      "name": "python",
      "nbconvert_exporter": "python",
      "pygments_lexer": "ipython3",
      "version": "3.8"
    }
  },
  "nbformat": 4,
  "nbformat_minor": 4
}
