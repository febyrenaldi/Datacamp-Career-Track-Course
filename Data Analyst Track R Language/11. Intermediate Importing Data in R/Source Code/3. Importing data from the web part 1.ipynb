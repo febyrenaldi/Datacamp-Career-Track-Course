{
  "cells": [
    {
      "cell_type": "markdown",
      "metadata": {},
      "source": [
        "HTTP"
      ]
    },
    {
      "cell_type": "code",
      "execution_count": null,
      "metadata": {},
      "outputs": [],
      "source": [
        "# Latihan 1\n",
        "# Load the readr package\n",
        "library(readr)\n",
        "\n",
        "# Import the csv file: pools\n",
        "url_csv <- \"http://s3.amazonaws.com/assets.datacamp.com/production/course_1478/datasets/swimming_pools.csv\"\n",
        "pools <- read_csv(url_csv)\n",
        "\n",
        "# Import the txt file: potatoes\n",
        "url_delim <- \"http://s3.amazonaws.com/assets.datacamp.com/production/course_1478/datasets/potatoes.txt\"\n",
        "potatoes <- read_tsv(url_delim)\n",
        "\n",
        "# Print pools and potatoes\n",
        "pools\n",
        "potatoes"
      ]
    },
    {
      "cell_type": "code",
      "execution_count": null,
      "metadata": {},
      "outputs": [],
      "source": [
        "# Latihan 2\n",
        "# https URL to the swimming_pools csv file.\n",
        "url_csv <- \"https://s3.amazonaws.com/assets.datacamp.com/production/course_1478/datasets/swimming_pools.csv\"\n",
        "\n",
        "# Import the file using read.csv(): pools1\n",
        "pools1 <- read.csv(url_csv)\n",
        "\n",
        "# Load the readr package\n",
        "library(readr)\n",
        "\n",
        "# Import the file using read_csv(): pools2\n",
        "pools2 <- read_csv(url_csv)\n",
        "\n",
        "# Print the structure of pools1 and pools2\n",
        "str(pools1)\n",
        "str(pools2)"
      ]
    },
    {
      "cell_type": "markdown",
      "metadata": {},
      "source": [
        "Downloading files"
      ]
    },
    {
      "cell_type": "code",
      "execution_count": null,
      "metadata": {},
      "outputs": [],
      "source": [
        "# Latihan 1\n",
        "# Load the readxl and gdata package\n",
        "library(readxl)\n",
        "library(gdata)\n",
        "\n",
        "# Specification of url: url_xls\n",
        "url_xls <- \"http://s3.amazonaws.com/assets.datacamp.com/production/course_1478/datasets/latitude.xls\"\n",
        "\n",
        "# Import the .xls file with gdata: excel_gdata\n",
        "excel_gdata <- read.xls(url_xls)\n",
        "\n",
        "# Download file behind URL, name it local_latitude.xls\n",
        "download.file(url_xls, destfile = \"local_latitude.xls\")\n",
        "\n",
        "# Import the local .xls file with readxl: excel_readxl\n",
        "excel_readxl <- read_excel(\"local_latitude.xls\")"
      ]
    },
    {
      "cell_type": "code",
      "execution_count": null,
      "metadata": {},
      "outputs": [],
      "source": [
        "# Latihan 2\n",
        "# https URL to the wine RData file.\n",
        "url_rdata <- \"https://s3.amazonaws.com/assets.datacamp.com/production/course_1478/datasets/wine.RData\"\n",
        "\n",
        "# Download the wine file to your working directory\n",
        "download.file(url_rdata, destfile = \"wine_local.RData\")\n",
        "\n",
        "# Load the wine data into your workspace using load()\n",
        "load(\"wine_local.RData\")\n",
        "\n",
        "# Print out the summary of the wine data\n",
        "summary(wine)"
      ]
    },
    {
      "cell_type": "code",
      "execution_count": null,
      "metadata": {},
      "outputs": [],
      "source": [
        "# Latihan 3\n",
        "# Load the httr package\n",
        "library(httr)\n",
        "\n",
        "# Get the url, save response to resp\n",
        "url <- \"http://www.example.com/\"\n",
        "resp <- GET(url)\n",
        "\n",
        "# Print resp\n",
        "resp\n",
        "\n",
        "# Get the raw content of resp: raw_content\n",
        "raw_content <- content(resp, as = \"raw\")\n",
        "\n",
        "# Print the head of raw_content\n",
        "head(raw_content)"
      ]
    },
    {
      "cell_type": "code",
      "execution_count": null,
      "metadata": {},
      "outputs": [],
      "source": [
        "# Latihan 4\n",
        "# httr is already loaded\n",
        "\n",
        "# Get the url\n",
        "url <- \"http://www.omdbapi.com/?apikey=72bc447a&t=Annie+Hall&y=&plot=short&r=json\"\n",
        "resp <- GET(url)\n",
        "\n",
        "# Print resp\n",
        "resp\n",
        "\n",
        "# Print content of resp as text\n",
        "content(resp, as = \"text\")\n",
        "\n",
        "# Print content of resp\n",
        "content(resp)"
      ]
    }
  ],
  "metadata": {
    "kernelspec": {
      "display_name": "Pyolite",
      "language": "python",
      "name": "python"
    },
    "language_info": {
      "codemirror_mode": {
        "name": "python",
        "version": 3
      },
      "file_extension": ".py",
      "mimetype": "text/x-python",
      "name": "python",
      "nbconvert_exporter": "python",
      "pygments_lexer": "ipython3",
      "version": "3.8"
    }
  },
  "nbformat": 4,
  "nbformat_minor": 4
}
