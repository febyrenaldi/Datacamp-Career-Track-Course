{
  "cells": [
    {
      "cell_type": "markdown",
      "metadata": {},
      "source": [
        "Connect to the database"
      ]
    },
    {
      "cell_type": "code",
      "execution_count": null,
      "metadata": {},
      "outputs": [],
      "source": [
        "# Latihan 1\n",
        "# Connect to the database\n",
        "library(DBI)\n",
        "con <- dbConnect(RMySQL::MySQL(),\n",
        "                 dbname = \"tweater\",\n",
        "                 host = \"courses.csrrinzqubik.us-east-1.rds.amazonaws.com\",\n",
        "                 port = 3306,\n",
        "                 user = \"student\",\n",
        "                 password = \"datacamp\")"
      ]
    },
    {
      "cell_type": "markdown",
      "metadata": {},
      "source": [
        "Import table data"
      ]
    },
    {
      "cell_type": "code",
      "execution_count": null,
      "metadata": {},
      "outputs": [],
      "source": [
        "# Latihan 1\n",
        "# Load the DBI package\n",
        "library(DBI)\n",
        "# Connect to the MySQL database: con\n",
        "con <- dbConnect(RMySQL::MySQL(), \n",
        "                 dbname = \"tweater\", \n",
        "                 host = \"courses.csrrinzqubik.us-east-1.rds.amazonaws.com\", \n",
        "                 port = 3306,\n",
        "                 user = \"student\",\n",
        "                 password = \"datacamp\")\n",
        "# Build a vector of table names: tables\n",
        "tables <- dbListTables(con)\n",
        "# Display structure of tables\n",
        "str(tables)"
      ]
    },
    {
      "cell_type": "code",
      "execution_count": null,
      "metadata": {},
      "outputs": [],
      "source": [
        "# Latihan 2\n",
        "# Load the DBI package\n",
        "library(DBI)\n",
        "\n",
        "# Connect to the MySQL database: con\n",
        "con <- dbConnect(RMySQL::MySQL(), \n",
        "                 dbname = \"tweater\", \n",
        "                 host = \"courses.csrrinzqubik.us-east-1.rds.amazonaws.com\", \n",
        "                 port = 3306,\n",
        "                 user = \"student\",\n",
        "                 password = \"datacamp\")\n",
        "\n",
        "# Import the users table from tweater: users\n",
        "users <- dbReadTable(con, \"users\")\n",
        "\n",
        "# Print users\n",
        "users"
      ]
    },
    {
      "cell_type": "code",
      "execution_count": null,
      "metadata": {},
      "outputs": [],
      "source": [
        "# Latihan 3\n",
        "# Load the DBI package\n",
        "library(DBI)\n",
        "\n",
        "# Connect to the MySQL database: con\n",
        "con <- dbConnect(RMySQL::MySQL(), \n",
        "                 dbname = \"tweater\", \n",
        "                 host = \"courses.csrrinzqubik.us-east-1.rds.amazonaws.com\", \n",
        "                 port = 3306,\n",
        "                 user = \"student\",\n",
        "                 password = \"datacamp\")\n",
        "\n",
        "# Get table names\n",
        "table_names <- dbListTables(con)\n",
        "\n",
        "# Import all tables\n",
        "tables <- lapply(table_names, dbReadTable, conn = con)\n",
        "\n",
        "# Print out tables\n",
        "tables"
      ]
    }
  ],
  "metadata": {
    "kernelspec": {
      "display_name": "Pyolite",
      "language": "python",
      "name": "python"
    },
    "language_info": {
      "codemirror_mode": {
        "name": "python",
        "version": 3
      },
      "file_extension": ".py",
      "mimetype": "text/x-python",
      "name": "python",
      "nbconvert_exporter": "python",
      "pygments_lexer": "ipython3",
      "version": "3.8"
    }
  },
  "nbformat": 4,
  "nbformat_minor": 4
}
