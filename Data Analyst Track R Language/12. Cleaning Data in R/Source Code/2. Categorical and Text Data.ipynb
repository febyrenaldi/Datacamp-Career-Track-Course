{
  "cells": [
    {
      "cell_type": "markdown",
      "metadata": {},
      "source": [
        "Checking membership"
      ]
    },
    {
      "cell_type": "code",
      "execution_count": null,
      "metadata": {},
      "outputs": [],
      "source": [
        "# Latihan 1\n",
        "# Count the number of occurrences of dest_size\n",
        "sfo_survey %>%\n",
        "  count(dest_size)"
      ]
    },
    {
      "cell_type": "code",
      "execution_count": null,
      "metadata": {},
      "outputs": [],
      "source": [
        "DM.result = 2"
      ]
    },
    {
      "cell_type": "code",
      "execution_count": null,
      "metadata": {},
      "outputs": [],
      "source": [
        "# Find bad dest_size rows\n",
        "sfo_survey %>% \n",
        "  # Join with dest_sizes data frame to get bad dest_size rows\n",
        "  anti_join(dest_sizes, by = \"dest_size\") %>%\n",
        "  # Select id, airline, destination, and dest_size cols\n",
        "  select(id, airline, destination, dest_size)"
      ]
    },
    {
      "cell_type": "code",
      "execution_count": null,
      "metadata": {},
      "outputs": [],
      "source": [
        "# Remove bad dest_size rows\n",
        "sfo_survey %>% \n",
        "  # Join with dest_sizes\n",
        "  semi_join(dest_sizes, by = \"dest_size\") %>%\n",
        "  # Count the number of each dest_size\n",
        "  count(dest_size)"
      ]
    },
    {
      "cell_type": "markdown",
      "metadata": {},
      "source": [
        "Categorical data problems"
      ]
    },
    {
      "cell_type": "code",
      "execution_count": null,
      "metadata": {},
      "outputs": [],
      "source": [
        "# Latihan 1\n",
        "# Count dest_size\n",
        "sfo_survey %>%\n",
        "  count(dest_size)"
      ]
    },
    {
      "cell_type": "code",
      "execution_count": null,
      "metadata": {},
      "outputs": [],
      "source": [
        "DM.result = 3"
      ]
    },
    {
      "cell_type": "code",
      "execution_count": null,
      "metadata": {},
      "outputs": [],
      "source": [
        "# Count dest_size\n",
        "sfo_survey %>%\n",
        "  count(dest_size)\n",
        "\n",
        "# Count cleanliness\n",
        "sfo_survey %>%\n",
        "  count(cleanliness)"
      ]
    },
    {
      "cell_type": "code",
      "execution_count": null,
      "metadata": {},
      "outputs": [],
      "source": [
        "DM.result = 3"
      ]
    },
    {
      "cell_type": "code",
      "execution_count": null,
      "metadata": {},
      "outputs": [],
      "source": [
        "# Latihan 2\n",
        "# Add new columns to sfo_survey\n",
        "sfo_survey <- sfo_survey %>%\n",
        "  # dest_size_trimmed: dest_size without whitespace\n",
        "  mutate(dest_size_trimmed = str_trim(dest_size),\n",
        "         # cleanliness_lower: cleanliness converted to lowercase\n",
        "         cleanliness_lower = str_to_lower(cleanliness))\n",
        "\n",
        "# Count values of dest_size_trimmed\n",
        "sfo_survey %>%\n",
        "  count(dest_size_trimmed)\n",
        "\n",
        "# Count values of cleanliness_lower\n",
        "sfo_survey %>%\n",
        "  count(cleanliness_lower)"
      ]
    },
    {
      "cell_type": "code",
      "execution_count": null,
      "metadata": {},
      "outputs": [],
      "source": [
        "# Latihan 3\n",
        "# Count categories of dest_region\n",
        "sfo_survey %>%\n",
        "  count(dest_region)"
      ]
    },
    {
      "cell_type": "code",
      "execution_count": null,
      "metadata": {},
      "outputs": [],
      "source": [
        "DM.result = 2"
      ]
    },
    {
      "cell_type": "code",
      "execution_count": null,
      "metadata": {},
      "outputs": [],
      "source": [
        "# Count categories of dest_region\n",
        "sfo_survey %>%\n",
        "  count(dest_region)\n",
        "\n",
        "# Categories to map to Europe\n",
        "europe_categories <- c(\"EU\", \"eur\", \"Europ\")\n",
        "\n",
        "# Add a new col dest_region_collapsed\n",
        "sfo_survey %>%\n",
        "  # Map all categories in europe_categories to Europe\n",
        "  mutate(dest_region_collapsed = fct_collapse(dest_region, \n",
        "                                              Europe = europe_categories)) %>%\n",
        "  # Count categories of dest_region_collapsed\n",
        "  count(dest_region_collapsed)"
      ]
    },
    {
      "cell_type": "markdown",
      "metadata": {},
      "source": [
        "Cleaning text data"
      ]
    },
    {
      "cell_type": "code",
      "execution_count": null,
      "metadata": {},
      "outputs": [],
      "source": [
        "# Latihan 1\n",
        "# Filter for rows with \"-\" in the phone column\n",
        "sfo_survey %>%\n",
        "  filter(str_detect(phone, \"-\"))"
      ]
    },
    {
      "cell_type": "code",
      "execution_count": null,
      "metadata": {},
      "outputs": [],
      "source": [
        "# Filter for rows with \"(\" or \")\" in the phone column\n",
        "sfo_survey %>%\n",
        "  filter(str_detect(phone, fixed(\"(\")) | str_detect(phone, fixed(\")\")))"
      ]
    },
    {
      "cell_type": "code",
      "execution_count": null,
      "metadata": {},
      "outputs": [],
      "source": [
        "# Latihan 2\n",
        "# Remove parentheses from phone column\n",
        "phone_no_parens <- sfo_survey$phone %>%\n",
        "  # Remove \"(\"s\n",
        "  str_remove_all(fixed(\"(\")) %>%\n",
        "  # Remove \")\"s\n",
        "  str_remove_all(fixed(\")\"))"
      ]
    },
    {
      "cell_type": "code",
      "execution_count": null,
      "metadata": {},
      "outputs": [],
      "source": [
        "# Remove parentheses from phone column\n",
        "phone_no_parens <- sfo_survey$phone %>%\n",
        "  # Remove \"(\"s\n",
        "  str_remove_all(fixed(\"(\")) %>%\n",
        "  # Remove \")\"s\n",
        "  str_remove_all(fixed(\")\"))\n",
        "\n",
        "# Add phone_no_parens as column\n",
        "sfo_survey %>%\n",
        "  mutate(phone_no_parens = phone_no_parens)"
      ]
    },
    {
      "cell_type": "code",
      "execution_count": null,
      "metadata": {},
      "outputs": [],
      "source": [
        "# Remove parentheses from phone column\n",
        "phone_no_parens <- sfo_survey$phone %>%\n",
        "  # Remove \"(\"s\n",
        "  str_remove_all(fixed(\"(\")) %>%\n",
        "  # Remove \")\"s\n",
        "  str_remove_all(fixed(\")\"))\n",
        "\n",
        "# Add phone_no_parens as column\n",
        "sfo_survey %>%\n",
        "  mutate(phone_no_parens = phone_no_parens,\n",
        "  # Replace all hyphens in phone_no_parens with spaces\n",
        "         phone_clean = str_replace_all(phone_no_parens, \"-\", \" \"))"
      ]
    },
    {
      "cell_type": "code",
      "execution_count": null,
      "metadata": {},
      "outputs": [],
      "source": [
        "# Latihan 3\n",
        "# Check out the invalid numbers\n",
        "sfo_survey %>%\n",
        "  filter(str_length(phone) != 12)\n",
        "\n",
        "# Remove rows with invalid numbers\n",
        "sfo_survey %>%\n",
        "  filter(str_length(phone) == 12)"
      ]
    }
  ],
  "metadata": {
    "kernelspec": {
      "display_name": "Pyolite",
      "language": "python",
      "name": "python"
    },
    "language_info": {
      "codemirror_mode": {
        "name": "python",
        "version": 3
      },
      "file_extension": ".py",
      "mimetype": "text/x-python",
      "name": "python",
      "nbconvert_exporter": "python",
      "pygments_lexer": "ipython3",
      "version": "3.8"
    }
  },
  "nbformat": 4,
  "nbformat_minor": 4
}
