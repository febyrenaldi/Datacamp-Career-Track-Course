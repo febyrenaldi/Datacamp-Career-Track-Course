{
  "cells": [
    {
      "cell_type": "markdown",
      "metadata": {},
      "source": [
        "Comparing strings"
      ]
    },
    {
      "cell_type": "code",
      "execution_count": null,
      "metadata": {},
      "outputs": [],
      "source": [
        "# Latihan 1\n",
        "# Calculate Damerau-Levenshtein distance\n",
        "stringdist(\"las angelos\", \"los angeles\", method = \"dl\")"
      ]
    },
    {
      "cell_type": "code",
      "execution_count": null,
      "metadata": {},
      "outputs": [],
      "source": [
        "# Calculate LCS distance\n",
        "stringdist(\"las angelos\", \"los angeles\", method = \"lcs\")"
      ]
    },
    {
      "cell_type": "code",
      "execution_count": null,
      "metadata": {},
      "outputs": [],
      "source": [
        "# Calculate Jaccard distance\n",
        "stringdist(\"las angelos\", \"los angeles\", method = \"jaccard\")"
      ]
    },
    {
      "cell_type": "code",
      "execution_count": null,
      "metadata": {},
      "outputs": [],
      "source": [
        "DM.result = 2"
      ]
    },
    {
      "cell_type": "code",
      "execution_count": null,
      "metadata": {},
      "outputs": [],
      "source": [
        "# Latihan 2\n",
        "# Count the number of each city variation\n",
        "zagat %>%\n",
        "  count(city)"
      ]
    },
    {
      "cell_type": "code",
      "execution_count": null,
      "metadata": {},
      "outputs": [],
      "source": [
        "# Count the number of each city variation\n",
        "zagat %>%\n",
        "  count(city)\n",
        "\n",
        "# Join and look at results\n",
        "zagat %>%\n",
        "  # Left join based on stringdist using city and city_actual cols\n",
        "  stringdist_left_join(cities, by = c(\"city\" = \"city_actual\")) %>%\n",
        "  # Select the name, city, and city_actual cols\n",
        "  select(name, city, city_actual)"
      ]
    },
    {
      "cell_type": "markdown",
      "metadata": {},
      "source": [
        "Generating and comparing pairs"
      ]
    },
    {
      "cell_type": "code",
      "execution_count": null,
      "metadata": {},
      "outputs": [],
      "source": [
        "# Latihan 1\n",
        "# Load reclin\n",
        "library(reclin)\n",
        "\n",
        "# Generate all possible pairs\n",
        "pair_blocking(zagat, fodors)"
      ]
    },
    {
      "cell_type": "code",
      "execution_count": null,
      "metadata": {},
      "outputs": [],
      "source": [
        "# Load reclin\n",
        "library(reclin)\n",
        "\n",
        "# Generate pairs with same city\n",
        "pair_blocking(zagat, fodors, blocking_var = \"city\")"
      ]
    },
    {
      "cell_type": "code",
      "execution_count": null,
      "metadata": {},
      "outputs": [],
      "source": [
        "# Latihan 2\n",
        "# Generate pairs\n",
        "pair_blocking(zagat, fodors, blocking_var = \"city\") %>%\n",
        "  # Compare pairs by name using lcs()\n",
        "  compare_pairs(by = \"name\",\n",
        "                default_comparator = lcs())"
      ]
    },
    {
      "cell_type": "code",
      "execution_count": null,
      "metadata": {},
      "outputs": [],
      "source": [
        "# Generate pairs\n",
        "pair_blocking(zagat, fodors, blocking_var = \"city\") %>%\n",
        "  # Compare pairs by name, phone, addr\n",
        "  compare_pairs(by = c(\"name\", \"phone\", \"addr\"),\n",
        "                default_comparator = jaro_winkler())"
      ]
    },
    {
      "cell_type": "markdown",
      "metadata": {},
      "source": [
        "Scoring and linking"
      ]
    },
    {
      "cell_type": "code",
      "execution_count": null,
      "metadata": {},
      "outputs": [],
      "source": [
        "# Latihan 1\n",
        "# Create pairs\n",
        "pair_blocking(zagat, fodors, blocking_var = \"city\") %>%\n",
        "  # Compare pairs\n",
        "  compare_pairs(by = \"name\", default_comparator = jaro_winkler()) %>%\n",
        "  # Score pairs\n",
        "  score_problink()"
      ]
    },
    {
      "cell_type": "code",
      "execution_count": null,
      "metadata": {},
      "outputs": [],
      "source": [
        "# Create pairs\n",
        "pair_blocking(zagat, fodors, blocking_var = \"city\") %>%\n",
        "  # Compare pairs\n",
        "  compare_pairs(by = \"name\", default_comparator = jaro_winkler()) %>%\n",
        "  # Score pairs\n",
        "  score_problink() %>%\n",
        "  # Select pairs\n",
        "  select_n_to_m()"
      ]
    },
    {
      "cell_type": "code",
      "execution_count": null,
      "metadata": {},
      "outputs": [],
      "source": [
        "# Create pairs\n",
        "pair_blocking(zagat, fodors, blocking_var = \"city\") %>%\n",
        "  # Compare pairs\n",
        "  compare_pairs(by = \"name\", default_comparator = jaro_winkler()) %>%\n",
        "  # Score pairs\n",
        "  score_problink() %>%\n",
        "  # Select pairs\n",
        "  select_n_to_m() %>%\n",
        "  # Link data \n",
        "  link()"
      ]
    }
  ],
  "metadata": {
    "kernelspec": {
      "display_name": "Pyolite",
      "language": "python",
      "name": "python"
    },
    "language_info": {
      "codemirror_mode": {
        "name": "python",
        "version": 3
      },
      "file_extension": ".py",
      "mimetype": "text/x-python",
      "name": "python",
      "nbconvert_exporter": "python",
      "pygments_lexer": "ipython3",
      "version": "3.8"
    }
  },
  "nbformat": 4,
  "nbformat_minor": 4
}
