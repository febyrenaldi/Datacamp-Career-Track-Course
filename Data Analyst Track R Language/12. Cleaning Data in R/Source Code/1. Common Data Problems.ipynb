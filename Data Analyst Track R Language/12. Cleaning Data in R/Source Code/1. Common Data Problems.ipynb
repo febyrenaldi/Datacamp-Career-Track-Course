{
  "cells": [
    {
      "cell_type": "markdown",
      "metadata": {},
      "source": [
        "Data type constraints"
      ]
    },
    {
      "cell_type": "code",
      "execution_count": null,
      "metadata": {},
      "outputs": [],
      "source": [
        "# Latihan 1\n",
        "# Glimpse at bike_share_rides\n",
        "glimpse(bike_share_rides)\n",
        "\n",
        "# Summary of user_birth_year\n",
        "summary(bike_share_rides$user_birth_year)"
      ]
    },
    {
      "cell_type": "code",
      "execution_count": null,
      "metadata": {},
      "outputs": [],
      "source": [
        "DM.result = 3"
      ]
    },
    {
      "cell_type": "code",
      "execution_count": null,
      "metadata": {},
      "outputs": [],
      "source": [
        "# Glimpse at bike_share_rides\n",
        "glimpse(bike_share_rides)\n",
        "\n",
        "# Summary of user_birth_year\n",
        "summary(bike_share_rides$user_birth_year)\n",
        "\n",
        "# Convert user_birth_year to factor: user_birth_year_fct\n",
        "bike_share_rides <- bike_share_rides %>%\n",
        "  mutate(user_birth_year_fct = as.factor(user_birth_year))\n",
        "\n",
        "# Assert user_birth_year_fct is a factor\n",
        "assert_is_factor(bike_share_rides$user_birth_year_fct)\n",
        "\n",
        "# Summary of user_birth_year_fct\n",
        "summary(bike_share_rides$user_birth_year_fct)"
      ]
    },
    {
      "cell_type": "code",
      "execution_count": null,
      "metadata": {},
      "outputs": [],
      "source": [
        "# Latihan 2\n",
        "bike_share_rides <- bike_share_rides %>%\n",
        "  # Remove 'minutes' from duration: duration_trimmed\n",
        "  mutate(duration_trimmed = str_remove(duration, \"minutes\"),\n",
        "         # Convert duration_trimmed to numeric: duration_mins\n",
        "         duration_mins = as.numeric(duration_trimmed))\n",
        "\n",
        "# Glimpse at bike_share_rides\n",
        "glimpse(bike_share_rides)\n",
        "\n",
        "# Assert duration_mins is numeric\n",
        "assert_is_numeric(bike_share_rides$duration_mins)\n",
        "\n",
        "# Calculate mean duration\n",
        "mean(bike_share_rides$duration_mins)"
      ]
    },
    {
      "cell_type": "markdown",
      "metadata": {},
      "source": [
        "Range constraints"
      ]
    },
    {
      "cell_type": "code",
      "execution_count": null,
      "metadata": {},
      "outputs": [],
      "source": [
        "# Latihan 1\n",
        "# Create breaks\n",
        "breaks <- c(min(bike_share_rides$duration_min), 0, 1440, max(bike_share_rides$duration_min))\n",
        "\n",
        "# Create a histogram of duration_min\n",
        "ggplot(bike_share_rides, aes(duration_min)) +\n",
        "  geom_histogram(breaks = breaks)"
      ]
    },
    {
      "cell_type": "code",
      "execution_count": null,
      "metadata": {},
      "outputs": [],
      "source": [
        "# Create breaks\n",
        "breaks <- c(min(bike_share_rides$duration_min), 0, 1440, max(bike_share_rides$duration_min))\n",
        "\n",
        "# Create a histogram of duration_min\n",
        "ggplot(bike_share_rides, aes(duration_min)) +\n",
        "  geom_histogram(breaks = breaks)\n",
        "\n",
        "# duration_min_const: replace vals of duration_min > 1440 with 1440\n",
        "bike_share_rides <- bike_share_rides %>%\n",
        "  mutate(duration_min_const = replace(duration_min, duration_min > 1440, 1440))\n",
        "\n",
        "# Make sure all values of duration_min_const are between 0 and 1440\n",
        "assert_all_are_in_closed_range(bike_share_rides$duration_min_const, lower = 0, upper = 1440)"
      ]
    },
    {
      "cell_type": "code",
      "execution_count": null,
      "metadata": {},
      "outputs": [],
      "source": [
        "# Latihan 2\n",
        "library(lubridate)\n",
        "# Convert date to Date type\n",
        "bike_share_rides <- bike_share_rides %>%\n",
        "  mutate(date = as.Date(date))\n",
        "\n",
        "# Make sure all dates are in the past\n",
        "assert_all_are_in_past(bike_share_rides$date)\n",
        "\n",
        "# Filter for rides that occurred before or on today's date\n",
        "bike_share_rides_past <- bike_share_rides %>%\n",
        "  filter(date <= today())\n",
        "\n",
        "# Make sure all dates from bike_share_rides_past are in the past\n",
        "assert_all_are_in_past(bike_share_rides_past$date)"
      ]
    },
    {
      "cell_type": "markdown",
      "metadata": {},
      "source": [
        "Uniqueness constraints"
      ]
    },
    {
      "cell_type": "code",
      "execution_count": null,
      "metadata": {},
      "outputs": [],
      "source": [
        "# Latihan 1\n",
        "# Count the number of full duplicates\n",
        "sum(duplicated(bike_share_rides))\n",
        "\n",
        "# Remove duplicates\n",
        "bike_share_rides_unique <- distinct(bike_share_rides)\n",
        "\n",
        "# Count the full duplicates in bike_share_rides_unique\n",
        "sum(duplicated(bike_share_rides_unique))"
      ]
    },
    {
      "cell_type": "code",
      "execution_count": null,
      "metadata": {},
      "outputs": [],
      "source": [
        "# Latihan 2\n",
        "# Find duplicated ride_ids\n",
        "bike_share_rides %>% \n",
        "  # Count the number of occurrences of each ride_id\n",
        "  count(ride_id) %>% \n",
        "  # Filter for rows with a count > 1\n",
        "  filter(n > 1)"
      ]
    },
    {
      "cell_type": "code",
      "execution_count": null,
      "metadata": {},
      "outputs": [],
      "source": [
        "# Find duplicated ride_ids\n",
        "bike_share_rides %>% \n",
        "  count(ride_id) %>% \n",
        "  filter(n > 1)\n",
        "\n",
        "# Remove full and partial duplicates\n",
        "bike_share_rides_unique <- bike_share_rides %>%\n",
        "  # Only based on ride_id instead of all cols\n",
        "  distinct(ride_id, .keep_all = TRUE)"
      ]
    },
    {
      "cell_type": "code",
      "execution_count": null,
      "metadata": {},
      "outputs": [],
      "source": [
        "# Find duplicated ride_ids\n",
        "bike_share_rides %>% \n",
        "  count(ride_id) %>% \n",
        "  filter(n > 1)\n",
        "\n",
        "# Remove full and partial duplicates\n",
        "bike_share_rides_unique <- bike_share_rides %>%\n",
        "  # Only based on ride_id instead of all cols\n",
        "  distinct(ride_id, .keep_all = TRUE)\n",
        "\n",
        "# Find duplicated ride_ids in bike_share_rides_unique\n",
        "bike_share_rides_unique %>%\n",
        "  # Count the number of occurrences of each ride_id\n",
        "  count(ride_id) %>%\n",
        "  # Filter for rows with a count > 1\n",
        "  filter(n > 1)"
      ]
    },
    {
      "cell_type": "code",
      "execution_count": null,
      "metadata": {},
      "outputs": [],
      "source": [
        "# Latihan 3\n",
        "bike_share_rides %>%\n",
        "  # Group by ride_id and date\n",
        "  group_by(ride_id, date) %>%\n",
        "  # Add duration_min_avg column\n",
        "  mutate(duration_min_avg = mean(duration_min)) %>%\n",
        "  # Remove duplicates based on ride_id and date, keep all cols\n",
        "  distinct(ride_id, date, .keep_all = TRUE) %>%\n",
        "  # Remove duration_min column\n",
        "  select(-duration_min)"
      ]
    }
  ],
  "metadata": {
    "kernelspec": {
      "display_name": "Pyolite",
      "language": "python",
      "name": "python"
    },
    "language_info": {
      "codemirror_mode": {
        "name": "python",
        "version": 3
      },
      "file_extension": ".py",
      "mimetype": "text/x-python",
      "name": "python",
      "nbconvert_exporter": "python",
      "pygments_lexer": "ipython3",
      "version": "3.8"
    }
  },
  "nbformat": 4,
  "nbformat_minor": 4
}
