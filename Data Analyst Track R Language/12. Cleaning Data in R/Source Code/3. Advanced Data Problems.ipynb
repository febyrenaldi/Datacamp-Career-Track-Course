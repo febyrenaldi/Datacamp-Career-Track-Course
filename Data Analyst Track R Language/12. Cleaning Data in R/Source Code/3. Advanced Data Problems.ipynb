{
  "cells": [
    {
      "cell_type": "markdown",
      "metadata": {},
      "source": [
        "Uniformity"
      ]
    },
    {
      "cell_type": "code",
      "execution_count": null,
      "metadata": {},
      "outputs": [],
      "source": [
        "# Latihan 1\n",
        "# Check out the accounts data frame\n",
        "head(accounts)"
      ]
    },
    {
      "cell_type": "code",
      "execution_count": null,
      "metadata": {},
      "outputs": [],
      "source": [
        "DM.result = 2"
      ]
    },
    {
      "cell_type": "code",
      "execution_count": null,
      "metadata": {},
      "outputs": [],
      "source": [
        "# Check out the accounts data frame\n",
        "head(accounts)\n",
        "\n",
        "# Define the date formats\n",
        "formats <- c(\"%Y-%m-%d\", \"%B %d, %Y\")\n",
        "\n",
        "# Convert dates to the same format\n",
        "accounts %>%\n",
        "  mutate(date_opened_clean = parse_date_time(date_opened, orders = formats))"
      ]
    },
    {
      "cell_type": "code",
      "execution_count": null,
      "metadata": {},
      "outputs": [],
      "source": [
        "# Latihan 2\n",
        "# Scatter plot of opening date and total amount\n",
        "accounts %>%\n",
        "  ggplot(aes(x = date_opened, y = total)) +\n",
        "  geom_point()"
      ]
    },
    {
      "cell_type": "code",
      "execution_count": null,
      "metadata": {},
      "outputs": [],
      "source": [
        "# Scatter plot of opening date and total amount\n",
        "accounts %>%\n",
        "  ggplot(aes(x = date_opened, y = total)) +\n",
        "  geom_point()\n",
        "\n",
        "# Left join accounts and account_offices by id\n",
        "accounts %>%\n",
        "  left_join(account_offices, by = \"id\")"
      ]
    },
    {
      "cell_type": "code",
      "execution_count": null,
      "metadata": {},
      "outputs": [],
      "source": [
        "# Scatter plot of opening date and total amount\n",
        "accounts %>%\n",
        "  ggplot(aes(x = date_opened, y = total)) +\n",
        "  geom_point()\n",
        "\n",
        "# Left join accounts to account_offices by id\n",
        "accounts %>%\n",
        "  left_join(account_offices, by = \"id\") %>%\n",
        "  # Convert totals from the Tokyo office to USD\n",
        "  mutate(total_usd = ifelse(office == \"Tokyo\", total / 104, total))"
      ]
    },
    {
      "cell_type": "code",
      "execution_count": null,
      "metadata": {},
      "outputs": [],
      "source": [
        "# Scatter plot of opening date and total amount\n",
        "accounts %>%\n",
        "  ggplot(aes(x = date_opened, y = total)) +\n",
        "  geom_point()\n",
        "\n",
        "# Left join accounts to account_offices by id\n",
        "accounts %>%\n",
        "  left_join(account_offices, by = \"id\") %>%\n",
        "  # Convert totals from the Tokyo office to USD\n",
        "  mutate(total_usd = ifelse(office == \"Tokyo\", total / 104, total)) %>%\n",
        "  # Scatter plot of opening date vs total_usd\n",
        "  ggplot(aes(x = date_opened, y = total_usd)) +\n",
        "    geom_point()"
      ]
    },
    {
      "cell_type": "markdown",
      "metadata": {},
      "source": [
        "Cross field validation"
      ]
    },
    {
      "cell_type": "code",
      "execution_count": null,
      "metadata": {},
      "outputs": [],
      "source": [
        "# Latihan 1\n",
        "# Find invalid totals\n",
        "accounts %>%\n",
        "  # theoretical_total: sum of the three funds\n",
        "  mutate(theoretical_total = fund_A + fund_B + fund_C) %>%\n",
        "  # Find accounts where total doesn't match theoretical_total\n",
        "  filter(theoretical_total != total)"
      ]
    },
    {
      "cell_type": "code",
      "execution_count": null,
      "metadata": {},
      "outputs": [],
      "source": [
        "# Latihan 2\n",
        "# Find invalid acct_age\n",
        "accounts %>%\n",
        "  # theoretical_age: age of acct based on date_opened\n",
        "  mutate(theoretical_age = floor(as.numeric(date_opened %--% today(), \"years\"))) %>%\n",
        "  # Filter for rows where acct_age is different from theoretical_age\n",
        "  filter(acct_age != theoretical_age)"
      ]
    },
    {
      "cell_type": "markdown",
      "metadata": {},
      "source": [
        "Completeness"
      ]
    },
    {
      "cell_type": "code",
      "execution_count": null,
      "metadata": {},
      "outputs": [],
      "source": [
        "# Latihan 1\n",
        "# Visualize the missing values by column\n",
        "vis_miss(accounts)"
      ]
    },
    {
      "cell_type": "code",
      "execution_count": null,
      "metadata": {},
      "outputs": [],
      "source": [
        "# Visualize the missing values by column\n",
        "vis_miss(accounts)\n",
        "\n",
        "accounts %>%\n",
        "  # missing_inv: Is inv_amount missing?\n",
        "  mutate(missing_inv = is.na(inv_amount)) %>%\n",
        "  # Group by missing_inv\n",
        "  group_by(missing_inv) %>%\n",
        "  # Calculate mean age for each missing_inv group\n",
        "  summarize(avg_age = mean(age))"
      ]
    },
    {
      "cell_type": "code",
      "execution_count": null,
      "metadata": {},
      "outputs": [],
      "source": [
        "DM.result = 2"
      ]
    },
    {
      "cell_type": "code",
      "execution_count": null,
      "metadata": {},
      "outputs": [],
      "source": [
        "# Visualize the missing values by column\n",
        "vis_miss(accounts)\n",
        "\n",
        "accounts %>%\n",
        "  # missing_inv: Is inv_amount missing?\n",
        "  mutate(missing_inv = is.na(inv_amount)) %>%\n",
        "  # Group by missing_inv\n",
        "  group_by(missing_inv) %>%\n",
        "  # Calculate mean age for each missing_inv group\n",
        "  summarize(avg_age = mean(age))\n",
        "\n",
        "# Sort by age and visualize missing vals\n",
        "accounts %>%\n",
        "  arrange(age) %>%\n",
        "  vis_miss()"
      ]
    },
    {
      "cell_type": "code",
      "execution_count": null,
      "metadata": {},
      "outputs": [],
      "source": [
        "# Latihan 2\n",
        "# Create accounts_clean\n",
        "accounts_clean <- accounts %>%\n",
        "  # Filter to remove rows with missing cust_id\n",
        "  filter(!is.na(cust_id))\n",
        "\n",
        "accounts_clean"
      ]
    },
    {
      "cell_type": "code",
      "execution_count": null,
      "metadata": {},
      "outputs": [],
      "source": [
        "# Create accounts_clean\n",
        "accounts_clean <- accounts %>%\n",
        "  # Filter to remove rows with missing cust_id\n",
        "  filter(!is.na(cust_id)) %>%\n",
        "  # Add new col acct_amount_filled with replaced NAs\n",
        "  mutate(acct_amount_filled = ifelse(is.na(acct_amount), inv_amount * 5, acct_amount))\n",
        "\n",
        "accounts_clean"
      ]
    },
    {
      "cell_type": "code",
      "execution_count": null,
      "metadata": {},
      "outputs": [],
      "source": [
        "# Create accounts_clean\n",
        "accounts_clean <- accounts %>%\n",
        "  # Filter to remove rows with missing cust_id\n",
        "  filter(!is.na(cust_id)) %>%\n",
        "  # Add new col acct_amount_filled with replaced NAs\n",
        "  mutate(acct_amount_filled = ifelse(is.na(acct_amount), inv_amount * 5, acct_amount))\n",
        "\n",
        "# Assert that cust_id has no missing vals\n",
        "assert_all_are_not_na(accounts_clean$cust_id)"
      ]
    },
    {
      "cell_type": "code",
      "execution_count": null,
      "metadata": {},
      "outputs": [],
      "source": [
        "# Create accounts_clean\n",
        "accounts_clean <- accounts %>%\n",
        "  # Filter to remove rows with missing cust_id\n",
        "  filter(!is.na(cust_id)) %>%\n",
        "  # Add new col acct_amount_filled with replaced NAs\n",
        "  mutate(acct_amount_filled = ifelse(is.na(acct_amount), inv_amount * 5, acct_amount))\n",
        "\n",
        "# Assert that cust_id has no missing vals\n",
        "assert_all_are_not_na(accounts_clean$cust_id)\n",
        "\n",
        "# Assert that acct_amount_filled has no missing vals\n",
        "assert_all_are_not_na(accounts_clean$acct_amount_filled)"
      ]
    }
  ],
  "metadata": {
    "kernelspec": {
      "display_name": "Pyolite",
      "language": "python",
      "name": "python"
    },
    "language_info": {
      "codemirror_mode": {
        "name": "python",
        "version": 3
      },
      "file_extension": ".py",
      "mimetype": "text/x-python",
      "name": "python",
      "nbconvert_exporter": "python",
      "pygments_lexer": "ipython3",
      "version": "3.8"
    }
  },
  "nbformat": 4,
  "nbformat_minor": 4
}
