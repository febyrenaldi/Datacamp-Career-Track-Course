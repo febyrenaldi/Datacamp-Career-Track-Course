{
  "cells": [
    {
      "cell_type": "markdown",
      "id": "84a3fff6",
      "metadata": {},
      "source": [
        "Scatter plots"
      ]
    },
    {
      "cell_type": "code",
      "execution_count": null,
      "id": "96d45af7",
      "metadata": {},
      "outputs": [],
      "source": [
        "# Latihan 1\n",
        "# Plot price vs. carat, colored by clarity\n",
        "plt_price_vs_carat_by_clarity <- ggplot(diamonds, aes(carat, price, color = clarity))\n",
        "\n",
        "# Add a point layer with tiny points\n",
        "plt_price_vs_carat_by_clarity + geom_point(alpha = 0.5, shape = \".\")"
      ]
    },
    {
      "cell_type": "code",
      "execution_count": null,
      "id": "32044ed4",
      "metadata": {},
      "outputs": [],
      "source": [
        "# Plot price vs. carat, colored by clarity\n",
        "plt_price_vs_carat_by_clarity <- ggplot(diamonds, aes(carat, price, color = clarity))\n",
        "\n",
        "# Set transparency to 0.5\n",
        "plt_price_vs_carat_by_clarity + geom_point(alpha = 0.5, shape = 16)"
      ]
    },
    {
      "cell_type": "code",
      "execution_count": null,
      "id": "43084583",
      "metadata": {},
      "outputs": [],
      "source": [
        "# Latihan 2\n",
        "# Plot base\n",
        "plt_mpg_vs_fcyl_by_fam <- ggplot(mtcars, aes(fcyl, mpg, color = fam))\n",
        "\n",
        "# Default points are shown for comparison\n",
        "plt_mpg_vs_fcyl_by_fam + geom_point()"
      ]
    },
    {
      "cell_type": "code",
      "execution_count": null,
      "id": "0deaadc9",
      "metadata": {},
      "outputs": [],
      "source": [
        "# Plot base\n",
        "plt_mpg_vs_fcyl_by_fam <- ggplot(mtcars, aes(fcyl, mpg, color = fam))\n",
        "\n",
        "# Default points are shown for comparison\n",
        "plt_mpg_vs_fcyl_by_fam + geom_point()\n",
        "\n",
        "# Alter the point positions by jittering, width 0.3\n",
        "plt_mpg_vs_fcyl_by_fam + geom_point(position = position_jitter(0.3))"
      ]
    },
    {
      "cell_type": "code",
      "execution_count": null,
      "id": "4955e75a",
      "metadata": {},
      "outputs": [],
      "source": [
        "# Plot base\n",
        "plt_mpg_vs_fcyl_by_fam <- ggplot(mtcars, aes(fcyl, mpg, color = fam))\n",
        "\n",
        "# Default points are shown for comparison\n",
        "plt_mpg_vs_fcyl_by_fam + geom_point()\n",
        "\n",
        "# Now jitter and dodge the point positions\n",
        "plt_mpg_vs_fcyl_by_fam + geom_point(position = position_jitterdodge(jitter.width = 0.3, dodge.width = 0.3))"
      ]
    },
    {
      "cell_type": "code",
      "execution_count": null,
      "id": "74010f7e",
      "metadata": {},
      "outputs": [],
      "source": [
        "# Latihan 3\n",
        "ggplot(iris, aes(Sepal.Length, Sepal.Width, color = Species)) +\n",
        "  # Swap for jitter layer with width 0.1\n",
        "  geom_jitter(alpha = 0.5, width = 0.1)"
      ]
    },
    {
      "cell_type": "code",
      "execution_count": null,
      "id": "849bca42",
      "metadata": {},
      "outputs": [],
      "source": [
        "ggplot(iris, aes(Sepal.Length, Sepal.Width, color = Species)) +\n",
        "  # Set the position to jitter\n",
        "  geom_point(alpha = 0.5, position = \"jitter\")"
      ]
    },
    {
      "cell_type": "code",
      "execution_count": null,
      "id": "5dd1a5f0",
      "metadata": {},
      "outputs": [],
      "source": [
        "ggplot(iris, aes(Sepal.Length, Sepal.Width, color = Species)) +\n",
        "  # Use a jitter position function with width 0.1\n",
        "  geom_point(alpha = 0.5, position = position_jitter(0.1))"
      ]
    },
    {
      "cell_type": "code",
      "execution_count": null,
      "id": "cbc25b53",
      "metadata": {},
      "outputs": [],
      "source": [
        "# Latihan 4\n",
        "# Examine the structure of Vocab\n",
        "str(Vocab)\n",
        "\n",
        "# Plot vocabulary vs. education\n",
        "ggplot(Vocab, aes(education, vocabulary)) +\n",
        "  # Add a point layer\n",
        "  geom_point()"
      ]
    },
    {
      "cell_type": "code",
      "execution_count": null,
      "id": "6b55f5e1",
      "metadata": {},
      "outputs": [],
      "source": [
        "ggplot(Vocab, aes(education, vocabulary)) +\n",
        "  # Change to a jitter layer\n",
        "  geom_jitter()"
      ]
    },
    {
      "cell_type": "code",
      "execution_count": null,
      "id": "751cbc44",
      "metadata": {},
      "outputs": [],
      "source": [
        "ggplot(Vocab, aes(education, vocabulary)) +\n",
        "  # Set the transparency to 0.2\n",
        "  geom_jitter(alpha = 0.2)"
      ]
    },
    {
      "cell_type": "code",
      "execution_count": null,
      "id": "2e4ae702",
      "metadata": {},
      "outputs": [],
      "source": [
        "ggplot(Vocab, aes(education, vocabulary)) +\n",
        "  # Set the shape to 1\n",
        "  geom_jitter(alpha = 0.2, shape = 1)"
      ]
    },
    {
      "cell_type": "markdown",
      "id": "22596d7c",
      "metadata": {},
      "source": [
        "Histograms"
      ]
    },
    {
      "cell_type": "code",
      "execution_count": null,
      "id": "daa5125f",
      "metadata": {},
      "outputs": [],
      "source": [
        "# Latihan 1\n",
        "# Plot mpg\n",
        "ggplot(mtcars, aes(mpg)) +\n",
        "  # Add a histogram layer\n",
        "  geom_histogram()"
      ]
    },
    {
      "cell_type": "code",
      "execution_count": null,
      "id": "17d42aea",
      "metadata": {},
      "outputs": [],
      "source": [
        "ggplot(mtcars, aes(mpg)) +\n",
        "  # Set the binwidth to 1\n",
        "  geom_histogram(binwidth = 1)"
      ]
    },
    {
      "cell_type": "code",
      "execution_count": null,
      "id": "01cbc1e9",
      "metadata": {},
      "outputs": [],
      "source": [
        "# Map y to ..density..\n",
        "ggplot(mtcars, aes(mpg, ..density..)) +\n",
        "  geom_histogram(binwidth = 1)"
      ]
    },
    {
      "cell_type": "code",
      "execution_count": null,
      "id": "3f1fd321",
      "metadata": {},
      "outputs": [],
      "source": [
        "datacamp_light_blue <- \"#51A8C9\"\n",
        "ggplot(mtcars, aes(mpg, ..density..)) +\n",
        "  # Set the fill color to datacamp_light_blue\n",
        "  geom_histogram(binwidth = 1, fill = datacamp_light_blue)"
      ]
    },
    {
      "cell_type": "code",
      "execution_count": null,
      "id": "f997c0b0",
      "metadata": {},
      "outputs": [],
      "source": [
        "# Latihan 2\n",
        "# Update the aesthetics so the fill color is by fam\n",
        "ggplot(mtcars, aes(mpg, fill = fam)) +\n",
        "  geom_histogram(binwidth = 1)"
      ]
    },
    {
      "cell_type": "code",
      "execution_count": null,
      "id": "9156bd97",
      "metadata": {},
      "outputs": [],
      "source": [
        "ggplot(mtcars, aes(mpg, fill = fam)) +\n",
        "  # Change the position to dodge\n",
        "  geom_histogram(binwidth = 1, position = \"dodge\")"
      ]
    },
    {
      "cell_type": "code",
      "execution_count": null,
      "id": "9ddf1acc",
      "metadata": {},
      "outputs": [],
      "source": [
        "ggplot(mtcars, aes(mpg, fill = fam)) +\n",
        "  # Change the position to fill\n",
        "  geom_histogram(binwidth = 1, position = \"fill\")"
      ]
    },
    {
      "cell_type": "code",
      "execution_count": null,
      "id": "dffd5e72",
      "metadata": {},
      "outputs": [],
      "source": [
        "ggplot(mtcars, aes(mpg, fill = fam)) +\n",
        "  # Change the position to identity, with transparency 0.4\n",
        "  geom_histogram(binwidth = 1, position = \"identity\", alpha = 0.4)"
      ]
    },
    {
      "cell_type": "markdown",
      "id": "ecf0aa5a",
      "metadata": {},
      "source": [
        "Bar plots"
      ]
    },
    {
      "cell_type": "code",
      "execution_count": null,
      "id": "40874382",
      "metadata": {},
      "outputs": [],
      "source": [
        "# Latihan 1\n",
        "# Plot fcyl, filled by fam\n",
        "ggplot(mtcars, aes(fcyl, fill = fam)) +\n",
        "  # Add a bar layer\n",
        "  geom_bar()"
      ]
    },
    {
      "cell_type": "code",
      "execution_count": null,
      "id": "ba130b59",
      "metadata": {},
      "outputs": [],
      "source": [
        "ggplot(mtcars, aes(fcyl, fill = fam)) +\n",
        "  # Set the position to \"fill\"\n",
        "  geom_bar(position = \"fill\")"
      ]
    },
    {
      "cell_type": "code",
      "execution_count": null,
      "id": "e73f46c6",
      "metadata": {},
      "outputs": [],
      "source": [
        "ggplot(mtcars, aes(fcyl, fill = fam)) +\n",
        "  # Change the position to \"dodge\"\n",
        "  geom_bar(position = \"dodge\")"
      ]
    },
    {
      "cell_type": "code",
      "execution_count": null,
      "id": "6e6a7d10",
      "metadata": {},
      "outputs": [],
      "source": [
        "# Latihan 2\n",
        "ggplot(mtcars, aes(cyl, fill = fam)) +\n",
        "  # Change position to use the functional form, with width 0.2\n",
        "  geom_bar(position = position_dodge(width = 0.2))"
      ]
    },
    {
      "cell_type": "code",
      "execution_count": null,
      "metadata": {},
      "outputs": [],
      "source": [
        "ggplot(mtcars, aes(cyl, fill = fam)) +\n",
        "  # Set the transparency to 0.6\n",
        "  geom_bar(position = position_dodge(width = 0.2), alpha = 0.6)"
      ]
    },
    {
      "cell_type": "code",
      "execution_count": null,
      "id": "81b4ac0e",
      "metadata": {},
      "outputs": [],
      "source": [
        "# Latihan 3\n",
        "# Plot education, filled by vocabulary\n",
        "ggplot(Vocab, aes(education, fill = vocabulary)) +\n",
        "  # Add a bar layer with position \"fill\"\n",
        "  geom_bar(position = \"fill\")\n",
        "\n",
        "ggplot(Vocab, aes(education, fill = vocabulary)) +\n",
        "  geom_bar(position = \"fill\")"
      ]
    },
    {
      "cell_type": "code",
      "execution_count": null,
      "id": "b6e913c6",
      "metadata": {},
      "outputs": [],
      "source": [
        "# Plot education, filled by vocabulary\n",
        "ggplot(Vocab, aes(education, fill = vocabulary)) +\n",
        "  # Add a bar layer with position \"fill\"\n",
        "  geom_bar(position = \"fill\") +\n",
        "  # Add a brewer fill scale with default palette\n",
        "  scale_fill_brewer()"
      ]
    },
    {
      "cell_type": "code",
      "execution_count": null,
      "id": "95bc6fa0",
      "metadata": {},
      "outputs": [],
      "source": [
        "# Plot education, filled by vocabulary\n",
        "ggplot(Vocab, aes(education, fill = vocabulary)) +\n",
        "  # Add a bar layer with position \"fill\"\n",
        "  geom_bar(position = \"fill\") +\n",
        "  # Add a brewer fill scale with default palette\n",
        "scale_fill_brewer()"
      ]
    },
    {
      "cell_type": "markdown",
      "id": "6ddcf448",
      "metadata": {},
      "source": [
        "Line plots"
      ]
    },
    {
      "cell_type": "code",
      "execution_count": null,
      "id": "10bc3386",
      "metadata": {},
      "outputs": [],
      "source": [
        "# Latihan 1\n",
        "# Print the head of economics\n",
        "head(economics)\n",
        "\n",
        "# Using economics, plot unemploy vs. date\n",
        "ggplot(economics, aes(date, unemploy)) +\n",
        "  # Make it a line plot\n",
        "  geom_line()\n"
      ]
    },
    {
      "cell_type": "code",
      "execution_count": null,
      "id": "7d49bcf2",
      "metadata": {},
      "outputs": [],
      "source": [
        "# Change the y-axis to the proportion of the population that is unemployed\n",
        "ggplot(economics, aes(date, unemploy / pop)) +\n",
        "  geom_line()"
      ]
    },
    {
      "cell_type": "code",
      "execution_count": null,
      "id": "8e3868b5",
      "metadata": {},
      "outputs": [],
      "source": [
        "# Latihan 2\n",
        "# Plot the Rainbow Salmon time series\n",
        "ggplot(fish.species, aes(x = Year, y = Rainbow)) +\n",
        "  geom_line()"
      ]
    },
    {
      "cell_type": "code",
      "execution_count": null,
      "id": "c35dcdd6",
      "metadata": {},
      "outputs": [],
      "source": [
        "# Plot the Rainbow Salmon time series\n",
        "ggplot(fish.species, aes(x = Year, y = Rainbow)) +\n",
        "  geom_line()\n",
        "\n",
        "# Plot the Rainbow Salmon time series\n",
        "ggplot(fish.species, aes(x = Year, y = Pink)) +\n",
        "  geom_line()"
      ]
    },
    {
      "cell_type": "code",
      "execution_count": null,
      "id": "661bd69a",
      "metadata": {},
      "outputs": [],
      "source": [
        "# Plot the Rainbow Salmon time series\n",
        "ggplot(fish.species, aes(x = Year, y = Rainbow)) +\n",
        "  geom_line()\n",
        "\n",
        "# Plot the Pink Salmon time series\n",
        "ggplot(fish.species, aes(x = Year, y = Pink)) +\n",
        "  geom_line()\n",
        "\n",
        "# Plot multiple time-series by grouping by species\n",
        "ggplot(fish.tidy, aes(Year, Capture)) +\n",
        "  geom_line(aes(group = Species))"
      ]
    },
    {
      "cell_type": "code",
      "execution_count": null,
      "id": "c9e10cbd",
      "metadata": {},
      "outputs": [],
      "source": [
        "# Plot the Rainbow Salmon time series\n",
        "ggplot(fish.species, aes(x = Year, y = Rainbow)) +\n",
        "  geom_line()\n",
        "\n",
        "# Plot the Pink Salmon time series\n",
        "ggplot(fish.species, aes(x = Year, y = Pink)) +\n",
        "  geom_line()\n",
        "\n",
        "# Plot multiple time-series by grouping by species\n",
        "ggplot(fish.tidy, aes(Year, Capture)) +\n",
        "  geom_line(aes(group = Species))\n",
        "\n",
        "# Plot multiple time-series by coloring by species\n",
        "ggplot(fish.tidy, aes(Year, Capture, color = Species)) +\n",
        "  geom_line(aes(group = Species))"
      ]
    }
  ],
  "metadata": {
    "kernelspec": {
      "display_name": "Python 3.10.4 64-bit",
      "language": "python",
      "name": "python3"
    },
    "language_info": {
      "codemirror_mode": {
        "name": "python",
        "version": 3
      },
      "file_extension": ".py",
      "mimetype": "text/x-python",
      "name": "python",
      "nbconvert_exporter": "python",
      "pygments_lexer": "ipython3",
      "version": "3.10.4"
    },
    "vscode": {
      "interpreter": {
        "hash": "d3e10ef16274dd72e574b8fa73b58450b957d8421a2901baded3cca26fcf5dda"
      }
    }
  },
  "nbformat": 4,
  "nbformat_minor": 5
}
