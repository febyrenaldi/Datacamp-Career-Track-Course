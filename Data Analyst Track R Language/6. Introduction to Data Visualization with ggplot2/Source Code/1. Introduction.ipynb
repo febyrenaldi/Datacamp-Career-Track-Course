{
  "cells": [
    {
      "cell_type": "markdown",
      "id": "e9b74551",
      "metadata": {},
      "source": [
        "Introduction  "
      ]
    },
    {
      "cell_type": "code",
      "execution_count": null,
      "id": "c547489f-4703-4aad-9e33-fe9d09f335d2",
      "metadata": {},
      "outputs": [],
      "source": [
        "# Latihan 1\n",
        "# Load the ggplot2 package\n",
        "library(ggplot2)\n",
        "\n",
        "# Explore the mtcars data frame with str()\n",
        "str(mtcars)\n",
        "\n",
        "# Execute the following command\n",
        "ggplot(mtcars, aes(x = cyl, y = mpg)) +\n",
        "  geom_point()"
      ]
    },
    {
      "cell_type": "code",
      "execution_count": null,
      "id": "0e519e3b",
      "metadata": {},
      "outputs": [],
      "source": [
        "# Latihan 2\n",
        "# Load the ggplot2 package\n",
        "library(ggplot2)\n",
        "\n",
        "# Change the command below so that cyl is treated as factor\n",
        "ggplot(mtcars, aes(x = factor(cyl), y = mpg)) +\n",
        "  geom_point()"
      ]
    },
    {
      "cell_type": "markdown",
      "id": "3201eb72",
      "metadata": {},
      "source": [
        "The grammar of graphics"
      ]
    },
    {
      "cell_type": "code",
      "execution_count": null,
      "id": "be5fd10b-07b0-4fe1-98e0-f332d2e2d40c",
      "metadata": {
        "trusted": true
      },
      "outputs": [],
      "source": [
        "# Latihan 1\n",
        "# Edit to add a color aesthetic mapped to disp\n",
        "ggplot(mtcars, aes(wt, mpg, color = disp)) +\n",
        "  geom_point()\n",
        "  "
      ]
    },
    {
      "cell_type": "code",
      "execution_count": null,
      "id": "0fe2bc13",
      "metadata": {},
      "outputs": [],
      "source": [
        "# Change the color aesthetic to a size aesthetic\n",
        "ggplot(mtcars, aes(wt, mpg, size = disp)) +\n",
        "  geom_point()"
      ]
    },
    {
      "cell_type": "markdown",
      "id": "1c3ca3a1",
      "metadata": {},
      "source": [
        "ggplot2 layers"
      ]
    },
    {
      "cell_type": "code",
      "execution_count": null,
      "id": "13c358c6-f0ab-47e0-af0c-e71f6db305b4",
      "metadata": {},
      "outputs": [],
      "source": [
        "# Latihan 1\n",
        "# Explore the diamonds data frame with str()\n",
        "str(diamonds)"
      ]
    },
    {
      "cell_type": "code",
      "execution_count": null,
      "id": "5ef190e5",
      "metadata": {},
      "outputs": [],
      "source": [
        "# Add geom_point() with +\n",
        "ggplot(diamonds, aes(carat, price)) +\n",
        "  geom_point()"
      ]
    },
    {
      "cell_type": "code",
      "execution_count": null,
      "id": "f92d69e8",
      "metadata": {},
      "outputs": [],
      "source": [
        "# Add geom_smooth() with +\n",
        "ggplot(diamonds, aes(carat, price)) +\n",
        "  geom_point() +\n",
        "  geom_smooth()"
      ]
    },
    {
      "cell_type": "code",
      "execution_count": null,
      "id": "5a16b7c8",
      "metadata": {},
      "outputs": [],
      "source": [
        "# Latihan 2\n",
        "# Map the color aesthetic to clarity\n",
        "ggplot(diamonds, aes(carat, price, color = clarity)) +\n",
        "  geom_point() +\n",
        "  geom_smooth()"
      ]
    },
    {
      "cell_type": "code",
      "execution_count": null,
      "id": "68ed03ea",
      "metadata": {},
      "outputs": [],
      "source": [
        "# Make the points 40% opaque\n",
        "ggplot(diamonds, aes(carat, price, color = clarity)) +\n",
        "  geom_point(alpha = 0.4) +\n",
        "  geom_smooth()"
      ]
    },
    {
      "cell_type": "code",
      "execution_count": null,
      "id": "97c33fe9",
      "metadata": {},
      "outputs": [],
      "source": [
        "# Latihan 3\n",
        "# Draw a ggplot\n",
        "plt_price_vs_carat <- ggplot(\n",
        "  # Use the diamonds dataset\n",
        "  diamonds,\n",
        "  # For the aesthetics, map x to carat and y to price\n",
        "  aes(carat, price)\n",
        ")\n",
        "\n",
        "# Add a point layer to plt_price_vs_carat\n",
        "plt_price_vs_carat + geom_point()"
      ]
    },
    {
      "cell_type": "code",
      "execution_count": null,
      "id": "a779580a",
      "metadata": {},
      "outputs": [],
      "source": [
        "# From previous step\n",
        "plt_price_vs_carat <- ggplot(diamonds, aes(carat, price))\n",
        "\n",
        "# Edit this to make points 20% opaque: plt_price_vs_carat_transparent\n",
        "plt_price_vs_carat_transparent <- plt_price_vs_carat + geom_point(alpha = 0.2)\n",
        "\n",
        "# See the plot\n",
        "plt_price_vs_carat_transparent"
      ]
    },
    {
      "cell_type": "code",
      "execution_count": null,
      "id": "ed141634",
      "metadata": {},
      "outputs": [],
      "source": [
        "# From previous step\n",
        "plt_price_vs_carat <- ggplot(diamonds, aes(carat, price))\n",
        "\n",
        "# Edit this to map color to clarity,\n",
        "# Assign the updated plot to a new object\n",
        "plt_price_vs_carat_by_clarity <- plt_price_vs_carat + geom_point(aes(color = clarity))\n",
        "\n",
        "# See the plot\n",
        "plt_price_vs_carat_by_clarity"
      ]
    }
  ],
  "metadata": {
    "kernelspec": {
      "display_name": "Python 3.10.4 64-bit",
      "language": "python",
      "name": "python3"
    },
    "language_info": {
      "codemirror_mode": {
        "name": "python",
        "version": 3
      },
      "file_extension": ".py",
      "mimetype": "text/x-python",
      "name": "python",
      "nbconvert_exporter": "python",
      "pygments_lexer": "ipython3",
      "version": "3.10.4"
    },
    "vscode": {
      "interpreter": {
        "hash": "d3e10ef16274dd72e574b8fa73b58450b957d8421a2901baded3cca26fcf5dda"
      }
    }
  },
  "nbformat": 4,
  "nbformat_minor": 5
}
