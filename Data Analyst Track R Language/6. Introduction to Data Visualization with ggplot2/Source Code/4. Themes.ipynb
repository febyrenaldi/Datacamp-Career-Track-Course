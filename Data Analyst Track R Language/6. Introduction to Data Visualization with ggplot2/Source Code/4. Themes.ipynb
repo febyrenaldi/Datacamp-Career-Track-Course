{
  "cells": [
    {
      "cell_type": "markdown",
      "id": "eb227f10",
      "metadata": {},
      "source": [
        "Themes from scratch"
      ]
    },
    {
      "cell_type": "code",
      "execution_count": null,
      "id": "d79be97c",
      "metadata": {},
      "outputs": [],
      "source": [
        "# Latihan 1\n",
        "# View the default plot\n",
        "plt_prop_unemployed_over_time\n",
        "\n",
        "# Remove legend entirely\n",
        "plt_prop_unemployed_over_time +\n",
        "  theme(legend.position = \"none\")"
      ]
    },
    {
      "cell_type": "code",
      "execution_count": null,
      "id": "8ede1001",
      "metadata": {},
      "outputs": [],
      "source": [
        "# Position the legend at the bottom of the plot\n",
        "plt_prop_unemployed_over_time +\n",
        "  theme(legend.position = \"bottom\")"
      ]
    },
    {
      "cell_type": "code",
      "execution_count": null,
      "id": "5c22896b",
      "metadata": {},
      "outputs": [],
      "source": [
        "# Position the legend inside the plot at (0.6, 0.1)\n",
        "plt_prop_unemployed_over_time +\n",
        "  theme(legend.position = c(0.6, 0.1))"
      ]
    },
    {
      "cell_type": "code",
      "execution_count": null,
      "id": "9e73f974",
      "metadata": {},
      "outputs": [],
      "source": [
        "# Latihan 2\n",
        "plt_prop_unemployed_over_time +\n",
        "  theme(\n",
        "    # For all rectangles, set the fill color to grey92\n",
        "    rect = element_rect(fill = \"grey92\"),\n",
        "    # For the legend key, turn off the outline\n",
        "    legend.key = element_rect(color = NA)\n",
        "  )"
      ]
    },
    {
      "cell_type": "code",
      "execution_count": null,
      "id": "4715f417",
      "metadata": {},
      "outputs": [],
      "source": [
        "plt_prop_unemployed_over_time +\n",
        "  theme(\n",
        "    rect = element_rect(fill = \"grey92\"),\n",
        "    legend.key = element_rect(color = NA),\n",
        "    # Turn off axis ticks\n",
        "    axis.ticks = element_blank(),\n",
        "    # Turn off the panel grid\n",
        "    panel.grid = element_blank()\n",
        "  )"
      ]
    },
    {
      "cell_type": "code",
      "execution_count": null,
      "id": "66f68507",
      "metadata": {},
      "outputs": [],
      "source": [
        "plt_prop_unemployed_over_time +\n",
        "  theme(\n",
        "    rect = element_rect(fill = \"grey92\"),\n",
        "    legend.key = element_rect(color = NA),\n",
        "    axis.ticks = element_blank(),\n",
        "    panel.grid = element_blank(),\n",
        "    # Add major y-axis panel grid lines back\n",
        "    panel.grid.major.y = element_line(\n",
        "      # Set the color to white\n",
        "      color = \"white\",\n",
        "      # Set the size to 0.5\n",
        "      size = 0.5,\n",
        "      # Set the line type to dotted\n",
        "      linetype = \"dotted\"\n",
        "    )\n",
        "  )"
      ]
    },
    {
      "cell_type": "code",
      "execution_count": null,
      "id": "ed731484",
      "metadata": {},
      "outputs": [],
      "source": [
        "plt_prop_unemployed_over_time +\n",
        "  theme(\n",
        "    rect = element_rect(fill = \"grey92\"),\n",
        "    legend.key = element_rect(color = NA),\n",
        "    axis.ticks = element_blank(),\n",
        "    panel.grid = element_blank(),\n",
        "    panel.grid.major.y = element_line(\n",
        "      color = \"white\",\n",
        "      size = 0.5,\n",
        "      linetype = \"dotted\"\n",
        "    ),\n",
        "    # Set the axis text color to grey25\n",
        "    axis.text = element_text(color = \"grey25\"),\n",
        "    # Set the plot title font face to italic and font size to 16\n",
        "    plot.title = element_text(face = \"italic\", size = 16)\n",
        "  )"
      ]
    },
    {
      "cell_type": "code",
      "execution_count": null,
      "id": "068963f1",
      "metadata": {},
      "outputs": [],
      "source": [
        "# Latihan 3\n",
        "#view original plot\n",
        "plt_mpg_vs_wt_by_cyl\n",
        "\n",
        "plt_mpg_vs_wt_by_cyl +\n",
        "  theme(\n",
        "    # Set the axis tick length to 2 lines\n",
        "    axis.ticks.length = unit(2, \"lines\")\n",
        "  )"
      ]
    },
    {
      "cell_type": "code",
      "execution_count": null,
      "id": "53061726",
      "metadata": {},
      "outputs": [],
      "source": [
        "plt_mpg_vs_wt_by_cyl +\n",
        "  theme(\n",
        "    # Set the legend key size to 3 centimeters\n",
        "    legend.key.size = unit(3, \"cm\")\n",
        "  )"
      ]
    },
    {
      "cell_type": "code",
      "execution_count": null,
      "id": "f4247376",
      "metadata": {},
      "outputs": [],
      "source": [
        "plt_mpg_vs_wt_by_cyl +\n",
        "  theme(\n",
        "    # Set the legend margin to (20, 30, 40, 50) points\n",
        "    legend.margin = margin(20, 30, 40, 50, \"pt\")\n",
        "  )"
      ]
    },
    {
      "cell_type": "code",
      "execution_count": null,
      "id": "898a142e",
      "metadata": {},
      "outputs": [],
      "source": [
        "plt_mpg_vs_wt_by_cyl +\n",
        "  theme(\n",
        "    # Set the plot margin to (10, 30, 50, 70) millimeters\n",
        "    plot.margin = margin(10, 30, 50, 70, \"mm\")\n",
        "  )"
      ]
    },
    {
      "cell_type": "markdown",
      "id": "6f828810",
      "metadata": {},
      "source": [
        "Theme flexibility"
      ]
    },
    {
      "cell_type": "code",
      "execution_count": null,
      "id": "964fc2e0",
      "metadata": {},
      "outputs": [],
      "source": [
        "# Latihan 1\n",
        "# Add a black and white theme\n",
        "plt_prop_unemployed_over_time +\n",
        "  theme_bw()"
      ]
    },
    {
      "cell_type": "code",
      "execution_count": null,
      "id": "269b5300",
      "metadata": {},
      "outputs": [],
      "source": [
        "# Add a classic theme\n",
        "plt_prop_unemployed_over_time +\n",
        "  theme_classic()"
      ]
    },
    {
      "cell_type": "code",
      "execution_count": null,
      "id": "c91dda9d",
      "metadata": {},
      "outputs": [],
      "source": [
        "# Add a void theme\n",
        "plt_prop_unemployed_over_time +\n",
        "  theme_void()"
      ]
    },
    {
      "cell_type": "code",
      "execution_count": null,
      "metadata": {},
      "outputs": [],
      "source": [
        "# Latihan 2\n",
        "# Use the fivethirtyeight theme\n",
        "plt_prop_unemployed_over_time +\n",
        "  theme_fivethirtyeight()"
      ]
    },
    {
      "cell_type": "code",
      "execution_count": null,
      "id": "d7072ef3",
      "metadata": {},
      "outputs": [],
      "source": [
        "# Use Tufte's theme\n",
        "plt_prop_unemployed_over_time +\n",
        "  theme_tufte()"
      ]
    },
    {
      "cell_type": "code",
      "execution_count": null,
      "id": "384091bf",
      "metadata": {},
      "outputs": [],
      "source": [
        "# Use the Wall Street Journal theme\n",
        "plt_prop_unemployed_over_time +\n",
        "  theme_wsj()"
      ]
    },
    {
      "cell_type": "code",
      "execution_count": null,
      "id": "b227d970",
      "metadata": {},
      "outputs": [],
      "source": [
        "# Latihan 3\n",
        "# Theme layer saved as an object, theme_recession\n",
        "theme_recession <- theme(\n",
        "  rect = element_rect(fill = \"grey92\"),\n",
        "  legend.key = element_rect(color = NA),\n",
        "  axis.ticks = element_blank(),\n",
        "  panel.grid = element_blank(),\n",
        "  panel.grid.major.y = element_line(color = \"white\", size = 0.5, linetype = \"dotted\"),\n",
        "  axis.text = element_text(color = \"grey25\"),\n",
        "  plot.title = element_text(face = \"italic\", size = 16),\n",
        "  legend.position = c(0.6, 0.1)\n",
        ")\n",
        "\n",
        "# Combine the Tufte theme with theme_recession\n",
        "theme_tufte_recession <- theme_tufte() + theme_recession\n",
        "\n",
        "# Add the recession theme to the plot\n",
        "plt_prop_unemployed_over_time + theme_tufte_recession"
      ]
    },
    {
      "cell_type": "code",
      "execution_count": null,
      "id": "f9a296b4",
      "metadata": {},
      "outputs": [],
      "source": [
        "theme_recession <- theme(\n",
        "  rect = element_rect(fill = \"grey92\"),\n",
        "  legend.key = element_rect(color = NA),\n",
        "  axis.ticks = element_blank(),\n",
        "  panel.grid = element_blank(),\n",
        "  panel.grid.major.y = element_line(color = \"white\", size = 0.5, linetype = \"dotted\"),\n",
        "  axis.text = element_text(color = \"grey25\"),\n",
        "  plot.title = element_text(face = \"italic\", size = 16),\n",
        "  legend.position = c(0.6, 0.1)\n",
        ")\n",
        "theme_tufte_recession <- theme_tufte() + theme_recession\n",
        "\n",
        "# Set theme_tufte_recession as the default theme\n",
        "theme_set(theme_tufte_recession)\n",
        "\n",
        "# Draw the plot (without explicitly adding a theme)\n",
        "plt_prop_unemployed_over_time"
      ]
    },
    {
      "cell_type": "code",
      "execution_count": null,
      "id": "280d784b",
      "metadata": {},
      "outputs": [],
      "source": [
        "# Latihan 4\n",
        "plt_prop_unemployed_over_time +\n",
        "  # Add Tufte's theme\n",
        "  theme_tufte()"
      ]
    },
    {
      "cell_type": "code",
      "execution_count": null,
      "id": "7e48eaed",
      "metadata": {},
      "outputs": [],
      "source": [
        "plt_prop_unemployed_over_time +\n",
        "  theme_tufte() +\n",
        "  # Add individual theme elements\n",
        "  theme(\n",
        "    # Turn off the legend\n",
        "    legend.position = \"none\",\n",
        "    # Turn off the axis ticks\n",
        "    axis.ticks = element_blank()\n",
        "  )"
      ]
    },
    {
      "cell_type": "code",
      "execution_count": null,
      "id": "452195b6",
      "metadata": {},
      "outputs": [],
      "source": [
        "plt_prop_unemployed_over_time +\n",
        "  theme_tufte() +\n",
        "  theme(\n",
        "    legend.position = \"none\",\n",
        "    axis.ticks = element_blank(),\n",
        "    # Set the axis title's text color to grey60\n",
        "    axis.title = element_text(color = \"grey60\"),\n",
        "    # Set the axis text's text color to grey60\n",
        "    axis.text = element_text(color = \"grey60\")\n",
        "  )"
      ]
    },
    {
      "cell_type": "code",
      "execution_count": null,
      "id": "b1eacf84",
      "metadata": {},
      "outputs": [],
      "source": [
        "plt_prop_unemployed_over_time +\n",
        "  theme_tufte() +\n",
        "  theme(\n",
        "    legend.position = \"none\",\n",
        "    axis.ticks = element_blank(),\n",
        "    axis.title = element_text(color = \"grey60\"),\n",
        "    axis.text = element_text(color = \"grey60\"),\n",
        "    # Set the panel gridlines major y values\n",
        "    panel.grid.major.y = element_line(\n",
        "      # Set the color to grey60\n",
        "      color = \"grey60\",\n",
        "      # Set the size to 0.25\n",
        "      size = 0.25,\n",
        "      # Set the linetype to dotted\n",
        "      linetype = \"dotted\"\n",
        "    )\n",
        "  )"
      ]
    },
    {
      "cell_type": "markdown",
      "id": "fdd626a6",
      "metadata": {},
      "source": [
        "Effective explanatory plots"
      ]
    },
    {
      "cell_type": "code",
      "execution_count": null,
      "id": "ba2f7e3e",
      "metadata": {},
      "outputs": [],
      "source": [
        "# Latihan 1\n",
        "# Add a geom_segment() layer\n",
        "ggplot(gm2007, aes(x = lifeExp, y = country, color = lifeExp)) +\n",
        "  geom_point(size = 4) +\n",
        "  geom_segment(aes(xend = 30, yend = country), size = 2)"
      ]
    },
    {
      "cell_type": "code",
      "execution_count": null,
      "id": "2fc95d1c",
      "metadata": {},
      "outputs": [],
      "source": [
        "# Add a geom_text() layer\n",
        "ggplot(gm2007, aes(x = lifeExp, y = country, color = lifeExp)) +\n",
        "  geom_point(size = 4) +\n",
        "  geom_segment(aes(xend = 30, yend = country), size = 2) +\n",
        "  geom_text(aes(label = lifeExp), color = \"white\", size = 1.5)"
      ]
    },
    {
      "cell_type": "code",
      "execution_count": null,
      "id": "12adff59",
      "metadata": {},
      "outputs": [],
      "source": [
        "# Set the color scale\n",
        "palette <- brewer.pal(5, \"RdYlBu\")[-(2:4)]\n",
        "\n",
        "# Modify the scales\n",
        "ggplot(gm2007, aes(x = lifeExp, y = country, color = lifeExp)) +\n",
        "  geom_point(size = 4) +\n",
        "  geom_segment(aes(xend = 30, yend = country), size = 2) +\n",
        "  geom_text(aes(label = round(lifeExp,1)), color = \"white\", size = 1.5) +\n",
        "  scale_x_continuous(\"\", expand = c(0, 0), limits = c(30, 90), position = \"top\") +\n",
        "  scale_color_gradientn(colors = palette)"
      ]
    },
    {
      "cell_type": "code",
      "execution_count": null,
      "id": "ee6cb346",
      "metadata": {},
      "outputs": [],
      "source": [
        "# Set the color scale\n",
        "palette <- brewer.pal(5, \"RdYlBu\")[-(2:4)]\n",
        "\n",
        "# Add a title and caption\n",
        "ggplot(gm2007, aes(x = lifeExp, y = country, color = lifeExp)) +\n",
        "  geom_point(size = 4) +\n",
        "  geom_segment(aes(xend = 30, yend = country), size = 2) +\n",
        "  geom_text(aes(label = round(lifeExp,1)), color = \"white\", size = 1.5) +\n",
        "  scale_x_continuous(\"\", expand = c(0,0), limits = c(30,90), position = \"top\") +\n",
        "  scale_color_gradientn(colors = palette) +\n",
        "  labs(title = \"Highest and lowest life expectancies, 2007\", caption = \"Source: gapminder\")"
      ]
    },
    {
      "cell_type": "code",
      "execution_count": null,
      "id": "afcda2fd",
      "metadata": {},
      "outputs": [],
      "source": [
        "# Latihan 2\n",
        "# Define the theme\n",
        "plt_country_vs_lifeExp +\n",
        "  theme_classic() +\n",
        "  theme(axis.line.y = element_blank(),\n",
        "        axis.ticks.y = element_blank(),\n",
        "        axis.text = element_text(color = \"black\"),\n",
        "        axis.title = element_blank(),\n",
        "        legend.position = \"none\")"
      ]
    },
    {
      "cell_type": "code",
      "execution_count": null,
      "id": "44a8a8b5",
      "metadata": {},
      "outputs": [],
      "source": [
        "# Add a vertical line\n",
        "plt_country_vs_lifeExp +\n",
        "  step_1_themes +\n",
        "  geom_vline(xintercept = global_mean, color = \"grey40\", linetype = 3)"
      ]
    },
    {
      "cell_type": "code",
      "execution_count": null,
      "id": "5be0c73d",
      "metadata": {},
      "outputs": [],
      "source": [
        "# Add text\n",
        "plt_country_vs_lifeExp +\n",
        "  step_1_themes +\n",
        "  geom_vline(xintercept = global_mean, color = \"grey40\", linetype = 3) +\n",
        "  annotate(\n",
        "    \"text\",\n",
        "    x = x_start, y = y_start,\n",
        "    label = \"The\\nglobal\\naverage\",\n",
        "    vjust = 1, size = 3, color = \"grey40\"\n",
        "  )"
      ]
    },
    {
      "cell_type": "code",
      "execution_count": null,
      "id": "433914b6",
      "metadata": {},
      "outputs": [],
      "source": [
        "# Add a curve\n",
        "plt_country_vs_lifeExp +  \n",
        "  step_1_themes +\n",
        "  geom_vline(xintercept = global_mean, color = \"grey40\", linetype = 3) +\n",
        "  step_3_annotation +\n",
        "  annotate(\n",
        "    \"curve\",\n",
        "    x = x_start, y = y_start,\n",
        "    xend = x_end, yend = y_end,\n",
        "    arrow = arrow(length = unit(0.2, \"cm\"), type = \"closed\"),\n",
        "    color = \"grey40\"\n",
        "  )"
      ]
    }
  ],
  "metadata": {
    "kernelspec": {
      "display_name": "Python 3.10.4 64-bit",
      "language": "python",
      "name": "python3"
    },
    "language_info": {
      "codemirror_mode": {
        "name": "python",
        "version": 3
      },
      "file_extension": ".py",
      "mimetype": "text/x-python",
      "name": "python",
      "nbconvert_exporter": "python",
      "pygments_lexer": "ipython3",
      "version": "3.10.4"
    },
    "vscode": {
      "interpreter": {
        "hash": "d3e10ef16274dd72e574b8fa73b58450b957d8421a2901baded3cca26fcf5dda"
      }
    }
  },
  "nbformat": 4,
  "nbformat_minor": 5
}
