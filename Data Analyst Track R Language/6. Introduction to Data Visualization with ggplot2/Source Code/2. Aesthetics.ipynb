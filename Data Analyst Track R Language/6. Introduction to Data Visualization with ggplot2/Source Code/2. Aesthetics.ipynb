{
  "cells": [
    {
      "cell_type": "markdown",
      "id": "9c2f1b74",
      "metadata": {},
      "source": [
        "Visible aesthetics"
      ]
    },
    {
      "cell_type": "code",
      "execution_count": null,
      "id": "7951f972-7736-4079-a355-a4949f42cb2c",
      "metadata": {},
      "outputs": [],
      "source": [
        "# Latihan 1\n",
        "# Map x to mpg and y to fcyl\n",
        "ggplot(mtcars, aes(mpg, fcyl)) +\n",
        "  geom_point()"
      ]
    },
    {
      "cell_type": "code",
      "execution_count": null,
      "id": "aac33938",
      "metadata": {},
      "outputs": [],
      "source": [
        "# Swap mpg and fcyl\n",
        "ggplot(mtcars, aes(fcyl, mpg)) +\n",
        "  geom_point()"
      ]
    },
    {
      "cell_type": "code",
      "execution_count": null,
      "id": "4dbf1122",
      "metadata": {},
      "outputs": [],
      "source": [
        "# Map x to wt, y to mpg and color to fcyl\n",
        "ggplot(mtcars, aes(wt, mpg, color = fcyl)) +\n",
        "  geom_point()"
      ]
    },
    {
      "cell_type": "code",
      "execution_count": null,
      "id": "fee0e872",
      "metadata": {},
      "outputs": [],
      "source": [
        "ggplot(mtcars, aes(wt, mpg, color = fcyl)) +\n",
        "  # Set the shape and size of the points\n",
        "  geom_point(shape = 1, size = 4)"
      ]
    },
    {
      "cell_type": "code",
      "execution_count": null,
      "id": "0de0b3cb-3f2f-4023-9a57-70ff6f72c5f2",
      "metadata": {},
      "outputs": [],
      "source": [
        "# Latihan 2\n",
        "# Map fcyl to fill\n",
        "ggplot(mtcars, aes(wt, mpg, fill = fcyl)) +\n",
        "  geom_point(shape = 1, size = 4)"
      ]
    },
    {
      "cell_type": "code",
      "execution_count": null,
      "id": "4668cac7",
      "metadata": {},
      "outputs": [],
      "source": [
        "ggplot(mtcars, aes(wt, mpg, fill = fcyl)) +\n",
        "  # Change point shape; set alpha\n",
        "  geom_point(shape = 21, size = 4, alpha = 0.6)"
      ]
    },
    {
      "cell_type": "code",
      "execution_count": null,
      "id": "8f5b2d02",
      "metadata": {},
      "outputs": [],
      "source": [
        "# Map color to fam\n",
        "ggplot(mtcars, aes(wt, mpg, fill = fcyl, color = fam)) +\n",
        "  geom_point(shape = 21, size = 4, alpha = 0.6)"
      ]
    },
    {
      "cell_type": "code",
      "execution_count": null,
      "id": "31dc7c5a",
      "metadata": {},
      "outputs": [],
      "source": [
        "# Latihan 3\n",
        "# Establish the base layer\n",
        "plt_mpg_vs_wt <- ggplot(mtcars, aes(wt, mpg))\n",
        "\n",
        "# Map fcyl to size\n",
        "plt_mpg_vs_wt +\n",
        "  geom_point(aes(size = fcyl))"
      ]
    },
    {
      "cell_type": "code",
      "execution_count": null,
      "id": "79f50aa3",
      "metadata": {},
      "outputs": [],
      "source": [
        "# Base layer\n",
        "plt_mpg_vs_wt <- ggplot(mtcars, aes(wt, mpg))\n",
        "\n",
        "# Map fcyl to shape, not alpha\n",
        "plt_mpg_vs_wt +\n",
        "  geom_point(aes(alpha = fcyl))"
      ]
    },
    {
      "cell_type": "code",
      "execution_count": null,
      "id": "eac43d0e",
      "metadata": {},
      "outputs": [],
      "source": [
        "# Base layer\n",
        "plt_mpg_vs_wt <- ggplot(mtcars, aes(wt, mpg))\n",
        "\n",
        "# Map fcyl to shape, not alpha\n",
        "plt_mpg_vs_wt +\n",
        "  geom_point(aes(shape = fcyl))"
      ]
    },
    {
      "cell_type": "code",
      "execution_count": null,
      "id": "49994b55",
      "metadata": {},
      "outputs": [],
      "source": [
        "# Base layer\n",
        "plt_mpg_vs_wt <- ggplot(mtcars, aes(wt, mpg))\n",
        "\n",
        "# Use text layer and map fcyl to label\n",
        "plt_mpg_vs_wt +\n",
        "  geom_text(aes(label = fcyl))"
      ]
    },
    {
      "cell_type": "markdown",
      "id": "78a73bb4",
      "metadata": {},
      "source": [
        "Using attributes"
      ]
    },
    {
      "cell_type": "code",
      "execution_count": null,
      "id": "81a64969",
      "metadata": {},
      "outputs": [],
      "source": [
        "# Latihan 1\n",
        "# A hexadecimal color\n",
        "my_blue <- \"#4ABEFF\"\n",
        "\n",
        "ggplot(mtcars, aes(wt, mpg)) +\n",
        "  # Set the point color and alpha\n",
        "  geom_point(color = my_blue, alpha = 0.6)"
      ]
    },
    {
      "cell_type": "code",
      "execution_count": null,
      "id": "7c1f7290",
      "metadata": {},
      "outputs": [],
      "source": [
        "# A hexadecimal color\n",
        "my_blue <- \"#4ABEFF\"\n",
        "\n",
        "# Change the color mapping to a fill mapping\n",
        "ggplot(mtcars, aes(wt, mpg, fill = fcyl)) +\n",
        "  # Set point size and shape\n",
        "  geom_point(color = my_blue, size = 10, shape = 1)"
      ]
    },
    {
      "cell_type": "code",
      "execution_count": null,
      "id": "c2a76415",
      "metadata": {},
      "outputs": [],
      "source": [
        "# Latihan 2\n",
        "ggplot(mtcars, aes(wt, mpg, color = fcyl)) +\n",
        "  # Add point layer with alpha 0.5\n",
        "  geom_point(alpha = 0.5)"
      ]
    },
    {
      "cell_type": "code",
      "execution_count": null,
      "id": "ec8e31e3",
      "metadata": {},
      "outputs": [],
      "source": [
        "ggplot(mtcars, aes(wt, mpg, color = fcyl)) +\n",
        "  # Add text layer with label rownames(mtcars) and color red\n",
        "  geom_text(label = rownames(mtcars), color = \"red\")"
      ]
    },
    {
      "cell_type": "code",
      "execution_count": null,
      "id": "613c6c65",
      "metadata": {},
      "outputs": [],
      "source": [
        "ggplot(mtcars, aes(wt, mpg, color = fcyl)) +\n",
        "  # Add points layer with shape 24 and color yellow\n",
        "  geom_point(shape = 24, color = \"yellow\")"
      ]
    },
    {
      "cell_type": "code",
      "execution_count": null,
      "id": "5cd2003d",
      "metadata": {},
      "outputs": [],
      "source": [
        "# Latihan 3\n",
        "# 3 aesthetics: qsec vs. mpg, colored by fcyl\n",
        "ggplot(mtcars, aes(mpg, qsec, color = fcyl)) +\n",
        "  geom_point()"
      ]
    },
    {
      "cell_type": "code",
      "execution_count": null,
      "id": "72a4bd29",
      "metadata": {},
      "outputs": [],
      "source": [
        "# 4 aesthetics: add a mapping of shape to fam\n",
        "ggplot(mtcars, aes(mpg, qsec, color = fcyl, shape = fam)) +\n",
        "  geom_point()"
      ]
    },
    {
      "cell_type": "code",
      "execution_count": null,
      "id": "126c97a7",
      "metadata": {},
      "outputs": [],
      "source": [
        "# 5 aesthetics: add a mapping of size to hp / wt\n",
        "ggplot(mtcars, aes(mpg, qsec, color = fcyl, shape = fam, size = hp / wt)) +\n",
        "  geom_point()"
      ]
    },
    {
      "cell_type": "markdown",
      "id": "5d8bb4e4",
      "metadata": {},
      "source": [
        "Modifying aesthetics"
      ]
    },
    {
      "cell_type": "code",
      "execution_count": null,
      "id": "2705c45d",
      "metadata": {},
      "outputs": [],
      "source": [
        "# Latihan 1\n",
        "ggplot(mtcars, aes(fcyl, fill = fam)) +\n",
        "  geom_bar() +\n",
        "  # Set the axis labels\n",
        "  labs(x = \"Number of Cylinders\",\n",
        "       y = \"Count\")"
      ]
    },
    {
      "cell_type": "code",
      "execution_count": null,
      "id": "fd460b16",
      "metadata": {},
      "outputs": [],
      "source": [
        "palette <- c(automatic = \"#377EB8\", manual = \"#E41A1C\")\n",
        "\n",
        "ggplot(mtcars, aes(fcyl, fill = fam)) +\n",
        "  geom_bar() +\n",
        "  labs(x = \"Number of Cylinders\", y = \"Count\") +\n",
        "  # Set the fill color scale\n",
        "  scale_fill_manual(\"Transmission\", values = palette)"
      ]
    },
    {
      "cell_type": "code",
      "execution_count": null,
      "id": "2cb84c16",
      "metadata": {},
      "outputs": [],
      "source": [
        "palette <- c(automatic = \"#377EB8\", manual = \"#E41A1C\")\n",
        "\n",
        "# Set the position\n",
        "ggplot(mtcars, aes(fcyl, fill = fam)) +\n",
        "  geom_bar(position = \"dodge\") +\n",
        "  labs(x = \"Number of Cylinders\", y = \"Count\") +\n",
        "  scale_fill_manual(\"Transmission\", values = palette)"
      ]
    },
    {
      "cell_type": "code",
      "execution_count": null,
      "id": "eea861d9",
      "metadata": {},
      "outputs": [],
      "source": [
        "# Latihan 2\n",
        "# Plot 0 vs. mpg\n",
        "ggplot(mtcars, aes(mpg, 0)) +\n",
        "  # Add jitter \n",
        "  geom_point(position = \"jitter\")"
      ]
    },
    {
      "cell_type": "code",
      "execution_count": null,
      "id": "8abb9b83",
      "metadata": {},
      "outputs": [],
      "source": [
        "ggplot(mtcars, aes(mpg, 0)) +\n",
        "  geom_jitter() +\n",
        "  # Set the y-axis limits\n",
        "  ylim(c(-2, 2))"
      ]
    }
  ],
  "metadata": {
    "kernelspec": {
      "display_name": "Python 3.10.4 64-bit",
      "language": "python",
      "name": "python3"
    },
    "language_info": {
      "codemirror_mode": {
        "name": "python",
        "version": 3
      },
      "file_extension": ".py",
      "mimetype": "text/x-python",
      "name": "python",
      "nbconvert_exporter": "python",
      "pygments_lexer": "ipython3",
      "version": "3.10.4"
    },
    "vscode": {
      "interpreter": {
        "hash": "d3e10ef16274dd72e574b8fa73b58450b957d8421a2901baded3cca26fcf5dda"
      }
    }
  },
  "nbformat": 4,
  "nbformat_minor": 5
}
