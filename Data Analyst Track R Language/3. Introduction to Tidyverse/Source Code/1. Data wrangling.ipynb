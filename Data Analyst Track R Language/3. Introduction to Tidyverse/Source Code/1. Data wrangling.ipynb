{
  "cells": [
    {
      "cell_type": "markdown",
      "id": "e9b74551",
      "metadata": {},
      "source": [
        "The gapminder dataset"
      ]
    },
    {
      "cell_type": "code",
      "execution_count": null,
      "id": "c547489f-4703-4aad-9e33-fe9d09f335d2",
      "metadata": {},
      "outputs": [],
      "source": [
        "# Latihan 1\n",
        "# Load the gapminder package\n",
        "library(gapminder)\n",
        "\n",
        "# Load the dplyr package\n",
        "library(dplyr)\n",
        "\n",
        "# Look at the gapminder dataset\n",
        "gapminder"
      ]
    },
    {
      "cell_type": "markdown",
      "id": "3201eb72",
      "metadata": {},
      "source": [
        "The filter verb"
      ]
    },
    {
      "cell_type": "code",
      "execution_count": null,
      "id": "be5fd10b-07b0-4fe1-98e0-f332d2e2d40c",
      "metadata": {
        "trusted": true
      },
      "outputs": [],
      "source": [
        "# Latihan 1\n",
        "library(gapminder)\n",
        "library(dplyr)\n",
        "\n",
        "# Filter the gapminder dataset for the year 1957\n",
        "gapminder %>%\n",
        "  filter(year == 1957)\n",
        "  "
      ]
    },
    {
      "cell_type": "code",
      "execution_count": null,
      "id": "13c358c6-f0ab-47e0-af0c-e71f6db305b4",
      "metadata": {},
      "outputs": [],
      "source": [
        "# Latihan 2\n",
        "library(gapminder)\n",
        "library(dplyr)\n",
        "\n",
        "# Filter for China in 2002\n",
        "gapminder %>%\n",
        "  filter(country == \"China\", year == 2002)"
      ]
    },
    {
      "cell_type": "markdown",
      "id": "9c2f1b74",
      "metadata": {},
      "source": [
        "The arrange verb"
      ]
    },
    {
      "cell_type": "code",
      "execution_count": null,
      "id": "7951f972-7736-4079-a355-a4949f42cb2c",
      "metadata": {},
      "outputs": [],
      "source": [
        "# Latihan 1\n",
        "library(gapminder)\n",
        "library(dplyr)\n",
        "\n",
        "# Sort in ascending order of lifeExp\n",
        "gapminder %>%\n",
        "  arrange(lifeExp)\n",
        "\n",
        "# Sort in descending order of lifeExp\n",
        "gapminder %>%\n",
        "  arrange(desc(lifeExp))"
      ]
    },
    {
      "cell_type": "code",
      "execution_count": null,
      "id": "0de0b3cb-3f2f-4023-9a57-70ff6f72c5f2",
      "metadata": {},
      "outputs": [],
      "source": [
        "# Latihan 2\n",
        "library(gapminder)\n",
        "library(dplyr)\n",
        "\n",
        "# Filter for the year 1957, then arrange in descending order of population\n",
        "gapminder %>%\n",
        "  filter(year == 1957) %>%\n",
        "  arrange(desc(pop))"
      ]
    },
    {
      "cell_type": "markdown",
      "id": "d2bd32a8",
      "metadata": {},
      "source": [
        "The mutate verb"
      ]
    },
    {
      "cell_type": "code",
      "execution_count": null,
      "id": "c8eafb10-bd1a-43ee-abbb-8db6758d8bb6",
      "metadata": {},
      "outputs": [],
      "source": [
        "# Latihan 1\n",
        "library(gapminder)\n",
        "library(dplyr)\n",
        "\n",
        "# Use mutate to change lifeExp to be in months\n",
        "gapminder %>%\n",
        "  mutate(lifeExp = lifeExp * 12)\n",
        "\n",
        "# Use mutate to create a new column called lifeExpMonths\n",
        "gapminder %>%\n",
        "  mutate(lifeExpMonths = lifeExp * 12)"
      ]
    },
    {
      "cell_type": "code",
      "execution_count": null,
      "id": "b1f3eda0-cf50-421f-b34e-1acb08f52461",
      "metadata": {},
      "outputs": [],
      "source": [
        "# Latihan 2\n",
        "library(gapminder)\n",
        "library(dplyr)\n",
        "\n",
        "# Filter, mutate, and arrange the gapminder dataset\n",
        "gapminder %>%\n",
        "  filter(year == 2007) %>%\n",
        "  mutate(lifeExpMonths = lifeExp * 12) %>%\n",
        "  arrange(desc(lifeExpMonths))"
      ]
    }
  ],
  "metadata": {
    "kernelspec": {
      "display_name": "Pyolite",
      "language": "python",
      "name": "python"
    },
    "language_info": {
      "codemirror_mode": {
        "name": "python",
        "version": 3
      },
      "file_extension": ".py",
      "mimetype": "text/x-python",
      "name": "python",
      "nbconvert_exporter": "python",
      "pygments_lexer": "ipython3",
      "version": "3.8"
    }
  },
  "nbformat": 4,
  "nbformat_minor": 5
}
