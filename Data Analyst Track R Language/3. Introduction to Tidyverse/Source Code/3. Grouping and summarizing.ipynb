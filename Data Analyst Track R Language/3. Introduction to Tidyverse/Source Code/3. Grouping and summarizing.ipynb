{
  "cells": [
    {
      "cell_type": "markdown",
      "id": "1a4a97f7",
      "metadata": {},
      "source": [
        "The summarize verb"
      ]
    },
    {
      "cell_type": "code",
      "execution_count": null,
      "id": "9bdc07a7",
      "metadata": {},
      "outputs": [],
      "source": [
        "# Latihan 1\n",
        "library(gapminder)\n",
        "library(dplyr)\n",
        "\n",
        "# Summarize to find the median life expectancy\n",
        "gapminder %>%\n",
        "  summarize(medianLifeExp = median(lifeExp))"
      ]
    },
    {
      "cell_type": "code",
      "execution_count": null,
      "id": "187e8b77",
      "metadata": {},
      "outputs": [],
      "source": [
        "# Latihan 2\n",
        "library(gapminder)\n",
        "library(dplyr)\n",
        "\n",
        "# Filter for 1957 then summarize the median life expectancy\n",
        "gapminder %>%\n",
        "  filter(year == 1957) %>%\n",
        "  summarize(medianLifeExp = median(lifeExp))"
      ]
    },
    {
      "cell_type": "code",
      "execution_count": null,
      "id": "024246bc",
      "metadata": {},
      "outputs": [],
      "source": [
        "# Latihan 3\n",
        "library(gapminder)\n",
        "library(dplyr)\n",
        "\n",
        "# Filter for 1957 then summarize the median life expectancy and the maximum GDP per capita\n",
        "gapminder %>%\n",
        "  filter(year == 1957) %>%\n",
        "  summarize(medianLifeExp = median(lifeExp),\n",
        "            maxGdpPercap = max(gdpPercap))"
      ]
    },
    {
      "cell_type": "markdown",
      "id": "04eed7e2",
      "metadata": {},
      "source": [
        "The group_by verb"
      ]
    },
    {
      "cell_type": "code",
      "execution_count": null,
      "id": "173b82d0",
      "metadata": {},
      "outputs": [],
      "source": [
        "# Latihan 1\n",
        "library(gapminder)\n",
        "library(dplyr)\n",
        "\n",
        "# Find median life expectancy and maximum GDP per capita in each year\n",
        "gapminder %>%\n",
        "  group_by(year) %>%\n",
        "  summarize(medianLifeExp = median(lifeExp),\n",
        "            maxGdpPercap = max(gdpPercap))"
      ]
    },
    {
      "cell_type": "code",
      "execution_count": null,
      "id": "3dbd750c",
      "metadata": {},
      "outputs": [],
      "source": [
        "# Latihan 2\n",
        "library(gapminder)\n",
        "library(dplyr)\n",
        "\n",
        "# Find median life expectancy and maximum GDP per capita in each continent in 1957\n",
        "gapminder %>%\n",
        "  filter(year == 1957) %>%\n",
        "  group_by(continent) %>%\n",
        "  summarize(medianLifeExp = median(lifeExp),\n",
        "            maxGdpPercap = max(gdpPercap))"
      ]
    },
    {
      "cell_type": "code",
      "execution_count": null,
      "id": "f14168bf",
      "metadata": {},
      "outputs": [],
      "source": [
        "# Latihan 3\n",
        "library(gapminder)\n",
        "library(dplyr)\n",
        "\n",
        "# Find median life expectancy and maximum GDP per capita in each continent/year combination\n",
        "gapminder %>%\n",
        "  group_by(continent, year) %>%\n",
        "  summarize(medianLifeExp = median(lifeExp),\n",
        "            maxGdpPercap = max(gdpPercap))"
      ]
    },
    {
      "cell_type": "markdown",
      "id": "a7fd345a",
      "metadata": {},
      "source": [
        "Visualizing summarized data"
      ]
    },
    {
      "cell_type": "code",
      "execution_count": null,
      "id": "1d07bfe5",
      "metadata": {},
      "outputs": [],
      "source": [
        "# Latihan 1\n",
        "library(gapminder)\n",
        "library(dplyr)\n",
        "library(ggplot2)\n",
        "\n",
        "by_year <- gapminder %>%\n",
        "  group_by(year) %>%\n",
        "  summarize(medianLifeExp = median(lifeExp),\n",
        "            maxGdpPercap = max(gdpPercap))\n",
        "\n",
        "# Show by_year\n",
        "by_year\n",
        "\n",
        "# Create a scatter plot showing the change in medianLifeExp over time\n",
        "ggplot(by_year, aes(x = year, y = medianLifeExp)) + \n",
        "  geom_point() + \n",
        "  expand_limits(y = 0)"
      ]
    },
    {
      "cell_type": "code",
      "execution_count": null,
      "id": "a21d4834",
      "metadata": {},
      "outputs": [],
      "source": [
        "# Latihan 2\n",
        "library(gapminder)\n",
        "library(dplyr)\n",
        "library(ggplot2)\n",
        "\n",
        "# Summarize medianGdpPercap within each continent within each year: by_year_continent\n",
        "by_year_continent <- gapminder %>%\n",
        "  group_by(continent, year) %>%\n",
        "  summarize(medianGdpPercap = median(gdpPercap))\n",
        "\n",
        "# Show by_year_continent\n",
        "by_year_continent\n",
        "\n",
        "# Plot the change in medianGdpPercap in each continent over time\n",
        "ggplot(by_year_continent, aes(x = year, y = medianGdpPercap, color = continent)) + \n",
        "  geom_point() + \n",
        "  expand_limits(y = 0)"
      ]
    },
    {
      "cell_type": "code",
      "execution_count": null,
      "id": "bcbaffaa",
      "metadata": {},
      "outputs": [],
      "source": [
        "# Latihan 3\n",
        "library(gapminder)\n",
        "library(dplyr)\n",
        "library(ggplot2)\n",
        "\n",
        "# Summarize the median GDP and median life expectancy per continent in 2007\n",
        "by_continent_2007 <- gapminder %>%\n",
        "  filter(year == 2007) %>%\n",
        "  group_by(continent) %>%\n",
        "  summarize(medianLifeExp = median(lifeExp),\n",
        "            medianGdpPercap = median(gdpPercap))\n",
        "\n",
        "by_continent_2007\n",
        "\n",
        "# Use a scatter plot to compare the median GDP and median life expectancy\n",
        "ggplot(by_continent_2007, aes(x = medianGdpPercap, y = medianLifeExp, color = continent)) + \n",
        "  geom_point()"
      ]
    }
  ],
  "metadata": {
    "kernelspec": {
      "display_name": "Pyolite",
      "language": "python",
      "name": "python"
    },
    "language_info": {
      "codemirror_mode": {
        "name": "python",
        "version": 3
      },
      "file_extension": ".py",
      "mimetype": "text/x-python",
      "name": "python",
      "nbconvert_exporter": "python",
      "pygments_lexer": "ipython3",
      "version": "3.8"
    }
  },
  "nbformat": 4,
  "nbformat_minor": 5
}
