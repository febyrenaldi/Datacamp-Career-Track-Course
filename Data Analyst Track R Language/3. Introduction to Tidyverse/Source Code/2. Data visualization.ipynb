{
  "cells": [
    {
      "cell_type": "markdown",
      "id": "d0aada6a",
      "metadata": {},
      "source": [
        "Visualizing with ggplot2"
      ]
    },
    {
      "cell_type": "code",
      "execution_count": null,
      "id": "49da9ac7-ace6-4621-9060-cd8cd547a3cb",
      "metadata": {},
      "outputs": [],
      "source": [
        "# Latihan 1\n",
        "# Load the ggplot2 package as well\n",
        "library(gapminder)\n",
        "library(dplyr)\n",
        "library(ggplot2)\n",
        "\n",
        "# Create gapminder_1952\n",
        "gapminder_1952 <- gapminder %>%\n",
        "  filter(year == 1952)\n",
        "\n",
        "#Show new dataset\n",
        "gapminder_1952"
      ]
    },
    {
      "cell_type": "code",
      "execution_count": null,
      "id": "d9cdd697",
      "metadata": {},
      "outputs": [],
      "source": [
        "# Latihan 2\n",
        "library(gapminder)\n",
        "library(dplyr)\n",
        "library(ggplot2)\n",
        "\n",
        "gapminder_1952 <- gapminder %>%\n",
        "  filter(year == 1952)\n",
        "\n",
        "# Show dataset gapminder_1952\n",
        "gapminder_1952\n",
        "\n",
        "# Change to put pop on the x-axis and gdpPercap on the y-axis\n",
        "ggplot(gapminder_1952, aes(x = pop, y = gdpPercap)) + geom_point()"
      ]
    },
    {
      "cell_type": "code",
      "execution_count": null,
      "id": "edd8da74",
      "metadata": {},
      "outputs": [],
      "source": [
        "# Latihan 3\n",
        "library(gapminder)\n",
        "library(dplyr)\n",
        "library(ggplot2)\n",
        "\n",
        "gapminder_1952 <- gapminder %>%\n",
        "  filter(year == 1952)\n",
        "\n",
        "# Show dataset gapminder_1952\n",
        "gapminder_1952\n",
        "\n",
        "# Create a scatter plot with pop on the x-axis and lifeExp on the y-axis\n",
        "ggplot(gapminder_1952, aes(x = pop, y = lifeExp)) + geom_point()"
      ]
    },
    {
      "cell_type": "markdown",
      "id": "de007227",
      "metadata": {},
      "source": [
        "Log scales"
      ]
    },
    {
      "cell_type": "code",
      "execution_count": null,
      "id": "7107b009",
      "metadata": {},
      "outputs": [],
      "source": [
        "# Latihan 1\n",
        "library(gapminder)\n",
        "library(dplyr)\n",
        "library(ggplot2)\n",
        "\n",
        "gapminder_1952 <- gapminder %>%\n",
        "  filter(year == 1952)\n",
        "\n",
        "# Show dataset gapminder_1952\n",
        "gapminder_1952\n",
        "\n",
        "# Change this plot to put the x-axis on a log scale\n",
        "ggplot(gapminder_1952, aes(x = pop, y = lifeExp)) +\n",
        "  geom_point() +\n",
        "  scale_x_log10()"
      ]
    },
    {
      "cell_type": "code",
      "execution_count": null,
      "id": "826f39a6",
      "metadata": {},
      "outputs": [],
      "source": [
        "# Latihan 2\n",
        "library(gapminder)\n",
        "library(dplyr)\n",
        "library(ggplot2)\n",
        "\n",
        "gapminder_1952 <- gapminder %>%\n",
        "  filter(year == 1952)\n",
        "\n",
        "# Scatter plot comparing pop and gdpPercap, with both axes on a log scale\n",
        "ggplot(gapminder_1952, aes(x = pop, y = gdpPercap)) +\n",
        "  geom_point() + \n",
        "  scale_x_log10() +\n",
        "  scale_y_log10()"
      ]
    },
    {
      "cell_type": "markdown",
      "id": "967f2c0a",
      "metadata": {},
      "source": [
        "Additional aesthetics"
      ]
    },
    {
      "cell_type": "code",
      "execution_count": null,
      "id": "e89411fe",
      "metadata": {},
      "outputs": [],
      "source": [
        "# Latihan 1\n",
        "library(gapminder)\n",
        "library(dplyr)\n",
        "library(ggplot2)\n",
        "\n",
        "gapminder_1952 <- gapminder %>%\n",
        "  filter(year == 1952)\n",
        "\n",
        "# Show dataset\n",
        "gapminder_1952\n",
        "\n",
        "# Scatter plot comparing pop and lifeExp, with color representing continent\n",
        "ggplot(gapminder_1952, aes(x = pop, y = lifeExp, color = continent)) +\n",
        "  geom_point() +\n",
        "  scale_x_log10()"
      ]
    },
    {
      "cell_type": "code",
      "execution_count": null,
      "id": "63976f2c",
      "metadata": {},
      "outputs": [],
      "source": [
        "# Latihan 2\n",
        "library(gapminder)\n",
        "library(dplyr)\n",
        "library(ggplot2)\n",
        "\n",
        "gapminder_1952 <- gapminder %>%\n",
        "  filter(year == 1952)\n",
        "\n",
        "# Add the size aesthetic to represent a country's gdpPercap\n",
        "ggplot(gapminder_1952, aes(x = pop, y = lifeExp, color = continent, size = gdpPercap)) +\n",
        "  geom_point() +\n",
        "  scale_x_log10()"
      ]
    },
    {
      "cell_type": "markdown",
      "id": "c446c101",
      "metadata": {},
      "source": [
        "Faceting"
      ]
    },
    {
      "cell_type": "code",
      "execution_count": null,
      "id": "8ae22345",
      "metadata": {},
      "outputs": [],
      "source": [
        "# Latihan 1\n",
        "library(gapminder)\n",
        "library(dplyr)\n",
        "library(ggplot2)\n",
        "\n",
        "gapminder_1952 <- gapminder %>%\n",
        "  filter(year == 1952)\n",
        "\n",
        "# Show dataset\n",
        "gapminder_1952\n",
        "\n",
        "# Scatter plot comparing pop and lifeExp, faceted by continent\n",
        "ggplot(gapminder_1952, aes(x = pop, y = lifeExp)) +\n",
        "  geom_point() +\n",
        "  scale_x_log10() + \n",
        "  facet_wrap(~ continent)"
      ]
    },
    {
      "cell_type": "code",
      "execution_count": null,
      "id": "0adaee14",
      "metadata": {},
      "outputs": [],
      "source": [
        "# Latihan 2\n",
        "library(gapminder)\n",
        "library(dplyr)\n",
        "library(ggplot2)\n",
        "\n",
        "# Scatter plot comparing gdpPercap and lifeExp, with color representing continent\n",
        "# and size representing population, faceted by year\n",
        "ggplot(gapminder, aes(x = gdpPercap, y = lifeExp, color = continent, size = pop)) +\n",
        "  geom_point() +\n",
        "  scale_x_log10() +\n",
        "  facet_wrap(~ year)"
      ]
    }
  ],
  "metadata": {
    "kernelspec": {
      "display_name": "Pyolite",
      "language": "python",
      "name": "python"
    },
    "language_info": {
      "codemirror_mode": {
        "name": "python",
        "version": 3
      },
      "file_extension": ".py",
      "mimetype": "text/x-python",
      "name": "python",
      "nbconvert_exporter": "python",
      "pygments_lexer": "ipython3",
      "version": "3.8"
    }
  },
  "nbformat": 4,
  "nbformat_minor": 5
}
