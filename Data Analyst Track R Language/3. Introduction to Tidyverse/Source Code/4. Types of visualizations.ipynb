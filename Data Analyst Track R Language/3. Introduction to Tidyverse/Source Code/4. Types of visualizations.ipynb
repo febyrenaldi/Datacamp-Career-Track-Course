{
  "cells": [
    {
      "cell_type": "markdown",
      "id": "0d884494",
      "metadata": {},
      "source": [
        "Line plots"
      ]
    },
    {
      "cell_type": "code",
      "execution_count": null,
      "id": "3b296f4c",
      "metadata": {},
      "outputs": [],
      "source": [
        "# Latihan 1\n",
        "library(gapminder)\n",
        "library(dplyr)\n",
        "library(ggplot2)\n",
        "\n",
        "# Summarize the median gdpPercap by year, then save it as by_year\n",
        "by_year <- gapminder %>%\n",
        "  group_by(year) %>%\n",
        "  summarize(medianGdpPercap = median(gdpPercap))\n",
        "\n",
        "by_year\n",
        "\n",
        "# Create a line plot showing the change in medianGdpPercap over time\n",
        "ggplot(by_year, aes(x = year, y = medianGdpPercap)) + \n",
        "  geom_line() + \n",
        "  expand_limits(y = 0)"
      ]
    },
    {
      "cell_type": "code",
      "execution_count": null,
      "id": "0c8b95e9",
      "metadata": {},
      "outputs": [],
      "source": [
        "# Latihan 2\n",
        "library(gapminder)\n",
        "library(dplyr)\n",
        "library(ggplot2)\n",
        "\n",
        "# Summarize the median gdpPercap by year & continent, save as by_year_continent\n",
        "by_year_continent <- gapminder %>%\n",
        "  group_by(year, continent) %>%\n",
        "  summarize(medianGdpPercap = median(gdpPercap))\n",
        "\n",
        "by_year_continent\n",
        "\n",
        "# Create a line plot showing the change in medianGdpPercap by continent over time\n",
        "ggplot(by_year_continent, aes(x = year, y = medianGdpPercap, color = continent)) + \n",
        "  geom_line() + \n",
        "  expand_limits(y = 0)"
      ]
    },
    {
      "cell_type": "markdown",
      "id": "c670e20f",
      "metadata": {},
      "source": [
        "Bar plots"
      ]
    },
    {
      "cell_type": "code",
      "execution_count": null,
      "id": "575853b8",
      "metadata": {},
      "outputs": [],
      "source": [
        "# Latihan 1\n",
        "library(gapminder)\n",
        "library(dplyr)\n",
        "library(ggplot2)\n",
        "\n",
        "# Summarize the median gdpPercap by year and continent in 1952\n",
        "by_continent <- gapminder %>%\n",
        "  filter(year == 1952) %>%\n",
        "  group_by(continent) %>%\n",
        "  summarize(medianGdpPercap = median(gdpPercap))\n",
        "\n",
        "by_continent\n",
        "\n",
        "# Create a bar plot showing medianGdp by continent\n",
        "ggplot(by_continent, aes(x = continent, y = medianGdpPercap)) + \n",
        "  geom_col()"
      ]
    },
    {
      "cell_type": "code",
      "execution_count": null,
      "id": "afc726f7",
      "metadata": {},
      "outputs": [],
      "source": [
        "# LAtihan 2\n",
        "library(gapminder)\n",
        "library(dplyr)\n",
        "library(ggplot2)\n",
        "\n",
        "# Filter for observations in the Oceania continent in 1952\n",
        "oceania_1952 <- gapminder %>%\n",
        "  filter(continent == \"Oceania\", year == 1952)\n",
        "\n",
        "# Create a bar plot of gdpPercap by country\n",
        "ggplot(oceania_1952, aes(x = country, y = gdpPercap)) + \n",
        "  geom_col()"
      ]
    },
    {
      "cell_type": "markdown",
      "id": "7cca29db",
      "metadata": {},
      "source": [
        "Histograms"
      ]
    },
    {
      "cell_type": "code",
      "execution_count": null,
      "id": "9dd65ce2",
      "metadata": {},
      "outputs": [],
      "source": [
        "# Latihan 1\n",
        "library(gapminder)\n",
        "library(dplyr)\n",
        "library(ggplot2)\n",
        "\n",
        "gapminder_1952 <- gapminder %>%\n",
        "  filter(year == 1952) %>%\n",
        "  mutate(pop_by_mil = pop / 1000000)\n",
        "\n",
        "gapminder_1952\n",
        "\n",
        "# Create a histogram of population (pop_by_mil)\n",
        "ggplot(gapminder_1952, aes(x = pop_by_mil)) +\n",
        "  geom_histogram(bins = 50)"
      ]
    },
    {
      "cell_type": "code",
      "execution_count": null,
      "id": "6585793c",
      "metadata": {},
      "outputs": [],
      "source": [
        "# Latihan 2\n",
        "library(gapminder)\n",
        "library(dplyr)\n",
        "library(ggplot2)\n",
        "\n",
        "gapminder_1952 <- gapminder %>%\n",
        "  filter(year == 1952)\n",
        "\n",
        "# Create a histogram of population (pop), with x on a log scale\n",
        "ggplot(gapminder_1952, aes(x = pop)) + \n",
        "  geom_histogram() + \n",
        "  scale_x_log10()"
      ]
    },
    {
      "cell_type": "markdown",
      "id": "14f002d2",
      "metadata": {},
      "source": [
        "Boxplots"
      ]
    },
    {
      "cell_type": "code",
      "execution_count": null,
      "id": "e16b97ec",
      "metadata": {},
      "outputs": [],
      "source": [
        "# Latihan 1\n",
        "library(gapminder)\n",
        "library(dplyr)\n",
        "library(ggplot2)\n",
        "\n",
        "gapminder_1952 <- gapminder %>%\n",
        "  filter(year == 1952)\n",
        "\n",
        "# Create a boxplot comparing gdpPercap among continents\n",
        "ggplot(gapminder_1952, aes(x = continent, y = gdpPercap)) + \n",
        "  geom_boxplot() + \n",
        "  scale_y_log10()"
      ]
    },
    {
      "cell_type": "code",
      "execution_count": null,
      "id": "1db16478",
      "metadata": {},
      "outputs": [],
      "source": [
        "# Latihan 2\n",
        "library(gapminder)\n",
        "library(dplyr)\n",
        "library(ggplot2)\n",
        "\n",
        "gapminder_1952 <- gapminder %>%\n",
        "  filter(year == 1952)\n",
        "\n",
        "# Add a title to this graph: \"Comparing GDP per capita across continents\"\n",
        "ggplot(gapminder_1952, aes(x = continent, y = gdpPercap)) +\n",
        "  geom_boxplot() +\n",
        "  scale_y_log10() + \n",
        "  ggtitle(\"Comparing GDP per capita across continents\")"
      ]
    }
  ],
  "metadata": {
    "kernelspec": {
      "display_name": "Pyolite",
      "language": "python",
      "name": "python"
    },
    "language_info": {
      "codemirror_mode": {
        "name": "python",
        "version": 3
      },
      "file_extension": ".py",
      "mimetype": "text/x-python",
      "name": "python",
      "nbconvert_exporter": "python",
      "pygments_lexer": "ipython3",
      "version": "3.8"
    }
  },
  "nbformat": 4,
  "nbformat_minor": 5
}
