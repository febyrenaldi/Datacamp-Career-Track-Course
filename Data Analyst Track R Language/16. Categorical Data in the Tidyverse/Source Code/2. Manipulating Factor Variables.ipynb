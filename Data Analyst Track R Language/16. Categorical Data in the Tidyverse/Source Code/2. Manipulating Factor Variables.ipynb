{
  "cells": [
    {
      "cell_type": "markdown",
      "id": "9a58c38b-0cff-4af6-993b-884f63c7d404",
      "metadata": {},
      "source": [
        "Reordering factors"
      ]
    },
    {
      "cell_type": "code",
      "execution_count": null,
      "id": "c917b55c-89fc-4147-92ee-c5bfdabf4645",
      "metadata": {},
      "outputs": [],
      "source": [
        "#Latihan 1\n",
        "# Get the levels of WorkInternalVsExternalTools\n",
        "levels(multiple_choice_responses$WorkInternalVsExternalTools)\n",
        "\n",
        "# Reorder the levels from internal to external \n",
        "mc_responses_reordered <- multiple_choice_responses %>%\n",
        "  mutate(WorkInternalVsExternalTools = fct_relevel(WorkInternalVsExternalTools, \n",
        "                                                   \"Entirely internal\", \"More internal than external\", \n",
        "                                                   \"Approximately half internal and half external\", \n",
        "                                                   \"More external than internal\", \"Entirely external\", \n",
        "                                                   \"Do not know\")) "
      ]
    },
    {
      "cell_type": "code",
      "execution_count": null,
      "id": "3fcf23eb-7da7-4c94-b70d-18952ca6db78",
      "metadata": {},
      "outputs": [],
      "source": [
        "# Make a bar plot of the responses\n",
        "ggplot(mc_responses_reordered, aes(WorkInternalVsExternalTools)) + \n",
        "  geom_bar() + \n",
        "  coord_flip()"
      ]
    },
    {
      "cell_type": "code",
      "execution_count": null,
      "id": "8303bfa5-2246-4dcd-926d-416c8c645a81",
      "metadata": {},
      "outputs": [],
      "source": [
        "#Latihan 2\n",
        "multiple_choice_responses %>%\n",
        "  # Move \"I did not complete any formal education past high school\" and \"Some college/university study without earning a bachelor's degree\" to the front\n",
        "  mutate(FormalEducation = fct_relevel(FormalEducation, \n",
        "                                       \"I did not complete any formal education past high school\", \n",
        "                                       \"Some college/university study without earning a bachelor's degree\")) %>%\n",
        "  # Move \"I prefer not to answer\" to be the last level.\n",
        "  mutate(FormalEducation = fct_relevel(FormalEducation, \"I prefer not to answer\", after = Inf)) %>%\n",
        "  # Move \"Doctoral degree\" to be after the 5th level\n",
        "  mutate(FormalEducation = fct_relevel(FormalEducation, \"Doctoral degree\", after = 5)) %>%\n",
        "  # Examine the new level order\n",
        "  pull(FormalEducation) %>%\n",
        "  levels()"
      ]
    },
    {
      "cell_type": "markdown",
      "id": "4bd168d9-ed13-4606-a633-c3d8fb00bf80",
      "metadata": {},
      "source": [
        "Renaming factor levels"
      ]
    },
    {
      "cell_type": "code",
      "execution_count": null,
      "id": "8393d33d-aeb5-47bd-8813-1d7caecb79f0",
      "metadata": {},
      "outputs": [],
      "source": [
        "#Latihan 1\n",
        "multiple_choice_responses %>%\n",
        "  # Create new variable, grouped_titles, by collapsing levels in CurrentJobTitleSelect\n",
        "  mutate(grouped_titles = fct_collapse(CurrentJobTitleSelect, \n",
        "                                       \"Computer Scientist\" = c(\"Programmer\", \"Software Developer/Software Engineer\"), \n",
        "                                       \"Researcher\" = \"Scientist/Researcher\", \n",
        "                                       \"Data Analyst/Scientist/Engineer\" = c(\"DBA/Database Engineer\", \"Data Scientist\", \n",
        "                                                                             \"Business Analyst\", \"Data Analyst\", \n",
        "                                                                             \"Data Miner\", \"Predictive Modeler\"))) %>%\n",
        "    # Keep all the new titles and turn every other title into \"Other\"\n",
        "  mutate(grouped_titles = fct_other(grouped_titles, \n",
        "                                    keep = c(\"Computer Scientist\", \n",
        "                                             \"Researcher\", \n",
        "                                             \"Data Analyst/Scientist/Engineer\"))) %>% \n",
        "   # Get a count of the grouped titles\n",
        "  count(grouped_titles)"
      ]
    },
    {
      "cell_type": "code",
      "execution_count": null,
      "id": "76fe2650-8282-4865-8f39-83af99177d71",
      "metadata": {},
      "outputs": [],
      "source": [
        "#Latihan 2\n",
        "multiple_choice_responses %>%\n",
        "  # remove NAs of MLMethodNextYearSelect\n",
        "  filter(!is.na(MLMethodNextYearSelect)) %>%\n",
        "  # create ml_method, which lumps all those with less than 5% of people into \"Other\"\n",
        "  mutate(ml_method = fct_lump(MLMethodNextYearSelect, prop = .05)) %>%\n",
        "  # count the frequency of your new variable, sorted in descending order\n",
        "  count(ml_method, sort = TRUE)"
      ]
    },
    {
      "cell_type": "code",
      "execution_count": null,
      "id": "514c777d-2451-424d-9054-d9f61a86fafe",
      "metadata": {},
      "outputs": [],
      "source": [
        "#Latihan 3\n",
        "multiple_choice_responses %>%\n",
        "  # remove NAs \n",
        "  filter(!is.na(MLMethodNextYearSelect)) %>%\n",
        "  # create ml_method, retaining the 5 most common methods and renaming others \"other method\" \n",
        "  mutate(ml_method = fct_lump(MLMethodNextYearSelect, n = 5, other_level = \"other method\")) %>%\n",
        "  # count the frequency of your new variable, sorted in descending order\n",
        "  count(ml_method, sort = TRUE)"
      ]
    }
  ],
  "metadata": {
    "kernelspec": {
      "display_name": "Pyolite",
      "language": "python",
      "name": "python"
    },
    "language_info": {
      "codemirror_mode": {
        "name": "python",
        "version": 3
      },
      "file_extension": ".py",
      "mimetype": "text/x-python",
      "name": "python",
      "nbconvert_exporter": "python",
      "pygments_lexer": "ipython3",
      "version": "3.8"
    }
  },
  "nbformat": 4,
  "nbformat_minor": 5
}
