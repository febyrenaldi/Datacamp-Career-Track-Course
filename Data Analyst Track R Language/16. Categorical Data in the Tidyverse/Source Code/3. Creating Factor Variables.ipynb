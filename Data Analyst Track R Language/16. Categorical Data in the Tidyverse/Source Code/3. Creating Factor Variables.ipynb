{
  "cells": [
    {
      "cell_type": "markdown",
      "id": "8d3cfe6b-ba3e-40f8-80f7-345807aae74b",
      "metadata": {},
      "source": [
        "Examining common themed variables"
      ]
    },
    {
      "cell_type": "code",
      "execution_count": null,
      "id": "64871e01-54be-4a8e-9327-7f005874ad25",
      "metadata": {},
      "outputs": [],
      "source": [
        "#Latihan 1\n",
        "learning_platform_usefulness <- multiple_choice_responses %>%\n",
        "  # select columns with LearningPlatformUsefulness in title\n",
        "  select(contains(\"LearningPlatformUsefulness\")) %>%\n",
        "  # change data from wide to long\n",
        "  gather(learning_platform, usefulness) %>%\n",
        "  # remove rows where usefulness is NA\n",
        "  filter(!is.na(usefulness)) %>%\n",
        "  # remove \"LearningPlatformUsefulness\" from each string in learning_platform \n",
        "  mutate(learning_platform = str_replace(learning_platform, \"LearningPlatformUsefulness\", \"\"))"
      ]
    },
    {
      "cell_type": "code",
      "execution_count": null,
      "id": "75a9d197-ee51-4bb7-a770-856c5bb8dde6",
      "metadata": {},
      "outputs": [],
      "source": [
        "#Latihan 2\n",
        "learning_platform_usefulness %>%\n",
        "  # change dataset to one row per learning_platform usefulness pair with number of entries for each\n",
        "  count(learning_platform, usefulness) "
      ]
    },
    {
      "cell_type": "code",
      "execution_count": null,
      "id": "cca34919-dc5c-467c-9039-98fac5af0f6a",
      "metadata": {},
      "outputs": [],
      "source": [
        "#Latihan 3\n",
        "learning_platform_usefulness %>%\n",
        "  # If usefulness is \"Not Useful\", make 0, else 1 \n",
        "  mutate(usefulness = if_else(usefulness == \"Not Useful\", 0, 1))"
      ]
    },
    {
      "cell_type": "code",
      "execution_count": null,
      "id": "0c58d71c-0bf4-4cf5-b684-f6192059f8ab",
      "metadata": {},
      "outputs": [],
      "source": [
        "usefulness_by_platform <- learning_platform_usefulness %>%\n",
        "  # If usefulness is \"Not Useful\", make 0, else 1 \n",
        "  mutate(usefulness = if_else(usefulness == \"Not Useful\", 0, 1)) %>%\n",
        "  # Group by learning platform \n",
        "  group_by(learning_platform) %>%\n",
        "  # Summarize the mean usefulness for each platform\n",
        "  summarize(avg_usefulness = mean(usefulness))"
      ]
    },
    {
      "cell_type": "code",
      "execution_count": null,
      "id": "9d8ee549-a838-42b3-8420-258a071a44e8",
      "metadata": {},
      "outputs": [],
      "source": [
        "# Make a scatter plot of average usefulness by learning platform \n",
        "ggplot(usefulness_by_platform, aes(x = learning_platform, y = avg_usefulness)) + \n",
        "  geom_point()"
      ]
    },
    {
      "cell_type": "markdown",
      "id": "17d0f790-770a-410f-9767-5bb02430cb5a",
      "metadata": {},
      "source": [
        "Tricks of ggplot2"
      ]
    },
    {
      "cell_type": "code",
      "execution_count": null,
      "id": "ee740f3d-90a9-4032-b931-24bfb7c7476d",
      "metadata": {},
      "outputs": [],
      "source": [
        "#Latihan 1\n",
        "ggplot(usefulness_by_platform, aes(x = learning_platform, y = avg_usefulness)) + \n",
        "    geom_point() + \n",
        "  # rotate x-axis text by 90 degrees\n",
        "  theme(axis.text.x = element_text(angle = 90, hjust = 1)) + \n",
        "  # rename y and x axis labels\n",
        "  labs(x = \"Learning Platform\", y = \"Percent finding at least somewhat useful\") + \n",
        "  # change y axis scale to percentage\n",
        "  scale_y_continuous(labels = scales::percent)"
      ]
    },
    {
      "cell_type": "code",
      "execution_count": null,
      "id": "fcac3b2a-9d65-4031-bf78-b9e050ff2997",
      "metadata": {},
      "outputs": [],
      "source": [
        "#Latihan 2\n",
        "usefulness_by_platform %>%\n",
        "  # reorder learning_platform by avg_usefulness\n",
        "  mutate(learning_platform = fct_reorder(learning_platform, avg_usefulness)) %>%\n",
        "  # reverse the order of learning_platform\n",
        "  mutate(learning_platform = fct_rev(learning_platform)) %>%\n",
        "  ggplot(aes(x = learning_platform, y = avg_usefulness)) + \n",
        "  geom_point() + \n",
        "  theme(axis.text.x = element_text(angle = 90, hjust = 1)) + \n",
        "  labs(x = \"Learning Platform\", y = \"Percent finding at least somewhat useful\") + \n",
        "  scale_y_continuous(labels = scales::percent)"
      ]
    },
    {
      "cell_type": "markdown",
      "id": "347a615b-6ab7-41c1-a804-cd3c4832f3c1",
      "metadata": {},
      "source": [
        "Changing and creating variables with case_when()"
      ]
    },
    {
      "cell_type": "code",
      "execution_count": null,
      "id": "54ee4129-b2aa-439e-8ee3-84df4f251f1b",
      "metadata": {},
      "outputs": [],
      "source": [
        "#Latihan 1\n",
        "# Check the min age\n",
        "min(multiple_choice_responses$Age, na.rm = TRUE)\n",
        "\n",
        "# Check the max age\n",
        "max(multiple_choice_responses$Age, na.rm = TRUE) "
      ]
    },
    {
      "cell_type": "code",
      "execution_count": null,
      "id": "07970f67-87ef-4012-a47b-8801cf9688b0",
      "metadata": {},
      "outputs": [],
      "source": [
        "multiple_choice_responses %>%\n",
        "    # Filter for rows where Age is between 10 and 90\n",
        "    filter(between(Age, 10, 90))"
      ]
    },
    {
      "cell_type": "code",
      "execution_count": null,
      "id": "a48cb69c-f7e8-4454-92ba-cf75891d2239",
      "metadata": {},
      "outputs": [],
      "source": [
        "multiple_choice_responses %>%\n",
        "    # Filter for rows where Age is between 10 and 90\n",
        "    filter(between(Age, 10, 90)) %>%\n",
        "    # Create the generation variable based on age\n",
        "    mutate(generation = case_when(\n",
        "    between(Age, 10, 22) ~ \"Gen Z\", \n",
        "    between(Age, 23, 37) ~ \"Gen Y\", \n",
        "    between(Age, 38, 52) ~ \"Gen X\", \n",
        "    between(Age, 53, 71) ~ \"Baby Boomer\", \n",
        "    between(Age, 72, 90) ~ \"Silent\"\n",
        "    )) "
      ]
    },
    {
      "cell_type": "code",
      "execution_count": null,
      "id": "b932c3e3-8451-4b7d-bb01-a3e641e05e05",
      "metadata": {},
      "outputs": [],
      "source": [
        "multiple_choice_responses %>%\n",
        "    # Filter for rows where Age is between 10 and 90\n",
        "    filter(between(Age, 10, 90)) %>%\n",
        "    # Create the generation variable based on age\n",
        "    mutate(generation = case_when(\n",
        "    between(Age, 10, 22) ~ \"Gen Z\", \n",
        "    between(Age, 23, 37) ~ \"Gen Y\", \n",
        "    between(Age, 38, 52) ~ \"Gen X\", \n",
        "    between(Age, 53, 71) ~ \"Baby Boomer\", \n",
        "    between(Age, 72, 90) ~ \"Silent\"\n",
        "    )) %>%\n",
        "    # Get a count of how many answers in each generation\n",
        "    count(generation)"
      ]
    },
    {
      "cell_type": "code",
      "execution_count": null,
      "id": "ecb6e79b-c1ca-4427-a1cd-a2046546d144",
      "metadata": {},
      "outputs": [],
      "source": [
        "#Latihan 2\n",
        "multiple_choice_responses %>%\n",
        "  # Filter out people who selected Data Scientist as their Job Title\n",
        "  filter(CurrentJobTitleSelect != \"Data Scientist\") "
      ]
    },
    {
      "cell_type": "code",
      "execution_count": null,
      "id": "a32d212a-cb2e-4837-ae92-597c31251d56",
      "metadata": {},
      "outputs": [],
      "source": [
        "multiple_choice_responses %>%\n",
        "    # Filter out people who selected Data Scientist as their Job Title\n",
        "    filter(CurrentJobTitleSelect != \"Data Scientist\") %>%\n",
        "  # Create a new variable, job_identity\n",
        "  mutate(job_identity = case_when(\n",
        "    CurrentJobTitleSelect == \"Data Analyst\" & \n",
        "      DataScienceIdentitySelect == \"Yes\" ~ \"DS analysts\", \n",
        "    CurrentJobTitleSelect == \"Data Analyst\" & \n",
        "      DataScienceIdentitySelect %in% c(\"No\", \"Sort of (Explain more)\") ~ \"NDS analyst\", \n",
        "    CurrentJobTitleSelect != \"Data Analyst\" & \n",
        "      DataScienceIdentitySelect == \"Yes\" ~ \"DS non-analysts\", \n",
        "    TRUE ~ \"NDS non analysts\")) "
      ]
    },
    {
      "cell_type": "code",
      "execution_count": null,
      "id": "50d5590e-0c66-44fc-a60f-83651b64e32f",
      "metadata": {},
      "outputs": [],
      "source": [
        "multiple_choice_responses %>%\n",
        "    # Filter out people who selected Data Scientist as their Job Title\n",
        "    filter(CurrentJobTitleSelect != \"Data Scientist\") %>%\n",
        "    # Create a new variable, job_identity\n",
        "    mutate(job_identity = case_when(\n",
        "        CurrentJobTitleSelect == \"Data Analyst\" & \n",
        "        DataScienceIdentitySelect == \"Yes\" ~ \"DS analysts\", \n",
        "        CurrentJobTitleSelect == \"Data Analyst\" & \n",
        "        DataScienceIdentitySelect %in% c(\"No\", \"Sort of (Explain more)\") ~ \"NDS analyst\", \n",
        "        CurrentJobTitleSelect != \"Data Analyst\" & \n",
        "        DataScienceIdentitySelect == \"Yes\" ~ \"DS non-analysts\", \n",
        "        TRUE ~ \"NDS non analysts\")) %>%\n",
        "    # Get the average job satisfaction by job_identity, removing NAs\n",
        "  group_by(job_identity) %>%\n",
        "  summarize(avg_js = mean(JobSatisfaction, na.rm = TRUE))"
      ]
    }
  ],
  "metadata": {
    "kernelspec": {
      "display_name": "Pyolite",
      "language": "python",
      "name": "python"
    },
    "language_info": {
      "codemirror_mode": {
        "name": "python",
        "version": 3
      },
      "file_extension": ".py",
      "mimetype": "text/x-python",
      "name": "python",
      "nbconvert_exporter": "python",
      "pygments_lexer": "ipython3",
      "version": "3.8"
    }
  },
  "nbformat": 4,
  "nbformat_minor": 5
}
