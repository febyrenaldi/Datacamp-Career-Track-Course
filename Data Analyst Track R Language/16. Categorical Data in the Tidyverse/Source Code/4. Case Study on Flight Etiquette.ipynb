{
  "cells": [
    {
      "cell_type": "markdown",
      "id": "bc7e2905-1789-4a18-a214-e29f3d002b37",
      "metadata": {},
      "source": [
        "Case study introduction"
      ]
    },
    {
      "cell_type": "code",
      "execution_count": null,
      "id": "80b7d855-a149-4f0e-b733-551c0c08efd7",
      "metadata": {},
      "outputs": [],
      "source": [
        "#Latihan 1\n",
        "flying_etiquette %>%\n",
        "  # Change characters to factors\n",
        "  mutate_if(is.character, as.factor) %>%\n",
        "  # Filter out those who have never flown on a plane\n",
        "  filter(`How often do you travel by plane?` != \"Never\")"
      ]
    },
    {
      "cell_type": "code",
      "execution_count": null,
      "id": "37d6422a-4c83-442b-ac38-478b82f62005",
      "metadata": {},
      "outputs": [],
      "source": [
        "#Latihan 2\n",
        "gathered_data <- flying_etiquette %>%\n",
        "  mutate_if(is.character, as.factor) %>%\n",
        "  filter(`How often do you travel by plane?` != \"Never\") %>%\n",
        "  # Select columns containing \"rude\"\n",
        "  select(contains(\"rude\")) %>%\n",
        "  # Change format from wide to long\n",
        "  gather(response_var, value)"
      ]
    },
    {
      "cell_type": "markdown",
      "id": "ea19fcc5-2779-4990-8691-b3f559fede5d",
      "metadata": {},
      "source": [
        "Data preparation and regex"
      ]
    },
    {
      "cell_type": "code",
      "execution_count": null,
      "id": "424942e1-6efb-4e44-8451-73a3936f31f4",
      "metadata": {},
      "outputs": [],
      "source": [
        "#Latihan 1\n",
        "gathered_data %>%\n",
        "  # Remove everything before and including \"rude to \" (with that space at the end!)\n",
        "  mutate(response_var = str_remove(response_var, '.*rude to ')) %>%\n",
        "  # Remove \"on a plane\"\n",
        "  mutate(response_var = str_remove(response_var, 'on a plane'))"
      ]
    },
    {
      "cell_type": "code",
      "execution_count": null,
      "id": "3392ff9e-0433-4988-b98e-4a75c7bf513d",
      "metadata": {},
      "outputs": [],
      "source": [
        "#Latihan 2\n",
        "dichotimized_data <- gathered_data %>%\n",
        "  mutate(response_var = str_replace(response_var, '.*rude to ', '')) %>%\n",
        "  mutate(response_var = str_replace(response_var, 'on a plane', '')) %>%\n",
        "  # Remove rows that are NA in the value column\n",
        "  filter(!is.na(value)) %>%\n",
        "  # Dichotomize the value variable to make a new variable, rude\n",
        "  mutate(rude = if_else(value %in% c('No, not rude at all', 'No, not at all rude'), 0, 1))"
      ]
    },
    {
      "cell_type": "code",
      "execution_count": null,
      "id": "b8f8acfd-a140-4c6d-82a6-40f25c7311e6",
      "metadata": {},
      "outputs": [],
      "source": [
        "#Latihan 3\n",
        "rude_behaviors <- gathered_data %>%\n",
        "    mutate(response_var = str_replace(response_var, '.*rude to ', '')) %>%\n",
        "    mutate(response_var = str_replace(response_var, 'on a plane', '')) %>%\n",
        "\t# Remove rows that are NA in the value column\n",
        "\tfilter(!is.na(value)) %>%\n",
        "    mutate(rude = if_else(value %in% c(\"No, not rude at all\", \"No, not at all rude\"), 0, 1)) %>%\n",
        "  # Group by response_var\n",
        "  group_by(response_var) %>%\n",
        "  # Create perc_rude, the percent considering each behavior rude\n",
        "  summarise(perc_rude = mean(rude))\n",
        "\n",
        "rude_behaviors"
      ]
    },
    {
      "cell_type": "markdown",
      "id": "d460fe4a-d7d2-409a-a733-1e8bba1abcb9",
      "metadata": {},
      "source": [
        "Recreating the plot"
      ]
    },
    {
      "cell_type": "code",
      "execution_count": null,
      "id": "49c6c385-16e2-4ea4-9e4f-691179894cce",
      "metadata": {},
      "outputs": [],
      "source": [
        "#Latihan 1\n",
        "initial_plot <- rude_behaviors %>%\n",
        "  # reorder response_var by perc_rude\n",
        "  mutate(response_var = fct_reorder(response_var, perc_rude)) %>%\n",
        "  # make a bar plot of perc_rude by response_var\n",
        "  ggplot(aes(x = response_var, y = perc_rude)) + \n",
        "  geom_col() \n",
        "\n",
        "# View your plot\n",
        "initial_plot"
      ]
    },
    {
      "cell_type": "code",
      "execution_count": null,
      "id": "dc90ce51-8b25-4ebe-9970-1885c832513f",
      "metadata": {},
      "outputs": [],
      "source": [
        "#Latihan 2\n",
        "titled_plot <- initial_plot + \n",
        "  # Add the title, subtitle, and caption\n",
        "  labs(title = \"Hell Is Other People In A Pressurized Metal Tube\",\n",
        "       subtitle = \"Percentage of 874 air-passenger respondents who said action is very or somewhat rude\",\n",
        "       caption = \"Source: SurveyMonkey Audience\", \n",
        "       # Remove the x- and y-axis labels\n",
        "       x = \"\",\n",
        "       y = \"\") \n",
        "\n",
        "titled_plot"
      ]
    },
    {
      "cell_type": "code",
      "execution_count": null,
      "id": "ddf79ce6-7bc5-478f-85cb-95d3fae49837",
      "metadata": {},
      "outputs": [],
      "source": [
        "#Latihan 3\n",
        "flipped_plot <- titled_plot + \n",
        "  # Flip the axes\n",
        "  coord_flip() + \n",
        "  # Remove the x-axis ticks and labels\n",
        "  theme(axis.text.x = element_blank(),\n",
        "        axis.ticks.x = element_blank())"
      ]
    },
    {
      "cell_type": "code",
      "execution_count": null,
      "id": "67293497-414a-4b7f-8def-ebaf3d919a1f",
      "metadata": {},
      "outputs": [],
      "source": [
        "End of course recap"
      ]
    }
  ],
  "metadata": {
    "kernelspec": {
      "display_name": "Pyolite",
      "language": "python",
      "name": "python"
    },
    "language_info": {
      "codemirror_mode": {
        "name": "python",
        "version": 3
      },
      "file_extension": ".py",
      "mimetype": "text/x-python",
      "name": "python",
      "nbconvert_exporter": "python",
      "pygments_lexer": "ipython3",
      "version": "3.8"
    }
  },
  "nbformat": 4,
  "nbformat_minor": 5
}
