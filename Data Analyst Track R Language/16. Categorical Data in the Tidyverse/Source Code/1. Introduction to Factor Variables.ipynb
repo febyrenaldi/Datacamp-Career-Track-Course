{
  "cells": [
    {
      "cell_type": "markdown",
      "id": "0f1e559f-4b76-45cf-8ceb-777f2ae350a2",
      "metadata": {},
      "source": [
        "Introduction to qualitative variables"
      ]
    },
    {
      "cell_type": "code",
      "execution_count": null,
      "id": "38f3396b-7957-4b93-a1fe-04c25587bd50",
      "metadata": {},
      "outputs": [],
      "source": [
        "#Latihan 1\n",
        "# Print out the dataset\n",
        "multiple_choice_responses\n",
        "\n",
        "# Check if CurrentJobTitleSelect is a factor\n",
        "is.factor(multiple_choice_responses$CurrentJobTitleSelect)"
      ]
    },
    {
      "cell_type": "markdown",
      "id": "b967153e-c9fe-4f41-b763-10c683f20353",
      "metadata": {},
      "source": [
        "Understanding your qualitative variables"
      ]
    },
    {
      "cell_type": "code",
      "execution_count": null,
      "id": "65573979-b6ed-4a37-b05c-5c0856ba56b3",
      "metadata": {},
      "outputs": [],
      "source": [
        "#Latihan 1\n",
        "# Change all the character columns to factors\n",
        "responses_as_factors <- multiple_choice_responses %>%\n",
        "  mutate_if(is.character, as.factor)\n",
        "\n",
        "number_of_levels <- responses_as_factors %>%\n",
        "  # apply the function nlevels to each column\n",
        "  summarise_all(nlevels) %>%\n",
        "  # change the dataset from wide to long\n",
        "  gather(variable, num_levels)"
      ]
    },
    {
      "cell_type": "code",
      "execution_count": null,
      "id": "a91b551f-112d-49c5-9881-f5f134d5781b",
      "metadata": {},
      "outputs": [],
      "source": [
        "#Latihan 2\n",
        "# Select the 3 rows with the highest number of levels \n",
        "number_of_levels %>%\n",
        "  top_n(3, num_levels)\n",
        "\n",
        "number_of_levels %>%\n",
        "  # filter for where variable equals CurrentJobTitleSelect\n",
        "  filter(variable == \"CurrentJobTitleSelect\") %>%\n",
        "  # pull num_levels\n",
        "  pull(num_levels)"
      ]
    },
    {
      "cell_type": "code",
      "execution_count": null,
      "id": "e11974f1-2e0f-47a6-ae8e-d14553be438a",
      "metadata": {},
      "outputs": [],
      "source": [
        "#Latihan 3\n",
        "responses_as_factors %>%\n",
        "  # pull CurrentJobTitleSelect\n",
        "  pull(CurrentJobTitleSelect) %>%\n",
        "  # get the values of the levels\n",
        "  levels()"
      ]
    },
    {
      "cell_type": "markdown",
      "id": "43bd491b-f7b9-445e-9fb1-d982ceb9ba5f",
      "metadata": {},
      "source": [
        "Making better plots"
      ]
    },
    {
      "cell_type": "code",
      "execution_count": null,
      "id": "405dc987-9fd7-45ea-82a3-1c4cee72dd0c",
      "metadata": {},
      "outputs": [],
      "source": [
        "#Latihan 1\n",
        "# Make a bar plot\n",
        "ggplot(multiple_choice_responses, aes(x = EmployerIndustry)) + \n",
        "  geom_bar() + \n",
        "  # flip the coordinates\n",
        "  coord_flip()\n"
      ]
    },
    {
      "cell_type": "code",
      "execution_count": null,
      "id": "0e7e9b43-a4d4-4298-8719-a2e405e851e5",
      "metadata": {},
      "outputs": [],
      "source": [
        "#Latihan 2\n",
        "multiple_choice_responses %>%\n",
        "  # remove NAs\n",
        "  filter(!is.na(EmployerIndustry) & !is.na(Age))"
      ]
    },
    {
      "cell_type": "code",
      "execution_count": null,
      "id": "62950005-3698-42d2-ae15-310c03c1f284",
      "metadata": {},
      "outputs": [],
      "source": [
        "multiple_choice_responses %>%\n",
        "  # remove NAs\n",
        "  filter(!is.na(EmployerIndustry) & !is.na(Age)) %>%\n",
        "  # get mean_age by EmployerIndustry\n",
        "  group_by(EmployerIndustry) %>%\n",
        "  summarise(mean_age = mean(Age)) "
      ]
    },
    {
      "cell_type": "code",
      "execution_count": null,
      "id": "c8fbcda2-2240-4e42-9b64-dcd9316852e5",
      "metadata": {},
      "outputs": [],
      "source": [
        "multiple_choice_responses %>%\n",
        "  # remove NAs\n",
        "  filter(!is.na(EmployerIndustry) & !is.na(Age)) %>%\n",
        "  # get mean_age by EmployerIndustry\n",
        "  group_by(EmployerIndustry) %>%\n",
        "  summarise(mean_age = mean(Age)) %>%\n",
        "  # reorder EmployerIndustry by mean_age \n",
        "  mutate(EmployerIndustry = fct_reorder(EmployerIndustry, mean_age)) %>%\n",
        "  # make a scatterplot of EmployerIndustry by mean_age\n",
        "  ggplot(aes(x = EmployerIndustry, y = mean_age)) + \n",
        "  geom_point() + \n",
        "  coord_flip()"
      ]
    }
  ],
  "metadata": {
    "kernelspec": {
      "display_name": "Pyolite",
      "language": "python",
      "name": "python"
    },
    "language_info": {
      "codemirror_mode": {
        "name": "python",
        "version": 3
      },
      "file_extension": ".py",
      "mimetype": "text/x-python",
      "name": "python",
      "nbconvert_exporter": "python",
      "pygments_lexer": "ipython3",
      "version": "3.8"
    }
  },
  "nbformat": 4,
  "nbformat_minor": 5
}
