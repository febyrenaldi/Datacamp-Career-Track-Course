{
  "cells": [
    {
      "cell_type": "markdown",
      "metadata": {},
      "source": [
        "Introduction to Functions"
      ]
    },
    {
      "cell_type": "code",
      "execution_count": null,
      "metadata": {},
      "outputs": [],
      "source": [
        "#Latihan 1\n",
        "# Consult the documentation on the mean() function\n",
        "# In Rstudio this will open the help window\n",
        "?mean\n",
        "\n",
        "# Inspect the arguments of the mean() function\n",
        "args(mean)"
      ]
    },
    {
      "cell_type": "code",
      "execution_count": null,
      "metadata": {},
      "outputs": [],
      "source": [
        "#Latihan 2\n",
        "# The linkedin and facebook vectors have already been created for you\n",
        "linkedin <- c(16, 9, 13, 5, 2, 17, 14)\n",
        "facebook <- c(17, 7, 5, 16, 8, 13, 14)\n",
        "\n",
        "# Calculate average number of views\n",
        "avg_li <- mean(linkedin)\n",
        "avg_fb <- mean(facebook)\n",
        "\n",
        "# Inspect avg_li and avg_fb\n",
        "avg_li\n",
        "avg_fb"
      ]
    },
    {
      "cell_type": "code",
      "execution_count": null,
      "metadata": {},
      "outputs": [],
      "source": [
        "#Latihan 3\n",
        "# The linkedin and facebook vectors have already been created for you\n",
        "linkedin <- c(16, 9, 13, 5, 2, 17, 14)\n",
        "facebook <- c(17, 7, 5, 16, 8, 13, 14)\n",
        "\n",
        "# Calculate the mean of the sum\n",
        "avg_sum <- mean(linkedin + facebook)\n",
        "\n",
        "# Calculate the trimmed mean of the sum\n",
        "avg_sum_trimmed <- mean(linkedin + facebook, trim = 0.2)\n",
        "\n",
        "# Inspect both new variables\n",
        "avg_sum\n",
        "avg_sum_trimmed"
      ]
    },
    {
      "cell_type": "code",
      "execution_count": null,
      "metadata": {},
      "outputs": [],
      "source": [
        "#Latihan 4\n",
        "# The linkedin and facebook vectors have already been created for you\n",
        "linkedin <- c(16, 9, 13, 5, NA, 17, 14)\n",
        "facebook <- c(17, NA, 5, 16, 8, 13, 14)\n",
        "\n",
        "# Basic average of linkedin\n",
        "avg_li <- mean(linkedin)\n",
        "\n",
        "# Advanced average of linkedin\n",
        "adv_avg_li <- mean(linkedin, trim = 0, na.rm = TRUE)"
      ]
    },
    {
      "cell_type": "code",
      "execution_count": null,
      "metadata": {},
      "outputs": [],
      "source": [
        "#Latihan 5\n",
        "# The linkedin and facebook vectors have already been created for you\n",
        "linkedin <- c(16, 9, 13, 5, NA, 17, 14)\n",
        "facebook <- c(17, NA, 5, 16, 8, 13, 14)\n",
        "\n",
        "# Calculate the mean absolute deviation\n",
        "mean(abs(linkedin - facebook), na.rm = T)"
      ]
    },
    {
      "cell_type": "markdown",
      "metadata": {},
      "source": [
        "Writing Functions "
      ]
    },
    {
      "cell_type": "code",
      "execution_count": null,
      "metadata": {},
      "outputs": [],
      "source": [
        "#Latihan 1\n",
        "# Create a function pow_two()\n",
        "pow_two <- function(x) {\n",
        " result <- x^2\n",
        " return(result)\n",
        "}\n",
        "\n",
        "# Use the function \n",
        "pow_two(12)\n",
        "\n",
        "# Create a function sum_abs()\n",
        "sum_abs <- function(x, y) {\n",
        "  result <- abs(x) + abs(y)\n",
        "  return(result)\n",
        "}\n",
        "\n",
        "# Use the function\n",
        "sum_abs(-2, 3)\n"
      ]
    },
    {
      "cell_type": "code",
      "execution_count": null,
      "metadata": {},
      "outputs": [],
      "source": [
        "#Latihan 2\n",
        "# Define the function hello()\n",
        "hello <- function() {\n",
        "  print('Hi there!')\n",
        "  return(TRUE)\n",
        "}\n",
        "\n",
        "# Call the function hello()\n",
        "hello()\n",
        "\n",
        "# Define the function my_filter()\n",
        "my_filter <- function(x) {\n",
        "  if (x >=0) {\n",
        "    return(x)\n",
        "  } else {\n",
        "    return(NULL)\n",
        "  }\n",
        "}\n",
        "\n",
        "# Call the function my_filter() twice\n",
        "my_filter(5)\n",
        "my_filter(-5)"
      ]
    },
    {
      "cell_type": "code",
      "execution_count": null,
      "metadata": {},
      "outputs": [],
      "source": [
        "#Latihan 3\n",
        "# Finish the pow_two() function\n",
        "pow_two <- function(x, print_info = T) {\n",
        "  y <- x ^ 2\n",
        "  if (print_info == T) {\n",
        "    print(paste(x, 'to the power two equals',y))\n",
        "  }\n",
        "  return(y)\n",
        "}"
      ]
    },
    {
      "cell_type": "code",
      "execution_count": null,
      "metadata": {},
      "outputs": [],
      "source": [
        "#Latihan 4\n",
        "# The linkedin and facebook vectors have already been created for you\n",
        "linkedin <- c(16, 9, 13, 5, 2, 17, 14)\n",
        "facebook <- c(17, 7, 5, 16, 8, 13, 14)\n",
        "\n",
        "# Define the interpret function\n",
        "interpret <- function(x) {\n",
        " if (x > 15) {\n",
        "   print(\"You're popular!\")\n",
        "   return(x)\n",
        " } else {\n",
        "   print(\"Try to be more visible!\")\n",
        "   return(0)\n",
        " }\n",
        "}\n",
        "\n",
        "# Call the interpret function twice\n",
        "interpret(linkedin[1])\n",
        "interpret(facebook[2])"
      ]
    },
    {
      "cell_type": "code",
      "execution_count": null,
      "metadata": {},
      "outputs": [],
      "source": [
        "#Latihan 5\n",
        "# The linkedin and facebook vectors have already been created for you\n",
        "linkedin <- c(16, 9, 13, 5, 2, 17, 14)\n",
        "facebook <- c(17, 7, 5, 16, 8, 13, 14)\n",
        "\n",
        "# The interpret() can be used inside interpret_all()\n",
        "interpret <- function(num_views) {\n",
        "  if (num_views > 15) {\n",
        "    print(\"You're popular!\")\n",
        "    return(num_views)\n",
        "  } else {\n",
        "    print(\"Try to be more visible!\")\n",
        "    return(0)\n",
        "  }\n",
        "}\n",
        "\n",
        "# Define the interpret_all() function\n",
        "# views: vector with data to interpret\n",
        "# return_sum: return total number of views on popular days?\n",
        "interpret_all <- function(x, show_sum = T) {\n",
        "  sum_pop_views <- 0\n",
        "  for (i in x) {\n",
        "    y <- interpret(i)\n",
        "    sum_pop_views <- sum_pop_views + y\n",
        "  }\n",
        "  if (show_sum == T) {\n",
        "    return(sum_pop_views)\n",
        "  } else {\n",
        "    return(NULL)\n",
        "  }\n",
        "}\n",
        "\n",
        "# Call the interpret_all() function on both linkedin and facebook\n",
        "interpret_all(facebook)\n",
        "interpret_all(linkedin)"
      ]
    },
    {
      "cell_type": "markdown",
      "metadata": {},
      "source": [
        "R Packages "
      ]
    },
    {
      "cell_type": "code",
      "execution_count": null,
      "metadata": {},
      "outputs": [],
      "source": [
        "#Latihan 1\n",
        "# Load the ggplot2 package\n",
        "library(ggplot2)\n",
        "\n",
        "# Retry the qplot() function\n",
        "qplot(mtcars$wt, mtcars$hp)\n",
        "\n",
        "# Check out the currently attached packages again\n",
        "search()\n"
      ]
    }
  ],
  "metadata": {
    "kernelspec": {
      "display_name": "Pyolite",
      "language": "python",
      "name": "python"
    },
    "language_info": {
      "codemirror_mode": {
        "name": "python",
        "version": 3
      },
      "file_extension": ".py",
      "mimetype": "text/x-python",
      "name": "python",
      "nbconvert_exporter": "python",
      "pygments_lexer": "ipython3",
      "version": "3.8"
    }
  },
  "nbformat": 4,
  "nbformat_minor": 4
}
