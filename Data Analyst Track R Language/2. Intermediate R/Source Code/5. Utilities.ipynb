{
  "cells": [
    {
      "cell_type": "markdown",
      "metadata": {},
      "source": [
        "Usefull Functions "
      ]
    },
    {
      "cell_type": "code",
      "execution_count": null,
      "metadata": {},
      "outputs": [],
      "source": [
        "#Latihan 1\n",
        "# The errors vector has already been defined for you\n",
        "errors <- c(1.9,-2.6,4.0,-9.5,-3.4,7.3)\n",
        "\n",
        "# Sum of absolute rounded values of errors\n",
        "sum(round(abs(errors)))"
      ]
    },
    {
      "cell_type": "code",
      "execution_count": null,
      "metadata": {},
      "outputs": [],
      "source": [
        "#Latihan 2\n",
        "# Don't edit these two lines\n",
        "vec1 <- c(1.5,2.5,8.4,3.7,6.3)\n",
        "vec2 <- rev(vec1)\n",
        "\n",
        "# Fix the error\n",
        "mean(c(abs(vec1), abs(vec2)))"
      ]
    },
    {
      "cell_type": "code",
      "execution_count": null,
      "metadata": {},
      "outputs": [],
      "source": [
        "#Latihan 3\n",
        "# The linkedin and facebook vectors have already been created for you\n",
        "linkedin <- list(16, 9, 13, 5, 2, 17, 14)\n",
        "facebook <- list(17, 7, 5, 16, 8, 13, 14)\n",
        "\n",
        "# Convert linkedin and facebook to a vector: li_vec and fb_vec\n",
        "li_vec <- as.numeric(linkedin)\n",
        "fb_vec <- as.numeric(facebook)\n",
        "\n",
        "# Append fb_vec to li_vec: social_vec\n",
        "social_vec <- append(li_vec, fb_vec)\n",
        "social_vec\n",
        "\n",
        "# Sort social_vec\n",
        "sort(social_vec, decreasing=T)"
      ]
    },
    {
      "cell_type": "code",
      "execution_count": null,
      "metadata": {},
      "outputs": [],
      "source": [
        "#Latihan 4\n",
        "# Fix me\n",
        "round(sum(unlist(list(1.1,3,5))))\n",
        "\n",
        "# Fix me\n",
        "rep(seq(1, 7, by = 2), times = 7)"
      ]
    },
    {
      "cell_type": "code",
      "execution_count": null,
      "metadata": {},
      "outputs": [],
      "source": [
        "#Latihan 5\n",
        "# Create first sequence: seq1\n",
        "seq1 <- seq(1,500,by=3)\n",
        "seq1\n",
        "\n",
        "# Create second sequence: seq2\n",
        "seq2 <- seq(1200, 900, by=-7)\n",
        "seq2\n",
        "\n",
        "# Calculate total sum of the sequences\n",
        "sum(c(seq1, seq2))"
      ]
    },
    {
      "cell_type": "markdown",
      "metadata": {},
      "source": [
        "Regular Expression "
      ]
    },
    {
      "cell_type": "code",
      "execution_count": null,
      "metadata": {},
      "outputs": [],
      "source": [
        "#Latihan 1\n",
        "# The emails vector has already been defined for you\n",
        "emails <- c(\"john.doe@ivyleague.edu\", \"education@world.gov\", \"dalai.lama@peace.org\", \n",
        "            \"invalid.edu\", \"quant@bigdatacollege.edu\", \"cookie.monster@sesame.tv\")\n",
        "\n",
        "# Use grepl() to match for \"edu\"\n",
        "grepl(\"edu\",emails)\n",
        "\n",
        "# Use grep() to match for \"edu\", save result to hits\n",
        "hits <- grep(\"edu\",emails)\n",
        "hits\n",
        "\n",
        "# Subset emails using hits\n",
        "emails[hits]\n"
      ]
    },
    {
      "cell_type": "code",
      "execution_count": null,
      "metadata": {},
      "outputs": [],
      "source": [
        "#Latihan 2\n",
        "# The emails vector has already been defined for you\n",
        "emails <- c(\"john.doe@ivyleague.edu\", \"education@world.gov\", \"dalai.lama@peace.org\",\n",
        "            \"invalid.edu\", \"quant@bigdatacollege.edu\", \"cookie.monster@sesame.tv\")\n",
        "\n",
        "# Use grepl() to match for .edu addresses more robustly\n",
        "\n",
        "\n",
        "# Use grep() to match for .edu addresses more robustly, save result to hits\n",
        "\n",
        "\n",
        "# Subset emails using hits"
      ]
    },
    {
      "cell_type": "code",
      "execution_count": null,
      "metadata": {},
      "outputs": [],
      "source": [
        "#Latihan 3\n",
        "# The emails vector has already been defined for you\n",
        "emails <- c(\"john.doe@ivyleague.edu\", \"education@world.gov\", \"global@peace.org\",\n",
        "            \"invalid.edu\", \"quant@bigdatacollege.edu\", \"cookie.monster@sesame.tv\")\n",
        "\n",
        "# Use sub() to convert the email domains to datacamp.edu"
      ]
    },
    {
      "cell_type": "markdown",
      "metadata": {},
      "source": [
        "Time and Dates "
      ]
    },
    {
      "cell_type": "code",
      "execution_count": null,
      "metadata": {},
      "outputs": [],
      "source": [
        "#Latihan 1\n",
        "# Get the current date: today\n",
        "today <- Sys.Date()\n",
        "\n",
        "# See what today looks like under the hood\n",
        "unclass(today)\n",
        "\n",
        "# Get the current time: now\n",
        "now <- Sys.time()\n",
        "\n",
        "# See what now looks like under the hood\n",
        "unclass(now)"
      ]
    },
    {
      "cell_type": "code",
      "execution_count": null,
      "metadata": {},
      "outputs": [],
      "source": [
        "#Latihan 2\n",
        "# Definition of character strings representing dates\n",
        "str1 <- \"May 23, '96\"\n",
        "str2 <- \"2012-03-15\"\n",
        "str3 <- \"30/January/2006\"\n",
        "\n",
        "# Convert the strings to dates: date1, date2, date3\n",
        "date1 <- as.Date(str1, format = \"%b %d, '%y\")\n",
        "\n",
        "# Convert dates to formatted strings\n",
        "format(date1, \"%A\")"
      ]
    },
    {
      "cell_type": "code",
      "execution_count": null,
      "metadata": {},
      "outputs": [],
      "source": [
        "#Latihan 3\n",
        "# Definition of character strings representing times\n",
        "str1 <- \"May 23, '96 hours:23 minutes:01 seconds:45\"\n",
        "str2 <- \"2012-3-12 14:23:08\"\n",
        "\n",
        "# Convert the strings to POSIXct objects: time1, time2\n",
        "time1 <- as.POSIXct(str1, format = \"%B %d, '%y hours:%H minutes:%M seconds:%S\")\n",
        "time2 <- as.POSIXct(str2)\n",
        "\n",
        "# Convert times to formatted strings\n",
        "format(time1, \"%M\")\n",
        "format(time2, \"%I:%M %p\")"
      ]
    },
    {
      "cell_type": "code",
      "execution_count": null,
      "metadata": {},
      "outputs": [],
      "source": [
        "#Latihan 4\n",
        "# day1, day2, day3, day4 and day5 are already available in the workspace\n",
        "\n",
        "# Difference between last and first pizza day\n",
        "day5-day1\n",
        "\n",
        "# Create vector pizza\n",
        "pizza <- c(day1, day2, day3, day4, day5)\n",
        "pizza\n",
        "\n",
        "# Create differences between consecutive pizza days: day_diff\n",
        "day_diff <- diff(pizza)\n",
        "day_diff\n",
        "\n",
        "# Average period between two consecutive pizza days\n",
        "mean(day_diff)"
      ]
    },
    {
      "cell_type": "code",
      "execution_count": null,
      "metadata": {},
      "outputs": [],
      "source": [
        "#Latihan 5\n",
        "# login and logout are already defined in the workspace\n",
        "# Calculate the difference between login and logout: time_online\n",
        "time_online <- logout - login\n",
        "\n",
        "# Inspect the variable time_online\n",
        "time_online\n",
        "\n",
        "# Calculate the total time online\n",
        "sum(time_online)\n",
        "\n",
        "# Calculate the average time online\n",
        "mean(time_online)"
      ]
    },
    {
      "cell_type": "code",
      "execution_count": null,
      "metadata": {},
      "outputs": [],
      "source": [
        "#Latihan 6\n",
        "# Convert astro to vector of Date objects: astro_dates\n",
        "astro_dates <- as.Date(astro, format = \"%d-%b-%Y\")\n",
        "\n",
        "# Convert meteo to vector of Date objects: meteo_dates\n",
        "meteo_dates <- as.Date(meteo, format = \"%B %d, %y\")\n",
        "\n",
        "# Calculate the maximum absolute difference between astro_dates and meteo_dates\n",
        "max(abs(meteo_dates - astro_dates))"
      ]
    }
  ],
  "metadata": {
    "kernelspec": {
      "display_name": "Pyolite",
      "language": "python",
      "name": "python"
    },
    "language_info": {
      "codemirror_mode": {
        "name": "python",
        "version": 3
      },
      "file_extension": ".py",
      "mimetype": "text/x-python",
      "name": "python",
      "nbconvert_exporter": "python",
      "pygments_lexer": "ipython3",
      "version": "3.8"
    }
  },
  "nbformat": 4,
  "nbformat_minor": 4
}
