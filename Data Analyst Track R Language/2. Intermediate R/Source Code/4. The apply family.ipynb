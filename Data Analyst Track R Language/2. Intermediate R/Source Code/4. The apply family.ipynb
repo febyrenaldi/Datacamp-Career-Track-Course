{
  "cells": [
    {
      "cell_type": "markdown",
      "metadata": {},
      "source": [
        "Iapply"
      ]
    },
    {
      "cell_type": "code",
      "execution_count": null,
      "metadata": {},
      "outputs": [],
      "source": [
        "#Latihan 1\n",
        "# The vector pioneers has already been created for you\n",
        "pioneers <- c(\"GAUSS:1777\", \"BAYES:1702\", \"PASCAL:1623\", \"PEARSON:1857\")\n",
        "\n",
        "# Split names from birth year: split_math\n",
        "split_math <- strsplit(pioneers, \":\")\n",
        "split_math\n",
        "\n",
        "# Convert to lowercase strings: split_low\n",
        "split_low <- lapply(split_math, tolower)\n",
        "split_low\n",
        "\n",
        "# Take a look at the structure of split_low\n",
        "str(split_low)"
      ]
    },
    {
      "cell_type": "code",
      "execution_count": null,
      "metadata": {},
      "outputs": [],
      "source": [
        "#Latihan 2\n",
        "# Code from previous exercise:\n",
        "pioneers <- c(\"GAUSS:1777\", \"BAYES:1702\", \"PASCAL:1623\", \"PEARSON:1857\")\n",
        "split <- strsplit(pioneers, split = \":\")\n",
        "split_low <- lapply(split, tolower)\n",
        "\n",
        "split <- strsplit(pioneers, split = \":\")\n",
        "split_low <- lapply(split, tolower)\n",
        "\n",
        "# Write function select_first()\n",
        "select_first <- function(x) {\n",
        "  return(x[1])\n",
        "}\n",
        "\n",
        "# Apply select_first() over split_low: names\n",
        "names <- lapply(split_low, select_first)\n",
        "\n",
        "# Write function select_second()\n",
        "# Write function select_first()\n",
        "select_second <- function(x) {\n",
        "  return(x[2])\n",
        "}\n",
        "\n",
        "# Apply select_second() over split_low: years\n",
        "years <- lapply(split_low, select_second)\n",
        "years"
      ]
    },
    {
      "cell_type": "code",
      "execution_count": null,
      "metadata": {},
      "outputs": [],
      "source": [
        "#Latihan 3\n",
        "# split_low has been created for you\n",
        "split_low\n",
        "\n",
        "# Transform: use anonymous function inside lapply\n",
        "names <- lapply(split_low, function(x) { x[1] })\n",
        "\n",
        "# Transform: use anonymous function inside lapply\n",
        "years <- lapply(split_low, function(x) { x[2] })"
      ]
    },
    {
      "cell_type": "code",
      "execution_count": null,
      "metadata": {},
      "outputs": [],
      "source": [
        "#Latihan 4\n",
        "# Definition of split_low\n",
        "pioneers <- c(\"GAUSS:1777\", \"BAYES:1702\", \"PASCAL:1623\", \"PEARSON:1857\")\n",
        "split <- strsplit(pioneers, split = \":\")\n",
        "split_low <- lapply(split, tolower)\n",
        "split_low\n",
        "\n",
        "# Generic select function\n",
        "select_el <- function(x, index) {\n",
        "  x[index]\n",
        "}\n",
        "\n",
        "# Use lapply() twice on split_low: names and years\n",
        "names <- lapply(split_low, select_el, 1)\n",
        "names\n",
        "years <- lapply(split_low, select_el, 2)\n",
        "years"
      ]
    },
    {
      "cell_type": "markdown",
      "metadata": {},
      "source": [
        "sapply"
      ]
    },
    {
      "cell_type": "code",
      "execution_count": null,
      "metadata": {},
      "outputs": [],
      "source": [
        "#Latihan 1\n",
        "# temp has already been defined in the workspace\n",
        "\n",
        "# Use lapply() to find each day's minimum temperature\n",
        "lapply(temp, min)\n",
        "\n",
        "# Use sapply() to find each day's minimum temperature\n",
        "sapply(temp, min)\n",
        "\n",
        "# Use lapply() to find each day's maximum temperature\n",
        "lapply(temp, max)\n",
        "\n",
        "# Use sapply() to find each day's maximum temperature\n",
        "sapply(temp, max)"
      ]
    },
    {
      "cell_type": "code",
      "execution_count": null,
      "metadata": {},
      "outputs": [],
      "source": [
        "#Latihan 2\n",
        "# temp is already defined in the workspace\n",
        "\n",
        "# Finish function definition of extremes_avg\n",
        "extremes_avg <- function(x) {\n",
        " avg <- mean(c(min(x), max(x)))\n",
        " return(avg)\n",
        "}\n",
        "\n",
        "# Apply extremes_avg() over temp using sapply()\n",
        "sapply(temp, extremes_avg)\n",
        "\n",
        "# Apply extremes_avg() over temp using lapply()\n",
        "lapply(temp, extremes_avg)"
      ]
    },
    {
      "cell_type": "code",
      "execution_count": null,
      "metadata": {},
      "outputs": [],
      "source": [
        "#Latihan 3\n",
        "# temp is already available in the workspace\n",
        "\n",
        "# Create a function that returns min and max of a vector: extremes\n",
        "extremes <- function (x) {\n",
        "  return(c(min(x),max(x)))\n",
        "}\n",
        "\n",
        "# Apply extremes() over temp with sapply()\n",
        "sapply(temp, extremes)\n",
        "\n",
        "# Apply extremes() over temp with lapply()\n",
        "lapply(temp, extremes)"
      ]
    },
    {
      "cell_type": "code",
      "execution_count": null,
      "metadata": {},
      "outputs": [],
      "source": [
        "#Latihan 4\n",
        "# temp is already prepared for you in the workspace\n",
        "print(temp)\n",
        "\n",
        "# Definition of below_zero()\n",
        "below_zero <- function (x) {\n",
        " val <- x[x <0]\n",
        " return(val)\n",
        "}\n",
        "\n",
        "below_zero(c(1,2,3,-1,-1,-3))\n",
        "\n",
        "# Apply below_zero over temp using sapply(): freezing_s\n",
        "freezing_s <- sapply(temp, below_zero)\n",
        "freezing_s\n",
        "\n",
        "# Apply below_zero over temp using lapply(): freezing_l\n",
        "freezing_l <- lapply(temp, below_zero)\n",
        "freezing_l\n",
        "\n",
        "\n",
        "# Are freezing_s and freezing_l identical?\n",
        "identical(freezing_s, freezing_l)"
      ]
    },
    {
      "cell_type": "code",
      "execution_count": null,
      "metadata": {},
      "outputs": [],
      "source": [
        "#Latihan 5\n",
        "# temp is already available in the workspace\n",
        "print(temp)\n",
        "\n",
        "# Definition of print_info()\n",
        "print_info <- function(x) {\n",
        "  cat(\"The average temperature is\", mean(x), \"\\n\")\n",
        "}\n",
        "\n",
        "# Apply print_info() over temp using lapply()\n",
        "lapply(temp, print_info)\n",
        "\n",
        "# Apply print_info() over temp using sapply()\n",
        "sapply(temp, print_info)"
      ]
    },
    {
      "cell_type": "markdown",
      "metadata": {},
      "source": [
        "vapply"
      ]
    },
    {
      "cell_type": "code",
      "execution_count": null,
      "metadata": {},
      "outputs": [],
      "source": [
        "#Latihan 1\n",
        "# temp is already available in the workspace\n",
        "print(temp)\n",
        "\n",
        "# Definition of basics()\n",
        "basics <- function (x) {\n",
        "  return(c(min(x), mean(x), max(x)))\n",
        "}\n",
        "\n",
        "print(basics)\n",
        "\n",
        "# Apply basics() over temp using vapply()\n",
        "vapply(temp, basics, numeric(3))"
      ]
    },
    {
      "cell_type": "code",
      "execution_count": null,
      "metadata": {},
      "outputs": [],
      "source": [
        "#Latihan 2\n",
        "# temp is already available in the workspace\n",
        "\n",
        "# Definition of the basics() function\n",
        "basics <- function(x) {\n",
        "  c(min = min(x), mean = mean(x), median = median(x), max = max(x))\n",
        "}\n",
        "\n",
        "# Fix the error:\n",
        "vapply(temp, basics, numeric(4))"
      ]
    },
    {
      "cell_type": "code",
      "execution_count": null,
      "metadata": {},
      "outputs": [],
      "source": [
        "#Latihan 3\n",
        "# temp is already defined in the workspace\n",
        "temp\n",
        "\n",
        "# sapply() expression\n",
        "sapply(temp, max)\n",
        "\n",
        "# Convert to vapply() expression\n",
        "vapply(temp, max, numeric(1))\n",
        "\n",
        "# sapply() expression\n",
        "sapply(temp, function(x, y) { mean(x) > y }, y = 5)\n",
        "\n",
        "# Convert to vapply() expression\n",
        "vapply(temp, function(x, y) { mean(x) > y }, y = 5, logical(1))\n",
        "\n",
        "# Definition of get_info (don't change)\n",
        "get_info <- function(x, y) { \n",
        "  if (mean(x) > y) {\n",
        "    return(\"Not too cold!\")\n",
        "  } else {\n",
        "    return(\"Pretty cold!\")\n",
        "  }\n",
        "}\n",
        "\n",
        "# sapply() expression\n",
        "sapply(temp, get_info, y = 5)\n",
        "\n",
        "# Convert to vapply() expression\n",
        "vapply(temp, get_info, y = 5, character(1))\n"
      ]
    }
  ],
  "metadata": {
    "kernelspec": {
      "display_name": "Pyolite",
      "language": "python",
      "name": "python"
    },
    "language_info": {
      "codemirror_mode": {
        "name": "python",
        "version": 3
      },
      "file_extension": ".py",
      "mimetype": "text/x-python",
      "name": "python",
      "nbconvert_exporter": "python",
      "pygments_lexer": "ipython3",
      "version": "3.8"
    }
  },
  "nbformat": 4,
  "nbformat_minor": 4
}
