{
  "cells": [
    {
      "cell_type": "markdown",
      "metadata": {},
      "source": [
        "While Loop "
      ]
    },
    {
      "cell_type": "code",
      "execution_count": null,
      "metadata": {},
      "outputs": [],
      "source": [
        "#Latihan 1\n",
        "# Initialize the speed variable\n",
        "speed <- 64\n",
        "\n",
        "# Code the while loop\n",
        "while (speed > 30 ) {\n",
        "  print('Slow down!')\n",
        "  speed <- speed - 7\n",
        "}\n",
        "\n",
        "# Print out the speed variable\n",
        "speed"
      ]
    },
    {
      "cell_type": "code",
      "execution_count": null,
      "metadata": {},
      "outputs": [],
      "source": [
        "#Latihan 2\n",
        "# Initialize the speed variable\n",
        "speed <- 64\n",
        "\n",
        "# Extend/adapt the while loop\n",
        "while (speed > 30) {\n",
        "  print(paste(\"Your speed is\",speed))\n",
        "  if (speed > 48) {\n",
        "    print(\"Slow down big time!\")\n",
        "    speed <- speed - 11\n",
        "  } else {\n",
        "    print(\"Slow down!\")\n",
        "    speed <- speed - 6\n",
        "  }\n",
        "}"
      ]
    },
    {
      "cell_type": "code",
      "execution_count": null,
      "metadata": {},
      "outputs": [],
      "source": [
        "#Latihan 3\n",
        "# Initialize the speed variable\n",
        "speed <- 88\n",
        "\n",
        "while (speed > 30) {\n",
        "  print(paste(\"Your speed is\",speed))\n",
        "  \n",
        "  # Break the while loop when speed exceeds 80\n",
        "  if (speed > 80) {\n",
        "    break\n",
        "  }\n",
        "  \n",
        "  if (speed > 48) {\n",
        "    print(\"Slow down big time!\")\n",
        "    speed <- speed - 11\n",
        "  } else {\n",
        "    print(\"Slow down!\")\n",
        "    speed <- speed - 6\n",
        "  }\n",
        "}"
      ]
    },
    {
      "cell_type": "code",
      "execution_count": null,
      "metadata": {},
      "outputs": [],
      "source": [
        "#Latihan 4\n",
        "# Initialize i as 1 \n",
        "i <- 1\n",
        "\n",
        "# Code the while loop\n",
        "while (i <= 10) {\n",
        "  triple <- i * 3\n",
        "  print(triple)\n",
        "  \n",
        "  if (triple %% 8 == 0) {\n",
        "    break\n",
        "  }\n",
        "  i <- i + 1\n",
        "}"
      ]
    },
    {
      "cell_type": "markdown",
      "metadata": {},
      "source": [
        "For Loop"
      ]
    },
    {
      "cell_type": "code",
      "execution_count": null,
      "metadata": {},
      "outputs": [],
      "source": [
        "#Latihan 1\n",
        "# The linkedin vector has already been defined for you\n",
        "linkedin <- c(16, 9, 13, 5, 2, 17, 14)\n",
        "\n",
        "# Loop version 1\n",
        "for (views in linkedin) {\n",
        "  print(views)\n",
        "}\n",
        "\n",
        "# Loop version 2\n",
        "for (i in 1:length(linkedin)) {\n",
        "  print(linkedin[i])\n",
        "}"
      ]
    },
    {
      "cell_type": "code",
      "execution_count": null,
      "metadata": {},
      "outputs": [],
      "source": [
        "#Latihan 2\n",
        "# The nyc list is already specified\n",
        "nyc <- list(pop = 8405837, \n",
        "            boroughs = c(\"Manhattan\", \"Bronx\", \"Brooklyn\", \"Queens\", \"Staten Island\"), \n",
        "            capital = FALSE)\n",
        "\n",
        "# Loop version 1\n",
        "for (value in nyc) {\n",
        "  print(value)\n",
        "}\n",
        "\n",
        "# Loop version 2\n",
        "for (i in 1:length(nyc)) {\n",
        "  print(nyc[[i]])\n",
        "}"
      ]
    },
    {
      "cell_type": "code",
      "execution_count": null,
      "metadata": {},
      "outputs": [],
      "source": [
        "#Latihan 3\n",
        "# The tic-tac-toe matrix has already been defined for you\n",
        "ttt <- matrix(c(\"O\", NA, \"X\", NA, \"O\", NA, \"X\", \"O\", \"X\"), nrow = 3, ncol = 3)\n",
        "\n",
        "# define the double for loop\n",
        "for (i in 1:nrow(ttt)) {\n",
        "  for (j in 1:ncol(ttt)) {\n",
        "  print(paste(\"On row\",i,\"and column\",j,\"the board contains\",ttt[i,j]))\n",
        "  }\n",
        "}"
      ]
    },
    {
      "cell_type": "code",
      "execution_count": null,
      "metadata": {},
      "outputs": [],
      "source": [
        "#Latihan 4\n",
        "# The linkedin vector has already been defined for you\n",
        "linkedin <- c(16, 9, 13, 5, 2, 17, 14)\n",
        "\n",
        "# Code the for loop with conditionals\n",
        "for (i in 1:length(linkedin)) {\n",
        "  if (linkedin[i] > 10) {\n",
        "    print(\"You're popular!\")\n",
        "  } else {\n",
        "    print(\"Be more visible!\")\n",
        "  }\n",
        "  print(linkedin[i])\n",
        "}"
      ]
    },
    {
      "cell_type": "code",
      "execution_count": null,
      "metadata": {},
      "outputs": [],
      "source": [
        "#Latihan 5\n",
        "# The linkedin vector has already been defined for you\n",
        "linkedin <- c(16, 9, 13, 5, 2, 17, 14)\n",
        "\n",
        "# Adapt/extend the for loop\n",
        "for (li in linkedin) {\n",
        "  if (li > 10) {\n",
        "    print(\"You're popular!\")\n",
        "  } else {\n",
        "    print(\"Be more visible!\")\n",
        "  }\n",
        "  \n",
        "  # Add if statement with break\n",
        "  if (li > 16) {\n",
        "    print(\"This is ridiculous, I'm outta here!\")\n",
        "    break\n",
        "  }\n",
        "  \n",
        "  # Add if statement with next\n",
        "  if (li < 5) {\n",
        "    print(\"This is too embarrassing!\")\n",
        "    next\n",
        "  }\n",
        "  \n",
        "  print(li)\n",
        "}"
      ]
    },
    {
      "cell_type": "code",
      "execution_count": null,
      "metadata": {},
      "outputs": [],
      "source": [
        "#Latihan 6\n",
        "# Pre-defined variables\n",
        "rquote <- \"r's internals are irrefutably intriguing\"\n",
        "chars <- strsplit(rquote, split = \"\")[[1]]\n",
        "\n",
        "# Initialize rcount\n",
        "rcount <- 0\n",
        "\n",
        "# Finish the for loop\n",
        "for (char in chars) {\n",
        "  if (char == \"r\") {\n",
        "    rcount <- rcount + 1\n",
        "  }\n",
        "  if (char == \"u\") {\n",
        "    break\n",
        "  }\n",
        "}\n",
        "\n",
        "# Print out rcount\n",
        "rcount"
      ]
    }
  ],
  "metadata": {
    "kernelspec": {
      "display_name": "Pyolite",
      "language": "python",
      "name": "python"
    },
    "language_info": {
      "codemirror_mode": {
        "name": "python",
        "version": 3
      },
      "file_extension": ".py",
      "mimetype": "text/x-python",
      "name": "python",
      "nbconvert_exporter": "python",
      "pygments_lexer": "ipython3",
      "version": "3.8"
    }
  },
  "nbformat": 4,
  "nbformat_minor": 4
}
