{
  "cells": [
    {
      "cell_type": "markdown",
      "metadata": {},
      "source": [
        "Relational Operators"
      ]
    },
    {
      "cell_type": "code",
      "execution_count": null,
      "metadata": {},
      "outputs": [],
      "source": [
        "# Latihan 1\n",
        "# Comparison of logicals\n",
        "TRUE == FALSE\n",
        "\n",
        "# Comparison of numerics\n",
        "-6 * 14 != 17 - 101\n",
        "\n",
        "# Comparison of character strings\n",
        "\"useR\" == \"user\"\n",
        "\n",
        "# Compare a logical with a numeric\n",
        "TRUE == 1"
      ]
    },
    {
      "cell_type": "code",
      "execution_count": null,
      "metadata": {},
      "outputs": [],
      "source": [
        "# Latihan 2\n",
        "# Comparison of numerics\n",
        "-6 * 5 + 2 >= -10 + 1\n",
        "\n",
        "# Comparison of character strings\n",
        "\"raining\" <= \"raining dogs\"\n",
        "\n",
        "# Comparison of logicals\n",
        "TRUE > FALSE"
      ]
    },
    {
      "cell_type": "code",
      "execution_count": null,
      "metadata": {},
      "outputs": [],
      "source": [
        "#Latihan 3\n",
        "# The linkedin and facebook vectors have already been created for you\n",
        "linkedin <- c(16, 9, 13, 5, 2, 17, 14)\n",
        "facebook <- c(17, 7, 5, 16, 8, 13, 14)\n",
        "\n",
        "# Popular days\n",
        "linkedin > 15\n",
        "\n",
        "# Quiet days\n",
        "linkedin <= 5\n",
        "\n",
        "# LinkedIn more popular than Facebook\n",
        "linkedin > facebook"
      ]
    },
    {
      "cell_type": "code",
      "execution_count": null,
      "metadata": {},
      "outputs": [],
      "source": [
        "#latihan 4\n",
        "# The social data has been created for you\n",
        "linkedin <- c(16, 9, 13, 5, 2, 17, 14)\n",
        "facebook <- c(17, 7, 5, 16, 8, 13, 14)\n",
        "\n",
        "views <- matrix(c(linkedin, facebook), nrow = 2, byrow = TRUE)\n",
        "\n",
        "# When does views equal 13?\n",
        "views == 13\n",
        "\n",
        "# When is views less than or equal to 14?\n",
        "views <= 14\n",
        "\n",
        "# How often does facebook equal or exceed linkedin times two?\n",
        "sum(facebook >= linkedin * 2)"
      ]
    },
    {
      "cell_type": "markdown",
      "metadata": {},
      "source": [
        "Logical Operators "
      ]
    },
    {
      "cell_type": "code",
      "execution_count": null,
      "metadata": {},
      "outputs": [],
      "source": [
        "#Latihan 1\n",
        "# The linkedin and last variable are already defined for you\n",
        "linkedin <- c(16, 9, 13, 5, 2, 17, 14)\n",
        "\n",
        "last <- tail(linkedin, 1)\n",
        "\n",
        "# Is last under 5 or above 10?\n",
        "last < 5 | last > 10\n",
        "\n",
        "# Is last between 15 (exclusive) and 20 (inclusive)?\n",
        "last > 15 & last <= 20"
      ]
    },
    {
      "cell_type": "code",
      "execution_count": null,
      "metadata": {},
      "outputs": [],
      "source": [
        "#Latihan 2\n",
        "# The social data (linkedin, facebook, views) has been created for you\n",
        "\n",
        "# linkedin exceeds 10 but facebook below 10\n",
        "\n",
        "\n",
        "# When were one or both visited at least 12 times?\n",
        "\n",
        "\n",
        "# When is views between 11 (exclusive) and 14 (inclusive)?"
      ]
    },
    {
      "cell_type": "code",
      "execution_count": null,
      "metadata": {},
      "outputs": [],
      "source": [
        "#Latihan 3\n",
        "# li_df is pre-loaded in your workspace\n",
        "\n",
        "# Select the second column, named day2, from li_df: second\n",
        "second <- li_df$day2\n",
        "\n",
        "# Build a logical vector, TRUE if value in second is extreme: extremes\n",
        "extremes <- second > 25 | second < 5\n",
        "\n",
        "# Count the number of TRUEs in extremes\n",
        "sum(extremes)"
      ]
    },
    {
      "cell_type": "markdown",
      "metadata": {},
      "source": [
        "Conditional Statements "
      ]
    },
    {
      "cell_type": "code",
      "execution_count": null,
      "metadata": {},
      "outputs": [],
      "source": [
        "#Latihan 1\n",
        "# Variables related to your last day of recordings\n",
        "medium <- \"LinkedIn\"\n",
        "num_views <- 14\n",
        "\n",
        "# Examine the if statement for medium\n",
        "if (medium == \"LinkedIn\") {\n",
        "  print(\"Showing LinkedIn information\")\n",
        "}\n",
        "\n",
        "# Write the if statement for num_views\n",
        "if (num_views > 15) {\n",
        "  print(\"You are popular!\")\n",
        "}"
      ]
    },
    {
      "cell_type": "code",
      "execution_count": null,
      "metadata": {},
      "outputs": [],
      "source": [
        "#Latihan 2\n",
        "# Variables related to your last day of recordings\n",
        "medium <- \"LinkedIn\"\n",
        "num_views <- 14\n",
        "\n",
        "# Control structure for medium\n",
        "if (medium == \"LinkedIn\") {\n",
        "  print(\"Showing LinkedIn information\")\n",
        "} else {\n",
        "  print(\"Unknown medium\")\n",
        "}\n",
        "\n",
        "# Control structure for num_views\n",
        "if (num_views > 15) {\n",
        "  print(\"You're popular!\")\n",
        "} else {\n",
        "  print(\"Try to be more visible!\")\n",
        "}"
      ]
    },
    {
      "cell_type": "code",
      "execution_count": null,
      "metadata": {},
      "outputs": [],
      "source": [
        "#Latihan 3\n",
        "# Variables related to your last day of recordings\n",
        "medium <- \"LinkedIn\"\n",
        "num_views <- 14\n",
        "\n",
        "# Control structure for medium\n",
        "if (medium == \"LinkedIn\") {\n",
        "  print(\"Showing LinkedIn information\")\n",
        "} else if (medium == \"Facebook\") {\n",
        "  # Add code to print correct string when condition is True\n",
        "  print(\"Showing Facebook information\")\n",
        "} else {\n",
        "  print(\"Unknown medium\")\n",
        "}\n",
        "\n",
        "# Control structure for num_views\n",
        "if (num_views > 15) {\n",
        "  print(\"You're popular!\")\n",
        "} else if (num_views <= 15 & num_views > 10) {\n",
        "  # Add code to print correct string when condition is TRUE\n",
        "  print(\"Your number of views is average\")\n",
        "} else {\n",
        "  print(\"Try to be more visible!\")\n",
        "}"
      ]
    },
    {
      "cell_type": "code",
      "execution_count": null,
      "metadata": {},
      "outputs": [],
      "source": [
        "#Latihan 4\n",
        "# Variables related to your last day of recordings\n",
        "li <- 15\n",
        "fb <- 9\n",
        "\n",
        "# Code the control-flow construct\n",
        "if (li >= 15 & fb >= 15) {\n",
        "  sms <- (li + fb) * 2\n",
        "} else if (li < 10 & fb < 10) {\n",
        "  sms <- (li + fb) / 2\n",
        "} else {\n",
        "  sms <- (li + fb)\n",
        "}\n",
        "\n",
        "# Print the resulting sms to the console\n",
        "print(sms)"
      ]
    }
  ],
  "metadata": {
    "kernelspec": {
      "display_name": "Pyolite",
      "language": "python",
      "name": "python"
    },
    "language_info": {
      "codemirror_mode": {
        "name": "python",
        "version": 3
      },
      "file_extension": ".py",
      "mimetype": "text/x-python",
      "name": "python",
      "nbconvert_exporter": "python",
      "pygments_lexer": "ipython3",
      "version": "3.8"
    }
  },
  "nbformat": 4,
  "nbformat_minor": 4
}
