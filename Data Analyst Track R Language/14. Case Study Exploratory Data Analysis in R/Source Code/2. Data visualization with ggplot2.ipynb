{
  "cells": [
    {
      "cell_type": "markdown",
      "metadata": {},
      "source": [
        "Visualization with ggplot2"
      ]
    },
    {
      "cell_type": "code",
      "execution_count": null,
      "metadata": {},
      "outputs": [],
      "source": [
        "# Latihan 1\n",
        "# Define by_year\n",
        "by_year <- votes_processed %>%\n",
        "  group_by(year) %>%\n",
        "  summarize(total = n(),\n",
        "            percent_yes = mean(vote == 1))\n",
        "\n",
        "# Load the ggplot2 package\n",
        "library(ggplot2)\n",
        "\n",
        "# Create line plot\n",
        "ggplot(by_year, aes(x = year, y = percent_yes)) +\n",
        "  geom_line()"
      ]
    },
    {
      "cell_type": "code",
      "execution_count": null,
      "metadata": {},
      "outputs": [],
      "source": [
        "# Latihan 2\n",
        "# Change to scatter plot and add smoothing curve\n",
        "ggplot(by_year, aes(year, percent_yes)) +\n",
        "  geom_point() +\n",
        "  geom_smooth()"
      ]
    },
    {
      "cell_type": "markdown",
      "metadata": {},
      "source": [
        "Visualizing by country"
      ]
    },
    {
      "cell_type": "code",
      "execution_count": null,
      "metadata": {},
      "outputs": [],
      "source": [
        "# Latihan 1\n",
        "# Group by year and country: by_year_country\n",
        "by_year_country <- votes_processed %>%\n",
        "  group_by(year, country) %>%\n",
        "  summarize(total = n(),\n",
        "            percent_yes = mean(vote == 1))"
      ]
    },
    {
      "cell_type": "code",
      "execution_count": null,
      "metadata": {},
      "outputs": [],
      "source": [
        "# Latihan 2\n",
        "# Start with by_year_country dataset\n",
        "by_year_country <- votes_processed %>%\n",
        "  group_by(year, country) %>%\n",
        "  summarize(total = n(),\n",
        "            percent_yes = mean(vote == 1))\n",
        "\n",
        "# Print by_year_country\n",
        "by_year_country\n",
        "\n",
        "# Create a filtered version: UK_by_year\n",
        "UK_by_year <- by_year_country %>%\n",
        "  filter(country == 'United Kingdom')\n",
        "\n",
        "# Line plot of percent_yes over time for UK only\n",
        "ggplot(UK_by_year, aes(x = year, y = percent_yes)) +\n",
        "  geom_line()"
      ]
    },
    {
      "cell_type": "code",
      "execution_count": null,
      "metadata": {},
      "outputs": [],
      "source": [
        "# Latihan 3\n",
        "# Vector of four countries to examine\n",
        "countries <- c(\"United States\", \"United Kingdom\",\n",
        "               \"France\", \"India\")\n",
        "\n",
        "# Filter by_year_country: filtered_4_countries\n",
        "filtered_4_countries <- by_year_country %>%\n",
        "  filter(country %in% countries)\n",
        "\n",
        "# Line plot of % yes in four countries\n",
        "ggplot(filtered_4_countries, aes(x = year, y = percent_yes, color = country)) +\n",
        "  geom_line()"
      ]
    },
    {
      "cell_type": "markdown",
      "metadata": {},
      "source": [
        "Faceting by country"
      ]
    },
    {
      "cell_type": "code",
      "execution_count": null,
      "metadata": {},
      "outputs": [],
      "source": [
        "# Latihan 1\n",
        "# Vector of six countries to examine\n",
        "countries <- c(\"United States\", \"United Kingdom\",\n",
        "               \"France\", \"Japan\", \"Brazil\", \"India\")\n",
        "\n",
        "# Filtered by_year_country: filtered_6_countries\n",
        "filtered_6_countries <- by_year_country %>%\n",
        "  filter(country %in% countries)\n",
        "\n",
        "# Line plot of % yes over time faceted by country\n",
        "ggplot(filtered_6_countries, aes(x = year, y = percent_yes)) +\n",
        "  geom_line() + \n",
        "  facet_wrap(~ country)"
      ]
    },
    {
      "cell_type": "code",
      "execution_count": null,
      "metadata": {},
      "outputs": [],
      "source": [
        "# Latihan 2\n",
        "# Vector of six countries to examine\n",
        "countries <- c(\"United States\", \"United Kingdom\",\n",
        "               \"France\", \"Japan\", \"Brazil\", \"India\")\n",
        "\n",
        "# Filtered by_year_country: filtered_6_countries\n",
        "filtered_6_countries <- by_year_country %>%\n",
        "  filter(country %in% countries)\n",
        "\n",
        "# Line plot of % yes over time faceted by country\n",
        "ggplot(filtered_6_countries, aes(year, percent_yes)) +\n",
        "  geom_line() +\n",
        "  facet_wrap(~ country, scales = \"free_y\")"
      ]
    },
    {
      "cell_type": "code",
      "execution_count": null,
      "metadata": {},
      "outputs": [],
      "source": [
        "# Latihan 3\n",
        "# Add three more countries to this list\n",
        "countries <- c(\"United States\", \"United Kingdom\",\n",
        "               \"France\", \"Germany\", \"China\", \"India\", \"Argentina\", \"Canada\",\"Uruguay\")\n",
        "\n",
        "# Filtered by_year_country: filtered_countries\n",
        "filtered_countries <- by_year_country %>%\n",
        "  filter(country %in% countries)\n",
        "\n",
        "# Line plot of % yes over time faceted by country\n",
        "ggplot(filtered_countries, aes(year, percent_yes)) +\n",
        "  geom_line() +\n",
        "  facet_wrap(~ country, scales = \"free_y\")"
      ]
    }
  ],
  "metadata": {
    "kernelspec": {
      "display_name": "Python 3.10.4 64-bit",
      "language": "python",
      "name": "python3"
    },
    "language_info": {
      "codemirror_mode": {
        "name": "python",
        "version": 3
      },
      "file_extension": ".py",
      "mimetype": "text/x-python",
      "name": "python",
      "nbconvert_exporter": "python",
      "pygments_lexer": "ipython3",
      "version": "3.10.4"
    },
    "vscode": {
      "interpreter": {
        "hash": "d3e10ef16274dd72e574b8fa73b58450b957d8421a2901baded3cca26fcf5dda"
      }
    }
  },
  "nbformat": 4,
  "nbformat_minor": 4
}
