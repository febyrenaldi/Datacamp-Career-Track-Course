{
  "cells": [
    {
      "cell_type": "markdown",
      "metadata": {},
      "source": [
        "Linear regression"
      ]
    },
    {
      "cell_type": "code",
      "execution_count": null,
      "metadata": {},
      "outputs": [],
      "source": [
        "# Latihan 1\n",
        "# Percentage of yes votes from the US by year: US_by_year\n",
        "US_by_year <- by_year_country %>%\n",
        "  filter(country == \"United States\")\n",
        "\n",
        "# Print the US_by_year data\n",
        "US_by_year\n",
        "\n",
        "# Perform a linear regression of percent_yes by year: US_fit\n",
        "US_fit <- lm(percent_yes ~ year, data = US_by_year)\n",
        "\n",
        "# Perform summary() on the US_fit object\n",
        "summary(US_fit)"
      ]
    },
    {
      "cell_type": "markdown",
      "metadata": {},
      "source": [
        "Tidying models with broom"
      ]
    },
    {
      "cell_type": "code",
      "execution_count": null,
      "metadata": {},
      "outputs": [],
      "source": [
        "# Latihan 1\n",
        "# Load the broom package\n",
        "library(broom)\n",
        "# Call the tidy() function on the US_fit object\n",
        "tidy(US_fit)"
      ]
    },
    {
      "cell_type": "code",
      "execution_count": null,
      "metadata": {},
      "outputs": [],
      "source": [
        "# Latihan 2\n",
        "# Linear regression of percent_yes by year for US\n",
        "US_by_year <- by_year_country %>%\n",
        "  filter(country == \"United States\")\n",
        "US_fit <- lm(percent_yes ~ year, US_by_year)\n",
        "\n",
        "# Fit model for the United Kingdom\n",
        "UK_by_year <- by_year_country %>%\n",
        "  filter(country == \"United Kingdom\")\n",
        "UK_fit <- lm(percent_yes ~ year, UK_by_year)\n",
        "\n",
        "# Create US_tidied and UK_tidied\n",
        "US_tidied <- tidy(US_fit)\n",
        "UK_tidied <- tidy(UK_fit)\n",
        "\n",
        "# Combine the two tidied models\n",
        "bind_rows(US_tidied, UK_tidied)"
      ]
    },
    {
      "cell_type": "markdown",
      "metadata": {},
      "source": [
        "Nesting for multiple models"
      ]
    },
    {
      "cell_type": "code",
      "execution_count": null,
      "metadata": {},
      "outputs": [],
      "source": [
        "# Latihan 1\n",
        "# Load the tidyr package\n",
        "library(tidyr)\n",
        "\n",
        "# Nest all columns besides country\n",
        "by_year_country %>%\n",
        "  nest(-country)"
      ]
    },
    {
      "cell_type": "code",
      "execution_count": null,
      "metadata": {},
      "outputs": [],
      "source": [
        "# Latihan 2\n",
        "# All countries are nested besides country\n",
        "nested <- by_year_country %>%\n",
        "  nest(-country)\n",
        "\n",
        "nested$data[[1]]\n",
        "nested$data[[1]]$percent_yes\n",
        "\n",
        "# Print the nested data for Brazil\n",
        "nested$data[nested$country == 'Brazil']"
      ]
    },
    {
      "cell_type": "code",
      "execution_count": null,
      "metadata": {},
      "outputs": [],
      "source": [
        "# Latihan 3\n",
        "# All countries are nested besides country\n",
        "nested <- by_year_country %>%\n",
        "  nest(-country)\n",
        "\n",
        "# Unnest the data column to return it to its original form\n",
        "nested %>%\n",
        "  unnest()"
      ]
    },
    {
      "cell_type": "markdown",
      "metadata": {},
      "source": [
        "Fitting multiple models"
      ]
    },
    {
      "cell_type": "code",
      "execution_count": null,
      "metadata": {},
      "outputs": [],
      "source": [
        "# Latihan 1\n",
        "# Load tidyr and purrr\n",
        "library(tidyr)\n",
        "library(purrr)\n",
        "\n",
        "# Perform a linear regression on each item in the data column\n",
        "by_year_country %>%\n",
        "  nest(-country) %>%\n",
        "  mutate(model = map(data, ~ lm(percent_yes ~ year, data = .)))"
      ]
    },
    {
      "cell_type": "code",
      "execution_count": null,
      "metadata": {},
      "outputs": [],
      "source": [
        "# Latihan 2\n",
        "# Load the broom package\n",
        "library(broom)\n",
        "\n",
        "# Add another mutate that applies tidy() to each model\n",
        "by_year_country %>%\n",
        "  nest(-country) %>%\n",
        "  mutate(model = map(data, ~ lm(percent_yes ~ year, data = .)),\n",
        "         tidied = map(model, tidy))"
      ]
    },
    {
      "cell_type": "code",
      "execution_count": null,
      "metadata": {},
      "outputs": [],
      "source": [
        "# Latihan 3\n",
        "# Add one more step that unnests the tidied column\n",
        "country_coefficients <- by_year_country %>%\n",
        "  group_by(country) %>%\n",
        "  nest() %>%\n",
        "  mutate(model = map(data, ~ lm(percent_yes ~ year, data = .)),\n",
        "         tidied = map(model, tidy)) %>%\n",
        "  unnest(tidied)\n",
        "\n",
        "# Print the resulting country_coefficients variable\n",
        "country_coefficients"
      ]
    },
    {
      "cell_type": "markdown",
      "metadata": {},
      "source": [
        "Working with many tidy models"
      ]
    },
    {
      "cell_type": "code",
      "execution_count": null,
      "metadata": {},
      "outputs": [],
      "source": [
        "# Latihan 1\n",
        "# Print the country_coefficients dataset\n",
        "country_coefficients\n",
        "\n",
        "# Filter for only the slope terms\n",
        "country_coefficients %>%\n",
        "  filter(term == 'year')"
      ]
    },
    {
      "cell_type": "code",
      "execution_count": null,
      "metadata": {},
      "outputs": [],
      "source": [
        "# Latihan 2\n",
        "# Filter for only the slope terms\n",
        "slope_terms <- country_coefficients %>%\n",
        "  filter(term == \"year\")\n",
        "\n",
        "# Add p.adjusted column, then filter\n",
        "slope_terms %>%\n",
        "  mutate(p.adjusted = p.adjust(p.value)) %>% \n",
        "  data.frame() %>% head()\n",
        "  \n",
        "slope_terms %>%\n",
        "  mutate(p.adjusted = p.adjust(p.value)) %>% \n",
        "  filter(p.adjusted < 0.05)"
      ]
    },
    {
      "cell_type": "code",
      "execution_count": null,
      "metadata": {},
      "outputs": [],
      "source": [
        "# Latihan 3\n",
        "# Filter by adjusted p-values\n",
        "filtered_countries <- country_coefficients %>%\n",
        "  filter(term == \"year\") %>%\n",
        "  mutate(p.adjusted = p.adjust(p.value)) %>%\n",
        "  filter(p.adjusted < .05)\n",
        "\n",
        "# Sort for the countries increasing most quickly\n",
        "filtered_countries %>%\n",
        "  arrange(desc(estimate))\n",
        "\n",
        "# Sort for the countries decreasing most quickly\n",
        "filtered_countries %>%\n",
        "  arrange(estimate)"
      ]
    }
  ],
  "metadata": {
    "kernelspec": {
      "display_name": "Python 3.10.4 64-bit",
      "language": "python",
      "name": "python3"
    },
    "language_info": {
      "codemirror_mode": {
        "name": "python",
        "version": 3
      },
      "file_extension": ".py",
      "mimetype": "text/x-python",
      "name": "python",
      "nbconvert_exporter": "python",
      "pygments_lexer": "ipython3",
      "version": "3.10.4"
    },
    "vscode": {
      "interpreter": {
        "hash": "d3e10ef16274dd72e574b8fa73b58450b957d8421a2901baded3cca26fcf5dda"
      }
    }
  },
  "nbformat": 4,
  "nbformat_minor": 4
}
