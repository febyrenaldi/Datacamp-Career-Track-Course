{
  "cells": [
    {
      "cell_type": "markdown",
      "metadata": {},
      "source": [
        "Joining datasets"
      ]
    },
    {
      "cell_type": "code",
      "execution_count": null,
      "metadata": {},
      "outputs": [],
      "source": [
        "# Latihan 1\n",
        "# Load dplyr package\n",
        "library(dplyr)\n",
        "\n",
        "# Print the votes_processed dataset\n",
        "votes_processed\n",
        "\n",
        "# Print the descriptions dataset\n",
        "descriptions\n",
        "\n",
        "# Join them together based on the \"rcid\" and \"session\" columns\n",
        "votes_joined <- inner_join(votes_processed, descriptions, by = c(\"rcid\", \"session\"))"
      ]
    },
    {
      "cell_type": "code",
      "execution_count": null,
      "metadata": {},
      "outputs": [],
      "source": [
        "# Latihan 2\n",
        "# Filter for votes related to colonialism\n",
        "votes_joined %>% \n",
        "  filter(co == 1)"
      ]
    },
    {
      "cell_type": "code",
      "execution_count": null,
      "metadata": {},
      "outputs": [],
      "source": [
        "# Latihan 3\n",
        "# Load the ggplot2 package\n",
        "library(ggplot2)\n",
        "\n",
        "# Filter, then summarize by year: US_co_by_year\n",
        "US_co_by_year <- votes_joined %>%\n",
        "  filter(\n",
        "    co == 1,\n",
        "    country == \"United States\"\n",
        "    ) %>%\n",
        "  group_by(year) %>%\n",
        "  summarize(percent_yes = mean(vote == 1))\n",
        "\n",
        "# Graph the % of \"yes\" votes over time\n",
        "ggplot(US_co_by_year, aes(x = year, y = percent_yes)) +\n",
        "  geom_line()"
      ]
    },
    {
      "cell_type": "markdown",
      "metadata": {},
      "source": [
        "Tidy data"
      ]
    },
    {
      "cell_type": "code",
      "execution_count": null,
      "metadata": {},
      "outputs": [],
      "source": [
        "# Latihan 1\n",
        "# Load the tidyr package\n",
        "library(tidyr)\n",
        "\n",
        "# Gather the six me/nu/di/hr/co/ec columns\n",
        "votes_joined %>%\n",
        "  gather(topic, has_topic, one_of(\"me\",\"nu\",\"di\",\"hr\",\"co\",\"ec\"))\n",
        "\n",
        "# Perform gather again, then filter\n",
        "votes_gathered <- votes_joined %>%\n",
        "  gather(topic, has_topic, one_of(\"me\",\"nu\",\"di\",\"hr\",\"co\",\"ec\")) %>%\n",
        "  filter(has_topic == 1)"
      ]
    },
    {
      "cell_type": "code",
      "execution_count": null,
      "metadata": {},
      "outputs": [],
      "source": [
        "# Latihan 2\n",
        "# Replace the two-letter codes in topic: votes_tidied\n",
        "votes_tidied <- votes_gathered %>%\n",
        "  mutate(topic = recode(topic,\n",
        "                        me = \"Palestinian conflict\",\n",
        "                        nu = \"Nuclear weapons and nuclear material\",\n",
        "                        di = \"Arms control and disarmament\",\n",
        "                        hr = \"Human rights\",\n",
        "                        co = \"Colonialism\",\n",
        "                        ec = \"Economic development\"))"
      ]
    },
    {
      "cell_type": "code",
      "execution_count": null,
      "metadata": {},
      "outputs": [],
      "source": [
        "# Latihan 3\n",
        "# Print votes_tidied\n",
        "votes_tidied\n",
        "\n",
        "# Summarize the percentage \"yes\" per country-year-topic\n",
        "by_country_year_topic <- votes_tidied %>%\n",
        "  group_by(country, year, topic) %>%\n",
        "  summarize(\n",
        "    total = n(),\n",
        "    percent_yes = mean(vote == 1)\n",
        "    ) %>%\n",
        "  ungroup()\n",
        "\n",
        "# Print by_country_year_topic\n",
        "by_country_year_topic"
      ]
    },
    {
      "cell_type": "code",
      "execution_count": null,
      "metadata": {},
      "outputs": [],
      "source": [
        "# Latihan 4\n",
        "# Load the ggplot2 package\n",
        "library(ggplot2)\n",
        "\n",
        "# Filter by_country_year_topic for just the US\n",
        "US_by_country_year_topic <- by_country_year_topic %>%\n",
        "  filter(country == \"United States\")\n",
        "\n",
        "# Plot % yes over time for the US, faceting by topic\n",
        "ggplot(US_by_country_year_topic, aes(x = year, y = percent_yes)) + \n",
        "  geom_line() +\n",
        "  facet_wrap(~ topic)"
      ]
    },
    {
      "cell_type": "markdown",
      "metadata": {},
      "source": [
        "Tidy modeling by topic and country"
      ]
    },
    {
      "cell_type": "code",
      "execution_count": null,
      "metadata": {},
      "outputs": [],
      "source": [
        "# Latihan 1\n",
        "# Load purrr, tidyr, and broom\n",
        "library(purrr)\n",
        "library(tidyr)\n",
        "library(broom)\n",
        "\n",
        "# Print by_country_year_topic\n",
        "by_country_year_topic\n",
        "\n",
        "# Fit model on the by_country_year_topic dataset\n",
        "country_topic_coefficients <- by_country_year_topic %>%\n",
        "  nest(-country, -topic) %>%\n",
        "  mutate(model = map(data, ~ lm(percent_yes ~ year, data = .)),\n",
        "         tidied = map(model, tidy)) %>%\n",
        "  unnest(tidied)\n",
        "\n",
        "# Print country_topic_coefficients\n",
        "country_topic_coefficients"
      ]
    },
    {
      "cell_type": "code",
      "execution_count": null,
      "metadata": {},
      "outputs": [],
      "source": [
        "# Latihan 2\n",
        "# Create country_topic_filtered\n",
        "country_topic_filtered <- country_topic_coefficients %>%\n",
        "  filter(term == \"year\") %>%\n",
        "  mutate(p.adjusted = p.adjust(p.value)) %>%\n",
        "  filter(p.adjusted < .05)"
      ]
    },
    {
      "cell_type": "code",
      "execution_count": null,
      "metadata": {},
      "outputs": [],
      "source": [
        "# Latihan 3\n",
        "# Create vanuatu_by_country_year_topic\n",
        "vanuatu_by_country_year_topic <- by_country_year_topic %>%\n",
        "  filter(country == \"Vanuatu\")\n",
        "\n",
        "# Plot of percentage \"yes\" over time, faceted by topic\n",
        "ggplot(vanuatu_by_country_year_topic, aes(year, percent_yes)) +\n",
        "  geom_line() +\n",
        "  facet_wrap(~ topic)"
      ]
    }
  ],
  "metadata": {
    "kernelspec": {
      "display_name": "Python 3.10.4 64-bit",
      "language": "python",
      "name": "python3"
    },
    "language_info": {
      "codemirror_mode": {
        "name": "python",
        "version": 3
      },
      "file_extension": ".py",
      "mimetype": "text/x-python",
      "name": "python",
      "nbconvert_exporter": "python",
      "pygments_lexer": "ipython3",
      "version": "3.10.4"
    },
    "vscode": {
      "interpreter": {
        "hash": "d3e10ef16274dd72e574b8fa73b58450b957d8421a2901baded3cca26fcf5dda"
      }
    }
  },
  "nbformat": 4,
  "nbformat_minor": 4
}
