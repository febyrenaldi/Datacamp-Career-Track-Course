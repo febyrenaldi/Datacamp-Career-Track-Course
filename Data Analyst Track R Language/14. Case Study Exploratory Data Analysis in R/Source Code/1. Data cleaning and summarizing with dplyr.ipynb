{
  "cells": [
    {
      "cell_type": "markdown",
      "metadata": {},
      "source": [
        "The United Nations Voting Dataset"
      ]
    },
    {
      "cell_type": "code",
      "execution_count": null,
      "metadata": {},
      "outputs": [],
      "source": [
        "# Latihan 1\n",
        "# Load the dplyr package\n",
        "library(dplyr)\n",
        "\n",
        "# Print the votes dataset\n",
        "votes\n",
        "\n",
        "# Filter for votes that are \"yes\", \"abstain\", or \"no\"\n",
        "votes %>%\n",
        "  filter(vote <= 3)"
      ]
    },
    {
      "cell_type": "code",
      "execution_count": null,
      "metadata": {},
      "outputs": [],
      "source": [
        "# Latihan 2\n",
        "# Add another %>% step to add a year column\n",
        "votes %>%\n",
        "  filter(vote <= 3) %>%\n",
        "  mutate(year = session + 1945)"
      ]
    },
    {
      "cell_type": "code",
      "execution_count": null,
      "metadata": {},
      "outputs": [],
      "source": [
        "# Latihan 3\n",
        "# Load the countrycode package\n",
        "library(countrycode)\n",
        "\n",
        "# Convert country code 100\n",
        "countrycode(100, \"cown\", \"country.name\")\n",
        "\n",
        "# Add a country column within the mutate: votes_processed\n",
        "votes_processed <- votes %>%\n",
        "  filter(vote <= 3) %>%\n",
        "  mutate(\n",
        "    year = session + 1945,\n",
        "    country = countrycode(ccode, \"cown\", \"country.name\"),\n",
        "    country = recode(country, \n",
        "                     'United States of America' =  'United States',\n",
        "                     'United Kingdom of Great Britain and Northern Ireland' = 'United Kingdom')\n",
        "    )"
      ]
    },
    {
      "cell_type": "markdown",
      "metadata": {},
      "source": [
        "Grouping and summarizing"
      ]
    },
    {
      "cell_type": "code",
      "execution_count": null,
      "metadata": {},
      "outputs": [],
      "source": [
        "# Latihan 1\n",
        "# Print votes_processed\n",
        "votes_processed\n",
        "\n",
        "# Find total and fraction of \"yes\" votes\n",
        "votes_processed %>%\n",
        "  summarise(\n",
        "    total = n(),\n",
        "    percent_yes = mean(vote == 1)\n",
        "    )"
      ]
    },
    {
      "cell_type": "code",
      "execution_count": null,
      "metadata": {},
      "outputs": [],
      "source": [
        "# Latihan 2\n",
        "# Change this code to summarize by year\n",
        "votes_processed %>%\n",
        "  group_by(year) %>%\n",
        "  summarize(total = n(),\n",
        "            percent_yes = mean(vote == 1))"
      ]
    },
    {
      "cell_type": "code",
      "execution_count": null,
      "metadata": {},
      "outputs": [],
      "source": [
        "# Latihan 3\n",
        "# Summarize by country: by_country\n",
        "by_country <- votes_processed %>%\n",
        "  group_by(country) %>%\n",
        "  summarize(total = n(),\n",
        "            percent_yes = mean(vote == 1))"
      ]
    },
    {
      "cell_type": "markdown",
      "metadata": {},
      "source": [
        "Sorting and filtering summarized data"
      ]
    },
    {
      "cell_type": "code",
      "execution_count": null,
      "metadata": {},
      "outputs": [],
      "source": [
        "# Latihan 1\n",
        "# You have the votes summarized by country\n",
        "by_country <- votes_processed %>%\n",
        "  group_by(country) %>%\n",
        "  summarize(total = n(),\n",
        "            percent_yes = mean(vote == 1))\n",
        "\n",
        "# Print the by_country dataset\n",
        "by_country\n",
        "\n",
        "# Sort in ascending order of percent_yes\n",
        "by_country %>%\n",
        "  arrange(percent_yes)\n",
        "\n",
        "# Now sort in descending order\n",
        "by_country %>%\n",
        "  arrange(desc(percent_yes))"
      ]
    },
    {
      "cell_type": "code",
      "execution_count": null,
      "metadata": {},
      "outputs": [],
      "source": [
        "# Latihan 2\n",
        "# Filter out countries with fewer than 100 votes\n",
        "by_country %>%\n",
        "  arrange(percent_yes) %>%\n",
        "  filter(total >= 100)"
      ]
    }
  ],
  "metadata": {
    "kernelspec": {
      "display_name": "Python 3.10.4 64-bit",
      "language": "python",
      "name": "python3"
    },
    "language_info": {
      "codemirror_mode": {
        "name": "python",
        "version": 3
      },
      "file_extension": ".py",
      "mimetype": "text/x-python",
      "name": "python",
      "nbconvert_exporter": "python",
      "pygments_lexer": "ipython3",
      "version": "3.10.4"
    },
    "vscode": {
      "interpreter": {
        "hash": "d3e10ef16274dd72e574b8fa73b58450b957d8421a2901baded3cca26fcf5dda"
      }
    }
  },
  "nbformat": 4,
  "nbformat_minor": 4
}
