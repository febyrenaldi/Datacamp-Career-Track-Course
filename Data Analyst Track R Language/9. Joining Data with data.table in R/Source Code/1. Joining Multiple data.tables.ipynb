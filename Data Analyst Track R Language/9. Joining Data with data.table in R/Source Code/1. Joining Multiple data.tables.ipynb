{
  "cells": [
    {
      "cell_type": "markdown",
      "id": "8b87d9be-262f-4902-86ea-a4931e5d32c8",
      "metadata": {},
      "source": [
        "Welcome to the course!"
      ]
    },
    {
      "cell_type": "code",
      "execution_count": null,
      "id": "48319c0c-8230-4101-87e8-0b1ee7046b07",
      "metadata": {},
      "outputs": [],
      "source": [
        "#Latihan 1\n",
        "# What data.tables are in my R session?\n",
        "tables()\n",
        "\n",
        "# View the first six rows \n",
        "head(netflix)\n",
        "head(imdb)\n",
        "\n",
        "# Print the structure\n",
        "str(netflix)\n",
        "str(imdb)"
      ]
    },
    {
      "cell_type": "markdown",
      "id": "0d2309ff-3e4f-4887-a4cf-9468b57dda63",
      "metadata": {},
      "source": [
        "The merge function"
      ]
    },
    {
      "cell_type": "code",
      "execution_count": null,
      "id": "813a31fe-6df2-433c-8f8c-04e576ab31dc",
      "metadata": {},
      "outputs": [],
      "source": [
        "#Latihan 1\n",
        "# Print the data.tables in your R session\n",
        "netflix\n",
        "imdb"
      ]
    },
    {
      "cell_type": "code",
      "execution_count": null,
      "id": "2bf26b96-5a9e-4630-aa38-109bccfc8235",
      "metadata": {},
      "outputs": [],
      "source": [
        "# Inner join netflix and imdb\n",
        "merge(netflix, imdb, by = \"title\")"
      ]
    },
    {
      "cell_type": "code",
      "execution_count": null,
      "id": "f2dfbf05-713c-495f-8b0f-4f9bd539cd3b",
      "metadata": {},
      "outputs": [],
      "source": [
        "#Latihan 2\n",
        "# Full join netflix and imdb\n",
        "merge(netflix, imdb, by = \"title\", all = TRUE)"
      ]
    },
    {
      "cell_type": "code",
      "execution_count": null,
      "id": "f38f1e02-5541-4024-9709-46bc35f44fc6",
      "metadata": {},
      "outputs": [],
      "source": [
        "# Full join imdb and netflix\n",
        "merge(imdb, netflix, by = \"title\", all = TRUE)"
      ]
    },
    {
      "cell_type": "markdown",
      "id": "aba19c66-25c1-460e-b2a4-01261b529985",
      "metadata": {},
      "source": [
        "Left and right joins"
      ]
    },
    {
      "cell_type": "code",
      "execution_count": null,
      "id": "a4efaf88-b36a-4a78-9741-d35d651908cc",
      "metadata": {},
      "outputs": [],
      "source": [
        "#Latihan 1\n",
        "# Left join imdb to netflix\n",
        "merge(netflix, imdb, by = \"title\", all.x = TRUE)"
      ]
    },
    {
      "cell_type": "code",
      "execution_count": null,
      "id": "1ae5830c-b42b-43fb-844b-b615f47cf573",
      "metadata": {},
      "outputs": [],
      "source": [
        "#Latihan 2\n",
        "# Right join imdb to netflix\n",
        "merge(netflix, imdb, by = \"title\", all.y = TRUE)"
      ]
    },
    {
      "cell_type": "code",
      "execution_count": null,
      "id": "4088c16f-d9c4-4e6d-a3e4-c8d0cd1849cf",
      "metadata": {},
      "outputs": [],
      "source": [
        "# Compare to a left join of netflix to imdb\n",
        "merge(imdb, netflix, by = \"title\", all.x = TRUE)"
      ]
    },
    {
      "cell_type": "code",
      "execution_count": null,
      "id": "412e01fa-8219-4fec-ae12-9124164bd7cd",
      "metadata": {},
      "outputs": [],
      "source": [
        "#Latihan 3\n",
        "# Identify the key for joining capitals and population\n",
        "capitals_population_key <- \"city\"\n",
        "\n",
        "# Left join population to capitals\n",
        "capital_pop <- merge(capitals, population, by = capitals_population_key, all.x = TRUE)\n",
        "capital_pop"
      ]
    },
    {
      "cell_type": "code",
      "execution_count": null,
      "id": "38f6d41c-82e0-4901-86d4-0d38432459f9",
      "metadata": {},
      "outputs": [],
      "source": [
        "# Identify the key for joining capital_pop and area\n",
        "capital_pop_area_key <- \"state\"\n",
        "\n",
        "# Inner join area to capital pop\n",
        "australia_stats <- merge(capital_pop, area, by = capital_pop_area_key)\n",
        "\n",
        "# Print the final result\n",
        "australia_stats"
      ]
    }
  ],
  "metadata": {
    "kernelspec": {
      "display_name": "Pyolite",
      "language": "python",
      "name": "python"
    },
    "language_info": {
      "codemirror_mode": {
        "name": "python",
        "version": 3
      },
      "file_extension": ".py",
      "mimetype": "text/x-python",
      "name": "python",
      "nbconvert_exporter": "python",
      "pygments_lexer": "ipython3",
      "version": "3.8"
    }
  },
  "nbformat": 4,
  "nbformat_minor": 5
}
