{
  "cells": [
    {
      "cell_type": "markdown",
      "id": "c525533e-4939-4266-8e7e-6562d57f9584",
      "metadata": {},
      "source": [
        "Concatenating two or more data.tables"
      ]
    },
    {
      "cell_type": "code",
      "execution_count": null,
      "id": "ef66cd13-b6b1-4d5f-b231-786dd9e4da44",
      "metadata": {},
      "outputs": [],
      "source": [
        "#Latihan 1\n",
        "# Concatenate case numbers from weeks 50 and 51\n",
        "rbind(ebola_W50, ebola_W51)"
      ]
    },
    {
      "cell_type": "code",
      "execution_count": null,
      "id": "744c49a5-9e47-4077-9bfb-b35dd8b4b4a2",
      "metadata": {},
      "outputs": [],
      "source": [
        "# Concatenate case numbers from all three weeks\n",
        "rbind(ebola_W50, ebola_W51, ebola_W52)"
      ]
    },
    {
      "cell_type": "code",
      "execution_count": null,
      "id": "df31ce26-8ca7-47dc-b74e-dc247eca6f14",
      "metadata": {},
      "outputs": [],
      "source": [
        "# Modify the code\n",
        "rbind(ebola_W50, ebola_W51, ebola_W52, fill = TRUE)"
      ]
    },
    {
      "cell_type": "code",
      "execution_count": null,
      "id": "fd7dda78-886d-4632-a772-f7e5af48d57d",
      "metadata": {},
      "outputs": [],
      "source": [
        "#Latihan 2\n",
        "# Concatenate its data.tables\n",
        "gdp_all_1 <- rbindlist(gdp)"
      ]
    },
    {
      "cell_type": "code",
      "execution_count": null,
      "id": "71c965a3-4b2d-445d-a404-f61274469e1a",
      "metadata": {},
      "outputs": [],
      "source": [
        "# Concatenate its data.tables\n",
        "gdp_all_2 <- rbindlist(gdp, idcol = \"continent\")"
      ]
    },
    {
      "cell_type": "code",
      "execution_count": null,
      "id": "b3399dc3-7f77-4127-adc6-e4671b44516e",
      "metadata": {},
      "outputs": [],
      "source": [
        "# Run this code to inspect gdp_all_2\n",
        "gdp_all_2 <- rbindlist(gdp, idcol = \"continent\")\n",
        "str(gdp_all_2)\n",
        "gdp_all_2[95:105]\n",
        "\n",
        "# Fix the problem\n",
        "gdp_all_3 <- rbindlist(gdp, idcol = \"continent\", use.names = TRUE)\n",
        "gdp_all_3"
      ]
    },
    {
      "cell_type": "markdown",
      "id": "b4f96106-7c21-479a-9e54-c57715439569",
      "metadata": {},
      "source": [
        "Set operations"
      ]
    },
    {
      "cell_type": "code",
      "execution_count": null,
      "id": "20d6e451-5d0c-4708-a359-4ea7bc1aabd9",
      "metadata": {},
      "outputs": [],
      "source": [
        "#Latihan 1\n",
        "# Obtain countries in both Asia and Europe\n",
        "fintersect(gdp$asia, gdp$europe)\n",
        "\n",
        "# Concatenate all data tables\n",
        "gdp_all <- rbindlist(gdp)\n",
        "\n",
        "# Find all countries that span multiple continents\n",
        "gdp_all[duplicated(gdp_all)]"
      ]
    },
    {
      "cell_type": "code",
      "execution_count": null,
      "id": "11c78a43-1c2a-44cb-9e44-4fb7e10ebaad",
      "metadata": {},
      "outputs": [],
      "source": [
        "#Latihan 2\n",
        "# Get all countries in either Asia or Europe\n",
        "funion(gdp$asia, gdp$europe)\n",
        "\n",
        "# Concatenate all data tables\n",
        "gdp_all <- rbindlist(gdp)\n",
        "\n",
        "# Print all unique countries\n",
        "unique(gdp_all)"
      ]
    },
    {
      "cell_type": "code",
      "execution_count": null,
      "id": "82df0b74-3527-48ad-8ce6-5b196c9d406d",
      "metadata": {},
      "outputs": [],
      "source": [
        "#Latihan 3\n",
        "# Which countries are in Africa but not considered part of the middle east?\n",
        "fsetdiff(gdp$africa, middle_east)\n",
        "\n",
        "# Which countries are in Asia but not considered part of the middle east?\n",
        "fsetdiff(gdp$asia, middle_east)\n",
        "\n",
        "# Which countries are in Europe but not considered part of the middle east?\n",
        "fsetdiff(gdp$europe, middle_east)"
      ]
    },
    {
      "cell_type": "markdown",
      "id": "a69b431a-8d72-4ddd-a42a-9ab67f1e2c3c",
      "metadata": {},
      "source": [
        "Melting data.tables"
      ]
    },
    {
      "cell_type": "code",
      "execution_count": null,
      "id": "3f59f8dc-b30e-4907-9fea-ad43cd4524ad",
      "metadata": {},
      "outputs": [],
      "source": [
        "#Latihan 1\n",
        "# Print gdp_per_capita\n",
        "gdp_per_capita\n",
        "\n",
        "# Reshape gdp_per_capita to the long format\n",
        "melt(gdp_per_capita, id.vars = \"year\")"
      ]
    },
    {
      "cell_type": "code",
      "execution_count": null,
      "id": "6d4c096a-e770-43c0-b1d1-8fe19a57d753",
      "metadata": {},
      "outputs": [],
      "source": [
        "# Rename the new columns\n",
        "melt(gdp_per_capita, id.vars = \"year\", \n",
        "     variable.name = \"country\", value.name = \"gdp_pc\")"
      ]
    },
    {
      "cell_type": "code",
      "execution_count": null,
      "id": "01a37a68-d97d-4726-9daa-c560aebea45d",
      "metadata": {},
      "outputs": [],
      "source": [
        "#Latihan 2\n",
        "# Print ebola_wide\n",
        "ebola_wide\n",
        "\n",
        "# Stack Week_50 and Week_51\n",
        "melt(ebola_wide, measure.vars = c(\"Week_50\", \"Week_51\"), \n",
        "     variable.name = \"period\", value.name = \"cases\")"
      ]
    },
    {
      "cell_type": "code",
      "execution_count": null,
      "id": "0b0630b2",
      "metadata": {},
      "outputs": [],
      "source": [
        "# Modify the code\n",
        "melt(ebola_wide, measure.vars = c(\"Week_50\", \"Week_51\"), \n",
        "     variable.name = \"period\", value.name = \"cases\", \n",
        "     id.vars = \"Location\")"
      ]
    },
    {
      "cell_type": "markdown",
      "id": "539ccaf0-f5af-490f-8dda-e1d1a1df874c",
      "metadata": {},
      "source": [
        "Casting data.tables"
      ]
    },
    {
      "cell_type": "code",
      "execution_count": null,
      "id": "9b808897-6fd2-4a72-9876-f43aa97758f4",
      "metadata": {},
      "outputs": [],
      "source": [
        "#Latihan 1\n",
        "# Split the population column by year\n",
        "dcast(gdp_oceania, formula = country ~ year, value.var = \"population\")"
      ]
    },
    {
      "cell_type": "code",
      "execution_count": null,
      "id": "e26f96ef-2d8c-4b29-8faa-65d6d7a09a9e",
      "metadata": {},
      "outputs": [],
      "source": [
        "# Split the gdp column by country\n",
        "dcast(gdp_oceania, formula = year ~ country, value.var = \"gdp\")"
      ]
    },
    {
      "cell_type": "code",
      "execution_count": null,
      "id": "4a493440-dbed-451f-ba5d-24f65b23f812",
      "metadata": {},
      "outputs": [],
      "source": [
        "#Latihan 2\n",
        "# Split the gdp and population columns by year\n",
        "dcast(gdp_oceania, formula = country ~ year, value.var = c(\"gdp\", \"population\"))"
      ]
    },
    {
      "cell_type": "code",
      "execution_count": null,
      "id": "aefc5fb8-378a-49b4-8b08-5eb55db47068",
      "metadata": {},
      "outputs": [],
      "source": [
        "# Reshape from wide to long format\n",
        "wide <- dcast(gdp_oceania, formula = country ~ year, value.var = c(\"gdp\", \"population\"))\n",
        "\n",
        "# convert to a matrix\n",
        "as.matrix(wide, rownames = \"country\")"
      ]
    },
    {
      "cell_type": "code",
      "execution_count": null,
      "id": "31ae4450",
      "metadata": {},
      "outputs": [],
      "source": [
        "# Modify your previous code\n",
        "dcast(gdp_oceania, formula = country + continent ~ year, value.var = c(\"gdp\", \"population\"))"
      ]
    },
    {
      "cell_type": "code",
      "execution_count": null,
      "id": "7c21ba89-d55a-4053-9ef1-cab9c7511816",
      "metadata": {},
      "outputs": [],
      "source": [
        "#Latihan 3\n",
        "# Split gdp by industry and year\n",
        "dcast(gdp_by_industry_oceania, country ~ industry + year, value.var = \"gdp\")"
      ]
    }
  ],
  "metadata": {
    "kernelspec": {
      "display_name": "Pyolite",
      "language": "python",
      "name": "python"
    },
    "language_info": {
      "codemirror_mode": {
        "name": "python",
        "version": 3
      },
      "file_extension": ".py",
      "mimetype": "text/x-python",
      "name": "python",
      "nbconvert_exporter": "python",
      "pygments_lexer": "ipython3",
      "version": "3.8"
    }
  },
  "nbformat": 4,
  "nbformat_minor": 5
}
