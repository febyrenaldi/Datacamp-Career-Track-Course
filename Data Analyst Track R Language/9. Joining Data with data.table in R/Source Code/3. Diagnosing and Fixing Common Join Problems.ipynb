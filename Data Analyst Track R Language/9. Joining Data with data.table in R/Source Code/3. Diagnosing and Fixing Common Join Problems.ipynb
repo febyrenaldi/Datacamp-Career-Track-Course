{
  "cells": [
    {
      "cell_type": "markdown",
      "id": "6b9d6dbc-957a-4cd3-94f9-b849d6ce36d3",
      "metadata": {},
      "source": [
        "Complex keys"
      ]
    },
    {
      "cell_type": "code",
      "execution_count": null,
      "id": "28b41bdb-f066-4e98-aa90-1ea66b673e0e",
      "metadata": {},
      "outputs": [],
      "source": [
        "#Latihan 1\n",
        "# Full join\n",
        "merge(students, guardians, by = \"name\", all = TRUE)"
      ]
    },
    {
      "cell_type": "code",
      "execution_count": null,
      "id": "5ff8819a-8675-4a93-9806-9b3718199491",
      "metadata": {},
      "outputs": [],
      "source": [
        "# Left join\n",
        "merge(students, guardians, by = \"name\", all.x = TRUE)"
      ]
    },
    {
      "cell_type": "code",
      "execution_count": null,
      "id": "837b1ff9-4be9-41cb-bf74-a5dc7389f0d2",
      "metadata": {},
      "outputs": [],
      "source": [
        "# Inner join\n",
        "students[guardians, on = .(name), nomatch = 0]"
      ]
    },
    {
      "cell_type": "code",
      "execution_count": null,
      "id": "2d92b323-4f50-490a-ad99-12e31d08894f",
      "metadata": {},
      "outputs": [],
      "source": [
        "# What are the correct join key columns?\n",
        "students[guardians, on = .(guardian = name), nomatch = 0]"
      ]
    },
    {
      "cell_type": "code",
      "execution_count": null,
      "id": "3becaba9-588a-46c2-878d-1b374469cde0",
      "metadata": {},
      "outputs": [],
      "source": [
        "#Latihan 2\n",
        "# Right join\n",
        "subjects[locations, on = .(subject, semester)]"
      ]
    },
    {
      "cell_type": "code",
      "execution_count": null,
      "id": "f2134cc4-bf6b-481c-b4d0-8d9e78e9811c",
      "metadata": {},
      "outputs": [],
      "source": [
        "# Structure \n",
        "str(subjects)\n",
        "str(locations)\n",
        "\n",
        "# Does semester have the same class? \n",
        "same_class <- FALSE"
      ]
    },
    {
      "cell_type": "code",
      "execution_count": null,
      "id": "8b861c3a-5806-48a8-b61f-d7072bb91916",
      "metadata": {},
      "outputs": [],
      "source": [
        "# Fix the column class\n",
        "locations[, semester := as.integer(semester)]\n",
        "\n",
        "# Right join\n",
        "subjects[locations, on = .(subject, semester)]"
      ]
    },
    {
      "cell_type": "code",
      "execution_count": null,
      "id": "10a7e0be-a31d-46ea-9802-e72ec4e1ba5f",
      "metadata": {},
      "outputs": [],
      "source": [
        "#Latihan 3\n",
        "# Identify and set the keys\n",
        "join_key <- c(\"topic\" = \"subject\")\n",
        "\n",
        "# Right join\n",
        "teachers[locations, on = join_key]"
      ]
    },
    {
      "cell_type": "markdown",
      "id": "53d8b79b-9bb0-4dae-98d5-92a1b5789d2d",
      "metadata": {},
      "source": [
        "Tricky columns"
      ]
    },
    {
      "cell_type": "code",
      "execution_count": null,
      "id": "e2dee448-c273-4459-ba07-3c8497cdf4f3",
      "metadata": {},
      "outputs": [],
      "source": [
        "#Latihan 1\n",
        "# Inner join\n",
        "capital_pop <- merge(capitals, population, by = \"city\")\n",
        "\n",
        "# Left join\n",
        "merge(capital_pop, area, by = \"state\", all.x = TRUE)"
      ]
    },
    {
      "cell_type": "code",
      "execution_count": null,
      "id": "93ce0e4a-1f91-4b2b-b975-aca738dc8dc7",
      "metadata": {},
      "outputs": [],
      "source": [
        "# Inner join from step 1\n",
        "capital_pop <- merge(capitals, population, by = \"city\")\n",
        "\n",
        "# Left join with suffixes\n",
        "merge(capital_pop, area, by = \"state\", all.x = TRUE, suffixes = c(\".pop\", \".area\"))"
      ]
    },
    {
      "cell_type": "code",
      "execution_count": null,
      "id": "5f80461e-4d57-49d7-8b0d-dedcb3aa4737",
      "metadata": {},
      "outputs": [],
      "source": [
        "#Latihan 2\n",
        "# Convert netflix to a data.table\n",
        "netflix_dt <- as.data.table(netflix, keep.rownames = \"series\")\n",
        "\n",
        "# Right join\n",
        "imdb[netflix_dt, on = .(title = series)]"
      ]
    },
    {
      "cell_type": "markdown",
      "id": "39ede13a-308f-46ba-b542-73286cc8de65",
      "metadata": {},
      "source": [
        "Duplicate matches"
      ]
    },
    {
      "cell_type": "code",
      "execution_count": null,
      "id": "c5df451b-4136-45a2-8471-44658bff6f56",
      "metadata": {},
      "outputs": [],
      "source": [
        "#Latihan 1\n",
        "# Try an inner join\n",
        "merge(heart, cardio, by = \"gene\", allow.cartesian = TRUE)\n",
        "\n",
        "# Filter missing values\n",
        "heart_2 <- heart[!is.na(gene)]\n",
        "cardio_2 <- cardio[!is.na(gene)]\n",
        "\n",
        "# Inner join the filtered data.tables\n",
        "merge(heart_2, cardio_2, by = \"gene\")"
      ]
    },
    {
      "cell_type": "code",
      "execution_count": null,
      "id": "050be8aa-c5ff-4740-8516-906d31aff5d2",
      "metadata": {},
      "outputs": [],
      "source": [
        "#Latihan 2\n",
        "# Keep only the last probe for each gene\n",
        "heart_3 <- unique(heart_2, by = \"gene\", fromLast = TRUE)\n",
        "cardio_3 <- unique(cardio_2, by = \"gene\", fromLast = TRUE)\n",
        "\n",
        "# Inner join\n",
        "reproducible <- merge(heart_3, cardio_3, by = \"gene\", suffixes = c(\".heart\", \".cardio\"))\n",
        "reproducible"
      ]
    },
    {
      "cell_type": "code",
      "execution_count": null,
      "id": "e2fd2829-a80d-47d2-ae94-31bbc022b0af",
      "metadata": {},
      "outputs": [],
      "source": [
        "#Latihan 3\n",
        "# Right join taking the first match\n",
        "heart_2[framingham, on = .(gene), mult = \"first\"]\n",
        "\n",
        "# Anti-join\n",
        "reproducible[!framingham, on = .(gene)]"
      ]
    }
  ],
  "metadata": {
    "kernelspec": {
      "display_name": "Pyolite",
      "language": "python",
      "name": "python"
    },
    "language_info": {
      "codemirror_mode": {
        "name": "python",
        "version": 3
      },
      "file_extension": ".py",
      "mimetype": "text/x-python",
      "name": "python",
      "nbconvert_exporter": "python",
      "pygments_lexer": "ipython3",
      "version": "3.8"
    }
  },
  "nbformat": 4,
  "nbformat_minor": 5
}
