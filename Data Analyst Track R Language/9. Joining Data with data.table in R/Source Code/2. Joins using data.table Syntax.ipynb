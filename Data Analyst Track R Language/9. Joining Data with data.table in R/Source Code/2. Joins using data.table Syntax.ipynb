{
  "cells": [
    {
      "cell_type": "markdown",
      "id": "38a3b9f1-c747-4531-b4ea-18e54ea54d8d",
      "metadata": {},
      "source": [
        "Joins using data.table syntax"
      ]
    },
    {
      "cell_type": "code",
      "execution_count": null,
      "id": "d1262bdc-d72c-4cb2-bc9c-fac792b6d1fc",
      "metadata": {},
      "outputs": [],
      "source": [
        "#Latihan 1\n",
        "# Right join population to capitals using data.table syntax\n",
        "capitals[population, on = .(city)]"
      ]
    },
    {
      "cell_type": "code",
      "execution_count": null,
      "id": "6a54ee79-746a-46d3-91b7-0b6c870d75be",
      "metadata": {},
      "outputs": [],
      "source": [
        "# Right join using merge\n",
        "merge(capitals, population, by = \"city\", all.y = TRUE)"
      ]
    },
    {
      "cell_type": "code",
      "execution_count": null,
      "id": "f13b7c4c-d084-4f29-925f-d0e31a693e81",
      "metadata": {},
      "outputs": [],
      "source": [
        "#Latihan 2\n",
        "# Inner join with the data.table syntax\n",
        "capitals[population, on = .(city), nomatch = 0]"
      ]
    },
    {
      "cell_type": "code",
      "execution_count": null,
      "id": "07b3fa9d-0cf6-4b7c-b0f5-bbceb00fc654",
      "metadata": {},
      "outputs": [],
      "source": [
        "#Latihan 3\n",
        "# Anti-join capitals to population\n",
        "population[!capitals, on = .(city)]"
      ]
    },
    {
      "cell_type": "code",
      "execution_count": null,
      "id": "9c085a82",
      "metadata": {},
      "outputs": [],
      "source": [
        "# Anti-join capitals to area\n",
        "area[!capitals, on = .(state)]"
      ]
    },
    {
      "cell_type": "markdown",
      "id": "a9f06f29-3187-45fe-a226-f289724a1f7c",
      "metadata": {},
      "source": [
        "Setting and viewing data.table keys"
      ]
    },
    {
      "cell_type": "code",
      "execution_count": null,
      "id": "af836042-50a1-4224-a867-53b2969b6748",
      "metadata": {},
      "outputs": [],
      "source": [
        "#Latihan 1\n",
        "# Set the keys\n",
        "setkey(netflix, \"title\")\n",
        "setkey(imdb, \"title\")\n",
        "\n",
        "# Inner join\n",
        "netflix[imdb, nomatch = 0]"
      ]
    },
    {
      "cell_type": "code",
      "execution_count": null,
      "id": "a7bd4f16-0208-44c9-ab10-f3262ba988a5",
      "metadata": {},
      "outputs": [],
      "source": [
        "#Latihan 2\n",
        "# Check for keys\n",
        "haskey(netflix)\n",
        "haskey(imdb)\n",
        "\n",
        "# Find the key\n",
        "the_key <- key(netflix)\n",
        "\n",
        "# Set the key for the other data.table\n",
        "setkeyv(imdb, the_key)"
      ]
    },
    {
      "cell_type": "markdown",
      "id": "cc144c90-0c0f-4a50-969d-45ad5b05851f",
      "metadata": {},
      "source": [
        "Incorporating joins into your data.table workflow"
      ]
    },
    {
      "cell_type": "code",
      "execution_count": null,
      "id": "e43d247f-1049-47d1-b7ae-2d32b8c5071a",
      "metadata": {},
      "outputs": [],
      "source": [
        "#Latihan 1\n",
        "# Inner join capitals to population\n",
        "population[capitals, on = .(city), nomatch = 0]"
      ]
    },
    {
      "cell_type": "code",
      "execution_count": null,
      "id": "d660a210-9b0e-461b-a286-11e6ba30c06f",
      "metadata": {},
      "outputs": [],
      "source": [
        "# Join and sum\n",
        "population[capitals, on = .(city), nomatch = 0,\n",
        "           j = sum(percentage)]"
      ]
    },
    {
      "cell_type": "code",
      "execution_count": null,
      "id": "2761f533-0c4e-409c-80a8-90b5d53dffb3",
      "metadata": {},
      "outputs": [],
      "source": [
        "#Latihan 2\n",
        "# How many continents is each country listed in?\n",
        "continents[life_exp, on = .(country), .N, \n",
        "           by = .EACHI]"
      ]
    },
    {
      "cell_type": "code",
      "execution_count": null,
      "id": "65f26aaf-de73-4dbb-9971-2732999b3cfc",
      "metadata": {},
      "outputs": [],
      "source": [
        "# What countries are listed in multiple continents?\n",
        "continents[life_exp, on = .(country), .N, \n",
        "           by = .EACHI][N > 1]"
      ]
    },
    {
      "cell_type": "code",
      "execution_count": null,
      "id": "3bca71b3-47e6-44be-abfc-82cac6dbf120",
      "metadata": {},
      "outputs": [],
      "source": [
        "#Latihan 3\n",
        "# Calculate average life expectancy per continent:\n",
        "avg_life_expectancy <- continents[life_exp, on = .(country), \n",
        "                                  nomatch = 0][, j = mean(years), \n",
        "                                               by = .(continent)]\n",
        "avg_life_expectancy"
      ]
    }
  ],
  "metadata": {
    "kernelspec": {
      "display_name": "Pyolite",
      "language": "python",
      "name": "python"
    },
    "language_info": {
      "codemirror_mode": {
        "name": "python",
        "version": 3
      },
      "file_extension": ".py",
      "mimetype": "text/x-python",
      "name": "python",
      "nbconvert_exporter": "python",
      "pygments_lexer": "ipython3",
      "version": "3.8"
    }
  },
  "nbformat": 4,
  "nbformat_minor": 5
}
