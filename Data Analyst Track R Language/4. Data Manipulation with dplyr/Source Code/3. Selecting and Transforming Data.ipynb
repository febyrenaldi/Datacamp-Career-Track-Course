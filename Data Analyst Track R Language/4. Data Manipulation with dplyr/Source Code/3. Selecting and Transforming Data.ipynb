{
  "cells": [
    {
      "cell_type": "markdown",
      "id": "9ab7c979-e22f-488f-8128-434366ed35cf",
      "metadata": {},
      "source": [
        "Selecting"
      ]
    },
    {
      "cell_type": "code",
      "execution_count": null,
      "id": "2d64f11e-e3bb-4308-90e7-d6af7d8be553",
      "metadata": {},
      "outputs": [],
      "source": [
        "#Latihan 1\n",
        "# Glimpse the counties table\n",
        "glimpse(counties)\n",
        "\n",
        "counties %>%\n",
        "  # Select state, county, population, and industry-related columns\n",
        "  select(state, county, population, professional:production) %>%\n",
        "  # Arrange service in descending order \n",
        "  arrange(desc(service))"
      ]
    },
    {
      "cell_type": "code",
      "execution_count": null,
      "id": "18bfabda",
      "metadata": {},
      "outputs": [],
      "source": [
        "#Latihan 2\n",
        "counties %>%\n",
        "  # Select the state, county, population, and those ending with \"work\"\n",
        "  select(state, county, population, ends_with(\"work\")) %>%\n",
        "  # Filter for counties that have at least 50% of people engaged in public work\n",
        "  filter(public_work >= 50)"
      ]
    },
    {
      "cell_type": "markdown",
      "id": "43e0e23c-0816-42ab-866c-d3efb3f05582",
      "metadata": {},
      "source": [
        "The rename verb"
      ]
    },
    {
      "cell_type": "code",
      "execution_count": null,
      "id": "2f7fa769-9e6e-4d78-be3b-87683dffe9df",
      "metadata": {},
      "outputs": [],
      "source": [
        "#Latihan 1\n",
        "counties %>%\n",
        "  # Count the number of counties in each state\n",
        "  count(state) "
      ]
    },
    {
      "cell_type": "code",
      "execution_count": null,
      "id": "ac473a3e",
      "metadata": {},
      "outputs": [],
      "source": [
        "counties %>%\n",
        "  # Count the number of counties in each state\n",
        "  count(state) %>%\n",
        "  # Rename the n column to num_counties\n",
        "  rename(num_counties = n)"
      ]
    },
    {
      "cell_type": "code",
      "execution_count": null,
      "id": "77a50bf6-454b-41b0-b5e9-5268d96691f3",
      "metadata": {},
      "outputs": [],
      "source": [
        "#Latihan 2\n",
        "counties %>%\n",
        "  # Select state, county, and poverty as poverty_rate\n",
        "  select(state, county, poverty_rate = poverty)"
      ]
    },
    {
      "cell_type": "code",
      "execution_count": null,
      "id": "fe735e68",
      "metadata": {},
      "outputs": [],
      "source": [
        "counties_selected <- counties %>%\n",
        "  select(state, county, population)\n",
        "\n",
        "counties_selected %>%\n",
        "  # Filter for counties with a population above 1000000\n",
        "  filter(state == \"California\", population > 1000000)"
      ]
    },
    {
      "cell_type": "markdown",
      "id": "3115bc8a",
      "metadata": {},
      "source": [
        "The transmute verb"
      ]
    },
    {
      "cell_type": "code",
      "execution_count": null,
      "id": "70349f5f-c718-4957-92f6-745af5680239",
      "metadata": {},
      "outputs": [],
      "source": [
        "#Latihan 1\n",
        "counties %>%\n",
        "  # Keep the state, county, and populations columns, and add a density column\n",
        "  transmute(state, county, population, density = population / land_area) %>%\n",
        "  # Filter for counties with a population greater than one million \n",
        "  filter(population > 1000000) %>%\n",
        "  # Sort density in ascending order \n",
        "  arrange(density)"
      ]
    },
    {
      "cell_type": "code",
      "execution_count": null,
      "id": "635ba2fb",
      "metadata": {},
      "outputs": [],
      "source": [
        "#Latihan 2\n",
        "# Change the name of the unemployment column\n",
        "counties %>%\n",
        "  rename(unemployment_rate = unemployment)\n",
        "\n",
        "# Keep the state and county columns, and the columns containing poverty\n",
        "counties %>%\n",
        "  select(state, county, contains(\"poverty\"))\n",
        "\n",
        "# Calculate the fraction_women column without dropping the other columns\n",
        "counties %>%\n",
        "  mutate(fraction_women = women / population)\n",
        "\n",
        "# Keep only the state, county, and employment_rate columns\n",
        "counties %>%\n",
        "  transmute(state, county, employment_rate = employed / population)"
      ]
    }
  ],
  "metadata": {
    "kernelspec": {
      "display_name": "Pyolite",
      "language": "python",
      "name": "python"
    },
    "language_info": {
      "codemirror_mode": {
        "name": "python",
        "version": 3
      },
      "file_extension": ".py",
      "mimetype": "text/x-python",
      "name": "python",
      "nbconvert_exporter": "python",
      "pygments_lexer": "ipython3",
      "version": "3.8"
    }
  },
  "nbformat": 4,
  "nbformat_minor": 5
}
