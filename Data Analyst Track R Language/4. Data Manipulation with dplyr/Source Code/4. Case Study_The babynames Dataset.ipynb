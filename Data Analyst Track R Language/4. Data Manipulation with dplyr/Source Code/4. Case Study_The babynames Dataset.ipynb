{
  "cells": [
    {
      "cell_type": "markdown",
      "id": "9ab7c979-e22f-488f-8128-434366ed35cf",
      "metadata": {},
      "source": [
        "The Babynames Data"
      ]
    },
    {
      "cell_type": "code",
      "execution_count": null,
      "id": "2d64f11e-e3bb-4308-90e7-d6af7d8be553",
      "metadata": {},
      "outputs": [],
      "source": [
        "#Latihan 1\n",
        "babynames %>%\n",
        "  # Filter for the year 1990\n",
        "  filter(year == 1990) %>%\n",
        "  # Sort the number column in descending order \n",
        "  arrange(desc(number))"
      ]
    },
    {
      "cell_type": "code",
      "execution_count": null,
      "id": "2ed22966",
      "metadata": {},
      "outputs": [],
      "source": [
        "#Latihan 2\n",
        "babynames %>%\n",
        "  # Find the most common name in each year\n",
        "  group_by(year) %>%\n",
        "  top_n(1, number)"
      ]
    },
    {
      "cell_type": "code",
      "execution_count": null,
      "id": "6e948aba",
      "metadata": {},
      "outputs": [],
      "source": [
        "#Latihan 3\n",
        "selected_names <- babynames %>%\n",
        "  # Filter for the names Steven, Thomas, and Matthew \n",
        "  filter(name %in% c(\"Steven\", \"Thomas\", \"Matthew\"))"
      ]
    },
    {
      "cell_type": "code",
      "execution_count": null,
      "id": "a5999576",
      "metadata": {},
      "outputs": [],
      "source": [
        "selected_names <- babynames %>%\n",
        "  # Filter for the names Steven, Thomas, and Matthew \n",
        "  filter(name %in% c(\"Steven\", \"Thomas\", \"Matthew\"))\n",
        "\n",
        "selected_names\n",
        "\n",
        "# Plot the names using a different color for each name\n",
        "ggplot(selected_names, aes(x = year, y = number, color = name)) +\n",
        "  geom_line()"
      ]
    },
    {
      "cell_type": "markdown",
      "id": "43e0e23c-0816-42ab-866c-d3efb3f05582",
      "metadata": {},
      "source": [
        "Grouped mutates"
      ]
    },
    {
      "cell_type": "code",
      "execution_count": null,
      "id": "2f7fa769-9e6e-4d78-be3b-87683dffe9df",
      "metadata": {},
      "outputs": [],
      "source": [
        "#Latihan 1\n",
        "# Calculate the fraction of people born each year with the same name\n",
        "babynames %>%\n",
        "  group_by(year) %>%\n",
        "  mutate(year_total = sum(number)) %>%\n",
        "  ungroup() %>%\n",
        "  mutate(fraction = number / year_total)"
      ]
    },
    {
      "cell_type": "code",
      "execution_count": null,
      "id": "fb15a6f1",
      "metadata": {},
      "outputs": [],
      "source": [
        "# Calculate the fraction of people born each year with the same name\n",
        "babynames %>%\n",
        "  group_by(year) %>%\n",
        "  mutate(year_total = sum(number)) %>%\n",
        "  ungroup() %>%\n",
        "  mutate(fraction = number / year_total) %>%\n",
        "  # Find the year each name is most common\n",
        "  group_by(name) %>%\n",
        "  top_n(1, fraction)"
      ]
    },
    {
      "cell_type": "code",
      "execution_count": null,
      "id": "77a50bf6-454b-41b0-b5e9-5268d96691f3",
      "metadata": {},
      "outputs": [],
      "source": [
        "#Latihan 2\n",
        "babynames %>%\n",
        "  # Add columns name_total and name_max for each name\n",
        "  group_by(name) %>%\n",
        "  mutate(name_total = sum(number), name_max = max(number))"
      ]
    },
    {
      "cell_type": "code",
      "execution_count": null,
      "id": "fe735e68",
      "metadata": {},
      "outputs": [],
      "source": [
        "babynames %>%\n",
        "  # Add columns name_total and name_max for each name\n",
        "  group_by(name) %>%\n",
        "  mutate(name_total = sum(number), name_max = max(number)) %>%\n",
        "  # Ungroup the table \n",
        "  ungroup() %>%\n",
        "  # Add the fraction_max column containing the number by the name maximum \n",
        "  mutate(fraction_max = number / name_max)"
      ]
    },
    {
      "cell_type": "code",
      "execution_count": null,
      "id": "70349f5f-c718-4957-92f6-745af5680239",
      "metadata": {},
      "outputs": [],
      "source": [
        "#Latihan 3\n",
        "names_filtered <- names_normalized %>%\n",
        "  # Filter for the names Steven, Thomas, and Matthew\n",
        "  filter(name %in% c(\"Steven\", \"Thomas\", \"Matthew\"))\n",
        "\n",
        "# Visualize these names over time\n",
        "ggplot(names_filtered, aes(x = year, y = fraction_max, color = name)) +\n",
        "  geom_line()"
      ]
    },
    {
      "cell_type": "markdown",
      "id": "4c98ccd4-557b-4938-91dd-6c7c6857a5e8",
      "metadata": {},
      "source": [
        "Window functions"
      ]
    },
    {
      "cell_type": "code",
      "execution_count": null,
      "id": "b2a5466d-fe3f-46d0-bbae-5e2e90023c60",
      "metadata": {},
      "outputs": [],
      "source": [
        "#Latihan 1\n",
        "babynames_fraction %>%\n",
        "  # Arrange the data in order of name, then year \n",
        "  arrange(name, year) %>%\n",
        "  # Group the data by name\n",
        "  group_by(name) %>%\n",
        "  # Add a ratio column that contains the ratio of fraction between each year \n",
        "  mutate(ratio = fraction / lag(fraction))"
      ]
    },
    {
      "cell_type": "code",
      "execution_count": null,
      "id": "2343a571",
      "metadata": {},
      "outputs": [],
      "source": [
        "#Latihan 2\n",
        "babynames_ratios_filtered %>%\n",
        "  # Extract the largest ratio from each name \n",
        "  top_n(1, ratio) %>%\n",
        "  # Sort the ratio column in descending order \n",
        "  arrange(desc(ratio)) %>%\n",
        "  # Filter for fractions greater than or equal to 0.001\n",
        "  filter(fraction >= 0.001)"
      ]
    }
  ],
  "metadata": {
    "kernelspec": {
      "display_name": "Pyolite",
      "language": "python",
      "name": "python"
    },
    "language_info": {
      "codemirror_mode": {
        "name": "python",
        "version": 3
      },
      "file_extension": ".py",
      "mimetype": "text/x-python",
      "name": "python",
      "nbconvert_exporter": "python",
      "pygments_lexer": "ipython3",
      "version": "3.8"
    }
  },
  "nbformat": 4,
  "nbformat_minor": 5
}
