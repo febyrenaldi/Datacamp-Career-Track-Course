{
  "cells": [
    {
      "cell_type": "markdown",
      "id": "9ab7c979-e22f-488f-8128-434366ed35cf",
      "metadata": {},
      "source": [
        "The Countless dataset "
      ]
    },
    {
      "cell_type": "code",
      "execution_count": null,
      "id": "2d64f11e-e3bb-4308-90e7-d6af7d8be553",
      "metadata": {},
      "outputs": [],
      "source": [
        "#Latihan 1\n",
        "counties %>%\n",
        "  # Select the columns \n",
        "  select(state, county, population, poverty)\n",
        "\n",
        "counties %>%\n",
        "  select(state, county, population, poverty)"
      ]
    },
    {
      "cell_type": "markdown",
      "id": "43e0e23c-0816-42ab-866c-d3efb3f05582",
      "metadata": {},
      "source": [
        "The Filter and arrange verbs "
      ]
    },
    {
      "cell_type": "code",
      "execution_count": null,
      "id": "2f7fa769-9e6e-4d78-be3b-87683dffe9df",
      "metadata": {},
      "outputs": [],
      "source": [
        "#Latihan 1\n",
        "counties_selected <- counties %>%\n",
        "  select(state, county, population, private_work, public_work, self_employed)\n",
        "\n",
        "counties_selected %>%\n",
        "  # Add a verb to sort in descending order of public_work\n",
        "  arrange(desc(public_work))"
      ]
    },
    {
      "cell_type": "code",
      "execution_count": null,
      "id": "77a50bf6-454b-41b0-b5e9-5268d96691f3",
      "metadata": {},
      "outputs": [],
      "source": [
        "#Latihan 2\n",
        "counties_selected <- counties %>%\n",
        "  select(state, county, population)\n",
        "\n",
        "counties_selected %>%\n",
        "  # Filter for counties with a population above 1000000\n",
        "  filter(population > 1000000)"
      ]
    },
    {
      "cell_type": "code",
      "execution_count": null,
      "id": "fe735e68",
      "metadata": {},
      "outputs": [],
      "source": [
        "counties_selected <- counties %>%\n",
        "  select(state, county, population)\n",
        "\n",
        "counties_selected %>%\n",
        "  # Filter for counties with a population above 1000000\n",
        "  filter(state == \"California\", population > 1000000)"
      ]
    },
    {
      "cell_type": "code",
      "execution_count": null,
      "id": "70349f5f-c718-4957-92f6-745af5680239",
      "metadata": {},
      "outputs": [],
      "source": [
        "#Latihan 3\n",
        "counties_selected <- counties %>%\n",
        "  select(state, county, population, private_work, public_work, self_employed)\n",
        "\n",
        "counties_selected %>%\n",
        "  # Filter for Texas and more than 10000 people\n",
        "  filter(state == \"Texas\", population > 10000) %>%\n",
        "  # Sort in descending order of private_work\n",
        "  arrange(desc(private_work))"
      ]
    },
    {
      "cell_type": "markdown",
      "id": "4c98ccd4-557b-4938-91dd-6c7c6857a5e8",
      "metadata": {},
      "source": [
        "Mutate "
      ]
    },
    {
      "cell_type": "code",
      "execution_count": null,
      "id": "b2a5466d-fe3f-46d0-bbae-5e2e90023c60",
      "metadata": {},
      "outputs": [],
      "source": [
        "#Latihan 1\n",
        "counties_selected <- counties %>%\n",
        "  select(state, county, population, public_work)\n",
        "\n",
        "counties_selected %>%\n",
        "  # Add a new column public_workers with the number of people employed in public work\n",
        "  mutate(public_workers = public_work * population / 100)"
      ]
    },
    {
      "cell_type": "code",
      "execution_count": null,
      "id": "2343a571",
      "metadata": {},
      "outputs": [],
      "source": [
        "counties_selected <- counties %>%\n",
        "  select(state, county, population, public_work)\n",
        "\n",
        "counties_selected %>%\n",
        "  mutate(public_workers = public_work * population / 100) %>%\n",
        "  # Sort in descending order of the public_workers column\n",
        "  arrange(desc(public_workers))"
      ]
    },
    {
      "cell_type": "code",
      "execution_count": null,
      "id": "56499e8f-10fb-4af4-bd0c-3c5df242e427",
      "metadata": {},
      "outputs": [],
      "source": [
        "#Latihan 2\n",
        "counties_selected <- counties %>%\n",
        "  select(state, county, population, men, women)\n",
        "\n",
        "counties_selected %>%\n",
        "  # Calculate proportion_women as the fraction of the population made up of women\n",
        "  mutate(proportion_women = women / population)"
      ]
    },
    {
      "cell_type": "code",
      "execution_count": null,
      "id": "1169026d-e410-4f0b-9272-5c0789355278",
      "metadata": {},
      "outputs": [],
      "source": [
        "#Latihan 3\n",
        "counties %>%\n",
        "  # Select the five columns \n",
        "  select(state, county, population, men, women) %>%\n",
        "  # Add the proportion_men variable\n",
        "  mutate(proportion_men = men / population) %>%\n",
        "  # Filter for population of at least 10,000\n",
        "  filter(population >= 10000) %>% \n",
        "  # Arrange proportion of men in descending order \n",
        "  arrange(desc(proportion_men))"
      ]
    },
    {
      "cell_type": "markdown",
      "id": "74ef3840-1e9c-427c-ae52-242dd118dd10",
      "metadata": {},
      "source": [
        "The Count verb"
      ]
    },
    {
      "cell_type": "code",
      "execution_count": null,
      "id": "b7ff9994-45bd-46d0-a3a8-5c4142098dc7",
      "metadata": {},
      "outputs": [],
      "source": [
        "#Latihan 1\n",
        "# Use count to find the number of counties in each region\n",
        "counties_selected %>%\n",
        "  count(region, sort = TRUE)\n",
        "\n",
        "counties_selected %>%\n",
        "  count(region, sort = TRUE)"
      ]
    },
    {
      "cell_type": "code",
      "execution_count": null,
      "id": "7654744e-a551-4ca8-9bf4-dfefffdee720",
      "metadata": {},
      "outputs": [],
      "source": [
        "#Latihan 2\n",
        "# Find number of counties per state, weighted by citizens, sorted in descending order\n",
        "counties_selected %>%\n",
        "  count(state, wt = citizens, sort = TRUE)"
      ]
    },
    {
      "cell_type": "code",
      "execution_count": null,
      "id": "a3e6c3c6-c4e5-44a5-b4f4-6cb5d9423c39",
      "metadata": {},
      "outputs": [],
      "source": [
        "#Latihan 3\n",
        "counties_selected %>%\n",
        "  # Add population_walk containing the total number of people who walk to work \n",
        "  mutate(population_walk = population * walk / 100) %>%\n",
        "  # Count weighted by the new column, sort in descending order\n",
        "  count(state, wt = population_walk, sort = TRUE)"
      ]
    },
    {
      "cell_type": "markdown",
      "id": "053053c6-7671-436d-9a19-975091a35e48",
      "metadata": {},
      "source": [
        "The group by, summarize and ungroup verbs"
      ]
    },
    {
      "cell_type": "code",
      "execution_count": null,
      "id": "4a217d3c-c32f-48a7-bb75-31b041185453",
      "metadata": {},
      "outputs": [],
      "source": [
        "#Latihan 1\n",
        "counties_selected %>%\n",
        "  # Summarize to find minimum population, maximum unemployment, and average income\n",
        "  summarize(min_population = min(population),\n",
        "            max_unemployment = max(unemployment),\n",
        "            average_income = mean(income))"
      ]
    },
    {
      "cell_type": "code",
      "execution_count": null,
      "id": "5349d200-2ee6-4c4d-b79f-91171784b9ce",
      "metadata": {},
      "outputs": [],
      "source": [
        "#Latihan 2\n",
        "counties_selected %>%\n",
        "  # Group by state\n",
        "  group_by(state) %>%\n",
        "  # Find the total area and population\n",
        "  summarize(total_area = sum(land_area),\n",
        "            total_population = sum(population))"
      ]
    },
    {
      "cell_type": "code",
      "execution_count": null,
      "id": "f580d129",
      "metadata": {},
      "outputs": [],
      "source": [
        "counties_selected %>%\n",
        "  group_by(state) %>%\n",
        "  summarize(total_area = sum(land_area),\n",
        "            total_population = sum(population)) %>%\n",
        "  # Add a density column\n",
        "  mutate(density = total_population / total_area) %>%\n",
        "  # Sort by density in descending order\n",
        "  arrange(desc(density))"
      ]
    },
    {
      "cell_type": "code",
      "execution_count": null,
      "id": "899b7c3d-17be-4137-a55c-59805edd1ae8",
      "metadata": {},
      "outputs": [],
      "source": [
        "#Latihan 3\n",
        "counties_selected %>%\n",
        "  # Group and summarize to find the total population\n",
        "  group_by(region, state) %>%\n",
        "  summarize(total_pop = sum(population))"
      ]
    },
    {
      "cell_type": "code",
      "execution_count": null,
      "id": "6769a8cf",
      "metadata": {},
      "outputs": [],
      "source": [
        "counties_selected %>%\n",
        "  # Group and summarize to find the total population\n",
        "  group_by(region, state) %>%\n",
        "  summarize(total_pop = sum(population)) %>%\n",
        "  # Calculate the average_pop and median_pop columns \n",
        "  summarize(average_pop = mean(total_pop),\n",
        "            median_pop = median(total_pop))"
      ]
    },
    {
      "cell_type": "markdown",
      "id": "594dc591-9f29-4a38-9526-524dc12c9ea5",
      "metadata": {},
      "source": [
        "The top_n verb"
      ]
    },
    {
      "cell_type": "code",
      "execution_count": null,
      "id": "2894ed48-6f1a-4381-9bee-0e067251ff09",
      "metadata": {},
      "outputs": [],
      "source": [
        "#Latihan 1\n",
        "counties_selected %>%\n",
        "  # Group by region\n",
        "  group_by(region) %>%\n",
        "  # Find the greatest number of citizens who walk to work\n",
        "  top_n(1, walk)"
      ]
    },
    {
      "cell_type": "code",
      "execution_count": null,
      "id": "e7350323-cd8d-4519-8ec5-2df803b28dd6",
      "metadata": {},
      "outputs": [],
      "source": [
        "#Latihan 2\n",
        "counties_selected %>%\n",
        "  group_by(region, state) %>%\n",
        "  # Calculate average income\n",
        "  summarize(average_income = mean(income)) %>%\n",
        "  # Find the highest income state in each region\n",
        "  top_n(1, average_income)"
      ]
    },
    {
      "cell_type": "code",
      "execution_count": null,
      "id": "71fbe396-e7d9-42c3-b429-71ee2dc2ea70",
      "metadata": {},
      "outputs": [],
      "source": [
        "#Latihan 3\n",
        "counties_selected %>%\n",
        "  # Find the total population for each combination of state and metro\n",
        "  group_by(state, metro) %>%\n",
        "  summarize(total_pop = sum(population))"
      ]
    },
    {
      "cell_type": "code",
      "execution_count": null,
      "id": "9bbf6f5d",
      "metadata": {},
      "outputs": [],
      "source": [
        "counties_selected %>%\n",
        "  # Find the total population for each combination of state and metro\n",
        "  group_by(state, metro) %>%\n",
        "  summarize(total_pop = sum(population)) %>%\n",
        "  # Extract the most populated row for each state\n",
        "  top_n(1, total_pop) %>%\n",
        "  # Count the states with more people in Metro or Nonmetro areas\n",
        "  ungroup() %>% \n",
        "  count(metro)"
      ]
    }
  ],
  "metadata": {
    "kernelspec": {
      "display_name": "Pyolite",
      "language": "python",
      "name": "python"
    },
    "language_info": {
      "codemirror_mode": {
        "name": "python",
        "version": 3
      },
      "file_extension": ".py",
      "mimetype": "text/x-python",
      "name": "python",
      "nbconvert_exporter": "python",
      "pygments_lexer": "ipython3",
      "version": "3.8"
    }
  },
  "nbformat": 4,
  "nbformat_minor": 5
}
