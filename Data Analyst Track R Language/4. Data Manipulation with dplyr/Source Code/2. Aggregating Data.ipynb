{
  "cells": [
    {
      "cell_type": "markdown",
      "id": "9ab7c979-e22f-488f-8128-434366ed35cf",
      "metadata": {},
      "source": [
        "The count verb"
      ]
    },
    {
      "cell_type": "code",
      "execution_count": null,
      "id": "2d64f11e-e3bb-4308-90e7-d6af7d8be553",
      "metadata": {},
      "outputs": [],
      "source": [
        "#Latihan 1\n",
        "# Use count to find the number of counties in each region\n",
        "counties_selected %>%\n",
        "  count(region, sort = TRUE)\n",
        "\n",
        "counties_selected %>%\n",
        "  count(region, sort = TRUE)"
      ]
    },
    {
      "cell_type": "code",
      "execution_count": null,
      "id": "19603bfb",
      "metadata": {},
      "outputs": [],
      "source": [
        "#Latihan 2\n",
        "# Find number of counties per state, weighted by citizens, sorted in descending order\n",
        "counties_selected %>%\n",
        "  count(state, wt = citizens, sort = TRUE)"
      ]
    },
    {
      "cell_type": "code",
      "execution_count": null,
      "id": "0bbd1fb4",
      "metadata": {},
      "outputs": [],
      "source": [
        "#Latihan 3\n",
        "counties_selected %>%\n",
        "  # Add population_walk containing the total number of people who walk to work \n",
        "  mutate(population_walk = population * walk / 100) %>%\n",
        "  # Count weighted by the new column, sort in descending order\n",
        "  count(state, wt = population_walk, sort = TRUE)"
      ]
    },
    {
      "cell_type": "markdown",
      "id": "43e0e23c-0816-42ab-866c-d3efb3f05582",
      "metadata": {},
      "source": [
        "The group by, summarize and ungroup verb"
      ]
    },
    {
      "cell_type": "code",
      "execution_count": null,
      "id": "2f7fa769-9e6e-4d78-be3b-87683dffe9df",
      "metadata": {},
      "outputs": [],
      "source": [
        "#Latihan 1\n",
        "counties_selected %>%\n",
        "  # Summarize to find minimum population, maximum unemployment, and average income\n",
        "  summarize(min_population = min(population),\n",
        "            max_unemployment = max(unemployment),\n",
        "            average_income = mean(income))"
      ]
    },
    {
      "cell_type": "code",
      "execution_count": null,
      "id": "77a50bf6-454b-41b0-b5e9-5268d96691f3",
      "metadata": {},
      "outputs": [],
      "source": [
        "#Latihan 2\n",
        "counties_selected %>%\n",
        "  # Group by state\n",
        "  group_by(state) %>%\n",
        "  # Find the total area and population\n",
        "  summarize(total_area = sum(land_area),\n",
        "            total_population = sum(population))"
      ]
    },
    {
      "cell_type": "code",
      "execution_count": null,
      "id": "fe735e68",
      "metadata": {},
      "outputs": [],
      "source": [
        "counties_selected %>%\n",
        "  group_by(state) %>%\n",
        "  summarize(total_area = sum(land_area),\n",
        "            total_population = sum(population)) %>%\n",
        "  # Add a density column\n",
        "  mutate(density = total_population / total_area) %>%\n",
        "  # Sort by density in descending order\n",
        "  arrange(desc(density))"
      ]
    },
    {
      "cell_type": "code",
      "execution_count": null,
      "id": "70349f5f-c718-4957-92f6-745af5680239",
      "metadata": {},
      "outputs": [],
      "source": [
        "#Latihan 3\n",
        "counties_selected %>%\n",
        "  # Group and summarize to find the total population\n",
        "  group_by(region, state) %>%\n",
        "  summarize(total_pop = sum(population))"
      ]
    },
    {
      "cell_type": "code",
      "execution_count": null,
      "id": "85c35d76",
      "metadata": {},
      "outputs": [],
      "source": [
        "counties_selected %>%\n",
        "  # Group and summarize to find the total population\n",
        "  group_by(region, state) %>%\n",
        "  summarize(total_pop = sum(population)) %>%\n",
        "  # Calculate the average_pop and median_pop columns \n",
        "  summarize(average_pop = mean(total_pop),\n",
        "            median_pop = median(total_pop))"
      ]
    },
    {
      "cell_type": "markdown",
      "id": "4c98ccd4-557b-4938-91dd-6c7c6857a5e8",
      "metadata": {},
      "source": [
        "The top_n verb"
      ]
    },
    {
      "cell_type": "code",
      "execution_count": null,
      "id": "b2a5466d-fe3f-46d0-bbae-5e2e90023c60",
      "metadata": {},
      "outputs": [],
      "source": [
        "#Latihan 1\n",
        "counties_selected %>%\n",
        "  # Group by region\n",
        "  group_by(region) %>%\n",
        "  # Find the greatest number of citizens who walk to work\n",
        "  top_n(1, walk)"
      ]
    },
    {
      "cell_type": "code",
      "execution_count": null,
      "id": "56499e8f-10fb-4af4-bd0c-3c5df242e427",
      "metadata": {},
      "outputs": [],
      "source": [
        "#Latihan 2\n",
        "counties_selected %>%\n",
        "  group_by(region, state) %>%\n",
        "  # Calculate average income\n",
        "  summarize(average_income = mean(income)) %>%\n",
        "  # Find the highest income state in each region\n",
        "  top_n(1, average_income)"
      ]
    },
    {
      "cell_type": "code",
      "execution_count": null,
      "id": "1169026d-e410-4f0b-9272-5c0789355278",
      "metadata": {},
      "outputs": [],
      "source": [
        "#Latihan 3\n",
        "counties_selected %>%\n",
        "  # Find the total population for each combination of state and metro\n",
        "  group_by(state, metro) %>%\n",
        "  summarize(total_pop = sum(population))"
      ]
    },
    {
      "cell_type": "code",
      "execution_count": null,
      "id": "b89ca642",
      "metadata": {},
      "outputs": [],
      "source": [
        "counties_selected %>%\n",
        "  # Find the total population for each combination of state and metro\n",
        "  group_by(state, metro) %>%\n",
        "  summarize(total_pop = sum(population)) %>%\n",
        "  # Extract the most populated row for each state\n",
        "  top_n(1, total_pop)"
      ]
    },
    {
      "cell_type": "code",
      "execution_count": null,
      "id": "a4099ea1",
      "metadata": {},
      "outputs": [],
      "source": [
        "counties_selected %>%\n",
        "  # Find the total population for each combination of state and metro\n",
        "  group_by(state, metro) %>%\n",
        "  summarize(total_pop = sum(population)) %>%\n",
        "  # Extract the most populated row for each state\n",
        "  top_n(1, total_pop) %>%\n",
        "  # Count the states with more people in Metro or Nonmetro areas\n",
        "  ungroup() %>% \n",
        "  count(metro)"
      ]
    }
  ],
  "metadata": {
    "kernelspec": {
      "display_name": "Pyolite",
      "language": "python",
      "name": "python"
    },
    "language_info": {
      "codemirror_mode": {
        "name": "python",
        "version": 3
      },
      "file_extension": ".py",
      "mimetype": "text/x-python",
      "name": "python",
      "nbconvert_exporter": "python",
      "pygments_lexer": "ipython3",
      "version": "3.8"
    }
  },
  "nbformat": 4,
  "nbformat_minor": 5
}
