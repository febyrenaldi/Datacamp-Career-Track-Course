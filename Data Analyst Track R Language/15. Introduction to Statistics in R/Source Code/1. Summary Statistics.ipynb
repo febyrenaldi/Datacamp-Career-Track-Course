{
  "cells": [
    {
      "cell_type": "markdown",
      "id": "0f1e559f-4b76-45cf-8ceb-777f2ae350a2",
      "metadata": {},
      "source": [
        "What is statistics?"
      ]
    },
    {
      "cell_type": "markdown",
      "id": "669d549a-fa8a-467c-a846-fa8071e8a42e",
      "metadata": {},
      "source": [
        "Measures of center"
      ]
    },
    {
      "cell_type": "code",
      "execution_count": null,
      "id": "38f3396b-7957-4b93-a1fe-04c25587bd50",
      "metadata": {},
      "outputs": [],
      "source": [
        "#Latihan 1\n",
        "# Filter for Belgium\n",
        "belgium_consumption <- food_consumption %>%\n",
        "  filter(country == \"Belgium\")\n",
        "\n",
        "# Filter for USA\n",
        "usa_consumption <- food_consumption %>%\n",
        "  filter(country == \"USA\")\n",
        "\n",
        "# Calculate mean and median consumption in Belgium\n",
        "mean(belgium_consumption$consumption)\n",
        "median(belgium_consumption$consumption)\n",
        "\n",
        "# Calculate mean and median consumption in USA\n",
        "mean(usa_consumption$consumption)\n",
        "median(usa_consumption$consumption)"
      ]
    },
    {
      "cell_type": "code",
      "execution_count": null,
      "id": "65573979-b6ed-4a37-b05c-5c0856ba56b3",
      "metadata": {},
      "outputs": [],
      "source": [
        "#Latihan 2\n",
        "food_consumption %>%\n",
        "  # Filter for rice food category\n",
        "  filter(food_category == \"rice\") %>%\n",
        "  # Create histogram of co2_emission\n",
        "  ggplot(aes(co2_emission)) +\n",
        "    geom_histogram()"
      ]
    },
    {
      "cell_type": "code",
      "execution_count": null,
      "id": "a91b551f-112d-49c5-9881-f5f134d5781b",
      "metadata": {},
      "outputs": [],
      "source": [
        "DM.result = 3"
      ]
    },
    {
      "cell_type": "code",
      "execution_count": null,
      "id": "e11974f1-2e0f-47a6-ae8e-d14553be438a",
      "metadata": {},
      "outputs": [],
      "source": [
        "food_consumption %>%\n",
        "  # Filter for rice food category\n",
        "  filter(food_category == \"rice\") %>%\n",
        "  # Create histogram of co2_emission\n",
        "  ggplot(aes(co2_emission)) +\n",
        "    geom_histogram()\n",
        "\n",
        "food_consumption %>%\n",
        "  # Filter for rice food category\n",
        "  filter(food_category == \"rice\") %>% \n",
        "  # Get mean_co2 and median_co2\n",
        "  summarize(mean_co2 = mean(co2_emission),\n",
        "            median_co2 = median(co2_emission))"
      ]
    },
    {
      "cell_type": "code",
      "execution_count": null,
      "id": "405dc987-9fd7-45ea-82a3-1c4cee72dd0c",
      "metadata": {},
      "outputs": [],
      "source": [
        "DM.result = 2"
      ]
    },
    {
      "cell_type": "markdown",
      "id": "60ce27ce-8a31-49e4-894f-751fe6315243",
      "metadata": {},
      "source": [
        "Measures of spread"
      ]
    },
    {
      "cell_type": "code",
      "execution_count": null,
      "id": "c917b55c-89fc-4147-92ee-c5bfdabf4645",
      "metadata": {},
      "outputs": [],
      "source": [
        "#Latihan 1\n",
        "# Calculate the quartiles of co2_emission\n",
        "quantile(food_consumption$co2_emission)"
      ]
    },
    {
      "cell_type": "code",
      "execution_count": null,
      "id": "8303bfa5-2246-4dcd-926d-416c8c645a81",
      "metadata": {},
      "outputs": [],
      "source": [
        "#Latihan 2\n",
        "# Calculate variance and sd of co2_emission for each food_category\n",
        "food_consumption %>% \n",
        "  group_by(food_category) %>% \n",
        "  summarize(var_co2 = var(co2_emission),\n",
        "           sd_co2 = sd(co2_emission))\n",
        "\n",
        "# Create subgraphs for each food_category: histogram of co2_emission\n",
        "ggplot(food_consumption, aes(co2_emission)) +\n",
        "  # Create a histogram\n",
        "  geom_histogram() +\n",
        "  # Create a separate sub-graph for each food_category\n",
        "  facet_wrap(~ food_category)"
      ]
    },
    {
      "cell_type": "code",
      "execution_count": null,
      "id": "8393d33d-aeb5-47bd-8813-1d7caecb79f0",
      "metadata": {},
      "outputs": [],
      "source": [
        "#Latihan 3\n",
        "# Calculate total co2_emission per country: emissions_by_country\n",
        "emissions_by_country <- food_consumption %>%\n",
        "  group_by(country) %>%\n",
        "  summarize(total_emission = sum(co2_emission))\n",
        "\n",
        "emissions_by_country"
      ]
    },
    {
      "cell_type": "code",
      "execution_count": null,
      "id": "514c777d-2451-424d-9054-d9f61a86fafe",
      "metadata": {},
      "outputs": [],
      "source": [
        "# Calculate total co2_emission per country: emissions_by_country\n",
        "emissions_by_country <- food_consumption %>%\n",
        "  group_by(country) %>%\n",
        "  summarize(total_emission = sum(co2_emission))\n",
        "\n",
        "# Compute the first and third quartiles and IQR of total_emission\n",
        "q1 <- quantile(emissions_by_country$total_emission, 0.25)\n",
        "q3 <- quantile(emissions_by_country$total_emission, 0.75)\n",
        "iqr <- q3 - q1"
      ]
    },
    {
      "cell_type": "code",
      "execution_count": null,
      "id": "64871e01-54be-4a8e-9327-7f005874ad25",
      "metadata": {},
      "outputs": [],
      "source": [
        "# Calculate total co2_emission per country: emissions_by_country\n",
        "emissions_by_country <- food_consumption %>%\n",
        "  group_by(country) %>%\n",
        "  summarize(total_emission = sum(co2_emission))\n",
        "\n",
        "# Compute the first and third quartiles and IQR of total_emission\n",
        "q1 <- quantile(emissions_by_country$total_emission, 0.25)\n",
        "q3 <- quantile(emissions_by_country$total_emission, 0.75)\n",
        "iqr <- q3 - q1\n",
        "\n",
        "# Calculate the lower and upper cutoffs for outliers\n",
        "lower <- q1 - 1.5 * iqr\n",
        "upper <- q3 + 1.5 * iqr"
      ]
    },
    {
      "cell_type": "code",
      "execution_count": null,
      "id": "75a9d197-ee51-4bb7-a770-856c5bb8dde6",
      "metadata": {},
      "outputs": [],
      "source": [
        "# Calculate total co2_emission per country: emissions_by_country\n",
        "emissions_by_country <- food_consumption %>%\n",
        "  group_by(country) %>%\n",
        "  summarize(total_emission = sum(co2_emission))\n",
        "\n",
        "# Compute the first and third quartiles and IQR of total_emission\n",
        "q1 <- quantile(emissions_by_country$total_emission, 0.25)\n",
        "q3 <- quantile(emissions_by_country$total_emission, 0.75)\n",
        "iqr <- q3 - q1\n",
        "\n",
        "# Calculate the lower and upper cutoffs for outliers\n",
        "lower <- q1 - 1.5 * iqr\n",
        "upper <- q3 + 1.5 * iqr\n",
        "\n",
        "# Filter emissions_by_country to find outliers\n",
        "emissions_by_country %>%\n",
        "  filter(total_emission < lower | total_emission > upper)"
      ]
    }
  ],
  "metadata": {
    "kernelspec": {
      "display_name": "Pyolite",
      "language": "python",
      "name": "python"
    },
    "language_info": {
      "codemirror_mode": {
        "name": "python",
        "version": 3
      },
      "file_extension": ".py",
      "mimetype": "text/x-python",
      "name": "python",
      "nbconvert_exporter": "python",
      "pygments_lexer": "ipython3",
      "version": "3.8"
    }
  },
  "nbformat": 4,
  "nbformat_minor": 5
}
