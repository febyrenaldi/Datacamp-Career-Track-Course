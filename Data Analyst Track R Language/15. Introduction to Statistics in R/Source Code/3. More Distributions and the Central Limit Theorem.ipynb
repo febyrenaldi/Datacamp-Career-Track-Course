{
  "cells": [
    {
      "cell_type": "markdown",
      "id": "970f0282-8fa0-489e-a86c-5f9e2aa44e79",
      "metadata": {},
      "source": [
        "The normal distribution"
      ]
    },
    {
      "cell_type": "code",
      "execution_count": null,
      "id": "0edcc08e-0fbb-4ffd-9153-18ae2a34543d",
      "metadata": {},
      "outputs": [],
      "source": [
        "#Latihan 1\n",
        "# Histogram of amount with 10 bins\n",
        "ggplot(amir_deals, aes(amount)) +\n",
        "  geom_histogram(bins = 10)"
      ]
    },
    {
      "cell_type": "code",
      "execution_count": null,
      "id": "f6e1da9c-0088-4473-baa3-2c114a259c43",
      "metadata": {},
      "outputs": [],
      "source": [
        "DM.result = 3"
      ]
    },
    {
      "cell_type": "code",
      "execution_count": null,
      "id": "600d481b-5bef-4d0b-91a3-beb1088003b5",
      "metadata": {},
      "outputs": [],
      "source": [
        "#Latihan 2\n",
        "# Probability of deal < 7500\n",
        "pnorm(7500, mean = 5000, sd = 2000)"
      ]
    },
    {
      "cell_type": "code",
      "execution_count": null,
      "id": "ce25e0a2-d379-41d9-9e9b-ef3cffe28441",
      "metadata": {},
      "outputs": [],
      "source": [
        "#Latihan 3\n",
        "# Calculate new average amount\n",
        "new_mean <- 5000 * 1.2\n",
        "\n",
        "# Calculate new standard deviation\n",
        "new_sd <- 2000 * 1.3\n",
        "\n",
        "# Simulate 36 sales\n",
        "new_sales <- new_sales %>% \n",
        "  mutate(amount = rnorm(36, mean = new_mean, sd = new_sd))\n",
        "\n",
        "# Create histogram with 10 bins\n",
        "ggplot(new_sales, aes(amount)) +\n",
        "  geom_histogram(bins = 10)"
      ]
    },
    {
      "cell_type": "markdown",
      "id": "afe701af-0e11-4c74-b411-1ce7c1ac9a8f",
      "metadata": {},
      "source": [
        "The central limit theorem"
      ]
    },
    {
      "cell_type": "code",
      "execution_count": null,
      "id": "7f6a4b2b-de00-457b-a33e-75107ad43306",
      "metadata": {},
      "outputs": [],
      "source": [
        "#Latihan 1\n",
        "# Create a histogram of num_users\n",
        "ggplot(amir_deals, aes(num_users)) +\n",
        "  geom_histogram(bins = 10)"
      ]
    },
    {
      "cell_type": "code",
      "execution_count": null,
      "id": "9d7be2b5-7c99-4b52-8765-6faee9e58b98",
      "metadata": {},
      "outputs": [],
      "source": [
        "# Set seed to 104\n",
        "set.seed(104)\n",
        "\n",
        "# Sample 20 num_users with replacement from amir_deals\n",
        "sample(amir_deals$num_users, size = 20, replace = TRUE) %>%\n",
        "  # Take mean\n",
        "  mean()"
      ]
    },
    {
      "cell_type": "code",
      "execution_count": null,
      "id": "5254548e-ab0d-4758-9545-abe3d82d2f70",
      "metadata": {},
      "outputs": [],
      "source": [
        "# Set seed to 104\n",
        "set.seed(104)\n",
        "\n",
        "# Sample 20 num_users from amir_deals and take mean\n",
        "sample(amir_deals$num_users, size = 20, replace = TRUE) %>%\n",
        "  mean()\n",
        "\n",
        "# Repeat the above 100 times\n",
        "sample_means <- replicate(100, sample(amir_deals$num_users, size = 20, replace = TRUE) %>% mean())"
      ]
    },
    {
      "cell_type": "code",
      "execution_count": null,
      "id": "a3dfa183-4f97-4f2c-9714-19e8415529be",
      "metadata": {},
      "outputs": [],
      "source": [
        "# Set seed to 104\n",
        "set.seed(104)\n",
        "\n",
        "# Sample 20 num_users from amir_deals and take mean\n",
        "sample(amir_deals$num_users, size = 20, replace = TRUE) %>%\n",
        "  mean()\n",
        "\n",
        "# Repeat the above 100 times\n",
        "sample_means <- replicate(100, sample(amir_deals$num_users, size = 20, replace = TRUE) %>% mean())\n",
        "\n",
        "# Create data frame for plotting\n",
        "samples <- data.frame(mean = sample_means)\n",
        "\n",
        "# Histogram of sample means\n",
        "ggplot(samples, aes(mean)) +\n",
        "  geom_histogram(bins = 10)"
      ]
    },
    {
      "cell_type": "code",
      "execution_count": null,
      "id": "0d6b1168-6314-41c9-b540-a0f620525c29",
      "metadata": {},
      "outputs": [],
      "source": [
        "#Latihan 2\n",
        "# Set seed to 321\n",
        "set.seed(321)\n",
        "\n",
        "# Take 30 samples of 20 values of num_users, take mean of each sample\n",
        "sample_means <- replicate(30, sample(all_deals$num_users, 20) %>% mean())\n",
        "\n",
        "# Calculate mean of sample_means\n",
        "mean(sample_means)\n",
        "\n",
        "# Calculate mean of num_users in amir_deals\n",
        "mean(amir_deals$num_users)"
      ]
    },
    {
      "cell_type": "markdown",
      "id": "53598e73-a857-49df-9483-6fc8c160fc2d",
      "metadata": {},
      "source": [
        "The Poisson distribution"
      ]
    },
    {
      "cell_type": "code",
      "execution_count": null,
      "id": "e0346c4f-22e6-47de-9a40-2d8d34c0b39e",
      "metadata": {},
      "outputs": [],
      "source": [
        "#Latihan 1\n",
        "# Probability of 5 responses\n",
        "dpois(5, lambda = 4)"
      ]
    },
    {
      "cell_type": "markdown",
      "id": "6d2c3a10-3412-415e-8168-ef387ae3b937",
      "metadata": {},
      "source": [
        "More probability distributions"
      ]
    },
    {
      "cell_type": "code",
      "execution_count": null,
      "id": "02d0bff4-bb8a-4819-9d79-f50a592d2af3",
      "metadata": {},
      "outputs": [],
      "source": [
        "#Latihan 1\n",
        "# Probability response takes < 1 hour\n",
        "pexp(1, rate = 1/2.5)"
      ]
    }
  ],
  "metadata": {
    "kernelspec": {
      "display_name": "Pyolite",
      "language": "python",
      "name": "python"
    },
    "language_info": {
      "codemirror_mode": {
        "name": "python",
        "version": 3
      },
      "file_extension": ".py",
      "mimetype": "text/x-python",
      "name": "python",
      "nbconvert_exporter": "python",
      "pygments_lexer": "ipython3",
      "version": "3.8"
    }
  },
  "nbformat": 4,
  "nbformat_minor": 5
}
