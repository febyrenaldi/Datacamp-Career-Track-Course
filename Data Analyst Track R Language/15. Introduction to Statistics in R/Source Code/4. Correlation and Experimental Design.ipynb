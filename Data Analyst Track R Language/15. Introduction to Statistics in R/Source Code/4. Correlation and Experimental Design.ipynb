{
  "cells": [
    {
      "cell_type": "markdown",
      "id": "456479a3-621c-4d97-a08d-9e9f810a3946",
      "metadata": {},
      "source": [
        "Correlation"
      ]
    },
    {
      "cell_type": "code",
      "execution_count": null,
      "id": "1323dcbf-9be1-468d-a34d-29bd4c3ae259",
      "metadata": {},
      "outputs": [],
      "source": [
        "#Latihan 1\n",
        "# Create a scatterplot of happiness_score vs. life_exp\n",
        "ggplot(world_happiness, aes(life_exp, happiness_score)) +\n",
        "  geom_point()"
      ]
    },
    {
      "cell_type": "code",
      "execution_count": null,
      "id": "871843ee-46f0-41c8-ada1-38b5cdee4614",
      "metadata": {},
      "outputs": [],
      "source": [
        "# Add a linear trendline to scatterplot\n",
        "ggplot(world_happiness, aes(life_exp, happiness_score)) +\n",
        "  geom_point() +\n",
        "  geom_smooth(method = \"lm\", se = FALSE)"
      ]
    },
    {
      "cell_type": "code",
      "execution_count": null,
      "id": "c58f336f-22fe-4ca5-b083-b8937c86e265",
      "metadata": {},
      "outputs": [],
      "source": [
        "DM.result = 3"
      ]
    },
    {
      "cell_type": "code",
      "execution_count": null,
      "id": "0b7f823e-a15a-4a4c-b244-6f0d030718f3",
      "metadata": {},
      "outputs": [],
      "source": [
        "# Add a linear trendline to scatterplot\n",
        "ggplot(world_happiness, aes(life_exp, happiness_score)) +\n",
        "  geom_point() +\n",
        "  geom_smooth(method = \"lm\", se = FALSE)\n",
        "\n",
        "# Correlation between life_exp and happiness_score\n",
        "cor(world_happiness$life_exp, world_happiness$happiness_score)"
      ]
    },
    {
      "cell_type": "markdown",
      "id": "5e04fd5b-685a-424a-bd55-322ed6a05600",
      "metadata": {},
      "source": [
        "Correlation caveats"
      ]
    },
    {
      "cell_type": "code",
      "execution_count": null,
      "id": "238217c5-2389-42ca-9cf8-22b72b6791ed",
      "metadata": {},
      "outputs": [],
      "source": [
        "#Latihan 1\n",
        "# Scatterplot of gdp_per_cap and life_exp\n",
        "ggplot(world_happiness, aes(gdp_per_cap, life_exp)) +\n",
        "  geom_point()"
      ]
    },
    {
      "cell_type": "code",
      "execution_count": null,
      "id": "37c1bcae-3efc-453d-aef0-870087c28128",
      "metadata": {},
      "outputs": [],
      "source": [
        "# Scatterplot of gdp_per_cap and life_exp\n",
        "ggplot(world_happiness, aes(gdp_per_cap, life_exp)) +\n",
        "  geom_point()\n",
        "\n",
        "# Correlation between gdp_per_cap and life_exp\n",
        "cor(world_happiness$gdp_per_cap, world_happiness$life_exp)"
      ]
    },
    {
      "cell_type": "code",
      "execution_count": null,
      "id": "d8b53b14-35d8-414b-bd2f-3e4e0b05730e",
      "metadata": {},
      "outputs": [],
      "source": [
        "DM.result = 2"
      ]
    },
    {
      "cell_type": "code",
      "execution_count": null,
      "id": "80994eda-7dae-4cb8-b843-c16e166c0916",
      "metadata": {},
      "outputs": [],
      "source": [
        "#Latihan 2\n",
        "# Scatterplot of happiness_score vs. gdp_per_cap\n",
        "ggplot(world_happiness, aes(gdp_per_cap, happiness_score)) +\n",
        "  geom_point()\n",
        "\n",
        "# Calculate correlation\n",
        "cor(world_happiness$gdp_per_cap, world_happiness$happiness_score)"
      ]
    },
    {
      "cell_type": "code",
      "execution_count": null,
      "id": "22ed8b89-2d10-4868-bec7-62336ba96794",
      "metadata": {},
      "outputs": [],
      "source": [
        "#Latihan 3\n",
        "# Scatterplot of grams_sugar_per_day and happiness_score\n",
        "ggplot(world_happiness, aes(grams_sugar_per_day, happiness_score)) +\n",
        "  geom_point()\n",
        "\n",
        "# Correlation between grams_sugar_per_day and happiness_score\n",
        "cor(world_happiness$grams_sugar_per_day, world_happiness$happiness_score)"
      ]
    },
    {
      "cell_type": "code",
      "execution_count": null,
      "id": "c2c50665-33ec-490a-b3a8-9d6489b15c22",
      "metadata": {},
      "outputs": [],
      "source": [
        "DM.result = 3"
      ]
    },
    {
      "cell_type": "markdown",
      "id": "7e341b8e-734c-4bc1-a4a6-710bf444062c",
      "metadata": {},
      "source": [
        "Design of experiments"
      ]
    },
    {
      "cell_type": "code",
      "execution_count": null,
      "id": "73681e04-7ed3-4673-b455-0beecdf1864f",
      "metadata": {},
      "outputs": [],
      "source": []
    },
    {
      "cell_type": "code",
      "execution_count": null,
      "id": "02a066b4-e6c0-4a4f-9666-e43347792c73",
      "metadata": {},
      "outputs": [],
      "source": []
    },
    {
      "cell_type": "code",
      "execution_count": null,
      "id": "2bb48565-e544-4547-bd99-da8c0915f2b5",
      "metadata": {},
      "outputs": [],
      "source": []
    },
    {
      "cell_type": "code",
      "execution_count": null,
      "id": "7f0ae62e-cd6f-4361-bd73-c160891cc84d",
      "metadata": {},
      "outputs": [],
      "source": []
    },
    {
      "cell_type": "code",
      "execution_count": null,
      "id": "1079132b-903b-4411-8e6c-9ece5ac2cdf1",
      "metadata": {},
      "outputs": [],
      "source": []
    },
    {
      "cell_type": "code",
      "execution_count": null,
      "id": "9c72a934-6cf5-4344-a9a7-f3644a9c65a7",
      "metadata": {},
      "outputs": [],
      "source": []
    }
  ],
  "metadata": {
    "kernelspec": {
      "display_name": "Pyolite",
      "language": "python",
      "name": "python"
    },
    "language_info": {
      "codemirror_mode": {
        "name": "python",
        "version": 3
      },
      "file_extension": ".py",
      "mimetype": "text/x-python",
      "name": "python",
      "nbconvert_exporter": "python",
      "pygments_lexer": "ipython3",
      "version": "3.8"
    }
  },
  "nbformat": 4,
  "nbformat_minor": 5
}
