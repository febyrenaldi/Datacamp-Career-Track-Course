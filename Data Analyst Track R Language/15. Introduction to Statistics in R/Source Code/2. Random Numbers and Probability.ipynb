{
  "cells": [
    {
      "cell_type": "markdown",
      "id": "df1223c6-cb0f-444f-89bc-d145f337572a",
      "metadata": {},
      "source": [
        "What are the chances?"
      ]
    },
    {
      "cell_type": "code",
      "execution_count": null,
      "id": "cca34919-dc5c-467c-9039-98fac5af0f6a",
      "metadata": {},
      "outputs": [],
      "source": [
        "#Latihan 1\n",
        "# Count the deals for each product\n",
        "amir_deals %>%\n",
        "  count(product)"
      ]
    },
    {
      "cell_type": "code",
      "execution_count": null,
      "id": "0c58d71c-0bf4-4cf5-b684-f6192059f8ab",
      "metadata": {},
      "outputs": [],
      "source": [
        "# Calculate probability of picking a deal with each product\n",
        "amir_deals %>%\n",
        "  count(product) %>%\n",
        "  mutate(prob = n/sum(n))"
      ]
    },
    {
      "cell_type": "code",
      "execution_count": null,
      "id": "9d8ee549-a838-42b3-8420-258a071a44e8",
      "metadata": {},
      "outputs": [],
      "source": [
        "DM.result = 3"
      ]
    },
    {
      "cell_type": "code",
      "execution_count": null,
      "id": "ee740f3d-90a9-4032-b931-24bfb7c7476d",
      "metadata": {},
      "outputs": [],
      "source": [
        "#Latihan 2\n",
        "# Set random seed to 31\n",
        "set.seed(31)\n",
        "\n",
        "# Sample 5 deals without replacement\n",
        "amir_deals %>%\n",
        "  sample_n(5)"
      ]
    },
    {
      "cell_type": "code",
      "execution_count": null,
      "id": "fcac3b2a-9d65-4031-bf78-b9e050ff2997",
      "metadata": {},
      "outputs": [],
      "source": [
        "# Set random seed to 31\n",
        "set.seed(31)\n",
        "\n",
        "# Sample 5 deals with replacement\n",
        "amir_deals %>%\n",
        "  sample_n(5, replace = TRUE)"
      ]
    },
    {
      "cell_type": "code",
      "execution_count": null,
      "id": "a8389219-7e02-4c25-be51-829b42ec762d",
      "metadata": {},
      "outputs": [],
      "source": [
        "DM.result = 2"
      ]
    },
    {
      "cell_type": "markdown",
      "id": "347a615b-6ab7-41c1-a804-cd3c4832f3c1",
      "metadata": {},
      "source": [
        "Discrete distributions"
      ]
    },
    {
      "cell_type": "code",
      "execution_count": null,
      "id": "54ee4129-b2aa-439e-8ee3-84df4f251f1b",
      "metadata": {},
      "outputs": [],
      "source": [
        "#Latihan 1\n",
        "# Create a histogram of restaurant_groups\n",
        "ggplot(restaurant_groups, aes(group_size)) +\n",
        "  geom_histogram(bins = 5)"
      ]
    },
    {
      "cell_type": "markdown",
      "id": "7076d557-eebb-47ae-a15e-339506e1d1f0",
      "metadata": {},
      "source": [
        "Continuous distributions"
      ]
    },
    {
      "cell_type": "code",
      "execution_count": null,
      "id": "80b7d855-a149-4f0e-b733-551c0c08efd7",
      "metadata": {},
      "outputs": [],
      "source": [
        "#Latihan 1\n",
        "# Min and max wait times for back-up that happens every 30 min\n",
        "min <- 0\n",
        "max <- 30"
      ]
    },
    {
      "cell_type": "code",
      "execution_count": null,
      "id": "37d6422a-4c83-442b-ac38-478b82f62005",
      "metadata": {},
      "outputs": [],
      "source": [
        "#Latihan 2\n",
        "# Set random seed to 334\n",
        "set.seed(334)"
      ]
    },
    {
      "cell_type": "code",
      "execution_count": null,
      "id": "b1fea57c-5878-4115-a5d3-7e8626110eb5",
      "metadata": {},
      "outputs": [],
      "source": [
        "# Set random seed to 334\n",
        "set.seed(334)\n",
        "\n",
        "# Generate 1000 wait times between 0 and 30 mins, save in time column\n",
        "wait_times %>%\n",
        "  mutate(time = runif(1000, min = 0, max = 30))"
      ]
    },
    {
      "cell_type": "code",
      "execution_count": null,
      "id": "424942e1-6efb-4e44-8451-73a3936f31f4",
      "metadata": {},
      "outputs": [],
      "source": [
        "# Set random seed to 334\n",
        "set.seed(334)\n",
        "\n",
        "# Generate 1000 wait times between 0 and 30 mins, save in time column\n",
        "wait_times %>%\n",
        "  mutate(time = runif(1000, min = 0, max = 30)) %>%\n",
        "  # Create a histogram of simulated times\n",
        "  ggplot(aes(time)) +\n",
        "  geom_histogram(bins = 30)"
      ]
    },
    {
      "cell_type": "markdown",
      "id": "dcbb6f2a-1e4f-4508-8e01-b09afff0ced9",
      "metadata": {},
      "source": [
        "The binomial distribution"
      ]
    },
    {
      "cell_type": "code",
      "execution_count": null,
      "id": "b8f8acfd-a140-4c6d-82a6-40f25c7311e6",
      "metadata": {},
      "outputs": [],
      "source": [
        "#Latihan 1\n",
        "# Set random seed to 10\n",
        "set.seed(10)\n",
        "\n",
        "# Simulate a single deal\n",
        "rbinom(1, 1, 0.3)"
      ]
    },
    {
      "cell_type": "code",
      "execution_count": null,
      "id": "49c6c385-16e2-4ea4-9e4f-691179894cce",
      "metadata": {},
      "outputs": [],
      "source": [
        "#Latihan 2\n",
        "# Probability of closing 3 out of 3 deals\n",
        "dbinom(3, 3, 0.3)"
      ]
    },
    {
      "cell_type": "code",
      "execution_count": null,
      "id": "dc90ce51-8b25-4ebe-9970-1885c832513f",
      "metadata": {},
      "outputs": [],
      "source": [
        "# Probability of closing <= 1 deal out of 3 deals\n",
        "pbinom(1, 3, 0.3)"
      ]
    },
    {
      "cell_type": "code",
      "execution_count": null,
      "id": "ddf79ce6-7bc5-478f-85cb-95d3fae49837",
      "metadata": {},
      "outputs": [],
      "source": [
        "# Probability of closing > 1 deal out of 3 deals\n",
        "pbinom(1, 3, 0.3, lower.tail = FALSE)"
      ]
    },
    {
      "cell_type": "code",
      "execution_count": null,
      "id": "df185a9c-422b-4785-9dc2-d7bf8406c14c",
      "metadata": {},
      "outputs": [],
      "source": [
        "#Latihan 3\n",
        "# Expected number won with 30% win rate\n",
        "won_30pct <- 3 * 0.3\n",
        "won_30pct\n",
        "\n",
        "# Expected number won with 25% win rate\n",
        "won_25pct <- 3 * 0.25\n",
        "won_25pct\n",
        "\n",
        "# Expected number won with 35% win rate\n",
        "won_35pct <- 3 * 0.35\n",
        "won_35pct"
      ]
    }
  ],
  "metadata": {
    "kernelspec": {
      "display_name": "Pyolite",
      "language": "python",
      "name": "python"
    },
    "language_info": {
      "codemirror_mode": {
        "name": "python",
        "version": 3
      },
      "file_extension": ".py",
      "mimetype": "text/x-python",
      "name": "python",
      "nbconvert_exporter": "python",
      "pygments_lexer": "ipython3",
      "version": "3.8"
    }
  },
  "nbformat": 4,
  "nbformat_minor": 5
}
